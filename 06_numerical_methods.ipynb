{
 "cells": [
  {
   "cell_type": "markdown",
   "metadata": {},
   "source": [
    "# Определение стоимости автомобилей"
   ]
  },
  {
   "cell_type": "markdown",
   "metadata": {},
   "source": [
    "Сервис по продаже автомобилей с пробегом «Не бит, не крашен» разрабатывает приложение для привлечения новых клиентов. В нём можно быстро узнать рыночную стоимость своего автомобиля. В вашем распоряжении исторические данные: технические характеристики, комплектации и цены автомобилей. Вам нужно построить модель для определения стоимости. \n",
    "\n",
    "Заказчику важны:\n",
    "\n",
    "- качество предсказания;\n",
    "- скорость предсказания;\n",
    "- время обучения."
   ]
  },
  {
   "cell_type": "markdown",
   "metadata": {},
   "source": [
    "**Признаки** \\\n",
    "DateCrawled — дата скачивания анкеты из базы\\\n",
    "VehicleType — тип автомобильного кузова\\\n",
    "RegistrationYear — год регистрации автомобиля\\\n",
    "Gearbox — тип коробки передач\\\n",
    "Power — мощность (л. с.)\\\n",
    "Model — модель автомобиля\\\n",
    "Kilometer — пробег (км)\\\n",
    "RegistrationMonth — месяц регистрации автомобиля\\\n",
    "FuelType — тип топлива\\\n",
    "Brand — марка автомобиля\\\n",
    "Repaired — была машина в ремонте или нет\\\n",
    "DateCreated — дата создания анкеты\\\n",
    "NumberOfPictures — количество фотографий автомобиля\\\n",
    "PostalCode — почтовый индекс владельца анкеты (пользователя)\\\n",
    "LastSeen — дата последней активности пользователя\n",
    "\n",
    "**Целевой признак** \\\n",
    "Price — цена (евро)"
   ]
  },
  {
   "cell_type": "markdown",
   "metadata": {},
   "source": [
    "## План\n",
    "* Подготовка данных\n",
    "* Обучение моделей CatBoostRegressor, LGBRegressor, LinearRegression\n",
    "* Анализ времени обучения, времени предсказания и качества моделей\n",
    "* Проверка лучшей модели на тестовой выборке\n",
    "* Вывод"
   ]
  },
  {
   "cell_type": "markdown",
   "metadata": {},
   "source": [
    "## Подготовка данных"
   ]
  },
  {
   "cell_type": "code",
   "execution_count": 1,
   "metadata": {},
   "outputs": [
    {
     "name": "stdout",
     "output_type": "stream",
     "text": [
      "Collecting optuna\n",
      "  Downloading optuna-3.0.3-py3-none-any.whl (348 kB)\n",
      "\u001b[K     |████████████████████████████████| 348 kB 1.1 MB/s eta 0:00:01\n",
      "\u001b[?25hCollecting colorlog\n",
      "  Downloading colorlog-6.7.0-py2.py3-none-any.whl (11 kB)\n",
      "Requirement already satisfied: importlib-metadata<5.0.0 in /opt/conda/lib/python3.9/site-packages (from optuna) (4.6.1)\n",
      "Collecting cmaes>=0.8.2\n",
      "  Downloading cmaes-0.9.0-py3-none-any.whl (23 kB)\n",
      "Requirement already satisfied: alembic>=1.5.0 in /opt/conda/lib/python3.9/site-packages (from optuna) (1.6.5)\n",
      "Requirement already satisfied: numpy in /opt/conda/lib/python3.9/site-packages (from optuna) (1.21.1)\n",
      "Requirement already satisfied: sqlalchemy>=1.3.0 in /opt/conda/lib/python3.9/site-packages (from optuna) (1.4.20)\n",
      "Collecting scipy<1.9.0,>=1.7.0\n",
      "  Downloading scipy-1.8.1-cp39-cp39-manylinux_2_17_x86_64.manylinux2014_x86_64.whl (42.2 MB)\n",
      "\u001b[K     |████████████████████████████████| 42.2 MB 28 kB/s s eta 0:00:01\n",
      "\u001b[?25hRequirement already satisfied: PyYAML in /opt/conda/lib/python3.9/site-packages (from optuna) (6.0)\n",
      "Requirement already satisfied: packaging>=20.0 in /opt/conda/lib/python3.9/site-packages (from optuna) (21.3)\n",
      "Requirement already satisfied: tqdm in /opt/conda/lib/python3.9/site-packages (from optuna) (4.61.2)\n",
      "Collecting cliff\n",
      "  Downloading cliff-4.1.0-py3-none-any.whl (81 kB)\n",
      "\u001b[K     |████████████████████████████████| 81 kB 6.4 MB/s  eta 0:00:01\n",
      "\u001b[?25hRequirement already satisfied: python-dateutil in /opt/conda/lib/python3.9/site-packages (from alembic>=1.5.0->optuna) (2.8.1)\n",
      "Requirement already satisfied: python-editor>=0.3 in /opt/conda/lib/python3.9/site-packages (from alembic>=1.5.0->optuna) (1.0.4)\n",
      "Requirement already satisfied: Mako in /opt/conda/lib/python3.9/site-packages (from alembic>=1.5.0->optuna) (1.1.4)\n",
      "Requirement already satisfied: zipp>=0.5 in /opt/conda/lib/python3.9/site-packages (from importlib-metadata<5.0.0->optuna) (3.5.0)\n",
      "Requirement already satisfied: pyparsing!=3.0.5,>=2.0.2 in /opt/conda/lib/python3.9/site-packages (from packaging>=20.0->optuna) (2.4.7)\n",
      "Requirement already satisfied: greenlet!=0.4.17 in /opt/conda/lib/python3.9/site-packages (from sqlalchemy>=1.3.0->optuna) (1.1.0)\n",
      "Collecting cmd2>=1.0.0\n",
      "  Downloading cmd2-2.4.2-py3-none-any.whl (147 kB)\n",
      "\u001b[K     |████████████████████████████████| 147 kB 86.8 MB/s eta 0:00:01\n",
      "\u001b[?25hCollecting autopage>=0.4.0\n",
      "  Downloading autopage-0.5.1-py3-none-any.whl (29 kB)\n",
      "Collecting stevedore>=2.0.1\n",
      "  Downloading stevedore-4.1.1-py3-none-any.whl (50 kB)\n",
      "\u001b[K     |████████████████████████████████| 50 kB 7.8 MB/s  eta 0:00:01\n",
      "\u001b[?25hCollecting PrettyTable>=0.7.2\n",
      "  Downloading prettytable-3.5.0-py3-none-any.whl (26 kB)\n",
      "Requirement already satisfied: wcwidth>=0.1.7 in /opt/conda/lib/python3.9/site-packages (from cmd2>=1.0.0->cliff->optuna) (0.2.5)\n",
      "Requirement already satisfied: attrs>=16.3.0 in /opt/conda/lib/python3.9/site-packages (from cmd2>=1.0.0->cliff->optuna) (21.2.0)\n",
      "Collecting pyperclip>=1.6\n",
      "  Downloading pyperclip-1.8.2.tar.gz (20 kB)\n",
      "Collecting pbr!=2.1.0,>=2.0.0\n",
      "  Downloading pbr-5.11.0-py2.py3-none-any.whl (112 kB)\n",
      "\u001b[K     |████████████████████████████████| 112 kB 94.6 MB/s eta 0:00:01\n",
      "\u001b[?25hRequirement already satisfied: MarkupSafe>=0.9.2 in /opt/conda/lib/python3.9/site-packages (from Mako->alembic>=1.5.0->optuna) (2.1.1)\n",
      "Requirement already satisfied: six>=1.5 in /opt/conda/lib/python3.9/site-packages (from python-dateutil->alembic>=1.5.0->optuna) (1.16.0)\n",
      "Building wheels for collected packages: pyperclip\n",
      "  Building wheel for pyperclip (setup.py) ... \u001b[?25ldone\n",
      "\u001b[?25h  Created wheel for pyperclip: filename=pyperclip-1.8.2-py3-none-any.whl size=11107 sha256=8066103c4729144038a0da13da80c8f9237ea676d3c85f20c5e1fd6d79083905\n",
      "  Stored in directory: /home/jovyan/.cache/pip/wheels/0c/09/9e/49e21a6840ef7955b06d47394afef0058f0378c0914e48b8b8\n",
      "Successfully built pyperclip\n",
      "Installing collected packages: pyperclip, pbr, stevedore, PrettyTable, cmd2, autopage, scipy, colorlog, cmaes, cliff, optuna\n",
      "  Attempting uninstall: scipy\n",
      "    Found existing installation: scipy 1.9.1\n",
      "    Uninstalling scipy-1.9.1:\n",
      "      Successfully uninstalled scipy-1.9.1\n",
      "Successfully installed PrettyTable-3.5.0 autopage-0.5.1 cliff-4.1.0 cmaes-0.9.0 cmd2-2.4.2 colorlog-6.7.0 optuna-3.0.3 pbr-5.11.0 pyperclip-1.8.2 scipy-1.8.1 stevedore-4.1.1\n"
     ]
    }
   ],
   "source": [
    "import datetime\n",
    "import pandas as pd\n",
    "import seaborn as sns\n",
    "import numpy as np\n",
    "import pickle\n",
    "import joblib\n",
    "!pip install optuna \n",
    "import optuna\n",
    "import lightgbm as lgb\n",
    "from sklearn.linear_model import LinearRegression\n",
    "from sklearn.model_selection import train_test_split\n",
    "from sklearn.metrics import mean_squared_error\n",
    "from catboost import CatBoostRegressor"
   ]
  },
  {
   "cell_type": "code",
   "execution_count": 2,
   "metadata": {},
   "outputs": [],
   "source": [
    "df = pd.read_csv('/datasets/autos.csv')"
   ]
  },
  {
   "cell_type": "code",
   "execution_count": 3,
   "metadata": {},
   "outputs": [
    {
     "data": {
      "text/html": [
       "<div>\n",
       "<style scoped>\n",
       "    .dataframe tbody tr th:only-of-type {\n",
       "        vertical-align: middle;\n",
       "    }\n",
       "\n",
       "    .dataframe tbody tr th {\n",
       "        vertical-align: top;\n",
       "    }\n",
       "\n",
       "    .dataframe thead th {\n",
       "        text-align: right;\n",
       "    }\n",
       "</style>\n",
       "<table border=\"1\" class=\"dataframe\">\n",
       "  <thead>\n",
       "    <tr style=\"text-align: right;\">\n",
       "      <th></th>\n",
       "      <th>DateCrawled</th>\n",
       "      <th>Price</th>\n",
       "      <th>VehicleType</th>\n",
       "      <th>RegistrationYear</th>\n",
       "      <th>Gearbox</th>\n",
       "      <th>Power</th>\n",
       "      <th>Model</th>\n",
       "      <th>Kilometer</th>\n",
       "      <th>RegistrationMonth</th>\n",
       "      <th>FuelType</th>\n",
       "      <th>Brand</th>\n",
       "      <th>Repaired</th>\n",
       "      <th>DateCreated</th>\n",
       "      <th>NumberOfPictures</th>\n",
       "      <th>PostalCode</th>\n",
       "      <th>LastSeen</th>\n",
       "    </tr>\n",
       "  </thead>\n",
       "  <tbody>\n",
       "    <tr>\n",
       "      <th>0</th>\n",
       "      <td>2016-03-24 11:52:17</td>\n",
       "      <td>480</td>\n",
       "      <td>NaN</td>\n",
       "      <td>1993</td>\n",
       "      <td>manual</td>\n",
       "      <td>0</td>\n",
       "      <td>golf</td>\n",
       "      <td>150000</td>\n",
       "      <td>0</td>\n",
       "      <td>petrol</td>\n",
       "      <td>volkswagen</td>\n",
       "      <td>NaN</td>\n",
       "      <td>2016-03-24 00:00:00</td>\n",
       "      <td>0</td>\n",
       "      <td>70435</td>\n",
       "      <td>2016-04-07 03:16:57</td>\n",
       "    </tr>\n",
       "    <tr>\n",
       "      <th>1</th>\n",
       "      <td>2016-03-24 10:58:45</td>\n",
       "      <td>18300</td>\n",
       "      <td>coupe</td>\n",
       "      <td>2011</td>\n",
       "      <td>manual</td>\n",
       "      <td>190</td>\n",
       "      <td>NaN</td>\n",
       "      <td>125000</td>\n",
       "      <td>5</td>\n",
       "      <td>gasoline</td>\n",
       "      <td>audi</td>\n",
       "      <td>yes</td>\n",
       "      <td>2016-03-24 00:00:00</td>\n",
       "      <td>0</td>\n",
       "      <td>66954</td>\n",
       "      <td>2016-04-07 01:46:50</td>\n",
       "    </tr>\n",
       "    <tr>\n",
       "      <th>2</th>\n",
       "      <td>2016-03-14 12:52:21</td>\n",
       "      <td>9800</td>\n",
       "      <td>suv</td>\n",
       "      <td>2004</td>\n",
       "      <td>auto</td>\n",
       "      <td>163</td>\n",
       "      <td>grand</td>\n",
       "      <td>125000</td>\n",
       "      <td>8</td>\n",
       "      <td>gasoline</td>\n",
       "      <td>jeep</td>\n",
       "      <td>NaN</td>\n",
       "      <td>2016-03-14 00:00:00</td>\n",
       "      <td>0</td>\n",
       "      <td>90480</td>\n",
       "      <td>2016-04-05 12:47:46</td>\n",
       "    </tr>\n",
       "    <tr>\n",
       "      <th>3</th>\n",
       "      <td>2016-03-17 16:54:04</td>\n",
       "      <td>1500</td>\n",
       "      <td>small</td>\n",
       "      <td>2001</td>\n",
       "      <td>manual</td>\n",
       "      <td>75</td>\n",
       "      <td>golf</td>\n",
       "      <td>150000</td>\n",
       "      <td>6</td>\n",
       "      <td>petrol</td>\n",
       "      <td>volkswagen</td>\n",
       "      <td>no</td>\n",
       "      <td>2016-03-17 00:00:00</td>\n",
       "      <td>0</td>\n",
       "      <td>91074</td>\n",
       "      <td>2016-03-17 17:40:17</td>\n",
       "    </tr>\n",
       "    <tr>\n",
       "      <th>4</th>\n",
       "      <td>2016-03-31 17:25:20</td>\n",
       "      <td>3600</td>\n",
       "      <td>small</td>\n",
       "      <td>2008</td>\n",
       "      <td>manual</td>\n",
       "      <td>69</td>\n",
       "      <td>fabia</td>\n",
       "      <td>90000</td>\n",
       "      <td>7</td>\n",
       "      <td>gasoline</td>\n",
       "      <td>skoda</td>\n",
       "      <td>no</td>\n",
       "      <td>2016-03-31 00:00:00</td>\n",
       "      <td>0</td>\n",
       "      <td>60437</td>\n",
       "      <td>2016-04-06 10:17:21</td>\n",
       "    </tr>\n",
       "  </tbody>\n",
       "</table>\n",
       "</div>"
      ],
      "text/plain": [
       "           DateCrawled  Price VehicleType  RegistrationYear Gearbox  Power  \\\n",
       "0  2016-03-24 11:52:17    480         NaN              1993  manual      0   \n",
       "1  2016-03-24 10:58:45  18300       coupe              2011  manual    190   \n",
       "2  2016-03-14 12:52:21   9800         suv              2004    auto    163   \n",
       "3  2016-03-17 16:54:04   1500       small              2001  manual     75   \n",
       "4  2016-03-31 17:25:20   3600       small              2008  manual     69   \n",
       "\n",
       "   Model  Kilometer  RegistrationMonth  FuelType       Brand Repaired  \\\n",
       "0   golf     150000                  0    petrol  volkswagen      NaN   \n",
       "1    NaN     125000                  5  gasoline        audi      yes   \n",
       "2  grand     125000                  8  gasoline        jeep      NaN   \n",
       "3   golf     150000                  6    petrol  volkswagen       no   \n",
       "4  fabia      90000                  7  gasoline       skoda       no   \n",
       "\n",
       "           DateCreated  NumberOfPictures  PostalCode             LastSeen  \n",
       "0  2016-03-24 00:00:00                 0       70435  2016-04-07 03:16:57  \n",
       "1  2016-03-24 00:00:00                 0       66954  2016-04-07 01:46:50  \n",
       "2  2016-03-14 00:00:00                 0       90480  2016-04-05 12:47:46  \n",
       "3  2016-03-17 00:00:00                 0       91074  2016-03-17 17:40:17  \n",
       "4  2016-03-31 00:00:00                 0       60437  2016-04-06 10:17:21  "
      ]
     },
     "execution_count": 3,
     "metadata": {},
     "output_type": "execute_result"
    }
   ],
   "source": [
    "df.head()"
   ]
  },
  {
   "cell_type": "code",
   "execution_count": 4,
   "metadata": {},
   "outputs": [
    {
     "name": "stdout",
     "output_type": "stream",
     "text": [
      "<class 'pandas.core.frame.DataFrame'>\n",
      "RangeIndex: 354369 entries, 0 to 354368\n",
      "Data columns (total 16 columns):\n",
      " #   Column             Non-Null Count   Dtype \n",
      "---  ------             --------------   ----- \n",
      " 0   DateCrawled        354369 non-null  object\n",
      " 1   Price              354369 non-null  int64 \n",
      " 2   VehicleType        316879 non-null  object\n",
      " 3   RegistrationYear   354369 non-null  int64 \n",
      " 4   Gearbox            334536 non-null  object\n",
      " 5   Power              354369 non-null  int64 \n",
      " 6   Model              334664 non-null  object\n",
      " 7   Kilometer          354369 non-null  int64 \n",
      " 8   RegistrationMonth  354369 non-null  int64 \n",
      " 9   FuelType           321474 non-null  object\n",
      " 10  Brand              354369 non-null  object\n",
      " 11  Repaired           283215 non-null  object\n",
      " 12  DateCreated        354369 non-null  object\n",
      " 13  NumberOfPictures   354369 non-null  int64 \n",
      " 14  PostalCode         354369 non-null  int64 \n",
      " 15  LastSeen           354369 non-null  object\n",
      "dtypes: int64(7), object(9)\n",
      "memory usage: 43.3+ MB\n"
     ]
    }
   ],
   "source": [
    "df.info()"
   ]
  },
  {
   "cell_type": "code",
   "execution_count": 5,
   "metadata": {},
   "outputs": [
    {
     "data": {
      "text/html": [
       "<div>\n",
       "<style scoped>\n",
       "    .dataframe tbody tr th:only-of-type {\n",
       "        vertical-align: middle;\n",
       "    }\n",
       "\n",
       "    .dataframe tbody tr th {\n",
       "        vertical-align: top;\n",
       "    }\n",
       "\n",
       "    .dataframe thead th {\n",
       "        text-align: right;\n",
       "    }\n",
       "</style>\n",
       "<table border=\"1\" class=\"dataframe\">\n",
       "  <thead>\n",
       "    <tr style=\"text-align: right;\">\n",
       "      <th></th>\n",
       "      <th>Price</th>\n",
       "      <th>RegistrationYear</th>\n",
       "      <th>Power</th>\n",
       "      <th>Kilometer</th>\n",
       "      <th>RegistrationMonth</th>\n",
       "      <th>NumberOfPictures</th>\n",
       "      <th>PostalCode</th>\n",
       "    </tr>\n",
       "  </thead>\n",
       "  <tbody>\n",
       "    <tr>\n",
       "      <th>count</th>\n",
       "      <td>354369.000000</td>\n",
       "      <td>354369.000000</td>\n",
       "      <td>354369.000000</td>\n",
       "      <td>354369.000000</td>\n",
       "      <td>354369.000000</td>\n",
       "      <td>354369.0</td>\n",
       "      <td>354369.000000</td>\n",
       "    </tr>\n",
       "    <tr>\n",
       "      <th>mean</th>\n",
       "      <td>4416.656776</td>\n",
       "      <td>2004.234448</td>\n",
       "      <td>110.094337</td>\n",
       "      <td>128211.172535</td>\n",
       "      <td>5.714645</td>\n",
       "      <td>0.0</td>\n",
       "      <td>50508.689087</td>\n",
       "    </tr>\n",
       "    <tr>\n",
       "      <th>std</th>\n",
       "      <td>4514.158514</td>\n",
       "      <td>90.227958</td>\n",
       "      <td>189.850405</td>\n",
       "      <td>37905.341530</td>\n",
       "      <td>3.726421</td>\n",
       "      <td>0.0</td>\n",
       "      <td>25783.096248</td>\n",
       "    </tr>\n",
       "    <tr>\n",
       "      <th>min</th>\n",
       "      <td>0.000000</td>\n",
       "      <td>1000.000000</td>\n",
       "      <td>0.000000</td>\n",
       "      <td>5000.000000</td>\n",
       "      <td>0.000000</td>\n",
       "      <td>0.0</td>\n",
       "      <td>1067.000000</td>\n",
       "    </tr>\n",
       "    <tr>\n",
       "      <th>25%</th>\n",
       "      <td>1050.000000</td>\n",
       "      <td>1999.000000</td>\n",
       "      <td>69.000000</td>\n",
       "      <td>125000.000000</td>\n",
       "      <td>3.000000</td>\n",
       "      <td>0.0</td>\n",
       "      <td>30165.000000</td>\n",
       "    </tr>\n",
       "    <tr>\n",
       "      <th>50%</th>\n",
       "      <td>2700.000000</td>\n",
       "      <td>2003.000000</td>\n",
       "      <td>105.000000</td>\n",
       "      <td>150000.000000</td>\n",
       "      <td>6.000000</td>\n",
       "      <td>0.0</td>\n",
       "      <td>49413.000000</td>\n",
       "    </tr>\n",
       "    <tr>\n",
       "      <th>75%</th>\n",
       "      <td>6400.000000</td>\n",
       "      <td>2008.000000</td>\n",
       "      <td>143.000000</td>\n",
       "      <td>150000.000000</td>\n",
       "      <td>9.000000</td>\n",
       "      <td>0.0</td>\n",
       "      <td>71083.000000</td>\n",
       "    </tr>\n",
       "    <tr>\n",
       "      <th>max</th>\n",
       "      <td>20000.000000</td>\n",
       "      <td>9999.000000</td>\n",
       "      <td>20000.000000</td>\n",
       "      <td>150000.000000</td>\n",
       "      <td>12.000000</td>\n",
       "      <td>0.0</td>\n",
       "      <td>99998.000000</td>\n",
       "    </tr>\n",
       "  </tbody>\n",
       "</table>\n",
       "</div>"
      ],
      "text/plain": [
       "               Price  RegistrationYear          Power      Kilometer  \\\n",
       "count  354369.000000     354369.000000  354369.000000  354369.000000   \n",
       "mean     4416.656776       2004.234448     110.094337  128211.172535   \n",
       "std      4514.158514         90.227958     189.850405   37905.341530   \n",
       "min         0.000000       1000.000000       0.000000    5000.000000   \n",
       "25%      1050.000000       1999.000000      69.000000  125000.000000   \n",
       "50%      2700.000000       2003.000000     105.000000  150000.000000   \n",
       "75%      6400.000000       2008.000000     143.000000  150000.000000   \n",
       "max     20000.000000       9999.000000   20000.000000  150000.000000   \n",
       "\n",
       "       RegistrationMonth  NumberOfPictures     PostalCode  \n",
       "count      354369.000000          354369.0  354369.000000  \n",
       "mean            5.714645               0.0   50508.689087  \n",
       "std             3.726421               0.0   25783.096248  \n",
       "min             0.000000               0.0    1067.000000  \n",
       "25%             3.000000               0.0   30165.000000  \n",
       "50%             6.000000               0.0   49413.000000  \n",
       "75%             9.000000               0.0   71083.000000  \n",
       "max            12.000000               0.0   99998.000000  "
      ]
     },
     "execution_count": 5,
     "metadata": {},
     "output_type": "execute_result"
    }
   ],
   "source": [
    "df.describe()"
   ]
  },
  {
   "cell_type": "code",
   "execution_count": 6,
   "metadata": {},
   "outputs": [
    {
     "data": {
      "text/plain": [
       "4"
      ]
     },
     "execution_count": 6,
     "metadata": {},
     "output_type": "execute_result"
    }
   ],
   "source": [
    "df.duplicated().sum()"
   ]
  },
  {
   "cell_type": "code",
   "execution_count": 7,
   "metadata": {},
   "outputs": [],
   "source": [
    "df = df.drop_duplicates();"
   ]
  },
  {
   "cell_type": "code",
   "execution_count": 8,
   "metadata": {},
   "outputs": [
    {
     "data": {
      "text/plain": [
       "0"
      ]
     },
     "execution_count": 8,
     "metadata": {},
     "output_type": "execute_result"
    }
   ],
   "source": [
    "df.duplicated().sum()"
   ]
  },
  {
   "cell_type": "markdown",
   "metadata": {},
   "source": [
    "Удалили дубликаты"
   ]
  },
  {
   "cell_type": "markdown",
   "metadata": {},
   "source": [
    "<div class=\"alert alert-success\">\n",
    "<h2> Комментарий ревьюера <a class=\"tocSkip\"> </h2>\n",
    "\n",
    "<b>Все отлично!👍</b> \n",
    "    \n",
    " "
   ]
  },
  {
   "cell_type": "code",
   "execution_count": 9,
   "metadata": {},
   "outputs": [
    {
     "data": {
      "image/png": "[encoded data removed]",
      "text/plain": [
       "<Figure size 1080x1440 with 9 Axes>"
      ]
     },
     "metadata": {
      "needs_background": "light"
     },
     "output_type": "display_data"
    }
   ],
   "source": [
    "df.hist(figsize=(15, 20));"
   ]
  },
  {
   "cell_type": "code",
   "execution_count": 10,
   "metadata": {},
   "outputs": [
    {
     "data": {
      "text/html": [
       "<style  type=\"text/css\" >\n",
       "#T_2740f_row0_col0{\n",
       "            background-color:  #b40426;\n",
       "            color:  #f1f1f1;\n",
       "        }#T_2740f_row1_col0{\n",
       "            background-color:  #e3d9d3;\n",
       "            color:  #000000;\n",
       "        }#T_2740f_row2_col0{\n",
       "            background-color:  #d3dbe7;\n",
       "            color:  #000000;\n",
       "        }#T_2740f_row3_col0{\n",
       "            background-color:  #97b8ff;\n",
       "            color:  #000000;\n",
       "        }#T_2740f_row4_col0{\n",
       "            background-color:  #96b7ff;\n",
       "            color:  #000000;\n",
       "        }#T_2740f_row5_col0,#T_2740f_row6_col0,#T_2740f_row7_col0,#T_2740f_row8_col0,#T_2740f_row9_col0,#T_2740f_row10_col0,#T_2740f_row11_col0,#T_2740f_row12_col0,#T_2740f_row13_col0,#T_2740f_row14_col0,#T_2740f_row15_col0{\n",
       "            background-color:  #3b4cc0;\n",
       "            color:  #f1f1f1;\n",
       "        }</style><table id=\"T_2740f_\" ><thead>    <tr>        <th class=\"blank level0\" ></th>        <th class=\"col_heading level0 col0\" >percent_space</th>    </tr></thead><tbody>\n",
       "                <tr>\n",
       "                        <th id=\"T_2740f_level0_row0\" class=\"row_heading level0 row0\" >Repaired</th>\n",
       "                        <td id=\"T_2740f_row0_col0\" class=\"data row0 col0\" >20.1</td>\n",
       "            </tr>\n",
       "            <tr>\n",
       "                        <th id=\"T_2740f_level0_row1\" class=\"row_heading level0 row1\" >VehicleType</th>\n",
       "                        <td id=\"T_2740f_row1_col0\" class=\"data row1 col0\" >10.6</td>\n",
       "            </tr>\n",
       "            <tr>\n",
       "                        <th id=\"T_2740f_level0_row2\" class=\"row_heading level0 row2\" >FuelType</th>\n",
       "                        <td id=\"T_2740f_row2_col0\" class=\"data row2 col0\" >9.3</td>\n",
       "            </tr>\n",
       "            <tr>\n",
       "                        <th id=\"T_2740f_level0_row3\" class=\"row_heading level0 row3\" >Gearbox</th>\n",
       "                        <td id=\"T_2740f_row3_col0\" class=\"data row3 col0\" >5.6</td>\n",
       "            </tr>\n",
       "            <tr>\n",
       "                        <th id=\"T_2740f_level0_row4\" class=\"row_heading level0 row4\" >Model</th>\n",
       "                        <td id=\"T_2740f_row4_col0\" class=\"data row4 col0\" >5.6</td>\n",
       "            </tr>\n",
       "            <tr>\n",
       "                        <th id=\"T_2740f_level0_row5\" class=\"row_heading level0 row5\" >DateCrawled</th>\n",
       "                        <td id=\"T_2740f_row5_col0\" class=\"data row5 col0\" >0.0</td>\n",
       "            </tr>\n",
       "            <tr>\n",
       "                        <th id=\"T_2740f_level0_row6\" class=\"row_heading level0 row6\" >Price</th>\n",
       "                        <td id=\"T_2740f_row6_col0\" class=\"data row6 col0\" >0.0</td>\n",
       "            </tr>\n",
       "            <tr>\n",
       "                        <th id=\"T_2740f_level0_row7\" class=\"row_heading level0 row7\" >RegistrationYear</th>\n",
       "                        <td id=\"T_2740f_row7_col0\" class=\"data row7 col0\" >0.0</td>\n",
       "            </tr>\n",
       "            <tr>\n",
       "                        <th id=\"T_2740f_level0_row8\" class=\"row_heading level0 row8\" >Power</th>\n",
       "                        <td id=\"T_2740f_row8_col0\" class=\"data row8 col0\" >0.0</td>\n",
       "            </tr>\n",
       "            <tr>\n",
       "                        <th id=\"T_2740f_level0_row9\" class=\"row_heading level0 row9\" >Kilometer</th>\n",
       "                        <td id=\"T_2740f_row9_col0\" class=\"data row9 col0\" >0.0</td>\n",
       "            </tr>\n",
       "            <tr>\n",
       "                        <th id=\"T_2740f_level0_row10\" class=\"row_heading level0 row10\" >RegistrationMonth</th>\n",
       "                        <td id=\"T_2740f_row10_col0\" class=\"data row10 col0\" >0.0</td>\n",
       "            </tr>\n",
       "            <tr>\n",
       "                        <th id=\"T_2740f_level0_row11\" class=\"row_heading level0 row11\" >Brand</th>\n",
       "                        <td id=\"T_2740f_row11_col0\" class=\"data row11 col0\" >0.0</td>\n",
       "            </tr>\n",
       "            <tr>\n",
       "                        <th id=\"T_2740f_level0_row12\" class=\"row_heading level0 row12\" >DateCreated</th>\n",
       "                        <td id=\"T_2740f_row12_col0\" class=\"data row12 col0\" >0.0</td>\n",
       "            </tr>\n",
       "            <tr>\n",
       "                        <th id=\"T_2740f_level0_row13\" class=\"row_heading level0 row13\" >NumberOfPictures</th>\n",
       "                        <td id=\"T_2740f_row13_col0\" class=\"data row13 col0\" >0.0</td>\n",
       "            </tr>\n",
       "            <tr>\n",
       "                        <th id=\"T_2740f_level0_row14\" class=\"row_heading level0 row14\" >PostalCode</th>\n",
       "                        <td id=\"T_2740f_row14_col0\" class=\"data row14 col0\" >0.0</td>\n",
       "            </tr>\n",
       "            <tr>\n",
       "                        <th id=\"T_2740f_level0_row15\" class=\"row_heading level0 row15\" >LastSeen</th>\n",
       "                        <td id=\"T_2740f_row15_col0\" class=\"data row15 col0\" >0.0</td>\n",
       "            </tr>\n",
       "    </tbody></table>"
      ],
      "text/plain": [
       "<pandas.io.formats.style.Styler at 0x7fc84ed1d4f0>"
      ]
     },
     "execution_count": 10,
     "metadata": {},
     "output_type": "execute_result"
    }
   ],
   "source": [
    "#Посчитаем количество пустых значений\n",
    "(\n",
    "    (df.isna().mean()*100)\n",
    "    .sort_values(ascending=False)\n",
    "    .to_frame()\n",
    "    .rename(columns = {0:'percent_space'})\n",
    "    .style.background_gradient('coolwarm').format(\"{:.1f}\")\n",
    ")"
   ]
  },
  {
   "cell_type": "markdown",
   "metadata": {},
   "source": [
    "**Предобработка данных:**\n",
    "* Минимальное значение цены начинается с 0, такого было не может, и поскольку, это целевой признак - данные необходимо удалить\n",
    "* Год регистрации также указан не верно (минимальный 1000, максимальный - 9999)\n",
    "* В месяце регистрации есть значение 0\n",
    "* Ни в одном объявлении нет фотографий (этот столбец удалим)\n",
    "* Минимальное кол-во лошадиных сил - 0 (машина спросто стоит?:)), максиальное - 2000 (такого не может быть)\n",
    "* Почтовый адрес владельца анкеты нам не нужен, также удалим"
   ]
  },
  {
   "cell_type": "code",
   "execution_count": 11,
   "metadata": {},
   "outputs": [
    {
     "data": {
      "text/plain": [
       "0        10772\n",
       "500       5670\n",
       "1500      5394\n",
       "1000      4648\n",
       "1200      4594\n",
       "         ...  \n",
       "13180        1\n",
       "10879        1\n",
       "2683         1\n",
       "634          1\n",
       "8188         1\n",
       "Name: Price, Length: 3731, dtype: int64"
      ]
     },
     "execution_count": 11,
     "metadata": {},
     "output_type": "execute_result"
    }
   ],
   "source": [
    "df['Price'].value_counts()"
   ]
  },
  {
   "cell_type": "code",
   "execution_count": 12,
   "metadata": {},
   "outputs": [],
   "source": [
    "df_new = df.query('Price > 0')"
   ]
  },
  {
   "cell_type": "code",
   "execution_count": 13,
   "metadata": {},
   "outputs": [
    {
     "data": {
      "text/plain": [
       "count    343593.000000\n",
       "mean       4555.147363\n",
       "std        4515.076200\n",
       "min           1.000000\n",
       "25%        1200.000000\n",
       "50%        2890.000000\n",
       "75%        6500.000000\n",
       "max       20000.000000\n",
       "Name: Price, dtype: float64"
      ]
     },
     "execution_count": 13,
     "metadata": {},
     "output_type": "execute_result"
    },
    {
     "data": {
      "image/png": "[encoded data removed]",
      "text/plain": [
       "<Figure size 864x648 with 1 Axes>"
      ]
     },
     "metadata": {
      "needs_background": "light"
     },
     "output_type": "display_data"
    }
   ],
   "source": [
    "df_new['Price'].hist(bins=100, figsize=(12,9))\n",
    "df_new['Price'].describe()"
   ]
  },
  {
   "cell_type": "code",
   "execution_count": 14,
   "metadata": {},
   "outputs": [
    {
     "name": "stderr",
     "output_type": "stream",
     "text": [
      "/tmp/ipykernel_48/919843118.py:1: SettingWithCopyWarning: \n",
      "A value is trying to be set on a copy of a slice from a DataFrame.\n",
      "Try using .loc[row_indexer,col_indexer] = value instead\n",
      "\n",
      "See the caveats in the documentation: https://pandas.pydata.org/pandas-docs/stable/user_guide/indexing.html#returning-a-view-versus-a-copy\n",
      "  df_new['DateCrawled'] = pd.DatetimeIndex(df_new['DateCrawled']).year.astype('int64')\n"
     ]
    }
   ],
   "source": [
    "df_new['DateCrawled'] = pd.DatetimeIndex(df_new['DateCrawled']).year.astype('int64')"
   ]
  },
  {
   "cell_type": "code",
   "execution_count": 15,
   "metadata": {},
   "outputs": [
    {
     "name": "stdout",
     "output_type": "stream",
     "text": [
      "<class 'pandas.core.frame.DataFrame'>\n",
      "Int64Index: 343593 entries, 0 to 354368\n",
      "Data columns (total 16 columns):\n",
      " #   Column             Non-Null Count   Dtype \n",
      "---  ------             --------------   ----- \n",
      " 0   DateCrawled        343593 non-null  int64 \n",
      " 1   Price              343593 non-null  int64 \n",
      " 2   VehicleType        309843 non-null  object\n",
      " 3   RegistrationYear   343593 non-null  int64 \n",
      " 4   Gearbox            326238 non-null  object\n",
      " 5   Power              343593 non-null  int64 \n",
      " 6   Model              326072 non-null  object\n",
      " 7   Kilometer          343593 non-null  int64 \n",
      " 8   RegistrationMonth  343593 non-null  int64 \n",
      " 9   FuelType           314134 non-null  object\n",
      " 10  Brand              343593 non-null  object\n",
      " 11  Repaired           277727 non-null  object\n",
      " 12  DateCreated        343593 non-null  object\n",
      " 13  NumberOfPictures   343593 non-null  int64 \n",
      " 14  PostalCode         343593 non-null  int64 \n",
      " 15  LastSeen           343593 non-null  object\n",
      "dtypes: int64(8), object(8)\n",
      "memory usage: 44.6+ MB\n"
     ]
    }
   ],
   "source": [
    "df_new.info()"
   ]
  },
  {
   "cell_type": "code",
   "execution_count": 16,
   "metadata": {},
   "outputs": [],
   "source": [
    "df_new = df_new.loc[(df_new['RegistrationYear']>=1950) & (df_new['RegistrationYear']<=df_new['DateCrawled'])]"
   ]
  },
  {
   "cell_type": "code",
   "execution_count": 17,
   "metadata": {},
   "outputs": [
    {
     "data": {
      "text/plain": [
       "array([1950, 1951, 1952, 1953, 1954, 1955, 1956, 1957, 1958, 1959, 1960,\n",
       "       1961, 1962, 1963, 1964, 1965, 1966, 1967, 1968, 1969, 1970, 1971,\n",
       "       1972, 1973, 1974, 1975, 1976, 1977, 1978, 1979, 1980, 1981, 1982,\n",
       "       1983, 1984, 1985, 1986, 1987, 1988, 1989, 1990, 1991, 1992, 1993,\n",
       "       1994, 1995, 1996, 1997, 1998, 1999, 2000, 2001, 2002, 2003, 2004,\n",
       "       2005, 2006, 2007, 2008, 2009, 2010, 2011, 2012, 2013, 2014, 2015,\n",
       "       2016])"
      ]
     },
     "execution_count": 17,
     "metadata": {},
     "output_type": "execute_result"
    }
   ],
   "source": [
    "df_new['RegistrationYear'].sort_values().unique() #"
   ]
  },
  {
   "cell_type": "code",
   "execution_count": 18,
   "metadata": {},
   "outputs": [
    {
     "name": "stdout",
     "output_type": "stream",
     "text": [
      "<class 'pandas.core.frame.DataFrame'>\n",
      "Int64Index: 329635 entries, 0 to 354368\n",
      "Data columns (total 10 columns):\n",
      " #   Column            Non-Null Count   Dtype \n",
      "---  ------            --------------   ----- \n",
      " 0   Price             329635 non-null  int64 \n",
      " 1   VehicleType       309738 non-null  object\n",
      " 2   RegistrationYear  329635 non-null  int64 \n",
      " 3   Gearbox           314090 non-null  object\n",
      " 4   Power             329635 non-null  int64 \n",
      " 5   Model             314053 non-null  object\n",
      " 6   Kilometer         329635 non-null  int64 \n",
      " 7   FuelType          305512 non-null  object\n",
      " 8   Brand             329635 non-null  object\n",
      " 9   Repaired          269827 non-null  object\n",
      "dtypes: int64(4), object(6)\n",
      "memory usage: 27.7+ MB\n"
     ]
    }
   ],
   "source": [
    "# Удалим лишние столбцы\n",
    "df_new=df_new.drop(['DateCrawled','DateCreated', 'RegistrationMonth', 'NumberOfPictures', 'PostalCode', 'LastSeen'], axis=1)\n",
    "df_new.info()"
   ]
  },
  {
   "cell_type": "code",
   "execution_count": 19,
   "metadata": {},
   "outputs": [
    {
     "data": {
      "text/plain": [
       "array(['alfa_romeo', 'audi', 'bmw', 'chevrolet', 'chrysler', 'citroen',\n",
       "       'dacia', 'daewoo', 'daihatsu', 'fiat', 'ford', 'honda', 'hyundai',\n",
       "       'jaguar', 'jeep', 'kia', 'lada', 'lancia', 'land_rover', 'mazda',\n",
       "       'mercedes_benz', 'mini', 'mitsubishi', 'nissan', 'opel', 'peugeot',\n",
       "       'porsche', 'renault', 'rover', 'saab', 'seat', 'skoda', 'smart',\n",
       "       'sonstige_autos', 'subaru', 'suzuki', 'toyota', 'trabant',\n",
       "       'volkswagen', 'volvo'], dtype=object)"
      ]
     },
     "execution_count": 19,
     "metadata": {},
     "output_type": "execute_result"
    }
   ],
   "source": [
    "df_new['Brand'].sort_values().unique() #Дубликатов бренда не найдено"
   ]
  },
  {
   "cell_type": "code",
   "execution_count": 20,
   "metadata": {},
   "outputs": [
    {
     "data": {
      "text/plain": [
       "array([    0,     1,     2,     3,     4,     5,     6,     7,     8,\n",
       "           9,    10,    11,    12,    13,    14,    15,    16,    17,\n",
       "          18,    19,    20,    21,    22,    23,    24,    25,    26,\n",
       "          27,    28,    29,    30,    31,    32,    33,    34,    35,\n",
       "          36,    37,    38,    39,    40,    41,    42,    43,    44,\n",
       "          45,    46,    47,    48,    49,    50,    51,    52,    53,\n",
       "          54,    55,    56,    57,    58,    59,    60,    61,    62,\n",
       "          63,    64,    65,    66,    67,    68,    69,    70,    71,\n",
       "          72,    73,    74,    75,    76,    77,    78,    79,    80,\n",
       "          81,    82,    83,    84,    85,    86,    87,    88,    89,\n",
       "          90,    91,    92,    93,    94,    95,    96,    97,    98,\n",
       "          99,   100,   101,   102,   103,   104,   105,   106,   107,\n",
       "         108,   109,   110,   111,   112,   113,   114,   115,   116,\n",
       "         117,   118,   119,   120,   121,   122,   123,   124,   125,\n",
       "         126,   127,   128,   129,   130,   131,   132,   133,   134,\n",
       "         135,   136,   137,   138,   139,   140,   141,   142,   143,\n",
       "         144,   145,   146,   147,   148,   149,   150,   151,   152,\n",
       "         153,   154,   155,   156,   157,   158,   159,   160,   161,\n",
       "         162,   163,   164,   165,   166,   167,   168,   169,   170,\n",
       "         171,   172,   173,   174,   175,   176,   177,   178,   179,\n",
       "         180,   181,   182,   183,   184,   185,   186,   187,   188,\n",
       "         189,   190,   191,   192,   193,   194,   195,   196,   197,\n",
       "         198,   199,   200,   201,   202,   203,   204,   205,   206,\n",
       "         207,   208,   209,   210,   211,   212,   213,   214,   215,\n",
       "         216,   217,   218,   219,   220,   221,   222,   223,   224,\n",
       "         225,   226,   227,   228,   229,   230,   231,   232,   233,\n",
       "         234,   235,   236,   237,   238,   239,   240,   241,   242,\n",
       "         243,   244,   245,   246,   247,   248,   249,   250,   251,\n",
       "         252,   253,   254,   255,   256,   257,   258,   259,   260,\n",
       "         261,   262,   264,   265,   266,   267,   268,   269,   270,\n",
       "         271,   272,   273,   274,   275,   276,   277,   278,   279,\n",
       "         280,   281,   282,   283,   284,   285,   286,   287,   288,\n",
       "         289,   290,   292,   293,   294,   295,   296,   297,   298,\n",
       "         299,   300,   301,   303,   304,   305,   306,   307,   308,\n",
       "         309,   310,   311,   313,   314,   315,   316,   317,   318,\n",
       "         320,   321,   322,   323,   324,   325,   326,   328,   329,\n",
       "         330,   331,   332,   333,   334,   335,   336,   337,   338,\n",
       "         339,   340,   341,   343,   344,   345,   346,   347,   348,\n",
       "         349,   350,   351,   352,   353,   354,   355,   356,   357,\n",
       "         358,   360,   361,   362,   363,   364,   365,   367,   368,\n",
       "         370,   371,   374,   375,   376,   377,   379,   380,   381,\n",
       "         382,   385,   386,   387,   388,   390,   392,   394,   396,\n",
       "         398,   399,   400,   401,   405,   408,   409,   411,   416,\n",
       "         420,   421,   425,   426,   428,   430,   431,   435,   440,\n",
       "         442,   445,   449,   450,   454,   457,   459,   460,   475,\n",
       "         476,   487,   489,   490,   500,   504,   505,   507,   508,\n",
       "         510,   514,   515,   517,   519,   520,   521,   525,   540,\n",
       "         541,   544,   550,   551,   553,   560,   572,   574,   579,\n",
       "         580,   584,   585,   600,   601,   602,   603,   604,   606,\n",
       "         610,   612,   620,   640,   645,   650,   651,   671,   678,\n",
       "         682,   685,   696,   700,   702,   703,   732,   743,   750,\n",
       "         751,   754,   771,   776,   800,   805,   850,   851,   871,\n",
       "         900,   902,   903,   907,   909,   923,   950,   952,   953,\n",
       "         998,   999,  1000,  1001,  1002,  1003,  1004,  1005,  1011,\n",
       "        1012,  1016,  1017,  1021,  1024,  1054,  1055,  1056,  1062,\n",
       "        1079,  1082,  1090,  1100,  1103,  1105,  1115,  1120,  1149,\n",
       "        1151,  1158,  1160,  1162,  1164,  1199,  1200,  1202,  1221,\n",
       "        1223,  1230,  1239,  1240,  1241,  1250,  1256,  1275,  1288,\n",
       "        1299,  1300,  1312,  1317,  1324,  1339,  1360,  1362,  1363,\n",
       "        1367,  1390,  1398,  1399,  1400,  1401,  1403,  1405,  1416,\n",
       "        1432,  1433,  1436,  1500,  1501,  1502,  1503,  1506,  1521,\n",
       "        1548,  1595,  1596,  1597,  1598,  1600,  1625,  1631,  1653,\n",
       "        1659,  1689,  1700,  1701,  1703,  1704,  1707,  1753,  1771,\n",
       "        1779,  1780,  1781,  1783,  1793,  1796,  1799,  1800,  1801,\n",
       "        1870,  1895,  1896,  1900,  1920,  1922,  1933,  1937,  1968,\n",
       "        1988,  1992,  1993,  1995,  1998,  1999,  2000,  2004,  2005,\n",
       "        2007,  2009,  2016,  2017,  2018,  2172,  2201,  2331,  2340,\n",
       "        2389,  2402,  2461,  2598,  2729,  2789,  2792,  2799,  3199,\n",
       "        3454,  3500,  3750,  4400,  4507,  4700,  5411,  5420,  5575,\n",
       "        5809,  5815,  5867,  6006,  6010,  6011,  6012,  6018,  6045,\n",
       "        6062,  6226,  6512,  6920,  7508,  7511,  7512,  7515,  7518,\n",
       "        7529,  7544,  8259,  8404,  8500,  9007,  9012,  9013, 10000,\n",
       "       10110, 10218, 10311, 10520, 10522, 10710, 10910, 10912, 11011,\n",
       "       11025, 11111, 11509, 11530, 11635, 12012, 12510, 12512, 12684,\n",
       "       13616, 13636, 14009, 15001, 15017, 15020, 15033, 16051, 16311,\n",
       "       16312, 17011, 17019, 17410, 17700, 17932, 19208, 19211, 19312,\n",
       "       20000])"
      ]
     },
     "execution_count": 20,
     "metadata": {},
     "output_type": "execute_result"
    }
   ],
   "source": [
    "df_new['Power'].sort_values().unique()"
   ]
  },
  {
   "cell_type": "code",
   "execution_count": 21,
   "metadata": {},
   "outputs": [],
   "source": [
    "df_new = df_new.loc[(df_new['Power']>15) & (df_new['Power']<1000)]"
   ]
  },
  {
   "cell_type": "code",
   "execution_count": 22,
   "metadata": {},
   "outputs": [
    {
     "data": {
      "text/plain": [
       "Price                   0\n",
       "VehicleType         11027\n",
       "RegistrationYear        0\n",
       "Gearbox              5369\n",
       "Power                   0\n",
       "Model               11006\n",
       "Kilometer               0\n",
       "FuelType            15550\n",
       "Brand                   0\n",
       "Repaired            42884\n",
       "dtype: int64"
      ]
     },
     "execution_count": 22,
     "metadata": {},
     "output_type": "execute_result"
    }
   ],
   "source": [
    "df_new.isna().sum()"
   ]
  },
  {
   "cell_type": "code",
   "execution_count": 23,
   "metadata": {
    "scrolled": true
   },
   "outputs": [],
   "source": [
    "columns_to_fill = ['VehicleType', 'Gearbox', 'Model', 'FuelType', 'Repaired', 'Brand']\n",
    "df_new[columns_to_fill] = df_new[columns_to_fill].fillna('unknown')"
   ]
  },
  {
   "cell_type": "code",
   "execution_count": 24,
   "metadata": {},
   "outputs": [
    {
     "data": {
      "text/plain": [
       "Price               0\n",
       "VehicleType         0\n",
       "RegistrationYear    0\n",
       "Gearbox             0\n",
       "Power               0\n",
       "Model               0\n",
       "Kilometer           0\n",
       "FuelType            0\n",
       "Brand               0\n",
       "Repaired            0\n",
       "dtype: int64"
      ]
     },
     "execution_count": 24,
     "metadata": {},
     "output_type": "execute_result"
    }
   ],
   "source": [
    "df_new.isna().sum()"
   ]
  },
  {
   "cell_type": "code",
   "execution_count": 25,
   "metadata": {},
   "outputs": [
    {
     "name": "stdout",
     "output_type": "stream",
     "text": [
      "<class 'pandas.core.frame.DataFrame'>\n",
      "Int64Index: 296283 entries, 1 to 354368\n",
      "Data columns (total 10 columns):\n",
      " #   Column            Non-Null Count   Dtype \n",
      "---  ------            --------------   ----- \n",
      " 0   Price             296283 non-null  int64 \n",
      " 1   VehicleType       296283 non-null  object\n",
      " 2   RegistrationYear  296283 non-null  int64 \n",
      " 3   Gearbox           296283 non-null  object\n",
      " 4   Power             296283 non-null  int64 \n",
      " 5   Model             296283 non-null  object\n",
      " 6   Kilometer         296283 non-null  int64 \n",
      " 7   FuelType          296283 non-null  object\n",
      " 8   Brand             296283 non-null  object\n",
      " 9   Repaired          296283 non-null  object\n",
      "dtypes: int64(4), object(6)\n",
      "memory usage: 24.9+ MB\n"
     ]
    }
   ],
   "source": [
    "df_new.info()"
   ]
  },
  {
   "cell_type": "code",
   "execution_count": 26,
   "metadata": {},
   "outputs": [
    {
     "name": "stdout",
     "output_type": "stream",
     "text": [
      "<class 'pandas.core.frame.DataFrame'>\n",
      "Int64Index: 296283 entries, 1 to 354368\n",
      "Data columns (total 10 columns):\n",
      " #   Column            Non-Null Count   Dtype   \n",
      "---  ------            --------------   -----   \n",
      " 0   Price             296283 non-null  int64   \n",
      " 1   VehicleType       296283 non-null  category\n",
      " 2   RegistrationYear  296283 non-null  int64   \n",
      " 3   Gearbox           296283 non-null  category\n",
      " 4   Power             296283 non-null  int64   \n",
      " 5   Model             296283 non-null  category\n",
      " 6   Kilometer         296283 non-null  int64   \n",
      " 7   FuelType          296283 non-null  category\n",
      " 8   Brand             296283 non-null  category\n",
      " 9   Repaired          296283 non-null  category\n",
      "dtypes: category(6), int64(4)\n",
      "memory usage: 13.3 MB\n"
     ]
    }
   ],
   "source": [
    "df_new[columns_to_fill] = df_new[columns_to_fill].astype('category')\n",
    "df_new.info()"
   ]
  },
  {
   "cell_type": "markdown",
   "metadata": {},
   "source": [
    "**Данные были предобработаны следующим образом:**\n",
    "\n",
    " \n",
    "* Были удалены объявления с бесплатными автомобилями\n",
    "* Оставила данные по автомобилям с актуальным годом регистрации (с 1950 до 2022) и с количеством лошадиных сил с 15 до 1000\n",
    "* Удалила столбцы с информацией, которая не потребуется в анализе\n",
    "* Перевела столбцы с текстовой информацией к типу *category*"
   ]
  },
  {
   "cell_type": "markdown",
   "metadata": {},
   "source": [
    "## Обучение моделей"
   ]
  },
  {
   "cell_type": "code",
   "execution_count": 27,
   "metadata": {},
   "outputs": [],
   "source": [
    "features = df_new.drop(['Price'],axis=1)\n",
    "target = df_new['Price']\n",
    "features_ohe = pd.get_dummies(features)"
   ]
  },
  {
   "cell_type": "code",
   "execution_count": 28,
   "metadata": {},
   "outputs": [
    {
     "name": "stdout",
     "output_type": "stream",
     "text": [
      "(177769, 9) (59257, 9) (59257, 9)\n",
      "(177769,) (59257,) (59257,)\n",
      "(177769, 316) (59257, 316) (59257, 316)\n"
     ]
    }
   ],
   "source": [
    "features_train, features_valid, target_train, target_valid = train_test_split(\n",
    "    features, target, test_size=0.4, random_state=19191)\n",
    "\n",
    "features_test, features_valid, target_test, target_valid = train_test_split(\n",
    "    features_valid, target_valid, test_size=0.5, random_state=19191)\n",
    "\n",
    "print(features_train.shape, features_valid.shape, features_test.shape)\n",
    "print(target_train.shape, target_valid.shape, target_test.shape)\n",
    "\n",
    "features_ohe_train = pd.get_dummies(features_train)\n",
    "features_ohe_valid = pd.get_dummies(features_valid)\n",
    "features_ohe_test= pd.get_dummies(features_test)\n",
    "\n",
    "print(features_ohe_train.shape, features_ohe_valid.shape, features_ohe_test.shape)"
   ]
  },
  {
   "cell_type": "code",
   "execution_count": 29,
   "metadata": {},
   "outputs": [],
   "source": [
    "learning_time_list = []\n",
    "prediction_time_list = []\n",
    "rmse_list = []"
   ]
  },
  {
   "cell_type": "markdown",
   "metadata": {},
   "source": [
    "### CatBoostRegressor"
   ]
  },
  {
   "cell_type": "code",
   "execution_count": 30,
   "metadata": {},
   "outputs": [],
   "source": [
    "cat_feature_list = ['Brand', 'FuelType', 'Gearbox', 'Model', 'Repaired', 'VehicleType']"
   ]
  },
  {
   "cell_type": "code",
   "execution_count": 31,
   "metadata": {},
   "outputs": [
    {
     "name": "stdout",
     "output_type": "stream",
     "text": [
      "CatBoostRegressor\n",
      "Model params: {'iterations': 200, 'learning_rate': 0.6, 'loss_function': 'RMSE', 'verbose': False, 'random_state': 19191}\n",
      "RMSE = 1619.830437664269\n"
     ]
    }
   ],
   "source": [
    "start_time = datetime.datetime.now()\n",
    "\n",
    "best_model_cbr = None\n",
    "best_rmse_cbr = 2500\n",
    "learning_rate_range = [0.4, 0.6]\n",
    "\n",
    "for iteration in range(180, 201, 20):\n",
    "    for learning_rate in learning_rate_range:\n",
    "        model_cbr =CatBoostRegressor(random_state = 19191,\n",
    "                                     loss_function=\"RMSE\", \n",
    "                                     iterations=iteration, \n",
    "                                     learning_rate=learning_rate, \n",
    "                                     verbose=False) \n",
    "\n",
    "        model_cbr.fit(features_train, \n",
    "                      target_train,\n",
    "                      eval_set=(features_valid, target_valid),\n",
    "                      cat_features= cat_feature_list)\n",
    "\n",
    "        predicted_valid = model_cbr.predict(features_valid)\n",
    "        rmse_cbr = mean_squared_error(target_valid, predicted_valid, squared=False)\n",
    "    if rmse_cbr < best_rmse_cbr:\n",
    "        best_model_cbr = model_cbr\n",
    "        best_rmse_cbr = rmse_cbr\n",
    "\n",
    "catboost_learning_time = datetime.datetime.now() - start_time\n",
    "\n",
    "print(\"CatBoostRegressor\")\n",
    "print(f\"Model params: {best_model_cbr.get_params()}\")\n",
    "print(\"RMSE =\", best_rmse_cbr)\n",
    "\n",
    "rmse_list.append(best_rmse_cbr)\n",
    "learning_time_list.append(catboost_learning_time)"
   ]
  },
  {
   "cell_type": "code",
   "execution_count": 32,
   "metadata": {},
   "outputs": [],
   "source": [
    "start_time = datetime.datetime.now()\n",
    "predicted_valid_cbr = best_model_cbr.predict(features_valid) \n",
    "pred_time_cbr = datetime.datetime.now() - start_time\n",
    "prediction_time_list.append(pred_time_cbr)"
   ]
  },
  {
   "cell_type": "markdown",
   "metadata": {},
   "source": [
    "### LightGBM "
   ]
  },
  {
   "cell_type": "code",
   "execution_count": 33,
   "metadata": {},
   "outputs": [],
   "source": [
    "start_time = datetime.datetime.now()\n",
    "def objective(trial):\n",
    "    params_lgb = {\"n_estimators\": trial.suggest_categorical(\"n_estimators\", [150, 200]),\n",
    "                  'boosting_type': 'gbdt',\n",
    "                  'objective': 'regression',\n",
    "                  'metric': 'rmse',\n",
    "                  \"learning_rate\": trial.suggest_float(\"learning_rate\", 0.01, 0.5),\n",
    "                  'early_stopping_round': 1,\n",
    "                  'random_state' : 19191}\n",
    "    model = lgb.LGBMRegressor(**params_lgb)\n",
    "    model.fit(\n",
    "        features_train,\n",
    "        target_train,\n",
    "        eval_set=[(features_valid, target_valid)],\n",
    "        categorical_feature = cat_feature_list)\n",
    "    preds = model.predict(features_valid)\n",
    "    rmse_lgb = mean_squared_error(target_valid, preds, squared=False)\n",
    "    with open(\"{}.pickle\".format(trial.number), \"wb\") as fout:\n",
    "        pickle.dump(model, fout)\n",
    "    return rmse_lgb"
   ]
  },
  {
   "cell_type": "code",
   "execution_count": 34,
   "metadata": {},
   "outputs": [
    {
     "name": "stderr",
     "output_type": "stream",
     "text": [
      "\u001b[32m[I 2022-11-26 09:55:46,350]\u001b[0m A new study created in memory with name: no-name-43fb748f-f4a2-4b31-98d2-28f4d3ea20f6\u001b[0m\n",
      "/opt/conda/lib/python3.9/site-packages/lightgbm/basic.py:2065: UserWarning: Using categorical_feature in Dataset.\n",
      "  _log_warning('Using categorical_feature in Dataset.')\n",
      "/opt/conda/lib/python3.9/site-packages/lightgbm/basic.py:2068: UserWarning: categorical_feature in Dataset is overridden.\n",
      "New categorical_feature is ['Brand', 'FuelType', 'Gearbox', 'Model', 'Repaired', 'VehicleType']\n",
      "  _log_warning('categorical_feature in Dataset is overridden.\\n'\n",
      "/opt/conda/lib/python3.9/site-packages/lightgbm/basic.py:1780: UserWarning: Overriding the parameters from Reference Dataset.\n",
      "  _log_warning('Overriding the parameters from Reference Dataset.')\n",
      "/opt/conda/lib/python3.9/site-packages/lightgbm/basic.py:1513: UserWarning: categorical_column in param dict is overridden.\n",
      "  _log_warning(f'{cat_alias} in param dict is overridden.')\n"
     ]
    },
    {
     "name": "stdout",
     "output_type": "stream",
     "text": [
      "[1]\tvalid_0's rmse: 3882.21\n",
      "[2]\tvalid_0's rmse: 3341.65\n",
      "[3]\tvalid_0's rmse: 2930.37\n",
      "[4]\tvalid_0's rmse: 2618.93\n",
      "[5]\tvalid_0's rmse: 2391.31\n",
      "[6]\tvalid_0's rmse: 2220.66\n",
      "[7]\tvalid_0's rmse: 2091.46\n",
      "[8]\tvalid_0's rmse: 2000.03\n",
      "[9]\tvalid_0's rmse: 1929.24\n",
      "[10]\tvalid_0's rmse: 1878.12\n",
      "[11]\tvalid_0's rmse: 1835.76\n",
      "[12]\tvalid_0's rmse: 1804.58\n",
      "[13]\tvalid_0's rmse: 1778.14\n",
      "[14]\tvalid_0's rmse: 1759.7\n",
      "[15]\tvalid_0's rmse: 1742.92\n",
      "[16]\tvalid_0's rmse: 1730.29\n",
      "[17]\tvalid_0's rmse: 1717.42\n",
      "[18]\tvalid_0's rmse: 1707.08\n",
      "[19]\tvalid_0's rmse: 1699.95\n",
      "[20]\tvalid_0's rmse: 1693.9\n",
      "[21]\tvalid_0's rmse: 1687.03\n",
      "[22]\tvalid_0's rmse: 1680.63\n",
      "[23]\tvalid_0's rmse: 1674.3\n",
      "[24]\tvalid_0's rmse: 1669.75\n",
      "[25]\tvalid_0's rmse: 1665.6\n",
      "[26]\tvalid_0's rmse: 1662.46\n",
      "[27]\tvalid_0's rmse: 1658.37\n",
      "[28]\tvalid_0's rmse: 1655.66\n",
      "[29]\tvalid_0's rmse: 1652.01\n",
      "[30]\tvalid_0's rmse: 1649.97\n",
      "[31]\tvalid_0's rmse: 1647.93\n",
      "[32]\tvalid_0's rmse: 1645.56\n",
      "[33]\tvalid_0's rmse: 1643.23\n",
      "[34]\tvalid_0's rmse: 1639.79\n",
      "[35]\tvalid_0's rmse: 1637.16\n",
      "[36]\tvalid_0's rmse: 1635.7\n",
      "[37]\tvalid_0's rmse: 1634.33\n",
      "[38]\tvalid_0's rmse: 1632.5\n",
      "[39]\tvalid_0's rmse: 1631.32\n",
      "[40]\tvalid_0's rmse: 1629.12\n",
      "[41]\tvalid_0's rmse: 1627.67\n",
      "[42]\tvalid_0's rmse: 1626.46\n",
      "[43]\tvalid_0's rmse: 1625.81\n",
      "[44]\tvalid_0's rmse: 1624.65\n",
      "[45]\tvalid_0's rmse: 1624.02\n",
      "[46]\tvalid_0's rmse: 1623.1\n",
      "[47]\tvalid_0's rmse: 1621.95\n",
      "[48]\tvalid_0's rmse: 1621.48\n",
      "[49]\tvalid_0's rmse: 1621.17\n",
      "[50]\tvalid_0's rmse: 1620.1\n",
      "[51]\tvalid_0's rmse: 1617.93\n",
      "[52]\tvalid_0's rmse: 1616.89\n",
      "[53]\tvalid_0's rmse: 1616.98\n"
     ]
    },
    {
     "name": "stderr",
     "output_type": "stream",
     "text": [
      "\u001b[32m[I 2022-11-26 09:55:49,704]\u001b[0m Trial 0 finished with value: 1616.8876036402303 and parameters: {'n_estimators': 150, 'learning_rate': 0.22054069827236084}. Best is trial 0 with value: 1616.8876036402303.\u001b[0m\n"
     ]
    }
   ],
   "source": [
    "study = optuna.create_study(direction = 'minimize')\n",
    "func = lambda trial: objective(trial)\n",
    "study.optimize(func, n_trials=1)\n",
    "lgb_learning_time = datetime.datetime.now() - start_time\n",
    "learning_time_list.append(lgb_learning_time)"
   ]
  },
  {
   "cell_type": "code",
   "execution_count": 35,
   "metadata": {},
   "outputs": [
    {
     "name": "stdout",
     "output_type": "stream",
     "text": [
      "\tBest value (rmse): 1616.88760\n",
      "\tBest params:\n",
      "\t\tn_estimators: 150\n",
      "\t\tlearning_rate: 0.22054069827236084\n"
     ]
    }
   ],
   "source": [
    "best_rmse_lgbm = study.best_value\n",
    "rmse_list.append(best_rmse_lgbm)\n",
    "print(f\"\\tBest value (rmse): {best_rmse_lgbm:.5f}\")\n",
    "print(f\"\\tBest params:\")\n",
    "best_params_lgbm = study.best_params.items()\n",
    "for key, value in best_params_lgbm:\n",
    "    print(f\"\\t\\t{key}: {value}\")\n",
    "with open(\"{}.pickle\".format(study.best_trial.number), \"rb\") as fin:\n",
    "    best_clf = pickle.load(fin)"
   ]
  },
  {
   "cell_type": "code",
   "execution_count": 36,
   "metadata": {},
   "outputs": [],
   "source": [
    "start_time = datetime.datetime.now()\n",
    "preds_lgb = best_clf.predict(features_valid)\n",
    "pred_time_lgb = datetime.datetime.now() - start_time\n",
    "prediction_time_list.append(pred_time_lgb)"
   ]
  },
  {
   "cell_type": "markdown",
   "metadata": {},
   "source": [
    "### Линейная регрессия"
   ]
  },
  {
   "cell_type": "code",
   "execution_count": 37,
   "metadata": {},
   "outputs": [],
   "source": [
    "start_time = datetime.datetime.now()\n",
    "model_lr = LinearRegression()\n",
    "model_lr.fit(features_ohe_train,target_train)\n",
    "linear_learning_time = datetime.datetime.now() - start_time\n",
    "learning_time_list.append(linear_learning_time)"
   ]
  },
  {
   "cell_type": "code",
   "execution_count": 38,
   "metadata": {},
   "outputs": [
    {
     "data": {
      "text/plain": [
       "2602.077868490185"
      ]
     },
     "execution_count": 38,
     "metadata": {},
     "output_type": "execute_result"
    }
   ],
   "source": [
    "start_time = datetime.datetime.now()\n",
    "predicted_lr = model_lr.predict(features_ohe_valid)\n",
    "pred_time_lr = datetime.datetime.now() - start_time\n",
    "prediction_time_list.append(pred_time_lr)\n",
    "\n",
    "rmse_lr = mean_squared_error(target_valid, predicted_lr, squared=False)\n",
    "rmse_list.append(rmse_lr)\n",
    "rmse_lr"
   ]
  },
  {
   "cell_type": "markdown",
   "metadata": {},
   "source": [
    "## Анализ моделей"
   ]
  },
  {
   "cell_type": "code",
   "execution_count": 39,
   "metadata": {},
   "outputs": [],
   "source": [
    "results_df = pd.DataFrame(data=[rmse_list,learning_time_list, prediction_time_list], columns=['CatBoost','LightGBM','LinearRegression'], \n",
    "                          index=['RMSE','Learning Time', 'Prediction Time'])"
   ]
  },
  {
   "cell_type": "code",
   "execution_count": 40,
   "metadata": {},
   "outputs": [
    {
     "data": {
      "text/html": [
       "<style  type=\"text/css\" >\n",
       "</style><table id=\"T_7c61a_\" ><thead>    <tr>        <th class=\"blank level0\" ></th>        <th class=\"col_heading level0 col0\" >CatBoost</th>        <th class=\"col_heading level0 col1\" >LightGBM</th>        <th class=\"col_heading level0 col2\" >LinearRegression</th>    </tr></thead><tbody>\n",
       "                <tr>\n",
       "                        <th id=\"T_7c61a_level0_row0\" class=\"row_heading level0 row0\" >RMSE</th>\n",
       "                        <td id=\"T_7c61a_row0_col0\" class=\"data row0 col0\" >1619.830438</td>\n",
       "                        <td id=\"T_7c61a_row0_col1\" class=\"data row0 col1\" >1616.887604</td>\n",
       "                        <td id=\"T_7c61a_row0_col2\" class=\"data row0 col2\" >2602.077868</td>\n",
       "            </tr>\n",
       "            <tr>\n",
       "                        <th id=\"T_7c61a_level0_row1\" class=\"row_heading level0 row1\" >Learning Time</th>\n",
       "                        <td id=\"T_7c61a_row1_col0\" class=\"data row1 col0\" >0:01:47.943630</td>\n",
       "                        <td id=\"T_7c61a_row1_col1\" class=\"data row1 col1\" >0:00:03.365481</td>\n",
       "                        <td id=\"T_7c61a_row1_col2\" class=\"data row1 col2\" >0:00:16.191291</td>\n",
       "            </tr>\n",
       "            <tr>\n",
       "                        <th id=\"T_7c61a_level0_row2\" class=\"row_heading level0 row2\" >Prediction Time</th>\n",
       "                        <td id=\"T_7c61a_row2_col0\" class=\"data row2 col0\" >0:00:00.155783</td>\n",
       "                        <td id=\"T_7c61a_row2_col1\" class=\"data row2 col1\" >0:00:00.267078</td>\n",
       "                        <td id=\"T_7c61a_row2_col2\" class=\"data row2 col2\" >0:00:00.319095</td>\n",
       "            </tr>\n",
       "    </tbody></table>"
      ],
      "text/plain": [
       "<pandas.io.formats.style.Styler at 0x7fc84e43d3d0>"
      ]
     },
     "execution_count": 40,
     "metadata": {},
     "output_type": "execute_result"
    }
   ],
   "source": [
    "cm = sns.light_palette(\"green\", as_cmap=True)\n",
    "s = results_df.style.background_gradient(cmap='PuBu', low=1, high=0, axis=1)\n",
    "s"
   ]
  },
  {
   "cell_type": "code",
   "execution_count": 41,
   "metadata": {},
   "outputs": [
    {
     "name": "stdout",
     "output_type": "stream",
     "text": [
      "Время предсказания на тестовой выборке: 0:00:00.295987\n",
      "RMSE на тестовой выборке: 1611.3328966456652\n"
     ]
    }
   ],
   "source": [
    "start_time = datetime.datetime.now()\n",
    "preds_test_lgb = best_clf.predict(features_test)\n",
    "pred_time_lgb = datetime.datetime.now() - start_time\n",
    "rmse_test_lgb = mean_squared_error(target_test, preds_test_lgb, squared=False)\n",
    "print('Время предсказания на тестовой выборке:', pred_time_lgb)\n",
    "print('RMSE на тестовой выборке:', rmse_test_lgb)"
   ]
  },
  {
   "cell_type": "markdown",
   "metadata": {},
   "source": [
    "Как видно из полученных данных:\n",
    "\n",
    "Лучший RMSE показывает CatBoost - 1640, у LightGBM показатели схожие (1619), показатели LinearRegression очень слабые, RMSE всего 2602.\n",
    "Время обучения сильно отличается, CatBoost справился быстрее LightGBM на обучение ушло 2 мин, на предсказания - около 18 мс. Дольше всего обучался LightGBM.\n",
    "\n",
    "Определенно градиентный бустинг показывает лучшие результаты нежели просто Линейная регрессия. Поэтому можно сказать, что в данном случае, лучшей моделью оказался CatBoost по скорости и качеству модели."
   ]
  },
  {
   "cell_type": "code",
   "execution_count": 42,
   "metadata": {},
   "outputs": [
    {
     "name": "stdout",
     "output_type": "stream",
     "text": [
      "Время предсказания на тестовой выборке: 0:00:00.206640\n",
      "RMSE на тестовой выборке: 1618.524434582988\n"
     ]
    }
   ],
   "source": [
    "start_time = datetime.datetime.now()\n",
    "preds_test_cbr = best_model_cbr.predict(features_test)\n",
    "pred_time_cbr_test = datetime.datetime.now() - start_time\n",
    "rmse_test_cbr = mean_squared_error(target_test, preds_test_cbr, squared=False)\n",
    "print('Время предсказания на тестовой выборке:', pred_time_cbr_test)\n",
    "print('RMSE на тестовой выборке:', rmse_test_cbr)"
   ]
  },
  {
   "cell_type": "markdown",
   "metadata": {},
   "source": [
    "## Вывод\n",
    "\n",
    "В ходе работы было выполнено:\n",
    "\n",
    "Загружены данные и проведена предобработка.\n",
    "Выполнено сравнение моделей с использованием различных наборов гиперпараметров.\n",
    "Выбрана лучшая модель по результатам метрики RMSE и времени обучения.\n",
    "\n",
    "Лучшей моделью можно считать CatBoost, благодаря высокой точности предсказаний и скорости обучения. LightGBM обучался немного дольше, у LinearRegression большая ошибка вычислений. Также значительным преимуществом LightGBM и CatBoost является возможность использовать данные в формате *category*.\n",
    "\n",
    "Данные CatBoost были проверены на тестовой выборке и соотвествуют представленному выводу."
   ]
  },
  {
   "cell_type": "code",
   "execution_count": null,
   "metadata": {},
   "outputs": [],
   "source": []
  }
 ],
 "metadata": {
  "ExecuteTimeLog": [
   {
    "duration": 379,
    "start_time": "2022-11-22T06:25:01.834Z"
   },
   {
    "duration": 3,
    "start_time": "2022-11-22T06:25:04.690Z"
   },
   {
    "duration": 2,
    "start_time": "2022-11-22T06:25:06.427Z"
   },
   {
    "duration": 991,
    "start_time": "2022-11-22T06:25:24.796Z"
   },
   {
    "duration": 18,
    "start_time": "2022-11-22T06:25:36.674Z"
   },
   {
    "duration": 96,
    "start_time": "2022-11-22T06:25:53.117Z"
   },
   {
    "duration": 70,
    "start_time": "2022-11-22T06:26:15.273Z"
   },
   {
    "duration": 124,
    "start_time": "2022-11-22T06:26:22.257Z"
   },
   {
    "duration": 469,
    "start_time": "2022-11-22T06:43:48.753Z"
   },
   {
    "duration": 1443,
    "start_time": "2022-11-22T06:43:59.313Z"
   },
   {
    "duration": 126,
    "start_time": "2022-11-22T06:45:32.872Z"
   },
   {
    "duration": 3,
    "start_time": "2022-11-22T06:45:58.356Z"
   },
   {
    "duration": 44,
    "start_time": "2022-11-22T06:46:10.895Z"
   },
   {
    "duration": 40,
    "start_time": "2022-11-22T06:46:28.871Z"
   },
   {
    "duration": 52,
    "start_time": "2022-11-22T06:46:57.537Z"
   },
   {
    "duration": 56,
    "start_time": "2022-11-22T06:47:07.914Z"
   },
   {
    "duration": 46,
    "start_time": "2022-11-22T06:47:16.886Z"
   },
   {
    "duration": 43,
    "start_time": "2022-11-22T06:47:23.401Z"
   },
   {
    "duration": 159,
    "start_time": "2022-11-22T06:47:38.315Z"
   },
   {
    "duration": 42,
    "start_time": "2022-11-22T06:48:07.542Z"
   },
   {
    "duration": 42,
    "start_time": "2022-11-22T06:48:22.495Z"
   },
   {
    "duration": 135,
    "start_time": "2022-11-22T06:52:17.922Z"
   },
   {
    "duration": 141,
    "start_time": "2022-11-22T06:52:25.639Z"
   },
   {
    "duration": 46,
    "start_time": "2022-11-22T06:52:35.312Z"
   },
   {
    "duration": 124,
    "start_time": "2022-11-22T06:52:49.817Z"
   },
   {
    "duration": 136,
    "start_time": "2022-11-22T06:53:11.349Z"
   },
   {
    "duration": 9,
    "start_time": "2022-11-22T06:53:56.741Z"
   },
   {
    "duration": 392,
    "start_time": "2022-11-22T08:29:25.281Z"
   },
   {
    "duration": 1104,
    "start_time": "2022-11-22T08:29:25.674Z"
   },
   {
    "duration": 19,
    "start_time": "2022-11-22T08:29:26.779Z"
   },
   {
    "duration": 94,
    "start_time": "2022-11-22T08:29:26.800Z"
   },
   {
    "duration": 137,
    "start_time": "2022-11-22T08:29:26.896Z"
   },
   {
    "duration": 456,
    "start_time": "2022-11-22T08:29:27.034Z"
   },
   {
    "duration": 1508,
    "start_time": "2022-11-22T08:29:27.492Z"
   },
   {
    "duration": 199,
    "start_time": "2022-11-22T08:29:29.003Z"
   },
   {
    "duration": 9,
    "start_time": "2022-11-22T08:29:29.204Z"
   },
   {
    "duration": 38,
    "start_time": "2022-11-22T08:29:29.214Z"
   },
   {
    "duration": 45,
    "start_time": "2022-11-22T08:30:48.057Z"
   },
   {
    "duration": 137,
    "start_time": "2022-11-22T08:31:06.533Z"
   },
   {
    "duration": 338,
    "start_time": "2022-11-22T08:32:23.415Z"
   },
   {
    "duration": 594,
    "start_time": "2022-11-22T08:35:12.618Z"
   },
   {
    "duration": 1111,
    "start_time": "2022-11-22T08:35:18.711Z"
   },
   {
    "duration": 855,
    "start_time": "2022-11-22T08:35:19.824Z"
   },
   {
    "duration": 16,
    "start_time": "2022-11-22T08:35:20.681Z"
   },
   {
    "duration": 116,
    "start_time": "2022-11-22T08:35:20.699Z"
   },
   {
    "duration": 156,
    "start_time": "2022-11-22T08:35:20.818Z"
   },
   {
    "duration": 467,
    "start_time": "2022-11-22T08:35:20.976Z"
   },
   {
    "duration": 1071,
    "start_time": "2022-11-22T08:35:21.445Z"
   },
   {
    "duration": 180,
    "start_time": "2022-11-22T08:35:22.518Z"
   },
   {
    "duration": 9,
    "start_time": "2022-11-22T08:35:22.700Z"
   },
   {
    "duration": 56,
    "start_time": "2022-11-22T08:35:22.710Z"
   },
   {
    "duration": 339,
    "start_time": "2022-11-22T08:35:22.768Z"
   },
   {
    "duration": 157,
    "start_time": "2022-11-22T08:35:23.109Z"
   },
   {
    "duration": 30,
    "start_time": "2022-11-22T08:37:47.589Z"
   },
   {
    "duration": 57,
    "start_time": "2022-11-22T08:47:48.404Z"
   },
   {
    "duration": 391,
    "start_time": "2022-11-22T08:47:50.646Z"
   },
   {
    "duration": 62,
    "start_time": "2022-11-22T08:48:03.683Z"
   },
   {
    "duration": 322,
    "start_time": "2022-11-22T08:48:06.049Z"
   },
   {
    "duration": 51,
    "start_time": "2022-11-22T08:48:16.216Z"
   },
   {
    "duration": 303,
    "start_time": "2022-11-22T08:48:18.120Z"
   },
   {
    "duration": 49,
    "start_time": "2022-11-22T08:48:50.108Z"
   },
   {
    "duration": 328,
    "start_time": "2022-11-22T08:48:52.557Z"
   },
   {
    "duration": 28,
    "start_time": "2022-11-22T08:56:54.831Z"
   },
   {
    "duration": 120,
    "start_time": "2022-11-22T08:57:07.254Z"
   },
   {
    "duration": 13,
    "start_time": "2022-11-22T08:57:14.392Z"
   },
   {
    "duration": 14,
    "start_time": "2022-11-22T08:57:18.336Z"
   },
   {
    "duration": 14,
    "start_time": "2022-11-22T08:57:22.247Z"
   },
   {
    "duration": 1161,
    "start_time": "2022-11-22T08:57:27.481Z"
   },
   {
    "duration": 886,
    "start_time": "2022-11-22T08:57:28.644Z"
   },
   {
    "duration": 24,
    "start_time": "2022-11-22T08:57:29.532Z"
   },
   {
    "duration": 114,
    "start_time": "2022-11-22T08:57:29.559Z"
   },
   {
    "duration": 149,
    "start_time": "2022-11-22T08:57:29.675Z"
   },
   {
    "duration": 505,
    "start_time": "2022-11-22T08:57:29.826Z"
   },
   {
    "duration": 1095,
    "start_time": "2022-11-22T08:57:30.332Z"
   },
   {
    "duration": 186,
    "start_time": "2022-11-22T08:57:31.429Z"
   },
   {
    "duration": 10,
    "start_time": "2022-11-22T08:57:31.617Z"
   },
   {
    "duration": 65,
    "start_time": "2022-11-22T08:57:31.630Z"
   },
   {
    "duration": 341,
    "start_time": "2022-11-22T08:57:31.696Z"
   },
   {
    "duration": 137,
    "start_time": "2022-11-22T08:57:32.040Z"
   },
   {
    "duration": 6,
    "start_time": "2022-11-22T08:59:34.339Z"
   },
   {
    "duration": 117,
    "start_time": "2022-11-22T09:00:08.940Z"
   },
   {
    "duration": 12,
    "start_time": "2022-11-22T09:00:46.553Z"
   },
   {
    "duration": 6,
    "start_time": "2022-11-22T09:01:33.954Z"
   },
   {
    "duration": 23,
    "start_time": "2022-11-22T09:01:38.936Z"
   },
   {
    "duration": 9,
    "start_time": "2022-11-22T09:01:57.818Z"
   },
   {
    "duration": 12,
    "start_time": "2022-11-22T09:02:01.364Z"
   },
   {
    "duration": 8,
    "start_time": "2022-11-22T09:02:04.642Z"
   },
   {
    "duration": 13,
    "start_time": "2022-11-22T09:04:30.762Z"
   },
   {
    "duration": 30,
    "start_time": "2022-11-22T09:04:41.821Z"
   },
   {
    "duration": 290,
    "start_time": "2022-11-22T09:08:18.310Z"
   },
   {
    "duration": 2,
    "start_time": "2022-11-22T09:11:15.130Z"
   },
   {
    "duration": 304,
    "start_time": "2022-11-22T09:11:39.929Z"
   },
   {
    "duration": 262,
    "start_time": "2022-11-22T09:15:17.284Z"
   },
   {
    "duration": 246,
    "start_time": "2022-11-22T09:15:54.999Z"
   },
   {
    "duration": 33,
    "start_time": "2022-11-22T09:16:12.608Z"
   },
   {
    "duration": 30,
    "start_time": "2022-11-22T09:17:25.141Z"
   },
   {
    "duration": 65,
    "start_time": "2022-11-22T09:17:40.129Z"
   },
   {
    "duration": 35,
    "start_time": "2022-11-22T09:17:45.196Z"
   },
   {
    "duration": 29,
    "start_time": "2022-11-22T09:17:48.876Z"
   },
   {
    "duration": 11,
    "start_time": "2022-11-22T09:17:59.846Z"
   },
   {
    "duration": 5,
    "start_time": "2022-11-22T09:18:06.687Z"
   },
   {
    "duration": 10,
    "start_time": "2022-11-22T09:18:17.661Z"
   },
   {
    "duration": 5,
    "start_time": "2022-11-22T09:18:23.169Z"
   },
   {
    "duration": 8,
    "start_time": "2022-11-22T09:19:33.485Z"
   },
   {
    "duration": 21,
    "start_time": "2022-11-22T09:20:26.467Z"
   },
   {
    "duration": 21,
    "start_time": "2022-11-22T09:20:36.521Z"
   },
   {
    "duration": 30,
    "start_time": "2022-11-22T09:20:44.649Z"
   },
   {
    "duration": 10,
    "start_time": "2022-11-22T09:21:03.475Z"
   },
   {
    "duration": 11,
    "start_time": "2022-11-22T09:22:08.839Z"
   },
   {
    "duration": 32,
    "start_time": "2022-11-22T09:23:14.397Z"
   },
   {
    "duration": 19,
    "start_time": "2022-11-22T09:25:06.024Z"
   },
   {
    "duration": 16,
    "start_time": "2022-11-22T09:25:25.870Z"
   },
   {
    "duration": 13,
    "start_time": "2022-11-22T09:25:57.314Z"
   },
   {
    "duration": 13,
    "start_time": "2022-11-22T09:26:05.939Z"
   },
   {
    "duration": 17,
    "start_time": "2022-11-22T09:26:26.943Z"
   },
   {
    "duration": 14,
    "start_time": "2022-11-22T09:27:06.124Z"
   },
   {
    "duration": 23,
    "start_time": "2022-11-22T09:29:08.674Z"
   },
   {
    "duration": 24,
    "start_time": "2022-11-22T09:29:36.282Z"
   },
   {
    "duration": 30,
    "start_time": "2022-11-22T09:29:43.708Z"
   },
   {
    "duration": 22,
    "start_time": "2022-11-22T09:29:48.767Z"
   },
   {
    "duration": 21,
    "start_time": "2022-11-22T09:30:36.874Z"
   },
   {
    "duration": 10,
    "start_time": "2022-11-22T09:58:24.476Z"
   },
   {
    "duration": 35,
    "start_time": "2022-11-22T09:58:31.061Z"
   },
   {
    "duration": 14,
    "start_time": "2022-11-22T09:58:36.724Z"
   },
   {
    "duration": 1127,
    "start_time": "2022-11-22T09:58:55.400Z"
   },
   {
    "duration": 857,
    "start_time": "2022-11-22T09:58:56.529Z"
   },
   {
    "duration": 17,
    "start_time": "2022-11-22T09:58:57.388Z"
   },
   {
    "duration": 52,
    "start_time": "2022-11-22T09:58:57.407Z"
   },
   {
    "duration": 109,
    "start_time": "2022-11-22T09:58:57.461Z"
   },
   {
    "duration": 138,
    "start_time": "2022-11-22T09:58:57.572Z"
   },
   {
    "duration": 452,
    "start_time": "2022-11-22T09:58:57.712Z"
   },
   {
    "duration": 1031,
    "start_time": "2022-11-22T09:58:58.166Z"
   },
   {
    "duration": 183,
    "start_time": "2022-11-22T09:58:59.199Z"
   },
   {
    "duration": 9,
    "start_time": "2022-11-22T09:58:59.383Z"
   },
   {
    "duration": 43,
    "start_time": "2022-11-22T09:58:59.394Z"
   },
   {
    "duration": 324,
    "start_time": "2022-11-22T09:58:59.454Z"
   },
   {
    "duration": 128,
    "start_time": "2022-11-22T09:58:59.780Z"
   },
   {
    "duration": 28,
    "start_time": "2022-11-22T09:58:59.911Z"
   },
   {
    "duration": 14,
    "start_time": "2022-11-22T09:58:59.941Z"
   },
   {
    "duration": 287,
    "start_time": "2022-11-22T09:58:59.957Z"
   },
   {
    "duration": 14,
    "start_time": "2022-11-22T09:59:00.246Z"
   },
   {
    "duration": 31,
    "start_time": "2022-11-22T09:59:00.262Z"
   },
   {
    "duration": 19,
    "start_time": "2022-11-22T09:59:00.295Z"
   },
   {
    "duration": 8,
    "start_time": "2022-11-22T10:54:56.881Z"
   },
   {
    "duration": 10,
    "start_time": "2022-11-22T10:55:20.011Z"
   },
   {
    "duration": 34,
    "start_time": "2022-11-22T10:55:30.524Z"
   },
   {
    "duration": 107,
    "start_time": "2022-11-22T10:56:20.906Z"
   },
   {
    "duration": 12,
    "start_time": "2022-11-22T10:58:01.127Z"
   },
   {
    "duration": 42,
    "start_time": "2022-11-22T10:58:05.342Z"
   },
   {
    "duration": 1215,
    "start_time": "2022-11-22T10:58:24.611Z"
   },
   {
    "duration": 869,
    "start_time": "2022-11-22T10:58:25.828Z"
   },
   {
    "duration": 17,
    "start_time": "2022-11-22T10:58:26.699Z"
   },
   {
    "duration": 111,
    "start_time": "2022-11-22T10:58:26.718Z"
   },
   {
    "duration": 153,
    "start_time": "2022-11-22T10:58:26.832Z"
   },
   {
    "duration": 486,
    "start_time": "2022-11-22T10:58:26.986Z"
   },
   {
    "duration": 1059,
    "start_time": "2022-11-22T10:58:27.474Z"
   },
   {
    "duration": 175,
    "start_time": "2022-11-22T10:58:28.535Z"
   },
   {
    "duration": 9,
    "start_time": "2022-11-22T10:58:28.712Z"
   },
   {
    "duration": 71,
    "start_time": "2022-11-22T10:58:28.722Z"
   },
   {
    "duration": 325,
    "start_time": "2022-11-22T10:58:28.794Z"
   },
   {
    "duration": 126,
    "start_time": "2022-11-22T10:58:29.121Z"
   },
   {
    "duration": 30,
    "start_time": "2022-11-22T10:58:29.254Z"
   },
   {
    "duration": 3,
    "start_time": "2022-11-22T10:58:29.286Z"
   },
   {
    "duration": 316,
    "start_time": "2022-11-22T10:58:29.290Z"
   },
   {
    "duration": 9,
    "start_time": "2022-11-22T10:58:29.607Z"
   },
   {
    "duration": 47,
    "start_time": "2022-11-22T10:58:29.618Z"
   },
   {
    "duration": 21,
    "start_time": "2022-11-22T10:58:29.667Z"
   },
   {
    "duration": 12,
    "start_time": "2022-11-22T10:58:29.689Z"
   },
   {
    "duration": 65,
    "start_time": "2022-11-22T10:58:29.702Z"
   },
   {
    "duration": 1206,
    "start_time": "2022-11-22T10:59:22.121Z"
   },
   {
    "duration": 873,
    "start_time": "2022-11-22T10:59:23.330Z"
   },
   {
    "duration": 17,
    "start_time": "2022-11-22T10:59:24.205Z"
   },
   {
    "duration": 99,
    "start_time": "2022-11-22T10:59:24.224Z"
   },
   {
    "duration": 160,
    "start_time": "2022-11-22T10:59:24.325Z"
   },
   {
    "duration": 539,
    "start_time": "2022-11-22T10:59:24.487Z"
   },
   {
    "duration": 1101,
    "start_time": "2022-11-22T10:59:25.028Z"
   },
   {
    "duration": 204,
    "start_time": "2022-11-22T10:59:26.131Z"
   },
   {
    "duration": 24,
    "start_time": "2022-11-22T10:59:26.337Z"
   },
   {
    "duration": 46,
    "start_time": "2022-11-22T10:59:26.363Z"
   },
   {
    "duration": 344,
    "start_time": "2022-11-22T10:59:26.411Z"
   },
   {
    "duration": 127,
    "start_time": "2022-11-22T10:59:26.756Z"
   },
   {
    "duration": 30,
    "start_time": "2022-11-22T10:59:26.885Z"
   },
   {
    "duration": 2,
    "start_time": "2022-11-22T10:59:26.917Z"
   },
   {
    "duration": 316,
    "start_time": "2022-11-22T10:59:26.920Z"
   },
   {
    "duration": 18,
    "start_time": "2022-11-22T10:59:27.237Z"
   },
   {
    "duration": 34,
    "start_time": "2022-11-22T10:59:27.256Z"
   },
   {
    "duration": 21,
    "start_time": "2022-11-22T10:59:27.291Z"
   },
   {
    "duration": 418,
    "start_time": "2022-11-22T10:59:27.314Z"
   },
   {
    "duration": 426,
    "start_time": "2022-11-22T10:59:42.455Z"
   },
   {
    "duration": 2866,
    "start_time": "2022-11-22T10:59:49.406Z"
   },
   {
    "duration": 213,
    "start_time": "2022-11-22T10:59:59.022Z"
   },
   {
    "duration": 51,
    "start_time": "2022-11-22T11:02:33.612Z"
   },
   {
    "duration": 941,
    "start_time": "2022-11-22T11:23:53.902Z"
   },
   {
    "duration": 68,
    "start_time": "2022-11-22T11:24:15.313Z"
   },
   {
    "duration": 45,
    "start_time": "2022-11-22T11:25:21.729Z"
   },
   {
    "duration": 10,
    "start_time": "2022-11-22T11:26:06.070Z"
   },
   {
    "duration": 1208,
    "start_time": "2022-11-22T11:26:20.034Z"
   },
   {
    "duration": 891,
    "start_time": "2022-11-22T11:26:21.244Z"
   },
   {
    "duration": 22,
    "start_time": "2022-11-22T11:26:22.137Z"
   },
   {
    "duration": 119,
    "start_time": "2022-11-22T11:26:22.161Z"
   },
   {
    "duration": 143,
    "start_time": "2022-11-22T11:26:22.282Z"
   },
   {
    "duration": 472,
    "start_time": "2022-11-22T11:26:22.426Z"
   },
   {
    "duration": 1032,
    "start_time": "2022-11-22T11:26:22.899Z"
   },
   {
    "duration": 200,
    "start_time": "2022-11-22T11:26:23.932Z"
   },
   {
    "duration": 25,
    "start_time": "2022-11-22T11:26:24.134Z"
   },
   {
    "duration": 50,
    "start_time": "2022-11-22T11:26:24.162Z"
   },
   {
    "duration": 382,
    "start_time": "2022-11-22T11:26:24.214Z"
   },
   {
    "duration": 146,
    "start_time": "2022-11-22T11:26:24.598Z"
   },
   {
    "duration": 73,
    "start_time": "2022-11-22T11:26:24.755Z"
   },
   {
    "duration": 44,
    "start_time": "2022-11-22T11:26:24.829Z"
   },
   {
    "duration": 2,
    "start_time": "2022-11-22T11:26:24.875Z"
   },
   {
    "duration": 328,
    "start_time": "2022-11-22T11:26:24.879Z"
   },
   {
    "duration": 9,
    "start_time": "2022-11-22T11:26:25.209Z"
   },
   {
    "duration": 51,
    "start_time": "2022-11-22T11:26:25.220Z"
   },
   {
    "duration": 36,
    "start_time": "2022-11-22T11:26:25.272Z"
   },
   {
    "duration": 59,
    "start_time": "2022-11-22T11:26:25.309Z"
   },
   {
    "duration": 6,
    "start_time": "2022-11-22T11:34:24.745Z"
   },
   {
    "duration": 28,
    "start_time": "2022-11-22T11:34:35.290Z"
   },
   {
    "duration": 157,
    "start_time": "2022-11-22T11:34:41.665Z"
   },
   {
    "duration": 78,
    "start_time": "2022-11-22T11:41:00.408Z"
   },
   {
    "duration": 1184,
    "start_time": "2022-11-22T11:41:13.968Z"
   },
   {
    "duration": 906,
    "start_time": "2022-11-22T11:41:15.154Z"
   },
   {
    "duration": 18,
    "start_time": "2022-11-22T11:41:16.062Z"
   },
   {
    "duration": 111,
    "start_time": "2022-11-22T11:41:16.082Z"
   },
   {
    "duration": 146,
    "start_time": "2022-11-22T11:41:16.195Z"
   },
   {
    "duration": 499,
    "start_time": "2022-11-22T11:41:16.343Z"
   },
   {
    "duration": 1073,
    "start_time": "2022-11-22T11:41:16.843Z"
   },
   {
    "duration": 192,
    "start_time": "2022-11-22T11:41:17.918Z"
   },
   {
    "duration": 10,
    "start_time": "2022-11-22T11:41:18.112Z"
   },
   {
    "duration": 62,
    "start_time": "2022-11-22T11:41:18.124Z"
   },
   {
    "duration": 341,
    "start_time": "2022-11-22T11:41:18.188Z"
   },
   {
    "duration": 128,
    "start_time": "2022-11-22T11:41:18.531Z"
   },
   {
    "duration": 61,
    "start_time": "2022-11-22T11:41:18.661Z"
   },
   {
    "duration": 48,
    "start_time": "2022-11-22T11:41:18.723Z"
   },
   {
    "duration": 29,
    "start_time": "2022-11-22T11:41:18.773Z"
   },
   {
    "duration": 376,
    "start_time": "2022-11-22T11:41:18.803Z"
   },
   {
    "duration": 11,
    "start_time": "2022-11-22T11:41:19.181Z"
   },
   {
    "duration": 36,
    "start_time": "2022-11-22T11:41:19.194Z"
   },
   {
    "duration": 49,
    "start_time": "2022-11-22T11:41:19.233Z"
   },
   {
    "duration": 51,
    "start_time": "2022-11-22T11:41:19.283Z"
   },
   {
    "duration": 9,
    "start_time": "2022-11-22T11:43:51.795Z"
   },
   {
    "duration": 15,
    "start_time": "2022-11-22T11:43:56.924Z"
   },
   {
    "duration": 1272,
    "start_time": "2022-11-22T11:44:02.459Z"
   },
   {
    "duration": 895,
    "start_time": "2022-11-22T11:44:03.734Z"
   },
   {
    "duration": 29,
    "start_time": "2022-11-22T11:44:04.633Z"
   },
   {
    "duration": 112,
    "start_time": "2022-11-22T11:44:04.664Z"
   },
   {
    "duration": 148,
    "start_time": "2022-11-22T11:44:04.779Z"
   },
   {
    "duration": 519,
    "start_time": "2022-11-22T11:44:04.929Z"
   },
   {
    "duration": 1031,
    "start_time": "2022-11-22T11:44:05.450Z"
   },
   {
    "duration": 189,
    "start_time": "2022-11-22T11:44:06.483Z"
   },
   {
    "duration": 12,
    "start_time": "2022-11-22T11:44:06.674Z"
   },
   {
    "duration": 67,
    "start_time": "2022-11-22T11:44:06.688Z"
   },
   {
    "duration": 327,
    "start_time": "2022-11-22T11:44:06.757Z"
   },
   {
    "duration": 134,
    "start_time": "2022-11-22T11:44:07.086Z"
   },
   {
    "duration": 69,
    "start_time": "2022-11-22T11:44:07.222Z"
   },
   {
    "duration": 30,
    "start_time": "2022-11-22T11:44:07.294Z"
   },
   {
    "duration": 47,
    "start_time": "2022-11-22T11:44:07.326Z"
   },
   {
    "duration": 314,
    "start_time": "2022-11-22T11:44:07.375Z"
   },
   {
    "duration": 34,
    "start_time": "2022-11-22T11:44:07.690Z"
   },
   {
    "duration": 29,
    "start_time": "2022-11-22T11:44:07.726Z"
   },
   {
    "duration": 12,
    "start_time": "2022-11-22T11:44:07.757Z"
   },
   {
    "duration": 8,
    "start_time": "2022-11-22T11:44:22.471Z"
   },
   {
    "duration": 4,
    "start_time": "2022-11-22T11:44:38.253Z"
   },
   {
    "duration": 1151,
    "start_time": "2022-11-22T11:44:42.898Z"
   },
   {
    "duration": 886,
    "start_time": "2022-11-22T11:44:44.051Z"
   },
   {
    "duration": 19,
    "start_time": "2022-11-22T11:44:44.939Z"
   },
   {
    "duration": 109,
    "start_time": "2022-11-22T11:44:44.961Z"
   },
   {
    "duration": 135,
    "start_time": "2022-11-22T11:44:45.072Z"
   },
   {
    "duration": 468,
    "start_time": "2022-11-22T11:44:45.208Z"
   },
   {
    "duration": 1027,
    "start_time": "2022-11-22T11:44:45.678Z"
   },
   {
    "duration": 187,
    "start_time": "2022-11-22T11:44:46.707Z"
   },
   {
    "duration": 11,
    "start_time": "2022-11-22T11:44:46.895Z"
   },
   {
    "duration": 59,
    "start_time": "2022-11-22T11:44:46.909Z"
   },
   {
    "duration": 338,
    "start_time": "2022-11-22T11:44:46.971Z"
   },
   {
    "duration": 135,
    "start_time": "2022-11-22T11:44:47.311Z"
   },
   {
    "duration": 66,
    "start_time": "2022-11-22T11:44:47.449Z"
   },
   {
    "duration": 53,
    "start_time": "2022-11-22T11:44:47.516Z"
   },
   {
    "duration": 29,
    "start_time": "2022-11-22T11:44:47.571Z"
   },
   {
    "duration": 301,
    "start_time": "2022-11-22T11:44:47.602Z"
   },
   {
    "duration": 33,
    "start_time": "2022-11-22T11:44:47.905Z"
   },
   {
    "duration": 36,
    "start_time": "2022-11-22T11:44:47.940Z"
   },
   {
    "duration": 19,
    "start_time": "2022-11-22T11:44:47.977Z"
   },
   {
    "duration": 4,
    "start_time": "2022-11-22T11:45:19.556Z"
   },
   {
    "duration": 4,
    "start_time": "2022-11-22T11:45:43.201Z"
   },
   {
    "duration": 4,
    "start_time": "2022-11-22T11:45:47.187Z"
   },
   {
    "duration": 49,
    "start_time": "2022-11-22T11:46:09.648Z"
   },
   {
    "duration": 54,
    "start_time": "2022-11-22T11:49:23.713Z"
   },
   {
    "duration": 374,
    "start_time": "2022-11-22T11:49:43.734Z"
   },
   {
    "duration": 39,
    "start_time": "2022-11-22T11:52:28.663Z"
   },
   {
    "duration": 5,
    "start_time": "2022-11-22T11:52:34.223Z"
   },
   {
    "duration": 23,
    "start_time": "2022-11-22T11:52:37.563Z"
   },
   {
    "duration": 6,
    "start_time": "2022-11-22T11:54:44.704Z"
   },
   {
    "duration": 191,
    "start_time": "2022-11-22T11:55:09.623Z"
   },
   {
    "duration": 1171,
    "start_time": "2022-11-22T11:55:20.951Z"
   },
   {
    "duration": 860,
    "start_time": "2022-11-22T11:55:22.124Z"
   },
   {
    "duration": 17,
    "start_time": "2022-11-22T11:55:22.987Z"
   },
   {
    "duration": 106,
    "start_time": "2022-11-22T11:55:23.006Z"
   },
   {
    "duration": 142,
    "start_time": "2022-11-22T11:55:23.114Z"
   },
   {
    "duration": 499,
    "start_time": "2022-11-22T11:55:23.258Z"
   },
   {
    "duration": 1096,
    "start_time": "2022-11-22T11:55:23.759Z"
   },
   {
    "duration": 207,
    "start_time": "2022-11-22T11:55:24.857Z"
   },
   {
    "duration": 10,
    "start_time": "2022-11-22T11:55:25.066Z"
   },
   {
    "duration": 46,
    "start_time": "2022-11-22T11:55:25.078Z"
   },
   {
    "duration": 335,
    "start_time": "2022-11-22T11:55:25.126Z"
   },
   {
    "duration": 124,
    "start_time": "2022-11-22T11:55:25.462Z"
   },
   {
    "duration": 74,
    "start_time": "2022-11-22T11:55:25.587Z"
   },
   {
    "duration": 30,
    "start_time": "2022-11-22T11:55:25.664Z"
   },
   {
    "duration": 28,
    "start_time": "2022-11-22T11:55:25.696Z"
   },
   {
    "duration": 315,
    "start_time": "2022-11-22T11:55:25.725Z"
   },
   {
    "duration": 38,
    "start_time": "2022-11-22T11:55:26.042Z"
   },
   {
    "duration": 23,
    "start_time": "2022-11-22T11:55:26.082Z"
   },
   {
    "duration": 69,
    "start_time": "2022-11-22T11:55:26.106Z"
   },
   {
    "duration": 237,
    "start_time": "2022-11-22T11:55:26.177Z"
   },
   {
    "duration": 265,
    "start_time": "2022-11-22T11:56:21.551Z"
   },
   {
    "duration": 49,
    "start_time": "2022-11-22T11:57:06.627Z"
   },
   {
    "duration": 1192,
    "start_time": "2022-11-22T11:57:16.919Z"
   },
   {
    "duration": 837,
    "start_time": "2022-11-22T11:57:18.113Z"
   },
   {
    "duration": 20,
    "start_time": "2022-11-22T11:57:18.951Z"
   },
   {
    "duration": 115,
    "start_time": "2022-11-22T11:57:18.973Z"
   },
   {
    "duration": 149,
    "start_time": "2022-11-22T11:57:19.090Z"
   },
   {
    "duration": 485,
    "start_time": "2022-11-22T11:57:19.241Z"
   },
   {
    "duration": 1014,
    "start_time": "2022-11-22T11:57:19.727Z"
   },
   {
    "duration": 174,
    "start_time": "2022-11-22T11:57:20.742Z"
   },
   {
    "duration": 9,
    "start_time": "2022-11-22T11:57:20.918Z"
   },
   {
    "duration": 78,
    "start_time": "2022-11-22T11:57:20.930Z"
   },
   {
    "duration": 349,
    "start_time": "2022-11-22T11:57:21.010Z"
   },
   {
    "duration": 133,
    "start_time": "2022-11-22T11:57:21.361Z"
   },
   {
    "duration": 69,
    "start_time": "2022-11-22T11:57:21.496Z"
   },
   {
    "duration": 32,
    "start_time": "2022-11-22T11:57:21.566Z"
   },
   {
    "duration": 29,
    "start_time": "2022-11-22T11:57:21.600Z"
   },
   {
    "duration": 338,
    "start_time": "2022-11-22T11:57:21.631Z"
   },
   {
    "duration": 35,
    "start_time": "2022-11-22T11:57:21.971Z"
   },
   {
    "duration": 25,
    "start_time": "2022-11-22T11:57:22.007Z"
   },
   {
    "duration": 253,
    "start_time": "2022-11-22T11:57:22.034Z"
   },
   {
    "duration": 52,
    "start_time": "2022-11-22T11:57:22.289Z"
   },
   {
    "duration": 356,
    "start_time": "2022-11-22T11:59:38.435Z"
   },
   {
    "duration": 1617,
    "start_time": "2022-11-22T14:36:48.610Z"
   },
   {
    "duration": 2929,
    "start_time": "2022-11-22T14:36:50.230Z"
   },
   {
    "duration": 16,
    "start_time": "2022-11-22T14:36:53.161Z"
   },
   {
    "duration": 143,
    "start_time": "2022-11-22T14:36:53.180Z"
   },
   {
    "duration": 151,
    "start_time": "2022-11-22T14:36:53.324Z"
   },
   {
    "duration": 483,
    "start_time": "2022-11-22T14:36:53.477Z"
   },
   {
    "duration": 1024,
    "start_time": "2022-11-22T14:36:53.962Z"
   },
   {
    "duration": 259,
    "start_time": "2022-11-22T14:36:54.988Z"
   },
   {
    "duration": 8,
    "start_time": "2022-11-22T14:36:55.249Z"
   },
   {
    "duration": 68,
    "start_time": "2022-11-22T14:36:55.259Z"
   },
   {
    "duration": 320,
    "start_time": "2022-11-22T14:36:55.328Z"
   },
   {
    "duration": 131,
    "start_time": "2022-11-22T14:36:55.649Z"
   },
   {
    "duration": 48,
    "start_time": "2022-11-22T14:36:55.782Z"
   },
   {
    "duration": 27,
    "start_time": "2022-11-22T14:36:55.832Z"
   },
   {
    "duration": 46,
    "start_time": "2022-11-22T14:36:55.861Z"
   },
   {
    "duration": 291,
    "start_time": "2022-11-22T14:36:55.909Z"
   },
   {
    "duration": 32,
    "start_time": "2022-11-22T14:36:56.204Z"
   },
   {
    "duration": 21,
    "start_time": "2022-11-22T14:36:56.238Z"
   },
   {
    "duration": 232,
    "start_time": "2022-11-22T14:36:56.261Z"
   },
   {
    "duration": 57,
    "start_time": "2022-11-22T14:36:56.495Z"
   },
   {
    "duration": 143,
    "start_time": "2022-11-22T14:37:12.768Z"
   },
   {
    "duration": 121,
    "start_time": "2022-11-22T14:37:34.621Z"
   },
   {
    "duration": 64,
    "start_time": "2022-11-22T14:37:45.711Z"
   },
   {
    "duration": 12,
    "start_time": "2022-11-22T14:40:14.072Z"
   },
   {
    "duration": 62,
    "start_time": "2022-11-22T14:40:16.985Z"
   },
   {
    "duration": 6,
    "start_time": "2022-11-22T14:42:25.677Z"
   },
   {
    "duration": 158,
    "start_time": "2022-11-22T14:45:28.029Z"
   },
   {
    "duration": 5,
    "start_time": "2022-11-22T14:45:33.021Z"
   },
   {
    "duration": 65,
    "start_time": "2022-11-22T14:45:35.832Z"
   },
   {
    "duration": 124,
    "start_time": "2022-11-22T14:48:23.238Z"
   },
   {
    "duration": 1504,
    "start_time": "2022-11-22T14:49:04.945Z"
   },
   {
    "duration": 862,
    "start_time": "2022-11-22T14:49:06.451Z"
   },
   {
    "duration": 22,
    "start_time": "2022-11-22T14:49:07.315Z"
   },
   {
    "duration": 232,
    "start_time": "2022-11-22T14:49:07.340Z"
   },
   {
    "duration": 150,
    "start_time": "2022-11-22T14:49:07.574Z"
   },
   {
    "duration": 504,
    "start_time": "2022-11-22T14:49:07.725Z"
   },
   {
    "duration": 1054,
    "start_time": "2022-11-22T14:49:08.232Z"
   },
   {
    "duration": 260,
    "start_time": "2022-11-22T14:49:09.288Z"
   },
   {
    "duration": 9,
    "start_time": "2022-11-22T14:49:09.549Z"
   },
   {
    "duration": 62,
    "start_time": "2022-11-22T14:49:09.559Z"
   },
   {
    "duration": 302,
    "start_time": "2022-11-22T14:49:09.623Z"
   },
   {
    "duration": 127,
    "start_time": "2022-11-22T14:49:09.927Z"
   },
   {
    "duration": 58,
    "start_time": "2022-11-22T14:49:10.055Z"
   },
   {
    "duration": 28,
    "start_time": "2022-11-22T14:49:10.115Z"
   },
   {
    "duration": 26,
    "start_time": "2022-11-22T14:49:10.145Z"
   },
   {
    "duration": 285,
    "start_time": "2022-11-22T14:49:10.173Z"
   },
   {
    "duration": 43,
    "start_time": "2022-11-22T14:49:10.461Z"
   },
   {
    "duration": 21,
    "start_time": "2022-11-22T14:49:10.506Z"
   },
   {
    "duration": 80,
    "start_time": "2022-11-22T14:49:10.529Z"
   },
   {
    "duration": 37,
    "start_time": "2022-11-22T14:49:10.610Z"
   },
   {
    "duration": 110,
    "start_time": "2022-11-22T14:53:48.773Z"
   },
   {
    "duration": 9,
    "start_time": "2022-11-22T14:54:23.327Z"
   },
   {
    "duration": 79,
    "start_time": "2022-11-22T14:55:37.098Z"
   },
   {
    "duration": 44,
    "start_time": "2022-11-22T14:55:48.572Z"
   },
   {
    "duration": 71,
    "start_time": "2022-11-22T14:56:03.404Z"
   },
   {
    "duration": 54,
    "start_time": "2022-11-22T14:56:14.217Z"
   },
   {
    "duration": 47,
    "start_time": "2022-11-22T14:56:19.220Z"
   },
   {
    "duration": 1174,
    "start_time": "2022-11-22T14:58:18.413Z"
   },
   {
    "duration": 99,
    "start_time": "2022-11-22T15:01:36.866Z"
   },
   {
    "duration": 68,
    "start_time": "2022-11-22T15:02:18.885Z"
   },
   {
    "duration": 75,
    "start_time": "2022-11-22T15:02:32.585Z"
   },
   {
    "duration": 30,
    "start_time": "2022-11-22T15:02:55.153Z"
   },
   {
    "duration": 1453,
    "start_time": "2022-11-22T15:03:09.810Z"
   },
   {
    "duration": 829,
    "start_time": "2022-11-22T15:03:11.265Z"
   },
   {
    "duration": 22,
    "start_time": "2022-11-22T15:03:12.096Z"
   },
   {
    "duration": 110,
    "start_time": "2022-11-22T15:03:12.119Z"
   },
   {
    "duration": 147,
    "start_time": "2022-11-22T15:03:12.231Z"
   },
   {
    "duration": 475,
    "start_time": "2022-11-22T15:03:12.380Z"
   },
   {
    "duration": 1006,
    "start_time": "2022-11-22T15:03:12.857Z"
   },
   {
    "duration": 259,
    "start_time": "2022-11-22T15:03:13.864Z"
   },
   {
    "duration": 10,
    "start_time": "2022-11-22T15:03:14.124Z"
   },
   {
    "duration": 69,
    "start_time": "2022-11-22T15:03:14.136Z"
   },
   {
    "duration": 318,
    "start_time": "2022-11-22T15:03:14.206Z"
   },
   {
    "duration": 136,
    "start_time": "2022-11-22T15:03:14.527Z"
   },
   {
    "duration": 57,
    "start_time": "2022-11-22T15:03:14.665Z"
   },
   {
    "duration": 31,
    "start_time": "2022-11-22T15:03:14.726Z"
   },
   {
    "duration": 46,
    "start_time": "2022-11-22T15:03:14.759Z"
   },
   {
    "duration": 307,
    "start_time": "2022-11-22T15:03:14.807Z"
   },
   {
    "duration": 32,
    "start_time": "2022-11-22T15:03:15.116Z"
   },
   {
    "duration": 25,
    "start_time": "2022-11-22T15:03:15.150Z"
   },
   {
    "duration": 147,
    "start_time": "2022-11-22T15:03:15.178Z"
   },
   {
    "duration": 0,
    "start_time": "2022-11-22T15:03:15.327Z"
   },
   {
    "duration": 0,
    "start_time": "2022-11-22T15:03:15.328Z"
   },
   {
    "duration": 0,
    "start_time": "2022-11-22T15:03:15.330Z"
   },
   {
    "duration": 0,
    "start_time": "2022-11-22T15:03:15.331Z"
   },
   {
    "duration": 64,
    "start_time": "2022-11-22T15:03:33.544Z"
   },
   {
    "duration": 104,
    "start_time": "2022-11-22T15:03:45.305Z"
   },
   {
    "duration": 79,
    "start_time": "2022-11-22T15:04:58.306Z"
   },
   {
    "duration": 71,
    "start_time": "2022-11-22T15:05:20.658Z"
   },
   {
    "duration": 3,
    "start_time": "2022-11-22T15:13:35.562Z"
   },
   {
    "duration": 43,
    "start_time": "2022-11-22T15:13:39.479Z"
   },
   {
    "duration": 75,
    "start_time": "2022-11-22T15:13:45.300Z"
   },
   {
    "duration": 2148,
    "start_time": "2022-11-22T15:13:46.814Z"
   },
   {
    "duration": 12,
    "start_time": "2022-11-22T15:16:31.770Z"
   },
   {
    "duration": 142,
    "start_time": "2022-11-22T15:16:57.962Z"
   },
   {
    "duration": 3,
    "start_time": "2022-11-22T15:17:02.779Z"
   },
   {
    "duration": 2214,
    "start_time": "2022-11-22T15:17:06.684Z"
   },
   {
    "duration": 30,
    "start_time": "2022-11-22T15:22:42.967Z"
   },
   {
    "duration": 2176,
    "start_time": "2022-11-22T15:23:32.611Z"
   },
   {
    "duration": 2254,
    "start_time": "2022-11-22T15:24:01.981Z"
   },
   {
    "duration": 1355,
    "start_time": "2022-11-22T15:24:39.216Z"
   },
   {
    "duration": 783,
    "start_time": "2022-11-22T15:24:40.573Z"
   },
   {
    "duration": 15,
    "start_time": "2022-11-22T15:24:41.357Z"
   },
   {
    "duration": 114,
    "start_time": "2022-11-22T15:24:41.374Z"
   },
   {
    "duration": 128,
    "start_time": "2022-11-22T15:24:41.490Z"
   },
   {
    "duration": 442,
    "start_time": "2022-11-22T15:24:41.620Z"
   },
   {
    "duration": 977,
    "start_time": "2022-11-22T15:24:42.064Z"
   },
   {
    "duration": 245,
    "start_time": "2022-11-22T15:24:43.043Z"
   },
   {
    "duration": 15,
    "start_time": "2022-11-22T15:24:43.289Z"
   },
   {
    "duration": 42,
    "start_time": "2022-11-22T15:24:43.306Z"
   },
   {
    "duration": 302,
    "start_time": "2022-11-22T15:24:43.350Z"
   },
   {
    "duration": 128,
    "start_time": "2022-11-22T15:24:43.654Z"
   },
   {
    "duration": 37,
    "start_time": "2022-11-22T15:24:43.783Z"
   },
   {
    "duration": 29,
    "start_time": "2022-11-22T15:24:43.822Z"
   },
   {
    "duration": 295,
    "start_time": "2022-11-22T15:24:43.853Z"
   },
   {
    "duration": 32,
    "start_time": "2022-11-22T15:24:44.151Z"
   },
   {
    "duration": 34,
    "start_time": "2022-11-22T15:24:44.185Z"
   },
   {
    "duration": 70,
    "start_time": "2022-11-22T15:24:44.221Z"
   },
   {
    "duration": 117,
    "start_time": "2022-11-22T15:24:44.305Z"
   },
   {
    "duration": 0,
    "start_time": "2022-11-22T15:24:44.423Z"
   },
   {
    "duration": 0,
    "start_time": "2022-11-22T15:24:44.425Z"
   },
   {
    "duration": 0,
    "start_time": "2022-11-22T15:24:44.426Z"
   },
   {
    "duration": 0,
    "start_time": "2022-11-22T15:24:44.427Z"
   },
   {
    "duration": 0,
    "start_time": "2022-11-22T15:24:44.428Z"
   },
   {
    "duration": 0,
    "start_time": "2022-11-22T15:24:44.429Z"
   },
   {
    "duration": 0,
    "start_time": "2022-11-22T15:24:44.430Z"
   },
   {
    "duration": 1448,
    "start_time": "2022-11-22T15:24:59.768Z"
   },
   {
    "duration": 818,
    "start_time": "2022-11-22T15:25:01.218Z"
   },
   {
    "duration": 17,
    "start_time": "2022-11-22T15:25:02.037Z"
   },
   {
    "duration": 108,
    "start_time": "2022-11-22T15:25:02.056Z"
   },
   {
    "duration": 145,
    "start_time": "2022-11-22T15:25:02.166Z"
   },
   {
    "duration": 481,
    "start_time": "2022-11-22T15:25:02.313Z"
   },
   {
    "duration": 974,
    "start_time": "2022-11-22T15:25:02.796Z"
   },
   {
    "duration": 249,
    "start_time": "2022-11-22T15:25:03.771Z"
   },
   {
    "duration": 8,
    "start_time": "2022-11-22T15:25:04.021Z"
   },
   {
    "duration": 43,
    "start_time": "2022-11-22T15:25:04.032Z"
   },
   {
    "duration": 314,
    "start_time": "2022-11-22T15:25:04.077Z"
   },
   {
    "duration": 119,
    "start_time": "2022-11-22T15:25:04.392Z"
   },
   {
    "duration": 28,
    "start_time": "2022-11-22T15:25:04.513Z"
   },
   {
    "duration": 28,
    "start_time": "2022-11-22T15:25:04.543Z"
   },
   {
    "duration": 296,
    "start_time": "2022-11-22T15:25:04.573Z"
   },
   {
    "duration": 41,
    "start_time": "2022-11-22T15:25:04.871Z"
   },
   {
    "duration": 26,
    "start_time": "2022-11-22T15:25:04.915Z"
   },
   {
    "duration": 88,
    "start_time": "2022-11-22T15:25:04.943Z"
   },
   {
    "duration": 94,
    "start_time": "2022-11-22T15:25:05.032Z"
   },
   {
    "duration": 67,
    "start_time": "2022-11-22T15:25:05.128Z"
   },
   {
    "duration": 87,
    "start_time": "2022-11-22T15:25:05.196Z"
   },
   {
    "duration": 135,
    "start_time": "2022-11-22T15:25:05.285Z"
   },
   {
    "duration": 6,
    "start_time": "2022-11-22T15:25:05.421Z"
   },
   {
    "duration": 35,
    "start_time": "2022-11-22T15:25:05.428Z"
   },
   {
    "duration": 2,
    "start_time": "2022-11-22T15:25:05.465Z"
   },
   {
    "duration": 1322,
    "start_time": "2022-11-22T15:25:05.469Z"
   },
   {
    "duration": 1389,
    "start_time": "2022-11-22T15:26:25.550Z"
   },
   {
    "duration": 2964,
    "start_time": "2022-11-22T15:26:26.941Z"
   },
   {
    "duration": 19,
    "start_time": "2022-11-22T15:26:29.907Z"
   },
   {
    "duration": 155,
    "start_time": "2022-11-22T15:26:29.929Z"
   },
   {
    "duration": 139,
    "start_time": "2022-11-22T15:26:30.085Z"
   },
   {
    "duration": 469,
    "start_time": "2022-11-22T15:26:30.226Z"
   },
   {
    "duration": 1005,
    "start_time": "2022-11-22T15:26:30.697Z"
   },
   {
    "duration": 253,
    "start_time": "2022-11-22T15:26:31.705Z"
   },
   {
    "duration": 8,
    "start_time": "2022-11-22T15:26:31.959Z"
   },
   {
    "duration": 59,
    "start_time": "2022-11-22T15:26:31.969Z"
   },
   {
    "duration": 314,
    "start_time": "2022-11-22T15:26:32.029Z"
   },
   {
    "duration": 124,
    "start_time": "2022-11-22T15:26:32.345Z"
   },
   {
    "duration": 40,
    "start_time": "2022-11-22T15:26:32.471Z"
   },
   {
    "duration": 33,
    "start_time": "2022-11-22T15:26:32.512Z"
   },
   {
    "duration": 277,
    "start_time": "2022-11-22T15:26:32.546Z"
   },
   {
    "duration": 30,
    "start_time": "2022-11-22T15:26:32.825Z"
   },
   {
    "duration": 28,
    "start_time": "2022-11-22T15:26:32.856Z"
   },
   {
    "duration": 85,
    "start_time": "2022-11-22T15:26:32.885Z"
   },
   {
    "duration": 94,
    "start_time": "2022-11-22T15:26:32.972Z"
   },
   {
    "duration": 75,
    "start_time": "2022-11-22T15:26:33.068Z"
   },
   {
    "duration": 85,
    "start_time": "2022-11-22T15:26:33.145Z"
   },
   {
    "duration": 145,
    "start_time": "2022-11-22T15:26:33.231Z"
   },
   {
    "duration": 5,
    "start_time": "2022-11-22T15:26:33.377Z"
   },
   {
    "duration": 44,
    "start_time": "2022-11-22T15:26:33.384Z"
   },
   {
    "duration": 3,
    "start_time": "2022-11-22T15:26:33.429Z"
   },
   {
    "duration": 51,
    "start_time": "2022-11-22T15:27:39.988Z"
   },
   {
    "duration": 1460,
    "start_time": "2022-11-22T15:27:48.398Z"
   },
   {
    "duration": 2904,
    "start_time": "2022-11-22T15:27:49.860Z"
   },
   {
    "duration": 17,
    "start_time": "2022-11-22T15:27:52.766Z"
   },
   {
    "duration": 146,
    "start_time": "2022-11-22T15:27:52.785Z"
   },
   {
    "duration": 148,
    "start_time": "2022-11-22T15:27:52.933Z"
   },
   {
    "duration": 479,
    "start_time": "2022-11-22T15:27:53.083Z"
   },
   {
    "duration": 963,
    "start_time": "2022-11-22T15:27:53.564Z"
   },
   {
    "duration": 244,
    "start_time": "2022-11-22T15:27:54.528Z"
   },
   {
    "duration": 7,
    "start_time": "2022-11-22T15:27:54.774Z"
   },
   {
    "duration": 62,
    "start_time": "2022-11-22T15:27:54.784Z"
   },
   {
    "duration": 320,
    "start_time": "2022-11-22T15:27:54.847Z"
   },
   {
    "duration": 127,
    "start_time": "2022-11-22T15:27:55.169Z"
   },
   {
    "duration": 32,
    "start_time": "2022-11-22T15:27:55.298Z"
   },
   {
    "duration": 30,
    "start_time": "2022-11-22T15:27:55.332Z"
   },
   {
    "duration": 290,
    "start_time": "2022-11-22T15:27:55.363Z"
   },
   {
    "duration": 31,
    "start_time": "2022-11-22T15:27:55.655Z"
   },
   {
    "duration": 36,
    "start_time": "2022-11-22T15:27:55.688Z"
   },
   {
    "duration": 83,
    "start_time": "2022-11-22T15:27:55.726Z"
   },
   {
    "duration": 96,
    "start_time": "2022-11-22T15:27:55.810Z"
   },
   {
    "duration": 69,
    "start_time": "2022-11-22T15:27:55.908Z"
   },
   {
    "duration": 87,
    "start_time": "2022-11-22T15:27:55.978Z"
   },
   {
    "duration": 156,
    "start_time": "2022-11-22T15:27:56.067Z"
   },
   {
    "duration": 6,
    "start_time": "2022-11-22T15:27:56.225Z"
   },
   {
    "duration": 49,
    "start_time": "2022-11-22T15:27:56.233Z"
   },
   {
    "duration": 3,
    "start_time": "2022-11-22T15:27:56.284Z"
   },
   {
    "duration": 50,
    "start_time": "2022-11-22T15:29:36.394Z"
   },
   {
    "duration": 1364,
    "start_time": "2022-11-22T15:29:42.748Z"
   },
   {
    "duration": 2892,
    "start_time": "2022-11-22T15:29:44.114Z"
   },
   {
    "duration": 19,
    "start_time": "2022-11-22T15:29:47.008Z"
   },
   {
    "duration": 155,
    "start_time": "2022-11-22T15:29:47.028Z"
   },
   {
    "duration": 140,
    "start_time": "2022-11-22T15:29:47.185Z"
   },
   {
    "duration": 524,
    "start_time": "2022-11-22T15:29:47.327Z"
   },
   {
    "duration": 1004,
    "start_time": "2022-11-22T15:29:47.853Z"
   },
   {
    "duration": 257,
    "start_time": "2022-11-22T15:29:48.859Z"
   },
   {
    "duration": 9,
    "start_time": "2022-11-22T15:29:49.118Z"
   },
   {
    "duration": 58,
    "start_time": "2022-11-22T15:29:49.128Z"
   },
   {
    "duration": 331,
    "start_time": "2022-11-22T15:29:49.188Z"
   },
   {
    "duration": 136,
    "start_time": "2022-11-22T15:29:49.520Z"
   },
   {
    "duration": 27,
    "start_time": "2022-11-22T15:29:49.658Z"
   },
   {
    "duration": 41,
    "start_time": "2022-11-22T15:29:49.688Z"
   },
   {
    "duration": 276,
    "start_time": "2022-11-22T15:29:49.731Z"
   },
   {
    "duration": 33,
    "start_time": "2022-11-22T15:29:50.008Z"
   },
   {
    "duration": 24,
    "start_time": "2022-11-22T15:29:50.043Z"
   },
   {
    "duration": 103,
    "start_time": "2022-11-22T15:29:50.069Z"
   },
   {
    "duration": 106,
    "start_time": "2022-11-22T15:29:50.173Z"
   },
   {
    "duration": 79,
    "start_time": "2022-11-22T15:29:50.281Z"
   },
   {
    "duration": 87,
    "start_time": "2022-11-22T15:29:50.362Z"
   },
   {
    "duration": 158,
    "start_time": "2022-11-22T15:29:50.451Z"
   },
   {
    "duration": 5,
    "start_time": "2022-11-22T15:29:50.610Z"
   },
   {
    "duration": 42,
    "start_time": "2022-11-22T15:29:50.616Z"
   },
   {
    "duration": 3,
    "start_time": "2022-11-22T15:29:50.660Z"
   },
   {
    "duration": 1412,
    "start_time": "2022-11-22T15:37:17.333Z"
   },
   {
    "duration": 2855,
    "start_time": "2022-11-22T15:37:18.747Z"
   },
   {
    "duration": 17,
    "start_time": "2022-11-22T15:37:21.605Z"
   },
   {
    "duration": 115,
    "start_time": "2022-11-22T15:37:21.623Z"
   },
   {
    "duration": 125,
    "start_time": "2022-11-22T15:37:21.741Z"
   },
   {
    "duration": 463,
    "start_time": "2022-11-22T15:37:21.867Z"
   },
   {
    "duration": 961,
    "start_time": "2022-11-22T15:37:22.332Z"
   },
   {
    "duration": 263,
    "start_time": "2022-11-22T15:37:23.295Z"
   },
   {
    "duration": 9,
    "start_time": "2022-11-22T15:37:23.559Z"
   },
   {
    "duration": 55,
    "start_time": "2022-11-22T15:37:23.569Z"
   },
   {
    "duration": 293,
    "start_time": "2022-11-22T15:37:23.626Z"
   },
   {
    "duration": 121,
    "start_time": "2022-11-22T15:37:23.920Z"
   },
   {
    "duration": 27,
    "start_time": "2022-11-22T15:37:24.042Z"
   },
   {
    "duration": 45,
    "start_time": "2022-11-22T15:37:24.072Z"
   },
   {
    "duration": 269,
    "start_time": "2022-11-22T15:37:24.118Z"
   },
   {
    "duration": 42,
    "start_time": "2022-11-22T15:37:24.389Z"
   },
   {
    "duration": 22,
    "start_time": "2022-11-22T15:37:24.432Z"
   },
   {
    "duration": 75,
    "start_time": "2022-11-22T15:37:24.456Z"
   },
   {
    "duration": 95,
    "start_time": "2022-11-22T15:37:24.532Z"
   },
   {
    "duration": 67,
    "start_time": "2022-11-22T15:37:24.629Z"
   },
   {
    "duration": 73,
    "start_time": "2022-11-22T15:37:24.705Z"
   },
   {
    "duration": 152,
    "start_time": "2022-11-22T15:37:24.780Z"
   },
   {
    "duration": 6,
    "start_time": "2022-11-22T15:37:24.933Z"
   },
   {
    "duration": 38,
    "start_time": "2022-11-22T15:37:24.943Z"
   },
   {
    "duration": 3,
    "start_time": "2022-11-22T15:37:24.983Z"
   },
   {
    "duration": 1106,
    "start_time": "2022-11-22T15:37:24.987Z"
   },
   {
    "duration": 13,
    "start_time": "2022-11-22T15:39:04.136Z"
   },
   {
    "duration": 3,
    "start_time": "2022-11-22T15:39:12.249Z"
   },
   {
    "duration": 1320,
    "start_time": "2022-11-22T15:41:34.546Z"
   },
   {
    "duration": 829,
    "start_time": "2022-11-22T15:41:35.868Z"
   },
   {
    "duration": 18,
    "start_time": "2022-11-22T15:41:36.699Z"
   },
   {
    "duration": 94,
    "start_time": "2022-11-22T15:41:36.719Z"
   },
   {
    "duration": 132,
    "start_time": "2022-11-22T15:41:36.815Z"
   },
   {
    "duration": 484,
    "start_time": "2022-11-22T15:41:36.948Z"
   },
   {
    "duration": 1041,
    "start_time": "2022-11-22T15:41:37.434Z"
   },
   {
    "duration": 243,
    "start_time": "2022-11-22T15:41:38.477Z"
   },
   {
    "duration": 9,
    "start_time": "2022-11-22T15:41:38.721Z"
   },
   {
    "duration": 45,
    "start_time": "2022-11-22T15:41:38.732Z"
   },
   {
    "duration": 322,
    "start_time": "2022-11-22T15:41:38.779Z"
   },
   {
    "duration": 132,
    "start_time": "2022-11-22T15:41:39.104Z"
   },
   {
    "duration": 31,
    "start_time": "2022-11-22T15:41:39.238Z"
   },
   {
    "duration": 48,
    "start_time": "2022-11-22T15:41:39.271Z"
   },
   {
    "duration": 297,
    "start_time": "2022-11-22T15:41:39.321Z"
   },
   {
    "duration": 31,
    "start_time": "2022-11-22T15:41:39.621Z"
   },
   {
    "duration": 30,
    "start_time": "2022-11-22T15:41:39.654Z"
   },
   {
    "duration": 69,
    "start_time": "2022-11-22T15:41:39.704Z"
   },
   {
    "duration": 97,
    "start_time": "2022-11-22T15:41:39.774Z"
   },
   {
    "duration": 72,
    "start_time": "2022-11-22T15:41:39.872Z"
   },
   {
    "duration": 84,
    "start_time": "2022-11-22T15:41:39.945Z"
   },
   {
    "duration": 143,
    "start_time": "2022-11-22T15:41:40.031Z"
   },
   {
    "duration": 10,
    "start_time": "2022-11-22T15:41:40.176Z"
   },
   {
    "duration": 44,
    "start_time": "2022-11-22T15:41:40.187Z"
   },
   {
    "duration": 3,
    "start_time": "2022-11-22T15:41:40.232Z"
   },
   {
    "duration": 7262,
    "start_time": "2022-11-22T15:41:40.236Z"
   },
   {
    "duration": 12,
    "start_time": "2022-11-22T15:44:19.084Z"
   },
   {
    "duration": 10,
    "start_time": "2022-11-22T15:44:23.266Z"
   },
   {
    "duration": 7202,
    "start_time": "2022-11-22T15:44:52.996Z"
   },
   {
    "duration": 4,
    "start_time": "2022-11-22T15:45:18.180Z"
   },
   {
    "duration": 7204,
    "start_time": "2022-11-22T15:45:24.097Z"
   },
   {
    "duration": 8251,
    "start_time": "2022-11-22T15:45:48.495Z"
   },
   {
    "duration": 2,
    "start_time": "2022-11-22T15:46:26.115Z"
   },
   {
    "duration": 2,
    "start_time": "2022-11-22T15:46:40.569Z"
   },
   {
    "duration": 8337,
    "start_time": "2022-11-22T15:46:42.226Z"
   },
   {
    "duration": 8321,
    "start_time": "2022-11-22T15:47:28.922Z"
   },
   {
    "duration": 9123,
    "start_time": "2022-11-22T15:50:01.926Z"
   },
   {
    "duration": 22,
    "start_time": "2022-11-22T15:52:24.503Z"
   },
   {
    "duration": 1415,
    "start_time": "2022-11-22T15:56:32.086Z"
   },
   {
    "duration": 846,
    "start_time": "2022-11-22T15:56:33.503Z"
   },
   {
    "duration": 15,
    "start_time": "2022-11-22T15:56:34.351Z"
   },
   {
    "duration": 154,
    "start_time": "2022-11-22T15:56:34.368Z"
   },
   {
    "duration": 132,
    "start_time": "2022-11-22T15:56:34.524Z"
   },
   {
    "duration": 474,
    "start_time": "2022-11-22T15:56:34.658Z"
   },
   {
    "duration": 950,
    "start_time": "2022-11-22T15:56:35.133Z"
   },
   {
    "duration": 266,
    "start_time": "2022-11-22T15:56:36.085Z"
   },
   {
    "duration": 8,
    "start_time": "2022-11-22T15:56:36.353Z"
   },
   {
    "duration": 60,
    "start_time": "2022-11-22T15:56:36.364Z"
   },
   {
    "duration": 323,
    "start_time": "2022-11-22T15:56:36.426Z"
   },
   {
    "duration": 119,
    "start_time": "2022-11-22T15:56:36.750Z"
   },
   {
    "duration": 36,
    "start_time": "2022-11-22T15:56:36.871Z"
   },
   {
    "duration": 29,
    "start_time": "2022-11-22T15:56:36.908Z"
   },
   {
    "duration": 279,
    "start_time": "2022-11-22T15:56:36.938Z"
   },
   {
    "duration": 30,
    "start_time": "2022-11-22T15:56:37.218Z"
   },
   {
    "duration": 21,
    "start_time": "2022-11-22T15:56:37.250Z"
   },
   {
    "duration": 79,
    "start_time": "2022-11-22T15:56:37.272Z"
   },
   {
    "duration": 113,
    "start_time": "2022-11-22T15:56:37.352Z"
   },
   {
    "duration": 96,
    "start_time": "2022-11-22T15:56:37.467Z"
   },
   {
    "duration": 88,
    "start_time": "2022-11-22T15:56:37.565Z"
   },
   {
    "duration": 1225,
    "start_time": "2022-11-22T15:56:37.654Z"
   },
   {
    "duration": 0,
    "start_time": "2022-11-22T15:56:38.881Z"
   },
   {
    "duration": 0,
    "start_time": "2022-11-22T15:56:38.883Z"
   },
   {
    "duration": 0,
    "start_time": "2022-11-22T15:56:38.884Z"
   },
   {
    "duration": 0,
    "start_time": "2022-11-22T15:56:38.886Z"
   },
   {
    "duration": 0,
    "start_time": "2022-11-22T15:56:38.887Z"
   },
   {
    "duration": 67,
    "start_time": "2022-11-22T15:57:05.778Z"
   },
   {
    "duration": 143,
    "start_time": "2022-11-22T15:57:15.256Z"
   },
   {
    "duration": 1349,
    "start_time": "2022-11-22T15:57:49.141Z"
   },
   {
    "duration": 840,
    "start_time": "2022-11-22T15:57:50.492Z"
   },
   {
    "duration": 17,
    "start_time": "2022-11-22T15:57:51.333Z"
   },
   {
    "duration": 100,
    "start_time": "2022-11-22T15:57:51.352Z"
   },
   {
    "duration": 136,
    "start_time": "2022-11-22T15:57:51.453Z"
   },
   {
    "duration": 473,
    "start_time": "2022-11-22T15:57:51.591Z"
   },
   {
    "duration": 974,
    "start_time": "2022-11-22T15:57:52.065Z"
   },
   {
    "duration": 250,
    "start_time": "2022-11-22T15:57:53.041Z"
   },
   {
    "duration": 17,
    "start_time": "2022-11-22T15:57:53.292Z"
   },
   {
    "duration": 43,
    "start_time": "2022-11-22T15:57:53.312Z"
   },
   {
    "duration": 302,
    "start_time": "2022-11-22T15:57:53.357Z"
   },
   {
    "duration": 127,
    "start_time": "2022-11-22T15:57:53.660Z"
   },
   {
    "duration": 37,
    "start_time": "2022-11-22T15:57:53.789Z"
   },
   {
    "duration": 32,
    "start_time": "2022-11-22T15:57:53.828Z"
   },
   {
    "duration": 286,
    "start_time": "2022-11-22T15:57:53.861Z"
   },
   {
    "duration": 34,
    "start_time": "2022-11-22T15:57:54.148Z"
   },
   {
    "duration": 46,
    "start_time": "2022-11-22T15:57:54.184Z"
   },
   {
    "duration": 76,
    "start_time": "2022-11-22T15:57:54.232Z"
   },
   {
    "duration": 107,
    "start_time": "2022-11-22T15:57:54.310Z"
   },
   {
    "duration": 69,
    "start_time": "2022-11-22T15:57:54.418Z"
   },
   {
    "duration": 86,
    "start_time": "2022-11-22T15:57:54.488Z"
   },
   {
    "duration": 177,
    "start_time": "2022-11-22T15:57:54.575Z"
   },
   {
    "duration": 5,
    "start_time": "2022-11-22T15:57:54.753Z"
   },
   {
    "duration": 26,
    "start_time": "2022-11-22T15:57:54.759Z"
   },
   {
    "duration": 50,
    "start_time": "2022-11-22T15:57:54.787Z"
   },
   {
    "duration": 3,
    "start_time": "2022-11-22T15:57:54.838Z"
   },
   {
    "duration": 8758,
    "start_time": "2022-11-22T15:57:54.843Z"
   },
   {
    "duration": 7333,
    "start_time": "2022-11-22T15:58:58.514Z"
   },
   {
    "duration": 10,
    "start_time": "2022-11-22T16:02:11.305Z"
   },
   {
    "duration": 10,
    "start_time": "2022-11-22T16:02:22.535Z"
   },
   {
    "duration": 9,
    "start_time": "2022-11-22T16:02:34.401Z"
   },
   {
    "duration": 13,
    "start_time": "2022-11-22T16:02:40.560Z"
   },
   {
    "duration": 12,
    "start_time": "2022-11-22T16:02:49.015Z"
   },
   {
    "duration": 7474,
    "start_time": "2022-11-22T16:03:02.355Z"
   },
   {
    "duration": 15187,
    "start_time": "2022-11-22T16:03:49.500Z"
   },
   {
    "duration": 13416,
    "start_time": "2022-11-22T16:04:33.095Z"
   },
   {
    "duration": 6646,
    "start_time": "2022-11-22T16:05:15.709Z"
   },
   {
    "duration": 10990,
    "start_time": "2022-11-22T16:05:41.249Z"
   },
   {
    "duration": 15410,
    "start_time": "2022-11-22T16:05:55.469Z"
   },
   {
    "duration": 1328,
    "start_time": "2022-11-22T16:07:32.557Z"
   },
   {
    "duration": 787,
    "start_time": "2022-11-22T16:07:33.887Z"
   },
   {
    "duration": 16,
    "start_time": "2022-11-22T16:07:34.676Z"
   },
   {
    "duration": 139,
    "start_time": "2022-11-22T16:07:34.693Z"
   },
   {
    "duration": 139,
    "start_time": "2022-11-22T16:07:34.834Z"
   },
   {
    "duration": 451,
    "start_time": "2022-11-22T16:07:34.975Z"
   },
   {
    "duration": 1001,
    "start_time": "2022-11-22T16:07:35.428Z"
   },
   {
    "duration": 248,
    "start_time": "2022-11-22T16:07:36.430Z"
   },
   {
    "duration": 10,
    "start_time": "2022-11-22T16:07:36.679Z"
   },
   {
    "duration": 57,
    "start_time": "2022-11-22T16:07:36.690Z"
   },
   {
    "duration": 321,
    "start_time": "2022-11-22T16:07:36.749Z"
   },
   {
    "duration": 115,
    "start_time": "2022-11-22T16:07:37.071Z"
   },
   {
    "duration": 48,
    "start_time": "2022-11-22T16:07:37.188Z"
   },
   {
    "duration": 30,
    "start_time": "2022-11-22T16:07:37.239Z"
   },
   {
    "duration": 275,
    "start_time": "2022-11-22T16:07:37.271Z"
   },
   {
    "duration": 43,
    "start_time": "2022-11-22T16:07:37.548Z"
   },
   {
    "duration": 25,
    "start_time": "2022-11-22T16:07:37.604Z"
   },
   {
    "duration": 98,
    "start_time": "2022-11-22T16:07:37.632Z"
   },
   {
    "duration": 121,
    "start_time": "2022-11-22T16:07:37.732Z"
   },
   {
    "duration": 75,
    "start_time": "2022-11-22T16:07:37.855Z"
   },
   {
    "duration": 83,
    "start_time": "2022-11-22T16:07:37.932Z"
   },
   {
    "duration": 164,
    "start_time": "2022-11-22T16:07:38.017Z"
   },
   {
    "duration": 5,
    "start_time": "2022-11-22T16:07:38.183Z"
   },
   {
    "duration": 33,
    "start_time": "2022-11-22T16:07:38.190Z"
   },
   {
    "duration": 37,
    "start_time": "2022-11-22T16:07:38.224Z"
   },
   {
    "duration": 6,
    "start_time": "2022-11-22T16:07:38.263Z"
   },
   {
    "duration": 1413,
    "start_time": "2022-11-22T16:11:25.682Z"
   },
   {
    "duration": 845,
    "start_time": "2022-11-22T16:11:27.097Z"
   },
   {
    "duration": 17,
    "start_time": "2022-11-22T16:11:27.943Z"
   },
   {
    "duration": 104,
    "start_time": "2022-11-22T16:11:27.962Z"
   },
   {
    "duration": 126,
    "start_time": "2022-11-22T16:11:28.068Z"
   },
   {
    "duration": 480,
    "start_time": "2022-11-22T16:11:28.205Z"
   },
   {
    "duration": 933,
    "start_time": "2022-11-22T16:11:28.686Z"
   },
   {
    "duration": 252,
    "start_time": "2022-11-22T16:11:29.620Z"
   },
   {
    "duration": 8,
    "start_time": "2022-11-22T16:11:29.874Z"
   },
   {
    "duration": 52,
    "start_time": "2022-11-22T16:11:29.884Z"
   },
   {
    "duration": 325,
    "start_time": "2022-11-22T16:11:29.938Z"
   },
   {
    "duration": 126,
    "start_time": "2022-11-22T16:11:30.265Z"
   },
   {
    "duration": 38,
    "start_time": "2022-11-22T16:11:30.393Z"
   },
   {
    "duration": 31,
    "start_time": "2022-11-22T16:11:30.432Z"
   },
   {
    "duration": 293,
    "start_time": "2022-11-22T16:11:30.464Z"
   },
   {
    "duration": 31,
    "start_time": "2022-11-22T16:11:30.758Z"
   },
   {
    "duration": 43,
    "start_time": "2022-11-22T16:11:30.791Z"
   },
   {
    "duration": 80,
    "start_time": "2022-11-22T16:11:30.836Z"
   },
   {
    "duration": 159,
    "start_time": "2022-11-22T16:11:30.917Z"
   },
   {
    "duration": 76,
    "start_time": "2022-11-22T16:11:31.077Z"
   },
   {
    "duration": 141,
    "start_time": "2022-11-22T16:11:31.154Z"
   },
   {
    "duration": 185,
    "start_time": "2022-11-22T16:11:31.297Z"
   },
   {
    "duration": 5,
    "start_time": "2022-11-22T16:11:31.484Z"
   },
   {
    "duration": 58,
    "start_time": "2022-11-22T16:11:31.491Z"
   },
   {
    "duration": 35,
    "start_time": "2022-11-22T16:11:31.551Z"
   },
   {
    "duration": 3,
    "start_time": "2022-11-22T16:11:31.588Z"
   },
   {
    "duration": 109,
    "start_time": "2022-11-22T16:12:10.554Z"
   },
   {
    "duration": 1379,
    "start_time": "2022-11-22T16:12:16.367Z"
   },
   {
    "duration": 851,
    "start_time": "2022-11-22T16:12:17.748Z"
   },
   {
    "duration": 19,
    "start_time": "2022-11-22T16:12:18.600Z"
   },
   {
    "duration": 153,
    "start_time": "2022-11-22T16:12:18.620Z"
   },
   {
    "duration": 136,
    "start_time": "2022-11-22T16:12:18.775Z"
   },
   {
    "duration": 467,
    "start_time": "2022-11-22T16:12:18.913Z"
   },
   {
    "duration": 949,
    "start_time": "2022-11-22T16:12:19.382Z"
   },
   {
    "duration": 246,
    "start_time": "2022-11-22T16:12:20.332Z"
   },
   {
    "duration": 9,
    "start_time": "2022-11-22T16:12:20.580Z"
   },
   {
    "duration": 60,
    "start_time": "2022-11-22T16:12:20.590Z"
   },
   {
    "duration": 299,
    "start_time": "2022-11-22T16:12:20.651Z"
   },
   {
    "duration": 120,
    "start_time": "2022-11-22T16:12:20.951Z"
   },
   {
    "duration": 34,
    "start_time": "2022-11-22T16:12:21.073Z"
   },
   {
    "duration": 30,
    "start_time": "2022-11-22T16:12:21.109Z"
   },
   {
    "duration": 280,
    "start_time": "2022-11-22T16:12:21.141Z"
   },
   {
    "duration": 31,
    "start_time": "2022-11-22T16:12:21.423Z"
   },
   {
    "duration": 22,
    "start_time": "2022-11-22T16:12:21.455Z"
   },
   {
    "duration": 85,
    "start_time": "2022-11-22T16:12:21.478Z"
   },
   {
    "duration": 112,
    "start_time": "2022-11-22T16:12:21.564Z"
   },
   {
    "duration": 71,
    "start_time": "2022-11-22T16:12:21.677Z"
   },
   {
    "duration": 89,
    "start_time": "2022-11-22T16:12:21.749Z"
   },
   {
    "duration": 166,
    "start_time": "2022-11-22T16:12:21.839Z"
   },
   {
    "duration": 5,
    "start_time": "2022-11-22T16:12:22.007Z"
   },
   {
    "duration": 42,
    "start_time": "2022-11-22T16:12:22.013Z"
   },
   {
    "duration": 33,
    "start_time": "2022-11-22T16:12:22.057Z"
   },
   {
    "duration": 3,
    "start_time": "2022-11-22T16:12:22.092Z"
   },
   {
    "duration": 119,
    "start_time": "2022-11-22T16:19:29.830Z"
   },
   {
    "duration": 1367,
    "start_time": "2022-11-22T16:19:35.493Z"
   },
   {
    "duration": 798,
    "start_time": "2022-11-22T16:19:36.861Z"
   },
   {
    "duration": 24,
    "start_time": "2022-11-22T16:19:37.661Z"
   },
   {
    "duration": 158,
    "start_time": "2022-11-22T16:19:37.687Z"
   },
   {
    "duration": 136,
    "start_time": "2022-11-22T16:19:37.847Z"
   },
   {
    "duration": 462,
    "start_time": "2022-11-22T16:19:37.985Z"
   },
   {
    "duration": 996,
    "start_time": "2022-11-22T16:19:38.448Z"
   },
   {
    "duration": 245,
    "start_time": "2022-11-22T16:19:39.446Z"
   },
   {
    "duration": 16,
    "start_time": "2022-11-22T16:19:39.693Z"
   },
   {
    "duration": 45,
    "start_time": "2022-11-22T16:19:39.711Z"
   },
   {
    "duration": 299,
    "start_time": "2022-11-22T16:19:39.757Z"
   },
   {
    "duration": 123,
    "start_time": "2022-11-22T16:19:40.058Z"
   },
   {
    "duration": 33,
    "start_time": "2022-11-22T16:19:40.183Z"
   },
   {
    "duration": 26,
    "start_time": "2022-11-22T16:19:40.218Z"
   },
   {
    "duration": 270,
    "start_time": "2022-11-22T16:19:40.245Z"
   },
   {
    "duration": 32,
    "start_time": "2022-11-22T16:19:40.517Z"
   },
   {
    "duration": 21,
    "start_time": "2022-11-22T16:19:40.551Z"
   },
   {
    "duration": 93,
    "start_time": "2022-11-22T16:19:40.573Z"
   },
   {
    "duration": 113,
    "start_time": "2022-11-22T16:19:40.667Z"
   },
   {
    "duration": 72,
    "start_time": "2022-11-22T16:19:40.782Z"
   },
   {
    "duration": 88,
    "start_time": "2022-11-22T16:19:40.856Z"
   },
   {
    "duration": 171,
    "start_time": "2022-11-22T16:19:40.945Z"
   },
   {
    "duration": 5,
    "start_time": "2022-11-22T16:19:41.117Z"
   },
   {
    "duration": 23,
    "start_time": "2022-11-22T16:19:41.124Z"
   },
   {
    "duration": 31,
    "start_time": "2022-11-22T16:19:41.149Z"
   },
   {
    "duration": 3,
    "start_time": "2022-11-22T16:19:41.181Z"
   },
   {
    "duration": 993,
    "start_time": "2022-11-22T16:19:41.185Z"
   },
   {
    "duration": 11,
    "start_time": "2022-11-22T16:25:57.294Z"
   },
   {
    "duration": 3,
    "start_time": "2022-11-22T16:26:21.934Z"
   },
   {
    "duration": 9,
    "start_time": "2022-11-22T16:26:27.983Z"
   },
   {
    "duration": 9,
    "start_time": "2022-11-22T16:26:39.159Z"
   },
   {
    "duration": 9,
    "start_time": "2022-11-22T16:26:53.951Z"
   },
   {
    "duration": 1458,
    "start_time": "2022-11-22T16:27:21.539Z"
   },
   {
    "duration": 2884,
    "start_time": "2022-11-22T16:27:22.999Z"
   },
   {
    "duration": 16,
    "start_time": "2022-11-22T16:27:25.884Z"
   },
   {
    "duration": 82,
    "start_time": "2022-11-22T16:27:25.901Z"
   },
   {
    "duration": 133,
    "start_time": "2022-11-22T16:27:25.986Z"
   },
   {
    "duration": 453,
    "start_time": "2022-11-22T16:27:26.121Z"
   },
   {
    "duration": 1000,
    "start_time": "2022-11-22T16:27:26.575Z"
   },
   {
    "duration": 263,
    "start_time": "2022-11-22T16:27:27.577Z"
   },
   {
    "duration": 8,
    "start_time": "2022-11-22T16:27:27.842Z"
   },
   {
    "duration": 58,
    "start_time": "2022-11-22T16:27:27.852Z"
   },
   {
    "duration": 303,
    "start_time": "2022-11-22T16:27:27.911Z"
   },
   {
    "duration": 134,
    "start_time": "2022-11-22T16:27:28.216Z"
   },
   {
    "duration": 38,
    "start_time": "2022-11-22T16:27:28.352Z"
   },
   {
    "duration": 37,
    "start_time": "2022-11-22T16:27:28.393Z"
   },
   {
    "duration": 291,
    "start_time": "2022-11-22T16:27:28.431Z"
   },
   {
    "duration": 31,
    "start_time": "2022-11-22T16:27:28.724Z"
   },
   {
    "duration": 29,
    "start_time": "2022-11-22T16:27:28.757Z"
   },
   {
    "duration": 70,
    "start_time": "2022-11-22T16:27:28.805Z"
   },
   {
    "duration": 110,
    "start_time": "2022-11-22T16:27:28.877Z"
   },
   {
    "duration": 74,
    "start_time": "2022-11-22T16:27:28.989Z"
   },
   {
    "duration": 84,
    "start_time": "2022-11-22T16:27:29.065Z"
   },
   {
    "duration": 166,
    "start_time": "2022-11-22T16:27:29.151Z"
   },
   {
    "duration": 5,
    "start_time": "2022-11-22T16:27:29.319Z"
   },
   {
    "duration": 22,
    "start_time": "2022-11-22T16:27:29.325Z"
   },
   {
    "duration": 33,
    "start_time": "2022-11-22T16:27:29.348Z"
   },
   {
    "duration": 23,
    "start_time": "2022-11-22T16:27:29.382Z"
   },
   {
    "duration": 1459,
    "start_time": "2022-11-22T16:30:27.065Z"
   },
   {
    "duration": 2895,
    "start_time": "2022-11-22T16:30:28.526Z"
   },
   {
    "duration": 16,
    "start_time": "2022-11-22T16:30:31.422Z"
   },
   {
    "duration": 118,
    "start_time": "2022-11-22T16:30:31.440Z"
   },
   {
    "duration": 121,
    "start_time": "2022-11-22T16:30:31.560Z"
   },
   {
    "duration": 454,
    "start_time": "2022-11-22T16:30:31.683Z"
   },
   {
    "duration": 943,
    "start_time": "2022-11-22T16:30:32.141Z"
   },
   {
    "duration": 252,
    "start_time": "2022-11-22T16:30:33.086Z"
   },
   {
    "duration": 9,
    "start_time": "2022-11-22T16:30:33.340Z"
   },
   {
    "duration": 59,
    "start_time": "2022-11-22T16:30:33.350Z"
   },
   {
    "duration": 293,
    "start_time": "2022-11-22T16:30:33.411Z"
   },
   {
    "duration": 127,
    "start_time": "2022-11-22T16:30:33.706Z"
   },
   {
    "duration": 27,
    "start_time": "2022-11-22T16:30:33.834Z"
   },
   {
    "duration": 43,
    "start_time": "2022-11-22T16:30:33.864Z"
   },
   {
    "duration": 265,
    "start_time": "2022-11-22T16:30:33.909Z"
   },
   {
    "duration": 35,
    "start_time": "2022-11-22T16:30:34.175Z"
   },
   {
    "duration": 23,
    "start_time": "2022-11-22T16:30:34.211Z"
   },
   {
    "duration": 80,
    "start_time": "2022-11-22T16:30:34.236Z"
   },
   {
    "duration": 113,
    "start_time": "2022-11-22T16:30:34.317Z"
   },
   {
    "duration": 74,
    "start_time": "2022-11-22T16:30:34.431Z"
   },
   {
    "duration": 72,
    "start_time": "2022-11-22T16:30:34.507Z"
   },
   {
    "duration": 171,
    "start_time": "2022-11-22T16:30:34.581Z"
   },
   {
    "duration": 6,
    "start_time": "2022-11-22T16:30:34.754Z"
   },
   {
    "duration": 27,
    "start_time": "2022-11-22T16:30:34.761Z"
   },
   {
    "duration": 34,
    "start_time": "2022-11-22T16:30:34.805Z"
   },
   {
    "duration": 3,
    "start_time": "2022-11-22T16:30:34.840Z"
   },
   {
    "duration": 903,
    "start_time": "2022-11-22T16:30:34.845Z"
   },
   {
    "duration": 116,
    "start_time": "2022-11-22T16:31:18.438Z"
   },
   {
    "duration": 105,
    "start_time": "2022-11-22T16:31:36.441Z"
   },
   {
    "duration": 1578,
    "start_time": "2022-11-23T06:42:27.708Z"
   },
   {
    "duration": 2890,
    "start_time": "2022-11-23T06:42:29.288Z"
   },
   {
    "duration": 17,
    "start_time": "2022-11-23T06:42:32.180Z"
   },
   {
    "duration": 92,
    "start_time": "2022-11-23T06:42:32.199Z"
   },
   {
    "duration": 105,
    "start_time": "2022-11-23T06:42:32.293Z"
   },
   {
    "duration": 442,
    "start_time": "2022-11-23T06:42:32.399Z"
   },
   {
    "duration": 979,
    "start_time": "2022-11-23T06:42:32.843Z"
   },
   {
    "duration": 245,
    "start_time": "2022-11-23T06:42:33.823Z"
   },
   {
    "duration": 11,
    "start_time": "2022-11-23T06:42:34.070Z"
   },
   {
    "duration": 62,
    "start_time": "2022-11-23T06:42:34.083Z"
   },
   {
    "duration": 370,
    "start_time": "2022-11-23T06:42:34.147Z"
   },
   {
    "duration": 107,
    "start_time": "2022-11-23T06:42:34.518Z"
   },
   {
    "duration": 29,
    "start_time": "2022-11-23T06:42:34.626Z"
   },
   {
    "duration": 26,
    "start_time": "2022-11-23T06:42:34.658Z"
   },
   {
    "duration": 283,
    "start_time": "2022-11-23T06:42:34.686Z"
   },
   {
    "duration": 34,
    "start_time": "2022-11-23T06:42:34.971Z"
   },
   {
    "duration": 34,
    "start_time": "2022-11-23T06:42:35.007Z"
   },
   {
    "duration": 57,
    "start_time": "2022-11-23T06:42:35.042Z"
   },
   {
    "duration": 106,
    "start_time": "2022-11-23T06:42:35.100Z"
   },
   {
    "duration": 61,
    "start_time": "2022-11-23T06:42:35.208Z"
   },
   {
    "duration": 68,
    "start_time": "2022-11-23T06:42:35.270Z"
   },
   {
    "duration": 167,
    "start_time": "2022-11-23T06:42:35.339Z"
   },
   {
    "duration": 6,
    "start_time": "2022-11-23T06:42:35.507Z"
   },
   {
    "duration": 22,
    "start_time": "2022-11-23T06:42:35.522Z"
   },
   {
    "duration": 34,
    "start_time": "2022-11-23T06:42:35.546Z"
   },
   {
    "duration": 3,
    "start_time": "2022-11-23T06:42:35.581Z"
   },
   {
    "duration": 1374,
    "start_time": "2022-11-23T06:49:59.744Z"
   },
   {
    "duration": 804,
    "start_time": "2022-11-23T06:50:01.120Z"
   },
   {
    "duration": 18,
    "start_time": "2022-11-23T06:50:01.925Z"
   },
   {
    "duration": 145,
    "start_time": "2022-11-23T06:50:01.944Z"
   },
   {
    "duration": 130,
    "start_time": "2022-11-23T06:50:02.092Z"
   },
   {
    "duration": 457,
    "start_time": "2022-11-23T06:50:02.224Z"
   },
   {
    "duration": 984,
    "start_time": "2022-11-23T06:50:02.683Z"
   },
   {
    "duration": 238,
    "start_time": "2022-11-23T06:50:03.668Z"
   },
   {
    "duration": 16,
    "start_time": "2022-11-23T06:50:03.907Z"
   },
   {
    "duration": 45,
    "start_time": "2022-11-23T06:50:03.924Z"
   },
   {
    "duration": 436,
    "start_time": "2022-11-23T06:50:03.971Z"
   },
   {
    "duration": 118,
    "start_time": "2022-11-23T06:50:04.410Z"
   },
   {
    "duration": 33,
    "start_time": "2022-11-23T06:50:04.530Z"
   },
   {
    "duration": 38,
    "start_time": "2022-11-23T06:50:04.565Z"
   },
   {
    "duration": 264,
    "start_time": "2022-11-23T06:50:04.604Z"
   },
   {
    "duration": 32,
    "start_time": "2022-11-23T06:50:04.870Z"
   },
   {
    "duration": 39,
    "start_time": "2022-11-23T06:50:04.903Z"
   },
   {
    "duration": 57,
    "start_time": "2022-11-23T06:50:04.945Z"
   },
   {
    "duration": 119,
    "start_time": "2022-11-23T06:50:05.004Z"
   },
   {
    "duration": 56,
    "start_time": "2022-11-23T06:50:05.125Z"
   },
   {
    "duration": 81,
    "start_time": "2022-11-23T06:50:05.183Z"
   },
   {
    "duration": 165,
    "start_time": "2022-11-23T06:50:05.266Z"
   },
   {
    "duration": 5,
    "start_time": "2022-11-23T06:50:05.433Z"
   },
   {
    "duration": 25,
    "start_time": "2022-11-23T06:50:05.439Z"
   },
   {
    "duration": 52,
    "start_time": "2022-11-23T06:50:05.466Z"
   },
   {
    "duration": 2,
    "start_time": "2022-11-23T06:50:05.520Z"
   },
   {
    "duration": 122,
    "start_time": "2022-11-23T06:50:05.524Z"
   },
   {
    "duration": 13073,
    "start_time": "2022-11-23T06:50:26.421Z"
   },
   {
    "duration": 13635,
    "start_time": "2022-11-23T06:51:42.067Z"
   },
   {
    "duration": 35,
    "start_time": "2022-11-23T06:53:13.316Z"
   },
   {
    "duration": 3,
    "start_time": "2022-11-23T06:53:15.185Z"
   },
   {
    "duration": 12956,
    "start_time": "2022-11-23T06:53:16.718Z"
   },
   {
    "duration": 13479,
    "start_time": "2022-11-23T06:53:47.697Z"
   },
   {
    "duration": 12931,
    "start_time": "2022-11-23T07:02:05.319Z"
   },
   {
    "duration": 68902,
    "start_time": "2022-11-23T07:02:38.441Z"
   },
   {
    "duration": 44641,
    "start_time": "2022-11-23T07:04:19.054Z"
   },
   {
    "duration": 44585,
    "start_time": "2022-11-23T07:05:21.169Z"
   },
   {
    "duration": 44452,
    "start_time": "2022-11-23T07:07:07.066Z"
   },
   {
    "duration": 3,
    "start_time": "2022-11-23T07:09:20.761Z"
   },
   {
    "duration": 74,
    "start_time": "2022-11-23T07:25:47.172Z"
   },
   {
    "duration": 82,
    "start_time": "2022-11-23T07:26:43.803Z"
   },
   {
    "duration": 3,
    "start_time": "2022-11-23T07:26:47.755Z"
   },
   {
    "duration": 12195,
    "start_time": "2022-11-23T07:26:49.667Z"
   },
   {
    "duration": 13153,
    "start_time": "2022-11-23T07:27:34.581Z"
   },
   {
    "duration": 97,
    "start_time": "2022-11-23T07:39:13.954Z"
   },
   {
    "duration": 493,
    "start_time": "2022-11-23T07:43:54.121Z"
   },
   {
    "duration": 38102,
    "start_time": "2022-11-23T07:44:38.145Z"
   },
   {
    "duration": 39766,
    "start_time": "2022-11-23T07:47:57.382Z"
   },
   {
    "duration": 1410,
    "start_time": "2022-11-23T07:57:32.984Z"
   },
   {
    "duration": 792,
    "start_time": "2022-11-23T07:57:34.396Z"
   },
   {
    "duration": 18,
    "start_time": "2022-11-23T07:57:35.190Z"
   },
   {
    "duration": 104,
    "start_time": "2022-11-23T07:57:35.210Z"
   },
   {
    "duration": 136,
    "start_time": "2022-11-23T07:57:35.323Z"
   },
   {
    "duration": 499,
    "start_time": "2022-11-23T07:57:35.461Z"
   },
   {
    "duration": 1012,
    "start_time": "2022-11-23T07:57:35.962Z"
   },
   {
    "duration": 286,
    "start_time": "2022-11-23T07:57:36.977Z"
   },
   {
    "duration": 10,
    "start_time": "2022-11-23T07:57:37.265Z"
   },
   {
    "duration": 95,
    "start_time": "2022-11-23T07:57:37.278Z"
   },
   {
    "duration": 330,
    "start_time": "2022-11-23T07:57:37.375Z"
   },
   {
    "duration": 115,
    "start_time": "2022-11-23T07:57:37.707Z"
   },
   {
    "duration": 43,
    "start_time": "2022-11-23T07:57:37.824Z"
   },
   {
    "duration": 31,
    "start_time": "2022-11-23T07:57:37.871Z"
   },
   {
    "duration": 298,
    "start_time": "2022-11-23T07:57:37.903Z"
   },
   {
    "duration": 40,
    "start_time": "2022-11-23T07:57:38.202Z"
   },
   {
    "duration": 33,
    "start_time": "2022-11-23T07:57:38.244Z"
   },
   {
    "duration": 127,
    "start_time": "2022-11-23T07:57:38.280Z"
   },
   {
    "duration": 119,
    "start_time": "2022-11-23T07:57:38.409Z"
   },
   {
    "duration": 56,
    "start_time": "2022-11-23T07:57:38.529Z"
   },
   {
    "duration": 72,
    "start_time": "2022-11-23T07:57:38.587Z"
   },
   {
    "duration": 180,
    "start_time": "2022-11-23T07:57:38.661Z"
   },
   {
    "duration": 8,
    "start_time": "2022-11-23T07:57:38.842Z"
   },
   {
    "duration": 35,
    "start_time": "2022-11-23T07:57:38.852Z"
   },
   {
    "duration": 44,
    "start_time": "2022-11-23T07:57:38.888Z"
   },
   {
    "duration": 3,
    "start_time": "2022-11-23T07:57:38.934Z"
   },
   {
    "duration": 46743,
    "start_time": "2022-11-23T07:57:38.939Z"
   },
   {
    "duration": 3,
    "start_time": "2022-11-23T07:58:25.684Z"
   },
   {
    "duration": 40078,
    "start_time": "2022-11-23T07:58:25.689Z"
   },
   {
    "duration": 191,
    "start_time": "2022-11-23T07:59:05.769Z"
   },
   {
    "duration": 168,
    "start_time": "2022-11-23T07:59:05.961Z"
   },
   {
    "duration": 11,
    "start_time": "2022-11-23T07:59:06.131Z"
   },
   {
    "duration": 82,
    "start_time": "2022-11-23T07:59:45.185Z"
   },
   {
    "duration": 79,
    "start_time": "2022-11-23T07:59:56.144Z"
   },
   {
    "duration": 121,
    "start_time": "2022-11-23T08:00:04.345Z"
   },
   {
    "duration": 78,
    "start_time": "2022-11-23T08:03:23.927Z"
   },
   {
    "duration": 3,
    "start_time": "2022-11-23T08:03:31.906Z"
   },
   {
    "duration": 38938,
    "start_time": "2022-11-23T08:03:40.634Z"
   },
   {
    "duration": 149988,
    "start_time": "2022-11-23T08:05:25.379Z"
   },
   {
    "duration": 1546,
    "start_time": "2022-11-23T08:10:39.007Z"
   },
   {
    "duration": 797,
    "start_time": "2022-11-23T08:10:40.556Z"
   },
   {
    "duration": 18,
    "start_time": "2022-11-23T08:10:41.355Z"
   },
   {
    "duration": 112,
    "start_time": "2022-11-23T08:10:41.375Z"
   },
   {
    "duration": 133,
    "start_time": "2022-11-23T08:10:41.489Z"
   },
   {
    "duration": 470,
    "start_time": "2022-11-23T08:10:41.624Z"
   },
   {
    "duration": 1026,
    "start_time": "2022-11-23T08:10:42.096Z"
   },
   {
    "duration": 242,
    "start_time": "2022-11-23T08:10:43.123Z"
   },
   {
    "duration": 9,
    "start_time": "2022-11-23T08:10:43.367Z"
   },
   {
    "duration": 76,
    "start_time": "2022-11-23T08:10:43.378Z"
   },
   {
    "duration": 318,
    "start_time": "2022-11-23T08:10:43.456Z"
   },
   {
    "duration": 115,
    "start_time": "2022-11-23T08:10:43.779Z"
   },
   {
    "duration": 46,
    "start_time": "2022-11-23T08:10:43.896Z"
   },
   {
    "duration": 30,
    "start_time": "2022-11-23T08:10:43.945Z"
   },
   {
    "duration": 351,
    "start_time": "2022-11-23T08:10:43.977Z"
   },
   {
    "duration": 52,
    "start_time": "2022-11-23T08:10:44.331Z"
   },
   {
    "duration": 51,
    "start_time": "2022-11-23T08:10:44.385Z"
   },
   {
    "duration": 58,
    "start_time": "2022-11-23T08:10:44.438Z"
   },
   {
    "duration": 102,
    "start_time": "2022-11-23T08:10:44.498Z"
   },
   {
    "duration": 62,
    "start_time": "2022-11-23T08:10:44.602Z"
   },
   {
    "duration": 83,
    "start_time": "2022-11-23T08:10:44.666Z"
   },
   {
    "duration": 186,
    "start_time": "2022-11-23T08:10:44.751Z"
   },
   {
    "duration": 9,
    "start_time": "2022-11-23T08:10:44.939Z"
   },
   {
    "duration": 41,
    "start_time": "2022-11-23T08:10:44.951Z"
   },
   {
    "duration": 42,
    "start_time": "2022-11-23T08:10:44.993Z"
   },
   {
    "duration": 19,
    "start_time": "2022-11-23T08:10:45.036Z"
   },
   {
    "duration": 47140,
    "start_time": "2022-11-23T08:10:45.057Z"
   },
   {
    "duration": 3,
    "start_time": "2022-11-23T08:11:32.200Z"
   },
   {
    "duration": 130151,
    "start_time": "2022-11-23T08:11:32.205Z"
   },
   {
    "duration": 177,
    "start_time": "2022-11-23T08:13:42.358Z"
   },
   {
    "duration": 173,
    "start_time": "2022-11-23T08:13:42.537Z"
   },
   {
    "duration": 18,
    "start_time": "2022-11-23T08:13:42.712Z"
   },
   {
    "duration": 76,
    "start_time": "2022-11-23T08:14:38.696Z"
   },
   {
    "duration": 33938,
    "start_time": "2022-11-23T08:14:55.975Z"
   },
   {
    "duration": 3,
    "start_time": "2022-11-23T08:15:29.922Z"
   },
   {
    "duration": 3,
    "start_time": "2022-11-23T08:15:32.356Z"
   },
   {
    "duration": 186445,
    "start_time": "2022-11-23T08:15:35.156Z"
   },
   {
    "duration": 56,
    "start_time": "2022-11-23T08:25:42.624Z"
   },
   {
    "duration": 53371,
    "start_time": "2022-11-23T08:26:01.182Z"
   },
   {
    "duration": 53951,
    "start_time": "2022-11-23T08:37:42.598Z"
   },
   {
    "duration": 54242,
    "start_time": "2022-11-23T08:40:09.719Z"
   },
   {
    "duration": 54460,
    "start_time": "2022-11-23T08:41:45.310Z"
   },
   {
    "duration": 56799,
    "start_time": "2022-11-23T08:42:50.047Z"
   },
   {
    "duration": 54856,
    "start_time": "2022-11-23T08:43:54.991Z"
   },
   {
    "duration": 107,
    "start_time": "2022-11-23T08:45:23.828Z"
   },
   {
    "duration": 3,
    "start_time": "2022-11-23T08:46:09.552Z"
   },
   {
    "duration": 149,
    "start_time": "2022-11-23T08:46:14.723Z"
   },
   {
    "duration": 98,
    "start_time": "2022-11-23T08:47:31.512Z"
   },
   {
    "duration": 81,
    "start_time": "2022-11-23T08:47:51.608Z"
   },
   {
    "duration": 81,
    "start_time": "2022-11-23T08:48:08.332Z"
   },
   {
    "duration": 82,
    "start_time": "2022-11-23T12:19:53.500Z"
   },
   {
    "duration": 1345,
    "start_time": "2022-11-23T12:20:08.494Z"
   },
   {
    "duration": 780,
    "start_time": "2022-11-23T12:20:09.841Z"
   },
   {
    "duration": 16,
    "start_time": "2022-11-23T12:20:10.623Z"
   },
   {
    "duration": 92,
    "start_time": "2022-11-23T12:20:10.641Z"
   },
   {
    "duration": 118,
    "start_time": "2022-11-23T12:20:10.735Z"
   },
   {
    "duration": 438,
    "start_time": "2022-11-23T12:20:10.855Z"
   },
   {
    "duration": 900,
    "start_time": "2022-11-23T12:20:11.295Z"
   },
   {
    "duration": 242,
    "start_time": "2022-11-23T12:20:12.197Z"
   },
   {
    "duration": 8,
    "start_time": "2022-11-23T12:20:12.440Z"
   },
   {
    "duration": 58,
    "start_time": "2022-11-23T12:20:12.449Z"
   },
   {
    "duration": 289,
    "start_time": "2022-11-23T12:20:12.509Z"
   },
   {
    "duration": 118,
    "start_time": "2022-11-23T12:20:12.799Z"
   },
   {
    "duration": 89,
    "start_time": "2022-11-23T12:20:12.919Z"
   },
   {
    "duration": 33,
    "start_time": "2022-11-23T12:20:13.011Z"
   },
   {
    "duration": 285,
    "start_time": "2022-11-23T12:20:13.045Z"
   },
   {
    "duration": 30,
    "start_time": "2022-11-23T12:20:13.332Z"
   },
   {
    "duration": 41,
    "start_time": "2022-11-23T12:20:13.364Z"
   },
   {
    "duration": 69,
    "start_time": "2022-11-23T12:20:13.407Z"
   },
   {
    "duration": 106,
    "start_time": "2022-11-23T12:20:13.478Z"
   },
   {
    "duration": 79,
    "start_time": "2022-11-23T12:20:13.585Z"
   },
   {
    "duration": 86,
    "start_time": "2022-11-23T12:20:13.665Z"
   },
   {
    "duration": 159,
    "start_time": "2022-11-23T12:20:13.753Z"
   },
   {
    "duration": 7,
    "start_time": "2022-11-23T12:20:13.913Z"
   },
   {
    "duration": 27,
    "start_time": "2022-11-23T12:20:13.922Z"
   },
   {
    "duration": 59,
    "start_time": "2022-11-23T12:20:13.950Z"
   },
   {
    "duration": 3,
    "start_time": "2022-11-23T12:20:14.011Z"
   },
   {
    "duration": 49865,
    "start_time": "2022-11-23T12:20:14.015Z"
   },
   {
    "duration": 3,
    "start_time": "2022-11-23T12:21:03.881Z"
   },
   {
    "duration": 8,
    "start_time": "2022-11-23T12:21:03.885Z"
   },
   {
    "duration": 4,
    "start_time": "2022-11-23T12:21:03.896Z"
   },
   {
    "duration": 197,
    "start_time": "2022-11-23T12:21:03.902Z"
   },
   {
    "duration": 109,
    "start_time": "2022-11-23T12:21:04.100Z"
   },
   {
    "duration": 64,
    "start_time": "2022-11-23T12:21:04.211Z"
   },
   {
    "duration": 8,
    "start_time": "2022-11-23T12:21:04.277Z"
   },
   {
    "duration": 5,
    "start_time": "2022-11-23T12:21:53.558Z"
   },
   {
    "duration": 8,
    "start_time": "2022-11-23T12:22:00.916Z"
   },
   {
    "duration": 9,
    "start_time": "2022-11-23T12:22:38.723Z"
   },
   {
    "duration": 2168,
    "start_time": "2022-11-23T12:23:12.024Z"
   },
   {
    "duration": 14,
    "start_time": "2022-11-23T12:23:36.803Z"
   },
   {
    "duration": 1271,
    "start_time": "2022-11-23T12:23:50.838Z"
   },
   {
    "duration": 2390,
    "start_time": "2022-11-23T12:23:54.179Z"
   },
   {
    "duration": 6,
    "start_time": "2022-11-23T12:24:05.877Z"
   },
   {
    "duration": 77,
    "start_time": "2022-11-23T12:24:07.624Z"
   },
   {
    "duration": 3,
    "start_time": "2022-11-23T12:27:02.245Z"
   },
   {
    "duration": 9020,
    "start_time": "2022-11-23T12:27:06.361Z"
   },
   {
    "duration": 8166,
    "start_time": "2022-11-23T12:28:34.885Z"
   },
   {
    "duration": 10155,
    "start_time": "2022-11-23T12:30:20.299Z"
   },
   {
    "duration": 9119,
    "start_time": "2022-11-23T12:30:33.279Z"
   },
   {
    "duration": 5,
    "start_time": "2022-11-23T12:32:35.201Z"
   },
   {
    "duration": 3827,
    "start_time": "2022-11-23T12:33:37.598Z"
   },
   {
    "duration": 849,
    "start_time": "2022-11-23T12:33:41.427Z"
   },
   {
    "duration": 26,
    "start_time": "2022-11-23T12:33:42.278Z"
   },
   {
    "duration": 135,
    "start_time": "2022-11-23T12:33:42.305Z"
   },
   {
    "duration": 130,
    "start_time": "2022-11-23T12:33:42.442Z"
   },
   {
    "duration": 441,
    "start_time": "2022-11-23T12:33:42.574Z"
   },
   {
    "duration": 959,
    "start_time": "2022-11-23T12:33:43.016Z"
   },
   {
    "duration": 174,
    "start_time": "2022-11-23T12:33:43.976Z"
   },
   {
    "duration": 11,
    "start_time": "2022-11-23T12:33:44.152Z"
   },
   {
    "duration": 72,
    "start_time": "2022-11-23T12:33:44.164Z"
   },
   {
    "duration": 298,
    "start_time": "2022-11-23T12:33:44.238Z"
   },
   {
    "duration": 122,
    "start_time": "2022-11-23T12:33:44.538Z"
   },
   {
    "duration": 37,
    "start_time": "2022-11-23T12:33:44.662Z"
   },
   {
    "duration": 38,
    "start_time": "2022-11-23T12:33:44.703Z"
   },
   {
    "duration": 355,
    "start_time": "2022-11-23T12:33:44.743Z"
   },
   {
    "duration": 35,
    "start_time": "2022-11-23T12:33:45.100Z"
   },
   {
    "duration": 28,
    "start_time": "2022-11-23T12:33:45.137Z"
   },
   {
    "duration": 100,
    "start_time": "2022-11-23T12:33:45.167Z"
   },
   {
    "duration": 121,
    "start_time": "2022-11-23T12:33:45.269Z"
   },
   {
    "duration": 73,
    "start_time": "2022-11-23T12:33:45.391Z"
   },
   {
    "duration": 78,
    "start_time": "2022-11-23T12:33:45.465Z"
   },
   {
    "duration": 169,
    "start_time": "2022-11-23T12:33:45.545Z"
   },
   {
    "duration": 5,
    "start_time": "2022-11-23T12:33:45.716Z"
   },
   {
    "duration": 33,
    "start_time": "2022-11-23T12:33:45.723Z"
   },
   {
    "duration": 29,
    "start_time": "2022-11-23T12:33:45.758Z"
   },
   {
    "duration": 2,
    "start_time": "2022-11-23T12:33:45.789Z"
   },
   {
    "duration": 50643,
    "start_time": "2022-11-23T12:33:45.793Z"
   },
   {
    "duration": 2,
    "start_time": "2022-11-23T12:34:36.438Z"
   },
   {
    "duration": 40,
    "start_time": "2022-11-23T12:34:36.441Z"
   },
   {
    "duration": 49,
    "start_time": "2022-11-23T12:34:36.482Z"
   },
   {
    "duration": 33,
    "start_time": "2022-11-23T12:34:36.533Z"
   },
   {
    "duration": 10,
    "start_time": "2022-11-23T12:41:44.377Z"
   },
   {
    "duration": 38,
    "start_time": "2022-11-23T12:41:46.328Z"
   },
   {
    "duration": 3740,
    "start_time": "2022-11-23T12:41:50.456Z"
   },
   {
    "duration": 0,
    "start_time": "2022-11-23T12:41:54.199Z"
   },
   {
    "duration": 0,
    "start_time": "2022-11-23T12:41:54.201Z"
   },
   {
    "duration": 0,
    "start_time": "2022-11-23T12:41:54.201Z"
   },
   {
    "duration": 0,
    "start_time": "2022-11-23T12:41:54.203Z"
   },
   {
    "duration": 0,
    "start_time": "2022-11-23T12:41:54.203Z"
   },
   {
    "duration": 0,
    "start_time": "2022-11-23T12:41:54.204Z"
   },
   {
    "duration": 0,
    "start_time": "2022-11-23T12:41:54.205Z"
   },
   {
    "duration": 0,
    "start_time": "2022-11-23T12:41:54.206Z"
   },
   {
    "duration": 0,
    "start_time": "2022-11-23T12:41:54.207Z"
   },
   {
    "duration": 0,
    "start_time": "2022-11-23T12:41:54.208Z"
   },
   {
    "duration": 0,
    "start_time": "2022-11-23T12:41:54.210Z"
   },
   {
    "duration": 0,
    "start_time": "2022-11-23T12:41:54.211Z"
   },
   {
    "duration": 0,
    "start_time": "2022-11-23T12:41:54.211Z"
   },
   {
    "duration": 0,
    "start_time": "2022-11-23T12:41:54.212Z"
   },
   {
    "duration": 0,
    "start_time": "2022-11-23T12:41:54.213Z"
   },
   {
    "duration": 0,
    "start_time": "2022-11-23T12:41:54.214Z"
   },
   {
    "duration": 0,
    "start_time": "2022-11-23T12:41:54.215Z"
   },
   {
    "duration": 0,
    "start_time": "2022-11-23T12:41:54.216Z"
   },
   {
    "duration": 0,
    "start_time": "2022-11-23T12:41:54.217Z"
   },
   {
    "duration": 0,
    "start_time": "2022-11-23T12:41:54.217Z"
   },
   {
    "duration": 0,
    "start_time": "2022-11-23T12:41:54.218Z"
   },
   {
    "duration": 0,
    "start_time": "2022-11-23T12:41:54.220Z"
   },
   {
    "duration": 0,
    "start_time": "2022-11-23T12:41:54.221Z"
   },
   {
    "duration": 0,
    "start_time": "2022-11-23T12:41:54.222Z"
   },
   {
    "duration": 0,
    "start_time": "2022-11-23T12:41:54.223Z"
   },
   {
    "duration": 1,
    "start_time": "2022-11-23T12:41:54.223Z"
   },
   {
    "duration": 0,
    "start_time": "2022-11-23T12:41:54.224Z"
   },
   {
    "duration": 0,
    "start_time": "2022-11-23T12:41:54.225Z"
   },
   {
    "duration": 0,
    "start_time": "2022-11-23T12:41:54.228Z"
   },
   {
    "duration": 0,
    "start_time": "2022-11-23T12:41:54.229Z"
   },
   {
    "duration": 0,
    "start_time": "2022-11-23T12:41:54.230Z"
   },
   {
    "duration": 0,
    "start_time": "2022-11-23T12:41:54.231Z"
   },
   {
    "duration": 0,
    "start_time": "2022-11-23T12:41:54.232Z"
   },
   {
    "duration": 0,
    "start_time": "2022-11-23T12:41:54.233Z"
   },
   {
    "duration": 0,
    "start_time": "2022-11-23T12:41:54.234Z"
   },
   {
    "duration": 3778,
    "start_time": "2022-11-23T12:42:03.129Z"
   },
   {
    "duration": 823,
    "start_time": "2022-11-23T12:42:06.909Z"
   },
   {
    "duration": 17,
    "start_time": "2022-11-23T12:42:07.733Z"
   },
   {
    "duration": 92,
    "start_time": "2022-11-23T12:42:07.751Z"
   },
   {
    "duration": 140,
    "start_time": "2022-11-23T12:42:07.845Z"
   },
   {
    "duration": 439,
    "start_time": "2022-11-23T12:42:07.987Z"
   },
   {
    "duration": 920,
    "start_time": "2022-11-23T12:42:08.428Z"
   },
   {
    "duration": 167,
    "start_time": "2022-11-23T12:42:09.350Z"
   },
   {
    "duration": 9,
    "start_time": "2022-11-23T12:42:09.518Z"
   },
   {
    "duration": 49,
    "start_time": "2022-11-23T12:42:09.528Z"
   },
   {
    "duration": 298,
    "start_time": "2022-11-23T12:42:09.578Z"
   },
   {
    "duration": 135,
    "start_time": "2022-11-23T12:42:09.878Z"
   },
   {
    "duration": 37,
    "start_time": "2022-11-23T12:42:10.014Z"
   },
   {
    "duration": 60,
    "start_time": "2022-11-23T12:42:10.055Z"
   },
   {
    "duration": 265,
    "start_time": "2022-11-23T12:42:10.117Z"
   },
   {
    "duration": 37,
    "start_time": "2022-11-23T12:42:10.384Z"
   },
   {
    "duration": 28,
    "start_time": "2022-11-23T12:42:10.422Z"
   },
   {
    "duration": 79,
    "start_time": "2022-11-23T12:42:10.452Z"
   },
   {
    "duration": 124,
    "start_time": "2022-11-23T12:42:10.533Z"
   },
   {
    "duration": 81,
    "start_time": "2022-11-23T12:42:10.659Z"
   },
   {
    "duration": 85,
    "start_time": "2022-11-23T12:42:10.741Z"
   },
   {
    "duration": 167,
    "start_time": "2022-11-23T12:42:10.828Z"
   },
   {
    "duration": 5,
    "start_time": "2022-11-23T12:42:10.997Z"
   },
   {
    "duration": 27,
    "start_time": "2022-11-23T12:42:11.003Z"
   },
   {
    "duration": 29,
    "start_time": "2022-11-23T12:42:11.031Z"
   },
   {
    "duration": 2,
    "start_time": "2022-11-23T12:42:11.062Z"
   },
   {
    "duration": 8,
    "start_time": "2022-11-23T12:42:11.066Z"
   },
   {
    "duration": 22,
    "start_time": "2022-11-23T12:42:11.075Z"
   },
   {
    "duration": 6,
    "start_time": "2022-11-23T12:42:11.098Z"
   },
   {
    "duration": 5,
    "start_time": "2022-11-23T12:42:11.105Z"
   },
   {
    "duration": 8,
    "start_time": "2022-11-23T12:42:11.111Z"
   },
   {
    "duration": 618,
    "start_time": "2022-11-23T12:42:11.120Z"
   },
   {
    "duration": 0,
    "start_time": "2022-11-23T12:42:11.740Z"
   },
   {
    "duration": 0,
    "start_time": "2022-11-23T12:42:11.741Z"
   },
   {
    "duration": 0,
    "start_time": "2022-11-23T12:42:11.743Z"
   },
   {
    "duration": 0,
    "start_time": "2022-11-23T12:42:11.744Z"
   },
   {
    "duration": 32,
    "start_time": "2022-11-23T12:47:58.252Z"
   },
   {
    "duration": 3720,
    "start_time": "2022-11-23T12:48:16.171Z"
   },
   {
    "duration": 780,
    "start_time": "2022-11-23T12:48:19.894Z"
   },
   {
    "duration": 24,
    "start_time": "2022-11-23T12:48:20.676Z"
   },
   {
    "duration": 80,
    "start_time": "2022-11-23T12:48:20.702Z"
   },
   {
    "duration": 127,
    "start_time": "2022-11-23T12:48:20.784Z"
   },
   {
    "duration": 417,
    "start_time": "2022-11-23T12:48:20.913Z"
   },
   {
    "duration": 908,
    "start_time": "2022-11-23T12:48:21.331Z"
   },
   {
    "duration": 166,
    "start_time": "2022-11-23T12:48:22.241Z"
   },
   {
    "duration": 8,
    "start_time": "2022-11-23T12:48:22.409Z"
   },
   {
    "duration": 47,
    "start_time": "2022-11-23T12:48:22.418Z"
   },
   {
    "duration": 281,
    "start_time": "2022-11-23T12:48:22.467Z"
   },
   {
    "duration": 118,
    "start_time": "2022-11-23T12:48:22.750Z"
   },
   {
    "duration": 35,
    "start_time": "2022-11-23T12:48:22.869Z"
   },
   {
    "duration": 31,
    "start_time": "2022-11-23T12:48:22.907Z"
   },
   {
    "duration": 266,
    "start_time": "2022-11-23T12:48:22.939Z"
   },
   {
    "duration": 29,
    "start_time": "2022-11-23T12:48:23.207Z"
   },
   {
    "duration": 25,
    "start_time": "2022-11-23T12:48:23.237Z"
   },
   {
    "duration": 77,
    "start_time": "2022-11-23T12:48:23.264Z"
   },
   {
    "duration": 122,
    "start_time": "2022-11-23T12:48:23.343Z"
   },
   {
    "duration": 69,
    "start_time": "2022-11-23T12:48:23.466Z"
   },
   {
    "duration": 73,
    "start_time": "2022-11-23T12:48:23.537Z"
   },
   {
    "duration": 164,
    "start_time": "2022-11-23T12:48:23.612Z"
   },
   {
    "duration": 5,
    "start_time": "2022-11-23T12:48:23.777Z"
   },
   {
    "duration": 35,
    "start_time": "2022-11-23T12:48:23.783Z"
   },
   {
    "duration": 31,
    "start_time": "2022-11-23T12:48:23.819Z"
   },
   {
    "duration": 2,
    "start_time": "2022-11-23T12:48:23.852Z"
   },
   {
    "duration": 8,
    "start_time": "2022-11-23T12:48:23.856Z"
   },
   {
    "duration": 5,
    "start_time": "2022-11-23T12:48:23.866Z"
   },
   {
    "duration": 6,
    "start_time": "2022-11-23T12:48:23.872Z"
   },
   {
    "duration": 5,
    "start_time": "2022-11-23T12:48:23.880Z"
   },
   {
    "duration": 29,
    "start_time": "2022-11-23T12:48:23.897Z"
   },
   {
    "duration": 0,
    "start_time": "2022-11-23T12:48:23.928Z"
   },
   {
    "duration": 0,
    "start_time": "2022-11-23T12:48:23.929Z"
   },
   {
    "duration": 0,
    "start_time": "2022-11-23T12:48:23.931Z"
   },
   {
    "duration": 0,
    "start_time": "2022-11-23T12:48:23.932Z"
   },
   {
    "duration": 0,
    "start_time": "2022-11-23T12:48:23.934Z"
   },
   {
    "duration": 5,
    "start_time": "2022-11-23T12:48:42.735Z"
   },
   {
    "duration": 12,
    "start_time": "2022-11-23T12:48:58.020Z"
   },
   {
    "duration": 5,
    "start_time": "2022-11-23T12:52:03.792Z"
   },
   {
    "duration": 3855,
    "start_time": "2022-11-23T12:53:44.361Z"
   },
   {
    "duration": 26,
    "start_time": "2022-11-23T13:04:18.800Z"
   },
   {
    "duration": 6,
    "start_time": "2022-11-23T13:04:31.330Z"
   },
   {
    "duration": 13,
    "start_time": "2022-11-23T13:05:30.845Z"
   },
   {
    "duration": 5,
    "start_time": "2022-11-23T13:05:42.188Z"
   },
   {
    "duration": 3680,
    "start_time": "2022-11-23T13:05:50.176Z"
   },
   {
    "duration": 770,
    "start_time": "2022-11-23T13:05:53.858Z"
   },
   {
    "duration": 23,
    "start_time": "2022-11-23T13:05:54.630Z"
   },
   {
    "duration": 118,
    "start_time": "2022-11-23T13:05:54.656Z"
   },
   {
    "duration": 155,
    "start_time": "2022-11-23T13:05:54.777Z"
   },
   {
    "duration": 424,
    "start_time": "2022-11-23T13:05:54.933Z"
   },
   {
    "duration": 934,
    "start_time": "2022-11-23T13:05:55.358Z"
   },
   {
    "duration": 160,
    "start_time": "2022-11-23T13:05:56.297Z"
   },
   {
    "duration": 8,
    "start_time": "2022-11-23T13:05:56.458Z"
   },
   {
    "duration": 54,
    "start_time": "2022-11-23T13:05:56.468Z"
   },
   {
    "duration": 289,
    "start_time": "2022-11-23T13:05:56.524Z"
   },
   {
    "duration": 115,
    "start_time": "2022-11-23T13:05:56.815Z"
   },
   {
    "duration": 25,
    "start_time": "2022-11-23T13:05:56.932Z"
   },
   {
    "duration": 42,
    "start_time": "2022-11-23T13:05:56.959Z"
   },
   {
    "duration": 246,
    "start_time": "2022-11-23T13:05:57.002Z"
   },
   {
    "duration": 28,
    "start_time": "2022-11-23T13:05:57.250Z"
   },
   {
    "duration": 32,
    "start_time": "2022-11-23T13:05:57.279Z"
   },
   {
    "duration": 86,
    "start_time": "2022-11-23T13:05:57.313Z"
   },
   {
    "duration": 113,
    "start_time": "2022-11-23T13:05:57.400Z"
   },
   {
    "duration": 67,
    "start_time": "2022-11-23T13:05:57.515Z"
   },
   {
    "duration": 72,
    "start_time": "2022-11-23T13:05:57.584Z"
   },
   {
    "duration": 153,
    "start_time": "2022-11-23T13:05:57.658Z"
   },
   {
    "duration": 4,
    "start_time": "2022-11-23T13:05:57.813Z"
   },
   {
    "duration": 23,
    "start_time": "2022-11-23T13:05:57.819Z"
   },
   {
    "duration": 53,
    "start_time": "2022-11-23T13:05:57.844Z"
   },
   {
    "duration": 2,
    "start_time": "2022-11-23T13:05:57.899Z"
   },
   {
    "duration": 5,
    "start_time": "2022-11-23T13:05:57.903Z"
   },
   {
    "duration": 7,
    "start_time": "2022-11-23T13:05:57.911Z"
   },
   {
    "duration": 9,
    "start_time": "2022-11-23T13:05:57.920Z"
   },
   {
    "duration": 15,
    "start_time": "2022-11-23T13:05:57.930Z"
   },
   {
    "duration": 35550,
    "start_time": "2022-11-23T13:05:57.947Z"
   },
   {
    "duration": 120,
    "start_time": "2022-11-23T13:06:33.499Z"
   },
   {
    "duration": 0,
    "start_time": "2022-11-23T13:06:33.621Z"
   },
   {
    "duration": 0,
    "start_time": "2022-11-23T13:06:33.622Z"
   },
   {
    "duration": 0,
    "start_time": "2022-11-23T13:06:33.623Z"
   },
   {
    "duration": 6,
    "start_time": "2022-11-23T13:08:46.171Z"
   },
   {
    "duration": 43354,
    "start_time": "2022-11-23T13:08:52.144Z"
   },
   {
    "duration": 11,
    "start_time": "2022-11-23T13:10:49.828Z"
   },
   {
    "duration": 5,
    "start_time": "2022-11-23T13:11:58.124Z"
   },
   {
    "duration": 20947,
    "start_time": "2022-11-23T13:12:55.266Z"
   },
   {
    "duration": 3992,
    "start_time": "2022-11-23T13:13:46.091Z"
   },
   {
    "duration": 833,
    "start_time": "2022-11-23T13:13:50.085Z"
   },
   {
    "duration": 17,
    "start_time": "2022-11-23T13:13:50.919Z"
   },
   {
    "duration": 146,
    "start_time": "2022-11-23T13:13:50.938Z"
   },
   {
    "duration": 135,
    "start_time": "2022-11-23T13:13:51.086Z"
   },
   {
    "duration": 488,
    "start_time": "2022-11-23T13:13:51.223Z"
   },
   {
    "duration": 1013,
    "start_time": "2022-11-23T13:13:51.714Z"
   },
   {
    "duration": 173,
    "start_time": "2022-11-23T13:13:52.729Z"
   },
   {
    "duration": 9,
    "start_time": "2022-11-23T13:13:52.903Z"
   },
   {
    "duration": 57,
    "start_time": "2022-11-23T13:13:52.913Z"
   },
   {
    "duration": 305,
    "start_time": "2022-11-23T13:13:52.971Z"
   },
   {
    "duration": 121,
    "start_time": "2022-11-23T13:13:53.278Z"
   },
   {
    "duration": 28,
    "start_time": "2022-11-23T13:13:53.401Z"
   },
   {
    "duration": 27,
    "start_time": "2022-11-23T13:13:53.433Z"
   },
   {
    "duration": 287,
    "start_time": "2022-11-23T13:13:53.462Z"
   },
   {
    "duration": 36,
    "start_time": "2022-11-23T13:13:53.750Z"
   },
   {
    "duration": 21,
    "start_time": "2022-11-23T13:13:53.799Z"
   },
   {
    "duration": 80,
    "start_time": "2022-11-23T13:13:53.822Z"
   },
   {
    "duration": 136,
    "start_time": "2022-11-23T13:13:53.903Z"
   },
   {
    "duration": 76,
    "start_time": "2022-11-23T13:13:54.040Z"
   },
   {
    "duration": 87,
    "start_time": "2022-11-23T13:13:54.118Z"
   },
   {
    "duration": 174,
    "start_time": "2022-11-23T13:13:54.207Z"
   },
   {
    "duration": 5,
    "start_time": "2022-11-23T13:13:54.383Z"
   },
   {
    "duration": 26,
    "start_time": "2022-11-23T13:13:54.389Z"
   },
   {
    "duration": 30,
    "start_time": "2022-11-23T13:13:54.416Z"
   },
   {
    "duration": 2,
    "start_time": "2022-11-23T13:13:54.448Z"
   },
   {
    "duration": 7,
    "start_time": "2022-11-23T13:13:54.452Z"
   },
   {
    "duration": 6,
    "start_time": "2022-11-23T13:13:54.460Z"
   },
   {
    "duration": 8,
    "start_time": "2022-11-23T13:13:54.468Z"
   },
   {
    "duration": 10,
    "start_time": "2022-11-23T13:13:54.498Z"
   },
   {
    "duration": 15706,
    "start_time": "2022-11-23T13:13:54.510Z"
   },
   {
    "duration": 189,
    "start_time": "2022-11-23T13:14:10.217Z"
   },
   {
    "duration": 0,
    "start_time": "2022-11-23T13:14:10.407Z"
   },
   {
    "duration": 0,
    "start_time": "2022-11-23T13:14:10.408Z"
   },
   {
    "duration": 0,
    "start_time": "2022-11-23T13:14:10.409Z"
   },
   {
    "duration": 17046,
    "start_time": "2022-11-23T13:15:52.073Z"
   },
   {
    "duration": 12,
    "start_time": "2022-11-23T13:16:13.094Z"
   },
   {
    "duration": 5,
    "start_time": "2022-11-23T13:19:39.144Z"
   },
   {
    "duration": 23242,
    "start_time": "2022-11-23T13:20:02.617Z"
   },
   {
    "duration": 10,
    "start_time": "2022-11-23T13:20:25.860Z"
   },
   {
    "duration": 13,
    "start_time": "2022-11-23T13:21:02.829Z"
   },
   {
    "duration": 58,
    "start_time": "2022-11-23T13:24:07.064Z"
   },
   {
    "duration": 19,
    "start_time": "2022-11-23T13:24:13.485Z"
   },
   {
    "duration": 19,
    "start_time": "2022-11-23T13:24:30.282Z"
   },
   {
    "duration": 19,
    "start_time": "2022-11-23T13:26:30.865Z"
   },
   {
    "duration": 18,
    "start_time": "2022-11-23T13:26:37.938Z"
   },
   {
    "duration": 6,
    "start_time": "2022-11-23T13:31:24.774Z"
   },
   {
    "duration": 68,
    "start_time": "2022-11-23T13:32:18.998Z"
   },
   {
    "duration": 36,
    "start_time": "2022-11-23T13:33:36.271Z"
   },
   {
    "duration": 7904,
    "start_time": "2022-11-23T13:33:40.321Z"
   },
   {
    "duration": 6,
    "start_time": "2022-11-23T13:35:39.171Z"
   },
   {
    "duration": 554,
    "start_time": "2022-11-23T13:35:41.427Z"
   },
   {
    "duration": 596,
    "start_time": "2022-11-23T13:36:16.396Z"
   },
   {
    "duration": 3802,
    "start_time": "2022-11-23T13:36:32.215Z"
   },
   {
    "duration": 787,
    "start_time": "2022-11-23T13:36:36.019Z"
   },
   {
    "duration": 18,
    "start_time": "2022-11-23T13:36:36.808Z"
   },
   {
    "duration": 146,
    "start_time": "2022-11-23T13:36:36.828Z"
   },
   {
    "duration": 137,
    "start_time": "2022-11-23T13:36:36.977Z"
   },
   {
    "duration": 521,
    "start_time": "2022-11-23T13:36:37.115Z"
   },
   {
    "duration": 931,
    "start_time": "2022-11-23T13:36:37.637Z"
   },
   {
    "duration": 170,
    "start_time": "2022-11-23T13:36:38.570Z"
   },
   {
    "duration": 12,
    "start_time": "2022-11-23T13:36:38.741Z"
   },
   {
    "duration": 71,
    "start_time": "2022-11-23T13:36:38.755Z"
   },
   {
    "duration": 301,
    "start_time": "2022-11-23T13:36:38.827Z"
   },
   {
    "duration": 118,
    "start_time": "2022-11-23T13:36:39.130Z"
   },
   {
    "duration": 28,
    "start_time": "2022-11-23T13:36:39.250Z"
   },
   {
    "duration": 44,
    "start_time": "2022-11-23T13:36:39.281Z"
   },
   {
    "duration": 277,
    "start_time": "2022-11-23T13:36:39.326Z"
   },
   {
    "duration": 30,
    "start_time": "2022-11-23T13:36:39.604Z"
   },
   {
    "duration": 27,
    "start_time": "2022-11-23T13:36:39.636Z"
   },
   {
    "duration": 87,
    "start_time": "2022-11-23T13:36:39.665Z"
   },
   {
    "duration": 103,
    "start_time": "2022-11-23T13:36:39.753Z"
   },
   {
    "duration": 69,
    "start_time": "2022-11-23T13:36:39.858Z"
   },
   {
    "duration": 82,
    "start_time": "2022-11-23T13:36:39.929Z"
   },
   {
    "duration": 212,
    "start_time": "2022-11-23T13:36:40.013Z"
   },
   {
    "duration": 5,
    "start_time": "2022-11-23T13:36:40.227Z"
   },
   {
    "duration": 29,
    "start_time": "2022-11-23T13:36:40.233Z"
   },
   {
    "duration": 45,
    "start_time": "2022-11-23T13:36:40.264Z"
   },
   {
    "duration": 3,
    "start_time": "2022-11-23T13:36:40.310Z"
   },
   {
    "duration": 8,
    "start_time": "2022-11-23T13:36:40.315Z"
   },
   {
    "duration": 7,
    "start_time": "2022-11-23T13:36:40.325Z"
   },
   {
    "duration": 6,
    "start_time": "2022-11-23T13:36:40.333Z"
   },
   {
    "duration": 11,
    "start_time": "2022-11-23T13:36:40.341Z"
   },
   {
    "duration": 5985,
    "start_time": "2022-11-23T13:36:40.354Z"
   },
   {
    "duration": 0,
    "start_time": "2022-11-23T13:36:46.341Z"
   },
   {
    "duration": 0,
    "start_time": "2022-11-23T13:36:46.342Z"
   },
   {
    "duration": 0,
    "start_time": "2022-11-23T13:36:46.343Z"
   },
   {
    "duration": 0,
    "start_time": "2022-11-23T13:36:46.344Z"
   },
   {
    "duration": 6,
    "start_time": "2022-11-23T13:38:06.517Z"
   },
   {
    "duration": 18995,
    "start_time": "2022-11-23T13:38:09.434Z"
   },
   {
    "duration": 11,
    "start_time": "2022-11-23T13:39:29.910Z"
   },
   {
    "duration": 4602,
    "start_time": "2022-11-23T13:42:58.160Z"
   },
   {
    "duration": 13,
    "start_time": "2022-11-23T13:43:11.321Z"
   },
   {
    "duration": 19,
    "start_time": "2022-11-23T13:45:35.193Z"
   },
   {
    "duration": 73444,
    "start_time": "2022-11-23T13:45:41.069Z"
   },
   {
    "duration": 6,
    "start_time": "2022-11-23T13:50:23.014Z"
   },
   {
    "duration": 26366,
    "start_time": "2022-11-23T13:50:25.947Z"
   },
   {
    "duration": 4,
    "start_time": "2022-11-23T13:51:01.019Z"
   },
   {
    "duration": 3,
    "start_time": "2022-11-23T13:54:39.200Z"
   },
   {
    "duration": 5,
    "start_time": "2022-11-23T13:55:52.304Z"
   },
   {
    "duration": 24971,
    "start_time": "2022-11-23T13:56:03.140Z"
   },
   {
    "duration": 4,
    "start_time": "2022-11-23T13:56:31.879Z"
   },
   {
    "duration": 49135,
    "start_time": "2022-11-23T13:56:48.434Z"
   },
   {
    "duration": 3917,
    "start_time": "2022-11-23T14:00:11.888Z"
   },
   {
    "duration": 791,
    "start_time": "2022-11-23T14:00:15.807Z"
   },
   {
    "duration": 17,
    "start_time": "2022-11-23T14:00:16.599Z"
   },
   {
    "duration": 132,
    "start_time": "2022-11-23T14:00:16.618Z"
   },
   {
    "duration": 125,
    "start_time": "2022-11-23T14:00:16.752Z"
   },
   {
    "duration": 453,
    "start_time": "2022-11-23T14:00:16.879Z"
   },
   {
    "duration": 936,
    "start_time": "2022-11-23T14:00:17.334Z"
   },
   {
    "duration": 173,
    "start_time": "2022-11-23T14:00:18.271Z"
   },
   {
    "duration": 8,
    "start_time": "2022-11-23T14:00:18.445Z"
   },
   {
    "duration": 58,
    "start_time": "2022-11-23T14:00:18.456Z"
   },
   {
    "duration": 291,
    "start_time": "2022-11-23T14:00:18.516Z"
   },
   {
    "duration": 126,
    "start_time": "2022-11-23T14:00:18.809Z"
   },
   {
    "duration": 32,
    "start_time": "2022-11-23T14:00:18.937Z"
   },
   {
    "duration": 50,
    "start_time": "2022-11-23T14:00:18.971Z"
   },
   {
    "duration": 288,
    "start_time": "2022-11-23T14:00:19.024Z"
   },
   {
    "duration": 31,
    "start_time": "2022-11-23T14:00:19.314Z"
   },
   {
    "duration": 26,
    "start_time": "2022-11-23T14:00:19.347Z"
   },
   {
    "duration": 81,
    "start_time": "2022-11-23T14:00:19.374Z"
   },
   {
    "duration": 112,
    "start_time": "2022-11-23T14:00:19.457Z"
   },
   {
    "duration": 68,
    "start_time": "2022-11-23T14:00:19.570Z"
   },
   {
    "duration": 80,
    "start_time": "2022-11-23T14:00:19.640Z"
   },
   {
    "duration": 169,
    "start_time": "2022-11-23T14:00:19.722Z"
   },
   {
    "duration": 5,
    "start_time": "2022-11-23T14:00:19.893Z"
   },
   {
    "duration": 32,
    "start_time": "2022-11-23T14:00:19.900Z"
   },
   {
    "duration": 39,
    "start_time": "2022-11-23T14:00:19.934Z"
   },
   {
    "duration": 3,
    "start_time": "2022-11-23T14:00:19.976Z"
   },
   {
    "duration": 49811,
    "start_time": "2022-11-23T14:00:19.996Z"
   },
   {
    "duration": 4,
    "start_time": "2022-11-23T14:01:09.810Z"
   },
   {
    "duration": 39400,
    "start_time": "2022-11-23T14:01:09.815Z"
   },
   {
    "duration": 5,
    "start_time": "2022-11-23T14:01:49.216Z"
   },
   {
    "duration": 268,
    "start_time": "2022-11-23T14:01:49.222Z"
   },
   {
    "duration": 62,
    "start_time": "2022-11-23T14:01:49.491Z"
   },
   {
    "duration": 9,
    "start_time": "2022-11-23T14:01:49.554Z"
   },
   {
    "duration": 62,
    "start_time": "2022-11-23T14:08:49.095Z"
   },
   {
    "duration": 11,
    "start_time": "2022-11-23T14:12:02.576Z"
   },
   {
    "duration": 2138,
    "start_time": "2022-11-23T14:12:27.529Z"
   },
   {
    "duration": 63,
    "start_time": "2022-11-23T14:12:40.314Z"
   },
   {
    "duration": 2204,
    "start_time": "2022-11-23T14:18:07.429Z"
   },
   {
    "duration": 22,
    "start_time": "2022-11-23T14:18:25.000Z"
   },
   {
    "duration": 63,
    "start_time": "2022-11-23T14:20:41.311Z"
   },
   {
    "duration": 2,
    "start_time": "2022-11-23T14:23:06.455Z"
   },
   {
    "duration": 54,
    "start_time": "2022-11-23T14:23:46.064Z"
   },
   {
    "duration": 2103,
    "start_time": "2022-11-23T14:24:05.952Z"
   },
   {
    "duration": 67,
    "start_time": "2022-11-23T14:24:42.651Z"
   },
   {
    "duration": 94,
    "start_time": "2022-11-23T14:25:20.379Z"
   },
   {
    "duration": 479,
    "start_time": "2022-11-23T14:32:29.274Z"
   },
   {
    "duration": 13,
    "start_time": "2022-11-23T14:32:39.072Z"
   },
   {
    "duration": 14,
    "start_time": "2022-11-23T14:32:44.123Z"
   },
   {
    "duration": 368,
    "start_time": "2022-11-23T14:34:38.885Z"
   },
   {
    "duration": 20955,
    "start_time": "2022-11-23T14:34:56.248Z"
   },
   {
    "duration": 18,
    "start_time": "2022-11-23T14:35:28.536Z"
   },
   {
    "duration": 5,
    "start_time": "2022-11-23T14:37:24.745Z"
   },
   {
    "duration": 532,
    "start_time": "2022-11-23T14:37:26.214Z"
   },
   {
    "duration": 4,
    "start_time": "2022-11-23T14:37:42.243Z"
   },
   {
    "duration": 64446,
    "start_time": "2022-11-23T14:37:43.753Z"
   },
   {
    "duration": 4,
    "start_time": "2022-11-23T14:38:51.528Z"
   },
   {
    "duration": 4,
    "start_time": "2022-11-23T14:40:22.348Z"
   },
   {
    "duration": 28661,
    "start_time": "2022-11-23T14:40:23.837Z"
   },
   {
    "duration": 5,
    "start_time": "2022-11-23T14:40:52.500Z"
   },
   {
    "duration": 29425,
    "start_time": "2022-11-23T14:40:53.874Z"
   },
   {
    "duration": 4,
    "start_time": "2022-11-23T14:42:25.737Z"
   },
   {
    "duration": 50970,
    "start_time": "2022-11-23T14:43:44.512Z"
   },
   {
    "duration": 60,
    "start_time": "2022-11-23T14:53:54.208Z"
   },
   {
    "duration": 2,
    "start_time": "2022-11-23T14:53:57.323Z"
   },
   {
    "duration": 58,
    "start_time": "2022-11-23T14:54:01.807Z"
   },
   {
    "duration": 20307,
    "start_time": "2022-11-23T14:54:58.264Z"
   },
   {
    "duration": 21304,
    "start_time": "2022-11-23T14:55:40.831Z"
   },
   {
    "duration": 10,
    "start_time": "2022-11-23T14:56:30.388Z"
   },
   {
    "duration": 2,
    "start_time": "2022-11-23T14:57:08.054Z"
   },
   {
    "duration": 20973,
    "start_time": "2022-11-23T14:57:10.333Z"
   },
   {
    "duration": 13,
    "start_time": "2022-11-23T14:59:19.433Z"
   },
   {
    "duration": 43788,
    "start_time": "2022-11-23T14:59:55.779Z"
   },
   {
    "duration": 2184,
    "start_time": "2022-11-23T15:01:01.250Z"
   },
   {
    "duration": 42855,
    "start_time": "2022-11-23T15:01:06.181Z"
   },
   {
    "duration": 2295,
    "start_time": "2022-11-23T15:06:55.229Z"
   },
   {
    "duration": 5019,
    "start_time": "2022-11-23T15:09:08.150Z"
   },
   {
    "duration": 1074,
    "start_time": "2022-11-23T15:09:13.172Z"
   },
   {
    "duration": 16,
    "start_time": "2022-11-23T15:09:14.247Z"
   },
   {
    "duration": 95,
    "start_time": "2022-11-23T15:09:14.265Z"
   },
   {
    "duration": 136,
    "start_time": "2022-11-23T15:09:14.362Z"
   },
   {
    "duration": 517,
    "start_time": "2022-11-23T15:09:14.499Z"
   },
   {
    "duration": 995,
    "start_time": "2022-11-23T15:09:15.017Z"
   },
   {
    "duration": 184,
    "start_time": "2022-11-23T15:09:16.014Z"
   },
   {
    "duration": 9,
    "start_time": "2022-11-23T15:09:16.199Z"
   },
   {
    "duration": 55,
    "start_time": "2022-11-23T15:09:16.210Z"
   },
   {
    "duration": 308,
    "start_time": "2022-11-23T15:09:16.267Z"
   },
   {
    "duration": 115,
    "start_time": "2022-11-23T15:09:16.577Z"
   },
   {
    "duration": 27,
    "start_time": "2022-11-23T15:09:16.698Z"
   },
   {
    "duration": 29,
    "start_time": "2022-11-23T15:09:16.727Z"
   },
   {
    "duration": 286,
    "start_time": "2022-11-23T15:09:16.757Z"
   },
   {
    "duration": 30,
    "start_time": "2022-11-23T15:09:17.044Z"
   },
   {
    "duration": 37,
    "start_time": "2022-11-23T15:09:17.076Z"
   },
   {
    "duration": 68,
    "start_time": "2022-11-23T15:09:17.115Z"
   },
   {
    "duration": 119,
    "start_time": "2022-11-23T15:09:17.185Z"
   },
   {
    "duration": 68,
    "start_time": "2022-11-23T15:09:17.305Z"
   },
   {
    "duration": 92,
    "start_time": "2022-11-23T15:09:17.374Z"
   },
   {
    "duration": 162,
    "start_time": "2022-11-23T15:09:17.467Z"
   },
   {
    "duration": 468,
    "start_time": "2022-11-23T15:09:17.631Z"
   },
   {
    "duration": 22,
    "start_time": "2022-11-23T15:09:18.100Z"
   },
   {
    "duration": 390,
    "start_time": "2022-11-23T15:09:18.124Z"
   },
   {
    "duration": 2,
    "start_time": "2022-11-23T15:09:18.516Z"
   },
   {
    "duration": 7,
    "start_time": "2022-11-23T15:09:18.520Z"
   },
   {
    "duration": 9,
    "start_time": "2022-11-23T15:09:18.529Z"
   },
   {
    "duration": 6,
    "start_time": "2022-11-23T15:09:18.539Z"
   },
   {
    "duration": 9,
    "start_time": "2022-11-23T15:09:18.547Z"
   },
   {
    "duration": 5,
    "start_time": "2022-11-23T15:09:18.558Z"
   },
   {
    "duration": 24536,
    "start_time": "2022-11-23T15:09:18.564Z"
   },
   {
    "duration": 4749,
    "start_time": "2022-11-23T15:12:27.824Z"
   },
   {
    "duration": 981,
    "start_time": "2022-11-23T15:12:32.575Z"
   },
   {
    "duration": 15,
    "start_time": "2022-11-23T15:12:33.558Z"
   },
   {
    "duration": 83,
    "start_time": "2022-11-23T15:12:33.575Z"
   },
   {
    "duration": 128,
    "start_time": "2022-11-23T15:12:33.660Z"
   },
   {
    "duration": 415,
    "start_time": "2022-11-23T15:12:33.790Z"
   },
   {
    "duration": 939,
    "start_time": "2022-11-23T15:12:34.206Z"
   },
   {
    "duration": 165,
    "start_time": "2022-11-23T15:12:35.147Z"
   },
   {
    "duration": 8,
    "start_time": "2022-11-23T15:12:35.313Z"
   },
   {
    "duration": 50,
    "start_time": "2022-11-23T15:12:35.323Z"
   },
   {
    "duration": 285,
    "start_time": "2022-11-23T15:12:35.375Z"
   },
   {
    "duration": 117,
    "start_time": "2022-11-23T15:12:35.661Z"
   },
   {
    "duration": 38,
    "start_time": "2022-11-23T15:12:35.779Z"
   },
   {
    "duration": 26,
    "start_time": "2022-11-23T15:12:35.818Z"
   },
   {
    "duration": 268,
    "start_time": "2022-11-23T15:12:35.846Z"
   },
   {
    "duration": 28,
    "start_time": "2022-11-23T15:12:36.116Z"
   },
   {
    "duration": 20,
    "start_time": "2022-11-23T15:12:36.146Z"
   },
   {
    "duration": 86,
    "start_time": "2022-11-23T15:12:36.168Z"
   },
   {
    "duration": 106,
    "start_time": "2022-11-23T15:12:36.256Z"
   },
   {
    "duration": 71,
    "start_time": "2022-11-23T15:12:36.364Z"
   },
   {
    "duration": 86,
    "start_time": "2022-11-23T15:12:36.437Z"
   },
   {
    "duration": 168,
    "start_time": "2022-11-23T15:12:36.525Z"
   },
   {
    "duration": 494,
    "start_time": "2022-11-23T15:12:36.694Z"
   },
   {
    "duration": 23,
    "start_time": "2022-11-23T15:12:37.190Z"
   },
   {
    "duration": 382,
    "start_time": "2022-11-23T15:12:37.215Z"
   },
   {
    "duration": 2,
    "start_time": "2022-11-23T15:12:37.599Z"
   },
   {
    "duration": 17,
    "start_time": "2022-11-23T15:12:37.602Z"
   },
   {
    "duration": 8,
    "start_time": "2022-11-23T15:12:37.622Z"
   },
   {
    "duration": 5,
    "start_time": "2022-11-23T15:12:37.631Z"
   },
   {
    "duration": 5,
    "start_time": "2022-11-23T15:12:37.638Z"
   },
   {
    "duration": 9,
    "start_time": "2022-11-23T15:12:37.645Z"
   },
   {
    "duration": 20552,
    "start_time": "2022-11-23T15:12:37.655Z"
   },
   {
    "duration": 6,
    "start_time": "2022-11-23T15:17:16.439Z"
   },
   {
    "duration": 40,
    "start_time": "2022-11-23T15:21:34.788Z"
   },
   {
    "duration": 5273,
    "start_time": "2022-11-23T15:22:09.304Z"
   },
   {
    "duration": 1121,
    "start_time": "2022-11-23T15:22:14.579Z"
   },
   {
    "duration": 18,
    "start_time": "2022-11-23T15:22:15.702Z"
   },
   {
    "duration": 122,
    "start_time": "2022-11-23T15:22:15.722Z"
   },
   {
    "duration": 152,
    "start_time": "2022-11-23T15:22:15.846Z"
   },
   {
    "duration": 427,
    "start_time": "2022-11-23T15:22:16.000Z"
   },
   {
    "duration": 927,
    "start_time": "2022-11-23T15:22:16.429Z"
   },
   {
    "duration": 168,
    "start_time": "2022-11-23T15:22:17.358Z"
   },
   {
    "duration": 9,
    "start_time": "2022-11-23T15:22:17.528Z"
   },
   {
    "duration": 61,
    "start_time": "2022-11-23T15:22:17.538Z"
   },
   {
    "duration": 307,
    "start_time": "2022-11-23T15:22:17.601Z"
   },
   {
    "duration": 129,
    "start_time": "2022-11-23T15:22:17.912Z"
   },
   {
    "duration": 28,
    "start_time": "2022-11-23T15:22:18.043Z"
   },
   {
    "duration": 39,
    "start_time": "2022-11-23T15:22:18.073Z"
   },
   {
    "duration": 278,
    "start_time": "2022-11-23T15:22:18.113Z"
   },
   {
    "duration": 30,
    "start_time": "2022-11-23T15:22:18.397Z"
   },
   {
    "duration": 20,
    "start_time": "2022-11-23T15:22:18.428Z"
   },
   {
    "duration": 78,
    "start_time": "2022-11-23T15:22:18.450Z"
   },
   {
    "duration": 112,
    "start_time": "2022-11-23T15:22:18.529Z"
   },
   {
    "duration": 72,
    "start_time": "2022-11-23T15:22:18.643Z"
   },
   {
    "duration": 84,
    "start_time": "2022-11-23T15:22:18.716Z"
   },
   {
    "duration": 164,
    "start_time": "2022-11-23T15:22:18.802Z"
   },
   {
    "duration": 654,
    "start_time": "2022-11-23T15:22:18.967Z"
   },
   {
    "duration": 26,
    "start_time": "2022-11-23T15:22:19.623Z"
   },
   {
    "duration": 398,
    "start_time": "2022-11-23T15:22:19.651Z"
   },
   {
    "duration": 3,
    "start_time": "2022-11-23T15:22:20.051Z"
   },
   {
    "duration": 9,
    "start_time": "2022-11-23T15:22:20.055Z"
   },
   {
    "duration": 51186,
    "start_time": "2022-11-23T15:22:20.066Z"
   },
   {
    "duration": 4,
    "start_time": "2022-11-23T15:23:11.254Z"
   },
   {
    "duration": 42655,
    "start_time": "2022-11-23T15:23:11.259Z"
   },
   {
    "duration": 4,
    "start_time": "2022-11-23T15:23:53.915Z"
   },
   {
    "duration": 16,
    "start_time": "2022-11-23T15:23:53.920Z"
   },
   {
    "duration": 20267,
    "start_time": "2022-11-23T15:23:53.937Z"
   },
   {
    "duration": 93,
    "start_time": "2022-11-23T15:24:14.206Z"
   },
   {
    "duration": 17,
    "start_time": "2022-11-23T15:24:14.300Z"
   },
   {
    "duration": 3,
    "start_time": "2022-11-23T15:25:20.579Z"
   },
   {
    "duration": 4,
    "start_time": "2022-11-23T15:25:33.159Z"
   },
   {
    "duration": 14,
    "start_time": "2022-11-23T15:25:34.885Z"
   },
   {
    "duration": 3,
    "start_time": "2022-11-23T15:26:05.770Z"
   },
   {
    "duration": 4,
    "start_time": "2022-11-23T15:26:19.443Z"
   },
   {
    "duration": 3,
    "start_time": "2022-11-23T15:26:32.857Z"
   },
   {
    "duration": 13,
    "start_time": "2022-11-23T15:26:34.258Z"
   },
   {
    "duration": 3628,
    "start_time": "2022-11-23T15:28:20.837Z"
   },
   {
    "duration": 793,
    "start_time": "2022-11-23T15:28:24.467Z"
   },
   {
    "duration": 15,
    "start_time": "2022-11-23T15:28:25.262Z"
   },
   {
    "duration": 130,
    "start_time": "2022-11-23T15:28:25.279Z"
   },
   {
    "duration": 130,
    "start_time": "2022-11-23T15:28:25.411Z"
   },
   {
    "duration": 426,
    "start_time": "2022-11-23T15:28:25.543Z"
   },
   {
    "duration": 869,
    "start_time": "2022-11-23T15:28:25.971Z"
   },
   {
    "duration": 161,
    "start_time": "2022-11-23T15:28:26.841Z"
   },
   {
    "duration": 8,
    "start_time": "2022-11-23T15:28:27.004Z"
   },
   {
    "duration": 46,
    "start_time": "2022-11-23T15:28:27.014Z"
   },
   {
    "duration": 292,
    "start_time": "2022-11-23T15:28:27.062Z"
   },
   {
    "duration": 117,
    "start_time": "2022-11-23T15:28:27.355Z"
   },
   {
    "duration": 33,
    "start_time": "2022-11-23T15:28:27.474Z"
   },
   {
    "duration": 28,
    "start_time": "2022-11-23T15:28:27.508Z"
   },
   {
    "duration": 260,
    "start_time": "2022-11-23T15:28:27.538Z"
   },
   {
    "duration": 30,
    "start_time": "2022-11-23T15:28:27.799Z"
   },
   {
    "duration": 21,
    "start_time": "2022-11-23T15:28:27.830Z"
   },
   {
    "duration": 91,
    "start_time": "2022-11-23T15:28:27.853Z"
   },
   {
    "duration": 105,
    "start_time": "2022-11-23T15:28:27.946Z"
   },
   {
    "duration": 69,
    "start_time": "2022-11-23T15:28:28.053Z"
   },
   {
    "duration": 82,
    "start_time": "2022-11-23T15:28:28.123Z"
   },
   {
    "duration": 182,
    "start_time": "2022-11-23T15:28:28.206Z"
   },
   {
    "duration": 482,
    "start_time": "2022-11-23T15:28:28.390Z"
   },
   {
    "duration": 25,
    "start_time": "2022-11-23T15:28:28.874Z"
   },
   {
    "duration": 379,
    "start_time": "2022-11-23T15:28:28.901Z"
   },
   {
    "duration": 3,
    "start_time": "2022-11-23T15:28:29.281Z"
   },
   {
    "duration": 6,
    "start_time": "2022-11-23T15:28:29.286Z"
   },
   {
    "duration": 51218,
    "start_time": "2022-11-23T15:28:29.300Z"
   },
   {
    "duration": 5,
    "start_time": "2022-11-23T15:29:20.520Z"
   },
   {
    "duration": 25473,
    "start_time": "2022-11-23T15:29:20.526Z"
   },
   {
    "duration": 5,
    "start_time": "2022-11-23T15:29:46.001Z"
   },
   {
    "duration": 10,
    "start_time": "2022-11-23T15:29:46.007Z"
   },
   {
    "duration": 20515,
    "start_time": "2022-11-23T15:29:46.018Z"
   },
   {
    "duration": 5,
    "start_time": "2022-11-23T15:30:06.535Z"
   },
   {
    "duration": 6,
    "start_time": "2022-11-23T15:30:06.541Z"
   },
   {
    "duration": 14,
    "start_time": "2022-11-23T15:30:06.548Z"
   },
   {
    "duration": 12,
    "start_time": "2022-11-23T16:33:46.396Z"
   },
   {
    "duration": 3,
    "start_time": "2022-11-23T16:33:58.810Z"
   },
   {
    "duration": 437,
    "start_time": "2022-11-23T16:36:01.453Z"
   },
   {
    "duration": 449,
    "start_time": "2022-11-23T16:36:07.922Z"
   },
   {
    "duration": 429,
    "start_time": "2022-11-23T16:36:20.993Z"
   },
   {
    "duration": 407,
    "start_time": "2022-11-23T16:36:22.624Z"
   },
   {
    "duration": 2141,
    "start_time": "2022-11-23T16:37:12.661Z"
   },
   {
    "duration": 17,
    "start_time": "2022-11-23T16:53:54.333Z"
   },
   {
    "duration": 11,
    "start_time": "2022-11-23T16:54:24.356Z"
   },
   {
    "duration": 403,
    "start_time": "2022-11-23T16:58:52.522Z"
   },
   {
    "duration": 453,
    "start_time": "2022-11-23T16:59:14.579Z"
   },
   {
    "duration": 420,
    "start_time": "2022-11-23T16:59:29.449Z"
   },
   {
    "duration": 9,
    "start_time": "2022-11-24T02:39:55.988Z"
   },
   {
    "duration": 17319,
    "start_time": "2022-11-24T02:44:32.108Z"
   },
   {
    "duration": 1088,
    "start_time": "2022-11-24T02:44:49.429Z"
   },
   {
    "duration": 18,
    "start_time": "2022-11-24T02:44:50.518Z"
   },
   {
    "duration": 109,
    "start_time": "2022-11-24T02:44:50.538Z"
   },
   {
    "duration": 139,
    "start_time": "2022-11-24T02:44:50.649Z"
   },
   {
    "duration": 453,
    "start_time": "2022-11-24T02:44:50.790Z"
   },
   {
    "duration": 466,
    "start_time": "2022-11-24T02:44:51.245Z"
   },
   {
    "duration": 451,
    "start_time": "2022-11-24T02:44:51.713Z"
   },
   {
    "duration": 996,
    "start_time": "2022-11-24T02:44:52.166Z"
   },
   {
    "duration": 171,
    "start_time": "2022-11-24T02:44:53.164Z"
   },
   {
    "duration": 9,
    "start_time": "2022-11-24T02:44:53.337Z"
   },
   {
    "duration": 49,
    "start_time": "2022-11-24T02:44:53.348Z"
   },
   {
    "duration": 299,
    "start_time": "2022-11-24T02:44:53.399Z"
   },
   {
    "duration": 125,
    "start_time": "2022-11-24T02:44:53.702Z"
   },
   {
    "duration": 26,
    "start_time": "2022-11-24T02:44:53.835Z"
   },
   {
    "duration": 28,
    "start_time": "2022-11-24T02:44:53.863Z"
   },
   {
    "duration": 277,
    "start_time": "2022-11-24T02:44:53.893Z"
   },
   {
    "duration": 31,
    "start_time": "2022-11-24T02:44:54.171Z"
   },
   {
    "duration": 32,
    "start_time": "2022-11-24T02:44:54.204Z"
   },
   {
    "duration": 69,
    "start_time": "2022-11-24T02:44:54.237Z"
   },
   {
    "duration": 118,
    "start_time": "2022-11-24T02:44:54.307Z"
   },
   {
    "duration": 67,
    "start_time": "2022-11-24T02:44:54.426Z"
   },
   {
    "duration": 113,
    "start_time": "2022-11-24T02:44:54.494Z"
   },
   {
    "duration": 165,
    "start_time": "2022-11-24T02:44:54.608Z"
   },
   {
    "duration": 507,
    "start_time": "2022-11-24T02:44:54.774Z"
   },
   {
    "duration": 500,
    "start_time": "2022-11-24T02:44:55.282Z"
   },
   {
    "duration": 2,
    "start_time": "2022-11-24T02:44:55.784Z"
   },
   {
    "duration": 10,
    "start_time": "2022-11-24T02:44:55.788Z"
   },
   {
    "duration": 47,
    "start_time": "2022-11-24T02:44:55.799Z"
   },
   {
    "duration": 0,
    "start_time": "2022-11-24T02:44:55.848Z"
   },
   {
    "duration": 0,
    "start_time": "2022-11-24T02:44:55.850Z"
   },
   {
    "duration": 0,
    "start_time": "2022-11-24T02:44:55.851Z"
   },
   {
    "duration": 0,
    "start_time": "2022-11-24T02:44:55.853Z"
   },
   {
    "duration": 0,
    "start_time": "2022-11-24T02:44:55.854Z"
   },
   {
    "duration": 0,
    "start_time": "2022-11-24T02:44:55.856Z"
   },
   {
    "duration": 0,
    "start_time": "2022-11-24T02:44:55.857Z"
   },
   {
    "duration": 0,
    "start_time": "2022-11-24T02:44:55.858Z"
   },
   {
    "duration": 126,
    "start_time": "2022-11-24T02:45:35.872Z"
   },
   {
    "duration": 2247,
    "start_time": "2022-11-24T02:46:00.803Z"
   },
   {
    "duration": 18,
    "start_time": "2022-11-24T02:46:08.854Z"
   },
   {
    "duration": 15,
    "start_time": "2022-11-24T02:47:13.631Z"
   },
   {
    "duration": 176117,
    "start_time": "2022-11-24T02:49:17.365Z"
   },
   {
    "duration": 46,
    "start_time": "2022-11-24T02:56:44.724Z"
   },
   {
    "duration": 15,
    "start_time": "2022-11-24T02:56:49.167Z"
   },
   {
    "duration": 0,
    "start_time": "2022-11-24T03:00:33.745Z"
   },
   {
    "duration": 62139,
    "start_time": "2022-11-24T03:01:07.006Z"
   },
   {
    "duration": 3786,
    "start_time": "2022-11-24T03:03:10.199Z"
   },
   {
    "duration": 773,
    "start_time": "2022-11-24T03:03:13.987Z"
   },
   {
    "duration": 20,
    "start_time": "2022-11-24T03:03:14.762Z"
   },
   {
    "duration": 135,
    "start_time": "2022-11-24T03:03:14.784Z"
   },
   {
    "duration": 128,
    "start_time": "2022-11-24T03:03:14.921Z"
   },
   {
    "duration": 465,
    "start_time": "2022-11-24T03:03:15.051Z"
   },
   {
    "duration": 508,
    "start_time": "2022-11-24T03:03:15.517Z"
   },
   {
    "duration": 489,
    "start_time": "2022-11-24T03:03:16.027Z"
   },
   {
    "duration": 972,
    "start_time": "2022-11-24T03:03:16.518Z"
   },
   {
    "duration": 166,
    "start_time": "2022-11-24T03:03:17.493Z"
   },
   {
    "duration": 9,
    "start_time": "2022-11-24T03:03:17.661Z"
   },
   {
    "duration": 64,
    "start_time": "2022-11-24T03:03:17.672Z"
   },
   {
    "duration": 292,
    "start_time": "2022-11-24T03:03:17.737Z"
   },
   {
    "duration": 117,
    "start_time": "2022-11-24T03:03:18.031Z"
   },
   {
    "duration": 27,
    "start_time": "2022-11-24T03:03:18.150Z"
   },
   {
    "duration": 28,
    "start_time": "2022-11-24T03:03:18.178Z"
   },
   {
    "duration": 273,
    "start_time": "2022-11-24T03:03:18.207Z"
   },
   {
    "duration": 29,
    "start_time": "2022-11-24T03:03:18.482Z"
   },
   {
    "duration": 33,
    "start_time": "2022-11-24T03:03:18.512Z"
   },
   {
    "duration": 69,
    "start_time": "2022-11-24T03:03:18.547Z"
   },
   {
    "duration": 117,
    "start_time": "2022-11-24T03:03:18.618Z"
   },
   {
    "duration": 70,
    "start_time": "2022-11-24T03:03:18.737Z"
   },
   {
    "duration": 88,
    "start_time": "2022-11-24T03:03:18.809Z"
   },
   {
    "duration": 171,
    "start_time": "2022-11-24T03:03:18.898Z"
   },
   {
    "duration": 559,
    "start_time": "2022-11-24T03:03:19.071Z"
   },
   {
    "duration": 510,
    "start_time": "2022-11-24T03:03:19.632Z"
   },
   {
    "duration": 2,
    "start_time": "2022-11-24T03:03:20.144Z"
   },
   {
    "duration": 15,
    "start_time": "2022-11-24T03:03:20.149Z"
   },
   {
    "duration": 629830,
    "start_time": "2022-11-24T03:03:20.166Z"
   },
   {
    "duration": 5,
    "start_time": "2022-11-24T03:13:49.998Z"
   },
   {
    "duration": 182,
    "start_time": "2022-11-24T03:13:50.005Z"
   },
   {
    "duration": 11,
    "start_time": "2022-11-24T03:13:50.188Z"
   },
   {
    "duration": 0,
    "start_time": "2022-11-24T03:13:50.200Z"
   },
   {
    "duration": 0,
    "start_time": "2022-11-24T03:13:50.202Z"
   },
   {
    "duration": 0,
    "start_time": "2022-11-24T03:13:50.203Z"
   },
   {
    "duration": 0,
    "start_time": "2022-11-24T03:13:50.204Z"
   },
   {
    "duration": 0,
    "start_time": "2022-11-24T03:13:50.205Z"
   },
   {
    "duration": 41783,
    "start_time": "2022-11-24T03:21:28.356Z"
   },
   {
    "duration": 4,
    "start_time": "2022-11-24T03:22:21.423Z"
   },
   {
    "duration": 3,
    "start_time": "2022-11-24T03:22:43.622Z"
   },
   {
    "duration": 51,
    "start_time": "2022-11-24T03:22:44.424Z"
   },
   {
    "duration": 16456,
    "start_time": "2022-11-24T03:23:15.381Z"
   },
   {
    "duration": 16085,
    "start_time": "2022-11-24T03:24:31.855Z"
   },
   {
    "duration": 17011,
    "start_time": "2022-11-24T03:24:56.329Z"
   },
   {
    "duration": 496,
    "start_time": "2022-11-24T03:29:14.900Z"
   },
   {
    "duration": 931,
    "start_time": "2022-11-24T03:29:24.842Z"
   },
   {
    "duration": 832,
    "start_time": "2022-11-24T03:29:57.026Z"
   },
   {
    "duration": 563,
    "start_time": "2022-11-24T03:31:34.745Z"
   },
   {
    "duration": 468,
    "start_time": "2022-11-24T03:31:39.960Z"
   },
   {
    "duration": 16835,
    "start_time": "2022-11-24T03:32:01.901Z"
   },
   {
    "duration": 16,
    "start_time": "2022-11-24T03:32:24.205Z"
   },
   {
    "duration": 3,
    "start_time": "2022-11-24T03:34:17.068Z"
   },
   {
    "duration": 3970,
    "start_time": "2022-11-24T03:38:46.195Z"
   },
   {
    "duration": 847,
    "start_time": "2022-11-24T03:38:50.167Z"
   },
   {
    "duration": 20,
    "start_time": "2022-11-24T03:38:51.016Z"
   },
   {
    "duration": 107,
    "start_time": "2022-11-24T03:38:51.038Z"
   },
   {
    "duration": 134,
    "start_time": "2022-11-24T03:38:51.147Z"
   },
   {
    "duration": 464,
    "start_time": "2022-11-24T03:38:51.283Z"
   },
   {
    "duration": 480,
    "start_time": "2022-11-24T03:38:51.749Z"
   },
   {
    "duration": 506,
    "start_time": "2022-11-24T03:38:52.231Z"
   },
   {
    "duration": 957,
    "start_time": "2022-11-24T03:38:52.738Z"
   },
   {
    "duration": 168,
    "start_time": "2022-11-24T03:38:53.697Z"
   },
   {
    "duration": 9,
    "start_time": "2022-11-24T03:38:53.866Z"
   },
   {
    "duration": 59,
    "start_time": "2022-11-24T03:38:53.876Z"
   },
   {
    "duration": 293,
    "start_time": "2022-11-24T03:38:53.937Z"
   },
   {
    "duration": 117,
    "start_time": "2022-11-24T03:38:54.236Z"
   },
   {
    "duration": 27,
    "start_time": "2022-11-24T03:38:54.355Z"
   },
   {
    "duration": 28,
    "start_time": "2022-11-24T03:38:54.384Z"
   },
   {
    "duration": 327,
    "start_time": "2022-11-24T03:38:54.413Z"
   },
   {
    "duration": 31,
    "start_time": "2022-11-24T03:38:54.741Z"
   },
   {
    "duration": 21,
    "start_time": "2022-11-24T03:38:54.774Z"
   },
   {
    "duration": 86,
    "start_time": "2022-11-24T03:38:54.797Z"
   },
   {
    "duration": 117,
    "start_time": "2022-11-24T03:38:54.885Z"
   },
   {
    "duration": 76,
    "start_time": "2022-11-24T03:38:55.004Z"
   },
   {
    "duration": 75,
    "start_time": "2022-11-24T03:38:55.081Z"
   },
   {
    "duration": 162,
    "start_time": "2022-11-24T03:38:55.157Z"
   },
   {
    "duration": 521,
    "start_time": "2022-11-24T03:38:55.320Z"
   },
   {
    "duration": 488,
    "start_time": "2022-11-24T03:38:55.843Z"
   },
   {
    "duration": 2,
    "start_time": "2022-11-24T03:38:56.336Z"
   },
   {
    "duration": 6,
    "start_time": "2022-11-24T03:38:56.339Z"
   },
   {
    "duration": 540905,
    "start_time": "2022-11-24T03:38:56.347Z"
   },
   {
    "duration": 5,
    "start_time": "2022-11-24T03:47:57.253Z"
   },
   {
    "duration": 137080,
    "start_time": "2022-11-24T03:47:57.260Z"
   },
   {
    "duration": 5,
    "start_time": "2022-11-24T03:50:14.341Z"
   },
   {
    "duration": 9,
    "start_time": "2022-11-24T03:50:14.347Z"
   },
   {
    "duration": 16380,
    "start_time": "2022-11-24T03:50:14.357Z"
   },
   {
    "duration": 97,
    "start_time": "2022-11-24T03:50:30.739Z"
   },
   {
    "duration": 4,
    "start_time": "2022-11-24T03:50:30.837Z"
   },
   {
    "duration": 44,
    "start_time": "2022-11-24T03:50:30.843Z"
   },
   {
    "duration": 357,
    "start_time": "2022-11-24T04:02:31.059Z"
   },
   {
    "duration": 252,
    "start_time": "2022-11-24T04:02:57.900Z"
   },
   {
    "duration": 234,
    "start_time": "2022-11-24T04:03:17.743Z"
   },
   {
    "duration": 256,
    "start_time": "2022-11-24T04:03:29.540Z"
   },
   {
    "duration": 239,
    "start_time": "2022-11-24T04:05:40.080Z"
   },
   {
    "duration": 3,
    "start_time": "2022-11-24T04:05:44.899Z"
   },
   {
    "duration": 5,
    "start_time": "2022-11-24T04:06:08.869Z"
   },
   {
    "duration": 251,
    "start_time": "2022-11-24T04:06:19.463Z"
   },
   {
    "duration": 228,
    "start_time": "2022-11-24T04:07:44.394Z"
   },
   {
    "duration": 219,
    "start_time": "2022-11-24T04:07:54.697Z"
   },
   {
    "duration": 4,
    "start_time": "2022-11-24T04:08:12.794Z"
   },
   {
    "duration": 11,
    "start_time": "2022-11-24T04:08:59.888Z"
   },
   {
    "duration": 223,
    "start_time": "2022-11-24T04:09:11.074Z"
   },
   {
    "duration": 2235,
    "start_time": "2022-11-24T04:11:38.653Z"
   },
   {
    "duration": 4,
    "start_time": "2022-11-24T04:12:25.693Z"
   },
   {
    "duration": 4,
    "start_time": "2022-11-24T04:12:28.622Z"
   },
   {
    "duration": 6,
    "start_time": "2022-11-24T04:12:32.415Z"
   },
   {
    "duration": 4,
    "start_time": "2022-11-24T04:13:23.017Z"
   },
   {
    "duration": 15,
    "start_time": "2022-11-24T04:14:16.266Z"
   },
   {
    "duration": 11,
    "start_time": "2022-11-24T04:18:27.254Z"
   },
   {
    "duration": 238,
    "start_time": "2022-11-24T04:18:33.216Z"
   },
   {
    "duration": 14266,
    "start_time": "2022-11-24T07:01:52.804Z"
   },
   {
    "duration": 1080,
    "start_time": "2022-11-24T07:02:07.072Z"
   },
   {
    "duration": 16,
    "start_time": "2022-11-24T07:02:08.154Z"
   },
   {
    "duration": 84,
    "start_time": "2022-11-24T07:02:08.172Z"
   },
   {
    "duration": 130,
    "start_time": "2022-11-24T07:02:08.258Z"
   },
   {
    "duration": 490,
    "start_time": "2022-11-24T07:02:08.389Z"
   },
   {
    "duration": 465,
    "start_time": "2022-11-24T07:02:08.881Z"
   },
   {
    "duration": 452,
    "start_time": "2022-11-24T07:02:09.349Z"
   },
   {
    "duration": 1003,
    "start_time": "2022-11-24T07:02:09.803Z"
   },
   {
    "duration": 178,
    "start_time": "2022-11-24T07:02:10.808Z"
   },
   {
    "duration": 7,
    "start_time": "2022-11-24T07:02:10.988Z"
   },
   {
    "duration": 65,
    "start_time": "2022-11-24T07:02:10.997Z"
   },
   {
    "duration": 298,
    "start_time": "2022-11-24T07:02:11.064Z"
   },
   {
    "duration": 126,
    "start_time": "2022-11-24T07:02:11.364Z"
   },
   {
    "duration": 26,
    "start_time": "2022-11-24T07:02:11.492Z"
   },
   {
    "duration": 44,
    "start_time": "2022-11-24T07:02:11.519Z"
   },
   {
    "duration": 275,
    "start_time": "2022-11-24T07:02:11.565Z"
   },
   {
    "duration": 33,
    "start_time": "2022-11-24T07:02:11.842Z"
   },
   {
    "duration": 19,
    "start_time": "2022-11-24T07:02:11.877Z"
   },
   {
    "duration": 94,
    "start_time": "2022-11-24T07:02:11.898Z"
   },
   {
    "duration": 119,
    "start_time": "2022-11-24T07:02:11.994Z"
   },
   {
    "duration": 81,
    "start_time": "2022-11-24T07:02:12.115Z"
   },
   {
    "duration": 91,
    "start_time": "2022-11-24T07:02:12.198Z"
   },
   {
    "duration": 183,
    "start_time": "2022-11-24T07:02:12.290Z"
   },
   {
    "duration": 552,
    "start_time": "2022-11-24T07:02:12.474Z"
   },
   {
    "duration": 167,
    "start_time": "2022-11-24T07:02:13.027Z"
   },
   {
    "duration": 0,
    "start_time": "2022-11-24T07:02:13.196Z"
   },
   {
    "duration": 0,
    "start_time": "2022-11-24T07:02:13.197Z"
   },
   {
    "duration": 0,
    "start_time": "2022-11-24T07:02:13.198Z"
   },
   {
    "duration": 0,
    "start_time": "2022-11-24T07:02:13.199Z"
   },
   {
    "duration": 0,
    "start_time": "2022-11-24T07:02:13.201Z"
   },
   {
    "duration": 0,
    "start_time": "2022-11-24T07:02:13.202Z"
   },
   {
    "duration": 0,
    "start_time": "2022-11-24T07:02:13.203Z"
   },
   {
    "duration": 0,
    "start_time": "2022-11-24T07:02:13.204Z"
   },
   {
    "duration": 0,
    "start_time": "2022-11-24T07:02:13.205Z"
   },
   {
    "duration": 0,
    "start_time": "2022-11-24T07:02:13.206Z"
   },
   {
    "duration": 0,
    "start_time": "2022-11-24T07:02:13.207Z"
   },
   {
    "duration": 508,
    "start_time": "2022-11-24T07:02:53.403Z"
   },
   {
    "duration": 4043,
    "start_time": "2022-11-24T07:03:21.268Z"
   },
   {
    "duration": 833,
    "start_time": "2022-11-24T07:03:25.313Z"
   },
   {
    "duration": 18,
    "start_time": "2022-11-24T07:03:26.148Z"
   },
   {
    "duration": 145,
    "start_time": "2022-11-24T07:03:26.168Z"
   },
   {
    "duration": 143,
    "start_time": "2022-11-24T07:03:26.316Z"
   },
   {
    "duration": 522,
    "start_time": "2022-11-24T07:03:26.460Z"
   },
   {
    "duration": 510,
    "start_time": "2022-11-24T07:03:26.984Z"
   },
   {
    "duration": 455,
    "start_time": "2022-11-24T07:03:27.496Z"
   },
   {
    "duration": 1034,
    "start_time": "2022-11-24T07:03:27.952Z"
   },
   {
    "duration": 197,
    "start_time": "2022-11-24T07:03:28.988Z"
   },
   {
    "duration": 10,
    "start_time": "2022-11-24T07:03:29.187Z"
   },
   {
    "duration": 66,
    "start_time": "2022-11-24T07:03:29.199Z"
   },
   {
    "duration": 326,
    "start_time": "2022-11-24T07:03:29.267Z"
   },
   {
    "duration": 126,
    "start_time": "2022-11-24T07:03:29.597Z"
   },
   {
    "duration": 40,
    "start_time": "2022-11-24T07:03:29.725Z"
   },
   {
    "duration": 28,
    "start_time": "2022-11-24T07:03:29.767Z"
   },
   {
    "duration": 315,
    "start_time": "2022-11-24T07:03:29.797Z"
   },
   {
    "duration": 44,
    "start_time": "2022-11-24T07:03:30.114Z"
   },
   {
    "duration": 21,
    "start_time": "2022-11-24T07:03:30.160Z"
   },
   {
    "duration": 90,
    "start_time": "2022-11-24T07:03:30.183Z"
   },
   {
    "duration": 122,
    "start_time": "2022-11-24T07:03:30.274Z"
   },
   {
    "duration": 74,
    "start_time": "2022-11-24T07:03:30.398Z"
   },
   {
    "duration": 145,
    "start_time": "2022-11-24T07:03:30.474Z"
   },
   {
    "duration": 182,
    "start_time": "2022-11-24T07:03:30.621Z"
   },
   {
    "duration": 539,
    "start_time": "2022-11-24T07:03:30.805Z"
   },
   {
    "duration": 485,
    "start_time": "2022-11-24T07:03:31.346Z"
   },
   {
    "duration": 3,
    "start_time": "2022-11-24T07:03:31.833Z"
   },
   {
    "duration": 24,
    "start_time": "2022-11-24T07:03:31.838Z"
   },
   {
    "duration": 6,
    "start_time": "2022-11-24T07:03:31.864Z"
   },
   {
    "duration": 9,
    "start_time": "2022-11-24T07:03:31.872Z"
   },
   {
    "duration": 100024,
    "start_time": "2022-11-24T07:03:31.882Z"
   },
   {
    "duration": 0,
    "start_time": "2022-11-24T07:05:11.908Z"
   },
   {
    "duration": 0,
    "start_time": "2022-11-24T07:05:11.909Z"
   },
   {
    "duration": 0,
    "start_time": "2022-11-24T07:05:11.910Z"
   },
   {
    "duration": 0,
    "start_time": "2022-11-24T07:05:11.911Z"
   },
   {
    "duration": 0,
    "start_time": "2022-11-24T07:05:11.912Z"
   },
   {
    "duration": 0,
    "start_time": "2022-11-24T07:05:11.913Z"
   },
   {
    "duration": 2305,
    "start_time": "2022-11-24T07:05:52.408Z"
   },
   {
    "duration": 78889,
    "start_time": "2022-11-24T07:06:00.477Z"
   },
   {
    "duration": 2425,
    "start_time": "2022-11-24T07:09:38.533Z"
   },
   {
    "duration": 10833,
    "start_time": "2022-11-24T07:09:47.642Z"
   },
   {
    "duration": 9,
    "start_time": "2022-11-24T07:12:45.336Z"
   },
   {
    "duration": 1169919,
    "start_time": "2022-11-24T07:12:48.763Z"
   },
   {
    "duration": 55,
    "start_time": "2022-11-24T07:34:35.278Z"
   },
   {
    "duration": 5,
    "start_time": "2022-11-24T07:34:52.642Z"
   },
   {
    "duration": 502,
    "start_time": "2022-11-24T07:38:32.018Z"
   },
   {
    "duration": 642,
    "start_time": "2022-11-24T07:43:06.924Z"
   },
   {
    "duration": 701,
    "start_time": "2022-11-24T07:43:34.535Z"
   },
   {
    "duration": 627,
    "start_time": "2022-11-24T07:43:41.631Z"
   },
   {
    "duration": 620,
    "start_time": "2022-11-24T07:43:54.049Z"
   },
   {
    "duration": 11,
    "start_time": "2022-11-24T07:45:58.332Z"
   },
   {
    "duration": 13,
    "start_time": "2022-11-24T07:47:28.848Z"
   },
   {
    "duration": 4011,
    "start_time": "2022-11-24T07:51:30.780Z"
   },
   {
    "duration": 827,
    "start_time": "2022-11-24T07:51:34.794Z"
   },
   {
    "duration": 23,
    "start_time": "2022-11-24T07:51:35.623Z"
   },
   {
    "duration": 105,
    "start_time": "2022-11-24T07:51:35.648Z"
   },
   {
    "duration": 131,
    "start_time": "2022-11-24T07:51:35.755Z"
   },
   {
    "duration": 495,
    "start_time": "2022-11-24T07:51:35.888Z"
   },
   {
    "duration": 504,
    "start_time": "2022-11-24T07:51:36.385Z"
   },
   {
    "duration": 446,
    "start_time": "2022-11-24T07:51:36.891Z"
   },
   {
    "duration": 972,
    "start_time": "2022-11-24T07:51:37.339Z"
   },
   {
    "duration": 170,
    "start_time": "2022-11-24T07:51:38.314Z"
   },
   {
    "duration": 8,
    "start_time": "2022-11-24T07:51:38.486Z"
   },
   {
    "duration": 63,
    "start_time": "2022-11-24T07:51:38.495Z"
   },
   {
    "duration": 318,
    "start_time": "2022-11-24T07:51:38.560Z"
   },
   {
    "duration": 121,
    "start_time": "2022-11-24T07:51:38.880Z"
   },
   {
    "duration": 39,
    "start_time": "2022-11-24T07:51:39.003Z"
   },
   {
    "duration": 29,
    "start_time": "2022-11-24T07:51:39.044Z"
   },
   {
    "duration": 294,
    "start_time": "2022-11-24T07:51:39.075Z"
   },
   {
    "duration": 32,
    "start_time": "2022-11-24T07:51:39.370Z"
   },
   {
    "duration": 37,
    "start_time": "2022-11-24T07:51:39.404Z"
   },
   {
    "duration": 73,
    "start_time": "2022-11-24T07:51:39.443Z"
   },
   {
    "duration": 129,
    "start_time": "2022-11-24T07:51:39.518Z"
   },
   {
    "duration": 90,
    "start_time": "2022-11-24T07:51:39.649Z"
   },
   {
    "duration": 71,
    "start_time": "2022-11-24T07:51:39.741Z"
   },
   {
    "duration": 170,
    "start_time": "2022-11-24T07:51:39.814Z"
   },
   {
    "duration": 529,
    "start_time": "2022-11-24T07:51:39.986Z"
   },
   {
    "duration": 487,
    "start_time": "2022-11-24T07:51:40.517Z"
   },
   {
    "duration": 3,
    "start_time": "2022-11-24T07:51:41.005Z"
   },
   {
    "duration": 11,
    "start_time": "2022-11-24T07:51:41.011Z"
   },
   {
    "duration": 546652,
    "start_time": "2022-11-24T07:51:41.023Z"
   },
   {
    "duration": 5,
    "start_time": "2022-11-24T08:00:47.677Z"
   },
   {
    "duration": 369104,
    "start_time": "2022-11-24T08:00:47.684Z"
   },
   {
    "duration": 0,
    "start_time": "2022-11-24T08:06:56.790Z"
   },
   {
    "duration": 0,
    "start_time": "2022-11-24T08:06:56.793Z"
   },
   {
    "duration": 0,
    "start_time": "2022-11-24T08:06:56.795Z"
   },
   {
    "duration": 0,
    "start_time": "2022-11-24T08:06:56.797Z"
   },
   {
    "duration": 0,
    "start_time": "2022-11-24T08:06:56.798Z"
   },
   {
    "duration": 0,
    "start_time": "2022-11-24T08:06:56.800Z"
   },
   {
    "duration": 0,
    "start_time": "2022-11-24T08:06:56.802Z"
   },
   {
    "duration": 0,
    "start_time": "2022-11-24T08:06:56.804Z"
   },
   {
    "duration": 0,
    "start_time": "2022-11-24T08:06:56.835Z"
   },
   {
    "duration": 2357,
    "start_time": "2022-11-24T08:07:38.348Z"
   },
   {
    "duration": 8,
    "start_time": "2022-11-24T08:07:48.792Z"
   },
   {
    "duration": 4955,
    "start_time": "2022-11-24T08:07:53.706Z"
   },
   {
    "duration": 26701,
    "start_time": "2022-11-24T08:09:41.961Z"
   },
   {
    "duration": 23211,
    "start_time": "2022-11-24T08:12:15.145Z"
   },
   {
    "duration": 66,
    "start_time": "2022-11-24T08:13:54.433Z"
   },
   {
    "duration": 6,
    "start_time": "2022-11-24T08:14:01.767Z"
   },
   {
    "duration": 14930,
    "start_time": "2022-11-24T08:17:17.425Z"
   },
   {
    "duration": 17883,
    "start_time": "2022-11-24T08:18:01.958Z"
   },
   {
    "duration": 72,
    "start_time": "2022-11-24T08:18:44.290Z"
   },
   {
    "duration": 14,
    "start_time": "2022-11-24T08:18:49.104Z"
   },
   {
    "duration": 4020,
    "start_time": "2022-11-24T08:22:47.799Z"
   },
   {
    "duration": 884,
    "start_time": "2022-11-24T08:22:51.821Z"
   },
   {
    "duration": 19,
    "start_time": "2022-11-24T08:22:52.707Z"
   },
   {
    "duration": 100,
    "start_time": "2022-11-24T08:22:52.736Z"
   },
   {
    "duration": 138,
    "start_time": "2022-11-24T08:22:52.838Z"
   },
   {
    "duration": 449,
    "start_time": "2022-11-24T08:22:52.978Z"
   },
   {
    "duration": 507,
    "start_time": "2022-11-24T08:22:53.429Z"
   },
   {
    "duration": 474,
    "start_time": "2022-11-24T08:22:53.937Z"
   },
   {
    "duration": 1051,
    "start_time": "2022-11-24T08:22:54.412Z"
   },
   {
    "duration": 172,
    "start_time": "2022-11-24T08:22:55.465Z"
   },
   {
    "duration": 9,
    "start_time": "2022-11-24T08:22:55.638Z"
   },
   {
    "duration": 48,
    "start_time": "2022-11-24T08:22:55.649Z"
   },
   {
    "duration": 317,
    "start_time": "2022-11-24T08:22:55.699Z"
   },
   {
    "duration": 121,
    "start_time": "2022-11-24T08:22:56.018Z"
   },
   {
    "duration": 29,
    "start_time": "2022-11-24T08:22:56.141Z"
   },
   {
    "duration": 30,
    "start_time": "2022-11-24T08:22:56.173Z"
   },
   {
    "duration": 293,
    "start_time": "2022-11-24T08:22:56.204Z"
   },
   {
    "duration": 37,
    "start_time": "2022-11-24T08:22:56.498Z"
   },
   {
    "duration": 22,
    "start_time": "2022-11-24T08:22:56.537Z"
   },
   {
    "duration": 83,
    "start_time": "2022-11-24T08:22:56.560Z"
   },
   {
    "duration": 122,
    "start_time": "2022-11-24T08:22:56.644Z"
   },
   {
    "duration": 83,
    "start_time": "2022-11-24T08:22:56.767Z"
   },
   {
    "duration": 94,
    "start_time": "2022-11-24T08:22:56.851Z"
   },
   {
    "duration": 189,
    "start_time": "2022-11-24T08:22:56.947Z"
   },
   {
    "duration": 569,
    "start_time": "2022-11-24T08:22:57.138Z"
   },
   {
    "duration": 500,
    "start_time": "2022-11-24T08:22:57.709Z"
   },
   {
    "duration": 3,
    "start_time": "2022-11-24T08:22:58.210Z"
   },
   {
    "duration": 9,
    "start_time": "2022-11-24T08:22:58.216Z"
   },
   {
    "duration": 3907,
    "start_time": "2022-11-24T08:24:48.405Z"
   },
   {
    "duration": 864,
    "start_time": "2022-11-24T08:24:52.314Z"
   },
   {
    "duration": 18,
    "start_time": "2022-11-24T08:24:53.180Z"
   },
   {
    "duration": 102,
    "start_time": "2022-11-24T08:24:53.200Z"
   },
   {
    "duration": 132,
    "start_time": "2022-11-24T08:24:53.303Z"
   },
   {
    "duration": 479,
    "start_time": "2022-11-24T08:24:53.437Z"
   },
   {
    "duration": 483,
    "start_time": "2022-11-24T08:24:53.917Z"
   },
   {
    "duration": 449,
    "start_time": "2022-11-24T08:24:54.401Z"
   },
   {
    "duration": 974,
    "start_time": "2022-11-24T08:24:54.852Z"
   },
   {
    "duration": 176,
    "start_time": "2022-11-24T08:24:55.828Z"
   },
   {
    "duration": 12,
    "start_time": "2022-11-24T08:24:56.006Z"
   },
   {
    "duration": 60,
    "start_time": "2022-11-24T08:24:56.019Z"
   },
   {
    "duration": 308,
    "start_time": "2022-11-24T08:24:56.081Z"
   },
   {
    "duration": 123,
    "start_time": "2022-11-24T08:24:56.391Z"
   },
   {
    "duration": 38,
    "start_time": "2022-11-24T08:24:56.516Z"
   },
   {
    "duration": 29,
    "start_time": "2022-11-24T08:24:56.555Z"
   },
   {
    "duration": 300,
    "start_time": "2022-11-24T08:24:56.585Z"
   },
   {
    "duration": 33,
    "start_time": "2022-11-24T08:24:56.886Z"
   },
   {
    "duration": 35,
    "start_time": "2022-11-24T08:24:56.921Z"
   },
   {
    "duration": 90,
    "start_time": "2022-11-24T08:24:56.958Z"
   },
   {
    "duration": 124,
    "start_time": "2022-11-24T08:24:57.049Z"
   },
   {
    "duration": 76,
    "start_time": "2022-11-24T08:24:57.174Z"
   },
   {
    "duration": 102,
    "start_time": "2022-11-24T08:24:57.253Z"
   },
   {
    "duration": 162,
    "start_time": "2022-11-24T08:24:57.357Z"
   },
   {
    "duration": 500,
    "start_time": "2022-11-24T08:24:57.521Z"
   },
   {
    "duration": 500,
    "start_time": "2022-11-24T08:24:58.023Z"
   },
   {
    "duration": 2,
    "start_time": "2022-11-24T08:24:58.525Z"
   },
   {
    "duration": 7,
    "start_time": "2022-11-24T08:24:58.530Z"
   },
   {
    "duration": 111717,
    "start_time": "2022-11-24T08:24:58.539Z"
   },
   {
    "duration": 5,
    "start_time": "2022-11-24T08:26:50.258Z"
   },
   {
    "duration": 31374,
    "start_time": "2022-11-24T08:26:50.264Z"
   },
   {
    "duration": 0,
    "start_time": "2022-11-24T08:27:21.639Z"
   },
   {
    "duration": 0,
    "start_time": "2022-11-24T08:27:21.641Z"
   },
   {
    "duration": 0,
    "start_time": "2022-11-24T08:27:21.642Z"
   },
   {
    "duration": 0,
    "start_time": "2022-11-24T08:27:21.643Z"
   },
   {
    "duration": 0,
    "start_time": "2022-11-24T08:27:21.644Z"
   },
   {
    "duration": 0,
    "start_time": "2022-11-24T08:27:21.645Z"
   },
   {
    "duration": 0,
    "start_time": "2022-11-24T08:27:21.646Z"
   },
   {
    "duration": 0,
    "start_time": "2022-11-24T08:27:21.647Z"
   },
   {
    "duration": 0,
    "start_time": "2022-11-24T08:27:21.648Z"
   },
   {
    "duration": 44,
    "start_time": "2022-11-24T08:27:54.839Z"
   },
   {
    "duration": 46,
    "start_time": "2022-11-24T08:28:07.074Z"
   },
   {
    "duration": 51,
    "start_time": "2022-11-24T08:28:12.905Z"
   },
   {
    "duration": 49,
    "start_time": "2022-11-24T08:29:12.261Z"
   },
   {
    "duration": 6,
    "start_time": "2022-11-24T08:29:24.645Z"
   },
   {
    "duration": 3895,
    "start_time": "2022-11-24T08:32:15.658Z"
   },
   {
    "duration": 865,
    "start_time": "2022-11-24T08:32:19.556Z"
   },
   {
    "duration": 20,
    "start_time": "2022-11-24T08:32:20.422Z"
   },
   {
    "duration": 94,
    "start_time": "2022-11-24T08:32:20.445Z"
   },
   {
    "duration": 140,
    "start_time": "2022-11-24T08:32:20.541Z"
   },
   {
    "duration": 483,
    "start_time": "2022-11-24T08:32:20.683Z"
   },
   {
    "duration": 510,
    "start_time": "2022-11-24T08:32:21.168Z"
   },
   {
    "duration": 456,
    "start_time": "2022-11-24T08:32:21.680Z"
   },
   {
    "duration": 1060,
    "start_time": "2022-11-24T08:32:22.138Z"
   },
   {
    "duration": 199,
    "start_time": "2022-11-24T08:32:23.200Z"
   },
   {
    "duration": 9,
    "start_time": "2022-11-24T08:32:23.401Z"
   },
   {
    "duration": 68,
    "start_time": "2022-11-24T08:32:23.412Z"
   },
   {
    "duration": 305,
    "start_time": "2022-11-24T08:32:23.482Z"
   },
   {
    "duration": 122,
    "start_time": "2022-11-24T08:32:23.789Z"
   },
   {
    "duration": 36,
    "start_time": "2022-11-24T08:32:23.913Z"
   },
   {
    "duration": 28,
    "start_time": "2022-11-24T08:32:23.951Z"
   },
   {
    "duration": 270,
    "start_time": "2022-11-24T08:32:23.981Z"
   },
   {
    "duration": 30,
    "start_time": "2022-11-24T08:32:24.253Z"
   },
   {
    "duration": 21,
    "start_time": "2022-11-24T08:32:24.285Z"
   },
   {
    "duration": 81,
    "start_time": "2022-11-24T08:32:24.308Z"
   },
   {
    "duration": 109,
    "start_time": "2022-11-24T08:32:24.390Z"
   },
   {
    "duration": 71,
    "start_time": "2022-11-24T08:32:24.500Z"
   },
   {
    "duration": 86,
    "start_time": "2022-11-24T08:32:24.572Z"
   },
   {
    "duration": 179,
    "start_time": "2022-11-24T08:32:24.660Z"
   },
   {
    "duration": 474,
    "start_time": "2022-11-24T08:32:24.841Z"
   },
   {
    "duration": 461,
    "start_time": "2022-11-24T08:32:25.317Z"
   },
   {
    "duration": 2,
    "start_time": "2022-11-24T08:32:25.780Z"
   },
   {
    "duration": 15,
    "start_time": "2022-11-24T08:32:25.785Z"
   },
   {
    "duration": 116756,
    "start_time": "2022-11-24T08:32:25.802Z"
   },
   {
    "duration": 6,
    "start_time": "2022-11-24T08:34:22.561Z"
   },
   {
    "duration": 56140,
    "start_time": "2022-11-24T08:34:22.570Z"
   },
   {
    "duration": 0,
    "start_time": "2022-11-24T08:35:18.712Z"
   },
   {
    "duration": 0,
    "start_time": "2022-11-24T08:35:18.713Z"
   },
   {
    "duration": 0,
    "start_time": "2022-11-24T08:35:18.715Z"
   },
   {
    "duration": 0,
    "start_time": "2022-11-24T08:35:18.716Z"
   },
   {
    "duration": 0,
    "start_time": "2022-11-24T08:35:18.717Z"
   },
   {
    "duration": 0,
    "start_time": "2022-11-24T08:35:18.718Z"
   },
   {
    "duration": 0,
    "start_time": "2022-11-24T08:35:18.719Z"
   },
   {
    "duration": 0,
    "start_time": "2022-11-24T08:35:18.735Z"
   },
   {
    "duration": 0,
    "start_time": "2022-11-24T08:35:18.736Z"
   },
   {
    "duration": 3969,
    "start_time": "2022-11-24T08:36:34.702Z"
   },
   {
    "duration": 840,
    "start_time": "2022-11-24T08:36:38.673Z"
   },
   {
    "duration": 25,
    "start_time": "2022-11-24T08:36:39.515Z"
   },
   {
    "duration": 99,
    "start_time": "2022-11-24T08:36:39.542Z"
   },
   {
    "duration": 133,
    "start_time": "2022-11-24T08:36:39.642Z"
   },
   {
    "duration": 463,
    "start_time": "2022-11-24T08:36:39.777Z"
   },
   {
    "duration": 475,
    "start_time": "2022-11-24T08:36:40.242Z"
   },
   {
    "duration": 431,
    "start_time": "2022-11-24T08:36:40.719Z"
   },
   {
    "duration": 983,
    "start_time": "2022-11-24T08:36:41.152Z"
   },
   {
    "duration": 172,
    "start_time": "2022-11-24T08:36:42.138Z"
   },
   {
    "duration": 8,
    "start_time": "2022-11-24T08:36:42.312Z"
   },
   {
    "duration": 69,
    "start_time": "2022-11-24T08:36:42.335Z"
   },
   {
    "duration": 357,
    "start_time": "2022-11-24T08:36:42.406Z"
   },
   {
    "duration": 126,
    "start_time": "2022-11-24T08:36:42.765Z"
   },
   {
    "duration": 28,
    "start_time": "2022-11-24T08:36:42.894Z"
   },
   {
    "duration": 30,
    "start_time": "2022-11-24T08:36:42.936Z"
   },
   {
    "duration": 279,
    "start_time": "2022-11-24T08:36:42.968Z"
   },
   {
    "duration": 31,
    "start_time": "2022-11-24T08:36:43.249Z"
   },
   {
    "duration": 21,
    "start_time": "2022-11-24T08:36:43.282Z"
   },
   {
    "duration": 86,
    "start_time": "2022-11-24T08:36:43.305Z"
   },
   {
    "duration": 113,
    "start_time": "2022-11-24T08:36:43.393Z"
   },
   {
    "duration": 71,
    "start_time": "2022-11-24T08:36:43.508Z"
   },
   {
    "duration": 87,
    "start_time": "2022-11-24T08:36:43.581Z"
   },
   {
    "duration": 153,
    "start_time": "2022-11-24T08:36:43.670Z"
   },
   {
    "duration": 515,
    "start_time": "2022-11-24T08:36:43.825Z"
   },
   {
    "duration": 477,
    "start_time": "2022-11-24T08:36:44.342Z"
   },
   {
    "duration": 2,
    "start_time": "2022-11-24T08:36:44.821Z"
   },
   {
    "duration": 3,
    "start_time": "2022-11-24T08:36:44.838Z"
   },
   {
    "duration": 18,
    "start_time": "2022-11-24T08:36:44.842Z"
   },
   {
    "duration": 13,
    "start_time": "2022-11-24T08:36:44.862Z"
   },
   {
    "duration": 2531,
    "start_time": "2022-11-24T08:36:44.877Z"
   },
   {
    "duration": 52,
    "start_time": "2022-11-24T08:36:47.410Z"
   },
   {
    "duration": 20180,
    "start_time": "2022-11-24T08:36:47.464Z"
   },
   {
    "duration": 90,
    "start_time": "2022-11-24T08:37:07.646Z"
   },
   {
    "duration": 301,
    "start_time": "2022-11-24T08:37:07.738Z"
   },
   {
    "duration": 141,
    "start_time": "2022-11-24T08:37:08.040Z"
   },
   {
    "duration": 0,
    "start_time": "2022-11-24T08:37:08.183Z"
   },
   {
    "duration": 0,
    "start_time": "2022-11-24T08:37:08.184Z"
   },
   {
    "duration": 0,
    "start_time": "2022-11-24T08:37:08.186Z"
   },
   {
    "duration": 0,
    "start_time": "2022-11-24T08:37:08.188Z"
   },
   {
    "duration": 3897,
    "start_time": "2022-11-24T08:37:33.108Z"
   },
   {
    "duration": 853,
    "start_time": "2022-11-24T08:37:37.007Z"
   },
   {
    "duration": 18,
    "start_time": "2022-11-24T08:37:37.862Z"
   },
   {
    "duration": 106,
    "start_time": "2022-11-24T08:37:37.881Z"
   },
   {
    "duration": 135,
    "start_time": "2022-11-24T08:37:37.989Z"
   },
   {
    "duration": 510,
    "start_time": "2022-11-24T08:37:38.126Z"
   },
   {
    "duration": 524,
    "start_time": "2022-11-24T08:37:38.637Z"
   },
   {
    "duration": 459,
    "start_time": "2022-11-24T08:37:39.162Z"
   },
   {
    "duration": 980,
    "start_time": "2022-11-24T08:37:39.622Z"
   },
   {
    "duration": 168,
    "start_time": "2022-11-24T08:37:40.603Z"
   },
   {
    "duration": 9,
    "start_time": "2022-11-24T08:37:40.773Z"
   },
   {
    "duration": 62,
    "start_time": "2022-11-24T08:37:40.784Z"
   },
   {
    "duration": 319,
    "start_time": "2022-11-24T08:37:40.848Z"
   },
   {
    "duration": 120,
    "start_time": "2022-11-24T08:37:41.170Z"
   },
   {
    "duration": 42,
    "start_time": "2022-11-24T08:37:41.292Z"
   },
   {
    "duration": 29,
    "start_time": "2022-11-24T08:37:41.335Z"
   },
   {
    "duration": 266,
    "start_time": "2022-11-24T08:37:41.365Z"
   },
   {
    "duration": 30,
    "start_time": "2022-11-24T08:37:41.633Z"
   },
   {
    "duration": 21,
    "start_time": "2022-11-24T08:37:41.665Z"
   },
   {
    "duration": 81,
    "start_time": "2022-11-24T08:37:41.688Z"
   },
   {
    "duration": 112,
    "start_time": "2022-11-24T08:37:41.771Z"
   },
   {
    "duration": 86,
    "start_time": "2022-11-24T08:37:41.884Z"
   },
   {
    "duration": 81,
    "start_time": "2022-11-24T08:37:41.972Z"
   },
   {
    "duration": 178,
    "start_time": "2022-11-24T08:37:42.055Z"
   },
   {
    "duration": 619,
    "start_time": "2022-11-24T08:37:42.236Z"
   },
   {
    "duration": 501,
    "start_time": "2022-11-24T08:37:42.857Z"
   },
   {
    "duration": 3,
    "start_time": "2022-11-24T08:37:43.360Z"
   },
   {
    "duration": 23,
    "start_time": "2022-11-24T08:37:43.365Z"
   },
   {
    "duration": 114016,
    "start_time": "2022-11-24T08:37:43.390Z"
   },
   {
    "duration": 5,
    "start_time": "2022-11-24T08:39:37.407Z"
   },
   {
    "duration": 13523,
    "start_time": "2022-11-24T08:39:37.414Z"
   },
   {
    "duration": 51,
    "start_time": "2022-11-24T08:39:50.938Z"
   },
   {
    "duration": 18745,
    "start_time": "2022-11-24T08:39:50.991Z"
   },
   {
    "duration": 4,
    "start_time": "2022-11-24T08:40:09.739Z"
   },
   {
    "duration": 1004,
    "start_time": "2022-11-24T08:40:09.745Z"
   },
   {
    "duration": 186,
    "start_time": "2022-11-24T08:40:10.752Z"
   },
   {
    "duration": 504,
    "start_time": "2022-11-24T08:40:10.939Z"
   },
   {
    "duration": 0,
    "start_time": "2022-11-24T08:40:11.445Z"
   },
   {
    "duration": 0,
    "start_time": "2022-11-24T08:40:11.446Z"
   },
   {
    "duration": 0,
    "start_time": "2022-11-24T08:40:11.448Z"
   },
   {
    "duration": 257,
    "start_time": "2022-11-24T08:41:12.978Z"
   },
   {
    "duration": 169,
    "start_time": "2022-11-24T08:41:20.982Z"
   },
   {
    "duration": 18,
    "start_time": "2022-11-24T08:41:23.752Z"
   },
   {
    "duration": 4,
    "start_time": "2022-11-24T08:41:50.980Z"
   },
   {
    "duration": 4,
    "start_time": "2022-11-24T08:41:55.953Z"
   },
   {
    "duration": 4,
    "start_time": "2022-11-24T08:42:16.430Z"
   },
   {
    "duration": 3943,
    "start_time": "2022-11-24T08:42:32.614Z"
   },
   {
    "duration": 834,
    "start_time": "2022-11-24T08:42:36.559Z"
   },
   {
    "duration": 17,
    "start_time": "2022-11-24T08:42:37.395Z"
   },
   {
    "duration": 101,
    "start_time": "2022-11-24T08:42:37.414Z"
   },
   {
    "duration": 131,
    "start_time": "2022-11-24T08:42:37.517Z"
   },
   {
    "duration": 458,
    "start_time": "2022-11-24T08:42:37.650Z"
   },
   {
    "duration": 459,
    "start_time": "2022-11-24T08:42:38.110Z"
   },
   {
    "duration": 482,
    "start_time": "2022-11-24T08:42:38.570Z"
   },
   {
    "duration": 985,
    "start_time": "2022-11-24T08:42:39.054Z"
   },
   {
    "duration": 170,
    "start_time": "2022-11-24T08:42:40.041Z"
   },
   {
    "duration": 22,
    "start_time": "2022-11-24T08:42:40.213Z"
   },
   {
    "duration": 45,
    "start_time": "2022-11-24T08:42:40.237Z"
   },
   {
    "duration": 309,
    "start_time": "2022-11-24T08:42:40.283Z"
   },
   {
    "duration": 124,
    "start_time": "2022-11-24T08:42:40.595Z"
   },
   {
    "duration": 38,
    "start_time": "2022-11-24T08:42:40.721Z"
   },
   {
    "duration": 30,
    "start_time": "2022-11-24T08:42:40.761Z"
   },
   {
    "duration": 284,
    "start_time": "2022-11-24T08:42:40.792Z"
   },
   {
    "duration": 36,
    "start_time": "2022-11-24T08:42:41.078Z"
   },
   {
    "duration": 41,
    "start_time": "2022-11-24T08:42:41.115Z"
   },
   {
    "duration": 94,
    "start_time": "2022-11-24T08:42:41.158Z"
   },
   {
    "duration": 122,
    "start_time": "2022-11-24T08:42:41.254Z"
   },
   {
    "duration": 70,
    "start_time": "2022-11-24T08:42:41.378Z"
   },
   {
    "duration": 77,
    "start_time": "2022-11-24T08:42:41.449Z"
   },
   {
    "duration": 163,
    "start_time": "2022-11-24T08:42:41.535Z"
   },
   {
    "duration": 547,
    "start_time": "2022-11-24T08:42:41.700Z"
   },
   {
    "duration": 538,
    "start_time": "2022-11-24T08:42:42.249Z"
   },
   {
    "duration": 3,
    "start_time": "2022-11-24T08:42:42.789Z"
   },
   {
    "duration": 11,
    "start_time": "2022-11-24T08:42:42.794Z"
   },
   {
    "duration": 113243,
    "start_time": "2022-11-24T08:42:42.807Z"
   },
   {
    "duration": 5,
    "start_time": "2022-11-24T08:44:36.052Z"
   },
   {
    "duration": 16355,
    "start_time": "2022-11-24T08:44:36.058Z"
   },
   {
    "duration": 52,
    "start_time": "2022-11-24T08:44:52.415Z"
   },
   {
    "duration": 20286,
    "start_time": "2022-11-24T08:44:52.469Z"
   },
   {
    "duration": 4,
    "start_time": "2022-11-24T08:45:12.837Z"
   },
   {
    "duration": 1017,
    "start_time": "2022-11-24T08:45:12.843Z"
   },
   {
    "duration": 212,
    "start_time": "2022-11-24T08:45:13.861Z"
   },
   {
    "duration": 261,
    "start_time": "2022-11-24T08:45:14.075Z"
   },
   {
    "duration": 95,
    "start_time": "2022-11-24T08:45:14.342Z"
   },
   {
    "duration": 17,
    "start_time": "2022-11-24T08:45:14.439Z"
   },
   {
    "duration": 12,
    "start_time": "2022-11-24T08:45:14.458Z"
   },
   {
    "duration": 50,
    "start_time": "2022-11-24T08:45:14.473Z"
   },
   {
    "duration": 4359,
    "start_time": "2022-11-24T10:50:15.595Z"
   },
   {
    "duration": 901,
    "start_time": "2022-11-24T10:50:19.957Z"
   },
   {
    "duration": 18,
    "start_time": "2022-11-24T10:50:20.859Z"
   },
   {
    "duration": 107,
    "start_time": "2022-11-24T10:50:20.880Z"
   },
   {
    "duration": 154,
    "start_time": "2022-11-24T10:50:20.989Z"
   },
   {
    "duration": 521,
    "start_time": "2022-11-24T10:50:21.145Z"
   },
   {
    "duration": 553,
    "start_time": "2022-11-24T10:50:21.668Z"
   },
   {
    "duration": 513,
    "start_time": "2022-11-24T10:50:22.223Z"
   },
   {
    "duration": 955,
    "start_time": "2022-11-24T10:50:22.738Z"
   },
   {
    "duration": 175,
    "start_time": "2022-11-24T10:50:23.697Z"
   },
   {
    "duration": 8,
    "start_time": "2022-11-24T10:50:23.874Z"
   },
   {
    "duration": 59,
    "start_time": "2022-11-24T10:50:23.884Z"
   },
   {
    "duration": 302,
    "start_time": "2022-11-24T10:50:23.945Z"
   },
   {
    "duration": 118,
    "start_time": "2022-11-24T10:50:24.248Z"
   },
   {
    "duration": 26,
    "start_time": "2022-11-24T10:50:24.367Z"
   },
   {
    "duration": 42,
    "start_time": "2022-11-24T10:50:24.395Z"
   },
   {
    "duration": 254,
    "start_time": "2022-11-24T10:50:24.438Z"
   },
   {
    "duration": 30,
    "start_time": "2022-11-24T10:50:24.693Z"
   },
   {
    "duration": 31,
    "start_time": "2022-11-24T10:50:24.724Z"
   },
   {
    "duration": 80,
    "start_time": "2022-11-24T10:50:24.756Z"
   },
   {
    "duration": 106,
    "start_time": "2022-11-24T10:50:24.837Z"
   },
   {
    "duration": 70,
    "start_time": "2022-11-24T10:50:24.946Z"
   },
   {
    "duration": 89,
    "start_time": "2022-11-24T10:50:25.017Z"
   },
   {
    "duration": 155,
    "start_time": "2022-11-24T10:50:25.108Z"
   },
   {
    "duration": 498,
    "start_time": "2022-11-24T10:50:25.265Z"
   },
   {
    "duration": 485,
    "start_time": "2022-11-24T10:50:25.765Z"
   },
   {
    "duration": 3,
    "start_time": "2022-11-24T10:50:26.252Z"
   },
   {
    "duration": 13,
    "start_time": "2022-11-24T10:50:26.258Z"
   },
   {
    "duration": 120901,
    "start_time": "2022-11-24T10:50:26.272Z"
   },
   {
    "duration": 4,
    "start_time": "2022-11-24T10:52:27.176Z"
   },
   {
    "duration": 41436,
    "start_time": "2022-11-24T10:52:27.182Z"
   },
   {
    "duration": 44,
    "start_time": "2022-11-24T10:53:08.620Z"
   },
   {
    "duration": 17171,
    "start_time": "2022-11-24T10:53:08.666Z"
   },
   {
    "duration": 94,
    "start_time": "2022-11-24T10:53:25.843Z"
   },
   {
    "duration": 192,
    "start_time": "2022-11-24T10:53:25.939Z"
   },
   {
    "duration": 617,
    "start_time": "2022-11-24T10:53:26.133Z"
   },
   {
    "duration": 286,
    "start_time": "2022-11-24T10:53:26.753Z"
   },
   {
    "duration": 94,
    "start_time": "2022-11-24T10:53:27.041Z"
   },
   {
    "duration": 11,
    "start_time": "2022-11-24T10:53:27.137Z"
   },
   {
    "duration": 19964,
    "start_time": "2022-11-25T07:51:13.428Z"
   },
   {
    "duration": 4316,
    "start_time": "2022-11-25T07:51:33.394Z"
   },
   {
    "duration": 19,
    "start_time": "2022-11-25T07:51:37.712Z"
   },
   {
    "duration": 123,
    "start_time": "2022-11-25T07:51:37.733Z"
   },
   {
    "duration": 187,
    "start_time": "2022-11-25T07:51:37.857Z"
   },
   {
    "duration": 644,
    "start_time": "2022-11-25T07:51:38.047Z"
   },
   {
    "duration": 664,
    "start_time": "2022-11-25T07:51:38.694Z"
   },
   {
    "duration": 590,
    "start_time": "2022-11-25T07:51:39.360Z"
   },
   {
    "duration": 1275,
    "start_time": "2022-11-25T07:51:39.952Z"
   },
   {
    "duration": 271,
    "start_time": "2022-11-25T07:51:41.230Z"
   },
   {
    "duration": 12,
    "start_time": "2022-11-25T07:51:41.503Z"
   },
   {
    "duration": 75,
    "start_time": "2022-11-25T07:51:41.517Z"
   },
   {
    "duration": 381,
    "start_time": "2022-11-25T07:51:41.593Z"
   },
   {
    "duration": 136,
    "start_time": "2022-11-25T07:51:41.976Z"
   },
   {
    "duration": 36,
    "start_time": "2022-11-25T07:51:42.114Z"
   },
   {
    "duration": 36,
    "start_time": "2022-11-25T07:51:42.154Z"
   },
   {
    "duration": 405,
    "start_time": "2022-11-25T07:51:42.192Z"
   },
   {
    "duration": 32,
    "start_time": "2022-11-25T07:51:42.599Z"
   },
   {
    "duration": 32,
    "start_time": "2022-11-25T07:51:42.640Z"
   },
   {
    "duration": 102,
    "start_time": "2022-11-25T07:51:42.674Z"
   },
   {
    "duration": 123,
    "start_time": "2022-11-25T07:51:42.778Z"
   },
   {
    "duration": 93,
    "start_time": "2022-11-25T07:51:42.903Z"
   },
   {
    "duration": 107,
    "start_time": "2022-11-25T07:51:42.998Z"
   },
   {
    "duration": 204,
    "start_time": "2022-11-25T07:51:43.106Z"
   },
   {
    "duration": 683,
    "start_time": "2022-11-25T07:51:43.312Z"
   },
   {
    "duration": 571,
    "start_time": "2022-11-25T07:51:43.996Z"
   },
   {
    "duration": 4,
    "start_time": "2022-11-25T07:51:44.574Z"
   },
   {
    "duration": 11,
    "start_time": "2022-11-25T07:51:44.581Z"
   },
   {
    "duration": 144751,
    "start_time": "2022-11-25T07:51:44.593Z"
   },
   {
    "duration": 11,
    "start_time": "2022-11-25T07:54:09.351Z"
   },
   {
    "duration": 329460,
    "start_time": "2022-11-25T07:54:09.364Z"
   },
   {
    "duration": 110,
    "start_time": "2022-11-25T07:59:38.826Z"
   },
   {
    "duration": 23327,
    "start_time": "2022-11-25T07:59:38.938Z"
   },
   {
    "duration": 326,
    "start_time": "2022-11-25T08:00:02.269Z"
   },
   {
    "duration": 381,
    "start_time": "2022-11-25T08:00:02.597Z"
   },
   {
    "duration": 261,
    "start_time": "2022-11-25T08:00:02.980Z"
   },
   {
    "duration": 14,
    "start_time": "2022-11-25T08:00:03.243Z"
   },
   {
    "duration": 117,
    "start_time": "2022-11-25T08:00:03.261Z"
   },
   {
    "duration": 16481,
    "start_time": "2022-11-25T09:41:35.951Z"
   },
   {
    "duration": 1078,
    "start_time": "2022-11-25T09:41:52.434Z"
   },
   {
    "duration": 19,
    "start_time": "2022-11-25T09:41:53.514Z"
   },
   {
    "duration": 111,
    "start_time": "2022-11-25T09:41:53.536Z"
   },
   {
    "duration": 125,
    "start_time": "2022-11-25T09:41:53.649Z"
   },
   {
    "duration": 471,
    "start_time": "2022-11-25T09:41:53.776Z"
   },
   {
    "duration": 479,
    "start_time": "2022-11-25T09:41:54.249Z"
   },
   {
    "duration": 456,
    "start_time": "2022-11-25T09:41:54.729Z"
   },
   {
    "duration": 1054,
    "start_time": "2022-11-25T09:41:55.187Z"
   },
   {
    "duration": 183,
    "start_time": "2022-11-25T09:41:56.244Z"
   },
   {
    "duration": 13,
    "start_time": "2022-11-25T09:41:56.429Z"
   },
   {
    "duration": 77,
    "start_time": "2022-11-25T09:41:56.444Z"
   },
   {
    "duration": 364,
    "start_time": "2022-11-25T09:41:56.523Z"
   },
   {
    "duration": 109,
    "start_time": "2022-11-25T09:41:56.888Z"
   },
   {
    "duration": 40,
    "start_time": "2022-11-25T09:41:56.999Z"
   },
   {
    "duration": 945,
    "start_time": "2022-11-25T09:41:57.041Z"
   },
   {
    "duration": 0,
    "start_time": "2022-11-25T09:41:57.989Z"
   },
   {
    "duration": 0,
    "start_time": "2022-11-25T09:41:57.991Z"
   },
   {
    "duration": 0,
    "start_time": "2022-11-25T09:41:57.993Z"
   },
   {
    "duration": 0,
    "start_time": "2022-11-25T09:41:57.994Z"
   },
   {
    "duration": 0,
    "start_time": "2022-11-25T09:41:57.996Z"
   },
   {
    "duration": 0,
    "start_time": "2022-11-25T09:41:57.997Z"
   },
   {
    "duration": 0,
    "start_time": "2022-11-25T09:41:57.999Z"
   },
   {
    "duration": 0,
    "start_time": "2022-11-25T09:41:58.000Z"
   },
   {
    "duration": 0,
    "start_time": "2022-11-25T09:41:58.001Z"
   },
   {
    "duration": 0,
    "start_time": "2022-11-25T09:41:58.003Z"
   },
   {
    "duration": 0,
    "start_time": "2022-11-25T09:41:58.004Z"
   },
   {
    "duration": 0,
    "start_time": "2022-11-25T09:41:58.005Z"
   },
   {
    "duration": 0,
    "start_time": "2022-11-25T09:41:58.006Z"
   },
   {
    "duration": 0,
    "start_time": "2022-11-25T09:41:58.007Z"
   },
   {
    "duration": 0,
    "start_time": "2022-11-25T09:41:58.008Z"
   },
   {
    "duration": 0,
    "start_time": "2022-11-25T09:41:58.009Z"
   },
   {
    "duration": 0,
    "start_time": "2022-11-25T09:41:58.011Z"
   },
   {
    "duration": 0,
    "start_time": "2022-11-25T09:41:58.012Z"
   },
   {
    "duration": 0,
    "start_time": "2022-11-25T09:41:58.013Z"
   },
   {
    "duration": 0,
    "start_time": "2022-11-25T09:41:58.014Z"
   },
   {
    "duration": 0,
    "start_time": "2022-11-25T09:41:58.015Z"
   },
   {
    "duration": 0,
    "start_time": "2022-11-25T09:41:58.016Z"
   },
   {
    "duration": 3977,
    "start_time": "2022-11-25T09:43:12.299Z"
   },
   {
    "duration": 1004,
    "start_time": "2022-11-25T09:43:16.278Z"
   },
   {
    "duration": 18,
    "start_time": "2022-11-25T09:43:17.284Z"
   },
   {
    "duration": 91,
    "start_time": "2022-11-25T09:43:17.311Z"
   },
   {
    "duration": 114,
    "start_time": "2022-11-25T09:43:17.412Z"
   },
   {
    "duration": 444,
    "start_time": "2022-11-25T09:43:17.528Z"
   },
   {
    "duration": 486,
    "start_time": "2022-11-25T09:43:17.974Z"
   },
   {
    "duration": 437,
    "start_time": "2022-11-25T09:43:18.462Z"
   },
   {
    "duration": 1130,
    "start_time": "2022-11-25T09:43:18.901Z"
   },
   {
    "duration": 181,
    "start_time": "2022-11-25T09:43:20.033Z"
   },
   {
    "duration": 14,
    "start_time": "2022-11-25T09:43:20.216Z"
   },
   {
    "duration": 74,
    "start_time": "2022-11-25T09:43:20.231Z"
   },
   {
    "duration": 340,
    "start_time": "2022-11-25T09:43:20.307Z"
   },
   {
    "duration": 148,
    "start_time": "2022-11-25T09:43:20.648Z"
   },
   {
    "duration": 0,
    "start_time": "2022-11-25T09:43:20.807Z"
   },
   {
    "duration": 0,
    "start_time": "2022-11-25T09:43:20.815Z"
   },
   {
    "duration": 0,
    "start_time": "2022-11-25T09:43:20.816Z"
   },
   {
    "duration": 0,
    "start_time": "2022-11-25T09:43:20.818Z"
   },
   {
    "duration": 0,
    "start_time": "2022-11-25T09:43:20.820Z"
   },
   {
    "duration": 0,
    "start_time": "2022-11-25T09:43:20.821Z"
   },
   {
    "duration": 0,
    "start_time": "2022-11-25T09:43:20.823Z"
   },
   {
    "duration": 0,
    "start_time": "2022-11-25T09:43:20.824Z"
   },
   {
    "duration": 0,
    "start_time": "2022-11-25T09:43:20.825Z"
   },
   {
    "duration": 0,
    "start_time": "2022-11-25T09:43:20.827Z"
   },
   {
    "duration": 0,
    "start_time": "2022-11-25T09:43:20.829Z"
   },
   {
    "duration": 0,
    "start_time": "2022-11-25T09:43:20.830Z"
   },
   {
    "duration": 0,
    "start_time": "2022-11-25T09:43:20.832Z"
   },
   {
    "duration": 0,
    "start_time": "2022-11-25T09:43:20.833Z"
   },
   {
    "duration": 0,
    "start_time": "2022-11-25T09:43:20.834Z"
   },
   {
    "duration": 0,
    "start_time": "2022-11-25T09:43:20.837Z"
   },
   {
    "duration": 0,
    "start_time": "2022-11-25T09:43:20.838Z"
   },
   {
    "duration": 0,
    "start_time": "2022-11-25T09:43:20.840Z"
   },
   {
    "duration": 0,
    "start_time": "2022-11-25T09:43:20.842Z"
   },
   {
    "duration": 0,
    "start_time": "2022-11-25T09:43:20.843Z"
   },
   {
    "duration": 0,
    "start_time": "2022-11-25T09:43:20.845Z"
   },
   {
    "duration": 0,
    "start_time": "2022-11-25T09:43:20.846Z"
   },
   {
    "duration": 0,
    "start_time": "2022-11-25T09:43:20.848Z"
   },
   {
    "duration": 0,
    "start_time": "2022-11-25T09:43:20.849Z"
   },
   {
    "duration": 14,
    "start_time": "2022-11-25T09:48:21.929Z"
   },
   {
    "duration": 12,
    "start_time": "2022-11-25T09:48:28.349Z"
   },
   {
    "duration": 12,
    "start_time": "2022-11-25T09:48:49.952Z"
   },
   {
    "duration": 14,
    "start_time": "2022-11-25T09:53:33.350Z"
   },
   {
    "duration": 98,
    "start_time": "2022-11-25T09:56:14.402Z"
   },
   {
    "duration": 15,
    "start_time": "2022-11-25T09:56:22.015Z"
   },
   {
    "duration": 105,
    "start_time": "2022-11-25T09:56:32.556Z"
   },
   {
    "duration": 94,
    "start_time": "2022-11-25T09:57:20.646Z"
   },
   {
    "duration": 11,
    "start_time": "2022-11-25T09:59:09.765Z"
   },
   {
    "duration": 14,
    "start_time": "2022-11-25T09:59:50.182Z"
   },
   {
    "duration": 10,
    "start_time": "2022-11-25T10:00:25.101Z"
   },
   {
    "duration": 12,
    "start_time": "2022-11-25T10:00:41.931Z"
   },
   {
    "duration": 12,
    "start_time": "2022-11-25T10:01:08.504Z"
   },
   {
    "duration": 84,
    "start_time": "2022-11-25T10:03:23.332Z"
   },
   {
    "duration": 55,
    "start_time": "2022-11-25T10:04:02.707Z"
   },
   {
    "duration": 0,
    "start_time": "2022-11-25T10:04:02.765Z"
   },
   {
    "duration": 0,
    "start_time": "2022-11-25T10:04:02.767Z"
   },
   {
    "duration": 0,
    "start_time": "2022-11-25T10:04:02.768Z"
   },
   {
    "duration": 0,
    "start_time": "2022-11-25T10:04:02.769Z"
   },
   {
    "duration": 0,
    "start_time": "2022-11-25T10:04:02.771Z"
   },
   {
    "duration": 0,
    "start_time": "2022-11-25T10:04:02.772Z"
   },
   {
    "duration": 0,
    "start_time": "2022-11-25T10:04:02.774Z"
   },
   {
    "duration": 0,
    "start_time": "2022-11-25T10:04:02.812Z"
   },
   {
    "duration": 1,
    "start_time": "2022-11-25T10:04:02.813Z"
   },
   {
    "duration": 0,
    "start_time": "2022-11-25T10:04:02.815Z"
   },
   {
    "duration": 0,
    "start_time": "2022-11-25T10:04:02.816Z"
   },
   {
    "duration": 0,
    "start_time": "2022-11-25T10:04:02.817Z"
   },
   {
    "duration": 0,
    "start_time": "2022-11-25T10:04:02.818Z"
   },
   {
    "duration": 0,
    "start_time": "2022-11-25T10:04:02.819Z"
   },
   {
    "duration": 0,
    "start_time": "2022-11-25T10:04:02.820Z"
   },
   {
    "duration": 0,
    "start_time": "2022-11-25T10:04:02.821Z"
   },
   {
    "duration": 0,
    "start_time": "2022-11-25T10:04:02.822Z"
   },
   {
    "duration": 0,
    "start_time": "2022-11-25T10:04:02.823Z"
   },
   {
    "duration": 0,
    "start_time": "2022-11-25T10:04:02.824Z"
   },
   {
    "duration": 0,
    "start_time": "2022-11-25T10:04:02.825Z"
   },
   {
    "duration": 0,
    "start_time": "2022-11-25T10:04:02.826Z"
   },
   {
    "duration": 0,
    "start_time": "2022-11-25T10:04:02.827Z"
   },
   {
    "duration": 0,
    "start_time": "2022-11-25T10:04:02.828Z"
   },
   {
    "duration": 0,
    "start_time": "2022-11-25T10:04:02.829Z"
   },
   {
    "duration": 8,
    "start_time": "2022-11-25T10:04:02.833Z"
   },
   {
    "duration": 0,
    "start_time": "2022-11-25T10:04:02.843Z"
   },
   {
    "duration": 0,
    "start_time": "2022-11-25T10:04:02.844Z"
   },
   {
    "duration": 0,
    "start_time": "2022-11-25T10:04:02.845Z"
   },
   {
    "duration": 0,
    "start_time": "2022-11-25T10:04:02.846Z"
   },
   {
    "duration": 0,
    "start_time": "2022-11-25T10:04:02.847Z"
   },
   {
    "duration": 0,
    "start_time": "2022-11-25T10:04:02.848Z"
   },
   {
    "duration": 0,
    "start_time": "2022-11-25T10:04:02.849Z"
   },
   {
    "duration": 0,
    "start_time": "2022-11-25T10:04:02.912Z"
   },
   {
    "duration": 0,
    "start_time": "2022-11-25T10:04:02.914Z"
   },
   {
    "duration": 0,
    "start_time": "2022-11-25T10:04:02.915Z"
   },
   {
    "duration": 0,
    "start_time": "2022-11-25T10:04:02.916Z"
   },
   {
    "duration": 0,
    "start_time": "2022-11-25T10:04:02.917Z"
   },
   {
    "duration": 0,
    "start_time": "2022-11-25T10:04:02.918Z"
   },
   {
    "duration": 0,
    "start_time": "2022-11-25T10:04:02.919Z"
   },
   {
    "duration": 4020,
    "start_time": "2022-11-25T10:04:30.114Z"
   },
   {
    "duration": 900,
    "start_time": "2022-11-25T10:04:34.136Z"
   },
   {
    "duration": 20,
    "start_time": "2022-11-25T10:04:35.037Z"
   },
   {
    "duration": 212,
    "start_time": "2022-11-25T10:04:35.059Z"
   },
   {
    "duration": 102,
    "start_time": "2022-11-25T10:04:35.273Z"
   },
   {
    "duration": 114,
    "start_time": "2022-11-25T10:04:35.377Z"
   },
   {
    "duration": 368,
    "start_time": "2022-11-25T10:04:35.493Z"
   },
   {
    "duration": 418,
    "start_time": "2022-11-25T10:04:35.863Z"
   },
   {
    "duration": 413,
    "start_time": "2022-11-25T10:04:36.283Z"
   },
   {
    "duration": 1587,
    "start_time": "2022-11-25T10:04:36.697Z"
   },
   {
    "duration": 135,
    "start_time": "2022-11-25T10:04:38.285Z"
   },
   {
    "duration": 10,
    "start_time": "2022-11-25T10:04:38.421Z"
   },
   {
    "duration": 35,
    "start_time": "2022-11-25T10:04:38.432Z"
   },
   {
    "duration": 348,
    "start_time": "2022-11-25T10:04:38.470Z"
   },
   {
    "duration": 34,
    "start_time": "2022-11-25T10:04:38.820Z"
   },
   {
    "duration": 167,
    "start_time": "2022-11-25T10:04:38.856Z"
   },
   {
    "duration": 0,
    "start_time": "2022-11-25T10:04:39.025Z"
   },
   {
    "duration": 0,
    "start_time": "2022-11-25T10:04:39.026Z"
   },
   {
    "duration": 0,
    "start_time": "2022-11-25T10:04:39.027Z"
   },
   {
    "duration": 0,
    "start_time": "2022-11-25T10:04:39.028Z"
   },
   {
    "duration": 0,
    "start_time": "2022-11-25T10:04:39.029Z"
   },
   {
    "duration": 0,
    "start_time": "2022-11-25T10:04:39.030Z"
   },
   {
    "duration": 0,
    "start_time": "2022-11-25T10:04:39.031Z"
   },
   {
    "duration": 0,
    "start_time": "2022-11-25T10:04:39.033Z"
   },
   {
    "duration": 0,
    "start_time": "2022-11-25T10:04:39.034Z"
   },
   {
    "duration": 0,
    "start_time": "2022-11-25T10:04:39.172Z"
   },
   {
    "duration": 0,
    "start_time": "2022-11-25T10:04:39.173Z"
   },
   {
    "duration": 0,
    "start_time": "2022-11-25T10:04:39.175Z"
   },
   {
    "duration": 0,
    "start_time": "2022-11-25T10:04:39.176Z"
   },
   {
    "duration": 0,
    "start_time": "2022-11-25T10:04:39.177Z"
   },
   {
    "duration": 0,
    "start_time": "2022-11-25T10:04:39.178Z"
   },
   {
    "duration": 0,
    "start_time": "2022-11-25T10:04:39.179Z"
   },
   {
    "duration": 0,
    "start_time": "2022-11-25T10:04:39.181Z"
   },
   {
    "duration": 0,
    "start_time": "2022-11-25T10:04:39.182Z"
   },
   {
    "duration": 0,
    "start_time": "2022-11-25T10:04:39.183Z"
   },
   {
    "duration": 0,
    "start_time": "2022-11-25T10:04:39.184Z"
   },
   {
    "duration": 0,
    "start_time": "2022-11-25T10:04:39.213Z"
   },
   {
    "duration": 0,
    "start_time": "2022-11-25T10:04:39.214Z"
   },
   {
    "duration": 0,
    "start_time": "2022-11-25T10:04:39.215Z"
   },
   {
    "duration": 0,
    "start_time": "2022-11-25T10:04:39.216Z"
   },
   {
    "duration": 28,
    "start_time": "2022-11-25T10:05:20.133Z"
   },
   {
    "duration": 34,
    "start_time": "2022-11-25T10:05:43.083Z"
   },
   {
    "duration": 31,
    "start_time": "2022-11-25T10:07:09.853Z"
   },
   {
    "duration": 18,
    "start_time": "2022-11-25T10:07:18.030Z"
   },
   {
    "duration": 93,
    "start_time": "2022-11-25T10:07:23.079Z"
   },
   {
    "duration": 20,
    "start_time": "2022-11-25T10:07:32.628Z"
   },
   {
    "duration": 58,
    "start_time": "2022-11-25T10:07:48.334Z"
   },
   {
    "duration": 27,
    "start_time": "2022-11-25T10:07:52.367Z"
   },
   {
    "duration": 3884,
    "start_time": "2022-11-25T10:09:06.375Z"
   },
   {
    "duration": 845,
    "start_time": "2022-11-25T10:09:10.261Z"
   },
   {
    "duration": 19,
    "start_time": "2022-11-25T10:09:11.108Z"
   },
   {
    "duration": 137,
    "start_time": "2022-11-25T10:09:11.129Z"
   },
   {
    "duration": 106,
    "start_time": "2022-11-25T10:09:11.269Z"
   },
   {
    "duration": 136,
    "start_time": "2022-11-25T10:09:11.377Z"
   },
   {
    "duration": 313,
    "start_time": "2022-11-25T10:09:11.515Z"
   },
   {
    "duration": 362,
    "start_time": "2022-11-25T10:09:11.829Z"
   },
   {
    "duration": 332,
    "start_time": "2022-11-25T10:09:12.193Z"
   },
   {
    "duration": 1199,
    "start_time": "2022-11-25T10:09:12.527Z"
   },
   {
    "duration": 163,
    "start_time": "2022-11-25T10:09:13.728Z"
   },
   {
    "duration": 25,
    "start_time": "2022-11-25T10:09:13.893Z"
   },
   {
    "duration": 39,
    "start_time": "2022-11-25T10:09:13.921Z"
   },
   {
    "duration": 360,
    "start_time": "2022-11-25T10:09:13.964Z"
   },
   {
    "duration": 33,
    "start_time": "2022-11-25T10:09:14.325Z"
   },
   {
    "duration": 112,
    "start_time": "2022-11-25T10:09:14.359Z"
   },
   {
    "duration": 50,
    "start_time": "2022-11-25T10:09:14.473Z"
   },
   {
    "duration": 6,
    "start_time": "2022-11-25T10:09:14.525Z"
   },
   {
    "duration": 14,
    "start_time": "2022-11-25T10:09:14.532Z"
   },
   {
    "duration": 6,
    "start_time": "2022-11-25T10:09:14.548Z"
   },
   {
    "duration": 5,
    "start_time": "2022-11-25T10:09:14.556Z"
   },
   {
    "duration": 8,
    "start_time": "2022-11-25T10:09:14.563Z"
   },
   {
    "duration": 7,
    "start_time": "2022-11-25T10:09:14.573Z"
   },
   {
    "duration": 30,
    "start_time": "2022-11-25T10:09:14.582Z"
   },
   {
    "duration": 17,
    "start_time": "2022-11-25T10:09:14.614Z"
   },
   {
    "duration": 18,
    "start_time": "2022-11-25T10:09:14.632Z"
   },
   {
    "duration": 33,
    "start_time": "2022-11-25T10:09:14.651Z"
   },
   {
    "duration": 27,
    "start_time": "2022-11-25T10:09:14.686Z"
   },
   {
    "duration": 44,
    "start_time": "2022-11-25T10:09:14.715Z"
   },
   {
    "duration": 2,
    "start_time": "2022-11-25T10:09:14.761Z"
   },
   {
    "duration": 6,
    "start_time": "2022-11-25T10:09:14.765Z"
   },
   {
    "duration": 4363,
    "start_time": "2022-11-25T10:09:14.773Z"
   },
   {
    "duration": 0,
    "start_time": "2022-11-25T10:09:19.138Z"
   },
   {
    "duration": 0,
    "start_time": "2022-11-25T10:09:19.138Z"
   },
   {
    "duration": 0,
    "start_time": "2022-11-25T10:09:19.140Z"
   },
   {
    "duration": 0,
    "start_time": "2022-11-25T10:09:19.141Z"
   },
   {
    "duration": 0,
    "start_time": "2022-11-25T10:09:19.143Z"
   },
   {
    "duration": 0,
    "start_time": "2022-11-25T10:09:19.144Z"
   },
   {
    "duration": 0,
    "start_time": "2022-11-25T10:09:19.145Z"
   },
   {
    "duration": 0,
    "start_time": "2022-11-25T10:09:19.146Z"
   },
   {
    "duration": 0,
    "start_time": "2022-11-25T10:09:19.148Z"
   },
   {
    "duration": 3962,
    "start_time": "2022-11-25T10:11:01.504Z"
   },
   {
    "duration": 812,
    "start_time": "2022-11-25T10:11:05.469Z"
   },
   {
    "duration": 22,
    "start_time": "2022-11-25T10:11:06.283Z"
   },
   {
    "duration": 127,
    "start_time": "2022-11-25T10:11:06.312Z"
   },
   {
    "duration": 116,
    "start_time": "2022-11-25T10:11:06.442Z"
   },
   {
    "duration": 529,
    "start_time": "2022-11-25T10:11:06.560Z"
   },
   {
    "duration": 541,
    "start_time": "2022-11-25T10:11:07.090Z"
   },
   {
    "duration": 457,
    "start_time": "2022-11-25T10:11:07.633Z"
   },
   {
    "duration": 1088,
    "start_time": "2022-11-25T10:11:08.092Z"
   },
   {
    "duration": 176,
    "start_time": "2022-11-25T10:11:09.182Z"
   },
   {
    "duration": 10,
    "start_time": "2022-11-25T10:11:09.360Z"
   },
   {
    "duration": 63,
    "start_time": "2022-11-25T10:11:09.371Z"
   },
   {
    "duration": 328,
    "start_time": "2022-11-25T10:11:09.437Z"
   },
   {
    "duration": 144,
    "start_time": "2022-11-25T10:11:09.768Z"
   },
   {
    "duration": 108,
    "start_time": "2022-11-25T10:11:09.914Z"
   },
   {
    "duration": 59,
    "start_time": "2022-11-25T10:11:10.024Z"
   },
   {
    "duration": 49,
    "start_time": "2022-11-25T10:11:10.086Z"
   },
   {
    "duration": 107,
    "start_time": "2022-11-25T10:11:10.137Z"
   },
   {
    "duration": 242,
    "start_time": "2022-11-25T10:11:10.245Z"
   },
   {
    "duration": 41,
    "start_time": "2022-11-25T10:11:10.489Z"
   },
   {
    "duration": 23,
    "start_time": "2022-11-25T10:11:10.532Z"
   },
   {
    "duration": 77,
    "start_time": "2022-11-25T10:11:10.556Z"
   },
   {
    "duration": 103,
    "start_time": "2022-11-25T10:11:10.635Z"
   },
   {
    "duration": 56,
    "start_time": "2022-11-25T10:11:10.740Z"
   },
   {
    "duration": 71,
    "start_time": "2022-11-25T10:11:10.798Z"
   },
   {
    "duration": 168,
    "start_time": "2022-11-25T10:11:10.871Z"
   },
   {
    "duration": 565,
    "start_time": "2022-11-25T10:11:11.041Z"
   },
   {
    "duration": 476,
    "start_time": "2022-11-25T10:11:11.607Z"
   },
   {
    "duration": 3,
    "start_time": "2022-11-25T10:11:12.085Z"
   },
   {
    "duration": 23,
    "start_time": "2022-11-25T10:11:12.090Z"
   },
   {
    "duration": 4016,
    "start_time": "2022-11-25T10:12:19.498Z"
   },
   {
    "duration": 822,
    "start_time": "2022-11-25T10:12:23.517Z"
   },
   {
    "duration": 19,
    "start_time": "2022-11-25T10:12:24.341Z"
   },
   {
    "duration": 136,
    "start_time": "2022-11-25T10:12:24.362Z"
   },
   {
    "duration": 103,
    "start_time": "2022-11-25T10:12:24.499Z"
   },
   {
    "duration": 498,
    "start_time": "2022-11-25T10:12:24.611Z"
   },
   {
    "duration": 521,
    "start_time": "2022-11-25T10:12:25.111Z"
   },
   {
    "duration": 449,
    "start_time": "2022-11-25T10:12:25.634Z"
   },
   {
    "duration": 1118,
    "start_time": "2022-11-25T10:12:26.084Z"
   },
   {
    "duration": 164,
    "start_time": "2022-11-25T10:12:27.205Z"
   },
   {
    "duration": 10,
    "start_time": "2022-11-25T10:12:27.370Z"
   },
   {
    "duration": 58,
    "start_time": "2022-11-25T10:12:27.381Z"
   },
   {
    "duration": 333,
    "start_time": "2022-11-25T10:12:27.441Z"
   },
   {
    "duration": 144,
    "start_time": "2022-11-25T10:12:27.776Z"
   },
   {
    "duration": 106,
    "start_time": "2022-11-25T10:12:27.922Z"
   },
   {
    "duration": 60,
    "start_time": "2022-11-25T10:12:28.030Z"
   },
   {
    "duration": 43,
    "start_time": "2022-11-25T10:12:28.091Z"
   },
   {
    "duration": 113,
    "start_time": "2022-11-25T10:12:28.136Z"
   },
   {
    "duration": 254,
    "start_time": "2022-11-25T10:12:28.251Z"
   },
   {
    "duration": 36,
    "start_time": "2022-11-25T10:12:28.506Z"
   },
   {
    "duration": 22,
    "start_time": "2022-11-25T10:12:28.543Z"
   },
   {
    "duration": 80,
    "start_time": "2022-11-25T10:12:28.566Z"
   },
   {
    "duration": 101,
    "start_time": "2022-11-25T10:12:28.647Z"
   },
   {
    "duration": 63,
    "start_time": "2022-11-25T10:12:28.750Z"
   },
   {
    "duration": 77,
    "start_time": "2022-11-25T10:12:28.814Z"
   },
   {
    "duration": 176,
    "start_time": "2022-11-25T10:12:28.892Z"
   },
   {
    "duration": 602,
    "start_time": "2022-11-25T10:12:29.069Z"
   },
   {
    "duration": 509,
    "start_time": "2022-11-25T10:12:29.674Z"
   },
   {
    "duration": 3,
    "start_time": "2022-11-25T10:12:30.185Z"
   },
   {
    "duration": 46,
    "start_time": "2022-11-25T10:12:30.190Z"
   },
   {
    "duration": 116930,
    "start_time": "2022-11-25T10:12:30.238Z"
   },
   {
    "duration": 5,
    "start_time": "2022-11-25T10:14:27.170Z"
   },
   {
    "duration": 8483,
    "start_time": "2022-11-25T10:14:27.176Z"
   },
   {
    "duration": 48,
    "start_time": "2022-11-25T10:14:35.661Z"
   },
   {
    "duration": 15902,
    "start_time": "2022-11-25T10:14:35.711Z"
   },
   {
    "duration": 265,
    "start_time": "2022-11-25T10:14:51.615Z"
   },
   {
    "duration": 232,
    "start_time": "2022-11-25T10:14:51.882Z"
   },
   {
    "duration": 298,
    "start_time": "2022-11-25T10:14:52.115Z"
   },
   {
    "duration": 4,
    "start_time": "2022-11-25T10:14:52.416Z"
   },
   {
    "duration": 104,
    "start_time": "2022-11-25T10:14:52.422Z"
   },
   {
    "duration": 163,
    "start_time": "2022-11-25T11:06:23.465Z"
   },
   {
    "duration": 4035,
    "start_time": "2022-11-25T11:19:42.926Z"
   },
   {
    "duration": 874,
    "start_time": "2022-11-25T11:19:46.964Z"
   },
   {
    "duration": 20,
    "start_time": "2022-11-25T11:19:47.840Z"
   },
   {
    "duration": 137,
    "start_time": "2022-11-25T11:19:47.862Z"
   },
   {
    "duration": 112,
    "start_time": "2022-11-25T11:19:48.001Z"
   },
   {
    "duration": 498,
    "start_time": "2022-11-25T11:19:48.115Z"
   },
   {
    "duration": 546,
    "start_time": "2022-11-25T11:19:48.614Z"
   },
   {
    "duration": 524,
    "start_time": "2022-11-25T11:19:49.162Z"
   },
   {
    "duration": 1078,
    "start_time": "2022-11-25T11:19:49.688Z"
   },
   {
    "duration": 166,
    "start_time": "2022-11-25T11:19:50.769Z"
   },
   {
    "duration": 9,
    "start_time": "2022-11-25T11:19:50.937Z"
   },
   {
    "duration": 65,
    "start_time": "2022-11-25T11:19:50.947Z"
   },
   {
    "duration": 327,
    "start_time": "2022-11-25T11:19:51.014Z"
   },
   {
    "duration": 146,
    "start_time": "2022-11-25T11:19:51.343Z"
   },
   {
    "duration": 121,
    "start_time": "2022-11-25T11:19:51.491Z"
   },
   {
    "duration": 62,
    "start_time": "2022-11-25T11:19:51.614Z"
   },
   {
    "duration": 44,
    "start_time": "2022-11-25T11:19:51.677Z"
   },
   {
    "duration": 97,
    "start_time": "2022-11-25T11:19:51.722Z"
   },
   {
    "duration": 262,
    "start_time": "2022-11-25T11:19:51.820Z"
   },
   {
    "duration": 41,
    "start_time": "2022-11-25T11:19:52.084Z"
   },
   {
    "duration": 24,
    "start_time": "2022-11-25T11:19:52.127Z"
   },
   {
    "duration": 77,
    "start_time": "2022-11-25T11:19:52.153Z"
   },
   {
    "duration": 121,
    "start_time": "2022-11-25T11:19:52.232Z"
   },
   {
    "duration": 68,
    "start_time": "2022-11-25T11:19:52.355Z"
   },
   {
    "duration": 63,
    "start_time": "2022-11-25T11:19:52.425Z"
   },
   {
    "duration": 175,
    "start_time": "2022-11-25T11:19:52.490Z"
   },
   {
    "duration": 566,
    "start_time": "2022-11-25T11:19:52.667Z"
   },
   {
    "duration": 517,
    "start_time": "2022-11-25T11:19:53.237Z"
   },
   {
    "duration": 3,
    "start_time": "2022-11-25T11:19:53.756Z"
   },
   {
    "duration": 6,
    "start_time": "2022-11-25T11:19:53.760Z"
   },
   {
    "duration": 116209,
    "start_time": "2022-11-25T11:19:53.767Z"
   },
   {
    "duration": 1,
    "start_time": "2022-11-25T11:21:49.978Z"
   },
   {
    "duration": 0,
    "start_time": "2022-11-25T11:21:49.981Z"
   },
   {
    "duration": 0,
    "start_time": "2022-11-25T11:21:49.983Z"
   },
   {
    "duration": 0,
    "start_time": "2022-11-25T11:21:49.984Z"
   },
   {
    "duration": 0,
    "start_time": "2022-11-25T11:21:49.985Z"
   },
   {
    "duration": 0,
    "start_time": "2022-11-25T11:21:49.988Z"
   },
   {
    "duration": 0,
    "start_time": "2022-11-25T11:21:49.989Z"
   },
   {
    "duration": 0,
    "start_time": "2022-11-25T11:21:50.012Z"
   },
   {
    "duration": 0,
    "start_time": "2022-11-25T11:21:50.014Z"
   },
   {
    "duration": 0,
    "start_time": "2022-11-25T11:21:50.015Z"
   },
   {
    "duration": 0,
    "start_time": "2022-11-25T11:21:50.016Z"
   },
   {
    "duration": 4116,
    "start_time": "2022-11-25T11:22:31.540Z"
   },
   {
    "duration": 847,
    "start_time": "2022-11-25T11:22:35.659Z"
   },
   {
    "duration": 21,
    "start_time": "2022-11-25T11:22:36.507Z"
   },
   {
    "duration": 142,
    "start_time": "2022-11-25T11:22:36.530Z"
   },
   {
    "duration": 121,
    "start_time": "2022-11-25T11:22:36.673Z"
   },
   {
    "duration": 515,
    "start_time": "2022-11-25T11:22:36.796Z"
   },
   {
    "duration": 521,
    "start_time": "2022-11-25T11:22:37.312Z"
   },
   {
    "duration": 466,
    "start_time": "2022-11-25T11:22:37.835Z"
   },
   {
    "duration": 1028,
    "start_time": "2022-11-25T11:22:38.303Z"
   },
   {
    "duration": 180,
    "start_time": "2022-11-25T11:22:39.334Z"
   },
   {
    "duration": 10,
    "start_time": "2022-11-25T11:22:39.516Z"
   },
   {
    "duration": 57,
    "start_time": "2022-11-25T11:22:39.528Z"
   },
   {
    "duration": 370,
    "start_time": "2022-11-25T11:22:39.587Z"
   },
   {
    "duration": 153,
    "start_time": "2022-11-25T11:22:39.959Z"
   },
   {
    "duration": 123,
    "start_time": "2022-11-25T11:22:40.114Z"
   },
   {
    "duration": 73,
    "start_time": "2022-11-25T11:22:40.239Z"
   },
   {
    "duration": 28,
    "start_time": "2022-11-25T11:22:40.314Z"
   },
   {
    "duration": 103,
    "start_time": "2022-11-25T11:22:40.344Z"
   },
   {
    "duration": 263,
    "start_time": "2022-11-25T11:22:40.450Z"
   },
   {
    "duration": 33,
    "start_time": "2022-11-25T11:22:40.715Z"
   },
   {
    "duration": 22,
    "start_time": "2022-11-25T11:22:40.749Z"
   },
   {
    "duration": 79,
    "start_time": "2022-11-25T11:22:40.772Z"
   },
   {
    "duration": 102,
    "start_time": "2022-11-25T11:22:40.852Z"
   },
   {
    "duration": 63,
    "start_time": "2022-11-25T11:22:40.956Z"
   },
   {
    "duration": 83,
    "start_time": "2022-11-25T11:22:41.021Z"
   },
   {
    "duration": 184,
    "start_time": "2022-11-25T11:22:41.105Z"
   },
   {
    "duration": 622,
    "start_time": "2022-11-25T11:22:41.290Z"
   },
   {
    "duration": 511,
    "start_time": "2022-11-25T11:22:41.915Z"
   },
   {
    "duration": 2,
    "start_time": "2022-11-25T11:22:42.428Z"
   },
   {
    "duration": 7,
    "start_time": "2022-11-25T11:22:42.432Z"
   },
   {
    "duration": 118524,
    "start_time": "2022-11-25T11:22:42.440Z"
   },
   {
    "duration": 183,
    "start_time": "2022-11-25T11:24:40.966Z"
   },
   {
    "duration": 5,
    "start_time": "2022-11-25T11:24:41.151Z"
   },
   {
    "duration": 216439,
    "start_time": "2022-11-25T11:24:41.158Z"
   },
   {
    "duration": 0,
    "start_time": "2022-11-25T11:28:17.599Z"
   },
   {
    "duration": 0,
    "start_time": "2022-11-25T11:28:17.601Z"
   },
   {
    "duration": 0,
    "start_time": "2022-11-25T11:28:17.613Z"
   },
   {
    "duration": 0,
    "start_time": "2022-11-25T11:28:17.614Z"
   },
   {
    "duration": 0,
    "start_time": "2022-11-25T11:28:17.616Z"
   },
   {
    "duration": 0,
    "start_time": "2022-11-25T11:28:17.617Z"
   },
   {
    "duration": 0,
    "start_time": "2022-11-25T11:28:17.618Z"
   },
   {
    "duration": 0,
    "start_time": "2022-11-25T11:28:17.620Z"
   },
   {
    "duration": 6,
    "start_time": "2022-11-25T11:29:27.012Z"
   },
   {
    "duration": 14,
    "start_time": "2022-11-25T11:29:50.797Z"
   },
   {
    "duration": 5,
    "start_time": "2022-11-25T11:31:32.339Z"
   },
   {
    "duration": 9281,
    "start_time": "2022-11-25T11:31:35.065Z"
   },
   {
    "duration": 4,
    "start_time": "2022-11-25T11:45:18.323Z"
   },
   {
    "duration": 6,
    "start_time": "2022-11-25T11:45:36.142Z"
   },
   {
    "duration": 37918,
    "start_time": "2022-11-25T11:45:48.724Z"
   },
   {
    "duration": 6,
    "start_time": "2022-11-25T11:47:34.439Z"
   },
   {
    "duration": 60996,
    "start_time": "2022-11-25T11:47:37.396Z"
   },
   {
    "duration": 81,
    "start_time": "2022-11-25T11:49:35.770Z"
   },
   {
    "duration": 4,
    "start_time": "2022-11-25T11:56:51.969Z"
   },
   {
    "duration": 5,
    "start_time": "2022-11-25T11:57:05.470Z"
   },
   {
    "duration": 80,
    "start_time": "2022-11-25T11:57:22.514Z"
   },
   {
    "duration": 5,
    "start_time": "2022-11-25T11:57:31.106Z"
   },
   {
    "duration": 37,
    "start_time": "2022-11-25T11:57:35.161Z"
   },
   {
    "duration": 5,
    "start_time": "2022-11-25T12:00:33.304Z"
   },
   {
    "duration": 172419,
    "start_time": "2022-11-25T12:00:38.731Z"
   },
   {
    "duration": 40,
    "start_time": "2022-11-25T12:03:31.152Z"
   },
   {
    "duration": 4095,
    "start_time": "2022-11-25T12:08:09.200Z"
   },
   {
    "duration": 911,
    "start_time": "2022-11-25T12:08:13.297Z"
   },
   {
    "duration": 22,
    "start_time": "2022-11-25T12:08:14.210Z"
   },
   {
    "duration": 131,
    "start_time": "2022-11-25T12:08:14.234Z"
   },
   {
    "duration": 110,
    "start_time": "2022-11-25T12:08:14.367Z"
   },
   {
    "duration": 530,
    "start_time": "2022-11-25T12:08:14.479Z"
   },
   {
    "duration": 532,
    "start_time": "2022-11-25T12:08:15.013Z"
   },
   {
    "duration": 504,
    "start_time": "2022-11-25T12:08:15.547Z"
   },
   {
    "duration": 1174,
    "start_time": "2022-11-25T12:08:16.054Z"
   },
   {
    "duration": 161,
    "start_time": "2022-11-25T12:08:17.231Z"
   },
   {
    "duration": 19,
    "start_time": "2022-11-25T12:08:17.394Z"
   },
   {
    "duration": 52,
    "start_time": "2022-11-25T12:08:17.415Z"
   },
   {
    "duration": 346,
    "start_time": "2022-11-25T12:08:17.469Z"
   },
   {
    "duration": 149,
    "start_time": "2022-11-25T12:08:17.817Z"
   },
   {
    "duration": 109,
    "start_time": "2022-11-25T12:08:17.968Z"
   },
   {
    "duration": 77,
    "start_time": "2022-11-25T12:08:18.078Z"
   },
   {
    "duration": 32,
    "start_time": "2022-11-25T12:08:18.157Z"
   },
   {
    "duration": 101,
    "start_time": "2022-11-25T12:08:18.191Z"
   },
   {
    "duration": 267,
    "start_time": "2022-11-25T12:08:18.294Z"
   },
   {
    "duration": 33,
    "start_time": "2022-11-25T12:08:18.563Z"
   },
   {
    "duration": 31,
    "start_time": "2022-11-25T12:08:18.598Z"
   },
   {
    "duration": 59,
    "start_time": "2022-11-25T12:08:18.631Z"
   },
   {
    "duration": 107,
    "start_time": "2022-11-25T12:08:18.692Z"
   },
   {
    "duration": 64,
    "start_time": "2022-11-25T12:08:18.801Z"
   },
   {
    "duration": 77,
    "start_time": "2022-11-25T12:08:18.867Z"
   },
   {
    "duration": 185,
    "start_time": "2022-11-25T12:08:18.946Z"
   },
   {
    "duration": 605,
    "start_time": "2022-11-25T12:08:19.133Z"
   },
   {
    "duration": 514,
    "start_time": "2022-11-25T12:08:19.741Z"
   },
   {
    "duration": 3,
    "start_time": "2022-11-25T12:08:20.257Z"
   },
   {
    "duration": 10,
    "start_time": "2022-11-25T12:08:20.261Z"
   },
   {
    "duration": 115686,
    "start_time": "2022-11-25T12:08:20.273Z"
   },
   {
    "duration": 172,
    "start_time": "2022-11-25T12:10:15.960Z"
   },
   {
    "duration": 5,
    "start_time": "2022-11-25T12:10:16.134Z"
   },
   {
    "duration": 3032,
    "start_time": "2022-11-25T12:10:16.140Z"
   },
   {
    "duration": 51,
    "start_time": "2022-11-25T12:10:19.212Z"
   },
   {
    "duration": 158,
    "start_time": "2022-11-25T12:10:19.265Z"
   },
   {
    "duration": 16288,
    "start_time": "2022-11-25T12:10:19.425Z"
   },
   {
    "duration": 223,
    "start_time": "2022-11-25T12:10:35.715Z"
   },
   {
    "duration": 0,
    "start_time": "2022-11-25T12:10:35.940Z"
   },
   {
    "duration": 0,
    "start_time": "2022-11-25T12:10:35.941Z"
   },
   {
    "duration": 0,
    "start_time": "2022-11-25T12:10:35.942Z"
   },
   {
    "duration": 0,
    "start_time": "2022-11-25T12:10:35.944Z"
   },
   {
    "duration": 4,
    "start_time": "2022-11-25T12:19:17.705Z"
   },
   {
    "duration": 24,
    "start_time": "2022-11-25T12:19:22.164Z"
   },
   {
    "duration": 7,
    "start_time": "2022-11-25T12:23:41.593Z"
   },
   {
    "duration": 22032,
    "start_time": "2022-11-25T12:23:58.082Z"
   },
   {
    "duration": 7,
    "start_time": "2022-11-25T12:24:22.147Z"
   },
   {
    "duration": 16,
    "start_time": "2022-11-25T12:24:28.293Z"
   },
   {
    "duration": 14,
    "start_time": "2022-11-25T12:24:36.062Z"
   },
   {
    "duration": 52,
    "start_time": "2022-11-25T12:24:50.972Z"
   },
   {
    "duration": 52,
    "start_time": "2022-11-25T12:24:58.471Z"
   },
   {
    "duration": 166,
    "start_time": "2022-11-25T12:25:28.157Z"
   },
   {
    "duration": 165,
    "start_time": "2022-11-25T12:25:46.654Z"
   },
   {
    "duration": 4033,
    "start_time": "2022-11-25T12:26:12.175Z"
   },
   {
    "duration": 961,
    "start_time": "2022-11-25T12:26:16.210Z"
   },
   {
    "duration": 23,
    "start_time": "2022-11-25T12:26:17.173Z"
   },
   {
    "duration": 133,
    "start_time": "2022-11-25T12:26:17.199Z"
   },
   {
    "duration": 117,
    "start_time": "2022-11-25T12:26:17.334Z"
   },
   {
    "duration": 481,
    "start_time": "2022-11-25T12:26:17.456Z"
   },
   {
    "duration": 512,
    "start_time": "2022-11-25T12:26:17.939Z"
   },
   {
    "duration": 495,
    "start_time": "2022-11-25T12:26:18.453Z"
   },
   {
    "duration": 1087,
    "start_time": "2022-11-25T12:26:18.949Z"
   },
   {
    "duration": 197,
    "start_time": "2022-11-25T12:26:20.039Z"
   },
   {
    "duration": 12,
    "start_time": "2022-11-25T12:26:20.238Z"
   },
   {
    "duration": 83,
    "start_time": "2022-11-25T12:26:20.251Z"
   },
   {
    "duration": 343,
    "start_time": "2022-11-25T12:26:20.336Z"
   },
   {
    "duration": 146,
    "start_time": "2022-11-25T12:26:20.681Z"
   },
   {
    "duration": 107,
    "start_time": "2022-11-25T12:26:20.829Z"
   },
   {
    "duration": 77,
    "start_time": "2022-11-25T12:26:20.938Z"
   },
   {
    "duration": 28,
    "start_time": "2022-11-25T12:26:21.017Z"
   },
   {
    "duration": 111,
    "start_time": "2022-11-25T12:26:21.047Z"
   },
   {
    "duration": 254,
    "start_time": "2022-11-25T12:26:21.160Z"
   },
   {
    "duration": 32,
    "start_time": "2022-11-25T12:26:21.416Z"
   },
   {
    "duration": 21,
    "start_time": "2022-11-25T12:26:21.450Z"
   },
   {
    "duration": 77,
    "start_time": "2022-11-25T12:26:21.473Z"
   },
   {
    "duration": 102,
    "start_time": "2022-11-25T12:26:21.552Z"
   },
   {
    "duration": 64,
    "start_time": "2022-11-25T12:26:21.656Z"
   },
   {
    "duration": 63,
    "start_time": "2022-11-25T12:26:21.722Z"
   },
   {
    "duration": 195,
    "start_time": "2022-11-25T12:26:21.787Z"
   },
   {
    "duration": 709,
    "start_time": "2022-11-25T12:26:21.984Z"
   },
   {
    "duration": 512,
    "start_time": "2022-11-25T12:26:22.697Z"
   },
   {
    "duration": 3,
    "start_time": "2022-11-25T12:26:23.211Z"
   },
   {
    "duration": 7,
    "start_time": "2022-11-25T12:26:23.215Z"
   },
   {
    "duration": 121983,
    "start_time": "2022-11-25T12:26:23.224Z"
   },
   {
    "duration": 194,
    "start_time": "2022-11-25T12:28:25.209Z"
   },
   {
    "duration": 7,
    "start_time": "2022-11-25T12:28:25.404Z"
   },
   {
    "duration": 100276,
    "start_time": "2022-11-25T12:28:25.415Z"
   },
   {
    "duration": 0,
    "start_time": "2022-11-25T12:30:05.693Z"
   },
   {
    "duration": 0,
    "start_time": "2022-11-25T12:30:05.694Z"
   },
   {
    "duration": 0,
    "start_time": "2022-11-25T12:30:05.695Z"
   },
   {
    "duration": 0,
    "start_time": "2022-11-25T12:30:05.696Z"
   },
   {
    "duration": 0,
    "start_time": "2022-11-25T12:30:05.697Z"
   },
   {
    "duration": 0,
    "start_time": "2022-11-25T12:30:05.698Z"
   },
   {
    "duration": 0,
    "start_time": "2022-11-25T12:30:05.699Z"
   },
   {
    "duration": 0,
    "start_time": "2022-11-25T12:30:05.721Z"
   },
   {
    "duration": 5,
    "start_time": "2022-11-25T12:30:23.494Z"
   },
   {
    "duration": 141602,
    "start_time": "2022-11-25T12:30:27.739Z"
   },
   {
    "duration": 41,
    "start_time": "2022-11-25T12:32:57.341Z"
   },
   {
    "duration": 738,
    "start_time": "2022-11-25T12:33:01.981Z"
   },
   {
    "duration": 15905,
    "start_time": "2022-11-25T12:33:05.012Z"
   },
   {
    "duration": 11,
    "start_time": "2022-11-25T12:33:26.453Z"
   },
   {
    "duration": 32,
    "start_time": "2022-11-25T12:34:19.238Z"
   },
   {
    "duration": 236,
    "start_time": "2022-11-25T12:34:41.481Z"
   },
   {
    "duration": 16,
    "start_time": "2022-11-25T12:34:46.927Z"
   },
   {
    "duration": 4199,
    "start_time": "2022-11-25T12:36:18.470Z"
   },
   {
    "duration": 869,
    "start_time": "2022-11-25T12:36:22.672Z"
   },
   {
    "duration": 20,
    "start_time": "2022-11-25T12:36:23.543Z"
   },
   {
    "duration": 140,
    "start_time": "2022-11-25T12:36:23.565Z"
   },
   {
    "duration": 121,
    "start_time": "2022-11-25T12:36:23.706Z"
   },
   {
    "duration": 530,
    "start_time": "2022-11-25T12:36:23.830Z"
   },
   {
    "duration": 556,
    "start_time": "2022-11-25T12:36:24.362Z"
   },
   {
    "duration": 499,
    "start_time": "2022-11-25T12:36:24.920Z"
   },
   {
    "duration": 1119,
    "start_time": "2022-11-25T12:36:25.420Z"
   },
   {
    "duration": 207,
    "start_time": "2022-11-25T12:36:26.542Z"
   },
   {
    "duration": 15,
    "start_time": "2022-11-25T12:36:26.752Z"
   },
   {
    "duration": 61,
    "start_time": "2022-11-25T12:36:26.768Z"
   },
   {
    "duration": 329,
    "start_time": "2022-11-25T12:36:26.831Z"
   },
   {
    "duration": 155,
    "start_time": "2022-11-25T12:36:27.162Z"
   },
   {
    "duration": 109,
    "start_time": "2022-11-25T12:36:27.319Z"
   },
   {
    "duration": 64,
    "start_time": "2022-11-25T12:36:27.430Z"
   },
   {
    "duration": 44,
    "start_time": "2022-11-25T12:36:27.496Z"
   },
   {
    "duration": 109,
    "start_time": "2022-11-25T12:36:27.541Z"
   },
   {
    "duration": 278,
    "start_time": "2022-11-25T12:36:27.652Z"
   },
   {
    "duration": 33,
    "start_time": "2022-11-25T12:36:27.932Z"
   },
   {
    "duration": 26,
    "start_time": "2022-11-25T12:36:27.967Z"
   },
   {
    "duration": 63,
    "start_time": "2022-11-25T12:36:28.012Z"
   },
   {
    "duration": 135,
    "start_time": "2022-11-25T12:36:28.077Z"
   },
   {
    "duration": 72,
    "start_time": "2022-11-25T12:36:28.214Z"
   },
   {
    "duration": 72,
    "start_time": "2022-11-25T12:36:28.295Z"
   },
   {
    "duration": 189,
    "start_time": "2022-11-25T12:36:28.370Z"
   },
   {
    "duration": 581,
    "start_time": "2022-11-25T12:36:28.561Z"
   },
   {
    "duration": 526,
    "start_time": "2022-11-25T12:36:29.145Z"
   },
   {
    "duration": 3,
    "start_time": "2022-11-25T12:36:29.673Z"
   },
   {
    "duration": 17,
    "start_time": "2022-11-25T12:36:29.677Z"
   },
   {
    "duration": 118692,
    "start_time": "2022-11-25T12:36:29.696Z"
   },
   {
    "duration": 193,
    "start_time": "2022-11-25T12:38:28.391Z"
   },
   {
    "duration": 5,
    "start_time": "2022-11-25T12:38:28.586Z"
   },
   {
    "duration": 201376,
    "start_time": "2022-11-25T12:38:28.593Z"
   },
   {
    "duration": 81,
    "start_time": "2022-11-25T12:41:49.971Z"
   },
   {
    "duration": 663,
    "start_time": "2022-11-25T12:41:50.054Z"
   },
   {
    "duration": 15603,
    "start_time": "2022-11-25T12:41:50.719Z"
   },
   {
    "duration": 303,
    "start_time": "2022-11-25T12:42:06.414Z"
   },
   {
    "duration": 94,
    "start_time": "2022-11-25T12:42:06.719Z"
   },
   {
    "duration": 24,
    "start_time": "2022-11-25T12:42:06.814Z"
   },
   {
    "duration": 138,
    "start_time": "2022-11-25T12:42:06.840Z"
   },
   {
    "duration": 0,
    "start_time": "2022-11-25T12:42:06.980Z"
   },
   {
    "duration": 8,
    "start_time": "2022-11-25T12:43:23.324Z"
   },
   {
    "duration": 4349,
    "start_time": "2022-11-25T12:43:26.175Z"
   },
   {
    "duration": 4275,
    "start_time": "2022-11-25T12:43:47.126Z"
   },
   {
    "duration": 907,
    "start_time": "2022-11-25T12:43:51.403Z"
   },
   {
    "duration": 20,
    "start_time": "2022-11-25T12:43:52.312Z"
   },
   {
    "duration": 132,
    "start_time": "2022-11-25T12:43:52.334Z"
   },
   {
    "duration": 106,
    "start_time": "2022-11-25T12:43:52.468Z"
   },
   {
    "duration": 499,
    "start_time": "2022-11-25T12:43:52.576Z"
   },
   {
    "duration": 536,
    "start_time": "2022-11-25T12:43:53.076Z"
   },
   {
    "duration": 491,
    "start_time": "2022-11-25T12:43:53.613Z"
   },
   {
    "duration": 1114,
    "start_time": "2022-11-25T12:43:54.106Z"
   },
   {
    "duration": 167,
    "start_time": "2022-11-25T12:43:55.224Z"
   },
   {
    "duration": 26,
    "start_time": "2022-11-25T12:43:55.393Z"
   },
   {
    "duration": 52,
    "start_time": "2022-11-25T12:43:55.421Z"
   },
   {
    "duration": 343,
    "start_time": "2022-11-25T12:43:55.474Z"
   },
   {
    "duration": 155,
    "start_time": "2022-11-25T12:43:55.819Z"
   },
   {
    "duration": 109,
    "start_time": "2022-11-25T12:43:55.976Z"
   },
   {
    "duration": 88,
    "start_time": "2022-11-25T12:43:56.087Z"
   },
   {
    "duration": 38,
    "start_time": "2022-11-25T12:43:56.177Z"
   },
   {
    "duration": 108,
    "start_time": "2022-11-25T12:43:56.217Z"
   },
   {
    "duration": 372,
    "start_time": "2022-11-25T12:43:56.328Z"
   },
   {
    "duration": 40,
    "start_time": "2022-11-25T12:43:56.702Z"
   },
   {
    "duration": 24,
    "start_time": "2022-11-25T12:43:56.744Z"
   },
   {
    "duration": 79,
    "start_time": "2022-11-25T12:43:56.770Z"
   },
   {
    "duration": 106,
    "start_time": "2022-11-25T12:43:56.851Z"
   },
   {
    "duration": 67,
    "start_time": "2022-11-25T12:43:56.959Z"
   },
   {
    "duration": 68,
    "start_time": "2022-11-25T12:43:57.028Z"
   },
   {
    "duration": 193,
    "start_time": "2022-11-25T12:43:57.111Z"
   },
   {
    "duration": 689,
    "start_time": "2022-11-25T12:43:57.305Z"
   },
   {
    "duration": 534,
    "start_time": "2022-11-25T12:43:57.998Z"
   },
   {
    "duration": 3,
    "start_time": "2022-11-25T12:43:58.534Z"
   },
   {
    "duration": 10,
    "start_time": "2022-11-25T12:43:58.538Z"
   },
   {
    "duration": 120108,
    "start_time": "2022-11-25T12:43:58.550Z"
   },
   {
    "duration": 171,
    "start_time": "2022-11-25T12:45:58.660Z"
   },
   {
    "duration": 5,
    "start_time": "2022-11-25T12:45:58.833Z"
   },
   {
    "duration": 204433,
    "start_time": "2022-11-25T12:45:58.840Z"
   },
   {
    "duration": 38,
    "start_time": "2022-11-25T12:49:23.275Z"
   },
   {
    "duration": 501,
    "start_time": "2022-11-25T12:49:23.315Z"
   },
   {
    "duration": 19600,
    "start_time": "2022-11-25T12:49:23.817Z"
   },
   {
    "duration": 394,
    "start_time": "2022-11-25T12:49:43.419Z"
   },
   {
    "duration": 5,
    "start_time": "2022-11-25T12:49:43.816Z"
   },
   {
    "duration": 96,
    "start_time": "2022-11-25T12:49:43.823Z"
   },
   {
    "duration": 45,
    "start_time": "2022-11-25T12:49:43.921Z"
   },
   {
    "duration": 0,
    "start_time": "2022-11-25T12:49:43.968Z"
   },
   {
    "duration": 6,
    "start_time": "2022-11-25T12:52:05.337Z"
   },
   {
    "duration": 171,
    "start_time": "2022-11-25T12:52:08.115Z"
   },
   {
    "duration": 5,
    "start_time": "2022-11-25T12:52:29.685Z"
   },
   {
    "duration": 26,
    "start_time": "2022-11-25T12:52:31.971Z"
   },
   {
    "duration": 5,
    "start_time": "2022-11-25T12:53:53.016Z"
   },
   {
    "duration": 4016,
    "start_time": "2022-11-25T12:54:17.759Z"
   },
   {
    "duration": 869,
    "start_time": "2022-11-25T12:54:21.777Z"
   },
   {
    "duration": 19,
    "start_time": "2022-11-25T12:54:22.648Z"
   },
   {
    "duration": 132,
    "start_time": "2022-11-25T12:54:22.669Z"
   },
   {
    "duration": 111,
    "start_time": "2022-11-25T12:54:22.802Z"
   },
   {
    "duration": 494,
    "start_time": "2022-11-25T12:54:22.915Z"
   },
   {
    "duration": 530,
    "start_time": "2022-11-25T12:54:23.411Z"
   },
   {
    "duration": 467,
    "start_time": "2022-11-25T12:54:23.942Z"
   },
   {
    "duration": 1057,
    "start_time": "2022-11-25T12:54:24.412Z"
   },
   {
    "duration": 168,
    "start_time": "2022-11-25T12:54:25.472Z"
   },
   {
    "duration": 9,
    "start_time": "2022-11-25T12:54:25.642Z"
   },
   {
    "duration": 64,
    "start_time": "2022-11-25T12:54:25.653Z"
   },
   {
    "duration": 339,
    "start_time": "2022-11-25T12:54:25.719Z"
   },
   {
    "duration": 142,
    "start_time": "2022-11-25T12:54:26.060Z"
   },
   {
    "duration": 111,
    "start_time": "2022-11-25T12:54:26.212Z"
   },
   {
    "duration": 70,
    "start_time": "2022-11-25T12:54:26.324Z"
   },
   {
    "duration": 48,
    "start_time": "2022-11-25T12:54:26.396Z"
   },
   {
    "duration": 133,
    "start_time": "2022-11-25T12:54:26.446Z"
   },
   {
    "duration": 273,
    "start_time": "2022-11-25T12:54:26.581Z"
   },
   {
    "duration": 33,
    "start_time": "2022-11-25T12:54:26.856Z"
   },
   {
    "duration": 38,
    "start_time": "2022-11-25T12:54:26.891Z"
   },
   {
    "duration": 60,
    "start_time": "2022-11-25T12:54:26.931Z"
   },
   {
    "duration": 131,
    "start_time": "2022-11-25T12:54:26.992Z"
   },
   {
    "duration": 60,
    "start_time": "2022-11-25T12:54:27.125Z"
   },
   {
    "duration": 77,
    "start_time": "2022-11-25T12:54:27.186Z"
   },
   {
    "duration": 199,
    "start_time": "2022-11-25T12:54:27.265Z"
   },
   {
    "duration": 550,
    "start_time": "2022-11-25T12:54:27.465Z"
   },
   {
    "duration": 514,
    "start_time": "2022-11-25T12:54:28.019Z"
   },
   {
    "duration": 3,
    "start_time": "2022-11-25T12:54:28.535Z"
   },
   {
    "duration": 11,
    "start_time": "2022-11-25T12:54:28.539Z"
   },
   {
    "duration": 119558,
    "start_time": "2022-11-25T12:54:28.551Z"
   },
   {
    "duration": 179,
    "start_time": "2022-11-25T12:56:28.111Z"
   },
   {
    "duration": 6,
    "start_time": "2022-11-25T12:56:28.292Z"
   },
   {
    "duration": 139724,
    "start_time": "2022-11-25T12:56:28.313Z"
   },
   {
    "duration": 39,
    "start_time": "2022-11-25T12:58:48.039Z"
   },
   {
    "duration": 242,
    "start_time": "2022-11-25T12:58:48.079Z"
   },
   {
    "duration": 20889,
    "start_time": "2022-11-25T12:58:48.323Z"
   },
   {
    "duration": 303,
    "start_time": "2022-11-25T12:59:09.214Z"
   },
   {
    "duration": 94,
    "start_time": "2022-11-25T12:59:09.519Z"
   },
   {
    "duration": 12,
    "start_time": "2022-11-25T12:59:09.615Z"
   },
   {
    "duration": 202,
    "start_time": "2022-11-25T12:59:09.628Z"
   },
   {
    "duration": 284,
    "start_time": "2022-11-25T12:59:09.832Z"
   },
   {
    "duration": 182,
    "start_time": "2022-11-25T13:01:56.745Z"
   },
   {
    "duration": 18178,
    "start_time": "2022-11-26T09:53:31.937Z"
   },
   {
    "duration": 2880,
    "start_time": "2022-11-26T09:53:50.117Z"
   },
   {
    "duration": 16,
    "start_time": "2022-11-26T09:53:52.999Z"
   },
   {
    "duration": 133,
    "start_time": "2022-11-26T09:53:53.017Z"
   },
   {
    "duration": 94,
    "start_time": "2022-11-26T09:53:53.151Z"
   },
   {
    "duration": 428,
    "start_time": "2022-11-26T09:53:53.246Z"
   },
   {
    "duration": 456,
    "start_time": "2022-11-26T09:53:53.675Z"
   },
   {
    "duration": 411,
    "start_time": "2022-11-26T09:53:54.133Z"
   },
   {
    "duration": 889,
    "start_time": "2022-11-26T09:53:54.545Z"
   },
   {
    "duration": 168,
    "start_time": "2022-11-26T09:53:55.437Z"
   },
   {
    "duration": 8,
    "start_time": "2022-11-26T09:53:55.607Z"
   },
   {
    "duration": 43,
    "start_time": "2022-11-26T09:53:55.617Z"
   },
   {
    "duration": 300,
    "start_time": "2022-11-26T09:53:55.661Z"
   },
   {
    "duration": 147,
    "start_time": "2022-11-26T09:53:55.963Z"
   },
   {
    "duration": 124,
    "start_time": "2022-11-26T09:53:56.112Z"
   },
   {
    "duration": 69,
    "start_time": "2022-11-26T09:53:56.238Z"
   },
   {
    "duration": 27,
    "start_time": "2022-11-26T09:53:56.309Z"
   },
   {
    "duration": 106,
    "start_time": "2022-11-26T09:53:56.337Z"
   },
   {
    "duration": 252,
    "start_time": "2022-11-26T09:53:56.445Z"
   },
   {
    "duration": 33,
    "start_time": "2022-11-26T09:53:56.698Z"
   },
   {
    "duration": 21,
    "start_time": "2022-11-26T09:53:56.732Z"
   },
   {
    "duration": 77,
    "start_time": "2022-11-26T09:53:56.754Z"
   },
   {
    "duration": 127,
    "start_time": "2022-11-26T09:53:56.832Z"
   },
   {
    "duration": 69,
    "start_time": "2022-11-26T09:53:56.961Z"
   },
   {
    "duration": 79,
    "start_time": "2022-11-26T09:53:57.031Z"
   },
   {
    "duration": 159,
    "start_time": "2022-11-26T09:53:57.111Z"
   },
   {
    "duration": 474,
    "start_time": "2022-11-26T09:53:57.271Z"
   },
   {
    "duration": 459,
    "start_time": "2022-11-26T09:53:57.747Z"
   },
   {
    "duration": 2,
    "start_time": "2022-11-26T09:53:58.208Z"
   },
   {
    "duration": 8,
    "start_time": "2022-11-26T09:53:58.212Z"
   },
   {
    "duration": 107952,
    "start_time": "2022-11-26T09:53:58.222Z"
   },
   {
    "duration": 159,
    "start_time": "2022-11-26T09:55:46.176Z"
   },
   {
    "duration": 5,
    "start_time": "2022-11-26T09:55:46.337Z"
   },
   {
    "duration": 3363,
    "start_time": "2022-11-26T09:55:46.344Z"
   },
   {
    "duration": 34,
    "start_time": "2022-11-26T09:55:49.709Z"
   },
   {
    "duration": 270,
    "start_time": "2022-11-26T09:55:49.745Z"
   },
   {
    "duration": 16194,
    "start_time": "2022-11-26T09:55:50.017Z"
   },
   {
    "duration": 398,
    "start_time": "2022-11-26T09:56:06.213Z"
   },
   {
    "duration": 93,
    "start_time": "2022-11-26T09:56:06.613Z"
   },
   {
    "duration": 16,
    "start_time": "2022-11-26T09:56:06.708Z"
   },
   {
    "duration": 303,
    "start_time": "2022-11-26T09:56:06.725Z"
   },
   {
    "duration": 212,
    "start_time": "2022-11-26T09:56:07.030Z"
   }
  ],
  "kernelspec": {
   "display_name": "Python 3",
   "language": "python",
   "name": "python3"
  },
  "language_info": {
   "codemirror_mode": {
    "name": "ipython",
    "version": 3
   },
   "file_extension": ".py",
   "mimetype": "text/x-python",
   "name": "python",
   "nbconvert_exporter": "python",
   "pygments_lexer": "ipython3",
   "version": "3.8.5"
  },
  "toc": {
   "base_numbering": 1,
   "nav_menu": {},
   "number_sections": true,
   "sideBar": true,
   "skip_h1_title": true,
   "title_cell": "Table of Contents",
   "title_sidebar": "Contents",
   "toc_cell": false,
   "toc_position": {},
   "toc_section_display": true,
   "toc_window_display": false
  }
 },
 "nbformat": 4,
 "nbformat_minor": 2
}
