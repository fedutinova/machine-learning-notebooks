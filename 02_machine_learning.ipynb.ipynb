{
 "cells": [
  {
   "cell_type": "markdown",
   "metadata": {},
   "source": [
    "# Рекомендация тарифов"
   ]
  },
  {
   "cell_type": "markdown",
   "metadata": {},
   "source": [
    "## Описание проекта\n",
    "\n",
    "В вашем распоряжении данные о поведении клиентов, которые уже перешли на эти тарифы (из проекта курса «Статистический анализ данных»). Нужно построить модель для задачи классификации, которая выберет подходящий тариф. Предобработка данных не понадобится — вы её уже сделали.\n",
    "\n",
    "Постройте модель с максимально большим значением *accuracy*. Чтобы сдать проект успешно, нужно довести долю правильных ответов по крайней мере до 0.75. Проверьте *accuracy* на тестовой выборке самостоятельно."
   ]
  },
  {
   "cell_type": "markdown",
   "metadata": {},
   "source": [
    "## Откройте и изучите файл"
   ]
  },
  {
   "cell_type": "code",
   "execution_count": 1,
   "metadata": {},
   "outputs": [],
   "source": [
    "import pandas as pd\n",
    "from sklearn.tree import DecisionTreeClassifier\n",
    "from sklearn.ensemble import RandomForestClassifier\n",
    "from sklearn.linear_model import LogisticRegression\n",
    "from sklearn.model_selection import train_test_split\n",
    "from sklearn.metrics import accuracy_score "
   ]
  },
  {
   "cell_type": "code",
   "execution_count": 2,
   "metadata": {},
   "outputs": [],
   "source": [
    "df = pd.read_csv('/datasets/users_behavior.csv')"
   ]
  },
  {
   "cell_type": "code",
   "execution_count": 3,
   "metadata": {},
   "outputs": [
    {
     "data": {
      "text/html": [
       "<div>\n",
       "<style scoped>\n",
       "    .dataframe tbody tr th:only-of-type {\n",
       "        vertical-align: middle;\n",
       "    }\n",
       "\n",
       "    .dataframe tbody tr th {\n",
       "        vertical-align: top;\n",
       "    }\n",
       "\n",
       "    .dataframe thead th {\n",
       "        text-align: right;\n",
       "    }\n",
       "</style>\n",
       "<table border=\"1\" class=\"dataframe\">\n",
       "  <thead>\n",
       "    <tr style=\"text-align: right;\">\n",
       "      <th></th>\n",
       "      <th>calls</th>\n",
       "      <th>minutes</th>\n",
       "      <th>messages</th>\n",
       "      <th>mb_used</th>\n",
       "      <th>is_ultra</th>\n",
       "    </tr>\n",
       "  </thead>\n",
       "  <tbody>\n",
       "    <tr>\n",
       "      <th>0</th>\n",
       "      <td>40.0</td>\n",
       "      <td>311.90</td>\n",
       "      <td>83.0</td>\n",
       "      <td>19915.42</td>\n",
       "      <td>0</td>\n",
       "    </tr>\n",
       "    <tr>\n",
       "      <th>1</th>\n",
       "      <td>85.0</td>\n",
       "      <td>516.75</td>\n",
       "      <td>56.0</td>\n",
       "      <td>22696.96</td>\n",
       "      <td>0</td>\n",
       "    </tr>\n",
       "    <tr>\n",
       "      <th>2</th>\n",
       "      <td>77.0</td>\n",
       "      <td>467.66</td>\n",
       "      <td>86.0</td>\n",
       "      <td>21060.45</td>\n",
       "      <td>0</td>\n",
       "    </tr>\n",
       "    <tr>\n",
       "      <th>3</th>\n",
       "      <td>106.0</td>\n",
       "      <td>745.53</td>\n",
       "      <td>81.0</td>\n",
       "      <td>8437.39</td>\n",
       "      <td>1</td>\n",
       "    </tr>\n",
       "    <tr>\n",
       "      <th>4</th>\n",
       "      <td>66.0</td>\n",
       "      <td>418.74</td>\n",
       "      <td>1.0</td>\n",
       "      <td>14502.75</td>\n",
       "      <td>0</td>\n",
       "    </tr>\n",
       "  </tbody>\n",
       "</table>\n",
       "</div>"
      ],
      "text/plain": [
       "   calls  minutes  messages   mb_used  is_ultra\n",
       "0   40.0   311.90      83.0  19915.42         0\n",
       "1   85.0   516.75      56.0  22696.96         0\n",
       "2   77.0   467.66      86.0  21060.45         0\n",
       "3  106.0   745.53      81.0   8437.39         1\n",
       "4   66.0   418.74       1.0  14502.75         0"
      ]
     },
     "execution_count": 3,
     "metadata": {},
     "output_type": "execute_result"
    }
   ],
   "source": [
    "df.head()"
   ]
  },
  {
   "cell_type": "markdown",
   "metadata": {},
   "source": [
    "* сalls — количество звонков,\n",
    "* minutes — суммарная длительность звонков в минутах,\n",
    "* messages — количество sms-сообщений,\n",
    "* mb_used — израсходованный интернет-трафик в Мб,\n",
    "* is_ultra — каким тарифом пользовался в течение месяца («Ультра» — 1, «Смарт» — 0)."
   ]
  },
  {
   "cell_type": "markdown",
   "metadata": {},
   "source": [
    "## Разбейте данные на выборки"
   ]
  },
  {
   "cell_type": "code",
   "execution_count": 4,
   "metadata": {},
   "outputs": [],
   "source": [
    "features = df.drop(['is_ultra'], axis = 1)\n",
    "target = df['is_ultra']"
   ]
  },
  {
   "cell_type": "code",
   "execution_count": 5,
   "metadata": {},
   "outputs": [],
   "source": [
    "features_train, features_test, target_train, target_test = train_test_split(\n",
    "    features, target, test_size=0.4, random_state=19191)"
   ]
  },
  {
   "cell_type": "code",
   "execution_count": 6,
   "metadata": {},
   "outputs": [],
   "source": [
    "features_test, features_valid, target_test, target_valid = train_test_split(\n",
    "    features_test, target_test, test_size=0.5, random_state=19191)"
   ]
  },
  {
   "cell_type": "markdown",
   "metadata": {},
   "source": [
    "## Исследуйте модели"
   ]
  },
  {
   "cell_type": "markdown",
   "metadata": {},
   "source": [
    "### Дерево Решений"
   ]
  },
  {
   "cell_type": "code",
   "execution_count": 7,
   "metadata": {
    "scrolled": true
   },
   "outputs": [
    {
     "name": "stdout",
     "output_type": "stream",
     "text": [
      "Accuracy наилучшей модели Дерево Решений: 0.7993779160186625 глубина: 10\n"
     ]
    }
   ],
   "source": [
    "best_model_DTC = None\n",
    "best_accuracy_DTC = 0\n",
    "best_depth_DTC = 0\n",
    "\n",
    "for depth in range(1, 11):\n",
    "    model_DTC = DecisionTreeClassifier(random_state=19191, max_depth=depth)\n",
    "    model_DTC.fit(features_train, target_train)\n",
    "\n",
    "    prediction = model_DTC.predict(features_valid)\n",
    "    result = accuracy_score(target_valid, prediction)\n",
    "    if result > best_accuracy_DTC:\n",
    "        best_model_DTC = model_DTC\n",
    "        best_accuracy_DTC = result\n",
    "        best_depth_DTC = depth\n",
    "print(\"Accuracy наилучшей модели Дерево Решений:\", best_accuracy_DTC, \"глубина:\", depth)"
   ]
  },
  {
   "cell_type": "markdown",
   "metadata": {},
   "source": [
    "### Cлучайный лес"
   ]
  },
  {
   "cell_type": "code",
   "execution_count": 8,
   "metadata": {},
   "outputs": [
    {
     "name": "stdout",
     "output_type": "stream",
     "text": [
      "Accuracy наилучшей модели Cлучайный лес: 0.8087091757387247 Количество деревьев: 90 Глубина: 5 минимальное количество объектов в листе 5\n"
     ]
    }
   ],
   "source": [
    "best_model_RFC = None\n",
    "best_accuracy_RFC = 0\n",
    "best_est_RFC = 0\n",
    "best_depth_RFC = 0\n",
    "best_min_samples_leaf = 0\n",
    "for est in range(20, 100, 10):\n",
    "    for depth in range(1, 6):\n",
    "        for leaf in range(1, 6):\n",
    "            model_RFC = RandomForestClassifier(random_state=19191, n_estimators=est, max_depth=depth, min_samples_leaf = leaf)\n",
    "            model_RFC.fit(features_train, target_train)\n",
    "            prediction = model_RFC.predict(features_valid)\n",
    "            result = model_RFC.score(features_valid, target_valid) \n",
    "            if result > best_accuracy_RFC:\n",
    "                best_model_RFC = model_RFC\n",
    "                best_accuracy_RFC = result\n",
    "                best_est_RFC = est\n",
    "                best_depth_RFC = depth\n",
    "                min_samples_leaf = leaf\n",
    "print(\"Accuracy наилучшей модели Cлучайный лес:\", best_accuracy_RFC, \"Количество деревьев:\", best_est_RFC, 'Глубина:', best_depth_RFC, 'минимальное количество объектов в листе', leaf)"
   ]
  },
  {
   "cell_type": "markdown",
   "metadata": {},
   "source": [
    "### Логистическая регрессия"
   ]
  },
  {
   "cell_type": "code",
   "execution_count": 9,
   "metadata": {},
   "outputs": [
    {
     "name": "stdout",
     "output_type": "stream",
     "text": [
      "Accuracy модели логистической регрессии: 0.7060653188180405\n"
     ]
    }
   ],
   "source": [
    "model_LR =  LogisticRegression()\n",
    "model_LR.fit(features_train, target_train)\n",
    "predictions_LR = model_LR.predict(features_valid)\n",
    "accuracy_LR = accuracy_score(target_valid, predictions_LR)\n",
    "print('Accuracy модели логистической регрессии:', accuracy_LR)"
   ]
  },
  {
   "cell_type": "markdown",
   "metadata": {},
   "source": [
    "## Проверьте модель на тестовой выборке"
   ]
  },
  {
   "cell_type": "code",
   "execution_count": 10,
   "metadata": {},
   "outputs": [
    {
     "name": "stdout",
     "output_type": "stream",
     "text": [
      "Accuracy модели Случайный лес на тестовой выборке: 0.8040435458786936\n"
     ]
    }
   ],
   "source": [
    "#Проверим модель: Случайный лес на тестовой выборке\n",
    "\n",
    "final_test_predictions = best_model_RFC.predict(features_test)\n",
    "final_test_result = accuracy_score(target_test, final_test_predictions)\n",
    "print('Accuracy модели Случайный лес на тестовой выборке:', final_test_result)"
   ]
  },
  {
   "cell_type": "markdown",
   "metadata": {},
   "source": [
    "## (бонус) Проверьте модели на адекватность"
   ]
  },
  {
   "cell_type": "code",
   "execution_count": 11,
   "metadata": {},
   "outputs": [
    {
     "data": {
      "text/plain": [
       "0.6827371695178849"
      ]
     },
     "execution_count": 11,
     "metadata": {},
     "output_type": "execute_result"
    }
   ],
   "source": [
    "from sklearn.dummy import DummyClassifier\n",
    "dummy_clf = DummyClassifier(strategy=\"most_frequent\", random_state=0)\n",
    "dummy_clf.fit(features_train, target_train)\n",
    "dummy_clf.score(features_test, target_test)"
   ]
  },
  {
   "cell_type": "markdown",
   "metadata": {},
   "source": [
    "Сравнила модель с DummyClassifier, модель Случайный лес адекватна"
   ]
  },
  {
   "cell_type": "markdown",
   "metadata": {},
   "source": [
    "# Вывод\n",
    "* Обучили модель дерева решений, лучшее с глубиной = 10\n",
    "* Обучили модель случайного леса. Лучшее с количеством дервьев 90, глубиной 8,минимальным количество объектов в листе 5\n",
    "* Обучили модель логистической регрессии\n",
    "\n",
    "Наиболее точный результат предсказывает модель Случайный лес с accuracy 0.8087"
   ]
  }
 ],
 "metadata": {
  "ExecuteTimeLog": [
   {
    "duration": 412,
    "start_time": "2022-08-24T18:43:19.272Z"
   },
   {
    "duration": 114,
    "start_time": "2022-08-24T18:44:14.139Z"
   },
   {
    "duration": 18,
    "start_time": "2022-08-24T18:44:20.865Z"
   },
   {
    "duration": 12,
    "start_time": "2022-08-24T18:45:13.420Z"
   },
   {
    "duration": 750,
    "start_time": "2022-08-24T18:49:09.905Z"
   },
   {
    "duration": 4,
    "start_time": "2022-08-24T18:50:17.062Z"
   },
   {
    "duration": 7,
    "start_time": "2022-08-24T18:51:04.166Z"
   },
   {
    "duration": 37,
    "start_time": "2022-08-24T18:53:36.378Z"
   },
   {
    "duration": 32,
    "start_time": "2022-08-24T18:53:56.517Z"
   },
   {
    "duration": 31,
    "start_time": "2022-08-24T18:54:01.904Z"
   },
   {
    "duration": 60,
    "start_time": "2022-08-24T18:54:07.685Z"
   },
   {
    "duration": 26,
    "start_time": "2022-08-24T18:54:11.832Z"
   },
   {
    "duration": 25,
    "start_time": "2022-08-24T18:54:24.839Z"
   },
   {
    "duration": 25,
    "start_time": "2022-08-24T18:55:49.501Z"
   },
   {
    "duration": 1149,
    "start_time": "2022-08-24T18:55:55.595Z"
   },
   {
    "duration": 30,
    "start_time": "2022-08-24T18:55:56.746Z"
   },
   {
    "duration": 21,
    "start_time": "2022-08-24T18:55:56.778Z"
   },
   {
    "duration": 8,
    "start_time": "2022-08-24T18:55:56.801Z"
   },
   {
    "duration": 12,
    "start_time": "2022-08-24T18:55:56.811Z"
   },
   {
    "duration": 32,
    "start_time": "2022-08-24T18:55:56.824Z"
   },
   {
    "duration": 29,
    "start_time": "2022-08-24T18:56:04.161Z"
   },
   {
    "duration": 27,
    "start_time": "2022-08-24T18:56:10.970Z"
   },
   {
    "duration": 1237,
    "start_time": "2022-08-24T18:56:15.373Z"
   },
   {
    "duration": 31,
    "start_time": "2022-08-24T18:56:16.612Z"
   },
   {
    "duration": 24,
    "start_time": "2022-08-24T18:56:16.645Z"
   },
   {
    "duration": 5,
    "start_time": "2022-08-24T18:56:16.671Z"
   },
   {
    "duration": 12,
    "start_time": "2022-08-24T18:56:16.677Z"
   },
   {
    "duration": 31,
    "start_time": "2022-08-24T18:56:16.691Z"
   },
   {
    "duration": 5356,
    "start_time": "2022-08-24T18:56:58.530Z"
   },
   {
    "duration": 5340,
    "start_time": "2022-08-24T18:57:07.856Z"
   },
   {
    "duration": 5299,
    "start_time": "2022-08-24T18:57:50.016Z"
   },
   {
    "duration": 3753,
    "start_time": "2022-08-24T18:58:15.015Z"
   },
   {
    "duration": 5147,
    "start_time": "2022-08-24T18:58:29.766Z"
   },
   {
    "duration": 3723,
    "start_time": "2022-08-24T18:58:44.373Z"
   },
   {
    "duration": 8262,
    "start_time": "2022-08-24T18:58:58.288Z"
   },
   {
    "duration": 13617,
    "start_time": "2022-08-24T18:59:14.133Z"
   },
   {
    "duration": 8264,
    "start_time": "2022-08-24T18:59:33.113Z"
   },
   {
    "duration": 18,
    "start_time": "2022-08-24T18:59:50.246Z"
   },
   {
    "duration": 5,
    "start_time": "2022-08-24T19:09:55.363Z"
   },
   {
    "duration": 106,
    "start_time": "2022-08-24T19:13:44.818Z"
   },
   {
    "duration": 6,
    "start_time": "2022-08-24T19:13:53.730Z"
   },
   {
    "duration": 21,
    "start_time": "2022-08-24T19:13:59.451Z"
   },
   {
    "duration": 5682,
    "start_time": "2022-08-24T19:14:02.986Z"
   },
   {
    "duration": 105,
    "start_time": "2022-08-24T19:15:48.059Z"
   },
   {
    "duration": 11,
    "start_time": "2022-08-24T19:16:03.360Z"
   },
   {
    "duration": 10,
    "start_time": "2022-08-24T19:16:11.578Z"
   },
   {
    "duration": 7,
    "start_time": "2022-08-24T19:16:49.999Z"
   },
   {
    "duration": 21,
    "start_time": "2022-08-24T19:19:12.704Z"
   },
   {
    "duration": 8,
    "start_time": "2022-08-24T19:20:07.678Z"
   },
   {
    "duration": 6,
    "start_time": "2022-08-24T19:20:10.621Z"
   },
   {
    "duration": 13,
    "start_time": "2022-08-24T19:20:12.462Z"
   },
   {
    "duration": 1114,
    "start_time": "2022-08-24T19:23:44.123Z"
   },
   {
    "duration": 30,
    "start_time": "2022-08-24T19:23:45.239Z"
   },
   {
    "duration": 18,
    "start_time": "2022-08-24T19:23:45.271Z"
   },
   {
    "duration": 4,
    "start_time": "2022-08-24T19:23:45.291Z"
   },
   {
    "duration": 9,
    "start_time": "2022-08-24T19:23:45.296Z"
   },
   {
    "duration": 124,
    "start_time": "2022-08-24T19:23:45.306Z"
   },
   {
    "duration": 0,
    "start_time": "2022-08-24T19:23:45.433Z"
   },
   {
    "duration": 0,
    "start_time": "2022-08-24T19:23:45.434Z"
   },
   {
    "duration": 0,
    "start_time": "2022-08-24T19:23:45.436Z"
   },
   {
    "duration": 9,
    "start_time": "2022-08-24T19:28:51.336Z"
   },
   {
    "duration": 6,
    "start_time": "2022-08-24T19:29:17.477Z"
   },
   {
    "duration": 13,
    "start_time": "2022-08-24T19:29:29.897Z"
   },
   {
    "duration": 19,
    "start_time": "2022-08-24T19:29:44.202Z"
   },
   {
    "duration": 12,
    "start_time": "2022-08-24T19:29:49.907Z"
   },
   {
    "duration": 6,
    "start_time": "2022-08-24T19:29:57.765Z"
   },
   {
    "duration": 15,
    "start_time": "2022-08-24T19:30:03.706Z"
   },
   {
    "duration": 5,
    "start_time": "2022-08-24T19:30:29.168Z"
   },
   {
    "duration": 6,
    "start_time": "2022-08-24T19:30:41.343Z"
   },
   {
    "duration": 898,
    "start_time": "2022-08-24T19:31:10.924Z"
   },
   {
    "duration": 13,
    "start_time": "2022-08-24T19:31:45.736Z"
   },
   {
    "duration": 15,
    "start_time": "2022-08-24T19:33:18.860Z"
   },
   {
    "duration": 12,
    "start_time": "2022-08-24T19:34:26.784Z"
   },
   {
    "duration": 6,
    "start_time": "2022-08-24T19:34:33.080Z"
   },
   {
    "duration": 1147,
    "start_time": "2022-08-24T19:34:37.426Z"
   },
   {
    "duration": 29,
    "start_time": "2022-08-24T19:34:38.575Z"
   },
   {
    "duration": 19,
    "start_time": "2022-08-24T19:34:38.606Z"
   },
   {
    "duration": 7,
    "start_time": "2022-08-24T19:34:38.627Z"
   },
   {
    "duration": 10,
    "start_time": "2022-08-24T19:34:38.636Z"
   },
   {
    "duration": 10,
    "start_time": "2022-08-24T19:34:38.648Z"
   },
   {
    "duration": 8,
    "start_time": "2022-08-24T19:34:38.660Z"
   },
   {
    "duration": 34,
    "start_time": "2022-08-24T19:34:38.670Z"
   },
   {
    "duration": 5766,
    "start_time": "2022-08-24T19:34:38.706Z"
   },
   {
    "duration": 9,
    "start_time": "2022-08-24T19:34:44.474Z"
   },
   {
    "duration": 22,
    "start_time": "2022-08-24T19:35:20.819Z"
   },
   {
    "duration": 45,
    "start_time": "2022-08-25T08:50:28.852Z"
   },
   {
    "duration": 1190,
    "start_time": "2022-08-25T08:50:34.895Z"
   },
   {
    "duration": 0,
    "start_time": "2022-08-25T08:50:36.088Z"
   },
   {
    "duration": 0,
    "start_time": "2022-08-25T08:50:36.089Z"
   },
   {
    "duration": 0,
    "start_time": "2022-08-25T08:50:36.090Z"
   },
   {
    "duration": 0,
    "start_time": "2022-08-25T08:50:36.091Z"
   },
   {
    "duration": 0,
    "start_time": "2022-08-25T08:50:36.092Z"
   },
   {
    "duration": 0,
    "start_time": "2022-08-25T08:50:36.093Z"
   },
   {
    "duration": 0,
    "start_time": "2022-08-25T08:50:36.094Z"
   },
   {
    "duration": 0,
    "start_time": "2022-08-25T08:50:36.095Z"
   },
   {
    "duration": 1121,
    "start_time": "2022-08-25T08:50:58.718Z"
   },
   {
    "duration": 124,
    "start_time": "2022-08-25T08:50:59.841Z"
   },
   {
    "duration": 24,
    "start_time": "2022-08-25T08:50:59.969Z"
   },
   {
    "duration": 5,
    "start_time": "2022-08-25T08:50:59.995Z"
   },
   {
    "duration": 22,
    "start_time": "2022-08-25T08:51:00.002Z"
   },
   {
    "duration": 7,
    "start_time": "2022-08-25T08:51:00.026Z"
   },
   {
    "duration": 28,
    "start_time": "2022-08-25T08:51:00.035Z"
   },
   {
    "duration": 5364,
    "start_time": "2022-08-25T08:51:00.064Z"
   },
   {
    "duration": 9,
    "start_time": "2022-08-25T08:51:05.430Z"
   },
   {
    "duration": 20,
    "start_time": "2022-08-25T08:51:35.129Z"
   },
   {
    "duration": 24,
    "start_time": "2022-08-25T08:54:11.716Z"
   },
   {
    "duration": 5847,
    "start_time": "2022-08-25T08:55:04.783Z"
   },
   {
    "duration": 5737,
    "start_time": "2022-08-25T08:55:18.094Z"
   },
   {
    "duration": 5576,
    "start_time": "2022-08-25T08:55:34.090Z"
   },
   {
    "duration": 57,
    "start_time": "2022-08-25T08:55:56.475Z"
   },
   {
    "duration": 9,
    "start_time": "2022-08-25T08:56:03.082Z"
   },
   {
    "duration": 27,
    "start_time": "2022-08-25T08:56:49.475Z"
   },
   {
    "duration": 25,
    "start_time": "2022-08-25T08:59:55.873Z"
   },
   {
    "duration": 5,
    "start_time": "2022-08-25T09:21:39.515Z"
   },
   {
    "duration": 1126,
    "start_time": "2022-08-25T09:21:49.552Z"
   },
   {
    "duration": 35,
    "start_time": "2022-08-25T09:21:50.680Z"
   },
   {
    "duration": 17,
    "start_time": "2022-08-25T09:21:50.716Z"
   },
   {
    "duration": 4,
    "start_time": "2022-08-25T09:21:50.735Z"
   },
   {
    "duration": 8,
    "start_time": "2022-08-25T09:21:50.741Z"
   },
   {
    "duration": 4,
    "start_time": "2022-08-25T09:21:50.751Z"
   },
   {
    "duration": 104,
    "start_time": "2022-08-25T09:21:50.757Z"
   },
   {
    "duration": 0,
    "start_time": "2022-08-25T09:21:50.862Z"
   },
   {
    "duration": 0,
    "start_time": "2022-08-25T09:21:50.864Z"
   },
   {
    "duration": 26,
    "start_time": "2022-08-25T09:22:06.736Z"
   },
   {
    "duration": 1186,
    "start_time": "2022-08-25T09:22:11.091Z"
   },
   {
    "duration": 30,
    "start_time": "2022-08-25T09:22:12.279Z"
   },
   {
    "duration": 17,
    "start_time": "2022-08-25T09:22:12.311Z"
   },
   {
    "duration": 4,
    "start_time": "2022-08-25T09:22:12.330Z"
   },
   {
    "duration": 8,
    "start_time": "2022-08-25T09:22:12.336Z"
   },
   {
    "duration": 5,
    "start_time": "2022-08-25T09:22:12.345Z"
   },
   {
    "duration": 29,
    "start_time": "2022-08-25T09:22:12.352Z"
   },
   {
    "duration": 7186,
    "start_time": "2022-08-25T09:22:12.383Z"
   },
   {
    "duration": 10,
    "start_time": "2022-08-25T09:22:19.570Z"
   },
   {
    "duration": 6,
    "start_time": "2022-08-25T09:28:29.800Z"
   },
   {
    "duration": 1100,
    "start_time": "2022-08-25T09:28:33.288Z"
   },
   {
    "duration": 29,
    "start_time": "2022-08-25T09:28:34.389Z"
   },
   {
    "duration": 17,
    "start_time": "2022-08-25T09:28:34.420Z"
   },
   {
    "duration": 4,
    "start_time": "2022-08-25T09:28:34.439Z"
   },
   {
    "duration": 7,
    "start_time": "2022-08-25T09:28:34.445Z"
   },
   {
    "duration": 5,
    "start_time": "2022-08-25T09:28:34.454Z"
   },
   {
    "duration": 28,
    "start_time": "2022-08-25T09:28:34.461Z"
   },
   {
    "duration": 7245,
    "start_time": "2022-08-25T09:28:34.491Z"
   },
   {
    "duration": 9,
    "start_time": "2022-08-25T09:28:41.738Z"
   },
   {
    "duration": 6,
    "start_time": "2022-08-25T09:29:17.175Z"
   },
   {
    "duration": 27,
    "start_time": "2022-08-25T09:29:18.987Z"
   },
   {
    "duration": 5,
    "start_time": "2022-08-25T09:29:40.618Z"
   },
   {
    "duration": 1105,
    "start_time": "2022-08-25T09:29:45.078Z"
   },
   {
    "duration": 30,
    "start_time": "2022-08-25T09:29:46.185Z"
   },
   {
    "duration": 23,
    "start_time": "2022-08-25T09:29:46.219Z"
   },
   {
    "duration": 4,
    "start_time": "2022-08-25T09:29:46.244Z"
   },
   {
    "duration": 20,
    "start_time": "2022-08-25T09:29:46.250Z"
   },
   {
    "duration": 15,
    "start_time": "2022-08-25T09:29:46.272Z"
   },
   {
    "duration": 41,
    "start_time": "2022-08-25T09:29:46.289Z"
   },
   {
    "duration": 5586,
    "start_time": "2022-08-25T09:29:46.332Z"
   },
   {
    "duration": 10,
    "start_time": "2022-08-25T09:29:51.921Z"
   },
   {
    "duration": 1127,
    "start_time": "2022-08-25T09:32:28.187Z"
   },
   {
    "duration": 29,
    "start_time": "2022-08-25T09:32:29.316Z"
   },
   {
    "duration": 17,
    "start_time": "2022-08-25T09:32:29.346Z"
   },
   {
    "duration": 5,
    "start_time": "2022-08-25T09:32:29.365Z"
   },
   {
    "duration": 11,
    "start_time": "2022-08-25T09:32:29.371Z"
   },
   {
    "duration": 5,
    "start_time": "2022-08-25T09:32:29.384Z"
   },
   {
    "duration": 109,
    "start_time": "2022-08-25T09:32:29.390Z"
   },
   {
    "duration": 0,
    "start_time": "2022-08-25T09:32:29.501Z"
   },
   {
    "duration": 0,
    "start_time": "2022-08-25T09:32:29.502Z"
   },
   {
    "duration": 4,
    "start_time": "2022-08-25T09:33:55.002Z"
   },
   {
    "duration": 24,
    "start_time": "2022-08-25T09:36:41.022Z"
   },
   {
    "duration": 59,
    "start_time": "2022-08-25T14:58:56.436Z"
   },
   {
    "duration": 1131,
    "start_time": "2022-08-25T14:59:02.202Z"
   },
   {
    "duration": 66,
    "start_time": "2022-08-25T14:59:03.335Z"
   },
   {
    "duration": 17,
    "start_time": "2022-08-25T14:59:03.403Z"
   },
   {
    "duration": 3,
    "start_time": "2022-08-25T14:59:03.422Z"
   },
   {
    "duration": 7,
    "start_time": "2022-08-25T14:59:03.426Z"
   },
   {
    "duration": 6,
    "start_time": "2022-08-25T14:59:03.434Z"
   },
   {
    "duration": 109,
    "start_time": "2022-08-25T14:59:03.441Z"
   },
   {
    "duration": 0,
    "start_time": "2022-08-25T14:59:03.552Z"
   },
   {
    "duration": 0,
    "start_time": "2022-08-25T14:59:03.553Z"
   },
   {
    "duration": 3,
    "start_time": "2022-08-25T15:01:22.841Z"
   },
   {
    "duration": 1129,
    "start_time": "2022-08-25T15:01:28.068Z"
   },
   {
    "duration": 31,
    "start_time": "2022-08-25T15:01:29.199Z"
   },
   {
    "duration": 21,
    "start_time": "2022-08-25T15:01:29.232Z"
   },
   {
    "duration": 4,
    "start_time": "2022-08-25T15:01:29.255Z"
   },
   {
    "duration": 7,
    "start_time": "2022-08-25T15:01:29.262Z"
   },
   {
    "duration": 6,
    "start_time": "2022-08-25T15:01:29.271Z"
   },
   {
    "duration": 151,
    "start_time": "2022-08-25T15:01:29.278Z"
   },
   {
    "duration": 0,
    "start_time": "2022-08-25T15:01:29.430Z"
   },
   {
    "duration": 0,
    "start_time": "2022-08-25T15:01:29.432Z"
   },
   {
    "duration": 49,
    "start_time": "2022-08-25T15:01:54.592Z"
   },
   {
    "duration": 40,
    "start_time": "2022-08-25T15:11:35.882Z"
   },
   {
    "duration": 6,
    "start_time": "2022-08-25T15:13:03.225Z"
   },
   {
    "duration": 5,
    "start_time": "2022-08-25T15:13:06.285Z"
   },
   {
    "duration": 43,
    "start_time": "2022-08-25T15:13:08.169Z"
   },
   {
    "duration": 9,
    "start_time": "2022-08-25T15:13:52.458Z"
   },
   {
    "duration": 22,
    "start_time": "2022-08-25T15:23:50.868Z"
   },
   {
    "duration": 32,
    "start_time": "2022-08-25T15:23:55.163Z"
   },
   {
    "duration": 40,
    "start_time": "2022-08-25T15:25:44.995Z"
   },
   {
    "duration": 34,
    "start_time": "2022-08-25T15:25:49.368Z"
   },
   {
    "duration": 38,
    "start_time": "2022-08-25T15:25:53.975Z"
   },
   {
    "duration": 79,
    "start_time": "2022-08-25T15:28:08.207Z"
   },
   {
    "duration": 33,
    "start_time": "2022-08-25T15:28:39.025Z"
   },
   {
    "duration": 17,
    "start_time": "2022-08-25T15:34:00.969Z"
   },
   {
    "duration": 20,
    "start_time": "2022-08-25T15:34:17.956Z"
   },
   {
    "duration": 21,
    "start_time": "2022-08-25T15:35:19.800Z"
   },
   {
    "duration": 21,
    "start_time": "2022-08-25T15:36:48.254Z"
   },
   {
    "duration": 24,
    "start_time": "2022-08-25T15:45:26.719Z"
   },
   {
    "duration": 20,
    "start_time": "2022-08-25T15:45:38.915Z"
   },
   {
    "duration": 18,
    "start_time": "2022-08-25T15:48:51.181Z"
   },
   {
    "duration": 7459,
    "start_time": "2022-08-25T15:49:26.791Z"
   },
   {
    "duration": 18,
    "start_time": "2022-08-25T15:51:34.039Z"
   },
   {
    "duration": 1181,
    "start_time": "2022-09-07T18:29:25.447Z"
   },
   {
    "duration": 68,
    "start_time": "2022-09-07T18:29:26.630Z"
   },
   {
    "duration": 17,
    "start_time": "2022-09-07T18:29:26.700Z"
   },
   {
    "duration": 4,
    "start_time": "2022-09-07T18:29:26.719Z"
   },
   {
    "duration": 7,
    "start_time": "2022-09-07T18:29:26.724Z"
   },
   {
    "duration": 7,
    "start_time": "2022-09-07T18:29:26.733Z"
   },
   {
    "duration": 95,
    "start_time": "2022-09-07T18:29:26.741Z"
   },
   {
    "duration": 7552,
    "start_time": "2022-09-07T18:29:26.839Z"
   },
   {
    "duration": 123,
    "start_time": "2022-09-07T18:29:34.392Z"
   },
   {
    "duration": 52,
    "start_time": "2022-09-29T11:44:07.188Z"
   },
   {
    "duration": 1167,
    "start_time": "2022-09-29T11:44:14.033Z"
   },
   {
    "duration": 113,
    "start_time": "2022-09-29T11:44:15.202Z"
   },
   {
    "duration": 18,
    "start_time": "2022-09-29T11:44:15.317Z"
   },
   {
    "duration": 4,
    "start_time": "2022-09-29T11:44:15.337Z"
   },
   {
    "duration": 8,
    "start_time": "2022-09-29T11:44:15.343Z"
   },
   {
    "duration": 10,
    "start_time": "2022-09-29T11:44:15.353Z"
   },
   {
    "duration": 115,
    "start_time": "2022-09-29T11:44:15.365Z"
   },
   {
    "duration": 0,
    "start_time": "2022-09-29T11:44:15.482Z"
   },
   {
    "duration": 0,
    "start_time": "2022-09-29T11:44:15.483Z"
   },
   {
    "duration": 1129,
    "start_time": "2022-09-29T11:46:34.668Z"
   },
   {
    "duration": 30,
    "start_time": "2022-09-29T11:46:35.800Z"
   },
   {
    "duration": 17,
    "start_time": "2022-09-29T11:46:35.832Z"
   },
   {
    "duration": 5,
    "start_time": "2022-09-29T11:46:35.851Z"
   },
   {
    "duration": 10,
    "start_time": "2022-09-29T11:46:35.857Z"
   },
   {
    "duration": 6,
    "start_time": "2022-09-29T11:46:35.868Z"
   },
   {
    "duration": 108,
    "start_time": "2022-09-29T11:46:35.876Z"
   },
   {
    "duration": 0,
    "start_time": "2022-09-29T11:46:35.986Z"
   },
   {
    "duration": 0,
    "start_time": "2022-09-29T11:46:35.987Z"
   },
   {
    "duration": 15,
    "start_time": "2022-09-29T11:47:46.626Z"
   },
   {
    "duration": 17,
    "start_time": "2022-09-29T11:48:25.135Z"
   },
   {
    "duration": 1080,
    "start_time": "2022-09-29T21:08:20.301Z"
   },
   {
    "duration": 119,
    "start_time": "2022-09-29T21:08:21.384Z"
   },
   {
    "duration": 21,
    "start_time": "2022-09-29T21:08:21.508Z"
   },
   {
    "duration": 6,
    "start_time": "2022-09-29T21:08:21.532Z"
   },
   {
    "duration": 18,
    "start_time": "2022-09-29T21:08:21.540Z"
   },
   {
    "duration": 21,
    "start_time": "2022-09-29T21:08:21.560Z"
   },
   {
    "duration": 130,
    "start_time": "2022-09-29T21:08:21.583Z"
   },
   {
    "duration": 0,
    "start_time": "2022-09-29T21:08:21.715Z"
   },
   {
    "duration": 0,
    "start_time": "2022-09-29T21:08:21.716Z"
   },
   {
    "duration": 72,
    "start_time": "2022-09-29T21:08:43.582Z"
   },
   {
    "duration": 70,
    "start_time": "2022-09-29T21:08:59.217Z"
   },
   {
    "duration": 22,
    "start_time": "2022-09-29T21:14:00.309Z"
   },
   {
    "duration": 22,
    "start_time": "2022-09-29T21:14:29.380Z"
   },
   {
    "duration": 7038,
    "start_time": "2022-09-29T21:17:34.759Z"
   },
   {
    "duration": 7029,
    "start_time": "2022-09-29T21:18:11.603Z"
   },
   {
    "duration": 12,
    "start_time": "2022-09-29T21:26:17.335Z"
   },
   {
    "duration": 3,
    "start_time": "2022-09-29T21:26:36.686Z"
   },
   {
    "duration": 267,
    "start_time": "2022-09-29T21:26:39.691Z"
   },
   {
    "duration": 861,
    "start_time": "2022-09-29T21:29:43.282Z"
   },
   {
    "duration": 9,
    "start_time": "2022-09-29T21:32:34.533Z"
   },
   {
    "duration": 26,
    "start_time": "2022-09-29T21:33:29.288Z"
   },
   {
    "duration": 1235,
    "start_time": "2022-09-29T21:41:00.841Z"
   },
   {
    "duration": 31,
    "start_time": "2022-09-29T21:41:02.078Z"
   },
   {
    "duration": 17,
    "start_time": "2022-09-29T21:41:02.111Z"
   },
   {
    "duration": 4,
    "start_time": "2022-09-29T21:41:02.130Z"
   },
   {
    "duration": 22,
    "start_time": "2022-09-29T21:41:02.136Z"
   },
   {
    "duration": 22,
    "start_time": "2022-09-29T21:41:02.159Z"
   },
   {
    "duration": 76,
    "start_time": "2022-09-29T21:41:02.183Z"
   },
   {
    "duration": 817,
    "start_time": "2022-09-29T21:41:02.261Z"
   },
   {
    "duration": 26,
    "start_time": "2022-09-29T21:41:03.080Z"
   },
   {
    "duration": 46,
    "start_time": "2022-09-29T21:45:22.255Z"
   },
   {
    "duration": 15047,
    "start_time": "2022-09-29T21:45:27.897Z"
   },
   {
    "duration": 4648,
    "start_time": "2022-09-29T21:46:15.328Z"
   },
   {
    "duration": 180,
    "start_time": "2022-09-29T21:46:55.041Z"
   },
   {
    "duration": 23478,
    "start_time": "2022-09-29T21:59:45.243Z"
   },
   {
    "duration": 23407,
    "start_time": "2022-09-29T22:01:00.773Z"
   },
   {
    "duration": 185,
    "start_time": "2022-09-29T22:01:35.634Z"
   },
   {
    "duration": 209,
    "start_time": "2022-09-29T22:01:47.195Z"
   },
   {
    "duration": 100,
    "start_time": "2022-09-29T22:04:13.029Z"
   },
   {
    "duration": 3,
    "start_time": "2022-09-29T22:04:30.024Z"
   },
   {
    "duration": 19,
    "start_time": "2022-09-29T22:04:35.142Z"
   },
   {
    "duration": 65,
    "start_time": "2022-09-29T22:05:10.758Z"
   },
   {
    "duration": 269,
    "start_time": "2022-09-29T22:06:24.643Z"
   },
   {
    "duration": 23741,
    "start_time": "2022-09-29T22:06:54.325Z"
   },
   {
    "duration": 23602,
    "start_time": "2022-09-29T22:07:24.497Z"
   },
   {
    "duration": 190,
    "start_time": "2022-09-29T22:07:53.968Z"
   },
   {
    "duration": 222,
    "start_time": "2022-09-29T22:08:06.801Z"
   },
   {
    "duration": 23752,
    "start_time": "2022-09-29T22:08:14.506Z"
   },
   {
    "duration": 222,
    "start_time": "2022-09-29T22:08:46.440Z"
   },
   {
    "duration": 19,
    "start_time": "2022-09-29T22:09:47.893Z"
   },
   {
    "duration": 141,
    "start_time": "2022-09-29T22:14:44.446Z"
   },
   {
    "duration": 20,
    "start_time": "2022-09-29T22:16:43.909Z"
   },
   {
    "duration": 22,
    "start_time": "2022-09-29T22:17:05.685Z"
   },
   {
    "duration": 22,
    "start_time": "2022-09-29T22:17:20.321Z"
   },
   {
    "duration": 20,
    "start_time": "2022-09-29T22:17:46.341Z"
   },
   {
    "duration": 7,
    "start_time": "2022-09-29T22:21:19.220Z"
   },
   {
    "duration": 8,
    "start_time": "2022-09-29T22:24:22.629Z"
   },
   {
    "duration": 6,
    "start_time": "2022-09-29T22:24:33.495Z"
   },
   {
    "duration": 22,
    "start_time": "2022-09-29T22:27:22.452Z"
   },
   {
    "duration": 1067,
    "start_time": "2022-09-29T22:27:35.269Z"
   },
   {
    "duration": 30,
    "start_time": "2022-09-29T22:27:36.338Z"
   },
   {
    "duration": 15,
    "start_time": "2022-09-29T22:27:36.370Z"
   },
   {
    "duration": 4,
    "start_time": "2022-09-29T22:27:36.387Z"
   },
   {
    "duration": 7,
    "start_time": "2022-09-29T22:27:36.392Z"
   },
   {
    "duration": 5,
    "start_time": "2022-09-29T22:27:36.400Z"
   },
   {
    "duration": 73,
    "start_time": "2022-09-29T22:27:36.407Z"
   },
   {
    "duration": 23488,
    "start_time": "2022-09-29T22:27:36.481Z"
   },
   {
    "duration": 19,
    "start_time": "2022-09-29T22:27:59.971Z"
   },
   {
    "duration": 125,
    "start_time": "2022-09-29T22:27:59.992Z"
   },
   {
    "duration": 0,
    "start_time": "2022-09-29T22:28:00.118Z"
   },
   {
    "duration": 19,
    "start_time": "2022-09-29T22:28:45.420Z"
   },
   {
    "duration": 7,
    "start_time": "2022-09-29T22:28:49.166Z"
   },
   {
    "duration": 6394,
    "start_time": "2022-09-29T22:40:26.909Z"
   },
   {
    "duration": 294,
    "start_time": "2022-09-29T22:40:33.306Z"
   },
   {
    "duration": 203,
    "start_time": "2022-09-29T22:40:33.602Z"
   },
   {
    "duration": 97,
    "start_time": "2022-09-29T22:40:33.810Z"
   },
   {
    "duration": 99,
    "start_time": "2022-09-29T22:40:34.001Z"
   },
   {
    "duration": 119,
    "start_time": "2022-09-29T22:40:34.102Z"
   },
   {
    "duration": 708,
    "start_time": "2022-09-29T22:40:34.301Z"
   },
   {
    "duration": 212104,
    "start_time": "2022-09-29T22:40:35.101Z"
   },
   {
    "duration": 100,
    "start_time": "2022-09-29T22:44:07.207Z"
   },
   {
    "duration": 489,
    "start_time": "2022-09-29T22:44:07.312Z"
   },
   {
    "duration": 200,
    "start_time": "2022-09-29T22:44:07.805Z"
   },
   {
    "duration": 1565,
    "start_time": "2022-09-30T18:06:24.036Z"
   },
   {
    "duration": 114,
    "start_time": "2022-09-30T18:06:25.603Z"
   },
   {
    "duration": 15,
    "start_time": "2022-09-30T18:06:25.719Z"
   },
   {
    "duration": 3,
    "start_time": "2022-09-30T18:06:25.736Z"
   },
   {
    "duration": 5,
    "start_time": "2022-09-30T18:06:25.741Z"
   },
   {
    "duration": 55,
    "start_time": "2022-09-30T18:06:25.748Z"
   },
   {
    "duration": 121,
    "start_time": "2022-09-30T18:06:25.804Z"
   },
   {
    "duration": 41846,
    "start_time": "2022-09-30T18:06:25.926Z"
   },
   {
    "duration": 15,
    "start_time": "2022-09-30T18:07:07.774Z"
   },
   {
    "duration": 24,
    "start_time": "2022-09-30T18:07:07.791Z"
   },
   {
    "duration": 5,
    "start_time": "2022-09-30T18:07:07.816Z"
   }
  ],
  "kernelspec": {
   "display_name": "Python 3",
   "language": "python",
   "name": "python3"
  },
  "language_info": {
   "codemirror_mode": {
    "name": "ipython",
    "version": 3
   },
   "file_extension": ".py",
   "mimetype": "text/x-python",
   "name": "python",
   "nbconvert_exporter": "python",
   "pygments_lexer": "ipython3",
   "version": "3.8.5"
  },
  "toc": {
   "base_numbering": 1,
   "nav_menu": {},
   "number_sections": true,
   "sideBar": true,
   "skip_h1_title": true,
   "title_cell": "Table of Contents",
   "title_sidebar": "Contents",
   "toc_cell": false,
   "toc_position": {
    "height": "calc(100% - 180px)",
    "left": "10px",
    "top": "150px",
    "width": "197.391px"
   },
   "toc_section_display": true,
   "toc_window_display": false
  }
 },
 "nbformat": 4,
 "nbformat_minor": 2
}
