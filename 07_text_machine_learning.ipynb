{
 "cells": [
  {
   "cell_type": "markdown",
   "metadata": {},
   "source": [
    "# Проект для «Викишоп»"
   ]
  },
  {
   "cell_type": "markdown",
   "metadata": {},
   "source": [
    "Интернет-магазин «Викишоп» запускает новый сервис. Теперь пользователи могут редактировать и дополнять описания товаров, как в вики-сообществах. То есть клиенты предлагают свои правки и комментируют изменения других. Магазину нужен инструмент, который будет искать токсичные комментарии и отправлять их на модерацию. \n",
    "\n",
    "Обучите модель классифицировать комментарии на позитивные и негативные. В вашем распоряжении набор данных с разметкой о токсичности правок.\n",
    "\n",
    "Постройте модель со значением метрики качества *F1* не меньше 0.75. "
   ]
  },
  {
   "cell_type": "markdown",
   "metadata": {
    "toc": true
   },
   "source": [
    "<h1>Содержание<span class=\"tocSkip\"></span></h1>\n",
    "<div class=\"toc\"><ul class=\"toc-item\"><li><span><a href=\"#Подготовка\" data-toc-modified-id=\"Подготовка-1\"><span class=\"toc-item-num\">1&nbsp;&nbsp;</span>Подготовка</a></span></li><li><span><a href=\"#Обучение\" data-toc-modified-id=\"Обучение-2\"><span class=\"toc-item-num\">2&nbsp;&nbsp;</span>Обучение</a></span><ul </ul></li></ul></li><li><span><a href=\"#Выводы\" data-toc-modified-id=\"Выводы-3\"><span class=\"toc-item-num\">3&nbsp;&nbsp;</span>Выводы</a></span></li>"
   ]
  },
  {
   "cell_type": "markdown",
   "metadata": {},
   "source": [
    "## Подготовка"
   ]
  },
  {
   "cell_type": "code",
   "execution_count": 2,
   "metadata": {},
   "outputs": [],
   "source": [
    "import pandas as pd\n",
    "import seaborn as sns\n",
    "import torch\n",
    "import transformers as ppb\n",
    "import spacy\n",
    "import re\n",
    "import numpy as np\n",
    "import nltk\n",
    "import pickle\n",
    "import optuna\n",
    "import lightgbm as lgb\n",
    "from nltk.corpus import stopwords\n",
    "from tqdm import notebook \n",
    "from sklearn.feature_extraction.text import TfidfVectorizer\n",
    "from sklearn.model_selection import train_test_split \n",
    "from sklearn.linear_model import LogisticRegression\n",
    "from sklearn.tree import DecisionTreeClassifier\n",
    "from sklearn.ensemble import RandomForestClassifier\n",
    "from catboost import CatBoostClassifier \n",
    "from sklearn.model_selection import GridSearchCV\n",
    "from sklearn.model_selection import cross_val_score\n",
    "from sklearn.feature_extraction.text import CountVectorizer\n",
    "from sklearn.feature_extraction.text import TfidfTransformer\n",
    "from sklearn.linear_model import SGDClassifier\n",
    "from sklearn.pipeline import Pipeline\n",
    "from sklearn.metrics import accuracy_score, f1_score, make_scorer\n",
    "import warnings\n",
    "warnings.filterwarnings('ignore')"
   ]
  },
  {
   "cell_type": "code",
   "execution_count": 3,
   "metadata": {},
   "outputs": [],
   "source": [
    "data = pd.read_csv('https://code.s3.yandex.net/datasets/toxic_comments.csv')"
   ]
  },
  {
   "cell_type": "code",
   "execution_count": 4,
   "metadata": {},
   "outputs": [
    {
     "data": {
      "text/html": [
       "<div>\n",
       "<style scoped>\n",
       "    .dataframe tbody tr th:only-of-type {\n",
       "        vertical-align: middle;\n",
       "    }\n",
       "\n",
       "    .dataframe tbody tr th {\n",
       "        vertical-align: top;\n",
       "    }\n",
       "\n",
       "    .dataframe thead th {\n",
       "        text-align: right;\n",
       "    }\n",
       "</style>\n",
       "<table border=\"1\" class=\"dataframe\">\n",
       "  <thead>\n",
       "    <tr style=\"text-align: right;\">\n",
       "      <th></th>\n",
       "      <th>Unnamed: 0</th>\n",
       "      <th>text</th>\n",
       "      <th>toxic</th>\n",
       "    </tr>\n",
       "  </thead>\n",
       "  <tbody>\n",
       "    <tr>\n",
       "      <th>159287</th>\n",
       "      <td>159446</td>\n",
       "      <td>\":::::And for the second time of asking, when ...</td>\n",
       "      <td>0</td>\n",
       "    </tr>\n",
       "    <tr>\n",
       "      <th>159288</th>\n",
       "      <td>159447</td>\n",
       "      <td>You should be ashamed of yourself \\n\\nThat is ...</td>\n",
       "      <td>0</td>\n",
       "    </tr>\n",
       "    <tr>\n",
       "      <th>159289</th>\n",
       "      <td>159448</td>\n",
       "      <td>Spitzer \\n\\nUmm, theres no actual article for ...</td>\n",
       "      <td>0</td>\n",
       "    </tr>\n",
       "    <tr>\n",
       "      <th>159290</th>\n",
       "      <td>159449</td>\n",
       "      <td>And it looks like it was actually you who put ...</td>\n",
       "      <td>0</td>\n",
       "    </tr>\n",
       "    <tr>\n",
       "      <th>159291</th>\n",
       "      <td>159450</td>\n",
       "      <td>\"\\nAnd ... I really don't think you understand...</td>\n",
       "      <td>0</td>\n",
       "    </tr>\n",
       "  </tbody>\n",
       "</table>\n",
       "</div>"
      ],
      "text/plain": [
       "        Unnamed: 0                                               text  toxic\n",
       "159287      159446  \":::::And for the second time of asking, when ...      0\n",
       "159288      159447  You should be ashamed of yourself \\n\\nThat is ...      0\n",
       "159289      159448  Spitzer \\n\\nUmm, theres no actual article for ...      0\n",
       "159290      159449  And it looks like it was actually you who put ...      0\n",
       "159291      159450  \"\\nAnd ... I really don't think you understand...      0"
      ]
     },
     "execution_count": 4,
     "metadata": {},
     "output_type": "execute_result"
    }
   ],
   "source": [
    "data.tail()"
   ]
  },
  {
   "cell_type": "code",
   "execution_count": 5,
   "metadata": {},
   "outputs": [
    {
     "data": {
      "text/plain": [
       "159292"
      ]
     },
     "execution_count": 5,
     "metadata": {},
     "output_type": "execute_result"
    }
   ],
   "source": [
    "data['Unnamed: 0'].value_counts().sum()"
   ]
  },
  {
   "cell_type": "code",
   "execution_count": 6,
   "metadata": {},
   "outputs": [
    {
     "data": {
      "text/plain": [
       "0    143106\n",
       "1     16186\n",
       "Name: toxic, dtype: int64"
      ]
     },
     "execution_count": 6,
     "metadata": {},
     "output_type": "execute_result"
    }
   ],
   "source": [
    "data['toxic'].value_counts()"
   ]
  },
  {
   "cell_type": "code",
   "execution_count": 7,
   "metadata": {},
   "outputs": [
    {
     "data": {
      "text/plain": [
       "<AxesSubplot: xlabel='toxic', ylabel='count'>"
      ]
     },
     "execution_count": 7,
     "metadata": {},
     "output_type": "execute_result"
    },
    {
     "data": {
      "image/png": "[encoded data removed]",
      "text/plain": [
       "<Figure size 640x480 with 1 Axes>"
      ]
     },
     "metadata": {},
     "output_type": "display_data"
    }
   ],
   "source": [
    "sns.countplot(x = 'toxic', data = data)"
   ]
  },
  {
   "cell_type": "code",
   "execution_count": 8,
   "metadata": {},
   "outputs": [
    {
     "data": {
      "text/html": [
       "<div>\n",
       "<style scoped>\n",
       "    .dataframe tbody tr th:only-of-type {\n",
       "        vertical-align: middle;\n",
       "    }\n",
       "\n",
       "    .dataframe tbody tr th {\n",
       "        vertical-align: top;\n",
       "    }\n",
       "\n",
       "    .dataframe thead th {\n",
       "        text-align: right;\n",
       "    }\n",
       "</style>\n",
       "<table border=\"1\" class=\"dataframe\">\n",
       "  <thead>\n",
       "    <tr style=\"text-align: right;\">\n",
       "      <th></th>\n",
       "      <th>Unnamed: 0</th>\n",
       "      <th>text</th>\n",
       "      <th>toxic</th>\n",
       "    </tr>\n",
       "  </thead>\n",
       "  <tbody>\n",
       "    <tr>\n",
       "      <th>6080</th>\n",
       "      <td>6084</td>\n",
       "      <td>\"::I'll alos be looking in to see how this is ...</td>\n",
       "      <td>0</td>\n",
       "    </tr>\n",
       "    <tr>\n",
       "      <th>6081</th>\n",
       "      <td>6085</td>\n",
       "      <td>\"\\n\\nThe Ezekiel passage is quoted in the Molo...</td>\n",
       "      <td>0</td>\n",
       "    </tr>\n",
       "    <tr>\n",
       "      <th>6082</th>\n",
       "      <td>6086</td>\n",
       "      <td>Thank you for experimenting with  Wikipedia. Y...</td>\n",
       "      <td>0</td>\n",
       "    </tr>\n",
       "    <tr>\n",
       "      <th>6083</th>\n",
       "      <td>6087</td>\n",
       "      <td>Any complaints with that as the new wording?</td>\n",
       "      <td>0</td>\n",
       "    </tr>\n",
       "    <tr>\n",
       "      <th>6084</th>\n",
       "      <td>6088</td>\n",
       "      <td>\"\\nI also disagree with the merge as Strength ...</td>\n",
       "      <td>0</td>\n",
       "    </tr>\n",
       "    <tr>\n",
       "      <th>...</th>\n",
       "      <td>...</td>\n",
       "      <td>...</td>\n",
       "      <td>...</td>\n",
       "    </tr>\n",
       "    <tr>\n",
       "      <th>159287</th>\n",
       "      <td>159446</td>\n",
       "      <td>\":::::And for the second time of asking, when ...</td>\n",
       "      <td>0</td>\n",
       "    </tr>\n",
       "    <tr>\n",
       "      <th>159288</th>\n",
       "      <td>159447</td>\n",
       "      <td>You should be ashamed of yourself \\n\\nThat is ...</td>\n",
       "      <td>0</td>\n",
       "    </tr>\n",
       "    <tr>\n",
       "      <th>159289</th>\n",
       "      <td>159448</td>\n",
       "      <td>Spitzer \\n\\nUmm, theres no actual article for ...</td>\n",
       "      <td>0</td>\n",
       "    </tr>\n",
       "    <tr>\n",
       "      <th>159290</th>\n",
       "      <td>159449</td>\n",
       "      <td>And it looks like it was actually you who put ...</td>\n",
       "      <td>0</td>\n",
       "    </tr>\n",
       "    <tr>\n",
       "      <th>159291</th>\n",
       "      <td>159450</td>\n",
       "      <td>\"\\nAnd ... I really don't think you understand...</td>\n",
       "      <td>0</td>\n",
       "    </tr>\n",
       "  </tbody>\n",
       "</table>\n",
       "<p>153212 rows × 3 columns</p>\n",
       "</div>"
      ],
      "text/plain": [
       "        Unnamed: 0                                               text  toxic\n",
       "6080          6084  \"::I'll alos be looking in to see how this is ...      0\n",
       "6081          6085  \"\\n\\nThe Ezekiel passage is quoted in the Molo...      0\n",
       "6082          6086  Thank you for experimenting with  Wikipedia. Y...      0\n",
       "6083          6087       Any complaints with that as the new wording?      0\n",
       "6084          6088  \"\\nI also disagree with the merge as Strength ...      0\n",
       "...            ...                                                ...    ...\n",
       "159287      159446  \":::::And for the second time of asking, when ...      0\n",
       "159288      159447  You should be ashamed of yourself \\n\\nThat is ...      0\n",
       "159289      159448  Spitzer \\n\\nUmm, theres no actual article for ...      0\n",
       "159290      159449  And it looks like it was actually you who put ...      0\n",
       "159291      159450  \"\\nAnd ... I really don't think you understand...      0\n",
       "\n",
       "[153212 rows x 3 columns]"
      ]
     },
     "execution_count": 8,
     "metadata": {},
     "output_type": "execute_result"
    }
   ],
   "source": [
    "data.loc[data['Unnamed: 0']>data.index]"
   ]
  },
  {
   "cell_type": "code",
   "execution_count": 9,
   "metadata": {},
   "outputs": [
    {
     "data": {
      "text/html": [
       "<div>\n",
       "<style scoped>\n",
       "    .dataframe tbody tr th:only-of-type {\n",
       "        vertical-align: middle;\n",
       "    }\n",
       "\n",
       "    .dataframe tbody tr th {\n",
       "        vertical-align: top;\n",
       "    }\n",
       "\n",
       "    .dataframe thead th {\n",
       "        text-align: right;\n",
       "    }\n",
       "</style>\n",
       "<table border=\"1\" class=\"dataframe\">\n",
       "  <thead>\n",
       "    <tr style=\"text-align: right;\">\n",
       "      <th></th>\n",
       "      <th>Unnamed: 0</th>\n",
       "      <th>text</th>\n",
       "      <th>toxic</th>\n",
       "    </tr>\n",
       "  </thead>\n",
       "  <tbody>\n",
       "    <tr>\n",
       "      <th>6079</th>\n",
       "      <td>6079</td>\n",
       "      <td>Hrafn \\n\\nPM, Where did Hrafn go? There was a ...</td>\n",
       "      <td>0</td>\n",
       "    </tr>\n",
       "  </tbody>\n",
       "</table>\n",
       "</div>"
      ],
      "text/plain": [
       "      Unnamed: 0                                               text  toxic\n",
       "6079        6079  Hrafn \\n\\nPM, Where did Hrafn go? There was a ...      0"
      ]
     },
     "execution_count": 9,
     "metadata": {},
     "output_type": "execute_result"
    }
   ],
   "source": [
    "data.loc[[6079]]"
   ]
  },
  {
   "cell_type": "code",
   "execution_count": 10,
   "metadata": {},
   "outputs": [
    {
     "data": {
      "text/html": [
       "<div>\n",
       "<style scoped>\n",
       "    .dataframe tbody tr th:only-of-type {\n",
       "        vertical-align: middle;\n",
       "    }\n",
       "\n",
       "    .dataframe tbody tr th {\n",
       "        vertical-align: top;\n",
       "    }\n",
       "\n",
       "    .dataframe thead th {\n",
       "        text-align: right;\n",
       "    }\n",
       "</style>\n",
       "<table border=\"1\" class=\"dataframe\">\n",
       "  <thead>\n",
       "    <tr style=\"text-align: right;\">\n",
       "      <th></th>\n",
       "      <th>text</th>\n",
       "      <th>toxic</th>\n",
       "    </tr>\n",
       "  </thead>\n",
       "  <tbody>\n",
       "    <tr>\n",
       "      <th>0</th>\n",
       "      <td>Explanation\\nWhy the edits made under my usern...</td>\n",
       "      <td>0</td>\n",
       "    </tr>\n",
       "    <tr>\n",
       "      <th>1</th>\n",
       "      <td>D'aww! He matches this background colour I'm s...</td>\n",
       "      <td>0</td>\n",
       "    </tr>\n",
       "    <tr>\n",
       "      <th>2</th>\n",
       "      <td>Hey man, I'm really not trying to edit war. It...</td>\n",
       "      <td>0</td>\n",
       "    </tr>\n",
       "    <tr>\n",
       "      <th>3</th>\n",
       "      <td>\"\\nMore\\nI can't make any real suggestions on ...</td>\n",
       "      <td>0</td>\n",
       "    </tr>\n",
       "    <tr>\n",
       "      <th>4</th>\n",
       "      <td>You, sir, are my hero. Any chance you remember...</td>\n",
       "      <td>0</td>\n",
       "    </tr>\n",
       "  </tbody>\n",
       "</table>\n",
       "</div>"
      ],
      "text/plain": [
       "                                                text  toxic\n",
       "0  Explanation\\nWhy the edits made under my usern...      0\n",
       "1  D'aww! He matches this background colour I'm s...      0\n",
       "2  Hey man, I'm really not trying to edit war. It...      0\n",
       "3  \"\\nMore\\nI can't make any real suggestions on ...      0\n",
       "4  You, sir, are my hero. Any chance you remember...      0"
      ]
     },
     "execution_count": 10,
     "metadata": {},
     "output_type": "execute_result"
    }
   ],
   "source": [
    "data=data.drop('Unnamed: 0', axis=1)\n",
    "data.head()"
   ]
  },
  {
   "cell_type": "code",
   "execution_count": 12,
   "metadata": {},
   "outputs": [],
   "source": [
    "parse = spacy.load('en_core_web_sm')\n",
    "\n",
    "def normalize(s, exceptions={\"PUNCT\", \"SPACE\"}): \n",
    "    doc = parse(s)\n",
    "    return \" \".join([token.lemma_ for token in doc if token.pos_ not in exceptions])"
   ]
  },
  {
   "cell_type": "code",
   "execution_count": 13,
   "metadata": {},
   "outputs": [],
   "source": [
    "def clear_text(text):\n",
    "    clear_text = re.sub(r'[^a-zA-Z]', ' ', text).split()\n",
    "    clear_text = \" \".join(clear_text)\n",
    "    return clear_text "
   ]
  },
  {
   "cell_type": "code",
   "execution_count": 14,
   "metadata": {},
   "outputs": [
    {
     "data": {
      "text/html": [
       "<div>\n",
       "<style scoped>\n",
       "    .dataframe tbody tr th:only-of-type {\n",
       "        vertical-align: middle;\n",
       "    }\n",
       "\n",
       "    .dataframe tbody tr th {\n",
       "        vertical-align: top;\n",
       "    }\n",
       "\n",
       "    .dataframe thead th {\n",
       "        text-align: right;\n",
       "    }\n",
       "</style>\n",
       "<table border=\"1\" class=\"dataframe\">\n",
       "  <thead>\n",
       "    <tr style=\"text-align: right;\">\n",
       "      <th></th>\n",
       "      <th>text</th>\n",
       "      <th>toxic</th>\n",
       "    </tr>\n",
       "  </thead>\n",
       "  <tbody>\n",
       "    <tr>\n",
       "      <th>0</th>\n",
       "      <td>Explanation why the edit make under my usernam...</td>\n",
       "      <td>0</td>\n",
       "    </tr>\n",
       "    <tr>\n",
       "      <th>1</th>\n",
       "      <td>D aww he match this background colour I m seem...</td>\n",
       "      <td>0</td>\n",
       "    </tr>\n",
       "    <tr>\n",
       "      <th>2</th>\n",
       "      <td>hey man I m really not try to edit war it s ju...</td>\n",
       "      <td>0</td>\n",
       "    </tr>\n",
       "    <tr>\n",
       "      <th>3</th>\n",
       "      <td>More I can t make any real suggestion on impro...</td>\n",
       "      <td>0</td>\n",
       "    </tr>\n",
       "    <tr>\n",
       "      <th>4</th>\n",
       "      <td>you sir be my hero any chance you remember wha...</td>\n",
       "      <td>0</td>\n",
       "    </tr>\n",
       "  </tbody>\n",
       "</table>\n",
       "</div>"
      ],
      "text/plain": [
       "                                                text  toxic\n",
       "0  Explanation why the edit make under my usernam...      0\n",
       "1  D aww he match this background colour I m seem...      0\n",
       "2  hey man I m really not try to edit war it s ju...      0\n",
       "3  More I can t make any real suggestion on impro...      0\n",
       "4  you sir be my hero any chance you remember wha...      0"
      ]
     },
     "execution_count": 14,
     "metadata": {},
     "output_type": "execute_result"
    }
   ],
   "source": [
    "data[\"text\"] = data[\"text\"].apply(lambda t: (normalize(clear_text(t))))\n",
    "data.head()"
   ]
  },
  {
   "cell_type": "markdown",
   "metadata": {},
   "source": [
    "Обработала текст"
   ]
  },
  {
   "cell_type": "code",
   "execution_count": 15,
   "metadata": {
    "scrolled": true
   },
   "outputs": [],
   "source": [
    "# Разделяю на признаки и целевой признак\n",
    "features=data['text']\n",
    "target=data['toxic']"
   ]
  },
  {
   "cell_type": "code",
   "execution_count": 16,
   "metadata": {},
   "outputs": [],
   "source": [
    "# Разделяю на обучающую  и тестовую\n",
    "features_train, features_test, target_train, target_test=train_test_split(\n",
    "    features, target, test_size=0.3,random_state=19191)"
   ]
  },
  {
   "cell_type": "code",
   "execution_count": 17,
   "metadata": {},
   "outputs": [
    {
     "name": "stderr",
     "output_type": "stream",
     "text": [
      "[nltk_data] Downloading package stopwords to\n",
      "[nltk_data]     C:\\Users\\Анна\\AppData\\Roaming\\nltk_data...\n",
      "[nltk_data]   Package stopwords is already up-to-date!\n"
     ]
    }
   ],
   "source": [
    "nltk.download('stopwords')# загружаю стоп слова\n",
    "stopwords = set(stopwords.words('english'))"
   ]
  },
  {
   "cell_type": "code",
   "execution_count": 18,
   "metadata": {},
   "outputs": [],
   "source": [
    "count_tf_idf = TfidfVectorizer(stop_words=stopwords)"
   ]
  },
  {
   "cell_type": "markdown",
   "metadata": {},
   "source": [
    "Таким образом, в наших данных представлены Текст и целевой признак - токсичные комментарии. В датасете 153212 строк, к сожалению, мои мощности не позволяют обработать его целиком, я выбрала 30000 строк. Выбранные данные были обработаны и переведены в векторный вид"
   ]
  },
  {
   "cell_type": "markdown",
   "metadata": {},
   "source": [
    "## Обучение"
   ]
  },
  {
   "cell_type": "markdown",
   "metadata": {},
   "source": [
    "#### LogisticRegression"
   ]
  },
  {
   "cell_type": "code",
   "execution_count": 21,
   "metadata": {},
   "outputs": [],
   "source": [
    "pipeline = Pipeline(\n",
    "    [\n",
    "        (\"vect\", CountVectorizer(stop_words=stopwords)),\n",
    "        (\"tfidf\", TfidfTransformer()),\n",
    "        (\"clf\", LogisticRegression(class_weight='balanced',random_state=19191)),\n",
    "    ]\n",
    ")\n",
    "\n",
    "\n",
    "parameters = {\n",
    "    \"vect__max_df\": (0.3, 0.5),\n",
    "    'vect__max_features': (None, 5000),\n",
    "    \"vect__ngram_range\": ((1, 1), (1, 3)),\n",
    "    \"clf__max_iter\": (40, 50, 60),\n",
    "    'tfidf__norm': ('l2', None)\n",
    "}"
   ]
  },
  {
   "cell_type": "code",
   "execution_count": 23,
   "metadata": {},
   "outputs": [
    {
     "name": "stdout",
     "output_type": "stream",
     "text": [
      "Performing grid search...\n",
      "pipeline: ['vect', 'tfidf', 'clf']\n",
      "parameters:\n",
      "{'vect__max_df': (0.3, 0.5), 'vect__max_features': (None, 5000), 'vect__ngram_range': ((1, 1), (1, 3)), 'clf__max_iter': (40, 50, 60), 'tfidf__norm': ('l2', None)}\n",
      "Fitting 5 folds for each of 48 candidates, totalling 240 fits\n",
      "Best score: 0.778\n",
      "Best parameters set:\n",
      "\tclf__max_iter: 40\n",
      "\ttfidf__norm: None\n",
      "\tvect__max_df: 0.3\n",
      "\tvect__max_features: None\n",
      "\tvect__ngram_range: (1, 3)\n"
     ]
    }
   ],
   "source": [
    "grid_search = GridSearchCV(pipeline, parameters, scoring=\"f1\", n_jobs=-1, verbose=1)\n",
    "\n",
    "print(\"Performing grid search...\")\n",
    "print(\"pipeline:\", [name for name, _ in pipeline.steps])\n",
    "print(\"parameters:\")\n",
    "print(parameters)\n",
    "\n",
    "grid_search.fit(features_train, target_train)\n",
    "\n",
    "print(\"Best score: %0.3f\" % grid_search.best_score_)\n",
    "print(\"Best parameters set:\")\n",
    "best_parameters = grid_search.best_estimator_.get_params()\n",
    "for param_name in sorted(parameters.keys()):\n",
    "    print(\"\\t%s: %r\" % (param_name, best_parameters[param_name]))"
   ]
  },
  {
   "cell_type": "code",
   "execution_count": 24,
   "metadata": {},
   "outputs": [],
   "source": [
    "predictions_lr = grid_search.predict(features_test)"
   ]
  },
  {
   "cell_type": "code",
   "execution_count": 25,
   "metadata": {},
   "outputs": [
    {
     "data": {
      "text/plain": [
       "0.7814614343707713"
      ]
     },
     "execution_count": 25,
     "metadata": {},
     "output_type": "execute_result"
    }
   ],
   "source": [
    "f1_score_lr = f1_score(target_test, predictions_lr)\n",
    "f1_score_lr"
   ]
  },
  {
   "cell_type": "markdown",
   "metadata": {},
   "source": [
    "## Выводы"
   ]
  },
  {
   "cell_type": "markdown",
   "metadata": {},
   "source": [
    "В моем распоряжении был набор данных с разметкой о токсичности правок. Я выбранные данные были обработаны и переведены в векторный вид для обучения моделей классификации комментариев на позитивные и негативные. \n",
    "Я сравнивала 3 модели: Logistic Regression, LGBMClassifier и CatBoostClassifier по метрике f1. Лучшей моделью стал Logistic Regression с показателем  0.781 на тестовой выборке"
   ]
  }
 ],
 "metadata": {
  "ExecuteTimeLog": [
   {
    "duration": 56,
    "start_time": "2022-11-27T13:03:41.548Z"
   },
   {
    "duration": 355,
    "start_time": "2022-11-27T13:03:53.586Z"
   },
   {
    "duration": 3456,
    "start_time": "2022-11-27T13:03:54.913Z"
   },
   {
    "duration": 14,
    "start_time": "2022-11-27T13:04:01.677Z"
   },
   {
    "duration": 2,
    "start_time": "2022-11-27T18:42:58.960Z"
   },
   {
    "duration": 12282,
    "start_time": "2022-11-29T05:25:51.823Z"
   },
   {
    "duration": 0,
    "start_time": "2022-11-29T05:26:04.106Z"
   },
   {
    "duration": 0,
    "start_time": "2022-11-29T05:26:04.107Z"
   },
   {
    "duration": 0,
    "start_time": "2022-11-29T05:26:04.109Z"
   },
   {
    "duration": 0,
    "start_time": "2022-11-29T05:26:04.110Z"
   },
   {
    "duration": 0,
    "start_time": "2022-11-29T05:26:04.111Z"
   },
   {
    "duration": 0,
    "start_time": "2022-11-29T05:26:04.112Z"
   },
   {
    "duration": 0,
    "start_time": "2022-11-29T05:26:04.113Z"
   },
   {
    "duration": 0,
    "start_time": "2022-11-29T05:26:04.113Z"
   },
   {
    "duration": 0,
    "start_time": "2022-11-29T05:26:04.114Z"
   },
   {
    "duration": 0,
    "start_time": "2022-11-29T05:26:04.136Z"
   },
   {
    "duration": 0,
    "start_time": "2022-11-29T05:26:04.138Z"
   },
   {
    "duration": 0,
    "start_time": "2022-11-29T05:26:04.139Z"
   },
   {
    "duration": 15,
    "start_time": "2022-11-29T05:26:43.144Z"
   },
   {
    "duration": 14737,
    "start_time": "2022-11-29T05:27:30.529Z"
   },
   {
    "duration": 3,
    "start_time": "2022-11-29T05:27:46.899Z"
   },
   {
    "duration": 246,
    "start_time": "2022-11-29T05:27:47.296Z"
   },
   {
    "duration": 2747,
    "start_time": "2022-11-29T05:27:48.328Z"
   },
   {
    "duration": 15,
    "start_time": "2022-11-29T05:27:51.077Z"
   },
   {
    "duration": 16,
    "start_time": "2022-11-29T05:27:51.217Z"
   },
   {
    "duration": 6,
    "start_time": "2022-11-29T05:27:51.757Z"
   },
   {
    "duration": 124,
    "start_time": "2022-11-29T05:27:51.929Z"
   },
   {
    "duration": 20,
    "start_time": "2022-11-29T05:27:52.106Z"
   },
   {
    "duration": 8,
    "start_time": "2022-11-29T05:27:52.753Z"
   },
   {
    "duration": 16,
    "start_time": "2022-11-29T05:27:53.520Z"
   },
   {
    "duration": 14,
    "start_time": "2022-11-29T05:27:54.817Z"
   },
   {
    "duration": 994,
    "start_time": "2022-11-29T05:27:58.006Z"
   },
   {
    "duration": 3,
    "start_time": "2022-11-29T05:27:59.002Z"
   },
   {
    "duration": 43,
    "start_time": "2022-11-29T05:28:02.307Z"
   },
   {
    "duration": 24,
    "start_time": "2022-11-29T05:28:26.797Z"
   },
   {
    "duration": 45,
    "start_time": "2022-11-29T05:28:35.245Z"
   },
   {
    "duration": 42,
    "start_time": "2022-11-29T05:28:39.456Z"
   },
   {
    "duration": 49,
    "start_time": "2022-11-29T05:29:19.883Z"
   },
   {
    "duration": 30,
    "start_time": "2022-11-29T05:29:54.947Z"
   },
   {
    "duration": 62,
    "start_time": "2022-11-29T05:30:04.617Z"
   },
   {
    "duration": 428793,
    "start_time": "2022-11-29T05:48:45.751Z"
   },
   {
    "duration": 3,
    "start_time": "2022-11-29T05:55:54.546Z"
   },
   {
    "duration": 29,
    "start_time": "2022-11-29T05:55:54.550Z"
   },
   {
    "duration": 154,
    "start_time": "2022-11-29T05:55:54.583Z"
   },
   {
    "duration": 3,
    "start_time": "2022-11-29T05:55:54.739Z"
   },
   {
    "duration": 1282,
    "start_time": "2022-11-29T05:55:54.744Z"
   },
   {
    "duration": 4,
    "start_time": "2022-11-29T05:55:56.028Z"
   },
   {
    "duration": 26,
    "start_time": "2022-11-29T05:55:56.034Z"
   },
   {
    "duration": 210593,
    "start_time": "2022-11-29T05:55:56.062Z"
   },
   {
    "duration": 134493,
    "start_time": "2022-11-29T05:59:52.950Z"
   },
   {
    "duration": 130721,
    "start_time": "2022-11-29T06:02:07.536Z"
   },
   {
    "duration": 0,
    "start_time": "2022-11-29T06:04:18.259Z"
   },
   {
    "duration": 157631,
    "start_time": "2022-11-29T06:05:33.623Z"
   },
   {
    "duration": 45,
    "start_time": "2022-11-29T06:22:32.851Z"
   },
   {
    "duration": 3,
    "start_time": "2022-11-29T06:22:38.009Z"
   },
   {
    "duration": 5916,
    "start_time": "2022-11-29T06:22:38.014Z"
   },
   {
    "duration": 0,
    "start_time": "2022-11-29T06:22:43.933Z"
   },
   {
    "duration": 0,
    "start_time": "2022-11-29T06:22:43.934Z"
   },
   {
    "duration": 0,
    "start_time": "2022-11-29T06:22:43.935Z"
   },
   {
    "duration": 0,
    "start_time": "2022-11-29T06:22:43.937Z"
   },
   {
    "duration": 0,
    "start_time": "2022-11-29T06:22:43.938Z"
   },
   {
    "duration": 0,
    "start_time": "2022-11-29T06:22:43.952Z"
   },
   {
    "duration": 0,
    "start_time": "2022-11-29T06:22:43.953Z"
   },
   {
    "duration": 0,
    "start_time": "2022-11-29T06:22:43.955Z"
   },
   {
    "duration": 0,
    "start_time": "2022-11-29T06:22:43.956Z"
   },
   {
    "duration": 0,
    "start_time": "2022-11-29T06:22:43.957Z"
   },
   {
    "duration": 0,
    "start_time": "2022-11-29T06:22:43.958Z"
   },
   {
    "duration": 0,
    "start_time": "2022-11-29T06:22:43.959Z"
   },
   {
    "duration": 0,
    "start_time": "2022-11-29T06:22:43.960Z"
   },
   {
    "duration": 0,
    "start_time": "2022-11-29T06:22:43.961Z"
   },
   {
    "duration": 0,
    "start_time": "2022-11-29T06:22:43.962Z"
   },
   {
    "duration": 0,
    "start_time": "2022-11-29T06:22:43.963Z"
   },
   {
    "duration": 0,
    "start_time": "2022-11-29T06:22:43.965Z"
   },
   {
    "duration": 0,
    "start_time": "2022-11-29T06:22:43.966Z"
   },
   {
    "duration": 0,
    "start_time": "2022-11-29T06:22:43.967Z"
   },
   {
    "duration": 0,
    "start_time": "2022-11-29T06:22:43.968Z"
   },
   {
    "duration": 0,
    "start_time": "2022-11-29T06:22:43.969Z"
   },
   {
    "duration": 0,
    "start_time": "2022-11-29T06:22:43.970Z"
   },
   {
    "duration": 0,
    "start_time": "2022-11-29T06:22:43.971Z"
   },
   {
    "duration": 0,
    "start_time": "2022-11-29T06:22:43.973Z"
   }
  ],
  "kernelspec": {
   "display_name": "Python 3",
   "language": "python",
   "name": "python3"
  },
  "language_info": {
   "codemirror_mode": {
    "name": "ipython",
    "version": 3
   },
   "file_extension": ".py",
   "mimetype": "text/x-python",
   "name": "python",
   "nbconvert_exporter": "python",
   "pygments_lexer": "ipython3",
   "version": "3.8.5"
  },
  "toc": {
   "base_numbering": 1,
   "nav_menu": {},
   "number_sections": true,
   "sideBar": true,
   "skip_h1_title": true,
   "title_cell": "Содержание",
   "title_sidebar": "Contents",
   "toc_cell": true,
   "toc_position": {
    "height": "calc(100% - 180px)",
    "left": "10px",
    "top": "150px",
    "width": "302.391px"
   },
   "toc_section_display": true,
   "toc_window_display": false
  }
 },
 "nbformat": 4,
 "nbformat_minor": 2
}
