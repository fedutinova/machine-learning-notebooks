{
 "cells": [
  {
   "cell_type": "markdown",
   "metadata": {},
   "source": [
    "# Отток клиентов"
   ]
  },
  {
   "cell_type": "markdown",
   "metadata": {},
   "source": [
    "Из «Бета-Банка» стали уходить клиенты. Каждый месяц. Немного, но заметно. Банковские маркетологи посчитали: сохранять текущих клиентов дешевле, чем привлекать новых.\n",
    "\n",
    "Нужно спрогнозировать, уйдёт клиент из банка в ближайшее время или нет. Вам предоставлены исторические данные о поведении клиентов и расторжении договоров с банком. \n",
    "\n",
    "Постройте модель с предельно большим значением *F1*-меры. Чтобы сдать проект успешно, нужно довести метрику до 0.59. Проверьте *F1*-меру на тестовой выборке самостоятельно.\n",
    "\n",
    "Дополнительно измеряйте *AUC-ROC*, сравнивайте её значение с *F1*-мерой.\n",
    "\n",
    "Источник данных: [https://www.kaggle.com/barelydedicated/bank-customer-churn-modeling](https://www.kaggle.com/barelydedicated/bank-customer-churn-modeling)"
   ]
  },
  {
   "cell_type": "markdown",
   "metadata": {
    "toc": true
   },
   "source": [
    "<h1>Содержание<span class=\"tocSkip\"></span></h1>\n",
    "<div class=\"toc\"><ul class=\"toc-item\"><li><span><a href=\"#Подготовка-данных\" data-toc-modified-id=\"Подготовка-данных-1\"><span class=\"toc-item-num\">1&nbsp;&nbsp;</span>Подготовка данных</a></span></li><li><span><a href=\"#Исследование-задачи\" data-toc-modified-id=\"Исследование-задачи-2\"><span class=\"toc-item-num\">2&nbsp;&nbsp;</span>Исследование задачи</a></span><ul class=\"toc-item\"><li><span><a href=\"#Дерево-Решений\" data-toc-modified-id=\"Дерево-Решений-2.1\"><span class=\"toc-item-num\">2.1&nbsp;&nbsp;</span>Дерево Решений</a></span></li><li><span><a href=\"#Cлучайный-лес\" data-toc-modified-id=\"Cлучайный-лес-2.2\"><span class=\"toc-item-num\">2.2&nbsp;&nbsp;</span>Cлучайный лес</a></span></li><li><span><a href=\"#Логистическая-регрессия\" data-toc-modified-id=\"Логистическая-регрессия-2.3\"><span class=\"toc-item-num\">2.3&nbsp;&nbsp;</span>Логистическая регрессия</a></span></li></ul></li><li><span><a href=\"#Борьба-с-дисбалансом\" data-toc-modified-id=\"Борьба-с-дисбалансом-3\"><span class=\"toc-item-num\">3&nbsp;&nbsp;</span>Борьба с дисбалансом</a></span><ul class=\"toc-item\"><li><span><a href=\"#Взвешивание-классов\" data-toc-modified-id=\"Взвешивание-классов-3.1\"><span class=\"toc-item-num\">3.1&nbsp;&nbsp;</span>Взвешивание классов</a></span><ul class=\"toc-item\"><li><span><a href=\"#Дерево-Решений\" data-toc-modified-id=\"Дерево-Решений-3.1.1\"><span class=\"toc-item-num\">3.1.1&nbsp;&nbsp;</span>Дерево Решений</a></span></li><li><span><a href=\"#Случайный-лес\" data-toc-modified-id=\"Случайный-лес-3.1.2\"><span class=\"toc-item-num\">3.1.2&nbsp;&nbsp;</span>Случайный лес</a></span></li><li><span><a href=\"#Логистическая-регрессия\" data-toc-modified-id=\"Логистическая-регрессия-3.1.3\"><span class=\"toc-item-num\">3.1.3&nbsp;&nbsp;</span>Логистическая регрессия</a></span></li></ul></li><li><span><a href=\"#Увеличение-выборки\" data-toc-modified-id=\"Увеличение-выборки-3.2\"><span class=\"toc-item-num\">3.2&nbsp;&nbsp;</span>Увеличение выборки</a></span><ul class=\"toc-item\"><li><span><a href=\"#Дерево-Решений\" data-toc-modified-id=\"Дерево-Решений-3.2.1\"><span class=\"toc-item-num\">3.2.1&nbsp;&nbsp;</span>Дерево Решений</a></span></li><li><span><a href=\"#Cлучайный-лес\" data-toc-modified-id=\"Cлучайный-лес-3.2.2\"><span class=\"toc-item-num\">3.2.2&nbsp;&nbsp;</span>Cлучайный лес</a></span></li><li><span><a href=\"#Логистическая-регрессия\" data-toc-modified-id=\"Логистическая-регрессия-3.2.3\"><span class=\"toc-item-num\">3.2.3&nbsp;&nbsp;</span>Логистическая регрессия</a></span></li></ul></li><li><span><a href=\"#Уменьшение-выборки\" data-toc-modified-id=\"Уменьшение-выборки-3.3\"><span class=\"toc-item-num\">3.3&nbsp;&nbsp;</span>Уменьшение выборки</a></span><ul class=\"toc-item\"><li><span><a href=\"#Дерево-Решений\" data-toc-modified-id=\"Дерево-Решений-3.3.1\"><span class=\"toc-item-num\">3.3.1&nbsp;&nbsp;</span>Дерево Решений</a></span></li><li><span><a href=\"#Случайный-лес\" data-toc-modified-id=\"Случайный-лес-3.3.2\"><span class=\"toc-item-num\">3.3.2&nbsp;&nbsp;</span>Случайный лес</a></span></li><li><span><a href=\"#Логистическая-регрессия\" data-toc-modified-id=\"Логистическая-регрессия-3.3.3\"><span class=\"toc-item-num\">3.3.3&nbsp;&nbsp;</span>Логистическая регрессия</a></span></li></ul></li></ul></li><li><span><a href=\"#Тестирование-модели\" data-toc-modified-id=\"Тестирование-модели-4\"><span class=\"toc-item-num\">4&nbsp;&nbsp;</span>Тестирование модели</a></span></li><li><span><a href=\"#Чек-лист-готовности-проекта\" data-toc-modified-id=\"Чек-лист-готовности-проекта-5\"><span class=\"toc-item-num\">5&nbsp;&nbsp;</span>Чек-лист готовности проекта</a></span></li></ul></div>"
   ]
  },
  {
   "cell_type": "markdown",
   "metadata": {},
   "source": [
    "## Подготовка данных"
   ]
  },
  {
   "cell_type": "code",
   "execution_count": 1,
   "metadata": {},
   "outputs": [],
   "source": [
    "import pandas as pd\n",
    "import matplotlib.pyplot as plt\n",
    "import seaborn as sns\n",
    "import numpy as np\n",
    "from sklearn.tree import DecisionTreeClassifier\n",
    "from sklearn.ensemble import RandomForestClassifier\n",
    "from sklearn.linear_model import LogisticRegression\n",
    "from sklearn.model_selection import train_test_split\n",
    "from sklearn.preprocessing import StandardScaler\n",
    "from sklearn.utils import shuffle\n",
    "from sklearn.metrics import precision_recall_curve\n",
    "from sklearn.metrics import accuracy_score, precision_score, recall_score, roc_auc_score, roc_curve, f1_score"
   ]
  },
  {
   "cell_type": "code",
   "execution_count": 2,
   "metadata": {},
   "outputs": [
    {
     "name": "stdout",
     "output_type": "stream",
     "text": [
      "<class 'pandas.core.frame.DataFrame'>\n",
      "RangeIndex: 10000 entries, 0 to 9999\n",
      "Data columns (total 14 columns):\n",
      " #   Column           Non-Null Count  Dtype  \n",
      "---  ------           --------------  -----  \n",
      " 0   RowNumber        10000 non-null  int64  \n",
      " 1   CustomerId       10000 non-null  int64  \n",
      " 2   Surname          10000 non-null  object \n",
      " 3   CreditScore      10000 non-null  int64  \n",
      " 4   Geography        10000 non-null  object \n",
      " 5   Gender           10000 non-null  object \n",
      " 6   Age              10000 non-null  int64  \n",
      " 7   Tenure           9091 non-null   float64\n",
      " 8   Balance          10000 non-null  float64\n",
      " 9   NumOfProducts    10000 non-null  int64  \n",
      " 10  HasCrCard        10000 non-null  int64  \n",
      " 11  IsActiveMember   10000 non-null  int64  \n",
      " 12  EstimatedSalary  10000 non-null  float64\n",
      " 13  Exited           10000 non-null  int64  \n",
      "dtypes: float64(3), int64(8), object(3)\n",
      "memory usage: 1.1+ MB\n"
     ]
    }
   ],
   "source": [
    "df = pd.read_csv('/datasets/Churn.csv')\n",
    "df.info()"
   ]
  },
  {
   "cell_type": "code",
   "execution_count": 3,
   "metadata": {},
   "outputs": [
    {
     "data": {
      "text/html": [
       "<div>\n",
       "<style scoped>\n",
       "    .dataframe tbody tr th:only-of-type {\n",
       "        vertical-align: middle;\n",
       "    }\n",
       "\n",
       "    .dataframe tbody tr th {\n",
       "        vertical-align: top;\n",
       "    }\n",
       "\n",
       "    .dataframe thead th {\n",
       "        text-align: right;\n",
       "    }\n",
       "</style>\n",
       "<table border=\"1\" class=\"dataframe\">\n",
       "  <thead>\n",
       "    <tr style=\"text-align: right;\">\n",
       "      <th></th>\n",
       "      <th>RowNumber</th>\n",
       "      <th>CustomerId</th>\n",
       "      <th>Surname</th>\n",
       "      <th>CreditScore</th>\n",
       "      <th>Geography</th>\n",
       "      <th>Gender</th>\n",
       "      <th>Age</th>\n",
       "      <th>Tenure</th>\n",
       "      <th>Balance</th>\n",
       "      <th>NumOfProducts</th>\n",
       "      <th>HasCrCard</th>\n",
       "      <th>IsActiveMember</th>\n",
       "      <th>EstimatedSalary</th>\n",
       "      <th>Exited</th>\n",
       "    </tr>\n",
       "  </thead>\n",
       "  <tbody>\n",
       "    <tr>\n",
       "      <th>0</th>\n",
       "      <td>1</td>\n",
       "      <td>15634602</td>\n",
       "      <td>Hargrave</td>\n",
       "      <td>619</td>\n",
       "      <td>France</td>\n",
       "      <td>Female</td>\n",
       "      <td>42</td>\n",
       "      <td>2.0</td>\n",
       "      <td>0.00</td>\n",
       "      <td>1</td>\n",
       "      <td>1</td>\n",
       "      <td>1</td>\n",
       "      <td>101348.88</td>\n",
       "      <td>1</td>\n",
       "    </tr>\n",
       "    <tr>\n",
       "      <th>1</th>\n",
       "      <td>2</td>\n",
       "      <td>15647311</td>\n",
       "      <td>Hill</td>\n",
       "      <td>608</td>\n",
       "      <td>Spain</td>\n",
       "      <td>Female</td>\n",
       "      <td>41</td>\n",
       "      <td>1.0</td>\n",
       "      <td>83807.86</td>\n",
       "      <td>1</td>\n",
       "      <td>0</td>\n",
       "      <td>1</td>\n",
       "      <td>112542.58</td>\n",
       "      <td>0</td>\n",
       "    </tr>\n",
       "    <tr>\n",
       "      <th>2</th>\n",
       "      <td>3</td>\n",
       "      <td>15619304</td>\n",
       "      <td>Onio</td>\n",
       "      <td>502</td>\n",
       "      <td>France</td>\n",
       "      <td>Female</td>\n",
       "      <td>42</td>\n",
       "      <td>8.0</td>\n",
       "      <td>159660.80</td>\n",
       "      <td>3</td>\n",
       "      <td>1</td>\n",
       "      <td>0</td>\n",
       "      <td>113931.57</td>\n",
       "      <td>1</td>\n",
       "    </tr>\n",
       "    <tr>\n",
       "      <th>3</th>\n",
       "      <td>4</td>\n",
       "      <td>15701354</td>\n",
       "      <td>Boni</td>\n",
       "      <td>699</td>\n",
       "      <td>France</td>\n",
       "      <td>Female</td>\n",
       "      <td>39</td>\n",
       "      <td>1.0</td>\n",
       "      <td>0.00</td>\n",
       "      <td>2</td>\n",
       "      <td>0</td>\n",
       "      <td>0</td>\n",
       "      <td>93826.63</td>\n",
       "      <td>0</td>\n",
       "    </tr>\n",
       "    <tr>\n",
       "      <th>4</th>\n",
       "      <td>5</td>\n",
       "      <td>15737888</td>\n",
       "      <td>Mitchell</td>\n",
       "      <td>850</td>\n",
       "      <td>Spain</td>\n",
       "      <td>Female</td>\n",
       "      <td>43</td>\n",
       "      <td>2.0</td>\n",
       "      <td>125510.82</td>\n",
       "      <td>1</td>\n",
       "      <td>1</td>\n",
       "      <td>1</td>\n",
       "      <td>79084.10</td>\n",
       "      <td>0</td>\n",
       "    </tr>\n",
       "  </tbody>\n",
       "</table>\n",
       "</div>"
      ],
      "text/plain": [
       "   RowNumber  CustomerId   Surname  CreditScore Geography  Gender  Age  \\\n",
       "0          1    15634602  Hargrave          619    France  Female   42   \n",
       "1          2    15647311      Hill          608     Spain  Female   41   \n",
       "2          3    15619304      Onio          502    France  Female   42   \n",
       "3          4    15701354      Boni          699    France  Female   39   \n",
       "4          5    15737888  Mitchell          850     Spain  Female   43   \n",
       "\n",
       "   Tenure    Balance  NumOfProducts  HasCrCard  IsActiveMember  \\\n",
       "0     2.0       0.00              1          1               1   \n",
       "1     1.0   83807.86              1          0               1   \n",
       "2     8.0  159660.80              3          1               0   \n",
       "3     1.0       0.00              2          0               0   \n",
       "4     2.0  125510.82              1          1               1   \n",
       "\n",
       "   EstimatedSalary  Exited  \n",
       "0        101348.88       1  \n",
       "1        112542.58       0  \n",
       "2        113931.57       1  \n",
       "3         93826.63       0  \n",
       "4         79084.10       0  "
      ]
     },
     "execution_count": 3,
     "metadata": {},
     "output_type": "execute_result"
    }
   ],
   "source": [
    "df.head()"
   ]
  },
  {
   "cell_type": "code",
   "execution_count": 4,
   "metadata": {},
   "outputs": [
    {
     "data": {
      "text/html": [
       "<div>\n",
       "<style scoped>\n",
       "    .dataframe tbody tr th:only-of-type {\n",
       "        vertical-align: middle;\n",
       "    }\n",
       "\n",
       "    .dataframe tbody tr th {\n",
       "        vertical-align: top;\n",
       "    }\n",
       "\n",
       "    .dataframe thead th {\n",
       "        text-align: right;\n",
       "    }\n",
       "</style>\n",
       "<table border=\"1\" class=\"dataframe\">\n",
       "  <thead>\n",
       "    <tr style=\"text-align: right;\">\n",
       "      <th></th>\n",
       "      <th>RowNumber</th>\n",
       "      <th>CustomerId</th>\n",
       "      <th>CreditScore</th>\n",
       "      <th>Age</th>\n",
       "      <th>Tenure</th>\n",
       "      <th>Balance</th>\n",
       "      <th>NumOfProducts</th>\n",
       "      <th>HasCrCard</th>\n",
       "      <th>IsActiveMember</th>\n",
       "      <th>EstimatedSalary</th>\n",
       "      <th>Exited</th>\n",
       "    </tr>\n",
       "  </thead>\n",
       "  <tbody>\n",
       "    <tr>\n",
       "      <th>count</th>\n",
       "      <td>10000.00000</td>\n",
       "      <td>1.000000e+04</td>\n",
       "      <td>10000.000000</td>\n",
       "      <td>10000.000000</td>\n",
       "      <td>9091.000000</td>\n",
       "      <td>10000.000000</td>\n",
       "      <td>10000.000000</td>\n",
       "      <td>10000.00000</td>\n",
       "      <td>10000.000000</td>\n",
       "      <td>10000.000000</td>\n",
       "      <td>10000.000000</td>\n",
       "    </tr>\n",
       "    <tr>\n",
       "      <th>mean</th>\n",
       "      <td>5000.50000</td>\n",
       "      <td>1.569094e+07</td>\n",
       "      <td>650.528800</td>\n",
       "      <td>38.921800</td>\n",
       "      <td>4.997690</td>\n",
       "      <td>76485.889288</td>\n",
       "      <td>1.530200</td>\n",
       "      <td>0.70550</td>\n",
       "      <td>0.515100</td>\n",
       "      <td>100090.239881</td>\n",
       "      <td>0.203700</td>\n",
       "    </tr>\n",
       "    <tr>\n",
       "      <th>std</th>\n",
       "      <td>2886.89568</td>\n",
       "      <td>7.193619e+04</td>\n",
       "      <td>96.653299</td>\n",
       "      <td>10.487806</td>\n",
       "      <td>2.894723</td>\n",
       "      <td>62397.405202</td>\n",
       "      <td>0.581654</td>\n",
       "      <td>0.45584</td>\n",
       "      <td>0.499797</td>\n",
       "      <td>57510.492818</td>\n",
       "      <td>0.402769</td>\n",
       "    </tr>\n",
       "    <tr>\n",
       "      <th>min</th>\n",
       "      <td>1.00000</td>\n",
       "      <td>1.556570e+07</td>\n",
       "      <td>350.000000</td>\n",
       "      <td>18.000000</td>\n",
       "      <td>0.000000</td>\n",
       "      <td>0.000000</td>\n",
       "      <td>1.000000</td>\n",
       "      <td>0.00000</td>\n",
       "      <td>0.000000</td>\n",
       "      <td>11.580000</td>\n",
       "      <td>0.000000</td>\n",
       "    </tr>\n",
       "    <tr>\n",
       "      <th>25%</th>\n",
       "      <td>2500.75000</td>\n",
       "      <td>1.562853e+07</td>\n",
       "      <td>584.000000</td>\n",
       "      <td>32.000000</td>\n",
       "      <td>2.000000</td>\n",
       "      <td>0.000000</td>\n",
       "      <td>1.000000</td>\n",
       "      <td>0.00000</td>\n",
       "      <td>0.000000</td>\n",
       "      <td>51002.110000</td>\n",
       "      <td>0.000000</td>\n",
       "    </tr>\n",
       "    <tr>\n",
       "      <th>50%</th>\n",
       "      <td>5000.50000</td>\n",
       "      <td>1.569074e+07</td>\n",
       "      <td>652.000000</td>\n",
       "      <td>37.000000</td>\n",
       "      <td>5.000000</td>\n",
       "      <td>97198.540000</td>\n",
       "      <td>1.000000</td>\n",
       "      <td>1.00000</td>\n",
       "      <td>1.000000</td>\n",
       "      <td>100193.915000</td>\n",
       "      <td>0.000000</td>\n",
       "    </tr>\n",
       "    <tr>\n",
       "      <th>75%</th>\n",
       "      <td>7500.25000</td>\n",
       "      <td>1.575323e+07</td>\n",
       "      <td>718.000000</td>\n",
       "      <td>44.000000</td>\n",
       "      <td>7.000000</td>\n",
       "      <td>127644.240000</td>\n",
       "      <td>2.000000</td>\n",
       "      <td>1.00000</td>\n",
       "      <td>1.000000</td>\n",
       "      <td>149388.247500</td>\n",
       "      <td>0.000000</td>\n",
       "    </tr>\n",
       "    <tr>\n",
       "      <th>max</th>\n",
       "      <td>10000.00000</td>\n",
       "      <td>1.581569e+07</td>\n",
       "      <td>850.000000</td>\n",
       "      <td>92.000000</td>\n",
       "      <td>10.000000</td>\n",
       "      <td>250898.090000</td>\n",
       "      <td>4.000000</td>\n",
       "      <td>1.00000</td>\n",
       "      <td>1.000000</td>\n",
       "      <td>199992.480000</td>\n",
       "      <td>1.000000</td>\n",
       "    </tr>\n",
       "  </tbody>\n",
       "</table>\n",
       "</div>"
      ],
      "text/plain": [
       "         RowNumber    CustomerId   CreditScore           Age       Tenure  \\\n",
       "count  10000.00000  1.000000e+04  10000.000000  10000.000000  9091.000000   \n",
       "mean    5000.50000  1.569094e+07    650.528800     38.921800     4.997690   \n",
       "std     2886.89568  7.193619e+04     96.653299     10.487806     2.894723   \n",
       "min        1.00000  1.556570e+07    350.000000     18.000000     0.000000   \n",
       "25%     2500.75000  1.562853e+07    584.000000     32.000000     2.000000   \n",
       "50%     5000.50000  1.569074e+07    652.000000     37.000000     5.000000   \n",
       "75%     7500.25000  1.575323e+07    718.000000     44.000000     7.000000   \n",
       "max    10000.00000  1.581569e+07    850.000000     92.000000    10.000000   \n",
       "\n",
       "             Balance  NumOfProducts    HasCrCard  IsActiveMember  \\\n",
       "count   10000.000000   10000.000000  10000.00000    10000.000000   \n",
       "mean    76485.889288       1.530200      0.70550        0.515100   \n",
       "std     62397.405202       0.581654      0.45584        0.499797   \n",
       "min         0.000000       1.000000      0.00000        0.000000   \n",
       "25%         0.000000       1.000000      0.00000        0.000000   \n",
       "50%     97198.540000       1.000000      1.00000        1.000000   \n",
       "75%    127644.240000       2.000000      1.00000        1.000000   \n",
       "max    250898.090000       4.000000      1.00000        1.000000   \n",
       "\n",
       "       EstimatedSalary        Exited  \n",
       "count     10000.000000  10000.000000  \n",
       "mean     100090.239881      0.203700  \n",
       "std       57510.492818      0.402769  \n",
       "min          11.580000      0.000000  \n",
       "25%       51002.110000      0.000000  \n",
       "50%      100193.915000      0.000000  \n",
       "75%      149388.247500      0.000000  \n",
       "max      199992.480000      1.000000  "
      ]
     },
     "execution_count": 4,
     "metadata": {},
     "output_type": "execute_result"
    }
   ],
   "source": [
    "df.describe()"
   ]
  },
  {
   "cell_type": "code",
   "execution_count": 5,
   "metadata": {},
   "outputs": [
    {
     "data": {
      "image/png": "[encoded data removed]",
      "text/plain": [
       "<Figure size 1080x1440 with 12 Axes>"
      ]
     },
     "metadata": {
      "needs_background": "light"
     },
     "output_type": "display_data"
    }
   ],
   "source": [
    "df.hist(figsize=(15, 20));"
   ]
  },
  {
   "cell_type": "code",
   "execution_count": 6,
   "metadata": {},
   "outputs": [
    {
     "data": {
      "text/plain": [
       "0    7963\n",
       "1    2037\n",
       "Name: Exited, dtype: int64"
      ]
     },
     "execution_count": 6,
     "metadata": {},
     "output_type": "execute_result"
    },
    {
     "data": {
      "image/png": "[encoded data removed]",
      "text/plain": [
       "<Figure size 720x360 with 1 Axes>"
      ]
     },
     "metadata": {
      "needs_background": "light"
     },
     "output_type": "display_data"
    }
   ],
   "source": [
    "df['Exited'].value_counts().plot(kind='bar',figsize=(10,5),title='Oтношение клиентов')\n",
    "df['Exited'].value_counts()"
   ]
  },
  {
   "cell_type": "markdown",
   "metadata": {},
   "source": [
    "* столбцы RowNumber, Surname и CustomerId не содержат необходимой информации, их удалим\n",
    "* Geography, Gender — преобрауем методом OHE\n",
    "* Tenure — пропусков около 10% от всех данных. На графике похоже на нормальное распредение, если заполним медианой, то это приведет к необоснованному выбросу. Поэтому заполним числами от 0 до 10\n",
    "* CreditScore, Age, Tenur, Balance, NumOfProducts, EstimatedSalary — масштабируем\n",
    "* Дисбаланс в данных: количество ушедших клиентов в 4 раза меньше действующих, дисбаланс поправим при увеличении/уменьшении выборок"
   ]
  },
  {
   "cell_type": "code",
   "execution_count": 7,
   "metadata": {},
   "outputs": [],
   "source": [
    "# Удалим лишние столбцы\n",
    "df=df.drop(['RowNumber','Surname', 'CustomerId'], axis=1)"
   ]
  },
  {
   "cell_type": "code",
   "execution_count": 8,
   "metadata": {},
   "outputs": [
    {
     "data": {
      "text/plain": [
       "<AxesSubplot:>"
      ]
     },
     "execution_count": 8,
     "metadata": {},
     "output_type": "execute_result"
    },
    {
     "data": {
      "image/png": "[encoded data removed]",
      "text/plain": [
       "<Figure size 720x432 with 1 Axes>"
      ]
     },
     "metadata": {
      "needs_background": "light"
     },
     "output_type": "display_data"
    }
   ],
   "source": [
    "# создаём случайный ряд путём сэмплирования из ряда известных значений\n",
    "rand = df[\"Tenure\"].dropna()\\\n",
    "    .sample(n=df.shape[0], replace=True)\\\n",
    "    .reset_index(drop=True)\n",
    "\n",
    "# заполняем пропуски значениями из случайного ряда\n",
    "df[\"Tenure\"] = df[\"Tenure\"].fillna(rand)\n",
    "df[\"Tenure\"].hist(figsize=(10, 6))"
   ]
  },
  {
   "cell_type": "code",
   "execution_count": 9,
   "metadata": {},
   "outputs": [
    {
     "data": {
      "text/html": [
       "<div>\n",
       "<style scoped>\n",
       "    .dataframe tbody tr th:only-of-type {\n",
       "        vertical-align: middle;\n",
       "    }\n",
       "\n",
       "    .dataframe tbody tr th {\n",
       "        vertical-align: top;\n",
       "    }\n",
       "\n",
       "    .dataframe thead th {\n",
       "        text-align: right;\n",
       "    }\n",
       "</style>\n",
       "<table border=\"1\" class=\"dataframe\">\n",
       "  <thead>\n",
       "    <tr style=\"text-align: right;\">\n",
       "      <th></th>\n",
       "      <th>CreditScore</th>\n",
       "      <th>Age</th>\n",
       "      <th>Tenure</th>\n",
       "      <th>Balance</th>\n",
       "      <th>NumOfProducts</th>\n",
       "      <th>HasCrCard</th>\n",
       "      <th>IsActiveMember</th>\n",
       "      <th>EstimatedSalary</th>\n",
       "      <th>Exited</th>\n",
       "      <th>Geography_Germany</th>\n",
       "      <th>Geography_Spain</th>\n",
       "      <th>Gender_Male</th>\n",
       "    </tr>\n",
       "  </thead>\n",
       "  <tbody>\n",
       "    <tr>\n",
       "      <th>0</th>\n",
       "      <td>619</td>\n",
       "      <td>42</td>\n",
       "      <td>2.0</td>\n",
       "      <td>0.00</td>\n",
       "      <td>1</td>\n",
       "      <td>1</td>\n",
       "      <td>1</td>\n",
       "      <td>101348.88</td>\n",
       "      <td>1</td>\n",
       "      <td>0</td>\n",
       "      <td>0</td>\n",
       "      <td>0</td>\n",
       "    </tr>\n",
       "    <tr>\n",
       "      <th>1</th>\n",
       "      <td>608</td>\n",
       "      <td>41</td>\n",
       "      <td>1.0</td>\n",
       "      <td>83807.86</td>\n",
       "      <td>1</td>\n",
       "      <td>0</td>\n",
       "      <td>1</td>\n",
       "      <td>112542.58</td>\n",
       "      <td>0</td>\n",
       "      <td>0</td>\n",
       "      <td>1</td>\n",
       "      <td>0</td>\n",
       "    </tr>\n",
       "    <tr>\n",
       "      <th>2</th>\n",
       "      <td>502</td>\n",
       "      <td>42</td>\n",
       "      <td>8.0</td>\n",
       "      <td>159660.80</td>\n",
       "      <td>3</td>\n",
       "      <td>1</td>\n",
       "      <td>0</td>\n",
       "      <td>113931.57</td>\n",
       "      <td>1</td>\n",
       "      <td>0</td>\n",
       "      <td>0</td>\n",
       "      <td>0</td>\n",
       "    </tr>\n",
       "    <tr>\n",
       "      <th>3</th>\n",
       "      <td>699</td>\n",
       "      <td>39</td>\n",
       "      <td>1.0</td>\n",
       "      <td>0.00</td>\n",
       "      <td>2</td>\n",
       "      <td>0</td>\n",
       "      <td>0</td>\n",
       "      <td>93826.63</td>\n",
       "      <td>0</td>\n",
       "      <td>0</td>\n",
       "      <td>0</td>\n",
       "      <td>0</td>\n",
       "    </tr>\n",
       "    <tr>\n",
       "      <th>4</th>\n",
       "      <td>850</td>\n",
       "      <td>43</td>\n",
       "      <td>2.0</td>\n",
       "      <td>125510.82</td>\n",
       "      <td>1</td>\n",
       "      <td>1</td>\n",
       "      <td>1</td>\n",
       "      <td>79084.10</td>\n",
       "      <td>0</td>\n",
       "      <td>0</td>\n",
       "      <td>1</td>\n",
       "      <td>0</td>\n",
       "    </tr>\n",
       "  </tbody>\n",
       "</table>\n",
       "</div>"
      ],
      "text/plain": [
       "   CreditScore  Age  Tenure    Balance  NumOfProducts  HasCrCard  \\\n",
       "0          619   42     2.0       0.00              1          1   \n",
       "1          608   41     1.0   83807.86              1          0   \n",
       "2          502   42     8.0  159660.80              3          1   \n",
       "3          699   39     1.0       0.00              2          0   \n",
       "4          850   43     2.0  125510.82              1          1   \n",
       "\n",
       "   IsActiveMember  EstimatedSalary  Exited  Geography_Germany  \\\n",
       "0               1        101348.88       1                  0   \n",
       "1               1        112542.58       0                  0   \n",
       "2               0        113931.57       1                  0   \n",
       "3               0         93826.63       0                  0   \n",
       "4               1         79084.10       0                  0   \n",
       "\n",
       "   Geography_Spain  Gender_Male  \n",
       "0                0            0  \n",
       "1                1            0  \n",
       "2                0            0  \n",
       "3                0            0  \n",
       "4                1            0  "
      ]
     },
     "execution_count": 9,
     "metadata": {},
     "output_type": "execute_result"
    }
   ],
   "source": [
    "#Масштабируем данные\n",
    "df = pd.get_dummies(df, drop_first=True)\n",
    "df.head()"
   ]
  },
  {
   "cell_type": "code",
   "execution_count": 10,
   "metadata": {},
   "outputs": [
    {
     "data": {
      "text/html": [
       "<div>\n",
       "<style scoped>\n",
       "    .dataframe tbody tr th:only-of-type {\n",
       "        vertical-align: middle;\n",
       "    }\n",
       "\n",
       "    .dataframe tbody tr th {\n",
       "        vertical-align: top;\n",
       "    }\n",
       "\n",
       "    .dataframe thead th {\n",
       "        text-align: right;\n",
       "    }\n",
       "</style>\n",
       "<table border=\"1\" class=\"dataframe\">\n",
       "  <thead>\n",
       "    <tr style=\"text-align: right;\">\n",
       "      <th></th>\n",
       "      <th>CreditScore</th>\n",
       "      <th>Age</th>\n",
       "      <th>Tenure</th>\n",
       "      <th>Balance</th>\n",
       "      <th>NumOfProducts</th>\n",
       "      <th>HasCrCard</th>\n",
       "      <th>IsActiveMember</th>\n",
       "      <th>EstimatedSalary</th>\n",
       "      <th>Exited</th>\n",
       "      <th>Geography_Germany</th>\n",
       "      <th>Geography_Spain</th>\n",
       "      <th>Gender_Male</th>\n",
       "    </tr>\n",
       "  </thead>\n",
       "  <tbody>\n",
       "    <tr>\n",
       "      <th>0</th>\n",
       "      <td>-0.326221</td>\n",
       "      <td>0.293517</td>\n",
       "      <td>-1.035481</td>\n",
       "      <td>-1.225848</td>\n",
       "      <td>-0.911583</td>\n",
       "      <td>1</td>\n",
       "      <td>1</td>\n",
       "      <td>0.021886</td>\n",
       "      <td>1</td>\n",
       "      <td>0</td>\n",
       "      <td>0</td>\n",
       "      <td>0</td>\n",
       "    </tr>\n",
       "    <tr>\n",
       "      <th>1</th>\n",
       "      <td>-0.440036</td>\n",
       "      <td>0.198164</td>\n",
       "      <td>-1.380756</td>\n",
       "      <td>0.117350</td>\n",
       "      <td>-0.911583</td>\n",
       "      <td>0</td>\n",
       "      <td>1</td>\n",
       "      <td>0.216534</td>\n",
       "      <td>0</td>\n",
       "      <td>0</td>\n",
       "      <td>1</td>\n",
       "      <td>0</td>\n",
       "    </tr>\n",
       "    <tr>\n",
       "      <th>2</th>\n",
       "      <td>-1.536794</td>\n",
       "      <td>0.293517</td>\n",
       "      <td>1.036171</td>\n",
       "      <td>1.333053</td>\n",
       "      <td>2.527057</td>\n",
       "      <td>1</td>\n",
       "      <td>0</td>\n",
       "      <td>0.240687</td>\n",
       "      <td>1</td>\n",
       "      <td>0</td>\n",
       "      <td>0</td>\n",
       "      <td>0</td>\n",
       "    </tr>\n",
       "    <tr>\n",
       "      <th>3</th>\n",
       "      <td>0.501521</td>\n",
       "      <td>0.007457</td>\n",
       "      <td>-1.380756</td>\n",
       "      <td>-1.225848</td>\n",
       "      <td>0.807737</td>\n",
       "      <td>0</td>\n",
       "      <td>0</td>\n",
       "      <td>-0.108918</td>\n",
       "      <td>0</td>\n",
       "      <td>0</td>\n",
       "      <td>0</td>\n",
       "      <td>0</td>\n",
       "    </tr>\n",
       "    <tr>\n",
       "      <th>4</th>\n",
       "      <td>2.063884</td>\n",
       "      <td>0.388871</td>\n",
       "      <td>-1.035481</td>\n",
       "      <td>0.785728</td>\n",
       "      <td>-0.911583</td>\n",
       "      <td>1</td>\n",
       "      <td>1</td>\n",
       "      <td>-0.365276</td>\n",
       "      <td>0</td>\n",
       "      <td>0</td>\n",
       "      <td>1</td>\n",
       "      <td>0</td>\n",
       "    </tr>\n",
       "  </tbody>\n",
       "</table>\n",
       "</div>"
      ],
      "text/plain": [
       "   CreditScore       Age    Tenure   Balance  NumOfProducts  HasCrCard  \\\n",
       "0    -0.326221  0.293517 -1.035481 -1.225848      -0.911583          1   \n",
       "1    -0.440036  0.198164 -1.380756  0.117350      -0.911583          0   \n",
       "2    -1.536794  0.293517  1.036171  1.333053       2.527057          1   \n",
       "3     0.501521  0.007457 -1.380756 -1.225848       0.807737          0   \n",
       "4     2.063884  0.388871 -1.035481  0.785728      -0.911583          1   \n",
       "\n",
       "   IsActiveMember  EstimatedSalary  Exited  Geography_Germany  \\\n",
       "0               1         0.021886       1                  0   \n",
       "1               1         0.216534       0                  0   \n",
       "2               0         0.240687       1                  0   \n",
       "3               0        -0.108918       0                  0   \n",
       "4               1        -0.365276       0                  0   \n",
       "\n",
       "   Geography_Spain  Gender_Male  \n",
       "0                0            0  \n",
       "1                1            0  \n",
       "2                0            0  \n",
       "3                0            0  \n",
       "4                1            0  "
      ]
     },
     "execution_count": 10,
     "metadata": {},
     "output_type": "execute_result"
    }
   ],
   "source": [
    "#Стандартизируем признаки с помощью StandardScaler\n",
    "numeric = ['CreditScore', 'Age', 'Tenure', 'Balance', 'NumOfProducts', 'EstimatedSalary']\n",
    "\n",
    "scaler = StandardScaler()\n",
    "scaler.fit(df[numeric])\n",
    "df[numeric] = scaler.transform(df[numeric])\n",
    "\n",
    "df.head()"
   ]
  },
  {
   "cell_type": "markdown",
   "metadata": {},
   "source": [
    "## Исследование задачи"
   ]
  },
  {
   "cell_type": "code",
   "execution_count": 11,
   "metadata": {},
   "outputs": [],
   "source": [
    "features = df.drop(['Exited'],axis=1)\n",
    "target = df['Exited']"
   ]
  },
  {
   "cell_type": "code",
   "execution_count": 12,
   "metadata": {},
   "outputs": [
    {
     "name": "stdout",
     "output_type": "stream",
     "text": [
      "(6000, 11) (2000, 11) (2000, 11)\n",
      "(6000,) (2000,) (2000,)\n"
     ]
    }
   ],
   "source": [
    "features_train, features_test, target_train, target_test = train_test_split(\n",
    "    features, target, test_size=0.4, random_state=19191)\n",
    "features_test, features_valid, target_test, target_valid = train_test_split(\n",
    "    features_test, target_test, test_size=0.5, random_state=19191)\n",
    "print(features_train.shape, features_test.shape, features_valid.shape)\n",
    "print(target_train.shape, target_test.shape, target_valid.shape)"
   ]
  },
  {
   "cell_type": "markdown",
   "metadata": {},
   "source": [
    "### Дерево Решений"
   ]
  },
  {
   "cell_type": "code",
   "execution_count": 13,
   "metadata": {},
   "outputs": [
    {
     "name": "stdout",
     "output_type": "stream",
     "text": [
      "Дерево Решений:\n",
      "F1: 0.5104408352668214\n",
      "accuracy: 0.789\n",
      "auc_roc: 0.6870449823731247\n"
     ]
    }
   ],
   "source": [
    "model_DTC = DecisionTreeClassifier(random_state=19191)\n",
    "model_DTC.fit(features_train, target_train)\n",
    "\n",
    "predicted_valid_DTC = model_DTC.predict(features_valid)\n",
    "probabilities_valid_DTC = model_DTC.predict_proba(features_valid)\n",
    "probabilities_one_valid_DTC = probabilities_valid_DTC[:, 1]\n",
    "\n",
    "print('Дерево Решений:')\n",
    "print(\"F1:\", f1_score(target_valid, predicted_valid_DTC))\n",
    "print(\"accuracy:\", accuracy_score(target_valid, predicted_valid_DTC))\n",
    "print(\"auc_roc:\", roc_auc_score(target_valid, probabilities_one_valid_DTC))"
   ]
  },
  {
   "cell_type": "markdown",
   "metadata": {},
   "source": [
    "### Cлучайный лес"
   ]
  },
  {
   "cell_type": "code",
   "execution_count": 14,
   "metadata": {},
   "outputs": [
    {
     "name": "stdout",
     "output_type": "stream",
     "text": [
      "Cлучайный лес:\n",
      "F1: 0.5991316931982633\n",
      "accuracy: 0.8615\n",
      "auc_roc: 0.8577968760115591\n"
     ]
    }
   ],
   "source": [
    "model_RFC = RandomForestClassifier(random_state=19191)\n",
    "model_RFC.fit(features_train, target_train)\n",
    "\n",
    "predicted_valid_RFC = model_RFC.predict(features_valid)\n",
    "probabilities_valid_RFC = model_RFC.predict_proba(features_valid)\n",
    "probabilities_one_valid_RFC = probabilities_valid_RFC[:, 1]\n",
    "\n",
    "print('Cлучайный лес:')\n",
    "print(\"F1:\", f1_score(target_valid, predicted_valid_RFC))\n",
    "print(\"accuracy:\", accuracy_score(target_valid, predicted_valid_RFC))\n",
    "print(\"auc_roc:\", roc_auc_score(target_valid, probabilities_one_valid_RFC))"
   ]
  },
  {
   "cell_type": "markdown",
   "metadata": {},
   "source": [
    "### Логистическая регрессия"
   ]
  },
  {
   "cell_type": "code",
   "execution_count": 15,
   "metadata": {
    "scrolled": true
   },
   "outputs": [
    {
     "name": "stdout",
     "output_type": "stream",
     "text": [
      "Логистическая регрессия:\n",
      "F1: 0.2968197879858657\n",
      "accuracy: 0.801\n",
      "auc_roc: 0.7651608783421909\n"
     ]
    }
   ],
   "source": [
    "model_LR =  LogisticRegression(solver='liblinear', random_state = 19191)\n",
    "model_LR.fit(features_train, target_train)\n",
    "\n",
    "predicted_valid_LR = model_LR.predict(features_valid)\n",
    "probabilities_valid_LR = model_LR.predict_proba(features_valid)\n",
    "probabilities_one_valid_LR = probabilities_valid_LR[:, 1]\n",
    "\n",
    "print('Логистическая регрессия:')\n",
    "print(\"F1:\", f1_score(target_valid, predicted_valid_LR))\n",
    "print(\"accuracy:\", accuracy_score(target_valid, predicted_valid_LR))\n",
    "print(\"auc_roc:\", roc_auc_score(target_valid, probabilities_one_valid_LR))"
   ]
  },
  {
   "cell_type": "markdown",
   "metadata": {},
   "source": [
    "## Борьба с дисбалансом"
   ]
  },
  {
   "cell_type": "markdown",
   "metadata": {},
   "source": [
    "### Взвешивание классов"
   ]
  },
  {
   "cell_type": "markdown",
   "metadata": {},
   "source": [
    "#### Дерево Решений"
   ]
  },
  {
   "cell_type": "code",
   "execution_count": 16,
   "metadata": {},
   "outputs": [
    {
     "name": "stdout",
     "output_type": "stream",
     "text": [
      "Дерево Решений: f1 наилучшей модели  0.5747747747747748 глубина: 4 AUC-ROC 0.8255093843247346\n"
     ]
    }
   ],
   "source": [
    "best_model_balanced_DTC = None\n",
    "best_f1_balanced_DTC = 0\n",
    "best_depth_balanced_DTC = 0\n",
    "for depth in range(1, 8):\n",
    "    model_DTC = DecisionTreeClassifier(random_state=19191, max_depth=depth, class_weight='balanced')\n",
    "    model_DTC.fit(features_train, target_train)\n",
    "\n",
    "    prediction = model_DTC.predict(features_valid)\n",
    "    f1_DTC = f1_score(target_valid, prediction)\n",
    "    if f1_DTC > best_f1_balanced_DTC:\n",
    "        best_model_balanced_DTC = model_DTC\n",
    "        best_f1_balanced_DTC = f1_DTC\n",
    "        best_depth_balanced_DTC = depth\n",
    "probabilities_balanced_DTC = best_model_balanced_DTC.predict_proba(features_valid)[:, 1]\n",
    "\n",
    "print(\"Дерево Решений: f1 наилучшей модели \", best_f1_balanced_DTC, \n",
    "      \"глубина:\", best_depth_balanced_DTC,\n",
    "     \"AUC-ROC\", roc_auc_score(target_valid, probabilities_balanced_DTC))"
   ]
  },
  {
   "cell_type": "markdown",
   "metadata": {},
   "source": [
    "#### Случайный лес"
   ]
  },
  {
   "cell_type": "code",
   "execution_count": 17,
   "metadata": {},
   "outputs": [
    {
     "name": "stdout",
     "output_type": "stream",
     "text": [
      "Cлучайный лес: f1 наилучшей модели 0.6561844863731656 Количество деревьев: 50 Глубина: 8 минимальное количество объектов в листе: 5 AUC-ROC 0.8684693751434573\n"
     ]
    }
   ],
   "source": [
    "best_model_balanced_RFC = None\n",
    "best_f1_balanced_RFC = 0\n",
    "best_est_balanced_RFC = 0\n",
    "best_depth_balanced_RFC = 0\n",
    "best_min_samples_leaf = 0\n",
    "for est in range(30, 70, 5):\n",
    "    for depth in range(5, 10):\n",
    "        for leaf in range(3, 7):\n",
    "            model_RFC = RandomForestClassifier(random_state=19191, \n",
    "                                               n_estimators=est, \n",
    "                                               max_depth=depth, \n",
    "                                               min_samples_leaf = leaf,\n",
    "                                               n_jobs=-1,\n",
    "                                               class_weight='balanced')\n",
    "            model_RFC.fit(features_train, target_train)\n",
    "            prediction = model_RFC.predict(features_valid)\n",
    "            f1_RFC = f1_score(target_valid, prediction)\n",
    "            if f1_RFC > best_f1_balanced_RFC:\n",
    "                best_model_balanced_RFC = model_RFC\n",
    "                best_f1_balanced_RFC = f1_RFC\n",
    "                best_est_balanced_RFC = est\n",
    "                best_depth_balanced_RFC = depth\n",
    "                best_min_samples_leaf = leaf\n",
    "probabilities_balanced_RFC = best_model_balanced_RFC.predict_proba(features_valid)[:, 1]\n",
    "print(\"Cлучайный лес: f1 наилучшей модели\", best_f1_balanced_RFC, \n",
    "      \"Количество деревьев:\", best_est_balanced_RFC, \n",
    "      'Глубина:', best_depth_balanced_RFC,\n",
    "      'минимальное количество объектов в листе:', best_min_samples_leaf,\n",
    "      \"AUC-ROC\", roc_auc_score(target_valid, probabilities_balanced_RFC))"
   ]
  },
  {
   "cell_type": "markdown",
   "metadata": {},
   "source": [
    "#### Логистическая регрессия"
   ]
  },
  {
   "cell_type": "code",
   "execution_count": 18,
   "metadata": {},
   "outputs": [
    {
     "name": "stdout",
     "output_type": "stream",
     "text": [
      "Логистическая регрессия: F1 0.49829351535836175 AUC-ROC 0.769957507165516\n"
     ]
    }
   ],
   "source": [
    "model_balanced_LR = LogisticRegression(random_state=19191, solver='liblinear', class_weight='balanced')\n",
    "model_balanced_LR.fit(features_train, target_train)\n",
    "predicted_balanced_LR = model_balanced_LR.predict(features_valid)\n",
    "probabilities_balanced_LR = model_balanced_LR.predict_proba(features_valid)[:, 1]\n",
    "print(\"Логистическая регрессия: F1\", f1_score(target_valid, predicted_balanced_LR),\n",
    "     \"AUC-ROC\", roc_auc_score(target_valid, probabilities_balanced_LR))"
   ]
  },
  {
   "cell_type": "markdown",
   "metadata": {},
   "source": [
    "Наилучший результат у модели Случайного леса: \n",
    "* F1 : 0.6471204188481676 \n",
    "* Количество деревьев: 55 \n",
    "* Глубина: 8 \n",
    "* Минимальное количество объектов в листе: 6\n",
    "* AUC-ROC 0.8255093843247346"
   ]
  },
  {
   "cell_type": "markdown",
   "metadata": {},
   "source": [
    "### Увеличение выборки"
   ]
  },
  {
   "cell_type": "code",
   "execution_count": 19,
   "metadata": {},
   "outputs": [],
   "source": [
    "def upsample(features, target, repeat):\n",
    "    features_zeros = features[target == 0]\n",
    "    features_ones = features[target == 1]\n",
    "    target_zeros = target[target == 0]\n",
    "    target_ones = target[target == 1]\n",
    "\n",
    "    features_upsampled = pd.concat([features_zeros] + [features_ones] * repeat)\n",
    "    target_upsampled = pd.concat([target_zeros] + [target_ones] * repeat)\n",
    "    \n",
    "    features_upsampled, target_upsampled = shuffle(\n",
    "        features_upsampled, target_upsampled, random_state=19191)\n",
    "    \n",
    "    return features_upsampled, target_upsampled"
   ]
  },
  {
   "cell_type": "code",
   "execution_count": 20,
   "metadata": {},
   "outputs": [],
   "source": [
    "features_upsampled, target_upsampled = upsample(features_train, target_train, 4)"
   ]
  },
  {
   "cell_type": "markdown",
   "metadata": {},
   "source": [
    "#### Дерево Решений"
   ]
  },
  {
   "cell_type": "code",
   "execution_count": 21,
   "metadata": {},
   "outputs": [
    {
     "name": "stdout",
     "output_type": "stream",
     "text": [
      "f1 наилучшей модели Дерево Решений: 0.5747747747747748 глубина: 4\n"
     ]
    }
   ],
   "source": [
    "best_model_ups_DTC = None\n",
    "best_f1_ups_DTC = 0\n",
    "best_depth_ups_DTC = 0\n",
    "\n",
    "for depth in range(1, 8):\n",
    "    model_DTC = DecisionTreeClassifier(random_state=19191, max_depth=depth)\n",
    "    model_DTC.fit(features_upsampled, target_upsampled)\n",
    "\n",
    "    prediction = model_DTC.predict(features_valid)\n",
    "    f1_DTC = f1_score(target_valid, prediction)\n",
    "    if f1_DTC > best_f1_ups_DTC:\n",
    "        best_model_ups_DTC = model_DTC\n",
    "        best_f1_ups_DTC = f1_DTC\n",
    "        best_depth_ups_DTC = depth\n",
    "print(\"f1 наилучшей модели Дерево Решений:\", best_f1_ups_DTC, \"глубина:\", best_depth_ups_DTC)"
   ]
  },
  {
   "cell_type": "markdown",
   "metadata": {},
   "source": [
    "#### Cлучайный лес"
   ]
  },
  {
   "cell_type": "code",
   "execution_count": 22,
   "metadata": {},
   "outputs": [
    {
     "name": "stdout",
     "output_type": "stream",
     "text": [
      "f1 наилучшей модели Cлучайный лес: 0.64 Количество деревьев: 40 Глубина: 9\n"
     ]
    }
   ],
   "source": [
    "best_model_ups_RFC = None\n",
    "best_f1_ups_RFC = 0\n",
    "best_est_ups_RFC = 0\n",
    "best_depth_ups_RFC = 0\n",
    "for est in range(30, 70, 5):\n",
    "    for depth in range(5, 10):\n",
    "        model_RFC = RandomForestClassifier(random_state=19191, \n",
    "                                           n_estimators=est, \n",
    "                                           n_jobs=-1,\n",
    "                                           max_depth=depth)\n",
    "        model_RFC.fit(features_upsampled, target_upsampled)\n",
    "        prediction = model_RFC.predict(features_valid)\n",
    "        f1_RFC = f1_score(target_valid, prediction)\n",
    "        if f1_RFC > best_f1_ups_RFC:\n",
    "            best_model_ups_RFC = model_RFC\n",
    "            best_f1_ups_RFC = f1_RFC\n",
    "            best_est_ups_RFC = est\n",
    "            best_depth_ups_RFC = depth\n",
    "print(\"f1 наилучшей модели Cлучайный лес:\", best_f1_ups_RFC, \n",
    "      \"Количество деревьев:\", best_est_ups_RFC, \n",
    "      'Глубина:', best_depth_ups_RFC)"
   ]
  },
  {
   "cell_type": "markdown",
   "metadata": {},
   "source": [
    "#### Логистическая регрессия"
   ]
  },
  {
   "cell_type": "code",
   "execution_count": 24,
   "metadata": {},
   "outputs": [
    {
     "name": "stdout",
     "output_type": "stream",
     "text": [
      "F1: 0.5004226542688082\n"
     ]
    }
   ],
   "source": [
    "model_LR_ups = LogisticRegression(random_state=19191, solver='liblinear')\n",
    "model_LR_ups.fit(features_upsampled, target_upsampled)\n",
    "predicted_ups_LR = model_LR_ups.predict(features_valid)\n",
    "probabilities_valid_LR_ups = model_LR_ups.predict_proba(features_valid)\n",
    "probabilities_one_valid_LR_ups = probabilities_valid_LR_ups[:, 1]\n",
    "\n",
    "print(\"F1:\", f1_score(target_valid, predicted_ups_LR))"
   ]
  },
  {
   "cell_type": "markdown",
   "metadata": {},
   "source": [
    "Наилучший результат также у модели Случайного леса, однако показатель F1 немного меньше, чем у аналогичной модели, полученной при сбалансированным взвешивании классов"
   ]
  },
  {
   "cell_type": "markdown",
   "metadata": {},
   "source": [
    "### Уменьшение выборки"
   ]
  },
  {
   "cell_type": "code",
   "execution_count": 25,
   "metadata": {},
   "outputs": [],
   "source": [
    "def downsample(features, target, fraction):\n",
    "    features_zeros = features[target == 0]\n",
    "    features_ones = features[target == 1]\n",
    "    target_zeros = target[target == 0]\n",
    "    target_ones = target[target == 1]\n",
    "\n",
    "    features_downsampled = pd.concat(\n",
    "        [features_zeros.sample(frac=fraction, random_state=12345)] + [features_ones])\n",
    "    target_downsampled = pd.concat(\n",
    "        [target_zeros.sample(frac=fraction, random_state=12345)] + [target_ones])\n",
    "    \n",
    "    features_downsampled, target_downsampled = shuffle(\n",
    "        features_downsampled, target_downsampled, random_state=12345)\n",
    "    \n",
    "    return features_downsampled, target_downsampled"
   ]
  },
  {
   "cell_type": "code",
   "execution_count": 26,
   "metadata": {},
   "outputs": [],
   "source": [
    "features_downsampled, target_downsampled = downsample(features_train, target_train, 0.1)"
   ]
  },
  {
   "cell_type": "markdown",
   "metadata": {},
   "source": [
    "#### Дерево Решений"
   ]
  },
  {
   "cell_type": "code",
   "execution_count": 27,
   "metadata": {},
   "outputs": [
    {
     "name": "stdout",
     "output_type": "stream",
     "text": [
      "f1 наилучшей модели Дерево Решений: 0.511968085106383 глубина: 5\n"
     ]
    }
   ],
   "source": [
    "best_model_ds_DTC = None\n",
    "best_f1_ds_DTC = 0\n",
    "best_depth_ds_DTC = 0\n",
    "\n",
    "for depth in range(1, 10):\n",
    "    model_DTC = DecisionTreeClassifier(random_state=19191, max_depth=depth)\n",
    "    model_DTC.fit(features_downsampled, target_downsampled)\n",
    "\n",
    "    prediction = model_DTC.predict(features_valid)\n",
    "    f1_DTC = f1_score(target_valid, prediction)\n",
    "    if f1_DTC > best_f1_ds_DTC:\n",
    "        best_model_ds_DTC = model_DTC\n",
    "        best_f1_ds_DTC = f1_DTC\n",
    "        best_depth_ds_DTC = depth\n",
    "print(\"f1 наилучшей модели Дерево Решений:\", best_f1_ds_DTC, \"глубина:\", best_depth_ds_DTC)"
   ]
  },
  {
   "cell_type": "markdown",
   "metadata": {},
   "source": [
    "#### Случайный лес"
   ]
  },
  {
   "cell_type": "code",
   "execution_count": 28,
   "metadata": {},
   "outputs": [
    {
     "name": "stdout",
     "output_type": "stream",
     "text": [
      "f1 наилучшей модели Cлучайный лес: 0.43899895724713245 Количество деревьев: 20 Глубина: 5\n"
     ]
    }
   ],
   "source": [
    "best_model_ds_RFC = None\n",
    "best_f1_ds_RFC = 0\n",
    "best_est_ds_RFC = 0\n",
    "best_depth_ds_RFC = 0\n",
    "for est in range(20, 100, 10):\n",
    "    for depth in range(1, 6):\n",
    "        model_RFC = RandomForestClassifier(random_state=19191, n_estimators=est, max_depth=depth)\n",
    "        model_RFC.fit(features_downsampled, target_downsampled)\n",
    "        prediction = model_RFC.predict(features_valid)\n",
    "        f1_RFC = f1_score(target_valid, prediction)\n",
    "        if f1_RFC > best_f1_ds_RFC:\n",
    "            best_model_ds_RFC = model_RFC\n",
    "            best_f1_ds_RFC = f1_RFC\n",
    "            best_est_ds_RFC = est\n",
    "            best_depth_ds_RFC = depth\n",
    "print(\"f1 наилучшей модели Cлучайный лес:\", best_f1_ds_RFC, \n",
    "      \"Количество деревьев:\", best_est_ds_RFC, \n",
    "      'Глубина:', best_depth_ds_RFC)"
   ]
  },
  {
   "cell_type": "markdown",
   "metadata": {},
   "source": [
    "#### Логистическая регрессия"
   ]
  },
  {
   "cell_type": "code",
   "execution_count": 29,
   "metadata": {},
   "outputs": [
    {
     "name": "stdout",
     "output_type": "stream",
     "text": [
      "F1: 0.43454644215100496\n"
     ]
    }
   ],
   "source": [
    "model_LR_ds =  LogisticRegression(random_state=12345, solver='liblinear')\n",
    "model_LR_ds.fit(features_downsampled, target_downsampled)\n",
    "predicted_LR_ds = model_LR_ds.predict(features_valid)\n",
    "print(\"F1:\", f1_score(target_valid, predicted_LR_ds))"
   ]
  },
  {
   "cell_type": "markdown",
   "metadata": {},
   "source": [
    "При уменьшении выборки показатели моделей значительно хуже"
   ]
  },
  {
   "cell_type": "code",
   "execution_count": 30,
   "metadata": {},
   "outputs": [
    {
     "data": {
      "text/plain": [
       "<Figure size 432x288 with 0 Axes>"
      ]
     },
     "metadata": {},
     "output_type": "display_data"
    },
    {
     "data": {
      "image/png": "[encoded data removed]",
      "text/plain": [
       "<Figure size 720x504 with 1 Axes>"
      ]
     },
     "metadata": {
      "needs_background": "light"
     },
     "output_type": "display_data"
    }
   ],
   "source": [
    "fpr_DTC, tpr_DTC, thresholds = roc_curve(target_valid, probabilities_balanced_DTC)\n",
    "fpr_RFC, tpr_RFC, thresholds = roc_curve(target_valid, probabilities_balanced_RFC)\n",
    "fpr_LR, tpr_LR, thresholds = roc_curve(target_valid, probabilities_balanced_LR)\n",
    "\n",
    "#рассмотрим ROC-кривые моделей, в сбалансированных моделях\n",
    "\n",
    "plt.figure()\n",
    "\n",
    "plt.figure(figsize=(10,7))\n",
    "plt.plot([0, 1], [0, 1], linestyle='--')\n",
    "plt.xlim([0.0, 1.0])\n",
    "plt.ylim([0.0, 1.0])\n",
    "plt.plot(fpr_DTC, tpr_DTC)\n",
    "plt.plot(fpr_RFC, tpr_RFC)\n",
    "plt.plot(fpr_LR, tpr_LR)\n",
    "\n",
    "plt.xlabel('False Positive Rate')\n",
    "plt.ylabel('True Positive Rate')\n",
    "plt.title('ROC-кривая')\n",
    "plt.legend(('Случайная модель','Дерево решения','Случайный лес','Логистическая регрессия'),\n",
    "           loc= 'upper left') \n",
    "plt.show()"
   ]
  },
  {
   "cell_type": "markdown",
   "metadata": {},
   "source": [
    "Наилучший результат у модели Случайный лес с взвешиванием классов\n",
    "- Количество деревьев: 55 \n",
    "- Глубина: 8 \n",
    "- Минимальное количество объектов в листе: 6\n",
    "\n",
    "Показатели\n",
    "* F1 : 0.6471204188481676 \n",
    "* AUC-ROC 0.8255093843247346"
   ]
  },
  {
   "cell_type": "markdown",
   "metadata": {},
   "source": [
    "## Тестирование модели"
   ]
  },
  {
   "cell_type": "code",
   "execution_count": 31,
   "metadata": {},
   "outputs": [
    {
     "name": "stdout",
     "output_type": "stream",
     "text": [
      "Случайный лес на тестовой выборке:\n",
      "F1: 0.6136101499423299\n",
      "accuracy: 0.8325\n",
      "auc_roc: 0.859716995791622\n"
     ]
    }
   ],
   "source": [
    "final_test_predictions = best_model_balanced_RFC.predict(features_test)\n",
    "\n",
    "final_predicted = best_model_balanced_RFC.predict(features_test)\n",
    "final_probabilities_valid = best_model_balanced_RFC.predict_proba(features_test)\n",
    "final_probabilities_one_valid = final_probabilities_valid[:, 1]\n",
    "\n",
    "print('Случайный лес на тестовой выборке:')\n",
    "print(\"F1:\", f1_score(target_test, final_predicted))\n",
    "print(\"accuracy:\", accuracy_score(target_test, final_predicted))\n",
    "print(\"auc_roc:\", roc_auc_score(target_test, final_probabilities_one_valid))"
   ]
  },
  {
   "cell_type": "markdown",
   "metadata": {},
   "source": [
    "Цель достигнула: \n",
    "* F1 больше 0.59\n",
    "* AUC-ROC   0.858 (близко к 1, у случайной модели 0.5)"
   ]
  }
 ],
 "metadata": {
  "ExecuteTimeLog": [
   {
    "duration": 1520,
    "start_time": "2022-10-01T11:06:04.522Z"
   },
   {
    "duration": 4,
    "start_time": "2022-10-01T11:06:08.284Z"
   },
   {
    "duration": 3,
    "start_time": "2022-10-01T11:06:22.020Z"
   },
   {
    "duration": 88,
    "start_time": "2022-10-01T11:06:35.425Z"
   },
   {
    "duration": 15,
    "start_time": "2022-10-01T11:06:41.824Z"
   },
   {
    "duration": 48,
    "start_time": "2022-10-03T01:57:58.391Z"
   },
   {
    "duration": 1586,
    "start_time": "2022-10-03T01:58:04.557Z"
   },
   {
    "duration": 91,
    "start_time": "2022-10-03T01:58:06.146Z"
   },
   {
    "duration": 17,
    "start_time": "2022-10-03T01:58:06.240Z"
   },
   {
    "duration": 4,
    "start_time": "2022-10-03T01:58:06.259Z"
   },
   {
    "duration": 52,
    "start_time": "2022-10-03T01:59:15.459Z"
   },
   {
    "duration": 636,
    "start_time": "2022-10-03T02:06:49.283Z"
   },
   {
    "duration": 691,
    "start_time": "2022-10-03T02:07:01.693Z"
   },
   {
    "duration": 693,
    "start_time": "2022-10-03T02:09:01.348Z"
   },
   {
    "duration": 618,
    "start_time": "2022-10-03T02:09:15.401Z"
   },
   {
    "duration": 575,
    "start_time": "2022-10-03T02:09:26.198Z"
   },
   {
    "duration": 822,
    "start_time": "2022-10-03T02:09:33.328Z"
   },
   {
    "duration": 660,
    "start_time": "2022-10-03T02:09:41.504Z"
   },
   {
    "duration": 580,
    "start_time": "2022-10-03T02:10:17.124Z"
   },
   {
    "duration": 600,
    "start_time": "2022-10-03T02:10:54.163Z"
   },
   {
    "duration": 756,
    "start_time": "2022-10-03T02:13:45.149Z"
   },
   {
    "duration": 641,
    "start_time": "2022-10-03T02:16:55.605Z"
   },
   {
    "duration": 4,
    "start_time": "2022-10-03T02:17:17.533Z"
   },
   {
    "duration": 1312,
    "start_time": "2022-10-03T02:17:41.332Z"
   },
   {
    "duration": 8,
    "start_time": "2022-10-03T02:26:13.506Z"
   },
   {
    "duration": 5,
    "start_time": "2022-10-03T02:29:42.943Z"
   },
   {
    "duration": 126,
    "start_time": "2022-10-03T02:29:45.543Z"
   },
   {
    "duration": 11,
    "start_time": "2022-10-03T02:30:43.076Z"
   },
   {
    "duration": 730,
    "start_time": "2022-10-03T02:47:47.796Z"
   },
   {
    "duration": 18,
    "start_time": "2022-10-03T03:24:39.047Z"
   },
   {
    "duration": 138,
    "start_time": "2022-10-03T03:26:33.345Z"
   },
   {
    "duration": 122,
    "start_time": "2022-10-03T03:26:44.293Z"
   },
   {
    "duration": 54,
    "start_time": "2022-10-03T10:55:36.221Z"
   },
   {
    "duration": 1510,
    "start_time": "2022-10-03T10:55:40.555Z"
   },
   {
    "duration": 98,
    "start_time": "2022-10-03T10:55:42.067Z"
   },
   {
    "duration": 14,
    "start_time": "2022-10-03T10:55:42.167Z"
   },
   {
    "duration": 58,
    "start_time": "2022-10-03T10:55:42.184Z"
   },
   {
    "duration": 1361,
    "start_time": "2022-10-03T10:55:42.243Z"
   },
   {
    "duration": 539,
    "start_time": "2022-10-03T10:55:43.606Z"
   },
   {
    "duration": 3,
    "start_time": "2022-10-03T10:55:44.147Z"
   },
   {
    "duration": 6,
    "start_time": "2022-10-03T10:55:44.152Z"
   },
   {
    "duration": 16,
    "start_time": "2022-10-03T10:55:44.160Z"
   },
   {
    "duration": 9,
    "start_time": "2022-10-03T10:55:44.178Z"
   },
   {
    "duration": 34,
    "start_time": "2022-10-03T10:55:44.188Z"
   },
   {
    "duration": 118,
    "start_time": "2022-10-03T10:55:44.224Z"
   },
   {
    "duration": 30,
    "start_time": "2022-10-03T10:55:44.343Z"
   },
   {
    "duration": 40,
    "start_time": "2022-10-03T10:56:17.832Z"
   },
   {
    "duration": 40,
    "start_time": "2022-10-03T10:56:20.833Z"
   },
   {
    "duration": 4,
    "start_time": "2022-10-03T10:57:29.727Z"
   },
   {
    "duration": 128,
    "start_time": "2022-10-03T10:58:00.097Z"
   },
   {
    "duration": 19,
    "start_time": "2022-10-03T10:58:15.654Z"
   },
   {
    "duration": 31,
    "start_time": "2022-10-03T10:59:12.398Z"
   },
   {
    "duration": 1378,
    "start_time": "2022-10-03T11:10:22.022Z"
   },
   {
    "duration": 54,
    "start_time": "2022-10-03T11:10:23.402Z"
   },
   {
    "duration": 14,
    "start_time": "2022-10-03T11:10:23.458Z"
   },
   {
    "duration": 45,
    "start_time": "2022-10-03T11:10:23.474Z"
   },
   {
    "duration": 1470,
    "start_time": "2022-10-03T11:10:23.522Z"
   },
   {
    "duration": 559,
    "start_time": "2022-10-03T11:10:24.993Z"
   },
   {
    "duration": 4,
    "start_time": "2022-10-03T11:10:25.554Z"
   },
   {
    "duration": 10,
    "start_time": "2022-10-03T11:10:25.559Z"
   },
   {
    "duration": 17,
    "start_time": "2022-10-03T11:10:25.571Z"
   },
   {
    "duration": 4,
    "start_time": "2022-10-03T11:10:25.589Z"
   },
   {
    "duration": 27,
    "start_time": "2022-10-03T11:10:25.595Z"
   },
   {
    "duration": 128,
    "start_time": "2022-10-03T11:10:25.624Z"
   },
   {
    "duration": 23,
    "start_time": "2022-10-03T11:10:25.754Z"
   },
   {
    "duration": 49,
    "start_time": "2022-10-03T11:10:25.779Z"
   },
   {
    "duration": 191,
    "start_time": "2022-10-03T11:10:25.830Z"
   },
   {
    "duration": 26,
    "start_time": "2022-10-03T11:11:50.976Z"
   },
   {
    "duration": 35,
    "start_time": "2022-10-03T11:11:52.851Z"
   },
   {
    "duration": 4,
    "start_time": "2022-10-03T11:14:14.158Z"
   },
   {
    "duration": 116,
    "start_time": "2022-10-03T11:14:26.875Z"
   },
   {
    "duration": 9,
    "start_time": "2022-10-03T11:14:56.021Z"
   },
   {
    "duration": 28,
    "start_time": "2022-10-03T11:15:05.421Z"
   },
   {
    "duration": 125,
    "start_time": "2022-10-03T11:15:52.200Z"
   },
   {
    "duration": 6,
    "start_time": "2022-10-03T11:21:33.723Z"
   },
   {
    "duration": 8,
    "start_time": "2022-10-03T11:22:01.261Z"
   },
   {
    "duration": 12,
    "start_time": "2022-10-03T11:25:25.624Z"
   },
   {
    "duration": 56,
    "start_time": "2022-10-03T11:25:27.939Z"
   },
   {
    "duration": 90,
    "start_time": "2022-10-03T11:26:22.920Z"
   },
   {
    "duration": 4,
    "start_time": "2022-10-03T11:26:34.855Z"
   },
   {
    "duration": 178,
    "start_time": "2022-10-03T11:26:41.057Z"
   },
   {
    "duration": 38,
    "start_time": "2022-10-03T11:27:08.774Z"
   },
   {
    "duration": 3,
    "start_time": "2022-10-03T11:27:50.105Z"
   },
   {
    "duration": 307,
    "start_time": "2022-10-03T11:27:55.090Z"
   },
   {
    "duration": 28,
    "start_time": "2022-10-03T11:29:05.689Z"
   },
   {
    "duration": 64,
    "start_time": "2022-10-03T11:35:38.644Z"
   },
   {
    "duration": 29,
    "start_time": "2022-10-03T11:38:21.854Z"
   },
   {
    "duration": 1296,
    "start_time": "2022-10-03T11:39:10.365Z"
   },
   {
    "duration": 50,
    "start_time": "2022-10-03T11:39:11.662Z"
   },
   {
    "duration": 17,
    "start_time": "2022-10-03T11:39:11.714Z"
   },
   {
    "duration": 45,
    "start_time": "2022-10-03T11:39:11.733Z"
   },
   {
    "duration": 1352,
    "start_time": "2022-10-03T11:39:11.779Z"
   },
   {
    "duration": 5,
    "start_time": "2022-10-03T11:39:13.132Z"
   },
   {
    "duration": 11,
    "start_time": "2022-10-03T11:39:13.139Z"
   },
   {
    "duration": 27,
    "start_time": "2022-10-03T11:39:13.152Z"
   },
   {
    "duration": 122,
    "start_time": "2022-10-03T11:39:13.180Z"
   },
   {
    "duration": 345,
    "start_time": "2022-10-03T11:39:13.312Z"
   },
   {
    "duration": 0,
    "start_time": "2022-10-03T11:39:13.658Z"
   },
   {
    "duration": 0,
    "start_time": "2022-10-03T11:39:13.660Z"
   },
   {
    "duration": 0,
    "start_time": "2022-10-03T11:39:13.661Z"
   },
   {
    "duration": 0,
    "start_time": "2022-10-03T11:39:13.661Z"
   },
   {
    "duration": 0,
    "start_time": "2022-10-03T11:39:13.663Z"
   },
   {
    "duration": 0,
    "start_time": "2022-10-03T11:39:13.663Z"
   },
   {
    "duration": 0,
    "start_time": "2022-10-03T11:39:13.664Z"
   },
   {
    "duration": 0,
    "start_time": "2022-10-03T11:39:13.665Z"
   },
   {
    "duration": 0,
    "start_time": "2022-10-03T11:39:13.666Z"
   },
   {
    "duration": 0,
    "start_time": "2022-10-03T11:39:13.666Z"
   },
   {
    "duration": 0,
    "start_time": "2022-10-03T11:39:13.667Z"
   },
   {
    "duration": 0,
    "start_time": "2022-10-03T11:39:13.668Z"
   },
   {
    "duration": 1341,
    "start_time": "2022-10-03T11:39:54.884Z"
   },
   {
    "duration": 51,
    "start_time": "2022-10-03T11:39:56.227Z"
   },
   {
    "duration": 14,
    "start_time": "2022-10-03T11:39:56.280Z"
   },
   {
    "duration": 34,
    "start_time": "2022-10-03T11:39:56.296Z"
   },
   {
    "duration": 1278,
    "start_time": "2022-10-03T11:39:56.331Z"
   },
   {
    "duration": 4,
    "start_time": "2022-10-03T11:39:57.610Z"
   },
   {
    "duration": 7,
    "start_time": "2022-10-03T11:39:57.616Z"
   },
   {
    "duration": 122,
    "start_time": "2022-10-03T11:39:57.625Z"
   },
   {
    "duration": 520,
    "start_time": "2022-10-03T11:39:57.749Z"
   },
   {
    "duration": 17,
    "start_time": "2022-10-03T11:39:58.271Z"
   },
   {
    "duration": 4,
    "start_time": "2022-10-03T11:39:58.290Z"
   },
   {
    "duration": 19,
    "start_time": "2022-10-03T11:39:58.295Z"
   },
   {
    "duration": 34,
    "start_time": "2022-10-03T11:39:58.315Z"
   },
   {
    "duration": 7,
    "start_time": "2022-10-03T11:39:58.350Z"
   },
   {
    "duration": 57,
    "start_time": "2022-10-03T11:39:58.359Z"
   },
   {
    "duration": 126,
    "start_time": "2022-10-03T11:39:58.418Z"
   },
   {
    "duration": 140,
    "start_time": "2022-10-03T11:39:58.545Z"
   },
   {
    "duration": 0,
    "start_time": "2022-10-03T11:39:58.687Z"
   },
   {
    "duration": 0,
    "start_time": "2022-10-03T11:39:58.688Z"
   },
   {
    "duration": 0,
    "start_time": "2022-10-03T11:39:58.689Z"
   },
   {
    "duration": 0,
    "start_time": "2022-10-03T11:39:58.690Z"
   },
   {
    "duration": 0,
    "start_time": "2022-10-03T11:39:58.691Z"
   },
   {
    "duration": 1354,
    "start_time": "2022-10-03T11:41:20.679Z"
   },
   {
    "duration": 50,
    "start_time": "2022-10-03T11:41:22.034Z"
   },
   {
    "duration": 14,
    "start_time": "2022-10-03T11:41:22.085Z"
   },
   {
    "duration": 33,
    "start_time": "2022-10-03T11:41:22.101Z"
   },
   {
    "duration": 1312,
    "start_time": "2022-10-03T11:41:22.136Z"
   },
   {
    "duration": 4,
    "start_time": "2022-10-03T11:41:23.450Z"
   },
   {
    "duration": 8,
    "start_time": "2022-10-03T11:41:23.455Z"
   },
   {
    "duration": 123,
    "start_time": "2022-10-03T11:41:23.465Z"
   },
   {
    "duration": 509,
    "start_time": "2022-10-03T11:41:23.590Z"
   },
   {
    "duration": 21,
    "start_time": "2022-10-03T11:41:24.100Z"
   },
   {
    "duration": 4,
    "start_time": "2022-10-03T11:41:24.122Z"
   },
   {
    "duration": 7,
    "start_time": "2022-10-03T11:41:24.128Z"
   },
   {
    "duration": 26,
    "start_time": "2022-10-03T11:41:24.136Z"
   },
   {
    "duration": 6,
    "start_time": "2022-10-03T11:41:24.164Z"
   },
   {
    "duration": 64,
    "start_time": "2022-10-03T11:41:24.171Z"
   },
   {
    "duration": 201,
    "start_time": "2022-10-03T11:41:24.236Z"
   },
   {
    "duration": 152,
    "start_time": "2022-10-03T11:41:24.438Z"
   },
   {
    "duration": 0,
    "start_time": "2022-10-03T11:41:24.592Z"
   },
   {
    "duration": 0,
    "start_time": "2022-10-03T11:41:24.593Z"
   },
   {
    "duration": 0,
    "start_time": "2022-10-03T11:41:24.594Z"
   },
   {
    "duration": 0,
    "start_time": "2022-10-03T11:41:24.609Z"
   },
   {
    "duration": 1,
    "start_time": "2022-10-03T11:41:24.610Z"
   },
   {
    "duration": 39,
    "start_time": "2022-10-03T11:44:57.976Z"
   },
   {
    "duration": 32,
    "start_time": "2022-10-03T11:47:12.116Z"
   },
   {
    "duration": 11,
    "start_time": "2022-10-03T11:48:58.063Z"
   },
   {
    "duration": 4,
    "start_time": "2022-10-03T11:49:03.020Z"
   },
   {
    "duration": 11,
    "start_time": "2022-10-03T11:49:05.119Z"
   },
   {
    "duration": 135,
    "start_time": "2022-10-03T11:49:06.682Z"
   },
   {
    "duration": 177,
    "start_time": "2022-10-03T11:49:27.160Z"
   },
   {
    "duration": 31,
    "start_time": "2022-10-03T11:51:34.754Z"
   },
   {
    "duration": 1327,
    "start_time": "2022-10-03T11:51:39.874Z"
   },
   {
    "duration": 48,
    "start_time": "2022-10-03T11:51:41.203Z"
   },
   {
    "duration": 15,
    "start_time": "2022-10-03T11:51:41.252Z"
   },
   {
    "duration": 38,
    "start_time": "2022-10-03T11:51:41.269Z"
   },
   {
    "duration": 1276,
    "start_time": "2022-10-03T11:51:41.309Z"
   },
   {
    "duration": 4,
    "start_time": "2022-10-03T11:51:42.586Z"
   },
   {
    "duration": 8,
    "start_time": "2022-10-03T11:51:42.592Z"
   },
   {
    "duration": 116,
    "start_time": "2022-10-03T11:51:42.608Z"
   },
   {
    "duration": 508,
    "start_time": "2022-10-03T11:51:42.725Z"
   },
   {
    "duration": 16,
    "start_time": "2022-10-03T11:51:43.234Z"
   },
   {
    "duration": 4,
    "start_time": "2022-10-03T11:51:43.252Z"
   },
   {
    "duration": 11,
    "start_time": "2022-10-03T11:51:43.257Z"
   },
   {
    "duration": 53,
    "start_time": "2022-10-03T11:51:43.273Z"
   },
   {
    "duration": 6,
    "start_time": "2022-10-03T11:51:43.328Z"
   },
   {
    "duration": 24,
    "start_time": "2022-10-03T11:51:43.335Z"
   },
   {
    "duration": 126,
    "start_time": "2022-10-03T11:51:43.413Z"
   },
   {
    "duration": 17,
    "start_time": "2022-10-03T11:51:43.540Z"
   },
   {
    "duration": 55,
    "start_time": "2022-10-03T11:51:43.561Z"
   },
   {
    "duration": 17,
    "start_time": "2022-10-03T11:51:43.710Z"
   },
   {
    "duration": 270,
    "start_time": "2022-10-03T11:51:43.728Z"
   },
   {
    "duration": 0,
    "start_time": "2022-10-03T11:51:44.000Z"
   },
   {
    "duration": 0,
    "start_time": "2022-10-03T11:51:44.001Z"
   },
   {
    "duration": 193,
    "start_time": "2022-10-03T11:54:04.449Z"
   },
   {
    "duration": 307,
    "start_time": "2022-10-03T11:54:12.082Z"
   },
   {
    "duration": 24,
    "start_time": "2022-10-03T12:00:52.835Z"
   },
   {
    "duration": 23,
    "start_time": "2022-10-03T12:01:59.391Z"
   },
   {
    "duration": 3,
    "start_time": "2022-10-03T12:14:03.258Z"
   },
   {
    "duration": 25,
    "start_time": "2022-10-03T12:16:11.958Z"
   },
   {
    "duration": 9,
    "start_time": "2022-10-03T12:17:16.574Z"
   },
   {
    "duration": 761,
    "start_time": "2022-10-03T12:17:44.608Z"
   },
   {
    "duration": 1260,
    "start_time": "2022-10-03T12:17:58.564Z"
   },
   {
    "duration": 49,
    "start_time": "2022-10-03T12:17:59.826Z"
   },
   {
    "duration": 15,
    "start_time": "2022-10-03T12:17:59.876Z"
   },
   {
    "duration": 35,
    "start_time": "2022-10-03T12:17:59.893Z"
   },
   {
    "duration": 1350,
    "start_time": "2022-10-03T12:17:59.929Z"
   },
   {
    "duration": 5,
    "start_time": "2022-10-03T12:18:01.281Z"
   },
   {
    "duration": 28,
    "start_time": "2022-10-03T12:18:01.287Z"
   },
   {
    "duration": 134,
    "start_time": "2022-10-03T12:18:01.316Z"
   },
   {
    "duration": 528,
    "start_time": "2022-10-03T12:18:01.451Z"
   },
   {
    "duration": 28,
    "start_time": "2022-10-03T12:18:01.982Z"
   },
   {
    "duration": 123,
    "start_time": "2022-10-03T12:18:02.012Z"
   },
   {
    "duration": 0,
    "start_time": "2022-10-03T12:18:02.137Z"
   },
   {
    "duration": 0,
    "start_time": "2022-10-03T12:18:02.138Z"
   },
   {
    "duration": 0,
    "start_time": "2022-10-03T12:18:02.140Z"
   },
   {
    "duration": 0,
    "start_time": "2022-10-03T12:18:02.141Z"
   },
   {
    "duration": 0,
    "start_time": "2022-10-03T12:18:02.141Z"
   },
   {
    "duration": 0,
    "start_time": "2022-10-03T12:18:02.142Z"
   },
   {
    "duration": 0,
    "start_time": "2022-10-03T12:18:02.143Z"
   },
   {
    "duration": 0,
    "start_time": "2022-10-03T12:18:02.144Z"
   },
   {
    "duration": 0,
    "start_time": "2022-10-03T12:18:02.145Z"
   },
   {
    "duration": 0,
    "start_time": "2022-10-03T12:18:02.146Z"
   },
   {
    "duration": 0,
    "start_time": "2022-10-03T12:18:02.147Z"
   },
   {
    "duration": 0,
    "start_time": "2022-10-03T12:18:02.148Z"
   },
   {
    "duration": 1357,
    "start_time": "2022-10-03T12:18:51.471Z"
   },
   {
    "duration": 48,
    "start_time": "2022-10-03T12:18:52.830Z"
   },
   {
    "duration": 15,
    "start_time": "2022-10-03T12:18:52.879Z"
   },
   {
    "duration": 44,
    "start_time": "2022-10-03T12:18:52.896Z"
   },
   {
    "duration": 1316,
    "start_time": "2022-10-03T12:18:52.942Z"
   },
   {
    "duration": 4,
    "start_time": "2022-10-03T12:18:54.260Z"
   },
   {
    "duration": 28,
    "start_time": "2022-10-03T12:18:54.266Z"
   },
   {
    "duration": 152,
    "start_time": "2022-10-03T12:18:54.295Z"
   },
   {
    "duration": 575,
    "start_time": "2022-10-03T12:18:54.449Z"
   },
   {
    "duration": 18,
    "start_time": "2022-10-03T12:18:55.027Z"
   },
   {
    "duration": 30,
    "start_time": "2022-10-03T12:18:55.047Z"
   },
   {
    "duration": 17,
    "start_time": "2022-10-03T12:18:55.079Z"
   },
   {
    "duration": 12,
    "start_time": "2022-10-03T12:18:55.097Z"
   },
   {
    "duration": 13,
    "start_time": "2022-10-03T12:18:55.111Z"
   },
   {
    "duration": 290,
    "start_time": "2022-10-03T12:18:55.125Z"
   },
   {
    "duration": 0,
    "start_time": "2022-10-03T12:18:55.418Z"
   },
   {
    "duration": 0,
    "start_time": "2022-10-03T12:18:55.419Z"
   },
   {
    "duration": 0,
    "start_time": "2022-10-03T12:18:55.420Z"
   },
   {
    "duration": 0,
    "start_time": "2022-10-03T12:18:55.422Z"
   },
   {
    "duration": 0,
    "start_time": "2022-10-03T12:18:55.423Z"
   },
   {
    "duration": 0,
    "start_time": "2022-10-03T12:18:55.424Z"
   },
   {
    "duration": 0,
    "start_time": "2022-10-03T12:18:55.426Z"
   },
   {
    "duration": 0,
    "start_time": "2022-10-03T12:18:55.427Z"
   },
   {
    "duration": 99,
    "start_time": "2022-10-03T12:19:09.312Z"
   },
   {
    "duration": 1513,
    "start_time": "2022-10-03T12:19:13.110Z"
   },
   {
    "duration": 50,
    "start_time": "2022-10-03T12:19:14.625Z"
   },
   {
    "duration": 14,
    "start_time": "2022-10-03T12:19:14.677Z"
   },
   {
    "duration": 39,
    "start_time": "2022-10-03T12:19:14.693Z"
   },
   {
    "duration": 1300,
    "start_time": "2022-10-03T12:19:14.733Z"
   },
   {
    "duration": 4,
    "start_time": "2022-10-03T12:19:16.034Z"
   },
   {
    "duration": 8,
    "start_time": "2022-10-03T12:19:16.040Z"
   },
   {
    "duration": 121,
    "start_time": "2022-10-03T12:19:16.050Z"
   },
   {
    "duration": 545,
    "start_time": "2022-10-03T12:19:16.173Z"
   },
   {
    "duration": 17,
    "start_time": "2022-10-03T12:19:16.720Z"
   },
   {
    "duration": 21,
    "start_time": "2022-10-03T12:19:16.738Z"
   },
   {
    "duration": 6,
    "start_time": "2022-10-03T12:19:16.760Z"
   },
   {
    "duration": 8,
    "start_time": "2022-10-03T12:19:16.768Z"
   },
   {
    "duration": 5,
    "start_time": "2022-10-03T12:19:16.778Z"
   },
   {
    "duration": 25,
    "start_time": "2022-10-03T12:19:16.809Z"
   },
   {
    "duration": 127,
    "start_time": "2022-10-03T12:19:16.910Z"
   },
   {
    "duration": 821,
    "start_time": "2022-10-03T12:19:17.038Z"
   },
   {
    "duration": 4,
    "start_time": "2022-10-03T12:19:17.860Z"
   },
   {
    "duration": 24,
    "start_time": "2022-10-03T12:19:17.865Z"
   },
   {
    "duration": 185,
    "start_time": "2022-10-03T12:19:17.890Z"
   },
   {
    "duration": 291,
    "start_time": "2022-10-03T12:19:18.076Z"
   },
   {
    "duration": 0,
    "start_time": "2022-10-03T12:19:18.368Z"
   },
   {
    "duration": 0,
    "start_time": "2022-10-03T12:19:18.369Z"
   },
   {
    "duration": 126,
    "start_time": "2022-10-03T12:19:39.304Z"
   },
   {
    "duration": 194,
    "start_time": "2022-10-03T12:19:41.737Z"
   },
   {
    "duration": 278,
    "start_time": "2022-10-03T12:19:43.940Z"
   },
   {
    "duration": 172,
    "start_time": "2022-10-03T12:23:38.655Z"
   },
   {
    "duration": 193,
    "start_time": "2022-10-03T12:24:24.471Z"
   },
   {
    "duration": 294,
    "start_time": "2022-10-03T12:24:47.414Z"
   },
   {
    "duration": 181,
    "start_time": "2022-10-03T12:24:53.537Z"
   },
   {
    "duration": 101,
    "start_time": "2022-10-03T12:25:00.671Z"
   },
   {
    "duration": 34889,
    "start_time": "2022-10-03T12:26:16.005Z"
   },
   {
    "duration": 32929,
    "start_time": "2022-10-03T12:28:12.890Z"
   },
   {
    "duration": 39,
    "start_time": "2022-10-03T12:34:15.400Z"
   },
   {
    "duration": 42,
    "start_time": "2022-10-03T12:34:21.691Z"
   },
   {
    "duration": 231,
    "start_time": "2022-10-03T12:35:21.808Z"
   },
   {
    "duration": 10,
    "start_time": "2022-10-03T12:36:47.617Z"
   },
   {
    "duration": 1343,
    "start_time": "2022-10-03T12:36:51.635Z"
   },
   {
    "duration": 49,
    "start_time": "2022-10-03T12:36:52.980Z"
   },
   {
    "duration": 14,
    "start_time": "2022-10-03T12:36:53.031Z"
   },
   {
    "duration": 36,
    "start_time": "2022-10-03T12:36:53.046Z"
   },
   {
    "duration": 1312,
    "start_time": "2022-10-03T12:36:53.084Z"
   },
   {
    "duration": 5,
    "start_time": "2022-10-03T12:36:54.397Z"
   },
   {
    "duration": 19,
    "start_time": "2022-10-03T12:36:54.415Z"
   },
   {
    "duration": 156,
    "start_time": "2022-10-03T12:36:54.436Z"
   },
   {
    "duration": 544,
    "start_time": "2022-10-03T12:36:54.594Z"
   },
   {
    "duration": 18,
    "start_time": "2022-10-03T12:36:55.140Z"
   },
   {
    "duration": 23,
    "start_time": "2022-10-03T12:36:55.159Z"
   },
   {
    "duration": 3,
    "start_time": "2022-10-03T12:36:55.184Z"
   },
   {
    "duration": 10,
    "start_time": "2022-10-03T12:36:55.208Z"
   },
   {
    "duration": 7,
    "start_time": "2022-10-03T12:36:55.221Z"
   },
   {
    "duration": 81,
    "start_time": "2022-10-03T12:36:55.229Z"
   },
   {
    "duration": 123,
    "start_time": "2022-10-03T12:36:55.312Z"
   },
   {
    "duration": 783,
    "start_time": "2022-10-03T12:36:55.436Z"
   },
   {
    "duration": 4,
    "start_time": "2022-10-03T12:36:56.220Z"
   },
   {
    "duration": 15,
    "start_time": "2022-10-03T12:36:56.225Z"
   },
   {
    "duration": 114,
    "start_time": "2022-10-03T12:36:56.241Z"
   },
   {
    "duration": 32,
    "start_time": "2022-10-03T12:36:56.356Z"
   },
   {
    "duration": 32758,
    "start_time": "2022-10-03T12:36:56.390Z"
   },
   {
    "duration": 182,
    "start_time": "2022-10-03T12:37:29.149Z"
   },
   {
    "duration": 199,
    "start_time": "2022-10-03T12:37:29.332Z"
   },
   {
    "duration": 264,
    "start_time": "2022-10-03T12:37:29.532Z"
   },
   {
    "duration": 150,
    "start_time": "2022-10-03T12:37:29.799Z"
   },
   {
    "duration": 44530,
    "start_time": "2022-10-03T12:38:23.523Z"
   },
   {
    "duration": 181,
    "start_time": "2022-10-03T12:47:20.653Z"
   },
   {
    "duration": 1372,
    "start_time": "2022-10-03T12:49:52.978Z"
   },
   {
    "duration": 56,
    "start_time": "2022-10-03T12:49:54.351Z"
   },
   {
    "duration": 20,
    "start_time": "2022-10-03T12:49:54.409Z"
   },
   {
    "duration": 54,
    "start_time": "2022-10-03T12:49:54.432Z"
   },
   {
    "duration": 1324,
    "start_time": "2022-10-03T12:49:54.488Z"
   },
   {
    "duration": 4,
    "start_time": "2022-10-03T12:49:55.813Z"
   },
   {
    "duration": 8,
    "start_time": "2022-10-03T12:49:55.819Z"
   },
   {
    "duration": 119,
    "start_time": "2022-10-03T12:49:55.829Z"
   },
   {
    "duration": 521,
    "start_time": "2022-10-03T12:49:55.949Z"
   },
   {
    "duration": 17,
    "start_time": "2022-10-03T12:49:56.473Z"
   },
   {
    "duration": 33,
    "start_time": "2022-10-03T12:49:56.492Z"
   },
   {
    "duration": 4,
    "start_time": "2022-10-03T12:49:56.526Z"
   },
   {
    "duration": 10,
    "start_time": "2022-10-03T12:49:56.531Z"
   },
   {
    "duration": 9,
    "start_time": "2022-10-03T12:49:56.543Z"
   },
   {
    "duration": 59,
    "start_time": "2022-10-03T12:49:56.554Z"
   },
   {
    "duration": 215,
    "start_time": "2022-10-03T12:49:56.615Z"
   },
   {
    "duration": 777,
    "start_time": "2022-10-03T12:49:56.832Z"
   },
   {
    "duration": 4,
    "start_time": "2022-10-03T12:49:57.611Z"
   },
   {
    "duration": 15,
    "start_time": "2022-10-03T12:49:57.617Z"
   },
   {
    "duration": 158,
    "start_time": "2022-10-03T12:49:57.633Z"
   },
   {
    "duration": 47647,
    "start_time": "2022-10-03T12:49:57.792Z"
   },
   {
    "duration": 187,
    "start_time": "2022-10-03T12:50:45.441Z"
   },
   {
    "duration": 279,
    "start_time": "2022-10-03T12:50:45.630Z"
   },
   {
    "duration": 1268,
    "start_time": "2022-10-03T12:51:03.169Z"
   },
   {
    "duration": 57,
    "start_time": "2022-10-03T12:51:04.439Z"
   },
   {
    "duration": 18,
    "start_time": "2022-10-03T12:51:04.498Z"
   },
   {
    "duration": 44,
    "start_time": "2022-10-03T12:51:04.518Z"
   },
   {
    "duration": 1326,
    "start_time": "2022-10-03T12:51:04.564Z"
   },
   {
    "duration": 4,
    "start_time": "2022-10-03T12:51:05.892Z"
   },
   {
    "duration": 12,
    "start_time": "2022-10-03T12:51:05.897Z"
   },
   {
    "duration": 123,
    "start_time": "2022-10-03T12:51:05.911Z"
   },
   {
    "duration": 532,
    "start_time": "2022-10-03T12:51:06.035Z"
   },
   {
    "duration": 18,
    "start_time": "2022-10-03T12:51:06.569Z"
   },
   {
    "duration": 37,
    "start_time": "2022-10-03T12:51:06.588Z"
   },
   {
    "duration": 5,
    "start_time": "2022-10-03T12:51:06.627Z"
   },
   {
    "duration": 9,
    "start_time": "2022-10-03T12:51:06.633Z"
   },
   {
    "duration": 8,
    "start_time": "2022-10-03T12:51:06.644Z"
   },
   {
    "duration": 63,
    "start_time": "2022-10-03T12:51:06.654Z"
   },
   {
    "duration": 210,
    "start_time": "2022-10-03T12:51:06.719Z"
   },
   {
    "duration": 766,
    "start_time": "2022-10-03T12:51:06.931Z"
   },
   {
    "duration": 3,
    "start_time": "2022-10-03T12:51:07.699Z"
   },
   {
    "duration": 17,
    "start_time": "2022-10-03T12:51:07.703Z"
   },
   {
    "duration": 147,
    "start_time": "2022-10-03T12:51:07.722Z"
   },
   {
    "duration": 50111,
    "start_time": "2022-10-03T12:51:07.871Z"
   },
   {
    "duration": 237,
    "start_time": "2022-10-03T12:51:57.984Z"
   },
   {
    "duration": 270,
    "start_time": "2022-10-03T12:51:58.223Z"
   },
   {
    "duration": 4,
    "start_time": "2022-10-05T11:32:29.452Z"
   },
   {
    "duration": 3,
    "start_time": "2022-10-05T11:32:32.448Z"
   },
   {
    "duration": 45,
    "start_time": "2022-10-05T12:05:49.535Z"
   },
   {
    "duration": 8,
    "start_time": "2022-10-05T12:07:43.385Z"
   },
   {
    "duration": 6,
    "start_time": "2022-10-05T12:07:50.757Z"
   },
   {
    "duration": 1546,
    "start_time": "2022-10-05T12:11:04.031Z"
   },
   {
    "duration": 89,
    "start_time": "2022-10-05T12:11:05.579Z"
   },
   {
    "duration": 16,
    "start_time": "2022-10-05T12:11:05.669Z"
   },
   {
    "duration": 50,
    "start_time": "2022-10-05T12:11:05.686Z"
   },
   {
    "duration": 1388,
    "start_time": "2022-10-05T12:11:05.738Z"
   },
   {
    "duration": 4,
    "start_time": "2022-10-05T12:11:07.127Z"
   },
   {
    "duration": 4,
    "start_time": "2022-10-05T12:11:07.139Z"
   },
   {
    "duration": 142,
    "start_time": "2022-10-05T12:11:07.145Z"
   },
   {
    "duration": 602,
    "start_time": "2022-10-05T12:11:07.289Z"
   },
   {
    "duration": 17,
    "start_time": "2022-10-05T12:11:07.892Z"
   },
   {
    "duration": 43,
    "start_time": "2022-10-05T12:11:07.911Z"
   },
   {
    "duration": 4,
    "start_time": "2022-10-05T12:11:07.956Z"
   },
   {
    "duration": 9,
    "start_time": "2022-10-05T12:11:07.961Z"
   },
   {
    "duration": 6,
    "start_time": "2022-10-05T12:11:07.973Z"
   },
   {
    "duration": 158,
    "start_time": "2022-10-05T12:11:07.981Z"
   },
   {
    "duration": 126,
    "start_time": "2022-10-05T12:11:08.141Z"
   },
   {
    "duration": 835,
    "start_time": "2022-10-05T12:11:08.269Z"
   },
   {
    "duration": 0,
    "start_time": "2022-10-05T12:11:09.105Z"
   },
   {
    "duration": 0,
    "start_time": "2022-10-05T12:11:09.107Z"
   },
   {
    "duration": 0,
    "start_time": "2022-10-05T12:11:09.108Z"
   },
   {
    "duration": 1,
    "start_time": "2022-10-05T12:11:09.108Z"
   },
   {
    "duration": 0,
    "start_time": "2022-10-05T12:11:09.110Z"
   },
   {
    "duration": 0,
    "start_time": "2022-10-05T12:11:09.111Z"
   },
   {
    "duration": 0,
    "start_time": "2022-10-05T12:11:09.112Z"
   },
   {
    "duration": 0,
    "start_time": "2022-10-05T12:11:09.113Z"
   },
   {
    "duration": 0,
    "start_time": "2022-10-05T12:11:09.114Z"
   },
   {
    "duration": 715,
    "start_time": "2022-10-05T12:11:26.156Z"
   },
   {
    "duration": 1718,
    "start_time": "2022-10-05T12:11:46.059Z"
   },
   {
    "duration": 51,
    "start_time": "2022-10-05T12:11:47.779Z"
   },
   {
    "duration": 15,
    "start_time": "2022-10-05T12:11:47.832Z"
   },
   {
    "duration": 56,
    "start_time": "2022-10-05T12:11:47.849Z"
   },
   {
    "duration": 1453,
    "start_time": "2022-10-05T12:11:47.907Z"
   },
   {
    "duration": 4,
    "start_time": "2022-10-05T12:11:49.362Z"
   },
   {
    "duration": 11,
    "start_time": "2022-10-05T12:11:49.367Z"
   },
   {
    "duration": 143,
    "start_time": "2022-10-05T12:11:49.380Z"
   },
   {
    "duration": 558,
    "start_time": "2022-10-05T12:11:49.525Z"
   },
   {
    "duration": 19,
    "start_time": "2022-10-05T12:11:50.085Z"
   },
   {
    "duration": 44,
    "start_time": "2022-10-05T12:11:50.105Z"
   },
   {
    "duration": 5,
    "start_time": "2022-10-05T12:11:50.150Z"
   },
   {
    "duration": 19,
    "start_time": "2022-10-05T12:11:50.156Z"
   },
   {
    "duration": 13,
    "start_time": "2022-10-05T12:11:50.177Z"
   },
   {
    "duration": 59,
    "start_time": "2022-10-05T12:11:50.192Z"
   },
   {
    "duration": 152,
    "start_time": "2022-10-05T12:11:50.340Z"
   },
   {
    "duration": 714,
    "start_time": "2022-10-05T12:11:50.494Z"
   },
   {
    "duration": 31,
    "start_time": "2022-10-05T12:11:51.209Z"
   },
   {
    "duration": 99,
    "start_time": "2022-10-05T12:11:51.242Z"
   },
   {
    "duration": 135,
    "start_time": "2022-10-05T12:11:51.344Z"
   },
   {
    "duration": 142,
    "start_time": "2022-10-05T12:11:51.480Z"
   },
   {
    "duration": 48818,
    "start_time": "2022-10-05T12:11:51.623Z"
   },
   {
    "duration": 224,
    "start_time": "2022-10-05T12:12:40.443Z"
   },
   {
    "duration": 10,
    "start_time": "2022-10-05T12:12:40.668Z"
   },
   {
    "duration": 60,
    "start_time": "2022-10-05T12:12:40.680Z"
   },
   {
    "duration": 397,
    "start_time": "2022-10-05T12:12:40.743Z"
   },
   {
    "duration": 11,
    "start_time": "2022-10-05T12:14:42.733Z"
   },
   {
    "duration": 127,
    "start_time": "2022-10-05T12:14:44.658Z"
   },
   {
    "duration": 45882,
    "start_time": "2022-10-05T12:14:47.863Z"
   },
   {
    "duration": 11,
    "start_time": "2022-10-05T12:16:30.963Z"
   },
   {
    "duration": 8838,
    "start_time": "2022-10-05T12:16:32.537Z"
   },
   {
    "duration": 9,
    "start_time": "2022-10-05T12:16:46.955Z"
   },
   {
    "duration": 4,
    "start_time": "2022-10-05T12:22:00.984Z"
   },
   {
    "duration": 72,
    "start_time": "2022-10-05T12:22:10.170Z"
   },
   {
    "duration": 4087,
    "start_time": "2022-10-05T12:23:45.784Z"
   },
   {
    "duration": 3964,
    "start_time": "2022-10-05T12:24:01.618Z"
   },
   {
    "duration": 19,
    "start_time": "2022-10-05T12:24:52.318Z"
   },
   {
    "duration": 10,
    "start_time": "2022-10-05T12:27:22.985Z"
   },
   {
    "duration": 91,
    "start_time": "2022-10-05T12:32:56.984Z"
   },
   {
    "duration": 106,
    "start_time": "2022-10-05T12:35:28.530Z"
   },
   {
    "duration": 6500,
    "start_time": "2022-10-05T12:36:13.335Z"
   },
   {
    "duration": 100,
    "start_time": "2022-10-05T12:36:44.047Z"
   },
   {
    "duration": 6594,
    "start_time": "2022-10-05T12:36:47.100Z"
   },
   {
    "duration": 25,
    "start_time": "2022-10-05T12:37:54.367Z"
   },
   {
    "duration": 18,
    "start_time": "2022-10-05T12:43:20.824Z"
   },
   {
    "duration": 13,
    "start_time": "2022-10-05T12:43:57.066Z"
   },
   {
    "duration": 1453,
    "start_time": "2022-10-05T12:44:07.059Z"
   },
   {
    "duration": 61,
    "start_time": "2022-10-05T12:44:08.515Z"
   },
   {
    "duration": 21,
    "start_time": "2022-10-05T12:44:08.578Z"
   },
   {
    "duration": 52,
    "start_time": "2022-10-05T12:44:08.601Z"
   },
   {
    "duration": 1500,
    "start_time": "2022-10-05T12:44:08.655Z"
   },
   {
    "duration": 4,
    "start_time": "2022-10-05T12:44:10.157Z"
   },
   {
    "duration": 10,
    "start_time": "2022-10-05T12:44:10.163Z"
   },
   {
    "duration": 153,
    "start_time": "2022-10-05T12:44:10.175Z"
   },
   {
    "duration": 596,
    "start_time": "2022-10-05T12:44:10.338Z"
   },
   {
    "duration": 19,
    "start_time": "2022-10-05T12:44:10.940Z"
   },
   {
    "duration": 29,
    "start_time": "2022-10-05T12:44:10.961Z"
   },
   {
    "duration": 5,
    "start_time": "2022-10-05T12:44:10.991Z"
   },
   {
    "duration": 14,
    "start_time": "2022-10-05T12:44:10.997Z"
   },
   {
    "duration": 35,
    "start_time": "2022-10-05T12:44:11.013Z"
   },
   {
    "duration": 94,
    "start_time": "2022-10-05T12:44:11.050Z"
   },
   {
    "duration": 125,
    "start_time": "2022-10-05T12:44:11.147Z"
   },
   {
    "duration": 803,
    "start_time": "2022-10-05T12:44:11.274Z"
   },
   {
    "duration": 114,
    "start_time": "2022-10-05T12:44:12.078Z"
   },
   {
    "duration": 6669,
    "start_time": "2022-10-05T12:44:12.194Z"
   },
   {
    "duration": 74,
    "start_time": "2022-10-05T12:44:18.865Z"
   },
   {
    "duration": 96,
    "start_time": "2022-10-05T12:44:18.943Z"
   },
   {
    "duration": 13,
    "start_time": "2022-10-05T12:44:19.040Z"
   },
   {
    "duration": 138,
    "start_time": "2022-10-05T12:44:19.054Z"
   },
   {
    "duration": 10846,
    "start_time": "2022-10-05T12:44:19.194Z"
   },
   {
    "duration": 230,
    "start_time": "2022-10-05T12:44:30.041Z"
   },
   {
    "duration": 4,
    "start_time": "2022-10-05T12:44:30.272Z"
   },
   {
    "duration": 17,
    "start_time": "2022-10-05T12:44:30.277Z"
   },
   {
    "duration": 97,
    "start_time": "2022-10-05T12:44:30.297Z"
   },
   {
    "duration": 148,
    "start_time": "2022-10-05T12:44:30.396Z"
   },
   {
    "duration": 0,
    "start_time": "2022-10-05T12:44:30.545Z"
   },
   {
    "duration": 0,
    "start_time": "2022-10-05T12:44:30.546Z"
   },
   {
    "duration": 0,
    "start_time": "2022-10-05T12:44:30.547Z"
   },
   {
    "duration": 0,
    "start_time": "2022-10-05T12:44:30.548Z"
   },
   {
    "duration": 4512,
    "start_time": "2022-10-05T12:44:46.054Z"
   },
   {
    "duration": 80,
    "start_time": "2022-10-05T12:44:50.568Z"
   },
   {
    "duration": 311,
    "start_time": "2022-10-05T12:44:58.544Z"
   },
   {
    "duration": 11,
    "start_time": "2022-10-05T12:45:01.872Z"
   },
   {
    "duration": 21,
    "start_time": "2022-10-05T12:45:03.814Z"
   },
   {
    "duration": 8239,
    "start_time": "2022-10-05T12:45:37.070Z"
   },
   {
    "duration": 13290,
    "start_time": "2022-10-05T12:46:02.722Z"
   },
   {
    "duration": 288,
    "start_time": "2022-10-05T12:59:40.216Z"
   },
   {
    "duration": 1477,
    "start_time": "2022-10-05T12:59:52.729Z"
   },
   {
    "duration": 49,
    "start_time": "2022-10-05T12:59:54.207Z"
   },
   {
    "duration": 17,
    "start_time": "2022-10-05T12:59:54.258Z"
   },
   {
    "duration": 47,
    "start_time": "2022-10-05T12:59:54.277Z"
   },
   {
    "duration": 1422,
    "start_time": "2022-10-05T12:59:54.340Z"
   },
   {
    "duration": 145,
    "start_time": "2022-10-05T12:59:55.763Z"
   },
   {
    "duration": 4,
    "start_time": "2022-10-05T12:59:55.909Z"
   },
   {
    "duration": 211,
    "start_time": "2022-10-05T12:59:55.914Z"
   },
   {
    "duration": 539,
    "start_time": "2022-10-05T12:59:56.126Z"
   },
   {
    "duration": 19,
    "start_time": "2022-10-05T12:59:56.667Z"
   },
   {
    "duration": 43,
    "start_time": "2022-10-05T12:59:56.687Z"
   },
   {
    "duration": 9,
    "start_time": "2022-10-05T12:59:56.731Z"
   },
   {
    "duration": 22,
    "start_time": "2022-10-05T12:59:56.742Z"
   },
   {
    "duration": 24,
    "start_time": "2022-10-05T12:59:56.767Z"
   },
   {
    "duration": 130,
    "start_time": "2022-10-05T12:59:56.792Z"
   },
   {
    "duration": 0,
    "start_time": "2022-10-05T12:59:56.924Z"
   },
   {
    "duration": 0,
    "start_time": "2022-10-05T12:59:56.925Z"
   },
   {
    "duration": 0,
    "start_time": "2022-10-05T12:59:56.926Z"
   },
   {
    "duration": 0,
    "start_time": "2022-10-05T12:59:56.939Z"
   },
   {
    "duration": 0,
    "start_time": "2022-10-05T12:59:56.940Z"
   },
   {
    "duration": 0,
    "start_time": "2022-10-05T12:59:56.941Z"
   },
   {
    "duration": 0,
    "start_time": "2022-10-05T12:59:56.941Z"
   },
   {
    "duration": 0,
    "start_time": "2022-10-05T12:59:56.943Z"
   },
   {
    "duration": 0,
    "start_time": "2022-10-05T12:59:56.944Z"
   },
   {
    "duration": 0,
    "start_time": "2022-10-05T12:59:56.945Z"
   },
   {
    "duration": 0,
    "start_time": "2022-10-05T12:59:56.946Z"
   },
   {
    "duration": 0,
    "start_time": "2022-10-05T12:59:56.947Z"
   },
   {
    "duration": 0,
    "start_time": "2022-10-05T12:59:56.948Z"
   },
   {
    "duration": 0,
    "start_time": "2022-10-05T12:59:56.949Z"
   },
   {
    "duration": 0,
    "start_time": "2022-10-05T12:59:56.950Z"
   },
   {
    "duration": 0,
    "start_time": "2022-10-05T12:59:56.951Z"
   },
   {
    "duration": 0,
    "start_time": "2022-10-05T12:59:56.952Z"
   },
   {
    "duration": 0,
    "start_time": "2022-10-05T12:59:56.953Z"
   },
   {
    "duration": 207,
    "start_time": "2022-10-05T13:00:21.979Z"
   },
   {
    "duration": 1431,
    "start_time": "2022-10-05T13:00:35.124Z"
   },
   {
    "duration": 49,
    "start_time": "2022-10-05T13:00:36.557Z"
   },
   {
    "duration": 15,
    "start_time": "2022-10-05T13:00:36.608Z"
   },
   {
    "duration": 51,
    "start_time": "2022-10-05T13:00:36.624Z"
   },
   {
    "duration": 2411,
    "start_time": "2022-10-05T13:00:36.677Z"
   },
   {
    "duration": 127,
    "start_time": "2022-10-05T13:00:39.090Z"
   },
   {
    "duration": 4,
    "start_time": "2022-10-05T13:00:39.218Z"
   },
   {
    "duration": 214,
    "start_time": "2022-10-05T13:00:39.239Z"
   },
   {
    "duration": 566,
    "start_time": "2022-10-05T13:00:39.455Z"
   },
   {
    "duration": 28,
    "start_time": "2022-10-05T13:00:40.023Z"
   },
   {
    "duration": 30,
    "start_time": "2022-10-05T13:00:40.053Z"
   },
   {
    "duration": 5,
    "start_time": "2022-10-05T13:00:40.085Z"
   },
   {
    "duration": 22,
    "start_time": "2022-10-05T13:00:40.092Z"
   },
   {
    "duration": 22,
    "start_time": "2022-10-05T13:00:40.117Z"
   },
   {
    "duration": 131,
    "start_time": "2022-10-05T13:00:40.141Z"
   },
   {
    "duration": 0,
    "start_time": "2022-10-05T13:00:40.274Z"
   },
   {
    "duration": 0,
    "start_time": "2022-10-05T13:00:40.275Z"
   },
   {
    "duration": 0,
    "start_time": "2022-10-05T13:00:40.276Z"
   },
   {
    "duration": 0,
    "start_time": "2022-10-05T13:00:40.277Z"
   },
   {
    "duration": 0,
    "start_time": "2022-10-05T13:00:40.279Z"
   },
   {
    "duration": 0,
    "start_time": "2022-10-05T13:00:40.280Z"
   },
   {
    "duration": 0,
    "start_time": "2022-10-05T13:00:40.281Z"
   },
   {
    "duration": 0,
    "start_time": "2022-10-05T13:00:40.282Z"
   },
   {
    "duration": 0,
    "start_time": "2022-10-05T13:00:40.283Z"
   },
   {
    "duration": 0,
    "start_time": "2022-10-05T13:00:40.284Z"
   },
   {
    "duration": 0,
    "start_time": "2022-10-05T13:00:40.285Z"
   },
   {
    "duration": 0,
    "start_time": "2022-10-05T13:00:40.286Z"
   },
   {
    "duration": 0,
    "start_time": "2022-10-05T13:00:40.287Z"
   },
   {
    "duration": 0,
    "start_time": "2022-10-05T13:00:40.288Z"
   },
   {
    "duration": 0,
    "start_time": "2022-10-05T13:00:40.290Z"
   },
   {
    "duration": 0,
    "start_time": "2022-10-05T13:00:40.291Z"
   },
   {
    "duration": 0,
    "start_time": "2022-10-05T13:00:40.292Z"
   },
   {
    "duration": 0,
    "start_time": "2022-10-05T13:00:40.293Z"
   },
   {
    "duration": 20,
    "start_time": "2022-10-05T13:02:18.577Z"
   },
   {
    "duration": 1294,
    "start_time": "2022-10-05T13:03:21.096Z"
   },
   {
    "duration": 73,
    "start_time": "2022-10-05T13:03:22.392Z"
   },
   {
    "duration": 15,
    "start_time": "2022-10-05T13:03:22.467Z"
   },
   {
    "duration": 39,
    "start_time": "2022-10-05T13:03:22.484Z"
   },
   {
    "duration": 1406,
    "start_time": "2022-10-05T13:03:22.525Z"
   },
   {
    "duration": 131,
    "start_time": "2022-10-05T13:03:23.932Z"
   },
   {
    "duration": 4,
    "start_time": "2022-10-05T13:03:24.064Z"
   },
   {
    "duration": 212,
    "start_time": "2022-10-05T13:03:24.069Z"
   },
   {
    "duration": 12,
    "start_time": "2022-10-05T13:03:24.282Z"
   },
   {
    "duration": 577,
    "start_time": "2022-10-05T13:03:24.296Z"
   },
   {
    "duration": 20,
    "start_time": "2022-10-05T13:03:24.875Z"
   },
   {
    "duration": 43,
    "start_time": "2022-10-05T13:03:24.896Z"
   },
   {
    "duration": 5,
    "start_time": "2022-10-05T13:03:24.940Z"
   },
   {
    "duration": 10,
    "start_time": "2022-10-05T13:03:24.946Z"
   },
   {
    "duration": 7,
    "start_time": "2022-10-05T13:03:24.958Z"
   },
   {
    "duration": 127,
    "start_time": "2022-10-05T13:03:24.966Z"
   },
   {
    "duration": 0,
    "start_time": "2022-10-05T13:03:25.095Z"
   },
   {
    "duration": 0,
    "start_time": "2022-10-05T13:03:25.097Z"
   },
   {
    "duration": 0,
    "start_time": "2022-10-05T13:03:25.098Z"
   },
   {
    "duration": 0,
    "start_time": "2022-10-05T13:03:25.099Z"
   },
   {
    "duration": 0,
    "start_time": "2022-10-05T13:03:25.100Z"
   },
   {
    "duration": 0,
    "start_time": "2022-10-05T13:03:25.101Z"
   },
   {
    "duration": 1,
    "start_time": "2022-10-05T13:03:25.101Z"
   },
   {
    "duration": 0,
    "start_time": "2022-10-05T13:03:25.102Z"
   },
   {
    "duration": 0,
    "start_time": "2022-10-05T13:03:25.103Z"
   },
   {
    "duration": 0,
    "start_time": "2022-10-05T13:03:25.104Z"
   },
   {
    "duration": 0,
    "start_time": "2022-10-05T13:03:25.105Z"
   },
   {
    "duration": 0,
    "start_time": "2022-10-05T13:03:25.106Z"
   },
   {
    "duration": 0,
    "start_time": "2022-10-05T13:03:25.107Z"
   },
   {
    "duration": 0,
    "start_time": "2022-10-05T13:03:25.108Z"
   },
   {
    "duration": 0,
    "start_time": "2022-10-05T13:03:25.109Z"
   },
   {
    "duration": 0,
    "start_time": "2022-10-05T13:03:25.109Z"
   },
   {
    "duration": 0,
    "start_time": "2022-10-05T13:03:25.111Z"
   },
   {
    "duration": 0,
    "start_time": "2022-10-05T13:03:25.138Z"
   },
   {
    "duration": 149,
    "start_time": "2022-10-05T13:05:53.527Z"
   },
   {
    "duration": 145,
    "start_time": "2022-10-05T13:06:02.512Z"
   },
   {
    "duration": 6,
    "start_time": "2022-10-05T13:07:00.169Z"
   },
   {
    "duration": 12,
    "start_time": "2022-10-05T13:07:06.604Z"
   },
   {
    "duration": 220,
    "start_time": "2022-10-05T13:07:32.187Z"
   },
   {
    "duration": 1430,
    "start_time": "2022-10-05T13:07:47.601Z"
   },
   {
    "duration": 50,
    "start_time": "2022-10-05T13:07:49.033Z"
   },
   {
    "duration": 16,
    "start_time": "2022-10-05T13:07:49.084Z"
   },
   {
    "duration": 43,
    "start_time": "2022-10-05T13:07:49.101Z"
   },
   {
    "duration": 1511,
    "start_time": "2022-10-05T13:07:49.145Z"
   },
   {
    "duration": 131,
    "start_time": "2022-10-05T13:07:50.658Z"
   },
   {
    "duration": 5,
    "start_time": "2022-10-05T13:07:50.791Z"
   },
   {
    "duration": 230,
    "start_time": "2022-10-05T13:07:50.798Z"
   },
   {
    "duration": 15,
    "start_time": "2022-10-05T13:07:51.030Z"
   },
   {
    "duration": 568,
    "start_time": "2022-10-05T13:07:51.047Z"
   },
   {
    "duration": 31,
    "start_time": "2022-10-05T13:07:51.617Z"
   },
   {
    "duration": 148,
    "start_time": "2022-10-05T13:07:51.650Z"
   },
   {
    "duration": 0,
    "start_time": "2022-10-05T13:07:51.800Z"
   },
   {
    "duration": 0,
    "start_time": "2022-10-05T13:07:51.802Z"
   },
   {
    "duration": 0,
    "start_time": "2022-10-05T13:07:51.803Z"
   },
   {
    "duration": 0,
    "start_time": "2022-10-05T13:07:51.805Z"
   },
   {
    "duration": 0,
    "start_time": "2022-10-05T13:07:51.806Z"
   },
   {
    "duration": 0,
    "start_time": "2022-10-05T13:07:51.807Z"
   },
   {
    "duration": 0,
    "start_time": "2022-10-05T13:07:51.809Z"
   },
   {
    "duration": 0,
    "start_time": "2022-10-05T13:07:51.810Z"
   },
   {
    "duration": 1,
    "start_time": "2022-10-05T13:07:51.811Z"
   },
   {
    "duration": 0,
    "start_time": "2022-10-05T13:07:51.813Z"
   },
   {
    "duration": 0,
    "start_time": "2022-10-05T13:07:51.814Z"
   },
   {
    "duration": 0,
    "start_time": "2022-10-05T13:07:51.839Z"
   },
   {
    "duration": 0,
    "start_time": "2022-10-05T13:07:51.841Z"
   },
   {
    "duration": 0,
    "start_time": "2022-10-05T13:07:51.842Z"
   },
   {
    "duration": 0,
    "start_time": "2022-10-05T13:07:51.844Z"
   },
   {
    "duration": 0,
    "start_time": "2022-10-05T13:07:51.846Z"
   },
   {
    "duration": 0,
    "start_time": "2022-10-05T13:07:51.847Z"
   },
   {
    "duration": 0,
    "start_time": "2022-10-05T13:07:51.848Z"
   },
   {
    "duration": 0,
    "start_time": "2022-10-05T13:07:51.850Z"
   },
   {
    "duration": 0,
    "start_time": "2022-10-05T13:07:51.852Z"
   },
   {
    "duration": 0,
    "start_time": "2022-10-05T13:07:51.853Z"
   },
   {
    "duration": 0,
    "start_time": "2022-10-05T13:07:51.854Z"
   },
   {
    "duration": 147,
    "start_time": "2022-10-05T13:09:00.943Z"
   },
   {
    "duration": 140,
    "start_time": "2022-10-05T13:09:09.384Z"
   },
   {
    "duration": 132,
    "start_time": "2022-10-05T13:09:14.148Z"
   },
   {
    "duration": 29,
    "start_time": "2022-10-05T13:09:30.755Z"
   },
   {
    "duration": 1407,
    "start_time": "2022-10-05T13:09:35.994Z"
   },
   {
    "duration": 52,
    "start_time": "2022-10-05T13:09:37.403Z"
   },
   {
    "duration": 17,
    "start_time": "2022-10-05T13:09:37.456Z"
   },
   {
    "duration": 41,
    "start_time": "2022-10-05T13:09:37.475Z"
   },
   {
    "duration": 2409,
    "start_time": "2022-10-05T13:09:37.517Z"
   },
   {
    "duration": 135,
    "start_time": "2022-10-05T13:09:39.928Z"
   },
   {
    "duration": 5,
    "start_time": "2022-10-05T13:09:40.064Z"
   },
   {
    "duration": 156,
    "start_time": "2022-10-05T13:09:40.071Z"
   },
   {
    "duration": 20,
    "start_time": "2022-10-05T13:09:40.229Z"
   },
   {
    "duration": 564,
    "start_time": "2022-10-05T13:09:40.251Z"
   },
   {
    "duration": 26,
    "start_time": "2022-10-05T13:09:40.817Z"
   },
   {
    "duration": 28,
    "start_time": "2022-10-05T13:09:40.845Z"
   },
   {
    "duration": 4,
    "start_time": "2022-10-05T13:09:40.876Z"
   },
   {
    "duration": 9,
    "start_time": "2022-10-05T13:09:40.882Z"
   },
   {
    "duration": 10,
    "start_time": "2022-10-05T13:09:40.893Z"
   },
   {
    "duration": 136,
    "start_time": "2022-10-05T13:09:40.904Z"
   },
   {
    "duration": 127,
    "start_time": "2022-10-05T13:09:41.041Z"
   },
   {
    "duration": 774,
    "start_time": "2022-10-05T13:09:41.169Z"
   },
   {
    "duration": 113,
    "start_time": "2022-10-05T13:09:41.944Z"
   },
   {
    "duration": 13210,
    "start_time": "2022-10-05T13:09:42.059Z"
   },
   {
    "duration": 69,
    "start_time": "2022-10-05T13:09:55.271Z"
   },
   {
    "duration": 97,
    "start_time": "2022-10-05T13:09:55.343Z"
   },
   {
    "duration": 26,
    "start_time": "2022-10-05T13:09:55.442Z"
   },
   {
    "duration": 133,
    "start_time": "2022-10-05T13:09:55.470Z"
   },
   {
    "duration": 10446,
    "start_time": "2022-10-05T13:09:55.604Z"
   },
   {
    "duration": 215,
    "start_time": "2022-10-05T13:10:06.052Z"
   },
   {
    "duration": 3,
    "start_time": "2022-10-05T13:10:06.269Z"
   },
   {
    "duration": 12,
    "start_time": "2022-10-05T13:10:06.275Z"
   },
   {
    "duration": 91,
    "start_time": "2022-10-05T13:10:06.289Z"
   },
   {
    "duration": 4256,
    "start_time": "2022-10-05T13:10:06.382Z"
   },
   {
    "duration": 17,
    "start_time": "2022-10-05T13:10:10.640Z"
   },
   {
    "duration": 484,
    "start_time": "2022-10-05T13:10:10.659Z"
   },
   {
    "duration": 12,
    "start_time": "2022-10-05T13:10:11.145Z"
   },
   {
    "duration": 220,
    "start_time": "2022-10-05T13:10:11.159Z"
   },
   {
    "duration": 9,
    "start_time": "2022-10-05T13:10:27.856Z"
   },
   {
    "duration": 123,
    "start_time": "2022-10-05T13:10:29.946Z"
   },
   {
    "duration": 9075,
    "start_time": "2022-10-05T13:10:32.044Z"
   },
   {
    "duration": 1481,
    "start_time": "2022-10-05T13:16:40.472Z"
   },
   {
    "duration": 52,
    "start_time": "2022-10-05T13:16:41.955Z"
   },
   {
    "duration": 16,
    "start_time": "2022-10-05T13:16:42.008Z"
   },
   {
    "duration": 64,
    "start_time": "2022-10-05T13:16:42.027Z"
   },
   {
    "duration": 1477,
    "start_time": "2022-10-05T13:16:42.093Z"
   },
   {
    "duration": 138,
    "start_time": "2022-10-05T13:16:43.572Z"
   },
   {
    "duration": 4,
    "start_time": "2022-10-05T13:16:43.713Z"
   },
   {
    "duration": 160,
    "start_time": "2022-10-05T13:16:43.719Z"
   },
   {
    "duration": 11,
    "start_time": "2022-10-05T13:16:43.882Z"
   },
   {
    "duration": 650,
    "start_time": "2022-10-05T13:16:43.897Z"
   },
   {
    "duration": 19,
    "start_time": "2022-10-05T13:16:44.549Z"
   },
   {
    "duration": 81,
    "start_time": "2022-10-05T13:16:44.569Z"
   },
   {
    "duration": 5,
    "start_time": "2022-10-05T13:16:44.652Z"
   },
   {
    "duration": 224,
    "start_time": "2022-10-05T13:16:44.658Z"
   },
   {
    "duration": 0,
    "start_time": "2022-10-05T13:16:44.884Z"
   },
   {
    "duration": 0,
    "start_time": "2022-10-05T13:16:44.885Z"
   },
   {
    "duration": 0,
    "start_time": "2022-10-05T13:16:44.887Z"
   },
   {
    "duration": 0,
    "start_time": "2022-10-05T13:16:44.938Z"
   },
   {
    "duration": 0,
    "start_time": "2022-10-05T13:16:44.940Z"
   },
   {
    "duration": 0,
    "start_time": "2022-10-05T13:16:44.941Z"
   },
   {
    "duration": 0,
    "start_time": "2022-10-05T13:16:44.942Z"
   },
   {
    "duration": 0,
    "start_time": "2022-10-05T13:16:44.943Z"
   },
   {
    "duration": 0,
    "start_time": "2022-10-05T13:16:44.944Z"
   },
   {
    "duration": 0,
    "start_time": "2022-10-05T13:16:44.945Z"
   },
   {
    "duration": 0,
    "start_time": "2022-10-05T13:16:44.946Z"
   },
   {
    "duration": 0,
    "start_time": "2022-10-05T13:16:44.947Z"
   },
   {
    "duration": 0,
    "start_time": "2022-10-05T13:16:44.948Z"
   },
   {
    "duration": 0,
    "start_time": "2022-10-05T13:16:44.949Z"
   },
   {
    "duration": 0,
    "start_time": "2022-10-05T13:16:44.950Z"
   },
   {
    "duration": 0,
    "start_time": "2022-10-05T13:16:44.951Z"
   },
   {
    "duration": 0,
    "start_time": "2022-10-05T13:16:44.952Z"
   },
   {
    "duration": 0,
    "start_time": "2022-10-05T13:16:44.953Z"
   },
   {
    "duration": 0,
    "start_time": "2022-10-05T13:16:44.954Z"
   },
   {
    "duration": 0,
    "start_time": "2022-10-05T13:16:44.955Z"
   },
   {
    "duration": 14,
    "start_time": "2022-10-05T14:05:50.705Z"
   },
   {
    "duration": 17,
    "start_time": "2022-10-05T14:07:38.935Z"
   },
   {
    "duration": 7,
    "start_time": "2022-10-05T14:07:45.276Z"
   },
   {
    "duration": 6,
    "start_time": "2022-10-05T14:07:55.672Z"
   },
   {
    "duration": 20,
    "start_time": "2022-10-05T14:08:39.135Z"
   },
   {
    "duration": 12,
    "start_time": "2022-10-05T14:09:09.862Z"
   },
   {
    "duration": 1451,
    "start_time": "2022-10-05T14:09:22.472Z"
   },
   {
    "duration": 51,
    "start_time": "2022-10-05T14:09:23.925Z"
   },
   {
    "duration": 16,
    "start_time": "2022-10-05T14:09:23.977Z"
   },
   {
    "duration": 63,
    "start_time": "2022-10-05T14:09:23.995Z"
   },
   {
    "duration": 1442,
    "start_time": "2022-10-05T14:09:24.061Z"
   },
   {
    "duration": 134,
    "start_time": "2022-10-05T14:09:25.504Z"
   },
   {
    "duration": 5,
    "start_time": "2022-10-05T14:09:25.640Z"
   },
   {
    "duration": 155,
    "start_time": "2022-10-05T14:09:25.646Z"
   },
   {
    "duration": 12,
    "start_time": "2022-10-05T14:09:25.804Z"
   },
   {
    "duration": 589,
    "start_time": "2022-10-05T14:09:25.818Z"
   },
   {
    "duration": 18,
    "start_time": "2022-10-05T14:09:26.409Z"
   },
   {
    "duration": 28,
    "start_time": "2022-10-05T14:09:26.439Z"
   },
   {
    "duration": 4,
    "start_time": "2022-10-05T14:09:26.469Z"
   },
   {
    "duration": 23,
    "start_time": "2022-10-05T14:09:26.475Z"
   },
   {
    "duration": 8,
    "start_time": "2022-10-05T14:09:26.500Z"
   },
   {
    "duration": 131,
    "start_time": "2022-10-05T14:09:26.509Z"
   },
   {
    "duration": 130,
    "start_time": "2022-10-05T14:09:26.642Z"
   },
   {
    "duration": 786,
    "start_time": "2022-10-05T14:09:26.773Z"
   },
   {
    "duration": 118,
    "start_time": "2022-10-05T14:09:27.561Z"
   },
   {
    "duration": 15287,
    "start_time": "2022-10-05T14:09:27.680Z"
   },
   {
    "duration": 21,
    "start_time": "2022-10-05T14:09:42.969Z"
   },
   {
    "duration": 89,
    "start_time": "2022-10-05T14:09:43.050Z"
   },
   {
    "duration": 12,
    "start_time": "2022-10-05T14:09:43.141Z"
   },
   {
    "duration": 156,
    "start_time": "2022-10-05T14:09:43.154Z"
   },
   {
    "duration": 8876,
    "start_time": "2022-10-05T14:09:43.312Z"
   },
   {
    "duration": 179,
    "start_time": "2022-10-05T14:09:52.190Z"
   },
   {
    "duration": 4,
    "start_time": "2022-10-05T14:09:52.371Z"
   },
   {
    "duration": 44,
    "start_time": "2022-10-05T14:09:52.376Z"
   },
   {
    "duration": 87,
    "start_time": "2022-10-05T14:09:52.422Z"
   },
   {
    "duration": 4098,
    "start_time": "2022-10-05T14:09:52.510Z"
   },
   {
    "duration": 30,
    "start_time": "2022-10-05T14:09:56.610Z"
   },
   {
    "duration": 400,
    "start_time": "2022-10-05T14:09:56.642Z"
   },
   {
    "duration": 12,
    "start_time": "2022-10-05T14:09:57.044Z"
   },
   {
    "duration": 258,
    "start_time": "2022-10-05T14:09:57.058Z"
   },
   {
    "duration": 1377,
    "start_time": "2022-10-05T14:11:00.317Z"
   },
   {
    "duration": 53,
    "start_time": "2022-10-05T14:11:01.696Z"
   },
   {
    "duration": 16,
    "start_time": "2022-10-05T14:11:01.751Z"
   },
   {
    "duration": 51,
    "start_time": "2022-10-05T14:11:01.769Z"
   },
   {
    "duration": 1470,
    "start_time": "2022-10-05T14:11:01.822Z"
   },
   {
    "duration": 130,
    "start_time": "2022-10-05T14:11:03.294Z"
   },
   {
    "duration": 14,
    "start_time": "2022-10-05T14:11:03.425Z"
   },
   {
    "duration": 226,
    "start_time": "2022-10-05T14:11:03.440Z"
   },
   {
    "duration": 11,
    "start_time": "2022-10-05T14:11:03.668Z"
   },
   {
    "duration": 1186,
    "start_time": "2022-10-05T14:11:03.681Z"
   },
   {
    "duration": 71,
    "start_time": "2022-10-05T14:11:04.869Z"
   },
   {
    "duration": 28,
    "start_time": "2022-10-05T14:11:04.942Z"
   },
   {
    "duration": 5,
    "start_time": "2022-10-05T14:11:04.971Z"
   },
   {
    "duration": 61,
    "start_time": "2022-10-05T14:11:04.978Z"
   },
   {
    "duration": 8,
    "start_time": "2022-10-05T14:11:05.041Z"
   },
   {
    "duration": 189,
    "start_time": "2022-10-05T14:11:05.051Z"
   },
   {
    "duration": 130,
    "start_time": "2022-10-05T14:11:05.243Z"
   },
   {
    "duration": 838,
    "start_time": "2022-10-05T14:11:05.374Z"
   },
   {
    "duration": 116,
    "start_time": "2022-10-05T14:11:06.213Z"
   },
   {
    "duration": 13236,
    "start_time": "2022-10-05T14:11:06.330Z"
   },
   {
    "duration": 70,
    "start_time": "2022-10-05T14:11:19.568Z"
   },
   {
    "duration": 93,
    "start_time": "2022-10-05T14:11:19.648Z"
   },
   {
    "duration": 14,
    "start_time": "2022-10-05T14:11:19.742Z"
   },
   {
    "duration": 134,
    "start_time": "2022-10-05T14:11:19.758Z"
   },
   {
    "duration": 9594,
    "start_time": "2022-10-05T14:11:19.894Z"
   },
   {
    "duration": 183,
    "start_time": "2022-10-05T14:11:29.489Z"
   },
   {
    "duration": 4,
    "start_time": "2022-10-05T14:11:29.673Z"
   },
   {
    "duration": 13,
    "start_time": "2022-10-05T14:11:29.679Z"
   },
   {
    "duration": 102,
    "start_time": "2022-10-05T14:11:29.694Z"
   },
   {
    "duration": 3996,
    "start_time": "2022-10-05T14:11:29.798Z"
   },
   {
    "duration": 49,
    "start_time": "2022-10-05T14:11:33.796Z"
   },
   {
    "duration": 394,
    "start_time": "2022-10-05T14:11:33.847Z"
   },
   {
    "duration": 9,
    "start_time": "2022-10-05T14:11:34.243Z"
   },
   {
    "duration": 227,
    "start_time": "2022-10-05T14:11:34.254Z"
   },
   {
    "duration": 27,
    "start_time": "2022-10-05T14:14:05.678Z"
   },
   {
    "duration": 92,
    "start_time": "2022-10-05T14:15:26.047Z"
   },
   {
    "duration": 123,
    "start_time": "2022-10-05T14:17:21.349Z"
   },
   {
    "duration": 8965,
    "start_time": "2022-10-05T14:18:23.027Z"
   },
   {
    "duration": 94,
    "start_time": "2022-10-05T14:20:31.946Z"
   },
   {
    "duration": 78,
    "start_time": "2022-10-05T14:21:24.004Z"
   },
   {
    "duration": 4182,
    "start_time": "2022-10-05T14:22:11.004Z"
   },
   {
    "duration": 19,
    "start_time": "2022-10-05T14:23:01.931Z"
   },
   {
    "duration": 62,
    "start_time": "2022-10-05T14:23:28.656Z"
   },
   {
    "duration": 66480,
    "start_time": "2022-10-05T14:25:26.728Z"
   },
   {
    "duration": 44,
    "start_time": "2022-10-05T14:26:42.404Z"
   },
   {
    "duration": 46,
    "start_time": "2022-10-05T14:26:46.040Z"
   },
   {
    "duration": 1359,
    "start_time": "2022-10-05T14:29:04.709Z"
   },
   {
    "duration": 50,
    "start_time": "2022-10-05T14:29:06.070Z"
   },
   {
    "duration": 19,
    "start_time": "2022-10-05T14:29:06.121Z"
   },
   {
    "duration": 39,
    "start_time": "2022-10-05T14:29:06.142Z"
   },
   {
    "duration": 2371,
    "start_time": "2022-10-05T14:29:06.182Z"
   },
   {
    "duration": 148,
    "start_time": "2022-10-05T14:29:08.554Z"
   },
   {
    "duration": 5,
    "start_time": "2022-10-05T14:29:08.703Z"
   },
   {
    "duration": 146,
    "start_time": "2022-10-05T14:29:08.709Z"
   },
   {
    "duration": 11,
    "start_time": "2022-10-05T14:29:08.857Z"
   },
   {
    "duration": 569,
    "start_time": "2022-10-05T14:29:08.871Z"
   },
   {
    "duration": 18,
    "start_time": "2022-10-05T14:29:09.442Z"
   },
   {
    "duration": 30,
    "start_time": "2022-10-05T14:29:09.461Z"
   },
   {
    "duration": 5,
    "start_time": "2022-10-05T14:29:09.492Z"
   },
   {
    "duration": 16,
    "start_time": "2022-10-05T14:29:09.498Z"
   },
   {
    "duration": 7,
    "start_time": "2022-10-05T14:29:09.538Z"
   },
   {
    "duration": 98,
    "start_time": "2022-10-05T14:29:09.547Z"
   },
   {
    "duration": 197,
    "start_time": "2022-10-05T14:29:09.648Z"
   },
   {
    "duration": 732,
    "start_time": "2022-10-05T14:29:09.847Z"
   },
   {
    "duration": 113,
    "start_time": "2022-10-05T14:29:10.580Z"
   },
   {
    "duration": 24,
    "start_time": "2022-10-05T14:30:52.241Z"
   },
   {
    "duration": 6,
    "start_time": "2022-10-05T14:30:52.338Z"
   },
   {
    "duration": 105,
    "start_time": "2022-10-05T14:30:52.346Z"
   },
   {
    "duration": 145,
    "start_time": "2022-10-05T14:30:52.453Z"
   },
   {
    "duration": 10880,
    "start_time": "2022-10-05T14:30:52.599Z"
   },
   {
    "duration": 64,
    "start_time": "2022-10-05T14:31:03.482Z"
   },
   {
    "duration": 95,
    "start_time": "2022-10-05T14:31:03.548Z"
   },
   {
    "duration": 12,
    "start_time": "2022-10-05T14:31:03.738Z"
   },
   {
    "duration": 72,
    "start_time": "2022-10-05T14:31:03.751Z"
   },
   {
    "duration": 5044,
    "start_time": "2022-10-05T14:31:03.825Z"
   },
   {
    "duration": 15,
    "start_time": "2022-10-05T14:31:08.870Z"
   },
   {
    "duration": 401,
    "start_time": "2022-10-05T14:31:08.941Z"
   },
   {
    "duration": 13,
    "start_time": "2022-10-05T14:31:09.343Z"
   },
   {
    "duration": 209,
    "start_time": "2022-10-05T14:31:09.358Z"
   },
   {
    "duration": 27044,
    "start_time": "2022-10-05T14:32:56.038Z"
   },
   {
    "duration": 46,
    "start_time": "2022-10-05T14:33:42.666Z"
   },
   {
    "duration": 12,
    "start_time": "2022-10-05T14:34:23.097Z"
   },
   {
    "duration": 13069,
    "start_time": "2022-10-05T14:34:47.893Z"
   },
   {
    "duration": 21,
    "start_time": "2022-10-05T14:35:15.089Z"
   },
   {
    "duration": 45016,
    "start_time": "2022-10-05T14:35:30.690Z"
   },
   {
    "duration": 27,
    "start_time": "2022-10-05T14:36:41.300Z"
   },
   {
    "duration": 23339,
    "start_time": "2022-10-05T14:37:05.093Z"
   },
   {
    "duration": 27,
    "start_time": "2022-10-05T14:37:38.575Z"
   },
   {
    "duration": 52542,
    "start_time": "2022-10-05T14:38:14.320Z"
   },
   {
    "duration": 27,
    "start_time": "2022-10-05T14:39:19.128Z"
   },
   {
    "duration": 13713,
    "start_time": "2022-10-05T14:39:39.182Z"
   },
   {
    "duration": 13640,
    "start_time": "2022-10-05T14:39:59.021Z"
   },
   {
    "duration": 35,
    "start_time": "2022-10-05T14:46:26.345Z"
   },
   {
    "duration": 37,
    "start_time": "2022-10-05T14:49:09.323Z"
   },
   {
    "duration": 39,
    "start_time": "2022-10-05T14:51:12.847Z"
   },
   {
    "duration": 761,
    "start_time": "2022-10-05T14:51:26.807Z"
   },
   {
    "duration": 106,
    "start_time": "2022-10-05T14:52:58.935Z"
   },
   {
    "duration": 742,
    "start_time": "2022-10-05T14:53:11.256Z"
   },
   {
    "duration": 75,
    "start_time": "2022-10-05T14:53:22.464Z"
   },
   {
    "duration": 29,
    "start_time": "2022-10-05T14:53:31.721Z"
   },
   {
    "duration": 70,
    "start_time": "2022-10-05T14:56:49.519Z"
   },
   {
    "duration": 71,
    "start_time": "2022-10-05T14:56:56.735Z"
   },
   {
    "duration": 70,
    "start_time": "2022-10-05T14:58:22.857Z"
   },
   {
    "duration": 71,
    "start_time": "2022-10-05T14:58:59.772Z"
   },
   {
    "duration": 53,
    "start_time": "2022-10-05T15:07:09.553Z"
   },
   {
    "duration": 210,
    "start_time": "2022-10-05T15:07:20.684Z"
   },
   {
    "duration": 106,
    "start_time": "2022-10-05T15:07:30.121Z"
   },
   {
    "duration": 111,
    "start_time": "2022-10-05T15:08:16.060Z"
   },
   {
    "duration": 34285,
    "start_time": "2022-10-05T15:08:49.878Z"
   },
   {
    "duration": 34207,
    "start_time": "2022-10-05T15:10:59.457Z"
   },
   {
    "duration": 75,
    "start_time": "2022-10-05T15:11:33.666Z"
   },
   {
    "duration": 172,
    "start_time": "2022-10-05T15:16:37.732Z"
   },
   {
    "duration": 173,
    "start_time": "2022-10-05T15:17:03.865Z"
   },
   {
    "duration": 173,
    "start_time": "2022-10-05T15:20:32.809Z"
   },
   {
    "duration": 1298,
    "start_time": "2022-10-05T15:30:10.087Z"
   },
   {
    "duration": 51,
    "start_time": "2022-10-05T15:30:11.387Z"
   },
   {
    "duration": 16,
    "start_time": "2022-10-05T15:30:11.440Z"
   },
   {
    "duration": 52,
    "start_time": "2022-10-05T15:30:11.458Z"
   },
   {
    "duration": 1407,
    "start_time": "2022-10-05T15:30:11.512Z"
   },
   {
    "duration": 129,
    "start_time": "2022-10-05T15:30:12.920Z"
   },
   {
    "duration": 4,
    "start_time": "2022-10-05T15:30:13.051Z"
   },
   {
    "duration": 155,
    "start_time": "2022-10-05T15:30:13.057Z"
   },
   {
    "duration": 18,
    "start_time": "2022-10-05T15:30:13.214Z"
   },
   {
    "duration": 39,
    "start_time": "2022-10-05T15:30:13.240Z"
   },
   {
    "duration": 5,
    "start_time": "2022-10-05T15:30:13.280Z"
   },
   {
    "duration": 27,
    "start_time": "2022-10-05T15:30:13.286Z"
   },
   {
    "duration": 58,
    "start_time": "2022-10-05T15:30:13.314Z"
   },
   {
    "duration": 733,
    "start_time": "2022-10-05T15:30:13.374Z"
   },
   {
    "duration": 40,
    "start_time": "2022-10-05T15:30:14.109Z"
   },
   {
    "duration": 305,
    "start_time": "2022-10-05T15:30:14.240Z"
   },
   {
    "duration": 0,
    "start_time": "2022-10-05T15:30:14.547Z"
   },
   {
    "duration": 0,
    "start_time": "2022-10-05T15:30:14.548Z"
   },
   {
    "duration": 0,
    "start_time": "2022-10-05T15:30:14.549Z"
   },
   {
    "duration": 0,
    "start_time": "2022-10-05T15:30:14.550Z"
   },
   {
    "duration": 0,
    "start_time": "2022-10-05T15:30:14.551Z"
   },
   {
    "duration": 0,
    "start_time": "2022-10-05T15:30:14.552Z"
   },
   {
    "duration": 0,
    "start_time": "2022-10-05T15:30:14.554Z"
   },
   {
    "duration": 0,
    "start_time": "2022-10-05T15:30:14.555Z"
   },
   {
    "duration": 0,
    "start_time": "2022-10-05T15:30:14.556Z"
   },
   {
    "duration": 0,
    "start_time": "2022-10-05T15:30:14.557Z"
   },
   {
    "duration": 0,
    "start_time": "2022-10-05T15:30:14.558Z"
   },
   {
    "duration": 0,
    "start_time": "2022-10-05T15:30:14.559Z"
   },
   {
    "duration": 0,
    "start_time": "2022-10-05T15:30:14.560Z"
   },
   {
    "duration": 0,
    "start_time": "2022-10-05T15:30:14.561Z"
   },
   {
    "duration": 109,
    "start_time": "2022-10-05T15:30:28.831Z"
   },
   {
    "duration": 1366,
    "start_time": "2022-10-05T15:30:34.352Z"
   },
   {
    "duration": 51,
    "start_time": "2022-10-05T15:30:35.720Z"
   },
   {
    "duration": 16,
    "start_time": "2022-10-05T15:30:35.773Z"
   },
   {
    "duration": 48,
    "start_time": "2022-10-05T15:30:35.791Z"
   },
   {
    "duration": 1439,
    "start_time": "2022-10-05T15:30:35.841Z"
   },
   {
    "duration": 168,
    "start_time": "2022-10-05T15:30:37.282Z"
   },
   {
    "duration": 4,
    "start_time": "2022-10-05T15:30:37.453Z"
   },
   {
    "duration": 181,
    "start_time": "2022-10-05T15:30:37.459Z"
   },
   {
    "duration": 17,
    "start_time": "2022-10-05T15:30:37.642Z"
   },
   {
    "duration": 43,
    "start_time": "2022-10-05T15:30:37.661Z"
   },
   {
    "duration": 5,
    "start_time": "2022-10-05T15:30:37.706Z"
   },
   {
    "duration": 29,
    "start_time": "2022-10-05T15:30:37.712Z"
   },
   {
    "duration": 58,
    "start_time": "2022-10-05T15:30:37.742Z"
   },
   {
    "duration": 748,
    "start_time": "2022-10-05T15:30:37.803Z"
   },
   {
    "duration": 89,
    "start_time": "2022-10-05T15:30:38.553Z"
   },
   {
    "duration": 209,
    "start_time": "2022-10-05T15:30:38.644Z"
   },
   {
    "duration": 36590,
    "start_time": "2022-10-05T15:30:38.854Z"
   },
   {
    "duration": 0,
    "start_time": "2022-10-05T15:31:15.445Z"
   },
   {
    "duration": 0,
    "start_time": "2022-10-05T15:31:15.447Z"
   },
   {
    "duration": 0,
    "start_time": "2022-10-05T15:31:15.448Z"
   },
   {
    "duration": 0,
    "start_time": "2022-10-05T15:31:15.449Z"
   },
   {
    "duration": 0,
    "start_time": "2022-10-05T15:31:15.449Z"
   },
   {
    "duration": 0,
    "start_time": "2022-10-05T15:31:15.450Z"
   },
   {
    "duration": 0,
    "start_time": "2022-10-05T15:31:15.451Z"
   },
   {
    "duration": 0,
    "start_time": "2022-10-05T15:31:15.452Z"
   },
   {
    "duration": 0,
    "start_time": "2022-10-05T15:31:15.453Z"
   },
   {
    "duration": 0,
    "start_time": "2022-10-05T15:31:15.454Z"
   },
   {
    "duration": 0,
    "start_time": "2022-10-05T15:31:15.455Z"
   },
   {
    "duration": 0,
    "start_time": "2022-10-05T15:31:15.456Z"
   },
   {
    "duration": 0,
    "start_time": "2022-10-05T15:31:15.457Z"
   },
   {
    "duration": 1647,
    "start_time": "2022-10-05T15:32:11.171Z"
   },
   {
    "duration": 50,
    "start_time": "2022-10-05T15:32:12.820Z"
   },
   {
    "duration": 16,
    "start_time": "2022-10-05T15:32:12.872Z"
   },
   {
    "duration": 41,
    "start_time": "2022-10-05T15:32:12.890Z"
   },
   {
    "duration": 1392,
    "start_time": "2022-10-05T15:32:12.939Z"
   },
   {
    "duration": 125,
    "start_time": "2022-10-05T15:32:14.334Z"
   },
   {
    "duration": 4,
    "start_time": "2022-10-05T15:32:14.461Z"
   },
   {
    "duration": 153,
    "start_time": "2022-10-05T15:32:14.466Z"
   },
   {
    "duration": 25,
    "start_time": "2022-10-05T15:32:14.621Z"
   },
   {
    "duration": 26,
    "start_time": "2022-10-05T15:32:14.648Z"
   },
   {
    "duration": 4,
    "start_time": "2022-10-05T15:32:14.675Z"
   },
   {
    "duration": 11,
    "start_time": "2022-10-05T15:32:14.681Z"
   },
   {
    "duration": 60,
    "start_time": "2022-10-05T15:32:14.694Z"
   },
   {
    "duration": 703,
    "start_time": "2022-10-05T15:32:14.755Z"
   },
   {
    "duration": 81,
    "start_time": "2022-10-05T15:32:15.460Z"
   },
   {
    "duration": 213,
    "start_time": "2022-10-05T15:32:15.543Z"
   },
   {
    "duration": 35149,
    "start_time": "2022-10-05T15:32:15.758Z"
   },
   {
    "duration": 40,
    "start_time": "2022-10-05T15:32:50.909Z"
   },
   {
    "duration": 6,
    "start_time": "2022-10-05T15:32:51.040Z"
   },
   {
    "duration": 104,
    "start_time": "2022-10-05T15:32:51.048Z"
   },
   {
    "duration": 130,
    "start_time": "2022-10-05T15:32:51.154Z"
   },
   {
    "duration": 11743,
    "start_time": "2022-10-05T15:32:51.286Z"
   },
   {
    "duration": 297,
    "start_time": "2022-10-05T15:33:03.030Z"
   },
   {
    "duration": 0,
    "start_time": "2022-10-05T15:33:03.328Z"
   },
   {
    "duration": 0,
    "start_time": "2022-10-05T15:33:03.338Z"
   },
   {
    "duration": 0,
    "start_time": "2022-10-05T15:33:03.339Z"
   },
   {
    "duration": 0,
    "start_time": "2022-10-05T15:33:03.341Z"
   },
   {
    "duration": 0,
    "start_time": "2022-10-05T15:33:03.341Z"
   },
   {
    "duration": 0,
    "start_time": "2022-10-05T15:33:03.342Z"
   },
   {
    "duration": 0,
    "start_time": "2022-10-05T15:33:03.343Z"
   },
   {
    "duration": 112,
    "start_time": "2022-10-05T15:34:14.937Z"
   },
   {
    "duration": 6,
    "start_time": "2022-10-05T15:34:17.191Z"
   },
   {
    "duration": 14,
    "start_time": "2022-10-05T15:34:19.572Z"
   },
   {
    "duration": 86,
    "start_time": "2022-10-05T15:34:21.425Z"
   },
   {
    "duration": 4114,
    "start_time": "2022-10-05T15:34:40.543Z"
   },
   {
    "duration": 82,
    "start_time": "2022-10-05T15:34:44.659Z"
   },
   {
    "duration": 270,
    "start_time": "2022-10-05T15:34:44.743Z"
   },
   {
    "duration": 75,
    "start_time": "2022-10-05T15:34:45.015Z"
   }
  ],
  "kernelspec": {
   "display_name": "Python 3",
   "language": "python",
   "name": "python3"
  },
  "language_info": {
   "codemirror_mode": {
    "name": "ipython",
    "version": 3
   },
   "file_extension": ".py",
   "mimetype": "text/x-python",
   "name": "python",
   "nbconvert_exporter": "python",
   "pygments_lexer": "ipython3",
   "version": "3.8.5"
  },
  "toc": {
   "base_numbering": 1,
   "nav_menu": {},
   "number_sections": true,
   "sideBar": true,
   "skip_h1_title": true,
   "title_cell": "Содержание",
   "title_sidebar": "Contents",
   "toc_cell": true,
   "toc_position": {
    "height": "calc(100% - 180px)",
    "left": "10px",
    "top": "150px",
    "width": "200.052px"
   },
   "toc_section_display": true,
   "toc_window_display": true
  }
 },
 "nbformat": 4,
 "nbformat_minor": 2
}
