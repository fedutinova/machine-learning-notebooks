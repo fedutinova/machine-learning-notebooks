{
 "cells": [
  {
   "cell_type": "markdown",
   "metadata": {},
   "source": [
    "# Восстановление золота из руды"
   ]
  },
  {
   "cell_type": "markdown",
   "metadata": {},
   "source": [
    "Подготовьте прототип модели машинного обучения для «Цифры». Компания разрабатывает решения для эффективной работы промышленных предприятий.\n",
    "\n",
    "Модель должна предсказать коэффициент восстановления золота из золотосодержащей руды. Используйте данные с параметрами добычи и очистки. \n",
    "\n",
    "Модель поможет оптимизировать производство, чтобы не запускать предприятие с убыточными характеристиками.\n",
    "\n",
    "Вам нужно:\n",
    "\n",
    "1. Подготовить данные;\n",
    "2. Провести исследовательский анализ данных;\n",
    "3. Построить и обучить модель.\n",
    "\n",
    "Чтобы выполнить проект, обращайтесь к библиотекам *pandas*, *matplotlib* и *sklearn.* Вам поможет их документация."
   ]
  },
  {
   "cell_type": "markdown",
   "metadata": {},
   "source": [
    "* rougher — флотация \n",
    "* primary_cleaner — первичная очистка \n",
    "* secondary_cleaner — вторичная очистка \n",
    "* final — финальные характеристики \n",
    "\n",
    "блок [тип_параметра]: \n",
    "* input — параметры сырья \n",
    "* output — параметры продукта \n",
    "* state — параметры, характеризующие текущее состояние этапа \n",
    "* calculation — расчётные характеристики "
   ]
  },
  {
   "cell_type": "markdown",
   "metadata": {
    "toc": true
   },
   "source": [
    "<h1>Содержание<span class=\"tocSkip\"></span></h1>\n",
    "<div class=\"toc\"><ul class=\"toc-item\"><li><span><a href=\"#Подготовка-данных\" data-toc-modified-id=\"Подготовка-данных-1\"><span class=\"toc-item-num\">1&nbsp;&nbsp;</span>Подготовка данных</a></span><ul class=\"toc-item\"><li><span><a href=\"#Открытие-и-изучение-данных\" data-toc-modified-id=\"Открытие-и-изучение-данных-1.1\"><span class=\"toc-item-num\">1.1&nbsp;&nbsp;</span>Открытие и изучение данных</a></span></li><li><span><a href=\"#Расчёт-эффективности-обогащения\" data-toc-modified-id=\"Расчёт-эффективности-обогащения-1.2\"><span class=\"toc-item-num\">1.2&nbsp;&nbsp;</span>Расчёт эффективности обогащения</a></span></li><li><span><a href=\"#Анализ-признаков,-недоступных-в-тестовой-выборке\" data-toc-modified-id=\"Анализ-признаков,-недоступных-в-тестовой-выборке-1.3\"><span class=\"toc-item-num\">1.3&nbsp;&nbsp;</span>Анализ признаков, недоступных в тестовой выборке</a></span></li><li><span><a href=\"#Предобработка-данных\" data-toc-modified-id=\"Предобработка-данных-1.4\"><span class=\"toc-item-num\">1.4&nbsp;&nbsp;</span>Предобработка данных</a></span></li></ul></li><li><span><a href=\"#Анализ-данных\" data-toc-modified-id=\"Анализ-данных-2\"><span class=\"toc-item-num\">2&nbsp;&nbsp;</span>Анализ данных</a></span><ul class=\"toc-item\"><li><span><a href=\"#Концентрация-металлов-(Au,-Ag,-Pb)-на-различных-этапах-очистки\" data-toc-modified-id=\"Концентрация-металлов-(Au,-Ag,-Pb)-на-различных-этапах-очистки-2.1\"><span class=\"toc-item-num\">2.1&nbsp;&nbsp;</span>Концентрация металлов (Au, Ag, Pb) на различных этапах очистки</a></span></li><li><span><a href=\"#Сравнение-распределения-размеров-гранул-сырья\" data-toc-modified-id=\"Сравнение-распределения-размеров-гранул-сырья-2.2\"><span class=\"toc-item-num\">2.2&nbsp;&nbsp;</span>Сравнение распределения размеров гранул сырья</a></span></li><li><span><a href=\"#Концентрация-всех-веществ-на-разных-стадиях\" data-toc-modified-id=\"Концентрация-всех-веществ-на-разных-стадиях-2.3\"><span class=\"toc-item-num\">2.3&nbsp;&nbsp;</span>Концентрация всех веществ на разных стадиях</a></span></li></ul></li><li><span><a href=\"#Модель\" data-toc-modified-id=\"Модель-3\"><span class=\"toc-item-num\">3&nbsp;&nbsp;</span>Модель</a></span></li><li><span><a href=\"#Чек-лист-готовности-проекта\" data-toc-modified-id=\"Чек-лист-готовности-проекта-4\"><span class=\"toc-item-num\">4&nbsp;&nbsp;</span>Чек-лист готовности проекта</a></span></li></ul></div>"
   ]
  },
  {
   "cell_type": "markdown",
   "metadata": {},
   "source": [
    "## Подготовка данных"
   ]
  },
  {
   "cell_type": "markdown",
   "metadata": {},
   "source": [
    "### Открытие и изучение данных"
   ]
  },
  {
   "cell_type": "code",
   "execution_count": 1,
   "metadata": {},
   "outputs": [],
   "source": [
    "import pandas as pd\n",
    "import matplotlib.pyplot as plt\n",
    "import seaborn as sns\n",
    "import numpy as np\n",
    "from sklearn.dummy import DummyRegressor\n",
    "from sklearn.ensemble import RandomForestRegressor\n",
    "from sklearn.linear_model import LinearRegression\n",
    "from sklearn.tree import DecisionTreeRegressor\n",
    "from sklearn.model_selection import cross_val_score, GridSearchCV\n",
    "from sklearn.metrics import mean_absolute_error, make_scorer"
   ]
  },
  {
   "cell_type": "code",
   "execution_count": 2,
   "metadata": {},
   "outputs": [],
   "source": [
    "train = pd.read_csv('/datasets/gold_recovery_train_new.csv', index_col='date')\n",
    "test = pd.read_csv('/datasets/gold_recovery_test_new.csv', index_col='date')\n",
    "full = pd.read_csv('/datasets/gold_recovery_full_new.csv', index_col='date')"
   ]
  },
  {
   "cell_type": "code",
   "execution_count": 3,
   "metadata": {},
   "outputs": [],
   "source": [
    "def analyze(df):\n",
    "    rows_count, columns_count = df.shape\n",
    "    print('Количество стобцов:', columns_count)\n",
    "    print('Количество строк:', rows_count)\n",
    "    print('Дубликатов:', df.duplicated().sum())\n",
    "    display(df.head())\n",
    "    df.info()\n",
    "    display(df.describe())"
   ]
  },
  {
   "cell_type": "code",
   "execution_count": 4,
   "metadata": {},
   "outputs": [
    {
     "name": "stdout",
     "output_type": "stream",
     "text": [
      "Количество стобцов: 86\n",
      "Количество строк: 14149\n",
      "Дубликатов: 0\n"
     ]
    },
    {
     "data": {
      "text/html": [
       "<div>\n",
       "<style scoped>\n",
       "    .dataframe tbody tr th:only-of-type {\n",
       "        vertical-align: middle;\n",
       "    }\n",
       "\n",
       "    .dataframe tbody tr th {\n",
       "        vertical-align: top;\n",
       "    }\n",
       "\n",
       "    .dataframe thead th {\n",
       "        text-align: right;\n",
       "    }\n",
       "</style>\n",
       "<table border=\"1\" class=\"dataframe\">\n",
       "  <thead>\n",
       "    <tr style=\"text-align: right;\">\n",
       "      <th></th>\n",
       "      <th>final.output.concentrate_ag</th>\n",
       "      <th>final.output.concentrate_pb</th>\n",
       "      <th>final.output.concentrate_sol</th>\n",
       "      <th>final.output.concentrate_au</th>\n",
       "      <th>final.output.recovery</th>\n",
       "      <th>final.output.tail_ag</th>\n",
       "      <th>final.output.tail_pb</th>\n",
       "      <th>final.output.tail_sol</th>\n",
       "      <th>final.output.tail_au</th>\n",
       "      <th>primary_cleaner.input.sulfate</th>\n",
       "      <th>...</th>\n",
       "      <th>secondary_cleaner.state.floatbank4_a_air</th>\n",
       "      <th>secondary_cleaner.state.floatbank4_a_level</th>\n",
       "      <th>secondary_cleaner.state.floatbank4_b_air</th>\n",
       "      <th>secondary_cleaner.state.floatbank4_b_level</th>\n",
       "      <th>secondary_cleaner.state.floatbank5_a_air</th>\n",
       "      <th>secondary_cleaner.state.floatbank5_a_level</th>\n",
       "      <th>secondary_cleaner.state.floatbank5_b_air</th>\n",
       "      <th>secondary_cleaner.state.floatbank5_b_level</th>\n",
       "      <th>secondary_cleaner.state.floatbank6_a_air</th>\n",
       "      <th>secondary_cleaner.state.floatbank6_a_level</th>\n",
       "    </tr>\n",
       "    <tr>\n",
       "      <th>date</th>\n",
       "      <th></th>\n",
       "      <th></th>\n",
       "      <th></th>\n",
       "      <th></th>\n",
       "      <th></th>\n",
       "      <th></th>\n",
       "      <th></th>\n",
       "      <th></th>\n",
       "      <th></th>\n",
       "      <th></th>\n",
       "      <th></th>\n",
       "      <th></th>\n",
       "      <th></th>\n",
       "      <th></th>\n",
       "      <th></th>\n",
       "      <th></th>\n",
       "      <th></th>\n",
       "      <th></th>\n",
       "      <th></th>\n",
       "      <th></th>\n",
       "      <th></th>\n",
       "    </tr>\n",
       "  </thead>\n",
       "  <tbody>\n",
       "    <tr>\n",
       "      <th>2016-01-15 00:00:00</th>\n",
       "      <td>6.055403</td>\n",
       "      <td>9.889648</td>\n",
       "      <td>5.507324</td>\n",
       "      <td>42.192020</td>\n",
       "      <td>70.541216</td>\n",
       "      <td>10.411962</td>\n",
       "      <td>0.895447</td>\n",
       "      <td>16.904297</td>\n",
       "      <td>2.143149</td>\n",
       "      <td>127.092003</td>\n",
       "      <td>...</td>\n",
       "      <td>14.016835</td>\n",
       "      <td>-502.488007</td>\n",
       "      <td>12.099931</td>\n",
       "      <td>-504.715942</td>\n",
       "      <td>9.925633</td>\n",
       "      <td>-498.310211</td>\n",
       "      <td>8.079666</td>\n",
       "      <td>-500.470978</td>\n",
       "      <td>14.151341</td>\n",
       "      <td>-605.841980</td>\n",
       "    </tr>\n",
       "    <tr>\n",
       "      <th>2016-01-15 01:00:00</th>\n",
       "      <td>6.029369</td>\n",
       "      <td>9.968944</td>\n",
       "      <td>5.257781</td>\n",
       "      <td>42.701629</td>\n",
       "      <td>69.266198</td>\n",
       "      <td>10.462676</td>\n",
       "      <td>0.927452</td>\n",
       "      <td>16.634514</td>\n",
       "      <td>2.224930</td>\n",
       "      <td>125.629232</td>\n",
       "      <td>...</td>\n",
       "      <td>13.992281</td>\n",
       "      <td>-505.503262</td>\n",
       "      <td>11.950531</td>\n",
       "      <td>-501.331529</td>\n",
       "      <td>10.039245</td>\n",
       "      <td>-500.169983</td>\n",
       "      <td>7.984757</td>\n",
       "      <td>-500.582168</td>\n",
       "      <td>13.998353</td>\n",
       "      <td>-599.787184</td>\n",
       "    </tr>\n",
       "    <tr>\n",
       "      <th>2016-01-15 02:00:00</th>\n",
       "      <td>6.055926</td>\n",
       "      <td>10.213995</td>\n",
       "      <td>5.383759</td>\n",
       "      <td>42.657501</td>\n",
       "      <td>68.116445</td>\n",
       "      <td>10.507046</td>\n",
       "      <td>0.953716</td>\n",
       "      <td>16.208849</td>\n",
       "      <td>2.257889</td>\n",
       "      <td>123.819808</td>\n",
       "      <td>...</td>\n",
       "      <td>14.015015</td>\n",
       "      <td>-502.520901</td>\n",
       "      <td>11.912783</td>\n",
       "      <td>-501.133383</td>\n",
       "      <td>10.070913</td>\n",
       "      <td>-500.129135</td>\n",
       "      <td>8.013877</td>\n",
       "      <td>-500.517572</td>\n",
       "      <td>14.028663</td>\n",
       "      <td>-601.427363</td>\n",
       "    </tr>\n",
       "    <tr>\n",
       "      <th>2016-01-15 03:00:00</th>\n",
       "      <td>6.047977</td>\n",
       "      <td>9.977019</td>\n",
       "      <td>4.858634</td>\n",
       "      <td>42.689819</td>\n",
       "      <td>68.347543</td>\n",
       "      <td>10.422762</td>\n",
       "      <td>0.883763</td>\n",
       "      <td>16.532835</td>\n",
       "      <td>2.146849</td>\n",
       "      <td>122.270188</td>\n",
       "      <td>...</td>\n",
       "      <td>14.036510</td>\n",
       "      <td>-500.857308</td>\n",
       "      <td>11.999550</td>\n",
       "      <td>-501.193686</td>\n",
       "      <td>9.970366</td>\n",
       "      <td>-499.201640</td>\n",
       "      <td>7.977324</td>\n",
       "      <td>-500.255908</td>\n",
       "      <td>14.005551</td>\n",
       "      <td>-599.996129</td>\n",
       "    </tr>\n",
       "    <tr>\n",
       "      <th>2016-01-15 04:00:00</th>\n",
       "      <td>6.148599</td>\n",
       "      <td>10.142511</td>\n",
       "      <td>4.939416</td>\n",
       "      <td>42.774141</td>\n",
       "      <td>66.927016</td>\n",
       "      <td>10.360302</td>\n",
       "      <td>0.792826</td>\n",
       "      <td>16.525686</td>\n",
       "      <td>2.055292</td>\n",
       "      <td>117.988169</td>\n",
       "      <td>...</td>\n",
       "      <td>14.027298</td>\n",
       "      <td>-499.838632</td>\n",
       "      <td>11.953070</td>\n",
       "      <td>-501.053894</td>\n",
       "      <td>9.925709</td>\n",
       "      <td>-501.686727</td>\n",
       "      <td>7.894242</td>\n",
       "      <td>-500.356035</td>\n",
       "      <td>13.996647</td>\n",
       "      <td>-601.496691</td>\n",
       "    </tr>\n",
       "  </tbody>\n",
       "</table>\n",
       "<p>5 rows × 86 columns</p>\n",
       "</div>"
      ],
      "text/plain": [
       "                     final.output.concentrate_ag  final.output.concentrate_pb  \\\n",
       "date                                                                            \n",
       "2016-01-15 00:00:00                     6.055403                     9.889648   \n",
       "2016-01-15 01:00:00                     6.029369                     9.968944   \n",
       "2016-01-15 02:00:00                     6.055926                    10.213995   \n",
       "2016-01-15 03:00:00                     6.047977                     9.977019   \n",
       "2016-01-15 04:00:00                     6.148599                    10.142511   \n",
       "\n",
       "                     final.output.concentrate_sol  \\\n",
       "date                                                \n",
       "2016-01-15 00:00:00                      5.507324   \n",
       "2016-01-15 01:00:00                      5.257781   \n",
       "2016-01-15 02:00:00                      5.383759   \n",
       "2016-01-15 03:00:00                      4.858634   \n",
       "2016-01-15 04:00:00                      4.939416   \n",
       "\n",
       "                     final.output.concentrate_au  final.output.recovery  \\\n",
       "date                                                                      \n",
       "2016-01-15 00:00:00                    42.192020              70.541216   \n",
       "2016-01-15 01:00:00                    42.701629              69.266198   \n",
       "2016-01-15 02:00:00                    42.657501              68.116445   \n",
       "2016-01-15 03:00:00                    42.689819              68.347543   \n",
       "2016-01-15 04:00:00                    42.774141              66.927016   \n",
       "\n",
       "                     final.output.tail_ag  final.output.tail_pb  \\\n",
       "date                                                              \n",
       "2016-01-15 00:00:00             10.411962              0.895447   \n",
       "2016-01-15 01:00:00             10.462676              0.927452   \n",
       "2016-01-15 02:00:00             10.507046              0.953716   \n",
       "2016-01-15 03:00:00             10.422762              0.883763   \n",
       "2016-01-15 04:00:00             10.360302              0.792826   \n",
       "\n",
       "                     final.output.tail_sol  final.output.tail_au  \\\n",
       "date                                                               \n",
       "2016-01-15 00:00:00              16.904297              2.143149   \n",
       "2016-01-15 01:00:00              16.634514              2.224930   \n",
       "2016-01-15 02:00:00              16.208849              2.257889   \n",
       "2016-01-15 03:00:00              16.532835              2.146849   \n",
       "2016-01-15 04:00:00              16.525686              2.055292   \n",
       "\n",
       "                     primary_cleaner.input.sulfate  ...  \\\n",
       "date                                                ...   \n",
       "2016-01-15 00:00:00                     127.092003  ...   \n",
       "2016-01-15 01:00:00                     125.629232  ...   \n",
       "2016-01-15 02:00:00                     123.819808  ...   \n",
       "2016-01-15 03:00:00                     122.270188  ...   \n",
       "2016-01-15 04:00:00                     117.988169  ...   \n",
       "\n",
       "                     secondary_cleaner.state.floatbank4_a_air  \\\n",
       "date                                                            \n",
       "2016-01-15 00:00:00                                 14.016835   \n",
       "2016-01-15 01:00:00                                 13.992281   \n",
       "2016-01-15 02:00:00                                 14.015015   \n",
       "2016-01-15 03:00:00                                 14.036510   \n",
       "2016-01-15 04:00:00                                 14.027298   \n",
       "\n",
       "                     secondary_cleaner.state.floatbank4_a_level  \\\n",
       "date                                                              \n",
       "2016-01-15 00:00:00                                 -502.488007   \n",
       "2016-01-15 01:00:00                                 -505.503262   \n",
       "2016-01-15 02:00:00                                 -502.520901   \n",
       "2016-01-15 03:00:00                                 -500.857308   \n",
       "2016-01-15 04:00:00                                 -499.838632   \n",
       "\n",
       "                     secondary_cleaner.state.floatbank4_b_air  \\\n",
       "date                                                            \n",
       "2016-01-15 00:00:00                                 12.099931   \n",
       "2016-01-15 01:00:00                                 11.950531   \n",
       "2016-01-15 02:00:00                                 11.912783   \n",
       "2016-01-15 03:00:00                                 11.999550   \n",
       "2016-01-15 04:00:00                                 11.953070   \n",
       "\n",
       "                     secondary_cleaner.state.floatbank4_b_level  \\\n",
       "date                                                              \n",
       "2016-01-15 00:00:00                                 -504.715942   \n",
       "2016-01-15 01:00:00                                 -501.331529   \n",
       "2016-01-15 02:00:00                                 -501.133383   \n",
       "2016-01-15 03:00:00                                 -501.193686   \n",
       "2016-01-15 04:00:00                                 -501.053894   \n",
       "\n",
       "                     secondary_cleaner.state.floatbank5_a_air  \\\n",
       "date                                                            \n",
       "2016-01-15 00:00:00                                  9.925633   \n",
       "2016-01-15 01:00:00                                 10.039245   \n",
       "2016-01-15 02:00:00                                 10.070913   \n",
       "2016-01-15 03:00:00                                  9.970366   \n",
       "2016-01-15 04:00:00                                  9.925709   \n",
       "\n",
       "                     secondary_cleaner.state.floatbank5_a_level  \\\n",
       "date                                                              \n",
       "2016-01-15 00:00:00                                 -498.310211   \n",
       "2016-01-15 01:00:00                                 -500.169983   \n",
       "2016-01-15 02:00:00                                 -500.129135   \n",
       "2016-01-15 03:00:00                                 -499.201640   \n",
       "2016-01-15 04:00:00                                 -501.686727   \n",
       "\n",
       "                     secondary_cleaner.state.floatbank5_b_air  \\\n",
       "date                                                            \n",
       "2016-01-15 00:00:00                                  8.079666   \n",
       "2016-01-15 01:00:00                                  7.984757   \n",
       "2016-01-15 02:00:00                                  8.013877   \n",
       "2016-01-15 03:00:00                                  7.977324   \n",
       "2016-01-15 04:00:00                                  7.894242   \n",
       "\n",
       "                     secondary_cleaner.state.floatbank5_b_level  \\\n",
       "date                                                              \n",
       "2016-01-15 00:00:00                                 -500.470978   \n",
       "2016-01-15 01:00:00                                 -500.582168   \n",
       "2016-01-15 02:00:00                                 -500.517572   \n",
       "2016-01-15 03:00:00                                 -500.255908   \n",
       "2016-01-15 04:00:00                                 -500.356035   \n",
       "\n",
       "                     secondary_cleaner.state.floatbank6_a_air  \\\n",
       "date                                                            \n",
       "2016-01-15 00:00:00                                 14.151341   \n",
       "2016-01-15 01:00:00                                 13.998353   \n",
       "2016-01-15 02:00:00                                 14.028663   \n",
       "2016-01-15 03:00:00                                 14.005551   \n",
       "2016-01-15 04:00:00                                 13.996647   \n",
       "\n",
       "                     secondary_cleaner.state.floatbank6_a_level  \n",
       "date                                                             \n",
       "2016-01-15 00:00:00                                 -605.841980  \n",
       "2016-01-15 01:00:00                                 -599.787184  \n",
       "2016-01-15 02:00:00                                 -601.427363  \n",
       "2016-01-15 03:00:00                                 -599.996129  \n",
       "2016-01-15 04:00:00                                 -601.496691  \n",
       "\n",
       "[5 rows x 86 columns]"
      ]
     },
     "metadata": {},
     "output_type": "display_data"
    },
    {
     "name": "stdout",
     "output_type": "stream",
     "text": [
      "<class 'pandas.core.frame.DataFrame'>\n",
      "Index: 14149 entries, 2016-01-15 00:00:00 to 2018-08-18 10:59:59\n",
      "Data columns (total 86 columns):\n",
      " #   Column                                              Non-Null Count  Dtype  \n",
      "---  ------                                              --------------  -----  \n",
      " 0   final.output.concentrate_ag                         14148 non-null  float64\n",
      " 1   final.output.concentrate_pb                         14148 non-null  float64\n",
      " 2   final.output.concentrate_sol                        13938 non-null  float64\n",
      " 3   final.output.concentrate_au                         14149 non-null  float64\n",
      " 4   final.output.recovery                               14149 non-null  float64\n",
      " 5   final.output.tail_ag                                14149 non-null  float64\n",
      " 6   final.output.tail_pb                                14049 non-null  float64\n",
      " 7   final.output.tail_sol                               14144 non-null  float64\n",
      " 8   final.output.tail_au                                14149 non-null  float64\n",
      " 9   primary_cleaner.input.sulfate                       14129 non-null  float64\n",
      " 10  primary_cleaner.input.depressant                    14117 non-null  float64\n",
      " 11  primary_cleaner.input.feed_size                     14149 non-null  float64\n",
      " 12  primary_cleaner.input.xanthate                      14049 non-null  float64\n",
      " 13  primary_cleaner.output.concentrate_ag               14149 non-null  float64\n",
      " 14  primary_cleaner.output.concentrate_pb               14063 non-null  float64\n",
      " 15  primary_cleaner.output.concentrate_sol              13863 non-null  float64\n",
      " 16  primary_cleaner.output.concentrate_au               14149 non-null  float64\n",
      " 17  primary_cleaner.output.tail_ag                      14148 non-null  float64\n",
      " 18  primary_cleaner.output.tail_pb                      14134 non-null  float64\n",
      " 19  primary_cleaner.output.tail_sol                     14103 non-null  float64\n",
      " 20  primary_cleaner.output.tail_au                      14149 non-null  float64\n",
      " 21  primary_cleaner.state.floatbank8_a_air              14145 non-null  float64\n",
      " 22  primary_cleaner.state.floatbank8_a_level            14148 non-null  float64\n",
      " 23  primary_cleaner.state.floatbank8_b_air              14145 non-null  float64\n",
      " 24  primary_cleaner.state.floatbank8_b_level            14148 non-null  float64\n",
      " 25  primary_cleaner.state.floatbank8_c_air              14147 non-null  float64\n",
      " 26  primary_cleaner.state.floatbank8_c_level            14148 non-null  float64\n",
      " 27  primary_cleaner.state.floatbank8_d_air              14146 non-null  float64\n",
      " 28  primary_cleaner.state.floatbank8_d_level            14148 non-null  float64\n",
      " 29  rougher.calculation.sulfate_to_au_concentrate       14148 non-null  float64\n",
      " 30  rougher.calculation.floatbank10_sulfate_to_au_feed  14148 non-null  float64\n",
      " 31  rougher.calculation.floatbank11_sulfate_to_au_feed  14148 non-null  float64\n",
      " 32  rougher.calculation.au_pb_ratio                     14149 non-null  float64\n",
      " 33  rougher.input.feed_ag                               14149 non-null  float64\n",
      " 34  rougher.input.feed_pb                               14049 non-null  float64\n",
      " 35  rougher.input.feed_rate                             14141 non-null  float64\n",
      " 36  rougher.input.feed_size                             14005 non-null  float64\n",
      " 37  rougher.input.feed_sol                              14071 non-null  float64\n",
      " 38  rougher.input.feed_au                               14149 non-null  float64\n",
      " 39  rougher.input.floatbank10_sulfate                   14120 non-null  float64\n",
      " 40  rougher.input.floatbank10_xanthate                  14141 non-null  float64\n",
      " 41  rougher.input.floatbank11_sulfate                   14113 non-null  float64\n",
      " 42  rougher.input.floatbank11_xanthate                  13721 non-null  float64\n",
      " 43  rougher.output.concentrate_ag                       14149 non-null  float64\n",
      " 44  rougher.output.concentrate_pb                       14149 non-null  float64\n",
      " 45  rougher.output.concentrate_sol                      14127 non-null  float64\n",
      " 46  rougher.output.concentrate_au                       14149 non-null  float64\n",
      " 47  rougher.output.recovery                             14149 non-null  float64\n",
      " 48  rougher.output.tail_ag                              14148 non-null  float64\n",
      " 49  rougher.output.tail_pb                              14149 non-null  float64\n",
      " 50  rougher.output.tail_sol                             14149 non-null  float64\n",
      " 51  rougher.output.tail_au                              14149 non-null  float64\n",
      " 52  rougher.state.floatbank10_a_air                     14148 non-null  float64\n",
      " 53  rougher.state.floatbank10_a_level                   14148 non-null  float64\n",
      " 54  rougher.state.floatbank10_b_air                     14148 non-null  float64\n",
      " 55  rougher.state.floatbank10_b_level                   14148 non-null  float64\n",
      " 56  rougher.state.floatbank10_c_air                     14148 non-null  float64\n",
      " 57  rougher.state.floatbank10_c_level                   14148 non-null  float64\n",
      " 58  rougher.state.floatbank10_d_air                     14149 non-null  float64\n",
      " 59  rougher.state.floatbank10_d_level                   14149 non-null  float64\n",
      " 60  rougher.state.floatbank10_e_air                     13713 non-null  float64\n",
      " 61  rougher.state.floatbank10_e_level                   14149 non-null  float64\n",
      " 62  rougher.state.floatbank10_f_air                     14149 non-null  float64\n",
      " 63  rougher.state.floatbank10_f_level                   14149 non-null  float64\n",
      " 64  secondary_cleaner.output.tail_ag                    14147 non-null  float64\n",
      " 65  secondary_cleaner.output.tail_pb                    14139 non-null  float64\n",
      " 66  secondary_cleaner.output.tail_sol                   12544 non-null  float64\n",
      " 67  secondary_cleaner.output.tail_au                    14149 non-null  float64\n",
      " 68  secondary_cleaner.state.floatbank2_a_air            13932 non-null  float64\n",
      " 69  secondary_cleaner.state.floatbank2_a_level          14148 non-null  float64\n",
      " 70  secondary_cleaner.state.floatbank2_b_air            14128 non-null  float64\n",
      " 71  secondary_cleaner.state.floatbank2_b_level          14148 non-null  float64\n",
      " 72  secondary_cleaner.state.floatbank3_a_air            14145 non-null  float64\n",
      " 73  secondary_cleaner.state.floatbank3_a_level          14148 non-null  float64\n",
      " 74  secondary_cleaner.state.floatbank3_b_air            14148 non-null  float64\n",
      " 75  secondary_cleaner.state.floatbank3_b_level          14148 non-null  float64\n",
      " 76  secondary_cleaner.state.floatbank4_a_air            14143 non-null  float64\n",
      " 77  secondary_cleaner.state.floatbank4_a_level          14148 non-null  float64\n",
      " 78  secondary_cleaner.state.floatbank4_b_air            14148 non-null  float64\n",
      " 79  secondary_cleaner.state.floatbank4_b_level          14148 non-null  float64\n",
      " 80  secondary_cleaner.state.floatbank5_a_air            14148 non-null  float64\n",
      " 81  secondary_cleaner.state.floatbank5_a_level          14148 non-null  float64\n",
      " 82  secondary_cleaner.state.floatbank5_b_air            14148 non-null  float64\n",
      " 83  secondary_cleaner.state.floatbank5_b_level          14148 non-null  float64\n",
      " 84  secondary_cleaner.state.floatbank6_a_air            14147 non-null  float64\n",
      " 85  secondary_cleaner.state.floatbank6_a_level          14148 non-null  float64\n",
      "dtypes: float64(86)\n",
      "memory usage: 9.4+ MB\n"
     ]
    },
    {
     "data": {
      "text/html": [
       "<div>\n",
       "<style scoped>\n",
       "    .dataframe tbody tr th:only-of-type {\n",
       "        vertical-align: middle;\n",
       "    }\n",
       "\n",
       "    .dataframe tbody tr th {\n",
       "        vertical-align: top;\n",
       "    }\n",
       "\n",
       "    .dataframe thead th {\n",
       "        text-align: right;\n",
       "    }\n",
       "</style>\n",
       "<table border=\"1\" class=\"dataframe\">\n",
       "  <thead>\n",
       "    <tr style=\"text-align: right;\">\n",
       "      <th></th>\n",
       "      <th>final.output.concentrate_ag</th>\n",
       "      <th>final.output.concentrate_pb</th>\n",
       "      <th>final.output.concentrate_sol</th>\n",
       "      <th>final.output.concentrate_au</th>\n",
       "      <th>final.output.recovery</th>\n",
       "      <th>final.output.tail_ag</th>\n",
       "      <th>final.output.tail_pb</th>\n",
       "      <th>final.output.tail_sol</th>\n",
       "      <th>final.output.tail_au</th>\n",
       "      <th>primary_cleaner.input.sulfate</th>\n",
       "      <th>...</th>\n",
       "      <th>secondary_cleaner.state.floatbank4_a_air</th>\n",
       "      <th>secondary_cleaner.state.floatbank4_a_level</th>\n",
       "      <th>secondary_cleaner.state.floatbank4_b_air</th>\n",
       "      <th>secondary_cleaner.state.floatbank4_b_level</th>\n",
       "      <th>secondary_cleaner.state.floatbank5_a_air</th>\n",
       "      <th>secondary_cleaner.state.floatbank5_a_level</th>\n",
       "      <th>secondary_cleaner.state.floatbank5_b_air</th>\n",
       "      <th>secondary_cleaner.state.floatbank5_b_level</th>\n",
       "      <th>secondary_cleaner.state.floatbank6_a_air</th>\n",
       "      <th>secondary_cleaner.state.floatbank6_a_level</th>\n",
       "    </tr>\n",
       "  </thead>\n",
       "  <tbody>\n",
       "    <tr>\n",
       "      <th>count</th>\n",
       "      <td>14148.000000</td>\n",
       "      <td>14148.000000</td>\n",
       "      <td>13938.000000</td>\n",
       "      <td>14149.000000</td>\n",
       "      <td>14149.000000</td>\n",
       "      <td>14149.000000</td>\n",
       "      <td>14049.000000</td>\n",
       "      <td>14144.000000</td>\n",
       "      <td>14149.000000</td>\n",
       "      <td>14129.000000</td>\n",
       "      <td>...</td>\n",
       "      <td>14143.000000</td>\n",
       "      <td>14148.000000</td>\n",
       "      <td>14148.000000</td>\n",
       "      <td>14148.000000</td>\n",
       "      <td>14148.000000</td>\n",
       "      <td>14148.000000</td>\n",
       "      <td>14148.000000</td>\n",
       "      <td>14148.000000</td>\n",
       "      <td>14147.000000</td>\n",
       "      <td>14148.000000</td>\n",
       "    </tr>\n",
       "    <tr>\n",
       "      <th>mean</th>\n",
       "      <td>5.142034</td>\n",
       "      <td>10.132960</td>\n",
       "      <td>9.202849</td>\n",
       "      <td>44.003792</td>\n",
       "      <td>66.518832</td>\n",
       "      <td>9.607035</td>\n",
       "      <td>2.597298</td>\n",
       "      <td>10.512122</td>\n",
       "      <td>2.918421</td>\n",
       "      <td>133.320659</td>\n",
       "      <td>...</td>\n",
       "      <td>19.985454</td>\n",
       "      <td>-478.696836</td>\n",
       "      <td>15.487065</td>\n",
       "      <td>-460.229416</td>\n",
       "      <td>16.775136</td>\n",
       "      <td>-483.956022</td>\n",
       "      <td>13.064590</td>\n",
       "      <td>-483.966564</td>\n",
       "      <td>19.577539</td>\n",
       "      <td>-506.798480</td>\n",
       "    </tr>\n",
       "    <tr>\n",
       "      <th>std</th>\n",
       "      <td>1.369586</td>\n",
       "      <td>1.654930</td>\n",
       "      <td>2.790516</td>\n",
       "      <td>4.905261</td>\n",
       "      <td>10.295402</td>\n",
       "      <td>2.319069</td>\n",
       "      <td>0.971843</td>\n",
       "      <td>3.003617</td>\n",
       "      <td>0.903712</td>\n",
       "      <td>39.431659</td>\n",
       "      <td>...</td>\n",
       "      <td>5.657723</td>\n",
       "      <td>50.736021</td>\n",
       "      <td>5.255655</td>\n",
       "      <td>58.843586</td>\n",
       "      <td>5.831906</td>\n",
       "      <td>37.892788</td>\n",
       "      <td>5.765617</td>\n",
       "      <td>39.207913</td>\n",
       "      <td>5.764417</td>\n",
       "      <td>37.079249</td>\n",
       "    </tr>\n",
       "    <tr>\n",
       "      <th>min</th>\n",
       "      <td>0.000000</td>\n",
       "      <td>0.000000</td>\n",
       "      <td>0.000000</td>\n",
       "      <td>0.000000</td>\n",
       "      <td>0.000000</td>\n",
       "      <td>0.000000</td>\n",
       "      <td>0.000000</td>\n",
       "      <td>0.000000</td>\n",
       "      <td>0.000000</td>\n",
       "      <td>0.003112</td>\n",
       "      <td>...</td>\n",
       "      <td>0.000000</td>\n",
       "      <td>-799.709069</td>\n",
       "      <td>0.000000</td>\n",
       "      <td>-799.889113</td>\n",
       "      <td>-0.372054</td>\n",
       "      <td>-797.142475</td>\n",
       "      <td>0.646208</td>\n",
       "      <td>-800.006180</td>\n",
       "      <td>0.195324</td>\n",
       "      <td>-809.398668</td>\n",
       "    </tr>\n",
       "    <tr>\n",
       "      <th>25%</th>\n",
       "      <td>4.211620</td>\n",
       "      <td>9.297355</td>\n",
       "      <td>7.484645</td>\n",
       "      <td>43.276111</td>\n",
       "      <td>62.545817</td>\n",
       "      <td>7.997429</td>\n",
       "      <td>1.905973</td>\n",
       "      <td>8.811324</td>\n",
       "      <td>2.368607</td>\n",
       "      <td>107.006651</td>\n",
       "      <td>...</td>\n",
       "      <td>14.990775</td>\n",
       "      <td>-500.628656</td>\n",
       "      <td>11.894558</td>\n",
       "      <td>-500.149000</td>\n",
       "      <td>11.083980</td>\n",
       "      <td>-500.363177</td>\n",
       "      <td>8.994405</td>\n",
       "      <td>-500.105994</td>\n",
       "      <td>14.989304</td>\n",
       "      <td>-500.745104</td>\n",
       "    </tr>\n",
       "    <tr>\n",
       "      <th>50%</th>\n",
       "      <td>4.994652</td>\n",
       "      <td>10.297144</td>\n",
       "      <td>8.845462</td>\n",
       "      <td>44.872436</td>\n",
       "      <td>67.432775</td>\n",
       "      <td>9.480270</td>\n",
       "      <td>2.592022</td>\n",
       "      <td>10.514621</td>\n",
       "      <td>2.851025</td>\n",
       "      <td>133.018328</td>\n",
       "      <td>...</td>\n",
       "      <td>20.001789</td>\n",
       "      <td>-499.681450</td>\n",
       "      <td>14.975536</td>\n",
       "      <td>-499.388738</td>\n",
       "      <td>17.932223</td>\n",
       "      <td>-499.702452</td>\n",
       "      <td>11.997547</td>\n",
       "      <td>-499.914556</td>\n",
       "      <td>19.984175</td>\n",
       "      <td>-500.061431</td>\n",
       "    </tr>\n",
       "    <tr>\n",
       "      <th>75%</th>\n",
       "      <td>5.859540</td>\n",
       "      <td>11.170603</td>\n",
       "      <td>10.487508</td>\n",
       "      <td>46.166425</td>\n",
       "      <td>72.346428</td>\n",
       "      <td>11.003707</td>\n",
       "      <td>3.241723</td>\n",
       "      <td>11.933009</td>\n",
       "      <td>3.434764</td>\n",
       "      <td>159.825396</td>\n",
       "      <td>...</td>\n",
       "      <td>24.990826</td>\n",
       "      <td>-477.472413</td>\n",
       "      <td>20.059375</td>\n",
       "      <td>-400.039008</td>\n",
       "      <td>21.346550</td>\n",
       "      <td>-487.712108</td>\n",
       "      <td>17.982903</td>\n",
       "      <td>-453.186936</td>\n",
       "      <td>24.991623</td>\n",
       "      <td>-499.536466</td>\n",
       "    </tr>\n",
       "    <tr>\n",
       "      <th>max</th>\n",
       "      <td>16.001945</td>\n",
       "      <td>17.031899</td>\n",
       "      <td>18.124851</td>\n",
       "      <td>52.756638</td>\n",
       "      <td>100.000000</td>\n",
       "      <td>19.552149</td>\n",
       "      <td>5.639565</td>\n",
       "      <td>22.317730</td>\n",
       "      <td>8.197408</td>\n",
       "      <td>250.127834</td>\n",
       "      <td>...</td>\n",
       "      <td>30.115735</td>\n",
       "      <td>-245.239184</td>\n",
       "      <td>24.007913</td>\n",
       "      <td>-145.071088</td>\n",
       "      <td>43.709931</td>\n",
       "      <td>-275.073125</td>\n",
       "      <td>27.926001</td>\n",
       "      <td>-157.396071</td>\n",
       "      <td>32.188906</td>\n",
       "      <td>-104.427459</td>\n",
       "    </tr>\n",
       "  </tbody>\n",
       "</table>\n",
       "<p>8 rows × 86 columns</p>\n",
       "</div>"
      ],
      "text/plain": [
       "       final.output.concentrate_ag  final.output.concentrate_pb  \\\n",
       "count                 14148.000000                 14148.000000   \n",
       "mean                      5.142034                    10.132960   \n",
       "std                       1.369586                     1.654930   \n",
       "min                       0.000000                     0.000000   \n",
       "25%                       4.211620                     9.297355   \n",
       "50%                       4.994652                    10.297144   \n",
       "75%                       5.859540                    11.170603   \n",
       "max                      16.001945                    17.031899   \n",
       "\n",
       "       final.output.concentrate_sol  final.output.concentrate_au  \\\n",
       "count                  13938.000000                 14149.000000   \n",
       "mean                       9.202849                    44.003792   \n",
       "std                        2.790516                     4.905261   \n",
       "min                        0.000000                     0.000000   \n",
       "25%                        7.484645                    43.276111   \n",
       "50%                        8.845462                    44.872436   \n",
       "75%                       10.487508                    46.166425   \n",
       "max                       18.124851                    52.756638   \n",
       "\n",
       "       final.output.recovery  final.output.tail_ag  final.output.tail_pb  \\\n",
       "count           14149.000000          14149.000000          14049.000000   \n",
       "mean               66.518832              9.607035              2.597298   \n",
       "std                10.295402              2.319069              0.971843   \n",
       "min                 0.000000              0.000000              0.000000   \n",
       "25%                62.545817              7.997429              1.905973   \n",
       "50%                67.432775              9.480270              2.592022   \n",
       "75%                72.346428             11.003707              3.241723   \n",
       "max               100.000000             19.552149              5.639565   \n",
       "\n",
       "       final.output.tail_sol  final.output.tail_au  \\\n",
       "count           14144.000000          14149.000000   \n",
       "mean               10.512122              2.918421   \n",
       "std                 3.003617              0.903712   \n",
       "min                 0.000000              0.000000   \n",
       "25%                 8.811324              2.368607   \n",
       "50%                10.514621              2.851025   \n",
       "75%                11.933009              3.434764   \n",
       "max                22.317730              8.197408   \n",
       "\n",
       "       primary_cleaner.input.sulfate  ...  \\\n",
       "count                   14129.000000  ...   \n",
       "mean                      133.320659  ...   \n",
       "std                        39.431659  ...   \n",
       "min                         0.003112  ...   \n",
       "25%                       107.006651  ...   \n",
       "50%                       133.018328  ...   \n",
       "75%                       159.825396  ...   \n",
       "max                       250.127834  ...   \n",
       "\n",
       "       secondary_cleaner.state.floatbank4_a_air  \\\n",
       "count                              14143.000000   \n",
       "mean                                  19.985454   \n",
       "std                                    5.657723   \n",
       "min                                    0.000000   \n",
       "25%                                   14.990775   \n",
       "50%                                   20.001789   \n",
       "75%                                   24.990826   \n",
       "max                                   30.115735   \n",
       "\n",
       "       secondary_cleaner.state.floatbank4_a_level  \\\n",
       "count                                14148.000000   \n",
       "mean                                  -478.696836   \n",
       "std                                     50.736021   \n",
       "min                                   -799.709069   \n",
       "25%                                   -500.628656   \n",
       "50%                                   -499.681450   \n",
       "75%                                   -477.472413   \n",
       "max                                   -245.239184   \n",
       "\n",
       "       secondary_cleaner.state.floatbank4_b_air  \\\n",
       "count                              14148.000000   \n",
       "mean                                  15.487065   \n",
       "std                                    5.255655   \n",
       "min                                    0.000000   \n",
       "25%                                   11.894558   \n",
       "50%                                   14.975536   \n",
       "75%                                   20.059375   \n",
       "max                                   24.007913   \n",
       "\n",
       "       secondary_cleaner.state.floatbank4_b_level  \\\n",
       "count                                14148.000000   \n",
       "mean                                  -460.229416   \n",
       "std                                     58.843586   \n",
       "min                                   -799.889113   \n",
       "25%                                   -500.149000   \n",
       "50%                                   -499.388738   \n",
       "75%                                   -400.039008   \n",
       "max                                   -145.071088   \n",
       "\n",
       "       secondary_cleaner.state.floatbank5_a_air  \\\n",
       "count                              14148.000000   \n",
       "mean                                  16.775136   \n",
       "std                                    5.831906   \n",
       "min                                   -0.372054   \n",
       "25%                                   11.083980   \n",
       "50%                                   17.932223   \n",
       "75%                                   21.346550   \n",
       "max                                   43.709931   \n",
       "\n",
       "       secondary_cleaner.state.floatbank5_a_level  \\\n",
       "count                                14148.000000   \n",
       "mean                                  -483.956022   \n",
       "std                                     37.892788   \n",
       "min                                   -797.142475   \n",
       "25%                                   -500.363177   \n",
       "50%                                   -499.702452   \n",
       "75%                                   -487.712108   \n",
       "max                                   -275.073125   \n",
       "\n",
       "       secondary_cleaner.state.floatbank5_b_air  \\\n",
       "count                              14148.000000   \n",
       "mean                                  13.064590   \n",
       "std                                    5.765617   \n",
       "min                                    0.646208   \n",
       "25%                                    8.994405   \n",
       "50%                                   11.997547   \n",
       "75%                                   17.982903   \n",
       "max                                   27.926001   \n",
       "\n",
       "       secondary_cleaner.state.floatbank5_b_level  \\\n",
       "count                                14148.000000   \n",
       "mean                                  -483.966564   \n",
       "std                                     39.207913   \n",
       "min                                   -800.006180   \n",
       "25%                                   -500.105994   \n",
       "50%                                   -499.914556   \n",
       "75%                                   -453.186936   \n",
       "max                                   -157.396071   \n",
       "\n",
       "       secondary_cleaner.state.floatbank6_a_air  \\\n",
       "count                              14147.000000   \n",
       "mean                                  19.577539   \n",
       "std                                    5.764417   \n",
       "min                                    0.195324   \n",
       "25%                                   14.989304   \n",
       "50%                                   19.984175   \n",
       "75%                                   24.991623   \n",
       "max                                   32.188906   \n",
       "\n",
       "       secondary_cleaner.state.floatbank6_a_level  \n",
       "count                                14148.000000  \n",
       "mean                                  -506.798480  \n",
       "std                                     37.079249  \n",
       "min                                   -809.398668  \n",
       "25%                                   -500.745104  \n",
       "50%                                   -500.061431  \n",
       "75%                                   -499.536466  \n",
       "max                                   -104.427459  \n",
       "\n",
       "[8 rows x 86 columns]"
      ]
     },
     "metadata": {},
     "output_type": "display_data"
    }
   ],
   "source": [
    "analyze(train)"
   ]
  },
  {
   "cell_type": "code",
   "execution_count": 5,
   "metadata": {
    "scrolled": true
   },
   "outputs": [
    {
     "name": "stdout",
     "output_type": "stream",
     "text": [
      "Количество стобцов: 52\n",
      "Количество строк: 5290\n",
      "Дубликатов: 0\n"
     ]
    },
    {
     "data": {
      "text/html": [
       "<div>\n",
       "<style scoped>\n",
       "    .dataframe tbody tr th:only-of-type {\n",
       "        vertical-align: middle;\n",
       "    }\n",
       "\n",
       "    .dataframe tbody tr th {\n",
       "        vertical-align: top;\n",
       "    }\n",
       "\n",
       "    .dataframe thead th {\n",
       "        text-align: right;\n",
       "    }\n",
       "</style>\n",
       "<table border=\"1\" class=\"dataframe\">\n",
       "  <thead>\n",
       "    <tr style=\"text-align: right;\">\n",
       "      <th></th>\n",
       "      <th>primary_cleaner.input.sulfate</th>\n",
       "      <th>primary_cleaner.input.depressant</th>\n",
       "      <th>primary_cleaner.input.feed_size</th>\n",
       "      <th>primary_cleaner.input.xanthate</th>\n",
       "      <th>primary_cleaner.state.floatbank8_a_air</th>\n",
       "      <th>primary_cleaner.state.floatbank8_a_level</th>\n",
       "      <th>primary_cleaner.state.floatbank8_b_air</th>\n",
       "      <th>primary_cleaner.state.floatbank8_b_level</th>\n",
       "      <th>primary_cleaner.state.floatbank8_c_air</th>\n",
       "      <th>primary_cleaner.state.floatbank8_c_level</th>\n",
       "      <th>...</th>\n",
       "      <th>secondary_cleaner.state.floatbank4_a_air</th>\n",
       "      <th>secondary_cleaner.state.floatbank4_a_level</th>\n",
       "      <th>secondary_cleaner.state.floatbank4_b_air</th>\n",
       "      <th>secondary_cleaner.state.floatbank4_b_level</th>\n",
       "      <th>secondary_cleaner.state.floatbank5_a_air</th>\n",
       "      <th>secondary_cleaner.state.floatbank5_a_level</th>\n",
       "      <th>secondary_cleaner.state.floatbank5_b_air</th>\n",
       "      <th>secondary_cleaner.state.floatbank5_b_level</th>\n",
       "      <th>secondary_cleaner.state.floatbank6_a_air</th>\n",
       "      <th>secondary_cleaner.state.floatbank6_a_level</th>\n",
       "    </tr>\n",
       "    <tr>\n",
       "      <th>date</th>\n",
       "      <th></th>\n",
       "      <th></th>\n",
       "      <th></th>\n",
       "      <th></th>\n",
       "      <th></th>\n",
       "      <th></th>\n",
       "      <th></th>\n",
       "      <th></th>\n",
       "      <th></th>\n",
       "      <th></th>\n",
       "      <th></th>\n",
       "      <th></th>\n",
       "      <th></th>\n",
       "      <th></th>\n",
       "      <th></th>\n",
       "      <th></th>\n",
       "      <th></th>\n",
       "      <th></th>\n",
       "      <th></th>\n",
       "      <th></th>\n",
       "      <th></th>\n",
       "    </tr>\n",
       "  </thead>\n",
       "  <tbody>\n",
       "    <tr>\n",
       "      <th>2016-09-01 00:59:59</th>\n",
       "      <td>210.800909</td>\n",
       "      <td>14.993118</td>\n",
       "      <td>8.080000</td>\n",
       "      <td>1.005021</td>\n",
       "      <td>1398.981301</td>\n",
       "      <td>-500.225577</td>\n",
       "      <td>1399.144926</td>\n",
       "      <td>-499.919735</td>\n",
       "      <td>1400.102998</td>\n",
       "      <td>-500.704369</td>\n",
       "      <td>...</td>\n",
       "      <td>12.023554</td>\n",
       "      <td>-497.795834</td>\n",
       "      <td>8.016656</td>\n",
       "      <td>-501.289139</td>\n",
       "      <td>7.946562</td>\n",
       "      <td>-432.317850</td>\n",
       "      <td>4.872511</td>\n",
       "      <td>-500.037437</td>\n",
       "      <td>26.705889</td>\n",
       "      <td>-499.709414</td>\n",
       "    </tr>\n",
       "    <tr>\n",
       "      <th>2016-09-01 01:59:59</th>\n",
       "      <td>215.392455</td>\n",
       "      <td>14.987471</td>\n",
       "      <td>8.080000</td>\n",
       "      <td>0.990469</td>\n",
       "      <td>1398.777912</td>\n",
       "      <td>-500.057435</td>\n",
       "      <td>1398.055362</td>\n",
       "      <td>-499.778182</td>\n",
       "      <td>1396.151033</td>\n",
       "      <td>-499.240168</td>\n",
       "      <td>...</td>\n",
       "      <td>12.058140</td>\n",
       "      <td>-498.695773</td>\n",
       "      <td>8.130979</td>\n",
       "      <td>-499.634209</td>\n",
       "      <td>7.958270</td>\n",
       "      <td>-525.839648</td>\n",
       "      <td>4.878850</td>\n",
       "      <td>-500.162375</td>\n",
       "      <td>25.019940</td>\n",
       "      <td>-499.819438</td>\n",
       "    </tr>\n",
       "    <tr>\n",
       "      <th>2016-09-01 02:59:59</th>\n",
       "      <td>215.259946</td>\n",
       "      <td>12.884934</td>\n",
       "      <td>7.786667</td>\n",
       "      <td>0.996043</td>\n",
       "      <td>1398.493666</td>\n",
       "      <td>-500.868360</td>\n",
       "      <td>1398.860436</td>\n",
       "      <td>-499.764529</td>\n",
       "      <td>1398.075709</td>\n",
       "      <td>-502.151509</td>\n",
       "      <td>...</td>\n",
       "      <td>11.962366</td>\n",
       "      <td>-498.767484</td>\n",
       "      <td>8.096893</td>\n",
       "      <td>-500.827423</td>\n",
       "      <td>8.071056</td>\n",
       "      <td>-500.801673</td>\n",
       "      <td>4.905125</td>\n",
       "      <td>-499.828510</td>\n",
       "      <td>24.994862</td>\n",
       "      <td>-500.622559</td>\n",
       "    </tr>\n",
       "    <tr>\n",
       "      <th>2016-09-01 03:59:59</th>\n",
       "      <td>215.336236</td>\n",
       "      <td>12.006805</td>\n",
       "      <td>7.640000</td>\n",
       "      <td>0.863514</td>\n",
       "      <td>1399.618111</td>\n",
       "      <td>-498.863574</td>\n",
       "      <td>1397.440120</td>\n",
       "      <td>-499.211024</td>\n",
       "      <td>1400.129303</td>\n",
       "      <td>-498.355873</td>\n",
       "      <td>...</td>\n",
       "      <td>12.033091</td>\n",
       "      <td>-498.350935</td>\n",
       "      <td>8.074946</td>\n",
       "      <td>-499.474407</td>\n",
       "      <td>7.897085</td>\n",
       "      <td>-500.868509</td>\n",
       "      <td>4.931400</td>\n",
       "      <td>-499.963623</td>\n",
       "      <td>24.948919</td>\n",
       "      <td>-498.709987</td>\n",
       "    </tr>\n",
       "    <tr>\n",
       "      <th>2016-09-01 04:59:59</th>\n",
       "      <td>199.099327</td>\n",
       "      <td>10.682530</td>\n",
       "      <td>7.530000</td>\n",
       "      <td>0.805575</td>\n",
       "      <td>1401.268123</td>\n",
       "      <td>-500.808305</td>\n",
       "      <td>1398.128818</td>\n",
       "      <td>-499.504543</td>\n",
       "      <td>1402.172226</td>\n",
       "      <td>-500.810606</td>\n",
       "      <td>...</td>\n",
       "      <td>12.025367</td>\n",
       "      <td>-500.786497</td>\n",
       "      <td>8.054678</td>\n",
       "      <td>-500.397500</td>\n",
       "      <td>8.107890</td>\n",
       "      <td>-509.526725</td>\n",
       "      <td>4.957674</td>\n",
       "      <td>-500.360026</td>\n",
       "      <td>25.003331</td>\n",
       "      <td>-500.856333</td>\n",
       "    </tr>\n",
       "  </tbody>\n",
       "</table>\n",
       "<p>5 rows × 52 columns</p>\n",
       "</div>"
      ],
      "text/plain": [
       "                     primary_cleaner.input.sulfate  \\\n",
       "date                                                 \n",
       "2016-09-01 00:59:59                     210.800909   \n",
       "2016-09-01 01:59:59                     215.392455   \n",
       "2016-09-01 02:59:59                     215.259946   \n",
       "2016-09-01 03:59:59                     215.336236   \n",
       "2016-09-01 04:59:59                     199.099327   \n",
       "\n",
       "                     primary_cleaner.input.depressant  \\\n",
       "date                                                    \n",
       "2016-09-01 00:59:59                         14.993118   \n",
       "2016-09-01 01:59:59                         14.987471   \n",
       "2016-09-01 02:59:59                         12.884934   \n",
       "2016-09-01 03:59:59                         12.006805   \n",
       "2016-09-01 04:59:59                         10.682530   \n",
       "\n",
       "                     primary_cleaner.input.feed_size  \\\n",
       "date                                                   \n",
       "2016-09-01 00:59:59                         8.080000   \n",
       "2016-09-01 01:59:59                         8.080000   \n",
       "2016-09-01 02:59:59                         7.786667   \n",
       "2016-09-01 03:59:59                         7.640000   \n",
       "2016-09-01 04:59:59                         7.530000   \n",
       "\n",
       "                     primary_cleaner.input.xanthate  \\\n",
       "date                                                  \n",
       "2016-09-01 00:59:59                        1.005021   \n",
       "2016-09-01 01:59:59                        0.990469   \n",
       "2016-09-01 02:59:59                        0.996043   \n",
       "2016-09-01 03:59:59                        0.863514   \n",
       "2016-09-01 04:59:59                        0.805575   \n",
       "\n",
       "                     primary_cleaner.state.floatbank8_a_air  \\\n",
       "date                                                          \n",
       "2016-09-01 00:59:59                             1398.981301   \n",
       "2016-09-01 01:59:59                             1398.777912   \n",
       "2016-09-01 02:59:59                             1398.493666   \n",
       "2016-09-01 03:59:59                             1399.618111   \n",
       "2016-09-01 04:59:59                             1401.268123   \n",
       "\n",
       "                     primary_cleaner.state.floatbank8_a_level  \\\n",
       "date                                                            \n",
       "2016-09-01 00:59:59                               -500.225577   \n",
       "2016-09-01 01:59:59                               -500.057435   \n",
       "2016-09-01 02:59:59                               -500.868360   \n",
       "2016-09-01 03:59:59                               -498.863574   \n",
       "2016-09-01 04:59:59                               -500.808305   \n",
       "\n",
       "                     primary_cleaner.state.floatbank8_b_air  \\\n",
       "date                                                          \n",
       "2016-09-01 00:59:59                             1399.144926   \n",
       "2016-09-01 01:59:59                             1398.055362   \n",
       "2016-09-01 02:59:59                             1398.860436   \n",
       "2016-09-01 03:59:59                             1397.440120   \n",
       "2016-09-01 04:59:59                             1398.128818   \n",
       "\n",
       "                     primary_cleaner.state.floatbank8_b_level  \\\n",
       "date                                                            \n",
       "2016-09-01 00:59:59                               -499.919735   \n",
       "2016-09-01 01:59:59                               -499.778182   \n",
       "2016-09-01 02:59:59                               -499.764529   \n",
       "2016-09-01 03:59:59                               -499.211024   \n",
       "2016-09-01 04:59:59                               -499.504543   \n",
       "\n",
       "                     primary_cleaner.state.floatbank8_c_air  \\\n",
       "date                                                          \n",
       "2016-09-01 00:59:59                             1400.102998   \n",
       "2016-09-01 01:59:59                             1396.151033   \n",
       "2016-09-01 02:59:59                             1398.075709   \n",
       "2016-09-01 03:59:59                             1400.129303   \n",
       "2016-09-01 04:59:59                             1402.172226   \n",
       "\n",
       "                     primary_cleaner.state.floatbank8_c_level  ...  \\\n",
       "date                                                           ...   \n",
       "2016-09-01 00:59:59                               -500.704369  ...   \n",
       "2016-09-01 01:59:59                               -499.240168  ...   \n",
       "2016-09-01 02:59:59                               -502.151509  ...   \n",
       "2016-09-01 03:59:59                               -498.355873  ...   \n",
       "2016-09-01 04:59:59                               -500.810606  ...   \n",
       "\n",
       "                     secondary_cleaner.state.floatbank4_a_air  \\\n",
       "date                                                            \n",
       "2016-09-01 00:59:59                                 12.023554   \n",
       "2016-09-01 01:59:59                                 12.058140   \n",
       "2016-09-01 02:59:59                                 11.962366   \n",
       "2016-09-01 03:59:59                                 12.033091   \n",
       "2016-09-01 04:59:59                                 12.025367   \n",
       "\n",
       "                     secondary_cleaner.state.floatbank4_a_level  \\\n",
       "date                                                              \n",
       "2016-09-01 00:59:59                                 -497.795834   \n",
       "2016-09-01 01:59:59                                 -498.695773   \n",
       "2016-09-01 02:59:59                                 -498.767484   \n",
       "2016-09-01 03:59:59                                 -498.350935   \n",
       "2016-09-01 04:59:59                                 -500.786497   \n",
       "\n",
       "                     secondary_cleaner.state.floatbank4_b_air  \\\n",
       "date                                                            \n",
       "2016-09-01 00:59:59                                  8.016656   \n",
       "2016-09-01 01:59:59                                  8.130979   \n",
       "2016-09-01 02:59:59                                  8.096893   \n",
       "2016-09-01 03:59:59                                  8.074946   \n",
       "2016-09-01 04:59:59                                  8.054678   \n",
       "\n",
       "                     secondary_cleaner.state.floatbank4_b_level  \\\n",
       "date                                                              \n",
       "2016-09-01 00:59:59                                 -501.289139   \n",
       "2016-09-01 01:59:59                                 -499.634209   \n",
       "2016-09-01 02:59:59                                 -500.827423   \n",
       "2016-09-01 03:59:59                                 -499.474407   \n",
       "2016-09-01 04:59:59                                 -500.397500   \n",
       "\n",
       "                     secondary_cleaner.state.floatbank5_a_air  \\\n",
       "date                                                            \n",
       "2016-09-01 00:59:59                                  7.946562   \n",
       "2016-09-01 01:59:59                                  7.958270   \n",
       "2016-09-01 02:59:59                                  8.071056   \n",
       "2016-09-01 03:59:59                                  7.897085   \n",
       "2016-09-01 04:59:59                                  8.107890   \n",
       "\n",
       "                     secondary_cleaner.state.floatbank5_a_level  \\\n",
       "date                                                              \n",
       "2016-09-01 00:59:59                                 -432.317850   \n",
       "2016-09-01 01:59:59                                 -525.839648   \n",
       "2016-09-01 02:59:59                                 -500.801673   \n",
       "2016-09-01 03:59:59                                 -500.868509   \n",
       "2016-09-01 04:59:59                                 -509.526725   \n",
       "\n",
       "                     secondary_cleaner.state.floatbank5_b_air  \\\n",
       "date                                                            \n",
       "2016-09-01 00:59:59                                  4.872511   \n",
       "2016-09-01 01:59:59                                  4.878850   \n",
       "2016-09-01 02:59:59                                  4.905125   \n",
       "2016-09-01 03:59:59                                  4.931400   \n",
       "2016-09-01 04:59:59                                  4.957674   \n",
       "\n",
       "                     secondary_cleaner.state.floatbank5_b_level  \\\n",
       "date                                                              \n",
       "2016-09-01 00:59:59                                 -500.037437   \n",
       "2016-09-01 01:59:59                                 -500.162375   \n",
       "2016-09-01 02:59:59                                 -499.828510   \n",
       "2016-09-01 03:59:59                                 -499.963623   \n",
       "2016-09-01 04:59:59                                 -500.360026   \n",
       "\n",
       "                     secondary_cleaner.state.floatbank6_a_air  \\\n",
       "date                                                            \n",
       "2016-09-01 00:59:59                                 26.705889   \n",
       "2016-09-01 01:59:59                                 25.019940   \n",
       "2016-09-01 02:59:59                                 24.994862   \n",
       "2016-09-01 03:59:59                                 24.948919   \n",
       "2016-09-01 04:59:59                                 25.003331   \n",
       "\n",
       "                     secondary_cleaner.state.floatbank6_a_level  \n",
       "date                                                             \n",
       "2016-09-01 00:59:59                                 -499.709414  \n",
       "2016-09-01 01:59:59                                 -499.819438  \n",
       "2016-09-01 02:59:59                                 -500.622559  \n",
       "2016-09-01 03:59:59                                 -498.709987  \n",
       "2016-09-01 04:59:59                                 -500.856333  \n",
       "\n",
       "[5 rows x 52 columns]"
      ]
     },
     "metadata": {},
     "output_type": "display_data"
    },
    {
     "name": "stdout",
     "output_type": "stream",
     "text": [
      "<class 'pandas.core.frame.DataFrame'>\n",
      "Index: 5290 entries, 2016-09-01 00:59:59 to 2017-12-31 23:59:59\n",
      "Data columns (total 52 columns):\n",
      " #   Column                                      Non-Null Count  Dtype  \n",
      "---  ------                                      --------------  -----  \n",
      " 0   primary_cleaner.input.sulfate               5286 non-null   float64\n",
      " 1   primary_cleaner.input.depressant            5285 non-null   float64\n",
      " 2   primary_cleaner.input.feed_size             5290 non-null   float64\n",
      " 3   primary_cleaner.input.xanthate              5286 non-null   float64\n",
      " 4   primary_cleaner.state.floatbank8_a_air      5290 non-null   float64\n",
      " 5   primary_cleaner.state.floatbank8_a_level    5290 non-null   float64\n",
      " 6   primary_cleaner.state.floatbank8_b_air      5290 non-null   float64\n",
      " 7   primary_cleaner.state.floatbank8_b_level    5290 non-null   float64\n",
      " 8   primary_cleaner.state.floatbank8_c_air      5290 non-null   float64\n",
      " 9   primary_cleaner.state.floatbank8_c_level    5290 non-null   float64\n",
      " 10  primary_cleaner.state.floatbank8_d_air      5290 non-null   float64\n",
      " 11  primary_cleaner.state.floatbank8_d_level    5290 non-null   float64\n",
      " 12  rougher.input.feed_ag                       5290 non-null   float64\n",
      " 13  rougher.input.feed_pb                       5290 non-null   float64\n",
      " 14  rougher.input.feed_rate                     5287 non-null   float64\n",
      " 15  rougher.input.feed_size                     5289 non-null   float64\n",
      " 16  rougher.input.feed_sol                      5269 non-null   float64\n",
      " 17  rougher.input.feed_au                       5290 non-null   float64\n",
      " 18  rougher.input.floatbank10_sulfate           5285 non-null   float64\n",
      " 19  rougher.input.floatbank10_xanthate          5290 non-null   float64\n",
      " 20  rougher.input.floatbank11_sulfate           5282 non-null   float64\n",
      " 21  rougher.input.floatbank11_xanthate          5265 non-null   float64\n",
      " 22  rougher.state.floatbank10_a_air             5290 non-null   float64\n",
      " 23  rougher.state.floatbank10_a_level           5290 non-null   float64\n",
      " 24  rougher.state.floatbank10_b_air             5290 non-null   float64\n",
      " 25  rougher.state.floatbank10_b_level           5290 non-null   float64\n",
      " 26  rougher.state.floatbank10_c_air             5290 non-null   float64\n",
      " 27  rougher.state.floatbank10_c_level           5290 non-null   float64\n",
      " 28  rougher.state.floatbank10_d_air             5290 non-null   float64\n",
      " 29  rougher.state.floatbank10_d_level           5290 non-null   float64\n",
      " 30  rougher.state.floatbank10_e_air             5290 non-null   float64\n",
      " 31  rougher.state.floatbank10_e_level           5290 non-null   float64\n",
      " 32  rougher.state.floatbank10_f_air             5290 non-null   float64\n",
      " 33  rougher.state.floatbank10_f_level           5290 non-null   float64\n",
      " 34  secondary_cleaner.state.floatbank2_a_air    5287 non-null   float64\n",
      " 35  secondary_cleaner.state.floatbank2_a_level  5290 non-null   float64\n",
      " 36  secondary_cleaner.state.floatbank2_b_air    5288 non-null   float64\n",
      " 37  secondary_cleaner.state.floatbank2_b_level  5290 non-null   float64\n",
      " 38  secondary_cleaner.state.floatbank3_a_air    5281 non-null   float64\n",
      " 39  secondary_cleaner.state.floatbank3_a_level  5290 non-null   float64\n",
      " 40  secondary_cleaner.state.floatbank3_b_air    5290 non-null   float64\n",
      " 41  secondary_cleaner.state.floatbank3_b_level  5290 non-null   float64\n",
      " 42  secondary_cleaner.state.floatbank4_a_air    5290 non-null   float64\n",
      " 43  secondary_cleaner.state.floatbank4_a_level  5290 non-null   float64\n",
      " 44  secondary_cleaner.state.floatbank4_b_air    5290 non-null   float64\n",
      " 45  secondary_cleaner.state.floatbank4_b_level  5290 non-null   float64\n",
      " 46  secondary_cleaner.state.floatbank5_a_air    5290 non-null   float64\n",
      " 47  secondary_cleaner.state.floatbank5_a_level  5290 non-null   float64\n",
      " 48  secondary_cleaner.state.floatbank5_b_air    5290 non-null   float64\n",
      " 49  secondary_cleaner.state.floatbank5_b_level  5290 non-null   float64\n",
      " 50  secondary_cleaner.state.floatbank6_a_air    5290 non-null   float64\n",
      " 51  secondary_cleaner.state.floatbank6_a_level  5290 non-null   float64\n",
      "dtypes: float64(52)\n",
      "memory usage: 2.1+ MB\n"
     ]
    },
    {
     "data": {
      "text/html": [
       "<div>\n",
       "<style scoped>\n",
       "    .dataframe tbody tr th:only-of-type {\n",
       "        vertical-align: middle;\n",
       "    }\n",
       "\n",
       "    .dataframe tbody tr th {\n",
       "        vertical-align: top;\n",
       "    }\n",
       "\n",
       "    .dataframe thead th {\n",
       "        text-align: right;\n",
       "    }\n",
       "</style>\n",
       "<table border=\"1\" class=\"dataframe\">\n",
       "  <thead>\n",
       "    <tr style=\"text-align: right;\">\n",
       "      <th></th>\n",
       "      <th>primary_cleaner.input.sulfate</th>\n",
       "      <th>primary_cleaner.input.depressant</th>\n",
       "      <th>primary_cleaner.input.feed_size</th>\n",
       "      <th>primary_cleaner.input.xanthate</th>\n",
       "      <th>primary_cleaner.state.floatbank8_a_air</th>\n",
       "      <th>primary_cleaner.state.floatbank8_a_level</th>\n",
       "      <th>primary_cleaner.state.floatbank8_b_air</th>\n",
       "      <th>primary_cleaner.state.floatbank8_b_level</th>\n",
       "      <th>primary_cleaner.state.floatbank8_c_air</th>\n",
       "      <th>primary_cleaner.state.floatbank8_c_level</th>\n",
       "      <th>...</th>\n",
       "      <th>secondary_cleaner.state.floatbank4_a_air</th>\n",
       "      <th>secondary_cleaner.state.floatbank4_a_level</th>\n",
       "      <th>secondary_cleaner.state.floatbank4_b_air</th>\n",
       "      <th>secondary_cleaner.state.floatbank4_b_level</th>\n",
       "      <th>secondary_cleaner.state.floatbank5_a_air</th>\n",
       "      <th>secondary_cleaner.state.floatbank5_a_level</th>\n",
       "      <th>secondary_cleaner.state.floatbank5_b_air</th>\n",
       "      <th>secondary_cleaner.state.floatbank5_b_level</th>\n",
       "      <th>secondary_cleaner.state.floatbank6_a_air</th>\n",
       "      <th>secondary_cleaner.state.floatbank6_a_level</th>\n",
       "    </tr>\n",
       "  </thead>\n",
       "  <tbody>\n",
       "    <tr>\n",
       "      <th>count</th>\n",
       "      <td>5286.000000</td>\n",
       "      <td>5285.000000</td>\n",
       "      <td>5290.000000</td>\n",
       "      <td>5286.000000</td>\n",
       "      <td>5.290000e+03</td>\n",
       "      <td>5290.000000</td>\n",
       "      <td>5.290000e+03</td>\n",
       "      <td>5290.000000</td>\n",
       "      <td>5.290000e+03</td>\n",
       "      <td>5290.000000</td>\n",
       "      <td>...</td>\n",
       "      <td>5.290000e+03</td>\n",
       "      <td>5290.000000</td>\n",
       "      <td>5.290000e+03</td>\n",
       "      <td>5290.000000</td>\n",
       "      <td>5290.000000</td>\n",
       "      <td>5290.000000</td>\n",
       "      <td>5290.000000</td>\n",
       "      <td>5290.000000</td>\n",
       "      <td>5290.000000</td>\n",
       "      <td>5290.000000</td>\n",
       "    </tr>\n",
       "    <tr>\n",
       "      <th>mean</th>\n",
       "      <td>174.839652</td>\n",
       "      <td>8.683596</td>\n",
       "      <td>7.266339</td>\n",
       "      <td>1.383803</td>\n",
       "      <td>1.539494e+03</td>\n",
       "      <td>-497.665883</td>\n",
       "      <td>1.545174e+03</td>\n",
       "      <td>-500.273098</td>\n",
       "      <td>1.527272e+03</td>\n",
       "      <td>-498.330680</td>\n",
       "      <td>...</td>\n",
       "      <td>1.632007e+01</td>\n",
       "      <td>-505.144570</td>\n",
       "      <td>1.373544e+01</td>\n",
       "      <td>-463.349858</td>\n",
       "      <td>12.804186</td>\n",
       "      <td>-501.329122</td>\n",
       "      <td>9.881145</td>\n",
       "      <td>-495.663398</td>\n",
       "      <td>17.304935</td>\n",
       "      <td>-501.793193</td>\n",
       "    </tr>\n",
       "    <tr>\n",
       "      <th>std</th>\n",
       "      <td>43.027080</td>\n",
       "      <td>3.072050</td>\n",
       "      <td>0.610219</td>\n",
       "      <td>0.643474</td>\n",
       "      <td>1.167979e+02</td>\n",
       "      <td>19.952431</td>\n",
       "      <td>1.222246e+02</td>\n",
       "      <td>32.968307</td>\n",
       "      <td>1.225380e+02</td>\n",
       "      <td>21.964876</td>\n",
       "      <td>...</td>\n",
       "      <td>3.493583e+00</td>\n",
       "      <td>31.427337</td>\n",
       "      <td>3.430484e+00</td>\n",
       "      <td>86.189107</td>\n",
       "      <td>3.026591</td>\n",
       "      <td>17.951495</td>\n",
       "      <td>2.868205</td>\n",
       "      <td>34.535007</td>\n",
       "      <td>4.536544</td>\n",
       "      <td>39.044215</td>\n",
       "    </tr>\n",
       "    <tr>\n",
       "      <th>min</th>\n",
       "      <td>2.566156</td>\n",
       "      <td>0.003839</td>\n",
       "      <td>5.650000</td>\n",
       "      <td>0.004984</td>\n",
       "      <td>5.445860e-32</td>\n",
       "      <td>-795.316337</td>\n",
       "      <td>6.647490e-32</td>\n",
       "      <td>-799.997015</td>\n",
       "      <td>4.033736e-32</td>\n",
       "      <td>-799.960571</td>\n",
       "      <td>...</td>\n",
       "      <td>1.079872e-16</td>\n",
       "      <td>-799.798523</td>\n",
       "      <td>2.489718e-17</td>\n",
       "      <td>-800.836914</td>\n",
       "      <td>0.069227</td>\n",
       "      <td>-797.323986</td>\n",
       "      <td>0.528083</td>\n",
       "      <td>-800.220337</td>\n",
       "      <td>-0.079426</td>\n",
       "      <td>-809.741464</td>\n",
       "    </tr>\n",
       "    <tr>\n",
       "      <th>25%</th>\n",
       "      <td>147.121401</td>\n",
       "      <td>6.489555</td>\n",
       "      <td>6.890000</td>\n",
       "      <td>0.907623</td>\n",
       "      <td>1.498936e+03</td>\n",
       "      <td>-500.357298</td>\n",
       "      <td>1.498971e+03</td>\n",
       "      <td>-500.703002</td>\n",
       "      <td>1.473230e+03</td>\n",
       "      <td>-501.018117</td>\n",
       "      <td>...</td>\n",
       "      <td>1.403618e+01</td>\n",
       "      <td>-500.868258</td>\n",
       "      <td>1.202862e+01</td>\n",
       "      <td>-500.323028</td>\n",
       "      <td>10.914838</td>\n",
       "      <td>-500.726841</td>\n",
       "      <td>8.036719</td>\n",
       "      <td>-500.194668</td>\n",
       "      <td>13.997317</td>\n",
       "      <td>-500.690984</td>\n",
       "    </tr>\n",
       "    <tr>\n",
       "      <th>50%</th>\n",
       "      <td>177.828489</td>\n",
       "      <td>8.052207</td>\n",
       "      <td>7.250000</td>\n",
       "      <td>1.197610</td>\n",
       "      <td>1.585129e+03</td>\n",
       "      <td>-499.969164</td>\n",
       "      <td>1.595622e+03</td>\n",
       "      <td>-500.028514</td>\n",
       "      <td>1.549595e+03</td>\n",
       "      <td>-500.017711</td>\n",
       "      <td>...</td>\n",
       "      <td>1.700847e+01</td>\n",
       "      <td>-500.115727</td>\n",
       "      <td>1.496486e+01</td>\n",
       "      <td>-499.576513</td>\n",
       "      <td>12.954182</td>\n",
       "      <td>-499.990332</td>\n",
       "      <td>10.004301</td>\n",
       "      <td>-499.990535</td>\n",
       "      <td>16.014935</td>\n",
       "      <td>-500.007126</td>\n",
       "    </tr>\n",
       "    <tr>\n",
       "      <th>75%</th>\n",
       "      <td>208.125438</td>\n",
       "      <td>10.027764</td>\n",
       "      <td>7.600000</td>\n",
       "      <td>1.797819</td>\n",
       "      <td>1.602077e+03</td>\n",
       "      <td>-499.568951</td>\n",
       "      <td>1.602324e+03</td>\n",
       "      <td>-499.293257</td>\n",
       "      <td>1.601144e+03</td>\n",
       "      <td>-498.994130</td>\n",
       "      <td>...</td>\n",
       "      <td>1.803862e+01</td>\n",
       "      <td>-499.404224</td>\n",
       "      <td>1.596213e+01</td>\n",
       "      <td>-400.933805</td>\n",
       "      <td>15.097528</td>\n",
       "      <td>-499.283191</td>\n",
       "      <td>11.997467</td>\n",
       "      <td>-499.719913</td>\n",
       "      <td>21.020013</td>\n",
       "      <td>-499.373018</td>\n",
       "    </tr>\n",
       "    <tr>\n",
       "      <th>max</th>\n",
       "      <td>265.983123</td>\n",
       "      <td>40.000000</td>\n",
       "      <td>15.500000</td>\n",
       "      <td>4.102454</td>\n",
       "      <td>2.103104e+03</td>\n",
       "      <td>-57.195404</td>\n",
       "      <td>1.813084e+03</td>\n",
       "      <td>-142.527229</td>\n",
       "      <td>1.715054e+03</td>\n",
       "      <td>-150.937035</td>\n",
       "      <td>...</td>\n",
       "      <td>3.005180e+01</td>\n",
       "      <td>-401.565212</td>\n",
       "      <td>3.126971e+01</td>\n",
       "      <td>-6.506986</td>\n",
       "      <td>25.258848</td>\n",
       "      <td>-244.483566</td>\n",
       "      <td>14.086866</td>\n",
       "      <td>-137.740004</td>\n",
       "      <td>26.705889</td>\n",
       "      <td>-123.307487</td>\n",
       "    </tr>\n",
       "  </tbody>\n",
       "</table>\n",
       "<p>8 rows × 52 columns</p>\n",
       "</div>"
      ],
      "text/plain": [
       "       primary_cleaner.input.sulfate  primary_cleaner.input.depressant  \\\n",
       "count                    5286.000000                       5285.000000   \n",
       "mean                      174.839652                          8.683596   \n",
       "std                        43.027080                          3.072050   \n",
       "min                         2.566156                          0.003839   \n",
       "25%                       147.121401                          6.489555   \n",
       "50%                       177.828489                          8.052207   \n",
       "75%                       208.125438                         10.027764   \n",
       "max                       265.983123                         40.000000   \n",
       "\n",
       "       primary_cleaner.input.feed_size  primary_cleaner.input.xanthate  \\\n",
       "count                      5290.000000                     5286.000000   \n",
       "mean                          7.266339                        1.383803   \n",
       "std                           0.610219                        0.643474   \n",
       "min                           5.650000                        0.004984   \n",
       "25%                           6.890000                        0.907623   \n",
       "50%                           7.250000                        1.197610   \n",
       "75%                           7.600000                        1.797819   \n",
       "max                          15.500000                        4.102454   \n",
       "\n",
       "       primary_cleaner.state.floatbank8_a_air  \\\n",
       "count                            5.290000e+03   \n",
       "mean                             1.539494e+03   \n",
       "std                              1.167979e+02   \n",
       "min                              5.445860e-32   \n",
       "25%                              1.498936e+03   \n",
       "50%                              1.585129e+03   \n",
       "75%                              1.602077e+03   \n",
       "max                              2.103104e+03   \n",
       "\n",
       "       primary_cleaner.state.floatbank8_a_level  \\\n",
       "count                               5290.000000   \n",
       "mean                                -497.665883   \n",
       "std                                   19.952431   \n",
       "min                                 -795.316337   \n",
       "25%                                 -500.357298   \n",
       "50%                                 -499.969164   \n",
       "75%                                 -499.568951   \n",
       "max                                  -57.195404   \n",
       "\n",
       "       primary_cleaner.state.floatbank8_b_air  \\\n",
       "count                            5.290000e+03   \n",
       "mean                             1.545174e+03   \n",
       "std                              1.222246e+02   \n",
       "min                              6.647490e-32   \n",
       "25%                              1.498971e+03   \n",
       "50%                              1.595622e+03   \n",
       "75%                              1.602324e+03   \n",
       "max                              1.813084e+03   \n",
       "\n",
       "       primary_cleaner.state.floatbank8_b_level  \\\n",
       "count                               5290.000000   \n",
       "mean                                -500.273098   \n",
       "std                                   32.968307   \n",
       "min                                 -799.997015   \n",
       "25%                                 -500.703002   \n",
       "50%                                 -500.028514   \n",
       "75%                                 -499.293257   \n",
       "max                                 -142.527229   \n",
       "\n",
       "       primary_cleaner.state.floatbank8_c_air  \\\n",
       "count                            5.290000e+03   \n",
       "mean                             1.527272e+03   \n",
       "std                              1.225380e+02   \n",
       "min                              4.033736e-32   \n",
       "25%                              1.473230e+03   \n",
       "50%                              1.549595e+03   \n",
       "75%                              1.601144e+03   \n",
       "max                              1.715054e+03   \n",
       "\n",
       "       primary_cleaner.state.floatbank8_c_level  ...  \\\n",
       "count                               5290.000000  ...   \n",
       "mean                                -498.330680  ...   \n",
       "std                                   21.964876  ...   \n",
       "min                                 -799.960571  ...   \n",
       "25%                                 -501.018117  ...   \n",
       "50%                                 -500.017711  ...   \n",
       "75%                                 -498.994130  ...   \n",
       "max                                 -150.937035  ...   \n",
       "\n",
       "       secondary_cleaner.state.floatbank4_a_air  \\\n",
       "count                              5.290000e+03   \n",
       "mean                               1.632007e+01   \n",
       "std                                3.493583e+00   \n",
       "min                                1.079872e-16   \n",
       "25%                                1.403618e+01   \n",
       "50%                                1.700847e+01   \n",
       "75%                                1.803862e+01   \n",
       "max                                3.005180e+01   \n",
       "\n",
       "       secondary_cleaner.state.floatbank4_a_level  \\\n",
       "count                                 5290.000000   \n",
       "mean                                  -505.144570   \n",
       "std                                     31.427337   \n",
       "min                                   -799.798523   \n",
       "25%                                   -500.868258   \n",
       "50%                                   -500.115727   \n",
       "75%                                   -499.404224   \n",
       "max                                   -401.565212   \n",
       "\n",
       "       secondary_cleaner.state.floatbank4_b_air  \\\n",
       "count                              5.290000e+03   \n",
       "mean                               1.373544e+01   \n",
       "std                                3.430484e+00   \n",
       "min                                2.489718e-17   \n",
       "25%                                1.202862e+01   \n",
       "50%                                1.496486e+01   \n",
       "75%                                1.596213e+01   \n",
       "max                                3.126971e+01   \n",
       "\n",
       "       secondary_cleaner.state.floatbank4_b_level  \\\n",
       "count                                 5290.000000   \n",
       "mean                                  -463.349858   \n",
       "std                                     86.189107   \n",
       "min                                   -800.836914   \n",
       "25%                                   -500.323028   \n",
       "50%                                   -499.576513   \n",
       "75%                                   -400.933805   \n",
       "max                                     -6.506986   \n",
       "\n",
       "       secondary_cleaner.state.floatbank5_a_air  \\\n",
       "count                               5290.000000   \n",
       "mean                                  12.804186   \n",
       "std                                    3.026591   \n",
       "min                                    0.069227   \n",
       "25%                                   10.914838   \n",
       "50%                                   12.954182   \n",
       "75%                                   15.097528   \n",
       "max                                   25.258848   \n",
       "\n",
       "       secondary_cleaner.state.floatbank5_a_level  \\\n",
       "count                                 5290.000000   \n",
       "mean                                  -501.329122   \n",
       "std                                     17.951495   \n",
       "min                                   -797.323986   \n",
       "25%                                   -500.726841   \n",
       "50%                                   -499.990332   \n",
       "75%                                   -499.283191   \n",
       "max                                   -244.483566   \n",
       "\n",
       "       secondary_cleaner.state.floatbank5_b_air  \\\n",
       "count                               5290.000000   \n",
       "mean                                   9.881145   \n",
       "std                                    2.868205   \n",
       "min                                    0.528083   \n",
       "25%                                    8.036719   \n",
       "50%                                   10.004301   \n",
       "75%                                   11.997467   \n",
       "max                                   14.086866   \n",
       "\n",
       "       secondary_cleaner.state.floatbank5_b_level  \\\n",
       "count                                 5290.000000   \n",
       "mean                                  -495.663398   \n",
       "std                                     34.535007   \n",
       "min                                   -800.220337   \n",
       "25%                                   -500.194668   \n",
       "50%                                   -499.990535   \n",
       "75%                                   -499.719913   \n",
       "max                                   -137.740004   \n",
       "\n",
       "       secondary_cleaner.state.floatbank6_a_air  \\\n",
       "count                               5290.000000   \n",
       "mean                                  17.304935   \n",
       "std                                    4.536544   \n",
       "min                                   -0.079426   \n",
       "25%                                   13.997317   \n",
       "50%                                   16.014935   \n",
       "75%                                   21.020013   \n",
       "max                                   26.705889   \n",
       "\n",
       "       secondary_cleaner.state.floatbank6_a_level  \n",
       "count                                 5290.000000  \n",
       "mean                                  -501.793193  \n",
       "std                                     39.044215  \n",
       "min                                   -809.741464  \n",
       "25%                                   -500.690984  \n",
       "50%                                   -500.007126  \n",
       "75%                                   -499.373018  \n",
       "max                                   -123.307487  \n",
       "\n",
       "[8 rows x 52 columns]"
      ]
     },
     "metadata": {},
     "output_type": "display_data"
    }
   ],
   "source": [
    "analyze(test)"
   ]
  },
  {
   "cell_type": "code",
   "execution_count": 6,
   "metadata": {},
   "outputs": [
    {
     "name": "stdout",
     "output_type": "stream",
     "text": [
      "Количество стобцов: 86\n",
      "Количество строк: 19439\n",
      "Дубликатов: 0\n"
     ]
    },
    {
     "data": {
      "text/html": [
       "<div>\n",
       "<style scoped>\n",
       "    .dataframe tbody tr th:only-of-type {\n",
       "        vertical-align: middle;\n",
       "    }\n",
       "\n",
       "    .dataframe tbody tr th {\n",
       "        vertical-align: top;\n",
       "    }\n",
       "\n",
       "    .dataframe thead th {\n",
       "        text-align: right;\n",
       "    }\n",
       "</style>\n",
       "<table border=\"1\" class=\"dataframe\">\n",
       "  <thead>\n",
       "    <tr style=\"text-align: right;\">\n",
       "      <th></th>\n",
       "      <th>final.output.concentrate_ag</th>\n",
       "      <th>final.output.concentrate_pb</th>\n",
       "      <th>final.output.concentrate_sol</th>\n",
       "      <th>final.output.concentrate_au</th>\n",
       "      <th>final.output.recovery</th>\n",
       "      <th>final.output.tail_ag</th>\n",
       "      <th>final.output.tail_pb</th>\n",
       "      <th>final.output.tail_sol</th>\n",
       "      <th>final.output.tail_au</th>\n",
       "      <th>primary_cleaner.input.sulfate</th>\n",
       "      <th>...</th>\n",
       "      <th>secondary_cleaner.state.floatbank4_a_air</th>\n",
       "      <th>secondary_cleaner.state.floatbank4_a_level</th>\n",
       "      <th>secondary_cleaner.state.floatbank4_b_air</th>\n",
       "      <th>secondary_cleaner.state.floatbank4_b_level</th>\n",
       "      <th>secondary_cleaner.state.floatbank5_a_air</th>\n",
       "      <th>secondary_cleaner.state.floatbank5_a_level</th>\n",
       "      <th>secondary_cleaner.state.floatbank5_b_air</th>\n",
       "      <th>secondary_cleaner.state.floatbank5_b_level</th>\n",
       "      <th>secondary_cleaner.state.floatbank6_a_air</th>\n",
       "      <th>secondary_cleaner.state.floatbank6_a_level</th>\n",
       "    </tr>\n",
       "    <tr>\n",
       "      <th>date</th>\n",
       "      <th></th>\n",
       "      <th></th>\n",
       "      <th></th>\n",
       "      <th></th>\n",
       "      <th></th>\n",
       "      <th></th>\n",
       "      <th></th>\n",
       "      <th></th>\n",
       "      <th></th>\n",
       "      <th></th>\n",
       "      <th></th>\n",
       "      <th></th>\n",
       "      <th></th>\n",
       "      <th></th>\n",
       "      <th></th>\n",
       "      <th></th>\n",
       "      <th></th>\n",
       "      <th></th>\n",
       "      <th></th>\n",
       "      <th></th>\n",
       "      <th></th>\n",
       "    </tr>\n",
       "  </thead>\n",
       "  <tbody>\n",
       "    <tr>\n",
       "      <th>2016-01-15 00:00:00</th>\n",
       "      <td>6.055403</td>\n",
       "      <td>9.889648</td>\n",
       "      <td>5.507324</td>\n",
       "      <td>42.192020</td>\n",
       "      <td>70.541216</td>\n",
       "      <td>10.411962</td>\n",
       "      <td>0.895447</td>\n",
       "      <td>16.904297</td>\n",
       "      <td>2.143149</td>\n",
       "      <td>127.092003</td>\n",
       "      <td>...</td>\n",
       "      <td>14.016835</td>\n",
       "      <td>-502.488007</td>\n",
       "      <td>12.099931</td>\n",
       "      <td>-504.715942</td>\n",
       "      <td>9.925633</td>\n",
       "      <td>-498.310211</td>\n",
       "      <td>8.079666</td>\n",
       "      <td>-500.470978</td>\n",
       "      <td>14.151341</td>\n",
       "      <td>-605.841980</td>\n",
       "    </tr>\n",
       "    <tr>\n",
       "      <th>2016-01-15 01:00:00</th>\n",
       "      <td>6.029369</td>\n",
       "      <td>9.968944</td>\n",
       "      <td>5.257781</td>\n",
       "      <td>42.701629</td>\n",
       "      <td>69.266198</td>\n",
       "      <td>10.462676</td>\n",
       "      <td>0.927452</td>\n",
       "      <td>16.634514</td>\n",
       "      <td>2.224930</td>\n",
       "      <td>125.629232</td>\n",
       "      <td>...</td>\n",
       "      <td>13.992281</td>\n",
       "      <td>-505.503262</td>\n",
       "      <td>11.950531</td>\n",
       "      <td>-501.331529</td>\n",
       "      <td>10.039245</td>\n",
       "      <td>-500.169983</td>\n",
       "      <td>7.984757</td>\n",
       "      <td>-500.582168</td>\n",
       "      <td>13.998353</td>\n",
       "      <td>-599.787184</td>\n",
       "    </tr>\n",
       "    <tr>\n",
       "      <th>2016-01-15 02:00:00</th>\n",
       "      <td>6.055926</td>\n",
       "      <td>10.213995</td>\n",
       "      <td>5.383759</td>\n",
       "      <td>42.657501</td>\n",
       "      <td>68.116445</td>\n",
       "      <td>10.507046</td>\n",
       "      <td>0.953716</td>\n",
       "      <td>16.208849</td>\n",
       "      <td>2.257889</td>\n",
       "      <td>123.819808</td>\n",
       "      <td>...</td>\n",
       "      <td>14.015015</td>\n",
       "      <td>-502.520901</td>\n",
       "      <td>11.912783</td>\n",
       "      <td>-501.133383</td>\n",
       "      <td>10.070913</td>\n",
       "      <td>-500.129135</td>\n",
       "      <td>8.013877</td>\n",
       "      <td>-500.517572</td>\n",
       "      <td>14.028663</td>\n",
       "      <td>-601.427363</td>\n",
       "    </tr>\n",
       "    <tr>\n",
       "      <th>2016-01-15 03:00:00</th>\n",
       "      <td>6.047977</td>\n",
       "      <td>9.977019</td>\n",
       "      <td>4.858634</td>\n",
       "      <td>42.689819</td>\n",
       "      <td>68.347543</td>\n",
       "      <td>10.422762</td>\n",
       "      <td>0.883763</td>\n",
       "      <td>16.532835</td>\n",
       "      <td>2.146849</td>\n",
       "      <td>122.270188</td>\n",
       "      <td>...</td>\n",
       "      <td>14.036510</td>\n",
       "      <td>-500.857308</td>\n",
       "      <td>11.999550</td>\n",
       "      <td>-501.193686</td>\n",
       "      <td>9.970366</td>\n",
       "      <td>-499.201640</td>\n",
       "      <td>7.977324</td>\n",
       "      <td>-500.255908</td>\n",
       "      <td>14.005551</td>\n",
       "      <td>-599.996129</td>\n",
       "    </tr>\n",
       "    <tr>\n",
       "      <th>2016-01-15 04:00:00</th>\n",
       "      <td>6.148599</td>\n",
       "      <td>10.142511</td>\n",
       "      <td>4.939416</td>\n",
       "      <td>42.774141</td>\n",
       "      <td>66.927016</td>\n",
       "      <td>10.360302</td>\n",
       "      <td>0.792826</td>\n",
       "      <td>16.525686</td>\n",
       "      <td>2.055292</td>\n",
       "      <td>117.988169</td>\n",
       "      <td>...</td>\n",
       "      <td>14.027298</td>\n",
       "      <td>-499.838632</td>\n",
       "      <td>11.953070</td>\n",
       "      <td>-501.053894</td>\n",
       "      <td>9.925709</td>\n",
       "      <td>-501.686727</td>\n",
       "      <td>7.894242</td>\n",
       "      <td>-500.356035</td>\n",
       "      <td>13.996647</td>\n",
       "      <td>-601.496691</td>\n",
       "    </tr>\n",
       "  </tbody>\n",
       "</table>\n",
       "<p>5 rows × 86 columns</p>\n",
       "</div>"
      ],
      "text/plain": [
       "                     final.output.concentrate_ag  final.output.concentrate_pb  \\\n",
       "date                                                                            \n",
       "2016-01-15 00:00:00                     6.055403                     9.889648   \n",
       "2016-01-15 01:00:00                     6.029369                     9.968944   \n",
       "2016-01-15 02:00:00                     6.055926                    10.213995   \n",
       "2016-01-15 03:00:00                     6.047977                     9.977019   \n",
       "2016-01-15 04:00:00                     6.148599                    10.142511   \n",
       "\n",
       "                     final.output.concentrate_sol  \\\n",
       "date                                                \n",
       "2016-01-15 00:00:00                      5.507324   \n",
       "2016-01-15 01:00:00                      5.257781   \n",
       "2016-01-15 02:00:00                      5.383759   \n",
       "2016-01-15 03:00:00                      4.858634   \n",
       "2016-01-15 04:00:00                      4.939416   \n",
       "\n",
       "                     final.output.concentrate_au  final.output.recovery  \\\n",
       "date                                                                      \n",
       "2016-01-15 00:00:00                    42.192020              70.541216   \n",
       "2016-01-15 01:00:00                    42.701629              69.266198   \n",
       "2016-01-15 02:00:00                    42.657501              68.116445   \n",
       "2016-01-15 03:00:00                    42.689819              68.347543   \n",
       "2016-01-15 04:00:00                    42.774141              66.927016   \n",
       "\n",
       "                     final.output.tail_ag  final.output.tail_pb  \\\n",
       "date                                                              \n",
       "2016-01-15 00:00:00             10.411962              0.895447   \n",
       "2016-01-15 01:00:00             10.462676              0.927452   \n",
       "2016-01-15 02:00:00             10.507046              0.953716   \n",
       "2016-01-15 03:00:00             10.422762              0.883763   \n",
       "2016-01-15 04:00:00             10.360302              0.792826   \n",
       "\n",
       "                     final.output.tail_sol  final.output.tail_au  \\\n",
       "date                                                               \n",
       "2016-01-15 00:00:00              16.904297              2.143149   \n",
       "2016-01-15 01:00:00              16.634514              2.224930   \n",
       "2016-01-15 02:00:00              16.208849              2.257889   \n",
       "2016-01-15 03:00:00              16.532835              2.146849   \n",
       "2016-01-15 04:00:00              16.525686              2.055292   \n",
       "\n",
       "                     primary_cleaner.input.sulfate  ...  \\\n",
       "date                                                ...   \n",
       "2016-01-15 00:00:00                     127.092003  ...   \n",
       "2016-01-15 01:00:00                     125.629232  ...   \n",
       "2016-01-15 02:00:00                     123.819808  ...   \n",
       "2016-01-15 03:00:00                     122.270188  ...   \n",
       "2016-01-15 04:00:00                     117.988169  ...   \n",
       "\n",
       "                     secondary_cleaner.state.floatbank4_a_air  \\\n",
       "date                                                            \n",
       "2016-01-15 00:00:00                                 14.016835   \n",
       "2016-01-15 01:00:00                                 13.992281   \n",
       "2016-01-15 02:00:00                                 14.015015   \n",
       "2016-01-15 03:00:00                                 14.036510   \n",
       "2016-01-15 04:00:00                                 14.027298   \n",
       "\n",
       "                     secondary_cleaner.state.floatbank4_a_level  \\\n",
       "date                                                              \n",
       "2016-01-15 00:00:00                                 -502.488007   \n",
       "2016-01-15 01:00:00                                 -505.503262   \n",
       "2016-01-15 02:00:00                                 -502.520901   \n",
       "2016-01-15 03:00:00                                 -500.857308   \n",
       "2016-01-15 04:00:00                                 -499.838632   \n",
       "\n",
       "                     secondary_cleaner.state.floatbank4_b_air  \\\n",
       "date                                                            \n",
       "2016-01-15 00:00:00                                 12.099931   \n",
       "2016-01-15 01:00:00                                 11.950531   \n",
       "2016-01-15 02:00:00                                 11.912783   \n",
       "2016-01-15 03:00:00                                 11.999550   \n",
       "2016-01-15 04:00:00                                 11.953070   \n",
       "\n",
       "                     secondary_cleaner.state.floatbank4_b_level  \\\n",
       "date                                                              \n",
       "2016-01-15 00:00:00                                 -504.715942   \n",
       "2016-01-15 01:00:00                                 -501.331529   \n",
       "2016-01-15 02:00:00                                 -501.133383   \n",
       "2016-01-15 03:00:00                                 -501.193686   \n",
       "2016-01-15 04:00:00                                 -501.053894   \n",
       "\n",
       "                     secondary_cleaner.state.floatbank5_a_air  \\\n",
       "date                                                            \n",
       "2016-01-15 00:00:00                                  9.925633   \n",
       "2016-01-15 01:00:00                                 10.039245   \n",
       "2016-01-15 02:00:00                                 10.070913   \n",
       "2016-01-15 03:00:00                                  9.970366   \n",
       "2016-01-15 04:00:00                                  9.925709   \n",
       "\n",
       "                     secondary_cleaner.state.floatbank5_a_level  \\\n",
       "date                                                              \n",
       "2016-01-15 00:00:00                                 -498.310211   \n",
       "2016-01-15 01:00:00                                 -500.169983   \n",
       "2016-01-15 02:00:00                                 -500.129135   \n",
       "2016-01-15 03:00:00                                 -499.201640   \n",
       "2016-01-15 04:00:00                                 -501.686727   \n",
       "\n",
       "                     secondary_cleaner.state.floatbank5_b_air  \\\n",
       "date                                                            \n",
       "2016-01-15 00:00:00                                  8.079666   \n",
       "2016-01-15 01:00:00                                  7.984757   \n",
       "2016-01-15 02:00:00                                  8.013877   \n",
       "2016-01-15 03:00:00                                  7.977324   \n",
       "2016-01-15 04:00:00                                  7.894242   \n",
       "\n",
       "                     secondary_cleaner.state.floatbank5_b_level  \\\n",
       "date                                                              \n",
       "2016-01-15 00:00:00                                 -500.470978   \n",
       "2016-01-15 01:00:00                                 -500.582168   \n",
       "2016-01-15 02:00:00                                 -500.517572   \n",
       "2016-01-15 03:00:00                                 -500.255908   \n",
       "2016-01-15 04:00:00                                 -500.356035   \n",
       "\n",
       "                     secondary_cleaner.state.floatbank6_a_air  \\\n",
       "date                                                            \n",
       "2016-01-15 00:00:00                                 14.151341   \n",
       "2016-01-15 01:00:00                                 13.998353   \n",
       "2016-01-15 02:00:00                                 14.028663   \n",
       "2016-01-15 03:00:00                                 14.005551   \n",
       "2016-01-15 04:00:00                                 13.996647   \n",
       "\n",
       "                     secondary_cleaner.state.floatbank6_a_level  \n",
       "date                                                             \n",
       "2016-01-15 00:00:00                                 -605.841980  \n",
       "2016-01-15 01:00:00                                 -599.787184  \n",
       "2016-01-15 02:00:00                                 -601.427363  \n",
       "2016-01-15 03:00:00                                 -599.996129  \n",
       "2016-01-15 04:00:00                                 -601.496691  \n",
       "\n",
       "[5 rows x 86 columns]"
      ]
     },
     "metadata": {},
     "output_type": "display_data"
    },
    {
     "name": "stdout",
     "output_type": "stream",
     "text": [
      "<class 'pandas.core.frame.DataFrame'>\n",
      "Index: 19439 entries, 2016-01-15 00:00:00 to 2018-08-18 10:59:59\n",
      "Data columns (total 86 columns):\n",
      " #   Column                                              Non-Null Count  Dtype  \n",
      "---  ------                                              --------------  -----  \n",
      " 0   final.output.concentrate_ag                         19438 non-null  float64\n",
      " 1   final.output.concentrate_pb                         19438 non-null  float64\n",
      " 2   final.output.concentrate_sol                        19228 non-null  float64\n",
      " 3   final.output.concentrate_au                         19439 non-null  float64\n",
      " 4   final.output.recovery                               19439 non-null  float64\n",
      " 5   final.output.tail_ag                                19438 non-null  float64\n",
      " 6   final.output.tail_pb                                19338 non-null  float64\n",
      " 7   final.output.tail_sol                               19433 non-null  float64\n",
      " 8   final.output.tail_au                                19439 non-null  float64\n",
      " 9   primary_cleaner.input.sulfate                       19415 non-null  float64\n",
      " 10  primary_cleaner.input.depressant                    19402 non-null  float64\n",
      " 11  primary_cleaner.input.feed_size                     19439 non-null  float64\n",
      " 12  primary_cleaner.input.xanthate                      19335 non-null  float64\n",
      " 13  primary_cleaner.output.concentrate_ag               19439 non-null  float64\n",
      " 14  primary_cleaner.output.concentrate_pb               19323 non-null  float64\n",
      " 15  primary_cleaner.output.concentrate_sol              19069 non-null  float64\n",
      " 16  primary_cleaner.output.concentrate_au               19439 non-null  float64\n",
      " 17  primary_cleaner.output.tail_ag                      19435 non-null  float64\n",
      " 18  primary_cleaner.output.tail_pb                      19418 non-null  float64\n",
      " 19  primary_cleaner.output.tail_sol                     19377 non-null  float64\n",
      " 20  primary_cleaner.output.tail_au                      19439 non-null  float64\n",
      " 21  primary_cleaner.state.floatbank8_a_air              19435 non-null  float64\n",
      " 22  primary_cleaner.state.floatbank8_a_level            19438 non-null  float64\n",
      " 23  primary_cleaner.state.floatbank8_b_air              19435 non-null  float64\n",
      " 24  primary_cleaner.state.floatbank8_b_level            19438 non-null  float64\n",
      " 25  primary_cleaner.state.floatbank8_c_air              19437 non-null  float64\n",
      " 26  primary_cleaner.state.floatbank8_c_level            19438 non-null  float64\n",
      " 27  primary_cleaner.state.floatbank8_d_air              19436 non-null  float64\n",
      " 28  primary_cleaner.state.floatbank8_d_level            19438 non-null  float64\n",
      " 29  rougher.calculation.sulfate_to_au_concentrate       19437 non-null  float64\n",
      " 30  rougher.calculation.floatbank10_sulfate_to_au_feed  19437 non-null  float64\n",
      " 31  rougher.calculation.floatbank11_sulfate_to_au_feed  19437 non-null  float64\n",
      " 32  rougher.calculation.au_pb_ratio                     19439 non-null  float64\n",
      " 33  rougher.input.feed_ag                               19439 non-null  float64\n",
      " 34  rougher.input.feed_pb                               19339 non-null  float64\n",
      " 35  rougher.input.feed_rate                             19428 non-null  float64\n",
      " 36  rougher.input.feed_size                             19294 non-null  float64\n",
      " 37  rougher.input.feed_sol                              19340 non-null  float64\n",
      " 38  rougher.input.feed_au                               19439 non-null  float64\n",
      " 39  rougher.input.floatbank10_sulfate                   19405 non-null  float64\n",
      " 40  rougher.input.floatbank10_xanthate                  19431 non-null  float64\n",
      " 41  rougher.input.floatbank11_sulfate                   19395 non-null  float64\n",
      " 42  rougher.input.floatbank11_xanthate                  18986 non-null  float64\n",
      " 43  rougher.output.concentrate_ag                       19439 non-null  float64\n",
      " 44  rougher.output.concentrate_pb                       19439 non-null  float64\n",
      " 45  rougher.output.concentrate_sol                      19416 non-null  float64\n",
      " 46  rougher.output.concentrate_au                       19439 non-null  float64\n",
      " 47  rougher.output.recovery                             19439 non-null  float64\n",
      " 48  rougher.output.tail_ag                              19438 non-null  float64\n",
      " 49  rougher.output.tail_pb                              19439 non-null  float64\n",
      " 50  rougher.output.tail_sol                             19439 non-null  float64\n",
      " 51  rougher.output.tail_au                              19439 non-null  float64\n",
      " 52  rougher.state.floatbank10_a_air                     19438 non-null  float64\n",
      " 53  rougher.state.floatbank10_a_level                   19438 non-null  float64\n",
      " 54  rougher.state.floatbank10_b_air                     19438 non-null  float64\n",
      " 55  rougher.state.floatbank10_b_level                   19438 non-null  float64\n",
      " 56  rougher.state.floatbank10_c_air                     19438 non-null  float64\n",
      " 57  rougher.state.floatbank10_c_level                   19438 non-null  float64\n",
      " 58  rougher.state.floatbank10_d_air                     19439 non-null  float64\n",
      " 59  rougher.state.floatbank10_d_level                   19439 non-null  float64\n",
      " 60  rougher.state.floatbank10_e_air                     19003 non-null  float64\n",
      " 61  rougher.state.floatbank10_e_level                   19439 non-null  float64\n",
      " 62  rougher.state.floatbank10_f_air                     19439 non-null  float64\n",
      " 63  rougher.state.floatbank10_f_level                   19439 non-null  float64\n",
      " 64  secondary_cleaner.output.tail_ag                    19437 non-null  float64\n",
      " 65  secondary_cleaner.output.tail_pb                    19427 non-null  float64\n",
      " 66  secondary_cleaner.output.tail_sol                   17691 non-null  float64\n",
      " 67  secondary_cleaner.output.tail_au                    19439 non-null  float64\n",
      " 68  secondary_cleaner.state.floatbank2_a_air            19219 non-null  float64\n",
      " 69  secondary_cleaner.state.floatbank2_a_level          19438 non-null  float64\n",
      " 70  secondary_cleaner.state.floatbank2_b_air            19416 non-null  float64\n",
      " 71  secondary_cleaner.state.floatbank2_b_level          19438 non-null  float64\n",
      " 72  secondary_cleaner.state.floatbank3_a_air            19426 non-null  float64\n",
      " 73  secondary_cleaner.state.floatbank3_a_level          19438 non-null  float64\n",
      " 74  secondary_cleaner.state.floatbank3_b_air            19438 non-null  float64\n",
      " 75  secondary_cleaner.state.floatbank3_b_level          19438 non-null  float64\n",
      " 76  secondary_cleaner.state.floatbank4_a_air            19433 non-null  float64\n",
      " 77  secondary_cleaner.state.floatbank4_a_level          19438 non-null  float64\n",
      " 78  secondary_cleaner.state.floatbank4_b_air            19438 non-null  float64\n",
      " 79  secondary_cleaner.state.floatbank4_b_level          19438 non-null  float64\n",
      " 80  secondary_cleaner.state.floatbank5_a_air            19438 non-null  float64\n",
      " 81  secondary_cleaner.state.floatbank5_a_level          19438 non-null  float64\n",
      " 82  secondary_cleaner.state.floatbank5_b_air            19438 non-null  float64\n",
      " 83  secondary_cleaner.state.floatbank5_b_level          19438 non-null  float64\n",
      " 84  secondary_cleaner.state.floatbank6_a_air            19437 non-null  float64\n",
      " 85  secondary_cleaner.state.floatbank6_a_level          19438 non-null  float64\n",
      "dtypes: float64(86)\n",
      "memory usage: 12.9+ MB\n"
     ]
    },
    {
     "data": {
      "text/html": [
       "<div>\n",
       "<style scoped>\n",
       "    .dataframe tbody tr th:only-of-type {\n",
       "        vertical-align: middle;\n",
       "    }\n",
       "\n",
       "    .dataframe tbody tr th {\n",
       "        vertical-align: top;\n",
       "    }\n",
       "\n",
       "    .dataframe thead th {\n",
       "        text-align: right;\n",
       "    }\n",
       "</style>\n",
       "<table border=\"1\" class=\"dataframe\">\n",
       "  <thead>\n",
       "    <tr style=\"text-align: right;\">\n",
       "      <th></th>\n",
       "      <th>final.output.concentrate_ag</th>\n",
       "      <th>final.output.concentrate_pb</th>\n",
       "      <th>final.output.concentrate_sol</th>\n",
       "      <th>final.output.concentrate_au</th>\n",
       "      <th>final.output.recovery</th>\n",
       "      <th>final.output.tail_ag</th>\n",
       "      <th>final.output.tail_pb</th>\n",
       "      <th>final.output.tail_sol</th>\n",
       "      <th>final.output.tail_au</th>\n",
       "      <th>primary_cleaner.input.sulfate</th>\n",
       "      <th>...</th>\n",
       "      <th>secondary_cleaner.state.floatbank4_a_air</th>\n",
       "      <th>secondary_cleaner.state.floatbank4_a_level</th>\n",
       "      <th>secondary_cleaner.state.floatbank4_b_air</th>\n",
       "      <th>secondary_cleaner.state.floatbank4_b_level</th>\n",
       "      <th>secondary_cleaner.state.floatbank5_a_air</th>\n",
       "      <th>secondary_cleaner.state.floatbank5_a_level</th>\n",
       "      <th>secondary_cleaner.state.floatbank5_b_air</th>\n",
       "      <th>secondary_cleaner.state.floatbank5_b_level</th>\n",
       "      <th>secondary_cleaner.state.floatbank6_a_air</th>\n",
       "      <th>secondary_cleaner.state.floatbank6_a_level</th>\n",
       "    </tr>\n",
       "  </thead>\n",
       "  <tbody>\n",
       "    <tr>\n",
       "      <th>count</th>\n",
       "      <td>19438.000000</td>\n",
       "      <td>19438.000000</td>\n",
       "      <td>19228.000000</td>\n",
       "      <td>19439.000000</td>\n",
       "      <td>19439.000000</td>\n",
       "      <td>19438.000000</td>\n",
       "      <td>19338.000000</td>\n",
       "      <td>19433.000000</td>\n",
       "      <td>19439.000000</td>\n",
       "      <td>19415.000000</td>\n",
       "      <td>...</td>\n",
       "      <td>19433.000000</td>\n",
       "      <td>19438.000000</td>\n",
       "      <td>19438.000000</td>\n",
       "      <td>19438.000000</td>\n",
       "      <td>19438.000000</td>\n",
       "      <td>19438.000000</td>\n",
       "      <td>19438.000000</td>\n",
       "      <td>19438.000000</td>\n",
       "      <td>19437.000000</td>\n",
       "      <td>19438.000000</td>\n",
       "    </tr>\n",
       "    <tr>\n",
       "      <th>mean</th>\n",
       "      <td>5.168470</td>\n",
       "      <td>9.978895</td>\n",
       "      <td>9.501224</td>\n",
       "      <td>44.076513</td>\n",
       "      <td>67.050208</td>\n",
       "      <td>9.688589</td>\n",
       "      <td>2.705795</td>\n",
       "      <td>10.583728</td>\n",
       "      <td>3.042467</td>\n",
       "      <td>144.624774</td>\n",
       "      <td>...</td>\n",
       "      <td>18.987674</td>\n",
       "      <td>-485.894516</td>\n",
       "      <td>15.010366</td>\n",
       "      <td>-461.078636</td>\n",
       "      <td>15.694452</td>\n",
       "      <td>-488.684065</td>\n",
       "      <td>12.198224</td>\n",
       "      <td>-487.149827</td>\n",
       "      <td>18.959024</td>\n",
       "      <td>-505.436305</td>\n",
       "    </tr>\n",
       "    <tr>\n",
       "      <th>std</th>\n",
       "      <td>1.372348</td>\n",
       "      <td>1.669240</td>\n",
       "      <td>2.787537</td>\n",
       "      <td>5.129784</td>\n",
       "      <td>10.125840</td>\n",
       "      <td>2.328642</td>\n",
       "      <td>0.949077</td>\n",
       "      <td>2.868782</td>\n",
       "      <td>0.922808</td>\n",
       "      <td>44.464071</td>\n",
       "      <td>...</td>\n",
       "      <td>5.411058</td>\n",
       "      <td>47.758570</td>\n",
       "      <td>4.890228</td>\n",
       "      <td>67.405524</td>\n",
       "      <td>5.510974</td>\n",
       "      <td>34.533396</td>\n",
       "      <td>5.333024</td>\n",
       "      <td>38.347312</td>\n",
       "      <td>5.550498</td>\n",
       "      <td>37.689057</td>\n",
       "    </tr>\n",
       "    <tr>\n",
       "      <th>min</th>\n",
       "      <td>0.000000</td>\n",
       "      <td>0.000000</td>\n",
       "      <td>0.000000</td>\n",
       "      <td>0.000000</td>\n",
       "      <td>0.000000</td>\n",
       "      <td>0.000000</td>\n",
       "      <td>0.000000</td>\n",
       "      <td>0.000000</td>\n",
       "      <td>0.000000</td>\n",
       "      <td>0.003112</td>\n",
       "      <td>...</td>\n",
       "      <td>0.000000</td>\n",
       "      <td>-799.798523</td>\n",
       "      <td>0.000000</td>\n",
       "      <td>-800.836914</td>\n",
       "      <td>-0.372054</td>\n",
       "      <td>-797.323986</td>\n",
       "      <td>0.528083</td>\n",
       "      <td>-800.220337</td>\n",
       "      <td>-0.079426</td>\n",
       "      <td>-809.741464</td>\n",
       "    </tr>\n",
       "    <tr>\n",
       "      <th>25%</th>\n",
       "      <td>4.251240</td>\n",
       "      <td>9.137262</td>\n",
       "      <td>7.722820</td>\n",
       "      <td>43.402215</td>\n",
       "      <td>63.299712</td>\n",
       "      <td>8.062878</td>\n",
       "      <td>2.040119</td>\n",
       "      <td>8.938947</td>\n",
       "      <td>2.461138</td>\n",
       "      <td>114.107029</td>\n",
       "      <td>...</td>\n",
       "      <td>14.975734</td>\n",
       "      <td>-500.704892</td>\n",
       "      <td>11.940294</td>\n",
       "      <td>-500.187742</td>\n",
       "      <td>10.988606</td>\n",
       "      <td>-500.458467</td>\n",
       "      <td>8.971105</td>\n",
       "      <td>-500.129462</td>\n",
       "      <td>14.983037</td>\n",
       "      <td>-500.728067</td>\n",
       "    </tr>\n",
       "    <tr>\n",
       "      <th>50%</th>\n",
       "      <td>5.066094</td>\n",
       "      <td>10.102433</td>\n",
       "      <td>9.218961</td>\n",
       "      <td>45.011244</td>\n",
       "      <td>68.172738</td>\n",
       "      <td>9.743623</td>\n",
       "      <td>2.748730</td>\n",
       "      <td>10.622456</td>\n",
       "      <td>2.984909</td>\n",
       "      <td>143.232103</td>\n",
       "      <td>...</td>\n",
       "      <td>18.017481</td>\n",
       "      <td>-499.837793</td>\n",
       "      <td>14.971014</td>\n",
       "      <td>-499.459786</td>\n",
       "      <td>15.000036</td>\n",
       "      <td>-499.802605</td>\n",
       "      <td>11.019433</td>\n",
       "      <td>-499.935317</td>\n",
       "      <td>19.960541</td>\n",
       "      <td>-500.048400</td>\n",
       "    </tr>\n",
       "    <tr>\n",
       "      <th>75%</th>\n",
       "      <td>5.895527</td>\n",
       "      <td>11.035769</td>\n",
       "      <td>10.947813</td>\n",
       "      <td>46.275313</td>\n",
       "      <td>72.686642</td>\n",
       "      <td>11.134294</td>\n",
       "      <td>3.333216</td>\n",
       "      <td>12.104271</td>\n",
       "      <td>3.571351</td>\n",
       "      <td>175.075656</td>\n",
       "      <td>...</td>\n",
       "      <td>23.012470</td>\n",
       "      <td>-498.249730</td>\n",
       "      <td>19.034162</td>\n",
       "      <td>-400.118106</td>\n",
       "      <td>18.026190</td>\n",
       "      <td>-498.384187</td>\n",
       "      <td>14.019088</td>\n",
       "      <td>-499.436708</td>\n",
       "      <td>24.003170</td>\n",
       "      <td>-499.495378</td>\n",
       "    </tr>\n",
       "    <tr>\n",
       "      <th>max</th>\n",
       "      <td>16.001945</td>\n",
       "      <td>17.031899</td>\n",
       "      <td>19.615720</td>\n",
       "      <td>52.756638</td>\n",
       "      <td>100.000000</td>\n",
       "      <td>19.552149</td>\n",
       "      <td>5.804178</td>\n",
       "      <td>22.317730</td>\n",
       "      <td>8.245022</td>\n",
       "      <td>265.983123</td>\n",
       "      <td>...</td>\n",
       "      <td>30.115735</td>\n",
       "      <td>-245.239184</td>\n",
       "      <td>31.269706</td>\n",
       "      <td>-6.506986</td>\n",
       "      <td>43.709931</td>\n",
       "      <td>-244.483566</td>\n",
       "      <td>27.926001</td>\n",
       "      <td>-137.740004</td>\n",
       "      <td>32.188906</td>\n",
       "      <td>-104.427459</td>\n",
       "    </tr>\n",
       "  </tbody>\n",
       "</table>\n",
       "<p>8 rows × 86 columns</p>\n",
       "</div>"
      ],
      "text/plain": [
       "       final.output.concentrate_ag  final.output.concentrate_pb  \\\n",
       "count                 19438.000000                 19438.000000   \n",
       "mean                      5.168470                     9.978895   \n",
       "std                       1.372348                     1.669240   \n",
       "min                       0.000000                     0.000000   \n",
       "25%                       4.251240                     9.137262   \n",
       "50%                       5.066094                    10.102433   \n",
       "75%                       5.895527                    11.035769   \n",
       "max                      16.001945                    17.031899   \n",
       "\n",
       "       final.output.concentrate_sol  final.output.concentrate_au  \\\n",
       "count                  19228.000000                 19439.000000   \n",
       "mean                       9.501224                    44.076513   \n",
       "std                        2.787537                     5.129784   \n",
       "min                        0.000000                     0.000000   \n",
       "25%                        7.722820                    43.402215   \n",
       "50%                        9.218961                    45.011244   \n",
       "75%                       10.947813                    46.275313   \n",
       "max                       19.615720                    52.756638   \n",
       "\n",
       "       final.output.recovery  final.output.tail_ag  final.output.tail_pb  \\\n",
       "count           19439.000000          19438.000000          19338.000000   \n",
       "mean               67.050208              9.688589              2.705795   \n",
       "std                10.125840              2.328642              0.949077   \n",
       "min                 0.000000              0.000000              0.000000   \n",
       "25%                63.299712              8.062878              2.040119   \n",
       "50%                68.172738              9.743623              2.748730   \n",
       "75%                72.686642             11.134294              3.333216   \n",
       "max               100.000000             19.552149              5.804178   \n",
       "\n",
       "       final.output.tail_sol  final.output.tail_au  \\\n",
       "count           19433.000000          19439.000000   \n",
       "mean               10.583728              3.042467   \n",
       "std                 2.868782              0.922808   \n",
       "min                 0.000000              0.000000   \n",
       "25%                 8.938947              2.461138   \n",
       "50%                10.622456              2.984909   \n",
       "75%                12.104271              3.571351   \n",
       "max                22.317730              8.245022   \n",
       "\n",
       "       primary_cleaner.input.sulfate  ...  \\\n",
       "count                   19415.000000  ...   \n",
       "mean                      144.624774  ...   \n",
       "std                        44.464071  ...   \n",
       "min                         0.003112  ...   \n",
       "25%                       114.107029  ...   \n",
       "50%                       143.232103  ...   \n",
       "75%                       175.075656  ...   \n",
       "max                       265.983123  ...   \n",
       "\n",
       "       secondary_cleaner.state.floatbank4_a_air  \\\n",
       "count                              19433.000000   \n",
       "mean                                  18.987674   \n",
       "std                                    5.411058   \n",
       "min                                    0.000000   \n",
       "25%                                   14.975734   \n",
       "50%                                   18.017481   \n",
       "75%                                   23.012470   \n",
       "max                                   30.115735   \n",
       "\n",
       "       secondary_cleaner.state.floatbank4_a_level  \\\n",
       "count                                19438.000000   \n",
       "mean                                  -485.894516   \n",
       "std                                     47.758570   \n",
       "min                                   -799.798523   \n",
       "25%                                   -500.704892   \n",
       "50%                                   -499.837793   \n",
       "75%                                   -498.249730   \n",
       "max                                   -245.239184   \n",
       "\n",
       "       secondary_cleaner.state.floatbank4_b_air  \\\n",
       "count                              19438.000000   \n",
       "mean                                  15.010366   \n",
       "std                                    4.890228   \n",
       "min                                    0.000000   \n",
       "25%                                   11.940294   \n",
       "50%                                   14.971014   \n",
       "75%                                   19.034162   \n",
       "max                                   31.269706   \n",
       "\n",
       "       secondary_cleaner.state.floatbank4_b_level  \\\n",
       "count                                19438.000000   \n",
       "mean                                  -461.078636   \n",
       "std                                     67.405524   \n",
       "min                                   -800.836914   \n",
       "25%                                   -500.187742   \n",
       "50%                                   -499.459786   \n",
       "75%                                   -400.118106   \n",
       "max                                     -6.506986   \n",
       "\n",
       "       secondary_cleaner.state.floatbank5_a_air  \\\n",
       "count                              19438.000000   \n",
       "mean                                  15.694452   \n",
       "std                                    5.510974   \n",
       "min                                   -0.372054   \n",
       "25%                                   10.988606   \n",
       "50%                                   15.000036   \n",
       "75%                                   18.026190   \n",
       "max                                   43.709931   \n",
       "\n",
       "       secondary_cleaner.state.floatbank5_a_level  \\\n",
       "count                                19438.000000   \n",
       "mean                                  -488.684065   \n",
       "std                                     34.533396   \n",
       "min                                   -797.323986   \n",
       "25%                                   -500.458467   \n",
       "50%                                   -499.802605   \n",
       "75%                                   -498.384187   \n",
       "max                                   -244.483566   \n",
       "\n",
       "       secondary_cleaner.state.floatbank5_b_air  \\\n",
       "count                              19438.000000   \n",
       "mean                                  12.198224   \n",
       "std                                    5.333024   \n",
       "min                                    0.528083   \n",
       "25%                                    8.971105   \n",
       "50%                                   11.019433   \n",
       "75%                                   14.019088   \n",
       "max                                   27.926001   \n",
       "\n",
       "       secondary_cleaner.state.floatbank5_b_level  \\\n",
       "count                                19438.000000   \n",
       "mean                                  -487.149827   \n",
       "std                                     38.347312   \n",
       "min                                   -800.220337   \n",
       "25%                                   -500.129462   \n",
       "50%                                   -499.935317   \n",
       "75%                                   -499.436708   \n",
       "max                                   -137.740004   \n",
       "\n",
       "       secondary_cleaner.state.floatbank6_a_air  \\\n",
       "count                              19437.000000   \n",
       "mean                                  18.959024   \n",
       "std                                    5.550498   \n",
       "min                                   -0.079426   \n",
       "25%                                   14.983037   \n",
       "50%                                   19.960541   \n",
       "75%                                   24.003170   \n",
       "max                                   32.188906   \n",
       "\n",
       "       secondary_cleaner.state.floatbank6_a_level  \n",
       "count                                19438.000000  \n",
       "mean                                  -505.436305  \n",
       "std                                     37.689057  \n",
       "min                                   -809.741464  \n",
       "25%                                   -500.728067  \n",
       "50%                                   -500.048400  \n",
       "75%                                   -499.495378  \n",
       "max                                   -104.427459  \n",
       "\n",
       "[8 rows x 86 columns]"
      ]
     },
     "metadata": {},
     "output_type": "display_data"
    }
   ],
   "source": [
    "analyze(full)"
   ]
  },
  {
   "cell_type": "markdown",
   "metadata": {},
   "source": [
    "Вывод:\n",
    "\n",
    "* В данных есть пропуски\n",
    "* В тестовой выборке отсутствуют некоторые признаки, которые есть в обучающей выборке"
   ]
  },
  {
   "cell_type": "markdown",
   "metadata": {},
   "source": [
    "### Расчёт эффективности обогащения"
   ]
  },
  {
   "attachments": {
    "image.png": {
     "image/png": "[encoded data removed]"
    }
   },
   "cell_type": "markdown",
   "metadata": {},
   "source": [
    "Эффективность обогащения рассчитывается по формуле\n",
    "![image.png](attachment:image.png)\n",
    "\n",
    "где:\n",
    "* C — доля золота в концентрате после флотации/очистки;\n",
    "* F — доля золота в сырье/концентрате до флотации/очистки;\n",
    "* T — доля золота в отвальных хвостах после флотации/очистки."
   ]
  },
  {
   "cell_type": "code",
   "execution_count": 7,
   "metadata": {},
   "outputs": [],
   "source": [
    "def calculate_recovery(c,f,t):\n",
    "    recovery = (c*(f-t)) / (f*(c-t)) * 100\n",
    "    \n",
    "# Заполним слишком маленькие и слишком большие значения с помощью np.nan\n",
    "    recovery[recovery<0] = np.nan\n",
    "    recovery[recovery>100] = np.nan\n",
    "    \n",
    "    return recovery"
   ]
  },
  {
   "cell_type": "code",
   "execution_count": 8,
   "metadata": {},
   "outputs": [
    {
     "data": {
      "text/plain": [
       "count    14149.000000\n",
       "mean        82.704502\n",
       "std         14.479156\n",
       "min         -0.000000\n",
       "25%         79.993067\n",
       "50%         85.299462\n",
       "75%         90.165021\n",
       "max        100.000000\n",
       "dtype: float64"
      ]
     },
     "execution_count": 8,
     "metadata": {},
     "output_type": "execute_result"
    }
   ],
   "source": [
    "#Вычислим эффективность обогащения на обучающей выборке для признака rougher.output.recovery\n",
    "c = train['rougher.output.concentrate_au'].dropna()\n",
    "f = train['rougher.input.feed_au'].dropna()\n",
    "t = train['rougher.output.tail_au'].dropna()\n",
    "\n",
    "recovery = calculate_recovery(c,f,t)\n",
    "recovery.describe()"
   ]
  },
  {
   "cell_type": "code",
   "execution_count": 9,
   "metadata": {},
   "outputs": [
    {
     "name": "stdout",
     "output_type": "stream",
     "text": [
      "Средняя абсолютная ошибка: 9.73512347450521e-15\n"
     ]
    }
   ],
   "source": [
    "#Посчитаем MAE\n",
    "mae = mean_absolute_error(train['rougher.output.recovery'], recovery)\n",
    "print('Средняя абсолютная ошибка:', mae)"
   ]
  },
  {
   "cell_type": "markdown",
   "metadata": {},
   "source": [
    "Вывод: \n",
    "\n",
    "MAE (средняя абсолютная ошибка) между рассчитаной эффективностью обогащения и значением признака очень мала, следовательно, значение эффективности указано верно."
   ]
  },
  {
   "cell_type": "markdown",
   "metadata": {},
   "source": [
    "### Анализ признаков, недоступных в тестовой выборке"
   ]
  },
  {
   "cell_type": "code",
   "execution_count": 10,
   "metadata": {},
   "outputs": [
    {
     "data": {
      "text/plain": [
       "{'final.output.concentrate_ag',\n",
       " 'final.output.concentrate_au',\n",
       " 'final.output.concentrate_pb',\n",
       " 'final.output.concentrate_sol',\n",
       " 'final.output.recovery',\n",
       " 'final.output.tail_ag',\n",
       " 'final.output.tail_au',\n",
       " 'final.output.tail_pb',\n",
       " 'final.output.tail_sol',\n",
       " 'primary_cleaner.output.concentrate_ag',\n",
       " 'primary_cleaner.output.concentrate_au',\n",
       " 'primary_cleaner.output.concentrate_pb',\n",
       " 'primary_cleaner.output.concentrate_sol',\n",
       " 'primary_cleaner.output.tail_ag',\n",
       " 'primary_cleaner.output.tail_au',\n",
       " 'primary_cleaner.output.tail_pb',\n",
       " 'primary_cleaner.output.tail_sol',\n",
       " 'rougher.calculation.au_pb_ratio',\n",
       " 'rougher.calculation.floatbank10_sulfate_to_au_feed',\n",
       " 'rougher.calculation.floatbank11_sulfate_to_au_feed',\n",
       " 'rougher.calculation.sulfate_to_au_concentrate',\n",
       " 'rougher.output.concentrate_ag',\n",
       " 'rougher.output.concentrate_au',\n",
       " 'rougher.output.concentrate_pb',\n",
       " 'rougher.output.concentrate_sol',\n",
       " 'rougher.output.recovery',\n",
       " 'rougher.output.tail_ag',\n",
       " 'rougher.output.tail_au',\n",
       " 'rougher.output.tail_pb',\n",
       " 'rougher.output.tail_sol',\n",
       " 'secondary_cleaner.output.tail_ag',\n",
       " 'secondary_cleaner.output.tail_au',\n",
       " 'secondary_cleaner.output.tail_pb',\n",
       " 'secondary_cleaner.output.tail_sol'}"
      ]
     },
     "execution_count": 10,
     "metadata": {},
     "output_type": "execute_result"
    }
   ],
   "source": [
    "#Найдем отсутсвующие признаки\n",
    "set(train) - set(test)"
   ]
  },
  {
   "cell_type": "markdown",
   "metadata": {},
   "source": [
    "Выводы:\n",
    "\n",
    "* Все признаки имеют тип float\n",
    "* Признаки output - целевые признаки и поэтому отсутствуют в тестовой выборке\n",
    "* Признаки rougher.calculation - это расчетные характеристики"
   ]
  },
  {
   "cell_type": "markdown",
   "metadata": {},
   "source": [
    "### Предобработка данных"
   ]
  },
  {
   "cell_type": "markdown",
   "metadata": {},
   "source": [
    "Рассчитаем долю пропущенных значений"
   ]
  },
  {
   "cell_type": "code",
   "execution_count": 11,
   "metadata": {},
   "outputs": [
    {
     "data": {
      "text/html": [
       "<style  type=\"text/css\" >\n",
       "#T_7bef9_row0_col0{\n",
       "            background-color:  #b40426;\n",
       "            color:  #f1f1f1;\n",
       "        }#T_7bef9_row1_col0{\n",
       "            background-color:  #94b6ff;\n",
       "            color:  #000000;\n",
       "        }#T_7bef9_row2_col0{\n",
       "            background-color:  #93b5fe;\n",
       "            color:  #000000;\n",
       "        }#T_7bef9_row3_col0{\n",
       "            background-color:  #7396f5;\n",
       "            color:  #000000;\n",
       "        }#T_7bef9_row4_col0{\n",
       "            background-color:  #6485ec;\n",
       "            color:  #000000;\n",
       "        }#T_7bef9_row5_col0{\n",
       "            background-color:  #6384eb;\n",
       "            color:  #000000;\n",
       "        }#T_7bef9_row6_col0{\n",
       "            background-color:  #5572df;\n",
       "            color:  #000000;\n",
       "        }#T_7bef9_row7_col0,#T_7bef9_row8_col0,#T_7bef9_row9_col0{\n",
       "            background-color:  #4c66d6;\n",
       "            color:  #000000;\n",
       "        }#T_7bef9_row10_col0{\n",
       "            background-color:  #4a63d3;\n",
       "            color:  #f1f1f1;\n",
       "        }#T_7bef9_row11_col0{\n",
       "            background-color:  #4961d2;\n",
       "            color:  #f1f1f1;\n",
       "        }#T_7bef9_row12_col0{\n",
       "            background-color:  #4358cb;\n",
       "            color:  #f1f1f1;\n",
       "        }#T_7bef9_row13_col0,#T_7bef9_row14_col0{\n",
       "            background-color:  #4055c8;\n",
       "            color:  #f1f1f1;\n",
       "        }#T_7bef9_row15_col0{\n",
       "            background-color:  #3f53c6;\n",
       "            color:  #f1f1f1;\n",
       "        }#T_7bef9_row16_col0,#T_7bef9_row17_col0,#T_7bef9_row18_col0{\n",
       "            background-color:  #3e51c5;\n",
       "            color:  #f1f1f1;\n",
       "        }#T_7bef9_row19_col0{\n",
       "            background-color:  #3d50c3;\n",
       "            color:  #f1f1f1;\n",
       "        }#T_7bef9_row20_col0,#T_7bef9_row21_col0,#T_7bef9_row22_col0{\n",
       "            background-color:  #3c4ec2;\n",
       "            color:  #f1f1f1;\n",
       "        }#T_7bef9_row23_col0,#T_7bef9_row24_col0,#T_7bef9_row25_col0,#T_7bef9_row26_col0,#T_7bef9_row27_col0,#T_7bef9_row28_col0,#T_7bef9_row29_col0,#T_7bef9_row30_col0,#T_7bef9_row31_col0,#T_7bef9_row32_col0,#T_7bef9_row33_col0,#T_7bef9_row34_col0,#T_7bef9_row35_col0,#T_7bef9_row36_col0,#T_7bef9_row37_col0,#T_7bef9_row38_col0,#T_7bef9_row39_col0,#T_7bef9_row40_col0,#T_7bef9_row41_col0,#T_7bef9_row42_col0,#T_7bef9_row43_col0,#T_7bef9_row44_col0,#T_7bef9_row45_col0,#T_7bef9_row46_col0,#T_7bef9_row47_col0,#T_7bef9_row48_col0,#T_7bef9_row49_col0,#T_7bef9_row50_col0,#T_7bef9_row51_col0,#T_7bef9_row52_col0,#T_7bef9_row53_col0,#T_7bef9_row54_col0,#T_7bef9_row55_col0,#T_7bef9_row56_col0,#T_7bef9_row57_col0,#T_7bef9_row58_col0,#T_7bef9_row59_col0,#T_7bef9_row60_col0,#T_7bef9_row61_col0,#T_7bef9_row62_col0,#T_7bef9_row63_col0,#T_7bef9_row64_col0,#T_7bef9_row65_col0,#T_7bef9_row66_col0,#T_7bef9_row67_col0,#T_7bef9_row68_col0,#T_7bef9_row69_col0,#T_7bef9_row70_col0,#T_7bef9_row71_col0,#T_7bef9_row72_col0,#T_7bef9_row73_col0,#T_7bef9_row74_col0,#T_7bef9_row75_col0,#T_7bef9_row76_col0,#T_7bef9_row77_col0,#T_7bef9_row78_col0,#T_7bef9_row79_col0,#T_7bef9_row80_col0,#T_7bef9_row81_col0,#T_7bef9_row82_col0,#T_7bef9_row83_col0,#T_7bef9_row84_col0,#T_7bef9_row85_col0{\n",
       "            background-color:  #3b4cc0;\n",
       "            color:  #f1f1f1;\n",
       "        }</style><table id=\"T_7bef9_\" ><thead>    <tr>        <th class=\"blank level0\" ></th>        <th class=\"col_heading level0 col0\" >percent_space</th>    </tr></thead><tbody>\n",
       "                <tr>\n",
       "                        <th id=\"T_7bef9_level0_row0\" class=\"row_heading level0 row0\" >secondary_cleaner.output.tail_sol</th>\n",
       "                        <td id=\"T_7bef9_row0_col0\" class=\"data row0 col0\" >11.3</td>\n",
       "            </tr>\n",
       "            <tr>\n",
       "                        <th id=\"T_7bef9_level0_row1\" class=\"row_heading level0 row1\" >rougher.state.floatbank10_e_air</th>\n",
       "                        <td id=\"T_7bef9_row1_col0\" class=\"data row1 col0\" >3.1</td>\n",
       "            </tr>\n",
       "            <tr>\n",
       "                        <th id=\"T_7bef9_level0_row2\" class=\"row_heading level0 row2\" >rougher.input.floatbank11_xanthate</th>\n",
       "                        <td id=\"T_7bef9_row2_col0\" class=\"data row2 col0\" >3.0</td>\n",
       "            </tr>\n",
       "            <tr>\n",
       "                        <th id=\"T_7bef9_level0_row3\" class=\"row_heading level0 row3\" >primary_cleaner.output.concentrate_sol</th>\n",
       "                        <td id=\"T_7bef9_row3_col0\" class=\"data row3 col0\" >2.0</td>\n",
       "            </tr>\n",
       "            <tr>\n",
       "                        <th id=\"T_7bef9_level0_row4\" class=\"row_heading level0 row4\" >secondary_cleaner.state.floatbank2_a_air</th>\n",
       "                        <td id=\"T_7bef9_row4_col0\" class=\"data row4 col0\" >1.5</td>\n",
       "            </tr>\n",
       "            <tr>\n",
       "                        <th id=\"T_7bef9_level0_row5\" class=\"row_heading level0 row5\" >final.output.concentrate_sol</th>\n",
       "                        <td id=\"T_7bef9_row5_col0\" class=\"data row5 col0\" >1.5</td>\n",
       "            </tr>\n",
       "            <tr>\n",
       "                        <th id=\"T_7bef9_level0_row6\" class=\"row_heading level0 row6\" >rougher.input.feed_size</th>\n",
       "                        <td id=\"T_7bef9_row6_col0\" class=\"data row6 col0\" >1.0</td>\n",
       "            </tr>\n",
       "            <tr>\n",
       "                        <th id=\"T_7bef9_level0_row7\" class=\"row_heading level0 row7\" >rougher.input.feed_pb</th>\n",
       "                        <td id=\"T_7bef9_row7_col0\" class=\"data row7 col0\" >0.7</td>\n",
       "            </tr>\n",
       "            <tr>\n",
       "                        <th id=\"T_7bef9_level0_row8\" class=\"row_heading level0 row8\" >final.output.tail_pb</th>\n",
       "                        <td id=\"T_7bef9_row8_col0\" class=\"data row8 col0\" >0.7</td>\n",
       "            </tr>\n",
       "            <tr>\n",
       "                        <th id=\"T_7bef9_level0_row9\" class=\"row_heading level0 row9\" >primary_cleaner.input.xanthate</th>\n",
       "                        <td id=\"T_7bef9_row9_col0\" class=\"data row9 col0\" >0.7</td>\n",
       "            </tr>\n",
       "            <tr>\n",
       "                        <th id=\"T_7bef9_level0_row10\" class=\"row_heading level0 row10\" >primary_cleaner.output.concentrate_pb</th>\n",
       "                        <td id=\"T_7bef9_row10_col0\" class=\"data row10 col0\" >0.6</td>\n",
       "            </tr>\n",
       "            <tr>\n",
       "                        <th id=\"T_7bef9_level0_row11\" class=\"row_heading level0 row11\" >rougher.input.feed_sol</th>\n",
       "                        <td id=\"T_7bef9_row11_col0\" class=\"data row11 col0\" >0.6</td>\n",
       "            </tr>\n",
       "            <tr>\n",
       "                        <th id=\"T_7bef9_level0_row12\" class=\"row_heading level0 row12\" >primary_cleaner.output.tail_sol</th>\n",
       "                        <td id=\"T_7bef9_row12_col0\" class=\"data row12 col0\" >0.3</td>\n",
       "            </tr>\n",
       "            <tr>\n",
       "                        <th id=\"T_7bef9_level0_row13\" class=\"row_heading level0 row13\" >rougher.input.floatbank11_sulfate</th>\n",
       "                        <td id=\"T_7bef9_row13_col0\" class=\"data row13 col0\" >0.3</td>\n",
       "            </tr>\n",
       "            <tr>\n",
       "                        <th id=\"T_7bef9_level0_row14\" class=\"row_heading level0 row14\" >primary_cleaner.input.depressant</th>\n",
       "                        <td id=\"T_7bef9_row14_col0\" class=\"data row14 col0\" >0.2</td>\n",
       "            </tr>\n",
       "            <tr>\n",
       "                        <th id=\"T_7bef9_level0_row15\" class=\"row_heading level0 row15\" >rougher.input.floatbank10_sulfate</th>\n",
       "                        <td id=\"T_7bef9_row15_col0\" class=\"data row15 col0\" >0.2</td>\n",
       "            </tr>\n",
       "            <tr>\n",
       "                        <th id=\"T_7bef9_level0_row16\" class=\"row_heading level0 row16\" >rougher.output.concentrate_sol</th>\n",
       "                        <td id=\"T_7bef9_row16_col0\" class=\"data row16 col0\" >0.2</td>\n",
       "            </tr>\n",
       "            <tr>\n",
       "                        <th id=\"T_7bef9_level0_row17\" class=\"row_heading level0 row17\" >secondary_cleaner.state.floatbank2_b_air</th>\n",
       "                        <td id=\"T_7bef9_row17_col0\" class=\"data row17 col0\" >0.1</td>\n",
       "            </tr>\n",
       "            <tr>\n",
       "                        <th id=\"T_7bef9_level0_row18\" class=\"row_heading level0 row18\" >primary_cleaner.input.sulfate</th>\n",
       "                        <td id=\"T_7bef9_row18_col0\" class=\"data row18 col0\" >0.1</td>\n",
       "            </tr>\n",
       "            <tr>\n",
       "                        <th id=\"T_7bef9_level0_row19\" class=\"row_heading level0 row19\" >primary_cleaner.output.tail_pb</th>\n",
       "                        <td id=\"T_7bef9_row19_col0\" class=\"data row19 col0\" >0.1</td>\n",
       "            </tr>\n",
       "            <tr>\n",
       "                        <th id=\"T_7bef9_level0_row20\" class=\"row_heading level0 row20\" >secondary_cleaner.output.tail_pb</th>\n",
       "                        <td id=\"T_7bef9_row20_col0\" class=\"data row20 col0\" >0.1</td>\n",
       "            </tr>\n",
       "            <tr>\n",
       "                        <th id=\"T_7bef9_level0_row21\" class=\"row_heading level0 row21\" >rougher.input.floatbank10_xanthate</th>\n",
       "                        <td id=\"T_7bef9_row21_col0\" class=\"data row21 col0\" >0.1</td>\n",
       "            </tr>\n",
       "            <tr>\n",
       "                        <th id=\"T_7bef9_level0_row22\" class=\"row_heading level0 row22\" >rougher.input.feed_rate</th>\n",
       "                        <td id=\"T_7bef9_row22_col0\" class=\"data row22 col0\" >0.1</td>\n",
       "            </tr>\n",
       "            <tr>\n",
       "                        <th id=\"T_7bef9_level0_row23\" class=\"row_heading level0 row23\" >secondary_cleaner.state.floatbank4_a_air</th>\n",
       "                        <td id=\"T_7bef9_row23_col0\" class=\"data row23 col0\" >0.0</td>\n",
       "            </tr>\n",
       "            <tr>\n",
       "                        <th id=\"T_7bef9_level0_row24\" class=\"row_heading level0 row24\" >final.output.tail_sol</th>\n",
       "                        <td id=\"T_7bef9_row24_col0\" class=\"data row24 col0\" >0.0</td>\n",
       "            </tr>\n",
       "            <tr>\n",
       "                        <th id=\"T_7bef9_level0_row25\" class=\"row_heading level0 row25\" >primary_cleaner.state.floatbank8_b_air</th>\n",
       "                        <td id=\"T_7bef9_row25_col0\" class=\"data row25 col0\" >0.0</td>\n",
       "            </tr>\n",
       "            <tr>\n",
       "                        <th id=\"T_7bef9_level0_row26\" class=\"row_heading level0 row26\" >primary_cleaner.state.floatbank8_a_air</th>\n",
       "                        <td id=\"T_7bef9_row26_col0\" class=\"data row26 col0\" >0.0</td>\n",
       "            </tr>\n",
       "            <tr>\n",
       "                        <th id=\"T_7bef9_level0_row27\" class=\"row_heading level0 row27\" >secondary_cleaner.state.floatbank3_a_air</th>\n",
       "                        <td id=\"T_7bef9_row27_col0\" class=\"data row27 col0\" >0.0</td>\n",
       "            </tr>\n",
       "            <tr>\n",
       "                        <th id=\"T_7bef9_level0_row28\" class=\"row_heading level0 row28\" >primary_cleaner.state.floatbank8_d_air</th>\n",
       "                        <td id=\"T_7bef9_row28_col0\" class=\"data row28 col0\" >0.0</td>\n",
       "            </tr>\n",
       "            <tr>\n",
       "                        <th id=\"T_7bef9_level0_row29\" class=\"row_heading level0 row29\" >secondary_cleaner.output.tail_ag</th>\n",
       "                        <td id=\"T_7bef9_row29_col0\" class=\"data row29 col0\" >0.0</td>\n",
       "            </tr>\n",
       "            <tr>\n",
       "                        <th id=\"T_7bef9_level0_row30\" class=\"row_heading level0 row30\" >secondary_cleaner.state.floatbank6_a_air</th>\n",
       "                        <td id=\"T_7bef9_row30_col0\" class=\"data row30 col0\" >0.0</td>\n",
       "            </tr>\n",
       "            <tr>\n",
       "                        <th id=\"T_7bef9_level0_row31\" class=\"row_heading level0 row31\" >primary_cleaner.state.floatbank8_c_air</th>\n",
       "                        <td id=\"T_7bef9_row31_col0\" class=\"data row31 col0\" >0.0</td>\n",
       "            </tr>\n",
       "            <tr>\n",
       "                        <th id=\"T_7bef9_level0_row32\" class=\"row_heading level0 row32\" >rougher.state.floatbank10_c_level</th>\n",
       "                        <td id=\"T_7bef9_row32_col0\" class=\"data row32 col0\" >0.0</td>\n",
       "            </tr>\n",
       "            <tr>\n",
       "                        <th id=\"T_7bef9_level0_row33\" class=\"row_heading level0 row33\" >rougher.state.floatbank10_c_air</th>\n",
       "                        <td id=\"T_7bef9_row33_col0\" class=\"data row33 col0\" >0.0</td>\n",
       "            </tr>\n",
       "            <tr>\n",
       "                        <th id=\"T_7bef9_level0_row34\" class=\"row_heading level0 row34\" >rougher.state.floatbank10_b_level</th>\n",
       "                        <td id=\"T_7bef9_row34_col0\" class=\"data row34 col0\" >0.0</td>\n",
       "            </tr>\n",
       "            <tr>\n",
       "                        <th id=\"T_7bef9_level0_row35\" class=\"row_heading level0 row35\" >rougher.state.floatbank10_b_air</th>\n",
       "                        <td id=\"T_7bef9_row35_col0\" class=\"data row35 col0\" >0.0</td>\n",
       "            </tr>\n",
       "            <tr>\n",
       "                        <th id=\"T_7bef9_level0_row36\" class=\"row_heading level0 row36\" >final.output.concentrate_ag</th>\n",
       "                        <td id=\"T_7bef9_row36_col0\" class=\"data row36 col0\" >0.0</td>\n",
       "            </tr>\n",
       "            <tr>\n",
       "                        <th id=\"T_7bef9_level0_row37\" class=\"row_heading level0 row37\" >secondary_cleaner.state.floatbank2_a_level</th>\n",
       "                        <td id=\"T_7bef9_row37_col0\" class=\"data row37 col0\" >0.0</td>\n",
       "            </tr>\n",
       "            <tr>\n",
       "                        <th id=\"T_7bef9_level0_row38\" class=\"row_heading level0 row38\" >secondary_cleaner.state.floatbank2_b_level</th>\n",
       "                        <td id=\"T_7bef9_row38_col0\" class=\"data row38 col0\" >0.0</td>\n",
       "            </tr>\n",
       "            <tr>\n",
       "                        <th id=\"T_7bef9_level0_row39\" class=\"row_heading level0 row39\" >secondary_cleaner.state.floatbank3_a_level</th>\n",
       "                        <td id=\"T_7bef9_row39_col0\" class=\"data row39 col0\" >0.0</td>\n",
       "            </tr>\n",
       "            <tr>\n",
       "                        <th id=\"T_7bef9_level0_row40\" class=\"row_heading level0 row40\" >rougher.state.floatbank10_a_air</th>\n",
       "                        <td id=\"T_7bef9_row40_col0\" class=\"data row40 col0\" >0.0</td>\n",
       "            </tr>\n",
       "            <tr>\n",
       "                        <th id=\"T_7bef9_level0_row41\" class=\"row_heading level0 row41\" >secondary_cleaner.state.floatbank3_b_air</th>\n",
       "                        <td id=\"T_7bef9_row41_col0\" class=\"data row41 col0\" >0.0</td>\n",
       "            </tr>\n",
       "            <tr>\n",
       "                        <th id=\"T_7bef9_level0_row42\" class=\"row_heading level0 row42\" >secondary_cleaner.state.floatbank3_b_level</th>\n",
       "                        <td id=\"T_7bef9_row42_col0\" class=\"data row42 col0\" >0.0</td>\n",
       "            </tr>\n",
       "            <tr>\n",
       "                        <th id=\"T_7bef9_level0_row43\" class=\"row_heading level0 row43\" >secondary_cleaner.state.floatbank4_a_level</th>\n",
       "                        <td id=\"T_7bef9_row43_col0\" class=\"data row43 col0\" >0.0</td>\n",
       "            </tr>\n",
       "            <tr>\n",
       "                        <th id=\"T_7bef9_level0_row44\" class=\"row_heading level0 row44\" >secondary_cleaner.state.floatbank4_b_air</th>\n",
       "                        <td id=\"T_7bef9_row44_col0\" class=\"data row44 col0\" >0.0</td>\n",
       "            </tr>\n",
       "            <tr>\n",
       "                        <th id=\"T_7bef9_level0_row45\" class=\"row_heading level0 row45\" >secondary_cleaner.state.floatbank4_b_level</th>\n",
       "                        <td id=\"T_7bef9_row45_col0\" class=\"data row45 col0\" >0.0</td>\n",
       "            </tr>\n",
       "            <tr>\n",
       "                        <th id=\"T_7bef9_level0_row46\" class=\"row_heading level0 row46\" >secondary_cleaner.state.floatbank5_a_air</th>\n",
       "                        <td id=\"T_7bef9_row46_col0\" class=\"data row46 col0\" >0.0</td>\n",
       "            </tr>\n",
       "            <tr>\n",
       "                        <th id=\"T_7bef9_level0_row47\" class=\"row_heading level0 row47\" >secondary_cleaner.state.floatbank5_a_level</th>\n",
       "                        <td id=\"T_7bef9_row47_col0\" class=\"data row47 col0\" >0.0</td>\n",
       "            </tr>\n",
       "            <tr>\n",
       "                        <th id=\"T_7bef9_level0_row48\" class=\"row_heading level0 row48\" >secondary_cleaner.state.floatbank5_b_air</th>\n",
       "                        <td id=\"T_7bef9_row48_col0\" class=\"data row48 col0\" >0.0</td>\n",
       "            </tr>\n",
       "            <tr>\n",
       "                        <th id=\"T_7bef9_level0_row49\" class=\"row_heading level0 row49\" >secondary_cleaner.state.floatbank5_b_level</th>\n",
       "                        <td id=\"T_7bef9_row49_col0\" class=\"data row49 col0\" >0.0</td>\n",
       "            </tr>\n",
       "            <tr>\n",
       "                        <th id=\"T_7bef9_level0_row50\" class=\"row_heading level0 row50\" >rougher.state.floatbank10_a_level</th>\n",
       "                        <td id=\"T_7bef9_row50_col0\" class=\"data row50 col0\" >0.0</td>\n",
       "            </tr>\n",
       "            <tr>\n",
       "                        <th id=\"T_7bef9_level0_row51\" class=\"row_heading level0 row51\" >secondary_cleaner.state.floatbank6_a_level</th>\n",
       "                        <td id=\"T_7bef9_row51_col0\" class=\"data row51 col0\" >0.0</td>\n",
       "            </tr>\n",
       "            <tr>\n",
       "                        <th id=\"T_7bef9_level0_row52\" class=\"row_heading level0 row52\" >rougher.calculation.floatbank11_sulfate_to_au_feed</th>\n",
       "                        <td id=\"T_7bef9_row52_col0\" class=\"data row52 col0\" >0.0</td>\n",
       "            </tr>\n",
       "            <tr>\n",
       "                        <th id=\"T_7bef9_level0_row53\" class=\"row_heading level0 row53\" >rougher.calculation.floatbank10_sulfate_to_au_feed</th>\n",
       "                        <td id=\"T_7bef9_row53_col0\" class=\"data row53 col0\" >0.0</td>\n",
       "            </tr>\n",
       "            <tr>\n",
       "                        <th id=\"T_7bef9_level0_row54\" class=\"row_heading level0 row54\" >primary_cleaner.state.floatbank8_d_level</th>\n",
       "                        <td id=\"T_7bef9_row54_col0\" class=\"data row54 col0\" >0.0</td>\n",
       "            </tr>\n",
       "            <tr>\n",
       "                        <th id=\"T_7bef9_level0_row55\" class=\"row_heading level0 row55\" >primary_cleaner.state.floatbank8_c_level</th>\n",
       "                        <td id=\"T_7bef9_row55_col0\" class=\"data row55 col0\" >0.0</td>\n",
       "            </tr>\n",
       "            <tr>\n",
       "                        <th id=\"T_7bef9_level0_row56\" class=\"row_heading level0 row56\" >primary_cleaner.state.floatbank8_b_level</th>\n",
       "                        <td id=\"T_7bef9_row56_col0\" class=\"data row56 col0\" >0.0</td>\n",
       "            </tr>\n",
       "            <tr>\n",
       "                        <th id=\"T_7bef9_level0_row57\" class=\"row_heading level0 row57\" >primary_cleaner.state.floatbank8_a_level</th>\n",
       "                        <td id=\"T_7bef9_row57_col0\" class=\"data row57 col0\" >0.0</td>\n",
       "            </tr>\n",
       "            <tr>\n",
       "                        <th id=\"T_7bef9_level0_row58\" class=\"row_heading level0 row58\" >final.output.concentrate_pb</th>\n",
       "                        <td id=\"T_7bef9_row58_col0\" class=\"data row58 col0\" >0.0</td>\n",
       "            </tr>\n",
       "            <tr>\n",
       "                        <th id=\"T_7bef9_level0_row59\" class=\"row_heading level0 row59\" >primary_cleaner.output.tail_ag</th>\n",
       "                        <td id=\"T_7bef9_row59_col0\" class=\"data row59 col0\" >0.0</td>\n",
       "            </tr>\n",
       "            <tr>\n",
       "                        <th id=\"T_7bef9_level0_row60\" class=\"row_heading level0 row60\" >rougher.calculation.sulfate_to_au_concentrate</th>\n",
       "                        <td id=\"T_7bef9_row60_col0\" class=\"data row60 col0\" >0.0</td>\n",
       "            </tr>\n",
       "            <tr>\n",
       "                        <th id=\"T_7bef9_level0_row61\" class=\"row_heading level0 row61\" >rougher.output.tail_ag</th>\n",
       "                        <td id=\"T_7bef9_row61_col0\" class=\"data row61 col0\" >0.0</td>\n",
       "            </tr>\n",
       "            <tr>\n",
       "                        <th id=\"T_7bef9_level0_row62\" class=\"row_heading level0 row62\" >primary_cleaner.output.concentrate_ag</th>\n",
       "                        <td id=\"T_7bef9_row62_col0\" class=\"data row62 col0\" >0.0</td>\n",
       "            </tr>\n",
       "            <tr>\n",
       "                        <th id=\"T_7bef9_level0_row63\" class=\"row_heading level0 row63\" >primary_cleaner.input.feed_size</th>\n",
       "                        <td id=\"T_7bef9_row63_col0\" class=\"data row63 col0\" >0.0</td>\n",
       "            </tr>\n",
       "            <tr>\n",
       "                        <th id=\"T_7bef9_level0_row64\" class=\"row_heading level0 row64\" >primary_cleaner.output.tail_au</th>\n",
       "                        <td id=\"T_7bef9_row64_col0\" class=\"data row64 col0\" >0.0</td>\n",
       "            </tr>\n",
       "            <tr>\n",
       "                        <th id=\"T_7bef9_level0_row65\" class=\"row_heading level0 row65\" >final.output.tail_au</th>\n",
       "                        <td id=\"T_7bef9_row65_col0\" class=\"data row65 col0\" >0.0</td>\n",
       "            </tr>\n",
       "            <tr>\n",
       "                        <th id=\"T_7bef9_level0_row66\" class=\"row_heading level0 row66\" >final.output.tail_ag</th>\n",
       "                        <td id=\"T_7bef9_row66_col0\" class=\"data row66 col0\" >0.0</td>\n",
       "            </tr>\n",
       "            <tr>\n",
       "                        <th id=\"T_7bef9_level0_row67\" class=\"row_heading level0 row67\" >final.output.recovery</th>\n",
       "                        <td id=\"T_7bef9_row67_col0\" class=\"data row67 col0\" >0.0</td>\n",
       "            </tr>\n",
       "            <tr>\n",
       "                        <th id=\"T_7bef9_level0_row68\" class=\"row_heading level0 row68\" >final.output.concentrate_au</th>\n",
       "                        <td id=\"T_7bef9_row68_col0\" class=\"data row68 col0\" >0.0</td>\n",
       "            </tr>\n",
       "            <tr>\n",
       "                        <th id=\"T_7bef9_level0_row69\" class=\"row_heading level0 row69\" >primary_cleaner.output.concentrate_au</th>\n",
       "                        <td id=\"T_7bef9_row69_col0\" class=\"data row69 col0\" >0.0</td>\n",
       "            </tr>\n",
       "            <tr>\n",
       "                        <th id=\"T_7bef9_level0_row70\" class=\"row_heading level0 row70\" >rougher.output.tail_au</th>\n",
       "                        <td id=\"T_7bef9_row70_col0\" class=\"data row70 col0\" >0.0</td>\n",
       "            </tr>\n",
       "            <tr>\n",
       "                        <th id=\"T_7bef9_level0_row71\" class=\"row_heading level0 row71\" >rougher.output.tail_sol</th>\n",
       "                        <td id=\"T_7bef9_row71_col0\" class=\"data row71 col0\" >0.0</td>\n",
       "            </tr>\n",
       "            <tr>\n",
       "                        <th id=\"T_7bef9_level0_row72\" class=\"row_heading level0 row72\" >rougher.calculation.au_pb_ratio</th>\n",
       "                        <td id=\"T_7bef9_row72_col0\" class=\"data row72 col0\" >0.0</td>\n",
       "            </tr>\n",
       "            <tr>\n",
       "                        <th id=\"T_7bef9_level0_row73\" class=\"row_heading level0 row73\" >secondary_cleaner.output.tail_au</th>\n",
       "                        <td id=\"T_7bef9_row73_col0\" class=\"data row73 col0\" >0.0</td>\n",
       "            </tr>\n",
       "            <tr>\n",
       "                        <th id=\"T_7bef9_level0_row74\" class=\"row_heading level0 row74\" >rougher.input.feed_ag</th>\n",
       "                        <td id=\"T_7bef9_row74_col0\" class=\"data row74 col0\" >0.0</td>\n",
       "            </tr>\n",
       "            <tr>\n",
       "                        <th id=\"T_7bef9_level0_row75\" class=\"row_heading level0 row75\" >rougher.input.feed_au</th>\n",
       "                        <td id=\"T_7bef9_row75_col0\" class=\"data row75 col0\" >0.0</td>\n",
       "            </tr>\n",
       "            <tr>\n",
       "                        <th id=\"T_7bef9_level0_row76\" class=\"row_heading level0 row76\" >rougher.state.floatbank10_f_level</th>\n",
       "                        <td id=\"T_7bef9_row76_col0\" class=\"data row76 col0\" >0.0</td>\n",
       "            </tr>\n",
       "            <tr>\n",
       "                        <th id=\"T_7bef9_level0_row77\" class=\"row_heading level0 row77\" >rougher.state.floatbank10_f_air</th>\n",
       "                        <td id=\"T_7bef9_row77_col0\" class=\"data row77 col0\" >0.0</td>\n",
       "            </tr>\n",
       "            <tr>\n",
       "                        <th id=\"T_7bef9_level0_row78\" class=\"row_heading level0 row78\" >rougher.state.floatbank10_e_level</th>\n",
       "                        <td id=\"T_7bef9_row78_col0\" class=\"data row78 col0\" >0.0</td>\n",
       "            </tr>\n",
       "            <tr>\n",
       "                        <th id=\"T_7bef9_level0_row79\" class=\"row_heading level0 row79\" >rougher.output.concentrate_pb</th>\n",
       "                        <td id=\"T_7bef9_row79_col0\" class=\"data row79 col0\" >0.0</td>\n",
       "            </tr>\n",
       "            <tr>\n",
       "                        <th id=\"T_7bef9_level0_row80\" class=\"row_heading level0 row80\" >rougher.state.floatbank10_d_level</th>\n",
       "                        <td id=\"T_7bef9_row80_col0\" class=\"data row80 col0\" >0.0</td>\n",
       "            </tr>\n",
       "            <tr>\n",
       "                        <th id=\"T_7bef9_level0_row81\" class=\"row_heading level0 row81\" >rougher.state.floatbank10_d_air</th>\n",
       "                        <td id=\"T_7bef9_row81_col0\" class=\"data row81 col0\" >0.0</td>\n",
       "            </tr>\n",
       "            <tr>\n",
       "                        <th id=\"T_7bef9_level0_row82\" class=\"row_heading level0 row82\" >rougher.output.concentrate_au</th>\n",
       "                        <td id=\"T_7bef9_row82_col0\" class=\"data row82 col0\" >0.0</td>\n",
       "            </tr>\n",
       "            <tr>\n",
       "                        <th id=\"T_7bef9_level0_row83\" class=\"row_heading level0 row83\" >rougher.output.recovery</th>\n",
       "                        <td id=\"T_7bef9_row83_col0\" class=\"data row83 col0\" >0.0</td>\n",
       "            </tr>\n",
       "            <tr>\n",
       "                        <th id=\"T_7bef9_level0_row84\" class=\"row_heading level0 row84\" >rougher.output.tail_pb</th>\n",
       "                        <td id=\"T_7bef9_row84_col0\" class=\"data row84 col0\" >0.0</td>\n",
       "            </tr>\n",
       "            <tr>\n",
       "                        <th id=\"T_7bef9_level0_row85\" class=\"row_heading level0 row85\" >rougher.output.concentrate_ag</th>\n",
       "                        <td id=\"T_7bef9_row85_col0\" class=\"data row85 col0\" >0.0</td>\n",
       "            </tr>\n",
       "    </tbody></table>"
      ],
      "text/plain": [
       "<pandas.io.formats.style.Styler at 0x7f15994c1ca0>"
      ]
     },
     "execution_count": 11,
     "metadata": {},
     "output_type": "execute_result"
    }
   ],
   "source": [
    "(\n",
    "    (train.isna().mean()*100)\n",
    "    .sort_values(ascending=False)\n",
    "    .to_frame()\n",
    "    .rename(columns = {0:'percent_space'})\n",
    "    .style.background_gradient('coolwarm').format(\"{:.1f}\")\n",
    ")"
   ]
  },
  {
   "cell_type": "code",
   "execution_count": 12,
   "metadata": {},
   "outputs": [
    {
     "data": {
      "text/html": [
       "<style  type=\"text/css\" >\n",
       "#T_5eeb7_row0_col0{\n",
       "            background-color:  #b40426;\n",
       "            color:  #f1f1f1;\n",
       "        }#T_5eeb7_row1_col0{\n",
       "            background-color:  #e57058;\n",
       "            color:  #000000;\n",
       "        }#T_5eeb7_row2_col0{\n",
       "            background-color:  #b3cdfb;\n",
       "            color:  #000000;\n",
       "        }#T_5eeb7_row3_col0{\n",
       "            background-color:  #a5c3fe;\n",
       "            color:  #000000;\n",
       "        }#T_5eeb7_row4_col0,#T_5eeb7_row5_col0{\n",
       "            background-color:  #7b9ff9;\n",
       "            color:  #000000;\n",
       "        }#T_5eeb7_row6_col0,#T_5eeb7_row7_col0{\n",
       "            background-color:  #6c8ff1;\n",
       "            color:  #000000;\n",
       "        }#T_5eeb7_row8_col0,#T_5eeb7_row9_col0{\n",
       "            background-color:  #5f7fe8;\n",
       "            color:  #000000;\n",
       "        }#T_5eeb7_row10_col0{\n",
       "            background-color:  #536edd;\n",
       "            color:  #000000;\n",
       "        }#T_5eeb7_row11_col0{\n",
       "            background-color:  #465ecf;\n",
       "            color:  #f1f1f1;\n",
       "        }#T_5eeb7_row12_col0,#T_5eeb7_row13_col0,#T_5eeb7_row14_col0,#T_5eeb7_row15_col0,#T_5eeb7_row16_col0,#T_5eeb7_row17_col0,#T_5eeb7_row18_col0,#T_5eeb7_row19_col0,#T_5eeb7_row20_col0,#T_5eeb7_row21_col0,#T_5eeb7_row22_col0,#T_5eeb7_row23_col0,#T_5eeb7_row24_col0,#T_5eeb7_row25_col0,#T_5eeb7_row26_col0,#T_5eeb7_row27_col0,#T_5eeb7_row28_col0,#T_5eeb7_row29_col0,#T_5eeb7_row30_col0,#T_5eeb7_row31_col0,#T_5eeb7_row32_col0,#T_5eeb7_row33_col0,#T_5eeb7_row34_col0,#T_5eeb7_row35_col0,#T_5eeb7_row36_col0,#T_5eeb7_row37_col0,#T_5eeb7_row38_col0,#T_5eeb7_row39_col0,#T_5eeb7_row40_col0,#T_5eeb7_row41_col0,#T_5eeb7_row42_col0,#T_5eeb7_row43_col0,#T_5eeb7_row44_col0,#T_5eeb7_row45_col0,#T_5eeb7_row46_col0,#T_5eeb7_row47_col0,#T_5eeb7_row48_col0,#T_5eeb7_row49_col0,#T_5eeb7_row50_col0,#T_5eeb7_row51_col0{\n",
       "            background-color:  #3b4cc0;\n",
       "            color:  #f1f1f1;\n",
       "        }</style><table id=\"T_5eeb7_\" ><thead>    <tr>        <th class=\"blank level0\" ></th>        <th class=\"col_heading level0 col0\" >percent_space</th>    </tr></thead><tbody>\n",
       "                <tr>\n",
       "                        <th id=\"T_5eeb7_level0_row0\" class=\"row_heading level0 row0\" >rougher.input.floatbank11_xanthate</th>\n",
       "                        <td id=\"T_5eeb7_row0_col0\" class=\"data row0 col0\" >0.5</td>\n",
       "            </tr>\n",
       "            <tr>\n",
       "                        <th id=\"T_5eeb7_level0_row1\" class=\"row_heading level0 row1\" >rougher.input.feed_sol</th>\n",
       "                        <td id=\"T_5eeb7_row1_col0\" class=\"data row1 col0\" >0.4</td>\n",
       "            </tr>\n",
       "            <tr>\n",
       "                        <th id=\"T_5eeb7_level0_row2\" class=\"row_heading level0 row2\" >secondary_cleaner.state.floatbank3_a_air</th>\n",
       "                        <td id=\"T_5eeb7_row2_col0\" class=\"data row2 col0\" >0.2</td>\n",
       "            </tr>\n",
       "            <tr>\n",
       "                        <th id=\"T_5eeb7_level0_row3\" class=\"row_heading level0 row3\" >rougher.input.floatbank11_sulfate</th>\n",
       "                        <td id=\"T_5eeb7_row3_col0\" class=\"data row3 col0\" >0.2</td>\n",
       "            </tr>\n",
       "            <tr>\n",
       "                        <th id=\"T_5eeb7_level0_row4\" class=\"row_heading level0 row4\" >primary_cleaner.input.depressant</th>\n",
       "                        <td id=\"T_5eeb7_row4_col0\" class=\"data row4 col0\" >0.1</td>\n",
       "            </tr>\n",
       "            <tr>\n",
       "                        <th id=\"T_5eeb7_level0_row5\" class=\"row_heading level0 row5\" >rougher.input.floatbank10_sulfate</th>\n",
       "                        <td id=\"T_5eeb7_row5_col0\" class=\"data row5 col0\" >0.1</td>\n",
       "            </tr>\n",
       "            <tr>\n",
       "                        <th id=\"T_5eeb7_level0_row6\" class=\"row_heading level0 row6\" >primary_cleaner.input.sulfate</th>\n",
       "                        <td id=\"T_5eeb7_row6_col0\" class=\"data row6 col0\" >0.1</td>\n",
       "            </tr>\n",
       "            <tr>\n",
       "                        <th id=\"T_5eeb7_level0_row7\" class=\"row_heading level0 row7\" >primary_cleaner.input.xanthate</th>\n",
       "                        <td id=\"T_5eeb7_row7_col0\" class=\"data row7 col0\" >0.1</td>\n",
       "            </tr>\n",
       "            <tr>\n",
       "                        <th id=\"T_5eeb7_level0_row8\" class=\"row_heading level0 row8\" >rougher.input.feed_rate</th>\n",
       "                        <td id=\"T_5eeb7_row8_col0\" class=\"data row8 col0\" >0.1</td>\n",
       "            </tr>\n",
       "            <tr>\n",
       "                        <th id=\"T_5eeb7_level0_row9\" class=\"row_heading level0 row9\" >secondary_cleaner.state.floatbank2_a_air</th>\n",
       "                        <td id=\"T_5eeb7_row9_col0\" class=\"data row9 col0\" >0.1</td>\n",
       "            </tr>\n",
       "            <tr>\n",
       "                        <th id=\"T_5eeb7_level0_row10\" class=\"row_heading level0 row10\" >secondary_cleaner.state.floatbank2_b_air</th>\n",
       "                        <td id=\"T_5eeb7_row10_col0\" class=\"data row10 col0\" >0.0</td>\n",
       "            </tr>\n",
       "            <tr>\n",
       "                        <th id=\"T_5eeb7_level0_row11\" class=\"row_heading level0 row11\" >rougher.input.feed_size</th>\n",
       "                        <td id=\"T_5eeb7_row11_col0\" class=\"data row11 col0\" >0.0</td>\n",
       "            </tr>\n",
       "            <tr>\n",
       "                        <th id=\"T_5eeb7_level0_row12\" class=\"row_heading level0 row12\" >secondary_cleaner.state.floatbank3_b_level</th>\n",
       "                        <td id=\"T_5eeb7_row12_col0\" class=\"data row12 col0\" >0.0</td>\n",
       "            </tr>\n",
       "            <tr>\n",
       "                        <th id=\"T_5eeb7_level0_row13\" class=\"row_heading level0 row13\" >secondary_cleaner.state.floatbank3_b_air</th>\n",
       "                        <td id=\"T_5eeb7_row13_col0\" class=\"data row13 col0\" >0.0</td>\n",
       "            </tr>\n",
       "            <tr>\n",
       "                        <th id=\"T_5eeb7_level0_row14\" class=\"row_heading level0 row14\" >rougher.state.floatbank10_f_air</th>\n",
       "                        <td id=\"T_5eeb7_row14_col0\" class=\"data row14 col0\" >0.0</td>\n",
       "            </tr>\n",
       "            <tr>\n",
       "                        <th id=\"T_5eeb7_level0_row15\" class=\"row_heading level0 row15\" >rougher.state.floatbank10_f_level</th>\n",
       "                        <td id=\"T_5eeb7_row15_col0\" class=\"data row15 col0\" >0.0</td>\n",
       "            </tr>\n",
       "            <tr>\n",
       "                        <th id=\"T_5eeb7_level0_row16\" class=\"row_heading level0 row16\" >secondary_cleaner.state.floatbank6_a_air</th>\n",
       "                        <td id=\"T_5eeb7_row16_col0\" class=\"data row16 col0\" >0.0</td>\n",
       "            </tr>\n",
       "            <tr>\n",
       "                        <th id=\"T_5eeb7_level0_row17\" class=\"row_heading level0 row17\" >secondary_cleaner.state.floatbank5_b_level</th>\n",
       "                        <td id=\"T_5eeb7_row17_col0\" class=\"data row17 col0\" >0.0</td>\n",
       "            </tr>\n",
       "            <tr>\n",
       "                        <th id=\"T_5eeb7_level0_row18\" class=\"row_heading level0 row18\" >secondary_cleaner.state.floatbank2_a_level</th>\n",
       "                        <td id=\"T_5eeb7_row18_col0\" class=\"data row18 col0\" >0.0</td>\n",
       "            </tr>\n",
       "            <tr>\n",
       "                        <th id=\"T_5eeb7_level0_row19\" class=\"row_heading level0 row19\" >secondary_cleaner.state.floatbank5_b_air</th>\n",
       "                        <td id=\"T_5eeb7_row19_col0\" class=\"data row19 col0\" >0.0</td>\n",
       "            </tr>\n",
       "            <tr>\n",
       "                        <th id=\"T_5eeb7_level0_row20\" class=\"row_heading level0 row20\" >secondary_cleaner.state.floatbank2_b_level</th>\n",
       "                        <td id=\"T_5eeb7_row20_col0\" class=\"data row20 col0\" >0.0</td>\n",
       "            </tr>\n",
       "            <tr>\n",
       "                        <th id=\"T_5eeb7_level0_row21\" class=\"row_heading level0 row21\" >secondary_cleaner.state.floatbank5_a_level</th>\n",
       "                        <td id=\"T_5eeb7_row21_col0\" class=\"data row21 col0\" >0.0</td>\n",
       "            </tr>\n",
       "            <tr>\n",
       "                        <th id=\"T_5eeb7_level0_row22\" class=\"row_heading level0 row22\" >secondary_cleaner.state.floatbank5_a_air</th>\n",
       "                        <td id=\"T_5eeb7_row22_col0\" class=\"data row22 col0\" >0.0</td>\n",
       "            </tr>\n",
       "            <tr>\n",
       "                        <th id=\"T_5eeb7_level0_row23\" class=\"row_heading level0 row23\" >secondary_cleaner.state.floatbank4_b_level</th>\n",
       "                        <td id=\"T_5eeb7_row23_col0\" class=\"data row23 col0\" >0.0</td>\n",
       "            </tr>\n",
       "            <tr>\n",
       "                        <th id=\"T_5eeb7_level0_row24\" class=\"row_heading level0 row24\" >secondary_cleaner.state.floatbank4_b_air</th>\n",
       "                        <td id=\"T_5eeb7_row24_col0\" class=\"data row24 col0\" >0.0</td>\n",
       "            </tr>\n",
       "            <tr>\n",
       "                        <th id=\"T_5eeb7_level0_row25\" class=\"row_heading level0 row25\" >secondary_cleaner.state.floatbank3_a_level</th>\n",
       "                        <td id=\"T_5eeb7_row25_col0\" class=\"data row25 col0\" >0.0</td>\n",
       "            </tr>\n",
       "            <tr>\n",
       "                        <th id=\"T_5eeb7_level0_row26\" class=\"row_heading level0 row26\" >secondary_cleaner.state.floatbank4_a_level</th>\n",
       "                        <td id=\"T_5eeb7_row26_col0\" class=\"data row26 col0\" >0.0</td>\n",
       "            </tr>\n",
       "            <tr>\n",
       "                        <th id=\"T_5eeb7_level0_row27\" class=\"row_heading level0 row27\" >rougher.state.floatbank10_e_air</th>\n",
       "                        <td id=\"T_5eeb7_row27_col0\" class=\"data row27 col0\" >0.0</td>\n",
       "            </tr>\n",
       "            <tr>\n",
       "                        <th id=\"T_5eeb7_level0_row28\" class=\"row_heading level0 row28\" >secondary_cleaner.state.floatbank4_a_air</th>\n",
       "                        <td id=\"T_5eeb7_row28_col0\" class=\"data row28 col0\" >0.0</td>\n",
       "            </tr>\n",
       "            <tr>\n",
       "                        <th id=\"T_5eeb7_level0_row29\" class=\"row_heading level0 row29\" >rougher.state.floatbank10_e_level</th>\n",
       "                        <td id=\"T_5eeb7_row29_col0\" class=\"data row29 col0\" >0.0</td>\n",
       "            </tr>\n",
       "            <tr>\n",
       "                        <th id=\"T_5eeb7_level0_row30\" class=\"row_heading level0 row30\" >rougher.state.floatbank10_c_air</th>\n",
       "                        <td id=\"T_5eeb7_row30_col0\" class=\"data row30 col0\" >0.0</td>\n",
       "            </tr>\n",
       "            <tr>\n",
       "                        <th id=\"T_5eeb7_level0_row31\" class=\"row_heading level0 row31\" >rougher.state.floatbank10_d_level</th>\n",
       "                        <td id=\"T_5eeb7_row31_col0\" class=\"data row31 col0\" >0.0</td>\n",
       "            </tr>\n",
       "            <tr>\n",
       "                        <th id=\"T_5eeb7_level0_row32\" class=\"row_heading level0 row32\" >primary_cleaner.state.floatbank8_d_level</th>\n",
       "                        <td id=\"T_5eeb7_row32_col0\" class=\"data row32 col0\" >0.0</td>\n",
       "            </tr>\n",
       "            <tr>\n",
       "                        <th id=\"T_5eeb7_level0_row33\" class=\"row_heading level0 row33\" >primary_cleaner.input.feed_size</th>\n",
       "                        <td id=\"T_5eeb7_row33_col0\" class=\"data row33 col0\" >0.0</td>\n",
       "            </tr>\n",
       "            <tr>\n",
       "                        <th id=\"T_5eeb7_level0_row34\" class=\"row_heading level0 row34\" >primary_cleaner.state.floatbank8_a_air</th>\n",
       "                        <td id=\"T_5eeb7_row34_col0\" class=\"data row34 col0\" >0.0</td>\n",
       "            </tr>\n",
       "            <tr>\n",
       "                        <th id=\"T_5eeb7_level0_row35\" class=\"row_heading level0 row35\" >primary_cleaner.state.floatbank8_a_level</th>\n",
       "                        <td id=\"T_5eeb7_row35_col0\" class=\"data row35 col0\" >0.0</td>\n",
       "            </tr>\n",
       "            <tr>\n",
       "                        <th id=\"T_5eeb7_level0_row36\" class=\"row_heading level0 row36\" >primary_cleaner.state.floatbank8_b_air</th>\n",
       "                        <td id=\"T_5eeb7_row36_col0\" class=\"data row36 col0\" >0.0</td>\n",
       "            </tr>\n",
       "            <tr>\n",
       "                        <th id=\"T_5eeb7_level0_row37\" class=\"row_heading level0 row37\" >primary_cleaner.state.floatbank8_b_level</th>\n",
       "                        <td id=\"T_5eeb7_row37_col0\" class=\"data row37 col0\" >0.0</td>\n",
       "            </tr>\n",
       "            <tr>\n",
       "                        <th id=\"T_5eeb7_level0_row38\" class=\"row_heading level0 row38\" >primary_cleaner.state.floatbank8_c_air</th>\n",
       "                        <td id=\"T_5eeb7_row38_col0\" class=\"data row38 col0\" >0.0</td>\n",
       "            </tr>\n",
       "            <tr>\n",
       "                        <th id=\"T_5eeb7_level0_row39\" class=\"row_heading level0 row39\" >primary_cleaner.state.floatbank8_c_level</th>\n",
       "                        <td id=\"T_5eeb7_row39_col0\" class=\"data row39 col0\" >0.0</td>\n",
       "            </tr>\n",
       "            <tr>\n",
       "                        <th id=\"T_5eeb7_level0_row40\" class=\"row_heading level0 row40\" >primary_cleaner.state.floatbank8_d_air</th>\n",
       "                        <td id=\"T_5eeb7_row40_col0\" class=\"data row40 col0\" >0.0</td>\n",
       "            </tr>\n",
       "            <tr>\n",
       "                        <th id=\"T_5eeb7_level0_row41\" class=\"row_heading level0 row41\" >rougher.input.feed_ag</th>\n",
       "                        <td id=\"T_5eeb7_row41_col0\" class=\"data row41 col0\" >0.0</td>\n",
       "            </tr>\n",
       "            <tr>\n",
       "                        <th id=\"T_5eeb7_level0_row42\" class=\"row_heading level0 row42\" >rougher.state.floatbank10_d_air</th>\n",
       "                        <td id=\"T_5eeb7_row42_col0\" class=\"data row42 col0\" >0.0</td>\n",
       "            </tr>\n",
       "            <tr>\n",
       "                        <th id=\"T_5eeb7_level0_row43\" class=\"row_heading level0 row43\" >rougher.input.feed_pb</th>\n",
       "                        <td id=\"T_5eeb7_row43_col0\" class=\"data row43 col0\" >0.0</td>\n",
       "            </tr>\n",
       "            <tr>\n",
       "                        <th id=\"T_5eeb7_level0_row44\" class=\"row_heading level0 row44\" >rougher.input.feed_au</th>\n",
       "                        <td id=\"T_5eeb7_row44_col0\" class=\"data row44 col0\" >0.0</td>\n",
       "            </tr>\n",
       "            <tr>\n",
       "                        <th id=\"T_5eeb7_level0_row45\" class=\"row_heading level0 row45\" >rougher.input.floatbank10_xanthate</th>\n",
       "                        <td id=\"T_5eeb7_row45_col0\" class=\"data row45 col0\" >0.0</td>\n",
       "            </tr>\n",
       "            <tr>\n",
       "                        <th id=\"T_5eeb7_level0_row46\" class=\"row_heading level0 row46\" >rougher.state.floatbank10_a_air</th>\n",
       "                        <td id=\"T_5eeb7_row46_col0\" class=\"data row46 col0\" >0.0</td>\n",
       "            </tr>\n",
       "            <tr>\n",
       "                        <th id=\"T_5eeb7_level0_row47\" class=\"row_heading level0 row47\" >rougher.state.floatbank10_a_level</th>\n",
       "                        <td id=\"T_5eeb7_row47_col0\" class=\"data row47 col0\" >0.0</td>\n",
       "            </tr>\n",
       "            <tr>\n",
       "                        <th id=\"T_5eeb7_level0_row48\" class=\"row_heading level0 row48\" >rougher.state.floatbank10_b_air</th>\n",
       "                        <td id=\"T_5eeb7_row48_col0\" class=\"data row48 col0\" >0.0</td>\n",
       "            </tr>\n",
       "            <tr>\n",
       "                        <th id=\"T_5eeb7_level0_row49\" class=\"row_heading level0 row49\" >rougher.state.floatbank10_b_level</th>\n",
       "                        <td id=\"T_5eeb7_row49_col0\" class=\"data row49 col0\" >0.0</td>\n",
       "            </tr>\n",
       "            <tr>\n",
       "                        <th id=\"T_5eeb7_level0_row50\" class=\"row_heading level0 row50\" >rougher.state.floatbank10_c_level</th>\n",
       "                        <td id=\"T_5eeb7_row50_col0\" class=\"data row50 col0\" >0.0</td>\n",
       "            </tr>\n",
       "            <tr>\n",
       "                        <th id=\"T_5eeb7_level0_row51\" class=\"row_heading level0 row51\" >secondary_cleaner.state.floatbank6_a_level</th>\n",
       "                        <td id=\"T_5eeb7_row51_col0\" class=\"data row51 col0\" >0.0</td>\n",
       "            </tr>\n",
       "    </tbody></table>"
      ],
      "text/plain": [
       "<pandas.io.formats.style.Styler at 0x7f1599362970>"
      ]
     },
     "execution_count": 12,
     "metadata": {},
     "output_type": "execute_result"
    }
   ],
   "source": [
    "(\n",
    "    (test.isna().mean()*100)\n",
    "    .sort_values(ascending=False)\n",
    "    .to_frame()\n",
    "    .rename(columns = {0:'percent_space'})\n",
    "    .style.background_gradient('coolwarm').format(\"{:.1f}\")\n",
    ")"
   ]
  },
  {
   "cell_type": "code",
   "execution_count": 13,
   "metadata": {},
   "outputs": [],
   "source": [
    "#Добавим целевые показатели в датасет gold_recovery_test из датасета gold_recovery_full, в качестве ключа использовав date\n",
    "TARGETS = ['rougher.output.recovery', 'final.output.recovery']\n",
    "test = test.merge(full[TARGETS].loc[test.index], on='date', how='left')"
   ]
  },
  {
   "cell_type": "code",
   "execution_count": 14,
   "metadata": {},
   "outputs": [],
   "source": [
    "#Удалим в обучающей и тестовой выборках строки с пропусками в целевых показателях\n",
    "train = train.dropna(subset=TARGETS)\n",
    "test = test.dropna(subset=TARGETS)"
   ]
  },
  {
   "cell_type": "code",
   "execution_count": 15,
   "metadata": {},
   "outputs": [
    {
     "name": "stdout",
     "output_type": "stream",
     "text": [
      "False\n",
      "False\n"
     ]
    }
   ],
   "source": [
    "train = train.fillna(method='ffill')\n",
    "test = test.fillna(method='ffill')\n",
    "\n",
    "print(train.isnull().values.any())\n",
    "print(test.isnull().values.any())"
   ]
  },
  {
   "cell_type": "markdown",
   "metadata": {},
   "source": [
    "## Анализ данных"
   ]
  },
  {
   "cell_type": "markdown",
   "metadata": {},
   "source": [
    "### Концентрация металлов (Au, Ag, Pb) на различных этапах очистки"
   ]
  },
  {
   "cell_type": "code",
   "execution_count": 16,
   "metadata": {},
   "outputs": [
    {
     "data": {
      "image/png": "[encoded data removed]",
      "text/plain": [
       "<Figure size 432x432 with 1 Axes>"
      ]
     },
     "metadata": {
      "needs_background": "light"
     },
     "output_type": "display_data"
    },
    {
     "data": {
      "image/png": "[encoded data removed]",
      "text/plain": [
       "<Figure size 432x432 with 1 Axes>"
      ]
     },
     "metadata": {
      "needs_background": "light"
     },
     "output_type": "display_data"
    },
    {
     "data": {
      "image/png": "[encoded data removed]",
      "text/plain": [
       "<Figure size 432x432 with 1 Axes>"
      ]
     },
     "metadata": {
      "needs_background": "light"
     },
     "output_type": "display_data"
    }
   ],
   "source": [
    "# Создадим выборки по металлам\n",
    "au_conc = full[['rougher.input.feed_au',\n",
    "                'rougher.output.concentrate_au',\n",
    "                'primary_cleaner.output.concentrate_au',\n",
    "                'final.output.concentrate_au']]\n",
    "ag_conc = full[['rougher.input.feed_ag',\n",
    "                'rougher.output.concentrate_ag',\n",
    "                'primary_cleaner.output.concentrate_ag',\n",
    "                'final.output.concentrate_ag']]\n",
    "pb_conc = full[['rougher.input.feed_pb',\n",
    "                'rougher.output.concentrate_pb',\n",
    "                'primary_cleaner.output.concentrate_pb',\n",
    "                'final.output.concentrate_pb']]\n",
    "# визуализирую концентрацию по этапам\n",
    "# визуализирую распределение по этапам\n",
    "au= sns.catplot(data=au_conc, height = 6, kind='box')\n",
    "au.set_xticklabels(['Исходное сырье', 'Флоатация','Первичная очистка','Вторичная очистка'], fontsize=11)\n",
    "plt.title(\"Золото\", fontsize=18) \n",
    "plt.show()\n",
    "ag= sns.catplot(data=ag_conc, height = 6, kind='box')\n",
    "ag.set_xticklabels(['Исходное сырье', 'Флоатация','Первичная очистка','Вторичная очистка'], fontsize=11)\n",
    "plt.title(\"Серебро\", fontsize=18) \n",
    "plt.show()\n",
    "pb= sns.catplot(data=pb_conc, height = 6, kind='box')\n",
    "pb.set_xticklabels(['Исходное сырье', 'Флоатация','Первичная очистка','Вторичная очистка'], fontsize=11)\n",
    "plt.title(\"Свинец\", fontsize=18) \n",
    "plt.show();"
   ]
  },
  {
   "cell_type": "markdown",
   "metadata": {},
   "source": [
    "Вывод:\n",
    "* С каждым этапом очистки доля золота увеличивается.\n",
    "* Доля серебра увеличивается только на этапе флотации, далее его доля уменьшается.\n",
    "* Доля свинца не меняется на этапах очистки. Как видно из графика распределения, уменьшается разброс значений."
   ]
  },
  {
   "cell_type": "markdown",
   "metadata": {},
   "source": [
    "### Сравнение распределения размеров гранул сырья"
   ]
  },
  {
   "cell_type": "code",
   "execution_count": 17,
   "metadata": {},
   "outputs": [
    {
     "data": {
      "text/html": [
       "<div>\n",
       "<style scoped>\n",
       "    .dataframe tbody tr th:only-of-type {\n",
       "        vertical-align: middle;\n",
       "    }\n",
       "\n",
       "    .dataframe tbody tr th {\n",
       "        vertical-align: top;\n",
       "    }\n",
       "\n",
       "    .dataframe thead th {\n",
       "        text-align: right;\n",
       "    }\n",
       "</style>\n",
       "<table border=\"1\" class=\"dataframe\">\n",
       "  <thead>\n",
       "    <tr style=\"text-align: right;\">\n",
       "      <th></th>\n",
       "      <th>train</th>\n",
       "      <th>test</th>\n",
       "    </tr>\n",
       "  </thead>\n",
       "  <tbody>\n",
       "    <tr>\n",
       "      <th>count</th>\n",
       "      <td>14149.000000</td>\n",
       "      <td>5290.000000</td>\n",
       "    </tr>\n",
       "    <tr>\n",
       "      <th>mean</th>\n",
       "      <td>60.239856</td>\n",
       "      <td>55.952754</td>\n",
       "    </tr>\n",
       "    <tr>\n",
       "      <th>std</th>\n",
       "      <td>23.005310</td>\n",
       "      <td>19.080334</td>\n",
       "    </tr>\n",
       "    <tr>\n",
       "      <th>min</th>\n",
       "      <td>9.659576</td>\n",
       "      <td>0.046369</td>\n",
       "    </tr>\n",
       "    <tr>\n",
       "      <th>25%</th>\n",
       "      <td>48.966751</td>\n",
       "      <td>43.906504</td>\n",
       "    </tr>\n",
       "    <tr>\n",
       "      <th>50%</th>\n",
       "      <td>55.269784</td>\n",
       "      <td>50.846843</td>\n",
       "    </tr>\n",
       "    <tr>\n",
       "      <th>75%</th>\n",
       "      <td>66.007526</td>\n",
       "      <td>62.451165</td>\n",
       "    </tr>\n",
       "    <tr>\n",
       "      <th>max</th>\n",
       "      <td>484.967466</td>\n",
       "      <td>392.494040</td>\n",
       "    </tr>\n",
       "  </tbody>\n",
       "</table>\n",
       "</div>"
      ],
      "text/plain": [
       "              train         test\n",
       "count  14149.000000  5290.000000\n",
       "mean      60.239856    55.952754\n",
       "std       23.005310    19.080334\n",
       "min        9.659576     0.046369\n",
       "25%       48.966751    43.906504\n",
       "50%       55.269784    50.846843\n",
       "75%       66.007526    62.451165\n",
       "max      484.967466   392.494040"
      ]
     },
     "execution_count": 17,
     "metadata": {},
     "output_type": "execute_result"
    }
   ],
   "source": [
    "# Делаем таблицу с размерами гранул перед флоатацией тестовой и обучающей выборок\n",
    "feeds = pd.concat([train['rougher.input.feed_size'], test['rougher.input.feed_size']], axis=1) \n",
    "feeds.columns = ['train', 'test']\n",
    "feeds.describe()"
   ]
  },
  {
   "cell_type": "code",
   "execution_count": 18,
   "metadata": {},
   "outputs": [
    {
     "data": {
      "image/png": "[encoded data removed]",
      "text/plain": [
       "<Figure size 635.375x576 with 1 Axes>"
      ]
     },
     "metadata": {
      "needs_background": "light"
     },
     "output_type": "display_data"
    }
   ],
   "source": [
    "sns.displot(feeds, legend=True, kde=True, height=8)\n",
    "plt.title('Распределение размеров гранул сырья на обучающей и тестовой выборках (флоатация)', fontsize=15)\n",
    "plt.xlim([0, 100])\n",
    "plt.show()"
   ]
  },
  {
   "cell_type": "code",
   "execution_count": 19,
   "metadata": {},
   "outputs": [
    {
     "data": {
      "text/html": [
       "<div>\n",
       "<style scoped>\n",
       "    .dataframe tbody tr th:only-of-type {\n",
       "        vertical-align: middle;\n",
       "    }\n",
       "\n",
       "    .dataframe tbody tr th {\n",
       "        vertical-align: top;\n",
       "    }\n",
       "\n",
       "    .dataframe thead th {\n",
       "        text-align: right;\n",
       "    }\n",
       "</style>\n",
       "<table border=\"1\" class=\"dataframe\">\n",
       "  <thead>\n",
       "    <tr style=\"text-align: right;\">\n",
       "      <th></th>\n",
       "      <th>train</th>\n",
       "      <th>test</th>\n",
       "    </tr>\n",
       "  </thead>\n",
       "  <tbody>\n",
       "    <tr>\n",
       "      <th>count</th>\n",
       "      <td>14149.000000</td>\n",
       "      <td>5290.000000</td>\n",
       "    </tr>\n",
       "    <tr>\n",
       "      <th>mean</th>\n",
       "      <td>7.322310</td>\n",
       "      <td>7.266339</td>\n",
       "    </tr>\n",
       "    <tr>\n",
       "      <th>std</th>\n",
       "      <td>0.614062</td>\n",
       "      <td>0.610219</td>\n",
       "    </tr>\n",
       "    <tr>\n",
       "      <th>min</th>\n",
       "      <td>1.080000</td>\n",
       "      <td>5.650000</td>\n",
       "    </tr>\n",
       "    <tr>\n",
       "      <th>25%</th>\n",
       "      <td>6.960000</td>\n",
       "      <td>6.890000</td>\n",
       "    </tr>\n",
       "    <tr>\n",
       "      <th>50%</th>\n",
       "      <td>7.290000</td>\n",
       "      <td>7.250000</td>\n",
       "    </tr>\n",
       "    <tr>\n",
       "      <th>75%</th>\n",
       "      <td>7.700000</td>\n",
       "      <td>7.600000</td>\n",
       "    </tr>\n",
       "    <tr>\n",
       "      <th>max</th>\n",
       "      <td>10.470000</td>\n",
       "      <td>15.500000</td>\n",
       "    </tr>\n",
       "  </tbody>\n",
       "</table>\n",
       "</div>"
      ],
      "text/plain": [
       "              train         test\n",
       "count  14149.000000  5290.000000\n",
       "mean       7.322310     7.266339\n",
       "std        0.614062     0.610219\n",
       "min        1.080000     5.650000\n",
       "25%        6.960000     6.890000\n",
       "50%        7.290000     7.250000\n",
       "75%        7.700000     7.600000\n",
       "max       10.470000    15.500000"
      ]
     },
     "execution_count": 19,
     "metadata": {},
     "output_type": "execute_result"
    }
   ],
   "source": [
    "#Размер гранул перед первичной очисткой на обучающей, и тестовой выборках\n",
    "feeds_size = pd.concat([train['primary_cleaner.input.feed_size'], \n",
    "                                     test['primary_cleaner.input.feed_size']], axis=1) \n",
    "feeds_size.columns = ['train', 'test']\n",
    "feeds_size.describe()"
   ]
  },
  {
   "cell_type": "code",
   "execution_count": 20,
   "metadata": {},
   "outputs": [
    {
     "data": {
      "image/png": "[encoded data removed]",
      "text/plain": [
       "<Figure size 635.375x576 with 1 Axes>"
      ]
     },
     "metadata": {
      "needs_background": "light"
     },
     "output_type": "display_data"
    }
   ],
   "source": [
    "sns.displot(feeds_size, legend=True, kde=True, height=8)\n",
    "plt.title('Распределение размеров гранул сырья на обучающей и тестовой выборках (первичная очистка)', fontsize=15)\n",
    "plt.xlim([1 , 10])\n",
    "plt.show()"
   ]
  },
  {
   "cell_type": "markdown",
   "metadata": {},
   "source": [
    "Вывод:\n",
    "\n",
    "Распределения размеров гранул сырья на обучающей и тестовой выборках слабо отличаются и не должны влиять на оценку модели."
   ]
  },
  {
   "cell_type": "markdown",
   "metadata": {},
   "source": [
    "### Концентрация всех веществ на разных стадиях"
   ]
  },
  {
   "cell_type": "code",
   "execution_count": 21,
   "metadata": {},
   "outputs": [],
   "source": [
    "# Суммарная концентрация четырей веществ на каждой стадии\n",
    "final_output_concentrate_sum_train = (train['final.output.concentrate_au'] + \n",
    "                                      train['final.output.concentrate_ag'] + \n",
    "                                      train['final.output.concentrate_pb'] +\n",
    "                                      train['final.output.concentrate_sol'])\n",
    "primary_cleaner_output_concentrate_sum_train = (train['primary_cleaner.output.concentrate_au'] + \n",
    "                                                train['primary_cleaner.output.concentrate_ag'] + \n",
    "                                                train['primary_cleaner.output.concentrate_pb'] +\n",
    "                                                train['primary_cleaner.output.concentrate_sol'])\n",
    "rougher_output_concentrate_sum_train = (train['rougher.output.concentrate_au'] + \n",
    "                                        train['rougher.output.concentrate_ag'] + \n",
    "                                        train['rougher.output.concentrate_pb'] +\n",
    "                                        train['rougher.output.concentrate_sol'])\n",
    "rougher_input_concentrate_sum_train = (train['rougher.input.feed_au'] + \n",
    "                                        train['rougher.input.feed_ag'] + \n",
    "                                        train['rougher.input.feed_pb'] +\n",
    "                                        train['rougher.input.feed_sol'])\n"
   ]
  },
  {
   "cell_type": "code",
   "execution_count": 22,
   "metadata": {},
   "outputs": [
    {
     "data": {
      "image/png": "[encoded data removed]",
      "text/plain": [
       "<Figure size 864x648 with 1 Axes>"
      ]
     },
     "metadata": {
      "needs_background": "light"
     },
     "output_type": "display_data"
    }
   ],
   "source": [
    "plt.figure(figsize=[12,9])\n",
    "\n",
    "plt.hist(final_output_concentrate_sum_train, bins=100, label = 'final_output', alpha=.4)\n",
    "plt.hist(primary_cleaner_output_concentrate_sum_train, bins=100, label = 'primary_cleaner_output', alpha=.4)\n",
    "plt.hist(rougher_output_concentrate_sum_train, bins=100, label = 'rougher_output', alpha=.4)\n",
    "plt.hist(rougher_input_concentrate_sum_train, bins=100, label = 'rougher_input', alpha=.4)\n",
    "\n",
    "plt.xlim([0, 100])\n",
    "plt.ylim([0, 1500])\n",
    "\n",
    "plt.xlabel(\"Суммарная концентраця\")\n",
    "plt.ylabel(\"Количество результатов\")\n",
    "\n",
    "plt.legend(loc='upper left', fontsize='x-large')\n",
    "\n",
    "plt.title(\"Гистограмма распределения концентраций на разных этапах очистки\")\n",
    "plt.show()"
   ]
  },
  {
   "cell_type": "code",
   "execution_count": 23,
   "metadata": {},
   "outputs": [
    {
     "data": {
      "text/plain": [
       "(13304, 86)"
      ]
     },
     "execution_count": 23,
     "metadata": {},
     "output_type": "execute_result"
    }
   ],
   "source": [
    "train = train.drop(index = train[train[\"rougher.input.feed_au\"] < 1].index,\n",
    "                   axis = 0)\n",
    "train = train.drop(index = train[train[\"rougher.input.feed_ag\"] < 1].index,\n",
    "                   axis = 0)\n",
    "train = train.drop(index = train[train[\"rougher.input.feed_pb\"] < 1].index,\n",
    "                   axis = 0)\n",
    "train = train.drop(index = train[train[\"rougher.input.feed_sol\"] < 1].index,\n",
    "                   axis = 0)\n",
    "\n",
    "\n",
    "train = train.drop(index = train[train[\"rougher.output.concentrate_au\"] < 1].index,\n",
    "                   axis = 0)\n",
    "train = train.drop(index = train[train[\"rougher.output.concentrate_ag\"] < 1].index,\n",
    "                   axis = 0)\n",
    "train = train.drop(index = train[train[\"rougher.output.concentrate_pb\"] < 1].index,\n",
    "                   axis = 0)\n",
    "train = train.drop(index = train[train[\"rougher.output.concentrate_sol\"] < 1].index,\n",
    "                   axis = 0)\n",
    "\n",
    "train = train.drop(index = train[train[\"primary_cleaner.output.concentrate_au\"] < 1].index,\n",
    "                   axis = 0)\n",
    "train = train.drop(index = train[train[\"primary_cleaner.output.concentrate_ag\"] < 1].index,\n",
    "                   axis = 0)\n",
    "train = train.drop(index = train[train[\"primary_cleaner.output.concentrate_pb\"] < 1].index,\n",
    "                   axis = 0)\n",
    "train = train.drop(index = train[train[\"primary_cleaner.output.concentrate_sol\"] < 1].index,\n",
    "                   axis = 0)\n",
    "\n",
    "train = train.drop(index = train[train[\"final.output.concentrate_au\"] < 1].index,\n",
    "                   axis = 0)\n",
    "train = train.drop(index = train[train[\"final.output.concentrate_ag\"] < 1].index,\n",
    "                   axis = 0)\n",
    "train = train.drop(index = train[train[\"final.output.concentrate_sol\"] < 1].index,\n",
    "                   axis = 0)\n",
    "train.shape"
   ]
  },
  {
   "cell_type": "code",
   "execution_count": 24,
   "metadata": {},
   "outputs": [],
   "source": [
    "final_output_concentrate_sum_train = (train['final.output.concentrate_au'] + \n",
    "                                      train['final.output.concentrate_ag'] + \n",
    "                                      train['final.output.concentrate_pb'] +\n",
    "                                      train['final.output.concentrate_sol'])\n",
    "primary_cleaner_output_concentrate_sum_train = (train['primary_cleaner.output.concentrate_au'] + \n",
    "                                                train['primary_cleaner.output.concentrate_ag'] + \n",
    "                                                train['primary_cleaner.output.concentrate_pb'] +\n",
    "                                                train['primary_cleaner.output.concentrate_sol'])\n",
    "rougher_output_concentrate_sum_train = (train['rougher.output.concentrate_au'] + \n",
    "                                        train['rougher.output.concentrate_ag'] + \n",
    "                                        train['rougher.output.concentrate_pb'] +\n",
    "                                        train['rougher.output.concentrate_sol'])\n",
    "rougher_input_concentrate_sum_train = (train['rougher.input.feed_au'] + \n",
    "                                        train['rougher.input.feed_ag'] + \n",
    "                                        train['rougher.input.feed_pb'] +\n",
    "                                        train['rougher.input.feed_sol'])"
   ]
  },
  {
   "cell_type": "code",
   "execution_count": 25,
   "metadata": {},
   "outputs": [
    {
     "data": {
      "image/png": "[encoded data removed]",
      "text/plain": [
       "<Figure size 864x648 with 1 Axes>"
      ]
     },
     "metadata": {
      "needs_background": "light"
     },
     "output_type": "display_data"
    }
   ],
   "source": [
    "plt.figure(figsize=[12,9])\n",
    "\n",
    "plt.hist(final_output_concentrate_sum_train, bins=100, label = 'final_output', alpha=.4)\n",
    "plt.hist(primary_cleaner_output_concentrate_sum_train, bins=100, label = 'primary_cleaner_output', alpha=.4)\n",
    "plt.hist(rougher_output_concentrate_sum_train, bins=100, label = 'rougher_output', alpha=.4)\n",
    "plt.hist(rougher_input_concentrate_sum_train, bins=100, label = 'rougher_input', alpha=.4)\n",
    "\n",
    "plt.xlim([0, 100])\n",
    "plt.ylim([0, 1500])\n",
    "\n",
    "plt.xlabel(\"Суммарная концентраця\")\n",
    "plt.ylabel(\"Количество результатов\")\n",
    "\n",
    "plt.legend(loc='upper left', fontsize='x-large')\n",
    "\n",
    "plt.title(\"Гистограмма распределения концентраций на разных этапах очистки\")\n",
    "plt.show()"
   ]
  },
  {
   "cell_type": "markdown",
   "metadata": {},
   "source": [
    "Аномалии выявили и удалили. Данные готовы для построения модели"
   ]
  },
  {
   "cell_type": "markdown",
   "metadata": {},
   "source": [
    "## Модель"
   ]
  },
  {
   "cell_type": "code",
   "execution_count": 26,
   "metadata": {},
   "outputs": [],
   "source": [
    "def smape(target, predictions):\n",
    "    return ((1/len(target)) * np.sum(2 * np.abs(target - predictions) / (np.abs(target) + np.abs(predictions)))) * 100\n",
    "\n",
    "\n",
    "\n",
    "def final_smape (smape_rougher, smape_final):\n",
    "    total_smape = 0.25 * smape_rougher + 0.75 * smape_final\n",
    "    return total_smape"
   ]
  },
  {
   "cell_type": "code",
   "execution_count": 27,
   "metadata": {},
   "outputs": [],
   "source": [
    "scorer = make_scorer(smape, greater_is_better=False)"
   ]
  },
  {
   "cell_type": "code",
   "execution_count": 28,
   "metadata": {},
   "outputs": [],
   "source": [
    "#Из обучающей выборки удалим признаки отсутствующие в тестовой.\n",
    "train = train[list(test.columns)]"
   ]
  },
  {
   "cell_type": "code",
   "execution_count": 29,
   "metadata": {},
   "outputs": [],
   "source": [
    "# Разделим датафреймы на features и target\n",
    "# train\n",
    "target_rougher_train = train['rougher.output.recovery']\n",
    "target_final_train = train['final.output.recovery']\n",
    "features_train = train.drop(['rougher.output.recovery', 'final.output.recovery'], axis=1)\n",
    "\n",
    "# test\n",
    "target_rougher_test = test['rougher.output.recovery']\n",
    "target_final_test = test['final.output.recovery']\n",
    "features_test = test.drop(['rougher.output.recovery', 'final.output.recovery'], axis=1)\n"
   ]
  },
  {
   "cell_type": "code",
   "execution_count": 30,
   "metadata": {},
   "outputs": [
    {
     "name": "stdout",
     "output_type": "stream",
     "text": [
      "Итоговое sMAPE: -9.824901403060347\n"
     ]
    }
   ],
   "source": [
    "#Обучим и оценим модель линейной регрессии\n",
    "\n",
    "cross_val_score_rougher = cross_val_score(LinearRegression(),\n",
    "                                          features_train,\n",
    "                                          target_rougher_train,\n",
    "                                          cv=4, scoring=scorer).mean()\n",
    "cross_val_score_final = cross_val_score(LinearRegression(),\n",
    "                                        features_train,\n",
    "                                        target_final_train,\n",
    "                                        cv=4, scoring=scorer).mean()\n",
    "total_smape_result = final_smape(cross_val_score_rougher, cross_val_score_final)\n",
    "print('Итоговое sMAPE:', total_smape_result)"
   ]
  },
  {
   "cell_type": "code",
   "execution_count": 31,
   "metadata": {},
   "outputs": [
    {
     "name": "stdout",
     "output_type": "stream",
     "text": [
      "Итоговое sMAPE: -13.545737461807914\n"
     ]
    }
   ],
   "source": [
    "#Обучим и оценим модель регрессии дерева решений\n",
    "cross_val_score_rougher = cross_val_score(DecisionTreeRegressor(random_state=19191),\n",
    "                                          features_train,\n",
    "                                          target_rougher_train,\n",
    "                                          cv=4, scoring=scorer).mean()\n",
    "cross_val_score_final = cross_val_score(DecisionTreeRegressor(random_state=19191),\n",
    "                                        features_train,\n",
    "                                        target_final_train,\n",
    "                                        cv=4, scoring=scorer).mean()\n",
    "total_smape_result = final_smape(cross_val_score_rougher, cross_val_score_final)\n",
    "print('Итоговое sMAPE:', total_smape_result)"
   ]
  },
  {
   "cell_type": "code",
   "execution_count": 32,
   "metadata": {},
   "outputs": [
    {
     "name": "stdout",
     "output_type": "stream",
     "text": [
      "Итоговое sMAPE: 9.426451873012585\n"
     ]
    }
   ],
   "source": [
    "#Обучим и оценим модель случайного леса\n",
    "for estimator in range(25, 26):   \n",
    "    model = RandomForestRegressor(random_state=19191, \n",
    "                                       n_estimators=estimator)\n",
    "    scorer = make_scorer(smape) \n",
    "    \n",
    "    cross_val_score_rougher = cross_val_score(model, features_train, target_rougher_train, cv=4, scoring=scorer).mean()\n",
    "    cross_val_score_final = cross_val_score(model, features_train, target_final_train, cv=4, scoring=scorer).mean()\n",
    "\n",
    "    total_smape_result = final_smape(cross_val_score_rougher, cross_val_score_final)\n",
    "    print('Итоговое sMAPE:', total_smape_result)"
   ]
  },
  {
   "cell_type": "markdown",
   "metadata": {},
   "source": [
    "Лучшей оказалась модель случайного леса, т.к. sMAPE меньше, чем у остальных"
   ]
  },
  {
   "cell_type": "code",
   "execution_count": 33,
   "metadata": {},
   "outputs": [
    {
     "name": "stdout",
     "output_type": "stream",
     "text": [
      "Итоговое sMAPE: 9.219442357055735\n"
     ]
    }
   ],
   "source": [
    "model_final = RandomForestRegressor(random_state=19191, \n",
    "                                       n_estimators=25)\n",
    "\n",
    "model_final.fit(features_train, target_rougher_train)\n",
    "predictions_rougher = model_final.predict(features_test)\n",
    "\n",
    "model_final.fit(features_train, target_final_train)\n",
    "predictions_final = model_final.predict(features_test)\n",
    "\n",
    "smape_rougher = smape(target_rougher_test, predictions_rougher)\n",
    "smape_final = smape(target_final_test, predictions_final)\n",
    "\n",
    "print('Итоговое sMAPE:', final_smape(smape_rougher, smape_final))"
   ]
  },
  {
   "cell_type": "code",
   "execution_count": 34,
   "metadata": {},
   "outputs": [
    {
     "name": "stdout",
     "output_type": "stream",
     "text": [
      "Итоговое sMAPE 9.74499284619471\n"
     ]
    }
   ],
   "source": [
    "# Проверка модели на адекватность\n",
    "# Создадим константную модель с помошью DummyRegressor\n",
    "model = DummyRegressor(strategy='mean')\n",
    "\n",
    "model.fit(features_train, target_rougher_train)\n",
    "predictions_rougher = model.predict(features_test)\n",
    "\n",
    "model.fit(features_train, target_final_train)\n",
    "predictions_final = model.predict(features_test)\n",
    "\n",
    "smape_rougher= smape(target_rougher_test, predictions_rougher)\n",
    "smape_final= smape(target_final_test, predictions_final)\n",
    "\n",
    "print('Итоговое sMAPE', final_smape(smape_rougher, smape_final))"
   ]
  },
  {
   "cell_type": "markdown",
   "metadata": {},
   "source": [
    "sMAPE на построенной модели меньше, чем на константной, следовательно, модель адекватна"
   ]
  },
  {
   "cell_type": "markdown",
   "metadata": {},
   "source": [
    "## Общий вывод:\n",
    "* Обработаны исходные данные: заполнены пропуски, установлен целевой признак, удалены аномалии \n",
    "* Установленно, что мере прохождения стадий технологического процесса доля золота и свинца увеличивается, а серебра уменьшается\n",
    "* Проведено сравнение распределений размеров гранул сырья для обучающей и тестовой выборок: данные сопоставимы\n",
    "* Были оценены 3 модели регрессии. Лучшая модель - Случайный лес - была определена по минимальному значению sMAPE: 9.42 на обучающих данных и 9.22 на тестовых\n",
    "* Модель прошла проверку на адекватность"
   ]
  }
 ],
 "metadata": {
  "ExecuteTimeLog": [
   {
    "duration": 1381,
    "start_time": "2022-10-09T12:05:16.357Z"
   },
   {
    "duration": 131,
    "start_time": "2022-10-09T12:05:26.421Z"
   },
   {
    "duration": 822,
    "start_time": "2022-10-09T12:06:20.506Z"
   },
   {
    "duration": 2376,
    "start_time": "2022-10-09T12:06:33.404Z"
   },
   {
    "duration": 3,
    "start_time": "2022-10-09T12:06:46.560Z"
   },
   {
    "duration": 349,
    "start_time": "2022-10-09T12:06:56.190Z"
   },
   {
    "duration": 184,
    "start_time": "2022-10-09T12:07:35.274Z"
   },
   {
    "duration": 331,
    "start_time": "2022-10-09T12:08:02.987Z"
   },
   {
    "duration": 326,
    "start_time": "2022-10-09T12:08:50.828Z"
   },
   {
    "duration": 313,
    "start_time": "2022-10-09T12:08:53.131Z"
   },
   {
    "duration": 2,
    "start_time": "2022-10-09T12:09:07.660Z"
   },
   {
    "duration": 3,
    "start_time": "2022-10-09T12:09:32.961Z"
   },
   {
    "duration": 74,
    "start_time": "2022-10-09T12:10:19.286Z"
   },
   {
    "duration": 50,
    "start_time": "2022-10-09T12:10:59.793Z"
   },
   {
    "duration": 4,
    "start_time": "2022-10-09T12:12:20.381Z"
   },
   {
    "duration": 13,
    "start_time": "2022-10-09T12:12:30.563Z"
   },
   {
    "duration": 4,
    "start_time": "2022-10-09T12:12:51.780Z"
   },
   {
    "duration": 4,
    "start_time": "2022-10-09T12:13:12.058Z"
   },
   {
    "duration": 1239,
    "start_time": "2022-10-09T12:13:18.565Z"
   },
   {
    "duration": 611,
    "start_time": "2022-10-09T12:13:19.805Z"
   },
   {
    "duration": 3,
    "start_time": "2022-10-09T12:13:20.418Z"
   },
   {
    "duration": 346,
    "start_time": "2022-10-09T12:13:20.422Z"
   },
   {
    "duration": 163,
    "start_time": "2022-10-09T12:13:20.770Z"
   },
   {
    "duration": 359,
    "start_time": "2022-10-09T12:13:20.935Z"
   },
   {
    "duration": 2,
    "start_time": "2022-10-09T12:13:21.300Z"
   },
   {
    "duration": 7,
    "start_time": "2022-10-09T12:13:21.304Z"
   },
   {
    "duration": 16,
    "start_time": "2022-10-09T12:13:21.313Z"
   },
   {
    "duration": 3,
    "start_time": "2022-10-09T12:13:21.331Z"
   },
   {
    "duration": 4,
    "start_time": "2022-10-09T12:15:42.374Z"
   },
   {
    "duration": 3,
    "start_time": "2022-10-09T12:17:48.789Z"
   },
   {
    "duration": 3,
    "start_time": "2022-10-09T12:19:21.284Z"
   },
   {
    "duration": 53,
    "start_time": "2022-10-09T12:19:33.598Z"
   },
   {
    "duration": 17,
    "start_time": "2022-10-09T12:20:19.106Z"
   },
   {
    "duration": 24,
    "start_time": "2022-10-09T12:21:23.073Z"
   },
   {
    "duration": 15,
    "start_time": "2022-10-09T12:22:26.839Z"
   },
   {
    "duration": 5,
    "start_time": "2022-10-09T12:23:09.866Z"
   },
   {
    "duration": 16,
    "start_time": "2022-10-09T12:23:23.159Z"
   },
   {
    "duration": 18,
    "start_time": "2022-10-09T12:23:52.313Z"
   },
   {
    "duration": 20,
    "start_time": "2022-10-09T12:24:04.203Z"
   },
   {
    "duration": 3,
    "start_time": "2022-10-09T12:24:13.630Z"
   },
   {
    "duration": 904,
    "start_time": "2022-10-09T12:25:55.308Z"
   },
   {
    "duration": 18,
    "start_time": "2022-10-09T12:27:54.966Z"
   },
   {
    "duration": 1981,
    "start_time": "2022-10-09T12:28:07.796Z"
   },
   {
    "duration": 17,
    "start_time": "2022-10-09T12:28:26.511Z"
   },
   {
    "duration": 1681,
    "start_time": "2022-10-09T12:28:34.678Z"
   },
   {
    "duration": 2,
    "start_time": "2022-10-09T12:29:31.872Z"
   },
   {
    "duration": 2,
    "start_time": "2022-10-09T12:29:33.408Z"
   },
   {
    "duration": 84,
    "start_time": "2022-10-09T12:29:58.306Z"
   },
   {
    "duration": 2536,
    "start_time": "2022-10-09T12:30:19.767Z"
   },
   {
    "duration": 107,
    "start_time": "2022-10-09T12:42:05.344Z"
   },
   {
    "duration": 151,
    "start_time": "2022-10-09T12:42:17.789Z"
   },
   {
    "duration": 10,
    "start_time": "2022-10-09T12:46:56.898Z"
   },
   {
    "duration": 7,
    "start_time": "2022-10-09T12:47:10.302Z"
   },
   {
    "duration": 3,
    "start_time": "2022-10-09T12:50:20.443Z"
   },
   {
    "duration": 744,
    "start_time": "2022-10-09T12:53:22.069Z"
   },
   {
    "duration": 749,
    "start_time": "2022-10-09T12:53:38.808Z"
   },
   {
    "duration": 1123,
    "start_time": "2022-10-09T12:55:03.904Z"
   },
   {
    "duration": 1312,
    "start_time": "2022-10-09T12:56:22.288Z"
   },
   {
    "duration": 618,
    "start_time": "2022-10-09T12:56:23.602Z"
   },
   {
    "duration": 5,
    "start_time": "2022-10-09T12:56:24.222Z"
   },
   {
    "duration": 430,
    "start_time": "2022-10-09T12:56:24.229Z"
   },
   {
    "duration": 176,
    "start_time": "2022-10-09T12:56:24.661Z"
   },
   {
    "duration": 341,
    "start_time": "2022-10-09T12:56:24.838Z"
   },
   {
    "duration": 3,
    "start_time": "2022-10-09T12:56:25.181Z"
   },
   {
    "duration": 23,
    "start_time": "2022-10-09T12:56:25.185Z"
   },
   {
    "duration": 4,
    "start_time": "2022-10-09T12:56:25.209Z"
   },
   {
    "duration": 7,
    "start_time": "2022-10-09T12:56:25.215Z"
   },
   {
    "duration": 52,
    "start_time": "2022-10-09T12:56:25.223Z"
   },
   {
    "duration": 36,
    "start_time": "2022-10-09T12:56:25.277Z"
   },
   {
    "duration": 25,
    "start_time": "2022-10-09T12:56:25.315Z"
   },
   {
    "duration": 25,
    "start_time": "2022-10-09T12:56:25.341Z"
   },
   {
    "duration": 5,
    "start_time": "2022-10-09T12:56:25.367Z"
   },
   {
    "duration": 27,
    "start_time": "2022-10-09T12:56:25.374Z"
   },
   {
    "duration": 971,
    "start_time": "2022-10-09T12:56:25.402Z"
   },
   {
    "duration": 26,
    "start_time": "2022-10-09T12:56:26.375Z"
   },
   {
    "duration": 1932,
    "start_time": "2022-10-09T12:56:26.403Z"
   },
   {
    "duration": 17,
    "start_time": "2022-10-09T12:56:28.337Z"
   },
   {
    "duration": 1682,
    "start_time": "2022-10-09T12:56:28.356Z"
   },
   {
    "duration": 91,
    "start_time": "2022-10-09T12:56:30.040Z"
   },
   {
    "duration": 2419,
    "start_time": "2022-10-09T12:56:30.132Z"
   },
   {
    "duration": 137,
    "start_time": "2022-10-09T12:56:32.552Z"
   },
   {
    "duration": 11,
    "start_time": "2022-10-09T12:56:32.691Z"
   },
   {
    "duration": 856,
    "start_time": "2022-10-09T12:56:32.703Z"
   },
   {
    "duration": 1326,
    "start_time": "2022-10-09T12:57:10.406Z"
   },
   {
    "duration": 599,
    "start_time": "2022-10-09T12:57:11.734Z"
   },
   {
    "duration": 3,
    "start_time": "2022-10-09T12:57:12.334Z"
   },
   {
    "duration": 375,
    "start_time": "2022-10-09T12:57:12.339Z"
   },
   {
    "duration": 165,
    "start_time": "2022-10-09T12:57:12.716Z"
   },
   {
    "duration": 347,
    "start_time": "2022-10-09T12:57:12.883Z"
   },
   {
    "duration": 3,
    "start_time": "2022-10-09T12:57:13.232Z"
   },
   {
    "duration": 25,
    "start_time": "2022-10-09T12:57:13.237Z"
   },
   {
    "duration": 4,
    "start_time": "2022-10-09T12:57:13.263Z"
   },
   {
    "duration": 5,
    "start_time": "2022-10-09T12:57:13.268Z"
   },
   {
    "duration": 64,
    "start_time": "2022-10-09T12:57:13.275Z"
   },
   {
    "duration": 14,
    "start_time": "2022-10-09T12:57:13.341Z"
   },
   {
    "duration": 24,
    "start_time": "2022-10-09T12:57:13.357Z"
   },
   {
    "duration": 39,
    "start_time": "2022-10-09T12:57:13.384Z"
   },
   {
    "duration": 3,
    "start_time": "2022-10-09T12:57:13.425Z"
   },
   {
    "duration": 950,
    "start_time": "2022-10-09T12:57:13.430Z"
   },
   {
    "duration": 32,
    "start_time": "2022-10-09T12:57:14.382Z"
   },
   {
    "duration": 1886,
    "start_time": "2022-10-09T12:57:14.416Z"
   },
   {
    "duration": 16,
    "start_time": "2022-10-09T12:57:16.304Z"
   },
   {
    "duration": 1708,
    "start_time": "2022-10-09T12:57:16.322Z"
   },
   {
    "duration": 86,
    "start_time": "2022-10-09T12:57:18.032Z"
   },
   {
    "duration": 2355,
    "start_time": "2022-10-09T12:57:18.120Z"
   },
   {
    "duration": 137,
    "start_time": "2022-10-09T12:57:20.477Z"
   },
   {
    "duration": 10,
    "start_time": "2022-10-09T12:57:20.616Z"
   },
   {
    "duration": 7,
    "start_time": "2022-10-09T12:57:20.627Z"
   },
   {
    "duration": 1656,
    "start_time": "2022-10-09T12:58:30.632Z"
   },
   {
    "duration": 5,
    "start_time": "2022-10-09T12:59:07.336Z"
   },
   {
    "duration": 5,
    "start_time": "2022-10-09T12:59:08.098Z"
   },
   {
    "duration": 252,
    "start_time": "2022-10-09T12:59:09.306Z"
   },
   {
    "duration": 368,
    "start_time": "2022-10-09T12:59:14.998Z"
   },
   {
    "duration": 275,
    "start_time": "2022-10-09T12:59:27.466Z"
   },
   {
    "duration": 1292,
    "start_time": "2022-10-09T12:59:32.332Z"
   },
   {
    "duration": 648,
    "start_time": "2022-10-09T12:59:33.626Z"
   },
   {
    "duration": 3,
    "start_time": "2022-10-09T12:59:34.276Z"
   },
   {
    "duration": 422,
    "start_time": "2022-10-09T12:59:34.281Z"
   },
   {
    "duration": 159,
    "start_time": "2022-10-09T12:59:34.705Z"
   },
   {
    "duration": 373,
    "start_time": "2022-10-09T12:59:34.865Z"
   },
   {
    "duration": 4,
    "start_time": "2022-10-09T12:59:35.240Z"
   },
   {
    "duration": 21,
    "start_time": "2022-10-09T12:59:35.245Z"
   },
   {
    "duration": 4,
    "start_time": "2022-10-09T12:59:35.267Z"
   },
   {
    "duration": 12,
    "start_time": "2022-10-09T12:59:35.272Z"
   },
   {
    "duration": 66,
    "start_time": "2022-10-09T12:59:35.286Z"
   },
   {
    "duration": 15,
    "start_time": "2022-10-09T12:59:35.353Z"
   },
   {
    "duration": 39,
    "start_time": "2022-10-09T12:59:35.369Z"
   },
   {
    "duration": 27,
    "start_time": "2022-10-09T12:59:35.411Z"
   },
   {
    "duration": 3,
    "start_time": "2022-10-09T12:59:35.440Z"
   },
   {
    "duration": 937,
    "start_time": "2022-10-09T12:59:35.444Z"
   },
   {
    "duration": 27,
    "start_time": "2022-10-09T12:59:36.383Z"
   },
   {
    "duration": 1896,
    "start_time": "2022-10-09T12:59:36.412Z"
   },
   {
    "duration": 17,
    "start_time": "2022-10-09T12:59:38.309Z"
   },
   {
    "duration": 1722,
    "start_time": "2022-10-09T12:59:38.328Z"
   },
   {
    "duration": 86,
    "start_time": "2022-10-09T12:59:40.052Z"
   },
   {
    "duration": 2487,
    "start_time": "2022-10-09T12:59:40.140Z"
   },
   {
    "duration": 152,
    "start_time": "2022-10-09T12:59:42.629Z"
   },
   {
    "duration": 6,
    "start_time": "2022-10-09T12:59:42.783Z"
   },
   {
    "duration": 12,
    "start_time": "2022-10-09T12:59:42.799Z"
   },
   {
    "duration": 247,
    "start_time": "2022-10-09T12:59:42.813Z"
   },
   {
    "duration": 252,
    "start_time": "2022-10-09T13:00:35.351Z"
   },
   {
    "duration": 242,
    "start_time": "2022-10-09T13:01:31.219Z"
   },
   {
    "duration": 22,
    "start_time": "2022-10-09T13:01:59.202Z"
   },
   {
    "duration": 23,
    "start_time": "2022-10-09T13:02:03.352Z"
   },
   {
    "duration": 1750,
    "start_time": "2022-10-09T13:02:22.561Z"
   },
   {
    "duration": 23,
    "start_time": "2022-10-09T13:02:31.606Z"
   },
   {
    "duration": 109,
    "start_time": "2022-10-09T13:08:00.192Z"
   },
   {
    "duration": 6,
    "start_time": "2022-10-09T13:08:02.276Z"
   },
   {
    "duration": 485,
    "start_time": "2022-10-09T13:08:05.994Z"
   },
   {
    "duration": 1291,
    "start_time": "2022-10-09T13:08:28.442Z"
   },
   {
    "duration": 623,
    "start_time": "2022-10-09T13:08:29.735Z"
   },
   {
    "duration": 4,
    "start_time": "2022-10-09T13:08:30.360Z"
   },
   {
    "duration": 400,
    "start_time": "2022-10-09T13:08:30.367Z"
   },
   {
    "duration": 182,
    "start_time": "2022-10-09T13:08:30.769Z"
   },
   {
    "duration": 378,
    "start_time": "2022-10-09T13:08:30.953Z"
   },
   {
    "duration": 4,
    "start_time": "2022-10-09T13:08:31.333Z"
   },
   {
    "duration": 29,
    "start_time": "2022-10-09T13:08:31.339Z"
   },
   {
    "duration": 5,
    "start_time": "2022-10-09T13:08:31.369Z"
   },
   {
    "duration": 24,
    "start_time": "2022-10-09T13:08:31.377Z"
   },
   {
    "duration": 100,
    "start_time": "2022-10-09T13:08:31.403Z"
   },
   {
    "duration": 15,
    "start_time": "2022-10-09T13:08:31.505Z"
   },
   {
    "duration": 24,
    "start_time": "2022-10-09T13:08:31.521Z"
   },
   {
    "duration": 31,
    "start_time": "2022-10-09T13:08:31.547Z"
   },
   {
    "duration": 4,
    "start_time": "2022-10-09T13:08:31.601Z"
   },
   {
    "duration": 875,
    "start_time": "2022-10-09T13:08:31.607Z"
   },
   {
    "duration": 27,
    "start_time": "2022-10-09T13:08:32.484Z"
   },
   {
    "duration": 1870,
    "start_time": "2022-10-09T13:08:32.513Z"
   },
   {
    "duration": 28,
    "start_time": "2022-10-09T13:08:34.386Z"
   },
   {
    "duration": 2028,
    "start_time": "2022-10-09T13:08:34.416Z"
   },
   {
    "duration": 60,
    "start_time": "2022-10-09T13:08:36.446Z"
   },
   {
    "duration": 965,
    "start_time": "2022-10-09T13:08:36.507Z"
   },
   {
    "duration": 112,
    "start_time": "2022-10-09T13:08:37.473Z"
   },
   {
    "duration": 0,
    "start_time": "2022-10-09T13:08:37.586Z"
   },
   {
    "duration": 0,
    "start_time": "2022-10-09T13:08:37.588Z"
   },
   {
    "duration": 0,
    "start_time": "2022-10-09T13:08:37.589Z"
   },
   {
    "duration": 734,
    "start_time": "2022-10-09T13:09:37.972Z"
   },
   {
    "duration": 593,
    "start_time": "2022-10-09T13:10:01.782Z"
   },
   {
    "duration": 784,
    "start_time": "2022-10-09T13:10:16.033Z"
   },
   {
    "duration": 961,
    "start_time": "2022-10-09T13:10:33.268Z"
   },
   {
    "duration": 8,
    "start_time": "2022-10-09T13:11:54.636Z"
   },
   {
    "duration": 634,
    "start_time": "2022-10-09T13:11:58.293Z"
   },
   {
    "duration": 3,
    "start_time": "2022-10-09T13:14:51.582Z"
   },
   {
    "duration": 5,
    "start_time": "2022-10-09T13:15:03.376Z"
   },
   {
    "duration": 6,
    "start_time": "2022-10-09T13:15:53.211Z"
   },
   {
    "duration": 706,
    "start_time": "2022-10-09T13:15:56.870Z"
   },
   {
    "duration": 580,
    "start_time": "2022-10-09T13:16:02.584Z"
   },
   {
    "duration": 11,
    "start_time": "2022-10-09T13:17:08.222Z"
   },
   {
    "duration": 1330,
    "start_time": "2022-10-09T13:17:36.807Z"
   },
   {
    "duration": 617,
    "start_time": "2022-10-09T13:17:38.139Z"
   },
   {
    "duration": 3,
    "start_time": "2022-10-09T13:17:38.758Z"
   },
   {
    "duration": 352,
    "start_time": "2022-10-09T13:17:38.763Z"
   },
   {
    "duration": 162,
    "start_time": "2022-10-09T13:17:39.116Z"
   },
   {
    "duration": 362,
    "start_time": "2022-10-09T13:17:39.280Z"
   },
   {
    "duration": 3,
    "start_time": "2022-10-09T13:17:39.643Z"
   },
   {
    "duration": 20,
    "start_time": "2022-10-09T13:17:39.648Z"
   },
   {
    "duration": 4,
    "start_time": "2022-10-09T13:17:39.669Z"
   },
   {
    "duration": 7,
    "start_time": "2022-10-09T13:17:39.675Z"
   },
   {
    "duration": 64,
    "start_time": "2022-10-09T13:17:39.684Z"
   },
   {
    "duration": 15,
    "start_time": "2022-10-09T13:17:39.750Z"
   },
   {
    "duration": 42,
    "start_time": "2022-10-09T13:17:39.767Z"
   },
   {
    "duration": 25,
    "start_time": "2022-10-09T13:17:39.811Z"
   },
   {
    "duration": 4,
    "start_time": "2022-10-09T13:17:39.838Z"
   },
   {
    "duration": 946,
    "start_time": "2022-10-09T13:17:39.844Z"
   },
   {
    "duration": 22,
    "start_time": "2022-10-09T13:17:40.792Z"
   },
   {
    "duration": 1918,
    "start_time": "2022-10-09T13:17:40.816Z"
   },
   {
    "duration": 18,
    "start_time": "2022-10-09T13:17:42.736Z"
   },
   {
    "duration": 1751,
    "start_time": "2022-10-09T13:17:42.756Z"
   },
   {
    "duration": 11,
    "start_time": "2022-10-09T13:17:44.508Z"
   },
   {
    "duration": 765,
    "start_time": "2022-10-09T13:17:44.521Z"
   },
   {
    "duration": 115,
    "start_time": "2022-10-09T13:17:45.288Z"
   },
   {
    "duration": 18,
    "start_time": "2022-10-09T13:24:32.908Z"
   },
   {
    "duration": 5,
    "start_time": "2022-10-09T13:24:37.640Z"
   },
   {
    "duration": 605,
    "start_time": "2022-10-09T13:25:00.452Z"
   },
   {
    "duration": 7,
    "start_time": "2022-10-09T13:25:15.054Z"
   },
   {
    "duration": 642,
    "start_time": "2022-10-09T13:25:17.489Z"
   },
   {
    "duration": 14,
    "start_time": "2022-10-09T13:25:47.556Z"
   },
   {
    "duration": 1271,
    "start_time": "2022-10-09T13:26:52.531Z"
   },
   {
    "duration": 643,
    "start_time": "2022-10-09T13:26:53.804Z"
   },
   {
    "duration": 5,
    "start_time": "2022-10-09T13:26:54.449Z"
   },
   {
    "duration": 403,
    "start_time": "2022-10-09T13:26:54.456Z"
   },
   {
    "duration": 167,
    "start_time": "2022-10-09T13:26:54.861Z"
   },
   {
    "duration": 384,
    "start_time": "2022-10-09T13:26:55.030Z"
   },
   {
    "duration": 7,
    "start_time": "2022-10-09T13:26:55.415Z"
   },
   {
    "duration": 23,
    "start_time": "2022-10-09T13:26:55.424Z"
   },
   {
    "duration": 4,
    "start_time": "2022-10-09T13:26:55.449Z"
   },
   {
    "duration": 5,
    "start_time": "2022-10-09T13:26:55.456Z"
   },
   {
    "duration": 75,
    "start_time": "2022-10-09T13:26:55.463Z"
   },
   {
    "duration": 15,
    "start_time": "2022-10-09T13:26:55.540Z"
   },
   {
    "duration": 23,
    "start_time": "2022-10-09T13:26:55.557Z"
   },
   {
    "duration": 25,
    "start_time": "2022-10-09T13:26:55.600Z"
   },
   {
    "duration": 4,
    "start_time": "2022-10-09T13:26:55.626Z"
   },
   {
    "duration": 937,
    "start_time": "2022-10-09T13:26:55.631Z"
   },
   {
    "duration": 17,
    "start_time": "2022-10-09T13:26:56.569Z"
   },
   {
    "duration": 1891,
    "start_time": "2022-10-09T13:26:56.588Z"
   },
   {
    "duration": 25,
    "start_time": "2022-10-09T13:26:58.480Z"
   },
   {
    "duration": 1771,
    "start_time": "2022-10-09T13:26:58.506Z"
   },
   {
    "duration": 21,
    "start_time": "2022-10-09T13:27:00.279Z"
   },
   {
    "duration": 780,
    "start_time": "2022-10-09T13:27:00.302Z"
   },
   {
    "duration": 109,
    "start_time": "2022-10-09T13:27:01.084Z"
   },
   {
    "duration": 0,
    "start_time": "2022-10-09T13:27:01.195Z"
   },
   {
    "duration": 0,
    "start_time": "2022-10-09T13:27:01.200Z"
   },
   {
    "duration": 13,
    "start_time": "2022-10-09T13:27:35.311Z"
   },
   {
    "duration": 27,
    "start_time": "2022-10-09T13:27:41.472Z"
   },
   {
    "duration": 24,
    "start_time": "2022-10-09T13:28:06.490Z"
   },
   {
    "duration": 31,
    "start_time": "2022-10-09T13:28:14.144Z"
   },
   {
    "duration": 27,
    "start_time": "2022-10-09T13:28:22.681Z"
   },
   {
    "duration": 11,
    "start_time": "2022-10-09T13:32:10.141Z"
   },
   {
    "duration": 21,
    "start_time": "2022-10-09T13:32:23.858Z"
   },
   {
    "duration": 17,
    "start_time": "2022-10-09T13:33:39.546Z"
   },
   {
    "duration": 18,
    "start_time": "2022-10-09T13:34:57.509Z"
   },
   {
    "duration": 18,
    "start_time": "2022-10-09T13:35:48.602Z"
   },
   {
    "duration": 14,
    "start_time": "2022-10-09T13:36:09.744Z"
   },
   {
    "duration": 17,
    "start_time": "2022-10-09T13:36:45.922Z"
   },
   {
    "duration": 9,
    "start_time": "2022-10-09T13:36:56.775Z"
   },
   {
    "duration": 18,
    "start_time": "2022-10-09T13:37:23.208Z"
   },
   {
    "duration": 15,
    "start_time": "2022-10-09T13:37:33.358Z"
   },
   {
    "duration": 13,
    "start_time": "2022-10-09T13:41:34.119Z"
   },
   {
    "duration": 70,
    "start_time": "2022-10-09T13:43:16.450Z"
   },
   {
    "duration": 796,
    "start_time": "2022-10-09T13:43:34.338Z"
   },
   {
    "duration": 845,
    "start_time": "2022-10-09T13:44:02.787Z"
   },
   {
    "duration": 1324,
    "start_time": "2022-10-09T13:45:33.703Z"
   },
   {
    "duration": 650,
    "start_time": "2022-10-09T13:45:35.028Z"
   },
   {
    "duration": 3,
    "start_time": "2022-10-09T13:45:35.679Z"
   },
   {
    "duration": 366,
    "start_time": "2022-10-09T13:45:35.684Z"
   },
   {
    "duration": 160,
    "start_time": "2022-10-09T13:45:36.051Z"
   },
   {
    "duration": 338,
    "start_time": "2022-10-09T13:45:36.213Z"
   },
   {
    "duration": 3,
    "start_time": "2022-10-09T13:45:36.552Z"
   },
   {
    "duration": 18,
    "start_time": "2022-10-09T13:45:36.556Z"
   },
   {
    "duration": 4,
    "start_time": "2022-10-09T13:45:36.575Z"
   },
   {
    "duration": 20,
    "start_time": "2022-10-09T13:45:36.581Z"
   },
   {
    "duration": 53,
    "start_time": "2022-10-09T13:45:36.603Z"
   },
   {
    "duration": 14,
    "start_time": "2022-10-09T13:45:36.658Z"
   },
   {
    "duration": 47,
    "start_time": "2022-10-09T13:45:36.673Z"
   },
   {
    "duration": 25,
    "start_time": "2022-10-09T13:45:36.721Z"
   },
   {
    "duration": 8,
    "start_time": "2022-10-09T13:45:36.747Z"
   },
   {
    "duration": 949,
    "start_time": "2022-10-09T13:45:36.756Z"
   },
   {
    "duration": 16,
    "start_time": "2022-10-09T13:45:37.706Z"
   },
   {
    "duration": 1874,
    "start_time": "2022-10-09T13:45:37.724Z"
   },
   {
    "duration": 16,
    "start_time": "2022-10-09T13:45:39.599Z"
   },
   {
    "duration": 1757,
    "start_time": "2022-10-09T13:45:39.617Z"
   },
   {
    "duration": 8,
    "start_time": "2022-10-09T13:45:41.375Z"
   },
   {
    "duration": 772,
    "start_time": "2022-10-09T13:45:41.385Z"
   },
   {
    "duration": 115,
    "start_time": "2022-10-09T13:45:42.158Z"
   },
   {
    "duration": 0,
    "start_time": "2022-10-09T13:45:42.274Z"
   },
   {
    "duration": 0,
    "start_time": "2022-10-09T13:45:42.276Z"
   },
   {
    "duration": 0,
    "start_time": "2022-10-09T13:45:42.276Z"
   },
   {
    "duration": 22,
    "start_time": "2022-10-09T13:45:57.727Z"
   },
   {
    "duration": 14,
    "start_time": "2022-10-09T13:46:51.939Z"
   },
   {
    "duration": 6,
    "start_time": "2022-10-09T13:47:09.343Z"
   },
   {
    "duration": 615,
    "start_time": "2022-10-09T13:47:11.059Z"
   },
   {
    "duration": 13,
    "start_time": "2022-10-09T13:47:35.838Z"
   },
   {
    "duration": 38,
    "start_time": "2022-10-09T14:01:56.818Z"
   },
   {
    "duration": 39,
    "start_time": "2022-10-09T14:02:21.928Z"
   },
   {
    "duration": 1437,
    "start_time": "2022-10-09T14:02:43.803Z"
   },
   {
    "duration": 674,
    "start_time": "2022-10-09T14:02:45.242Z"
   },
   {
    "duration": 4,
    "start_time": "2022-10-09T14:02:45.917Z"
   },
   {
    "duration": 360,
    "start_time": "2022-10-09T14:02:45.922Z"
   },
   {
    "duration": 170,
    "start_time": "2022-10-09T14:02:46.284Z"
   },
   {
    "duration": 361,
    "start_time": "2022-10-09T14:02:46.456Z"
   },
   {
    "duration": 3,
    "start_time": "2022-10-09T14:02:46.818Z"
   },
   {
    "duration": 19,
    "start_time": "2022-10-09T14:02:46.823Z"
   },
   {
    "duration": 3,
    "start_time": "2022-10-09T14:02:46.844Z"
   },
   {
    "duration": 7,
    "start_time": "2022-10-09T14:02:46.849Z"
   },
   {
    "duration": 67,
    "start_time": "2022-10-09T14:02:46.858Z"
   },
   {
    "duration": 16,
    "start_time": "2022-10-09T14:02:46.926Z"
   },
   {
    "duration": 24,
    "start_time": "2022-10-09T14:02:46.944Z"
   },
   {
    "duration": 46,
    "start_time": "2022-10-09T14:02:46.971Z"
   },
   {
    "duration": 3,
    "start_time": "2022-10-09T14:02:47.019Z"
   },
   {
    "duration": 879,
    "start_time": "2022-10-09T14:02:47.023Z"
   },
   {
    "duration": 16,
    "start_time": "2022-10-09T14:02:47.903Z"
   },
   {
    "duration": 2417,
    "start_time": "2022-10-09T14:02:47.920Z"
   },
   {
    "duration": 66,
    "start_time": "2022-10-09T14:02:50.338Z"
   },
   {
    "duration": 2028,
    "start_time": "2022-10-09T14:02:50.406Z"
   },
   {
    "duration": 8,
    "start_time": "2022-10-09T14:02:52.435Z"
   },
   {
    "duration": 778,
    "start_time": "2022-10-09T14:02:52.444Z"
   },
   {
    "duration": 52,
    "start_time": "2022-10-09T14:02:53.223Z"
   },
   {
    "duration": 0,
    "start_time": "2022-10-09T14:02:53.277Z"
   },
   {
    "duration": 0,
    "start_time": "2022-10-09T14:02:53.278Z"
   },
   {
    "duration": 0,
    "start_time": "2022-10-09T14:02:53.279Z"
   },
   {
    "duration": 40,
    "start_time": "2022-10-09T14:03:09.529Z"
   },
   {
    "duration": 130,
    "start_time": "2022-10-09T14:03:17.996Z"
   },
   {
    "duration": 14,
    "start_time": "2022-10-09T14:04:51.006Z"
   },
   {
    "duration": 57,
    "start_time": "2022-10-09T14:07:21.106Z"
   },
   {
    "duration": 56,
    "start_time": "2022-10-09T14:08:46.636Z"
   },
   {
    "duration": 7,
    "start_time": "2022-10-09T14:09:00.251Z"
   },
   {
    "duration": 15,
    "start_time": "2022-10-09T14:09:21.512Z"
   },
   {
    "duration": 580,
    "start_time": "2022-10-09T14:09:27.947Z"
   },
   {
    "duration": 56,
    "start_time": "2022-10-09T14:12:14.925Z"
   },
   {
    "duration": 61,
    "start_time": "2022-10-09T14:12:20.403Z"
   },
   {
    "duration": 57,
    "start_time": "2022-10-09T14:12:25.958Z"
   },
   {
    "duration": 10,
    "start_time": "2022-10-09T14:12:34.077Z"
   },
   {
    "duration": 69,
    "start_time": "2022-10-09T14:12:47.243Z"
   },
   {
    "duration": 4,
    "start_time": "2022-10-09T14:17:24.049Z"
   },
   {
    "duration": 8,
    "start_time": "2022-10-09T14:17:32.441Z"
   },
   {
    "duration": 16,
    "start_time": "2022-10-09T14:18:51.016Z"
   },
   {
    "duration": 11,
    "start_time": "2022-10-09T14:19:10.074Z"
   },
   {
    "duration": 2885,
    "start_time": "2022-10-09T14:19:28.017Z"
   },
   {
    "duration": 6605,
    "start_time": "2022-10-09T14:19:39.450Z"
   },
   {
    "duration": 21095,
    "start_time": "2022-10-09T14:19:59.059Z"
   },
   {
    "duration": 1276,
    "start_time": "2022-10-09T14:23:29.030Z"
   },
   {
    "duration": 653,
    "start_time": "2022-10-09T14:23:30.308Z"
   },
   {
    "duration": 4,
    "start_time": "2022-10-09T14:23:30.963Z"
   },
   {
    "duration": 378,
    "start_time": "2022-10-09T14:23:30.969Z"
   },
   {
    "duration": 173,
    "start_time": "2022-10-09T14:23:31.349Z"
   },
   {
    "duration": 357,
    "start_time": "2022-10-09T14:23:31.523Z"
   },
   {
    "duration": 3,
    "start_time": "2022-10-09T14:23:31.881Z"
   },
   {
    "duration": 24,
    "start_time": "2022-10-09T14:23:31.885Z"
   },
   {
    "duration": 3,
    "start_time": "2022-10-09T14:23:31.911Z"
   },
   {
    "duration": 10,
    "start_time": "2022-10-09T14:23:31.916Z"
   },
   {
    "duration": 54,
    "start_time": "2022-10-09T14:23:31.928Z"
   },
   {
    "duration": 23,
    "start_time": "2022-10-09T14:23:31.984Z"
   },
   {
    "duration": 25,
    "start_time": "2022-10-09T14:23:32.008Z"
   },
   {
    "duration": 23,
    "start_time": "2022-10-09T14:23:32.035Z"
   },
   {
    "duration": 3,
    "start_time": "2022-10-09T14:23:32.059Z"
   },
   {
    "duration": 909,
    "start_time": "2022-10-09T14:23:32.064Z"
   },
   {
    "duration": 16,
    "start_time": "2022-10-09T14:23:32.974Z"
   },
   {
    "duration": 1967,
    "start_time": "2022-10-09T14:23:33.000Z"
   },
   {
    "duration": 16,
    "start_time": "2022-10-09T14:23:34.968Z"
   },
   {
    "duration": 1657,
    "start_time": "2022-10-09T14:23:34.985Z"
   },
   {
    "duration": 7,
    "start_time": "2022-10-09T14:23:36.644Z"
   },
   {
    "duration": 763,
    "start_time": "2022-10-09T14:23:36.653Z"
   },
   {
    "duration": 67,
    "start_time": "2022-10-09T14:23:37.418Z"
   },
   {
    "duration": 18,
    "start_time": "2022-10-09T14:23:37.487Z"
   },
   {
    "duration": 712,
    "start_time": "2022-10-09T14:23:37.506Z"
   },
   {
    "duration": 3,
    "start_time": "2022-10-09T14:23:38.220Z"
   },
   {
    "duration": 13,
    "start_time": "2022-10-09T14:23:38.225Z"
   },
   {
    "duration": 8,
    "start_time": "2022-10-09T14:23:38.241Z"
   },
   {
    "duration": 2754,
    "start_time": "2022-10-09T14:23:38.251Z"
   },
   {
    "duration": 6504,
    "start_time": "2022-10-09T14:23:41.007Z"
   },
   {
    "duration": 213199,
    "start_time": "2022-10-09T14:23:47.512Z"
   },
   {
    "duration": 3648,
    "start_time": "2022-10-09T14:27:20.713Z"
   },
   {
    "duration": 0,
    "start_time": "2022-10-09T14:27:24.362Z"
   },
   {
    "duration": 0,
    "start_time": "2022-10-09T14:40:39.242Z"
   },
   {
    "duration": 2,
    "start_time": "2022-10-09T14:41:17.173Z"
   },
   {
    "duration": 11,
    "start_time": "2022-10-09T14:42:01.771Z"
   },
   {
    "duration": 1362,
    "start_time": "2022-10-09T14:45:06.295Z"
   },
   {
    "duration": 655,
    "start_time": "2022-10-09T14:45:07.659Z"
   },
   {
    "duration": 4,
    "start_time": "2022-10-09T14:45:08.315Z"
   },
   {
    "duration": 393,
    "start_time": "2022-10-09T14:45:08.321Z"
   },
   {
    "duration": 164,
    "start_time": "2022-10-09T14:45:08.716Z"
   },
   {
    "duration": 356,
    "start_time": "2022-10-09T14:45:08.882Z"
   },
   {
    "duration": 3,
    "start_time": "2022-10-09T14:45:09.239Z"
   },
   {
    "duration": 21,
    "start_time": "2022-10-09T14:45:09.243Z"
   },
   {
    "duration": 4,
    "start_time": "2022-10-09T14:45:09.265Z"
   },
   {
    "duration": 6,
    "start_time": "2022-10-09T14:45:09.271Z"
   },
   {
    "duration": 68,
    "start_time": "2022-10-09T14:45:09.278Z"
   },
   {
    "duration": 16,
    "start_time": "2022-10-09T14:45:09.347Z"
   },
   {
    "duration": 37,
    "start_time": "2022-10-09T14:45:09.365Z"
   },
   {
    "duration": 25,
    "start_time": "2022-10-09T14:45:09.403Z"
   },
   {
    "duration": 3,
    "start_time": "2022-10-09T14:45:09.429Z"
   },
   {
    "duration": 950,
    "start_time": "2022-10-09T14:45:09.434Z"
   },
   {
    "duration": 22,
    "start_time": "2022-10-09T14:45:10.386Z"
   },
   {
    "duration": 1989,
    "start_time": "2022-10-09T14:45:10.410Z"
   },
   {
    "duration": 16,
    "start_time": "2022-10-09T14:45:12.400Z"
   },
   {
    "duration": 1793,
    "start_time": "2022-10-09T14:45:12.418Z"
   },
   {
    "duration": 9,
    "start_time": "2022-10-09T14:45:14.214Z"
   },
   {
    "duration": 845,
    "start_time": "2022-10-09T14:45:14.225Z"
   },
   {
    "duration": 72,
    "start_time": "2022-10-09T14:45:15.072Z"
   },
   {
    "duration": 9,
    "start_time": "2022-10-09T14:45:15.146Z"
   },
   {
    "duration": 654,
    "start_time": "2022-10-09T14:45:15.157Z"
   },
   {
    "duration": 3,
    "start_time": "2022-10-09T14:45:15.813Z"
   },
   {
    "duration": 11,
    "start_time": "2022-10-09T14:45:15.818Z"
   },
   {
    "duration": 113,
    "start_time": "2022-10-09T14:45:15.832Z"
   },
   {
    "duration": 0,
    "start_time": "2022-10-09T14:45:15.946Z"
   },
   {
    "duration": 0,
    "start_time": "2022-10-09T14:45:15.948Z"
   },
   {
    "duration": 0,
    "start_time": "2022-10-09T14:45:15.949Z"
   },
   {
    "duration": 1,
    "start_time": "2022-10-09T14:45:15.950Z"
   },
   {
    "duration": 0,
    "start_time": "2022-10-09T14:45:15.952Z"
   },
   {
    "duration": 0,
    "start_time": "2022-10-09T14:45:15.954Z"
   },
   {
    "duration": 0,
    "start_time": "2022-10-09T14:45:15.956Z"
   },
   {
    "duration": 0,
    "start_time": "2022-10-09T14:45:15.957Z"
   },
   {
    "duration": 0,
    "start_time": "2022-10-09T14:45:15.958Z"
   },
   {
    "duration": 0,
    "start_time": "2022-10-09T14:45:15.960Z"
   },
   {
    "duration": 3,
    "start_time": "2022-10-09T14:45:41.426Z"
   },
   {
    "duration": 3,
    "start_time": "2022-10-09T14:45:46.187Z"
   },
   {
    "duration": 10,
    "start_time": "2022-10-09T14:48:15.151Z"
   },
   {
    "duration": 9,
    "start_time": "2022-10-09T14:48:54.675Z"
   },
   {
    "duration": 16,
    "start_time": "2022-10-09T14:49:11.011Z"
   },
   {
    "duration": 16,
    "start_time": "2022-10-09T14:49:46.909Z"
   },
   {
    "duration": 1281,
    "start_time": "2022-10-09T14:49:55.539Z"
   },
   {
    "duration": 653,
    "start_time": "2022-10-09T14:49:56.822Z"
   },
   {
    "duration": 3,
    "start_time": "2022-10-09T14:49:57.477Z"
   },
   {
    "duration": 360,
    "start_time": "2022-10-09T14:49:57.482Z"
   },
   {
    "duration": 158,
    "start_time": "2022-10-09T14:49:57.843Z"
   },
   {
    "duration": 333,
    "start_time": "2022-10-09T14:49:58.002Z"
   },
   {
    "duration": 3,
    "start_time": "2022-10-09T14:49:58.336Z"
   },
   {
    "duration": 20,
    "start_time": "2022-10-09T14:49:58.340Z"
   },
   {
    "duration": 4,
    "start_time": "2022-10-09T14:49:58.361Z"
   },
   {
    "duration": 10,
    "start_time": "2022-10-09T14:49:58.367Z"
   },
   {
    "duration": 63,
    "start_time": "2022-10-09T14:49:58.378Z"
   },
   {
    "duration": 13,
    "start_time": "2022-10-09T14:49:58.443Z"
   },
   {
    "duration": 25,
    "start_time": "2022-10-09T14:49:58.458Z"
   },
   {
    "duration": 38,
    "start_time": "2022-10-09T14:49:58.485Z"
   },
   {
    "duration": 3,
    "start_time": "2022-10-09T14:49:58.524Z"
   },
   {
    "duration": 910,
    "start_time": "2022-10-09T14:49:58.528Z"
   },
   {
    "duration": 16,
    "start_time": "2022-10-09T14:49:59.440Z"
   },
   {
    "duration": 1856,
    "start_time": "2022-10-09T14:49:59.458Z"
   },
   {
    "duration": 17,
    "start_time": "2022-10-09T14:50:01.316Z"
   },
   {
    "duration": 2004,
    "start_time": "2022-10-09T14:50:01.335Z"
   },
   {
    "duration": 8,
    "start_time": "2022-10-09T14:50:03.340Z"
   },
   {
    "duration": 1272,
    "start_time": "2022-10-09T14:50:03.400Z"
   },
   {
    "duration": 81,
    "start_time": "2022-10-09T14:50:04.673Z"
   },
   {
    "duration": 8,
    "start_time": "2022-10-09T14:50:04.755Z"
   },
   {
    "duration": 643,
    "start_time": "2022-10-09T14:50:04.764Z"
   },
   {
    "duration": 4,
    "start_time": "2022-10-09T14:50:05.409Z"
   },
   {
    "duration": 29,
    "start_time": "2022-10-09T14:50:05.414Z"
   },
   {
    "duration": 33,
    "start_time": "2022-10-09T14:50:05.447Z"
   },
   {
    "duration": 108,
    "start_time": "2022-10-09T14:50:05.482Z"
   },
   {
    "duration": 0,
    "start_time": "2022-10-09T14:50:05.592Z"
   },
   {
    "duration": 0,
    "start_time": "2022-10-09T14:50:05.593Z"
   },
   {
    "duration": 0,
    "start_time": "2022-10-09T14:50:05.600Z"
   },
   {
    "duration": 0,
    "start_time": "2022-10-09T14:50:05.601Z"
   },
   {
    "duration": 0,
    "start_time": "2022-10-09T14:50:05.602Z"
   },
   {
    "duration": 0,
    "start_time": "2022-10-09T14:50:05.603Z"
   },
   {
    "duration": 0,
    "start_time": "2022-10-09T14:50:05.604Z"
   },
   {
    "duration": 0,
    "start_time": "2022-10-09T14:50:05.605Z"
   },
   {
    "duration": 0,
    "start_time": "2022-10-09T14:50:05.606Z"
   },
   {
    "duration": 0,
    "start_time": "2022-10-09T14:50:05.607Z"
   },
   {
    "duration": 21,
    "start_time": "2022-10-09T14:51:20.087Z"
   },
   {
    "duration": 13,
    "start_time": "2022-10-09T14:52:58.014Z"
   },
   {
    "duration": 826,
    "start_time": "2022-10-09T14:52:58.674Z"
   },
   {
    "duration": 1355,
    "start_time": "2022-10-09T14:53:41.692Z"
   },
   {
    "duration": 636,
    "start_time": "2022-10-09T14:53:43.049Z"
   },
   {
    "duration": 3,
    "start_time": "2022-10-09T14:53:43.687Z"
   },
   {
    "duration": 354,
    "start_time": "2022-10-09T14:53:43.691Z"
   },
   {
    "duration": 295,
    "start_time": "2022-10-09T14:53:44.046Z"
   },
   {
    "duration": 768,
    "start_time": "2022-10-09T14:53:44.343Z"
   },
   {
    "duration": 3,
    "start_time": "2022-10-09T14:53:45.113Z"
   },
   {
    "duration": 20,
    "start_time": "2022-10-09T14:53:45.118Z"
   },
   {
    "duration": 5,
    "start_time": "2022-10-09T14:53:45.139Z"
   },
   {
    "duration": 59,
    "start_time": "2022-10-09T14:53:45.146Z"
   },
   {
    "duration": 105,
    "start_time": "2022-10-09T14:53:45.207Z"
   },
   {
    "duration": 19,
    "start_time": "2022-10-09T14:53:45.316Z"
   },
   {
    "duration": 77,
    "start_time": "2022-10-09T14:53:45.336Z"
   },
   {
    "duration": 26,
    "start_time": "2022-10-09T14:53:45.414Z"
   },
   {
    "duration": 58,
    "start_time": "2022-10-09T14:53:45.442Z"
   },
   {
    "duration": 1059,
    "start_time": "2022-10-09T14:53:45.502Z"
   },
   {
    "duration": 17,
    "start_time": "2022-10-09T14:53:46.563Z"
   },
   {
    "duration": 1915,
    "start_time": "2022-10-09T14:53:46.582Z"
   },
   {
    "duration": 17,
    "start_time": "2022-10-09T14:53:48.500Z"
   },
   {
    "duration": 1634,
    "start_time": "2022-10-09T14:53:48.518Z"
   },
   {
    "duration": 8,
    "start_time": "2022-10-09T14:53:50.153Z"
   },
   {
    "duration": 740,
    "start_time": "2022-10-09T14:53:50.162Z"
   },
   {
    "duration": 60,
    "start_time": "2022-10-09T14:53:50.903Z"
   },
   {
    "duration": 8,
    "start_time": "2022-10-09T14:53:50.965Z"
   },
   {
    "duration": 657,
    "start_time": "2022-10-09T14:53:50.974Z"
   },
   {
    "duration": 3,
    "start_time": "2022-10-09T14:53:51.632Z"
   },
   {
    "duration": 5,
    "start_time": "2022-10-09T14:53:51.637Z"
   },
   {
    "duration": 18,
    "start_time": "2022-10-09T14:53:51.644Z"
   },
   {
    "duration": 9,
    "start_time": "2022-10-09T14:53:51.663Z"
   },
   {
    "duration": 150,
    "start_time": "2022-10-09T14:53:51.673Z"
   },
   {
    "duration": 0,
    "start_time": "2022-10-09T14:53:51.826Z"
   },
   {
    "duration": 0,
    "start_time": "2022-10-09T14:53:51.827Z"
   },
   {
    "duration": 0,
    "start_time": "2022-10-09T14:53:51.829Z"
   },
   {
    "duration": 0,
    "start_time": "2022-10-09T14:53:51.830Z"
   },
   {
    "duration": 0,
    "start_time": "2022-10-09T14:53:51.831Z"
   },
   {
    "duration": 0,
    "start_time": "2022-10-09T14:53:51.832Z"
   },
   {
    "duration": 0,
    "start_time": "2022-10-09T14:53:51.834Z"
   },
   {
    "duration": 0,
    "start_time": "2022-10-09T14:53:51.835Z"
   },
   {
    "duration": 0,
    "start_time": "2022-10-09T14:53:51.836Z"
   },
   {
    "duration": 0,
    "start_time": "2022-10-09T14:53:51.837Z"
   },
   {
    "duration": 11,
    "start_time": "2022-10-09T14:56:04.602Z"
   },
   {
    "duration": 19,
    "start_time": "2022-10-09T14:56:16.406Z"
   },
   {
    "duration": 2,
    "start_time": "2022-10-09T14:57:16.846Z"
   },
   {
    "duration": 21,
    "start_time": "2022-10-09T14:57:22.324Z"
   },
   {
    "duration": 9,
    "start_time": "2022-10-09T14:58:16.194Z"
   },
   {
    "duration": 1307,
    "start_time": "2022-10-09T14:59:39.229Z"
   },
   {
    "duration": 642,
    "start_time": "2022-10-09T14:59:40.538Z"
   },
   {
    "duration": 3,
    "start_time": "2022-10-09T14:59:41.182Z"
   },
   {
    "duration": 374,
    "start_time": "2022-10-09T14:59:41.187Z"
   },
   {
    "duration": 187,
    "start_time": "2022-10-09T14:59:41.563Z"
   },
   {
    "duration": 346,
    "start_time": "2022-10-09T14:59:41.751Z"
   },
   {
    "duration": 3,
    "start_time": "2022-10-09T14:59:42.100Z"
   },
   {
    "duration": 15,
    "start_time": "2022-10-09T14:59:42.105Z"
   },
   {
    "duration": 3,
    "start_time": "2022-10-09T14:59:42.122Z"
   },
   {
    "duration": 6,
    "start_time": "2022-10-09T14:59:42.128Z"
   },
   {
    "duration": 71,
    "start_time": "2022-10-09T14:59:42.135Z"
   },
   {
    "duration": 14,
    "start_time": "2022-10-09T14:59:42.208Z"
   },
   {
    "duration": 24,
    "start_time": "2022-10-09T14:59:42.223Z"
   },
   {
    "duration": 23,
    "start_time": "2022-10-09T14:59:42.249Z"
   },
   {
    "duration": 2,
    "start_time": "2022-10-09T14:59:42.274Z"
   },
   {
    "duration": 908,
    "start_time": "2022-10-09T14:59:42.277Z"
   },
   {
    "duration": 24,
    "start_time": "2022-10-09T14:59:43.187Z"
   },
   {
    "duration": 2061,
    "start_time": "2022-10-09T14:59:43.213Z"
   },
   {
    "duration": 26,
    "start_time": "2022-10-09T14:59:45.275Z"
   },
   {
    "duration": 1779,
    "start_time": "2022-10-09T14:59:45.303Z"
   },
   {
    "duration": 16,
    "start_time": "2022-10-09T14:59:47.084Z"
   },
   {
    "duration": 772,
    "start_time": "2022-10-09T14:59:47.101Z"
   },
   {
    "duration": 68,
    "start_time": "2022-10-09T14:59:47.875Z"
   },
   {
    "duration": 7,
    "start_time": "2022-10-09T14:59:47.945Z"
   },
   {
    "duration": 619,
    "start_time": "2022-10-09T14:59:47.954Z"
   },
   {
    "duration": 4,
    "start_time": "2022-10-09T14:59:48.575Z"
   },
   {
    "duration": 12,
    "start_time": "2022-10-09T14:59:48.580Z"
   },
   {
    "duration": 429,
    "start_time": "2022-10-09T14:59:48.602Z"
   },
   {
    "duration": 0,
    "start_time": "2022-10-09T14:59:49.033Z"
   },
   {
    "duration": 0,
    "start_time": "2022-10-09T14:59:49.035Z"
   },
   {
    "duration": 0,
    "start_time": "2022-10-09T14:59:49.036Z"
   },
   {
    "duration": 0,
    "start_time": "2022-10-09T14:59:49.037Z"
   },
   {
    "duration": 1361,
    "start_time": "2022-10-09T15:00:23.576Z"
   },
   {
    "duration": 637,
    "start_time": "2022-10-09T15:00:24.939Z"
   },
   {
    "duration": 3,
    "start_time": "2022-10-09T15:00:25.578Z"
   },
   {
    "duration": 353,
    "start_time": "2022-10-09T15:00:25.582Z"
   },
   {
    "duration": 165,
    "start_time": "2022-10-09T15:00:25.937Z"
   },
   {
    "duration": 345,
    "start_time": "2022-10-09T15:00:26.103Z"
   },
   {
    "duration": 3,
    "start_time": "2022-10-09T15:00:26.450Z"
   },
   {
    "duration": 17,
    "start_time": "2022-10-09T15:00:26.455Z"
   },
   {
    "duration": 4,
    "start_time": "2022-10-09T15:00:26.473Z"
   },
   {
    "duration": 23,
    "start_time": "2022-10-09T15:00:26.478Z"
   },
   {
    "duration": 54,
    "start_time": "2022-10-09T15:00:26.503Z"
   },
   {
    "duration": 16,
    "start_time": "2022-10-09T15:00:26.559Z"
   },
   {
    "duration": 45,
    "start_time": "2022-10-09T15:00:26.577Z"
   },
   {
    "duration": 27,
    "start_time": "2022-10-09T15:00:26.625Z"
   },
   {
    "duration": 3,
    "start_time": "2022-10-09T15:00:26.654Z"
   },
   {
    "duration": 930,
    "start_time": "2022-10-09T15:00:26.659Z"
   },
   {
    "duration": 24,
    "start_time": "2022-10-09T15:00:27.591Z"
   },
   {
    "duration": 1906,
    "start_time": "2022-10-09T15:00:27.616Z"
   },
   {
    "duration": 15,
    "start_time": "2022-10-09T15:00:29.524Z"
   },
   {
    "duration": 1702,
    "start_time": "2022-10-09T15:00:29.540Z"
   },
   {
    "duration": 8,
    "start_time": "2022-10-09T15:00:31.243Z"
   },
   {
    "duration": 767,
    "start_time": "2022-10-09T15:00:31.253Z"
   },
   {
    "duration": 60,
    "start_time": "2022-10-09T15:00:32.021Z"
   },
   {
    "duration": 21,
    "start_time": "2022-10-09T15:00:32.083Z"
   },
   {
    "duration": 608,
    "start_time": "2022-10-09T15:00:32.106Z"
   },
   {
    "duration": 4,
    "start_time": "2022-10-09T15:00:32.715Z"
   },
   {
    "duration": 12,
    "start_time": "2022-10-09T15:00:32.720Z"
   },
   {
    "duration": 349,
    "start_time": "2022-10-09T15:00:32.734Z"
   },
   {
    "duration": 344,
    "start_time": "2022-10-09T15:00:33.084Z"
   },
   {
    "duration": 444,
    "start_time": "2022-10-09T15:00:33.430Z"
   },
   {
    "duration": 0,
    "start_time": "2022-10-09T15:00:33.875Z"
   },
   {
    "duration": 0,
    "start_time": "2022-10-09T15:00:33.876Z"
   },
   {
    "duration": 1301,
    "start_time": "2022-10-09T15:02:15.610Z"
   },
   {
    "duration": 637,
    "start_time": "2022-10-09T15:02:16.913Z"
   },
   {
    "duration": 3,
    "start_time": "2022-10-09T15:02:17.551Z"
   },
   {
    "duration": 353,
    "start_time": "2022-10-09T15:02:17.556Z"
   },
   {
    "duration": 162,
    "start_time": "2022-10-09T15:02:17.911Z"
   },
   {
    "duration": 346,
    "start_time": "2022-10-09T15:02:18.074Z"
   },
   {
    "duration": 3,
    "start_time": "2022-10-09T15:02:18.421Z"
   },
   {
    "duration": 15,
    "start_time": "2022-10-09T15:02:18.426Z"
   },
   {
    "duration": 4,
    "start_time": "2022-10-09T15:02:18.442Z"
   },
   {
    "duration": 6,
    "start_time": "2022-10-09T15:02:18.448Z"
   },
   {
    "duration": 70,
    "start_time": "2022-10-09T15:02:18.455Z"
   },
   {
    "duration": 14,
    "start_time": "2022-10-09T15:02:18.527Z"
   },
   {
    "duration": 24,
    "start_time": "2022-10-09T15:02:18.542Z"
   },
   {
    "duration": 46,
    "start_time": "2022-10-09T15:02:18.568Z"
   },
   {
    "duration": 3,
    "start_time": "2022-10-09T15:02:18.616Z"
   },
   {
    "duration": 962,
    "start_time": "2022-10-09T15:02:18.620Z"
   },
   {
    "duration": 28,
    "start_time": "2022-10-09T15:02:19.584Z"
   },
   {
    "duration": 1969,
    "start_time": "2022-10-09T15:02:19.613Z"
   },
   {
    "duration": 21,
    "start_time": "2022-10-09T15:02:21.584Z"
   },
   {
    "duration": 1701,
    "start_time": "2022-10-09T15:02:21.607Z"
   },
   {
    "duration": 8,
    "start_time": "2022-10-09T15:02:23.310Z"
   },
   {
    "duration": 814,
    "start_time": "2022-10-09T15:02:23.320Z"
   },
   {
    "duration": 79,
    "start_time": "2022-10-09T15:02:24.136Z"
   },
   {
    "duration": 10,
    "start_time": "2022-10-09T15:02:24.216Z"
   },
   {
    "duration": 724,
    "start_time": "2022-10-09T15:02:24.228Z"
   },
   {
    "duration": 4,
    "start_time": "2022-10-09T15:02:24.953Z"
   },
   {
    "duration": 13,
    "start_time": "2022-10-09T15:02:24.958Z"
   },
   {
    "duration": 2631,
    "start_time": "2022-10-09T15:02:24.975Z"
   },
   {
    "duration": 6415,
    "start_time": "2022-10-09T15:02:27.609Z"
   },
   {
    "duration": 13957,
    "start_time": "2022-10-09T15:02:34.025Z"
   },
   {
    "duration": 0,
    "start_time": "2022-10-09T15:02:47.983Z"
   },
   {
    "duration": 0,
    "start_time": "2022-10-09T15:02:47.984Z"
   },
   {
    "duration": 3,
    "start_time": "2022-10-09T15:03:22.827Z"
   },
   {
    "duration": 2522,
    "start_time": "2022-10-09T15:03:28.377Z"
   },
   {
    "duration": 6429,
    "start_time": "2022-10-09T15:03:33.191Z"
   },
   {
    "duration": 13809,
    "start_time": "2022-10-09T15:03:40.829Z"
   },
   {
    "duration": 38032,
    "start_time": "2022-10-09T15:04:33.882Z"
   },
   {
    "duration": 1308,
    "start_time": "2022-10-09T15:07:18.387Z"
   },
   {
    "duration": 632,
    "start_time": "2022-10-09T15:07:19.697Z"
   },
   {
    "duration": 3,
    "start_time": "2022-10-09T15:07:20.331Z"
   },
   {
    "duration": 372,
    "start_time": "2022-10-09T15:07:20.335Z"
   },
   {
    "duration": 166,
    "start_time": "2022-10-09T15:07:20.709Z"
   },
   {
    "duration": 369,
    "start_time": "2022-10-09T15:07:20.876Z"
   },
   {
    "duration": 3,
    "start_time": "2022-10-09T15:07:21.247Z"
   },
   {
    "duration": 18,
    "start_time": "2022-10-09T15:07:21.251Z"
   },
   {
    "duration": 3,
    "start_time": "2022-10-09T15:07:21.271Z"
   },
   {
    "duration": 10,
    "start_time": "2022-10-09T15:07:21.276Z"
   },
   {
    "duration": 68,
    "start_time": "2022-10-09T15:07:21.287Z"
   },
   {
    "duration": 13,
    "start_time": "2022-10-09T15:07:21.356Z"
   },
   {
    "duration": 35,
    "start_time": "2022-10-09T15:07:21.371Z"
   },
   {
    "duration": 26,
    "start_time": "2022-10-09T15:07:21.409Z"
   },
   {
    "duration": 3,
    "start_time": "2022-10-09T15:07:21.437Z"
   },
   {
    "duration": 958,
    "start_time": "2022-10-09T15:07:21.442Z"
   },
   {
    "duration": 17,
    "start_time": "2022-10-09T15:07:22.402Z"
   },
   {
    "duration": 2035,
    "start_time": "2022-10-09T15:07:22.421Z"
   },
   {
    "duration": 19,
    "start_time": "2022-10-09T15:07:24.458Z"
   },
   {
    "duration": 1770,
    "start_time": "2022-10-09T15:07:24.479Z"
   },
   {
    "duration": 10,
    "start_time": "2022-10-09T15:07:26.251Z"
   },
   {
    "duration": 757,
    "start_time": "2022-10-09T15:07:26.262Z"
   },
   {
    "duration": 59,
    "start_time": "2022-10-09T15:07:27.020Z"
   },
   {
    "duration": 21,
    "start_time": "2022-10-09T15:07:27.081Z"
   },
   {
    "duration": 637,
    "start_time": "2022-10-09T15:07:27.104Z"
   },
   {
    "duration": 3,
    "start_time": "2022-10-09T15:07:27.743Z"
   },
   {
    "duration": 6,
    "start_time": "2022-10-09T15:07:27.748Z"
   },
   {
    "duration": 16,
    "start_time": "2022-10-09T15:07:27.755Z"
   },
   {
    "duration": 2232,
    "start_time": "2022-10-09T15:07:27.772Z"
   },
   {
    "duration": 6400,
    "start_time": "2022-10-09T15:07:30.006Z"
   },
   {
    "duration": 37871,
    "start_time": "2022-10-09T15:07:36.407Z"
   },
   {
    "duration": 3682,
    "start_time": "2022-10-09T15:08:14.279Z"
   },
   {
    "duration": 0,
    "start_time": "2022-10-09T15:08:17.963Z"
   },
   {
    "duration": 6228,
    "start_time": "2022-10-09T15:10:01.943Z"
   },
   {
    "duration": 5,
    "start_time": "2022-10-09T15:13:44.506Z"
   },
   {
    "duration": 6,
    "start_time": "2022-10-09T15:13:48.790Z"
   },
   {
    "duration": 6142,
    "start_time": "2022-10-09T15:15:08.544Z"
   },
   {
    "duration": 9,
    "start_time": "2022-10-09T15:18:06.265Z"
   },
   {
    "duration": 10,
    "start_time": "2022-10-09T15:20:11.203Z"
   },
   {
    "duration": 10,
    "start_time": "2022-10-09T15:20:14.015Z"
   },
   {
    "duration": 9,
    "start_time": "2022-10-09T15:20:38.448Z"
   },
   {
    "duration": 18,
    "start_time": "2022-10-09T15:20:42.662Z"
   },
   {
    "duration": 3,
    "start_time": "2022-10-09T15:23:43.074Z"
   },
   {
    "duration": 18,
    "start_time": "2022-10-09T15:23:49.509Z"
   },
   {
    "duration": 41,
    "start_time": "2022-10-09T15:26:17.162Z"
   },
   {
    "duration": 5,
    "start_time": "2022-10-09T15:27:17.380Z"
   },
   {
    "duration": 39,
    "start_time": "2022-10-09T15:27:19.514Z"
   },
   {
    "duration": 8,
    "start_time": "2022-10-09T15:27:45.105Z"
   },
   {
    "duration": 27,
    "start_time": "2022-10-09T15:28:08.253Z"
   },
   {
    "duration": 16,
    "start_time": "2022-10-09T15:28:14.285Z"
   },
   {
    "duration": 10369,
    "start_time": "2022-10-09T15:28:44.844Z"
   },
   {
    "duration": 10348,
    "start_time": "2022-10-09T15:29:16.581Z"
   },
   {
    "duration": 17,
    "start_time": "2022-10-09T15:29:39.344Z"
   },
   {
    "duration": 13,
    "start_time": "2022-10-09T15:30:10.301Z"
   },
   {
    "duration": 9,
    "start_time": "2022-10-09T15:30:18.250Z"
   },
   {
    "duration": 1281,
    "start_time": "2022-10-09T15:34:00.249Z"
   },
   {
    "duration": 665,
    "start_time": "2022-10-09T15:34:01.533Z"
   },
   {
    "duration": 3,
    "start_time": "2022-10-09T15:34:02.200Z"
   },
   {
    "duration": 375,
    "start_time": "2022-10-09T15:34:02.205Z"
   },
   {
    "duration": 167,
    "start_time": "2022-10-09T15:34:02.582Z"
   },
   {
    "duration": 371,
    "start_time": "2022-10-09T15:34:02.751Z"
   },
   {
    "duration": 3,
    "start_time": "2022-10-09T15:34:03.124Z"
   },
   {
    "duration": 18,
    "start_time": "2022-10-09T15:34:03.129Z"
   },
   {
    "duration": 4,
    "start_time": "2022-10-09T15:34:03.148Z"
   },
   {
    "duration": 7,
    "start_time": "2022-10-09T15:34:03.153Z"
   },
   {
    "duration": 72,
    "start_time": "2022-10-09T15:34:03.161Z"
   },
   {
    "duration": 14,
    "start_time": "2022-10-09T15:34:03.235Z"
   },
   {
    "duration": 25,
    "start_time": "2022-10-09T15:34:03.251Z"
   },
   {
    "duration": 40,
    "start_time": "2022-10-09T15:34:03.279Z"
   },
   {
    "duration": 3,
    "start_time": "2022-10-09T15:34:03.320Z"
   },
   {
    "duration": 963,
    "start_time": "2022-10-09T15:34:03.325Z"
   },
   {
    "duration": 22,
    "start_time": "2022-10-09T15:34:04.290Z"
   },
   {
    "duration": 1888,
    "start_time": "2022-10-09T15:34:04.313Z"
   },
   {
    "duration": 15,
    "start_time": "2022-10-09T15:34:06.203Z"
   },
   {
    "duration": 1651,
    "start_time": "2022-10-09T15:34:06.220Z"
   },
   {
    "duration": 9,
    "start_time": "2022-10-09T15:34:07.873Z"
   },
   {
    "duration": 750,
    "start_time": "2022-10-09T15:34:07.883Z"
   },
   {
    "duration": 56,
    "start_time": "2022-10-09T15:34:08.634Z"
   },
   {
    "duration": 9,
    "start_time": "2022-10-09T15:34:08.699Z"
   },
   {
    "duration": 624,
    "start_time": "2022-10-09T15:34:08.709Z"
   },
   {
    "duration": 3,
    "start_time": "2022-10-09T15:34:09.335Z"
   },
   {
    "duration": 7,
    "start_time": "2022-10-09T15:34:09.340Z"
   },
   {
    "duration": 9,
    "start_time": "2022-10-09T15:34:09.348Z"
   },
   {
    "duration": 12,
    "start_time": "2022-10-09T15:34:09.358Z"
   },
   {
    "duration": 2137,
    "start_time": "2022-10-09T15:34:09.372Z"
   },
   {
    "duration": 5313,
    "start_time": "2022-10-09T15:34:11.602Z"
   },
   {
    "duration": 30139,
    "start_time": "2022-10-09T15:34:16.917Z"
   },
   {
    "duration": 10429,
    "start_time": "2022-10-09T15:34:47.058Z"
   },
   {
    "duration": 14,
    "start_time": "2022-10-09T15:34:57.488Z"
   },
   {
    "duration": 1330,
    "start_time": "2022-10-09T15:41:21.222Z"
   },
   {
    "duration": 621,
    "start_time": "2022-10-09T15:41:22.554Z"
   },
   {
    "duration": 3,
    "start_time": "2022-10-09T15:41:23.177Z"
   },
   {
    "duration": 376,
    "start_time": "2022-10-09T15:41:23.182Z"
   },
   {
    "duration": 171,
    "start_time": "2022-10-09T15:41:23.560Z"
   },
   {
    "duration": 350,
    "start_time": "2022-10-09T15:41:23.733Z"
   },
   {
    "duration": 4,
    "start_time": "2022-10-09T15:41:24.085Z"
   },
   {
    "duration": 17,
    "start_time": "2022-10-09T15:41:24.100Z"
   },
   {
    "duration": 4,
    "start_time": "2022-10-09T15:41:24.119Z"
   },
   {
    "duration": 7,
    "start_time": "2022-10-09T15:41:24.125Z"
   },
   {
    "duration": 85,
    "start_time": "2022-10-09T15:41:24.134Z"
   },
   {
    "duration": 19,
    "start_time": "2022-10-09T15:41:24.221Z"
   },
   {
    "duration": 33,
    "start_time": "2022-10-09T15:41:24.242Z"
   },
   {
    "duration": 3,
    "start_time": "2022-10-09T15:41:24.277Z"
   },
   {
    "duration": 999,
    "start_time": "2022-10-09T15:41:24.282Z"
   },
   {
    "duration": 28,
    "start_time": "2022-10-09T15:41:25.283Z"
   },
   {
    "duration": 1895,
    "start_time": "2022-10-09T15:41:25.313Z"
   },
   {
    "duration": 15,
    "start_time": "2022-10-09T15:41:27.209Z"
   },
   {
    "duration": 1880,
    "start_time": "2022-10-09T15:41:27.226Z"
   },
   {
    "duration": 8,
    "start_time": "2022-10-09T15:41:29.108Z"
   },
   {
    "duration": 760,
    "start_time": "2022-10-09T15:41:29.117Z"
   },
   {
    "duration": 68,
    "start_time": "2022-10-09T15:41:29.879Z"
   },
   {
    "duration": 8,
    "start_time": "2022-10-09T15:41:29.949Z"
   },
   {
    "duration": 625,
    "start_time": "2022-10-09T15:41:29.959Z"
   },
   {
    "duration": 3,
    "start_time": "2022-10-09T15:41:30.586Z"
   },
   {
    "duration": 2,
    "start_time": "2022-10-09T15:41:30.600Z"
   },
   {
    "duration": 28,
    "start_time": "2022-10-09T15:41:30.604Z"
   },
   {
    "duration": 21,
    "start_time": "2022-10-09T15:41:30.636Z"
   },
   {
    "duration": 61,
    "start_time": "2022-10-09T15:41:30.659Z"
   },
   {
    "duration": 51,
    "start_time": "2022-10-09T15:41:30.722Z"
   },
   {
    "duration": 59,
    "start_time": "2022-10-09T15:41:30.775Z"
   },
   {
    "duration": 118,
    "start_time": "2022-10-09T15:41:30.836Z"
   },
   {
    "duration": 0,
    "start_time": "2022-10-09T15:41:30.956Z"
   },
   {
    "duration": 18,
    "start_time": "2022-10-09T15:45:20.557Z"
   },
   {
    "duration": 1299,
    "start_time": "2022-10-09T15:45:28.915Z"
   },
   {
    "duration": 631,
    "start_time": "2022-10-09T15:45:30.216Z"
   },
   {
    "duration": 4,
    "start_time": "2022-10-09T15:45:30.849Z"
   },
   {
    "duration": 386,
    "start_time": "2022-10-09T15:45:30.855Z"
   },
   {
    "duration": 168,
    "start_time": "2022-10-09T15:45:31.244Z"
   },
   {
    "duration": 362,
    "start_time": "2022-10-09T15:45:31.413Z"
   },
   {
    "duration": 3,
    "start_time": "2022-10-09T15:45:31.776Z"
   },
   {
    "duration": 29,
    "start_time": "2022-10-09T15:45:31.781Z"
   },
   {
    "duration": 5,
    "start_time": "2022-10-09T15:45:31.811Z"
   },
   {
    "duration": 9,
    "start_time": "2022-10-09T15:45:31.818Z"
   },
   {
    "duration": 56,
    "start_time": "2022-10-09T15:45:31.829Z"
   },
   {
    "duration": 15,
    "start_time": "2022-10-09T15:45:31.900Z"
   },
   {
    "duration": 122,
    "start_time": "2022-10-09T15:45:31.917Z"
   },
   {
    "duration": 0,
    "start_time": "2022-10-09T15:45:32.041Z"
   },
   {
    "duration": 0,
    "start_time": "2022-10-09T15:45:32.042Z"
   },
   {
    "duration": 0,
    "start_time": "2022-10-09T15:45:32.044Z"
   },
   {
    "duration": 0,
    "start_time": "2022-10-09T15:45:32.045Z"
   },
   {
    "duration": 0,
    "start_time": "2022-10-09T15:45:32.046Z"
   },
   {
    "duration": 0,
    "start_time": "2022-10-09T15:45:32.047Z"
   },
   {
    "duration": 0,
    "start_time": "2022-10-09T15:45:32.048Z"
   },
   {
    "duration": 0,
    "start_time": "2022-10-09T15:45:32.049Z"
   },
   {
    "duration": 0,
    "start_time": "2022-10-09T15:45:32.050Z"
   },
   {
    "duration": 0,
    "start_time": "2022-10-09T15:45:32.052Z"
   },
   {
    "duration": 0,
    "start_time": "2022-10-09T15:45:32.053Z"
   },
   {
    "duration": 0,
    "start_time": "2022-10-09T15:45:32.054Z"
   },
   {
    "duration": 0,
    "start_time": "2022-10-09T15:45:32.055Z"
   },
   {
    "duration": 0,
    "start_time": "2022-10-09T15:45:32.056Z"
   },
   {
    "duration": 0,
    "start_time": "2022-10-09T15:45:32.057Z"
   },
   {
    "duration": 0,
    "start_time": "2022-10-09T15:45:32.058Z"
   },
   {
    "duration": 0,
    "start_time": "2022-10-09T15:45:32.059Z"
   },
   {
    "duration": 0,
    "start_time": "2022-10-09T15:45:32.060Z"
   },
   {
    "duration": 0,
    "start_time": "2022-10-09T15:45:32.062Z"
   },
   {
    "duration": 0,
    "start_time": "2022-10-09T15:45:32.101Z"
   },
   {
    "duration": 0,
    "start_time": "2022-10-09T15:45:32.102Z"
   },
   {
    "duration": 1301,
    "start_time": "2022-10-09T15:47:11.384Z"
   },
   {
    "duration": 636,
    "start_time": "2022-10-09T15:47:12.687Z"
   },
   {
    "duration": 4,
    "start_time": "2022-10-09T15:47:13.325Z"
   },
   {
    "duration": 383,
    "start_time": "2022-10-09T15:47:13.331Z"
   },
   {
    "duration": 161,
    "start_time": "2022-10-09T15:47:13.715Z"
   },
   {
    "duration": 387,
    "start_time": "2022-10-09T15:47:13.877Z"
   },
   {
    "duration": 3,
    "start_time": "2022-10-09T15:47:14.266Z"
   },
   {
    "duration": 22,
    "start_time": "2022-10-09T15:47:14.270Z"
   },
   {
    "duration": 8,
    "start_time": "2022-10-09T15:47:14.294Z"
   },
   {
    "duration": 23,
    "start_time": "2022-10-09T15:47:14.305Z"
   },
   {
    "duration": 75,
    "start_time": "2022-10-09T15:47:14.330Z"
   },
   {
    "duration": 21,
    "start_time": "2022-10-09T15:47:14.407Z"
   },
   {
    "duration": 31,
    "start_time": "2022-10-09T15:47:14.430Z"
   },
   {
    "duration": 148,
    "start_time": "2022-10-09T15:47:14.464Z"
   },
   {
    "duration": 0,
    "start_time": "2022-10-09T15:47:14.614Z"
   },
   {
    "duration": 0,
    "start_time": "2022-10-09T15:47:14.615Z"
   },
   {
    "duration": 0,
    "start_time": "2022-10-09T15:47:14.617Z"
   },
   {
    "duration": 0,
    "start_time": "2022-10-09T15:47:14.619Z"
   },
   {
    "duration": 0,
    "start_time": "2022-10-09T15:47:14.620Z"
   },
   {
    "duration": 0,
    "start_time": "2022-10-09T15:47:14.621Z"
   },
   {
    "duration": 0,
    "start_time": "2022-10-09T15:47:14.622Z"
   },
   {
    "duration": 0,
    "start_time": "2022-10-09T15:47:14.624Z"
   },
   {
    "duration": 0,
    "start_time": "2022-10-09T15:47:14.625Z"
   },
   {
    "duration": 0,
    "start_time": "2022-10-09T15:47:14.627Z"
   },
   {
    "duration": 0,
    "start_time": "2022-10-09T15:47:14.628Z"
   },
   {
    "duration": 0,
    "start_time": "2022-10-09T15:47:14.629Z"
   },
   {
    "duration": 0,
    "start_time": "2022-10-09T15:47:14.631Z"
   },
   {
    "duration": 0,
    "start_time": "2022-10-09T15:47:14.632Z"
   },
   {
    "duration": 0,
    "start_time": "2022-10-09T15:47:14.633Z"
   },
   {
    "duration": 0,
    "start_time": "2022-10-09T15:47:14.635Z"
   },
   {
    "duration": 0,
    "start_time": "2022-10-09T15:47:14.636Z"
   },
   {
    "duration": 0,
    "start_time": "2022-10-09T15:47:14.637Z"
   },
   {
    "duration": 0,
    "start_time": "2022-10-09T15:47:14.639Z"
   },
   {
    "duration": 0,
    "start_time": "2022-10-09T15:47:14.640Z"
   },
   {
    "duration": 11,
    "start_time": "2022-10-09T15:48:13.320Z"
   },
   {
    "duration": 11,
    "start_time": "2022-10-09T15:48:27.090Z"
   },
   {
    "duration": 10,
    "start_time": "2022-10-09T15:49:19.211Z"
   },
   {
    "duration": 12,
    "start_time": "2022-10-09T15:49:27.756Z"
   },
   {
    "duration": 13,
    "start_time": "2022-10-09T15:49:36.136Z"
   },
   {
    "duration": 12,
    "start_time": "2022-10-09T15:49:47.070Z"
   },
   {
    "duration": 1314,
    "start_time": "2022-10-09T15:49:56.301Z"
   },
   {
    "duration": 598,
    "start_time": "2022-10-09T15:49:57.617Z"
   },
   {
    "duration": 5,
    "start_time": "2022-10-09T15:49:58.216Z"
   },
   {
    "duration": 374,
    "start_time": "2022-10-09T15:49:58.224Z"
   },
   {
    "duration": 174,
    "start_time": "2022-10-09T15:49:58.600Z"
   },
   {
    "duration": 354,
    "start_time": "2022-10-09T15:49:58.775Z"
   },
   {
    "duration": 4,
    "start_time": "2022-10-09T15:49:59.130Z"
   },
   {
    "duration": 21,
    "start_time": "2022-10-09T15:49:59.136Z"
   },
   {
    "duration": 6,
    "start_time": "2022-10-09T15:49:59.159Z"
   },
   {
    "duration": 5,
    "start_time": "2022-10-09T15:49:59.168Z"
   },
   {
    "duration": 71,
    "start_time": "2022-10-09T15:49:59.174Z"
   },
   {
    "duration": 14,
    "start_time": "2022-10-09T15:49:59.246Z"
   },
   {
    "duration": 15,
    "start_time": "2022-10-09T15:49:59.262Z"
   },
   {
    "duration": 29,
    "start_time": "2022-10-09T15:49:59.279Z"
   },
   {
    "duration": 12,
    "start_time": "2022-10-09T15:49:59.309Z"
   },
   {
    "duration": 960,
    "start_time": "2022-10-09T15:49:59.323Z"
   },
   {
    "duration": 41,
    "start_time": "2022-10-09T15:50:00.285Z"
   },
   {
    "duration": 1961,
    "start_time": "2022-10-09T15:50:00.328Z"
   },
   {
    "duration": 23,
    "start_time": "2022-10-09T15:50:02.290Z"
   },
   {
    "duration": 2645,
    "start_time": "2022-10-09T15:50:02.315Z"
   },
   {
    "duration": 8,
    "start_time": "2022-10-09T15:50:04.961Z"
   },
   {
    "duration": 760,
    "start_time": "2022-10-09T15:50:04.970Z"
   },
   {
    "duration": 83,
    "start_time": "2022-10-09T15:50:05.731Z"
   },
   {
    "duration": 8,
    "start_time": "2022-10-09T15:50:05.816Z"
   },
   {
    "duration": 678,
    "start_time": "2022-10-09T15:50:05.825Z"
   },
   {
    "duration": 4,
    "start_time": "2022-10-09T15:50:06.505Z"
   },
   {
    "duration": 13,
    "start_time": "2022-10-09T15:50:06.510Z"
   },
   {
    "duration": 6,
    "start_time": "2022-10-09T15:50:06.527Z"
   },
   {
    "duration": 116,
    "start_time": "2022-10-09T15:50:06.535Z"
   },
   {
    "duration": 0,
    "start_time": "2022-10-09T15:50:06.653Z"
   },
   {
    "duration": 0,
    "start_time": "2022-10-09T15:50:06.654Z"
   },
   {
    "duration": 0,
    "start_time": "2022-10-09T15:50:06.655Z"
   },
   {
    "duration": 0,
    "start_time": "2022-10-09T15:50:06.656Z"
   },
   {
    "duration": 0,
    "start_time": "2022-10-09T15:50:06.657Z"
   },
   {
    "duration": 8,
    "start_time": "2022-10-09T15:50:57.223Z"
   },
   {
    "duration": 1861,
    "start_time": "2022-10-09T15:50:59.040Z"
   },
   {
    "duration": 5196,
    "start_time": "2022-10-09T15:51:04.273Z"
   },
   {
    "duration": 29778,
    "start_time": "2022-10-09T15:51:10.749Z"
   },
   {
    "duration": 46294,
    "start_time": "2022-10-09T15:52:02.040Z"
   },
   {
    "duration": 61267,
    "start_time": "2022-10-09T15:54:08.974Z"
   },
   {
    "duration": 79231,
    "start_time": "2022-10-09T15:55:23.793Z"
   },
   {
    "duration": 26112,
    "start_time": "2022-10-09T15:57:09.571Z"
   },
   {
    "duration": 18,
    "start_time": "2022-10-09T15:57:35.685Z"
   },
   {
    "duration": 1276,
    "start_time": "2022-10-09T15:58:00.444Z"
   },
   {
    "duration": 629,
    "start_time": "2022-10-09T15:58:01.722Z"
   },
   {
    "duration": 3,
    "start_time": "2022-10-09T15:58:02.353Z"
   },
   {
    "duration": 383,
    "start_time": "2022-10-09T15:58:02.357Z"
   },
   {
    "duration": 177,
    "start_time": "2022-10-09T15:58:02.741Z"
   },
   {
    "duration": 346,
    "start_time": "2022-10-09T15:58:02.920Z"
   },
   {
    "duration": 4,
    "start_time": "2022-10-09T15:58:03.267Z"
   },
   {
    "duration": 40,
    "start_time": "2022-10-09T15:58:03.272Z"
   },
   {
    "duration": 7,
    "start_time": "2022-10-09T15:58:03.313Z"
   },
   {
    "duration": 7,
    "start_time": "2022-10-09T15:58:03.322Z"
   },
   {
    "duration": 51,
    "start_time": "2022-10-09T15:58:03.331Z"
   },
   {
    "duration": 28,
    "start_time": "2022-10-09T15:58:03.384Z"
   },
   {
    "duration": 13,
    "start_time": "2022-10-09T15:58:03.413Z"
   },
   {
    "duration": 23,
    "start_time": "2022-10-09T15:58:03.428Z"
   },
   {
    "duration": 22,
    "start_time": "2022-10-09T15:58:03.453Z"
   },
   {
    "duration": 975,
    "start_time": "2022-10-09T15:58:03.477Z"
   },
   {
    "duration": 28,
    "start_time": "2022-10-09T15:58:04.454Z"
   },
   {
    "duration": 2008,
    "start_time": "2022-10-09T15:58:04.484Z"
   },
   {
    "duration": 27,
    "start_time": "2022-10-09T15:58:06.494Z"
   },
   {
    "duration": 1820,
    "start_time": "2022-10-09T15:58:06.522Z"
   },
   {
    "duration": 9,
    "start_time": "2022-10-09T15:58:08.345Z"
   },
   {
    "duration": 809,
    "start_time": "2022-10-09T15:58:08.356Z"
   },
   {
    "duration": 86,
    "start_time": "2022-10-09T15:58:09.167Z"
   },
   {
    "duration": 9,
    "start_time": "2022-10-09T15:58:09.255Z"
   },
   {
    "duration": 692,
    "start_time": "2022-10-09T15:58:09.265Z"
   },
   {
    "duration": 4,
    "start_time": "2022-10-09T15:58:09.958Z"
   },
   {
    "duration": 10,
    "start_time": "2022-10-09T15:58:09.963Z"
   },
   {
    "duration": 11,
    "start_time": "2022-10-09T15:58:09.976Z"
   },
   {
    "duration": 18,
    "start_time": "2022-10-09T15:58:09.989Z"
   },
   {
    "duration": 3297,
    "start_time": "2022-10-09T15:58:10.015Z"
   },
   {
    "duration": 5538,
    "start_time": "2022-10-09T15:58:13.314Z"
   },
   {
    "duration": 78210,
    "start_time": "2022-10-09T15:58:18.854Z"
   },
   {
    "duration": 27265,
    "start_time": "2022-10-09T15:59:37.066Z"
   },
   {
    "duration": 8,
    "start_time": "2022-10-09T16:00:04.332Z"
   },
   {
    "duration": 9,
    "start_time": "2022-10-09T20:51:14.617Z"
   },
   {
    "duration": 1707,
    "start_time": "2022-10-09T20:51:22.609Z"
   },
   {
    "duration": 1943,
    "start_time": "2022-10-09T20:51:25.670Z"
   },
   {
    "duration": 4,
    "start_time": "2022-10-09T20:51:28.866Z"
   },
   {
    "duration": 409,
    "start_time": "2022-10-09T20:51:32.201Z"
   },
   {
    "duration": 4,
    "start_time": "2022-10-09T20:51:45.043Z"
   },
   {
    "duration": 390,
    "start_time": "2022-10-09T20:51:47.137Z"
   },
   {
    "duration": 4,
    "start_time": "2022-10-09T20:52:31.643Z"
   },
   {
    "duration": 395,
    "start_time": "2022-10-09T20:52:39.093Z"
   },
   {
    "duration": 186,
    "start_time": "2022-10-09T20:52:47.085Z"
   },
   {
    "duration": 420,
    "start_time": "2022-10-09T20:52:50.975Z"
   },
   {
    "duration": 14,
    "start_time": "2022-10-09T20:53:43.875Z"
   },
   {
    "duration": 1203,
    "start_time": "2022-10-09T20:57:31.041Z"
   },
   {
    "duration": 112,
    "start_time": "2022-10-09T20:59:55.194Z"
   },
   {
    "duration": 1283,
    "start_time": "2022-10-09T21:03:28.524Z"
   },
   {
    "duration": 11,
    "start_time": "2022-10-09T21:04:16.144Z"
   },
   {
    "duration": 1516,
    "start_time": "2022-10-09T21:04:22.293Z"
   },
   {
    "duration": 700,
    "start_time": "2022-10-09T21:04:23.811Z"
   },
   {
    "duration": 4,
    "start_time": "2022-10-09T21:04:24.513Z"
   },
   {
    "duration": 393,
    "start_time": "2022-10-09T21:04:24.519Z"
   },
   {
    "duration": 176,
    "start_time": "2022-10-09T21:04:24.914Z"
   },
   {
    "duration": 408,
    "start_time": "2022-10-09T21:04:25.091Z"
   },
   {
    "duration": 4,
    "start_time": "2022-10-09T21:04:25.500Z"
   },
   {
    "duration": 28,
    "start_time": "2022-10-09T21:04:25.506Z"
   },
   {
    "duration": 7,
    "start_time": "2022-10-09T21:04:25.536Z"
   },
   {
    "duration": 12,
    "start_time": "2022-10-09T21:04:25.545Z"
   },
   {
    "duration": 77,
    "start_time": "2022-10-09T21:04:25.559Z"
   },
   {
    "duration": 17,
    "start_time": "2022-10-09T21:04:25.638Z"
   },
   {
    "duration": 36,
    "start_time": "2022-10-09T21:04:25.657Z"
   },
   {
    "duration": 12,
    "start_time": "2022-10-09T21:04:25.695Z"
   },
   {
    "duration": 14,
    "start_time": "2022-10-09T21:04:25.708Z"
   },
   {
    "duration": 1097,
    "start_time": "2022-10-09T21:04:25.723Z"
   },
   {
    "duration": 25,
    "start_time": "2022-10-09T21:04:26.822Z"
   },
   {
    "duration": 2325,
    "start_time": "2022-10-09T21:04:26.849Z"
   },
   {
    "duration": 29,
    "start_time": "2022-10-09T21:04:29.176Z"
   },
   {
    "duration": 1974,
    "start_time": "2022-10-09T21:04:29.207Z"
   },
   {
    "duration": 12,
    "start_time": "2022-10-09T21:04:31.183Z"
   },
   {
    "duration": 1019,
    "start_time": "2022-10-09T21:04:31.196Z"
   },
   {
    "duration": 101,
    "start_time": "2022-10-09T21:04:32.217Z"
   },
   {
    "duration": 8,
    "start_time": "2022-10-09T21:04:32.321Z"
   },
   {
    "duration": 739,
    "start_time": "2022-10-09T21:04:32.331Z"
   },
   {
    "duration": 3,
    "start_time": "2022-10-09T21:04:33.072Z"
   },
   {
    "duration": 28,
    "start_time": "2022-10-09T21:04:33.077Z"
   },
   {
    "duration": 19,
    "start_time": "2022-10-09T21:04:33.109Z"
   },
   {
    "duration": 27,
    "start_time": "2022-10-09T21:04:33.129Z"
   },
   {
    "duration": 2235,
    "start_time": "2022-10-09T21:04:33.158Z"
   },
   {
    "duration": 7351,
    "start_time": "2022-10-09T21:04:35.394Z"
   },
   {
    "duration": 90710,
    "start_time": "2022-10-09T21:04:42.747Z"
   },
   {
    "duration": 31982,
    "start_time": "2022-10-09T21:06:13.458Z"
   },
   {
    "duration": 14,
    "start_time": "2022-10-09T21:06:45.442Z"
   }
  ],
  "kernelspec": {
   "display_name": "Python 3",
   "language": "python",
   "name": "python3"
  },
  "language_info": {
   "codemirror_mode": {
    "name": "ipython",
    "version": 3
   },
   "file_extension": ".py",
   "mimetype": "text/x-python",
   "name": "python",
   "nbconvert_exporter": "python",
   "pygments_lexer": "ipython3",
   "version": "3.8.5"
  },
  "toc": {
   "base_numbering": 1,
   "nav_menu": {},
   "number_sections": true,
   "sideBar": true,
   "skip_h1_title": true,
   "title_cell": "Содержание",
   "title_sidebar": "Contents",
   "toc_cell": true,
   "toc_position": {},
   "toc_section_display": true,
   "toc_window_display": true
  }
 },
 "nbformat": 4,
 "nbformat_minor": 2
}
