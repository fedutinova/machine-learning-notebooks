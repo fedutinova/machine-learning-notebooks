{
 "cells": [
  {
   "cell_type": "markdown",
   "metadata": {},
   "source": [
    "# Выбор локации для скважины"
   ]
  },
  {
   "cell_type": "markdown",
   "metadata": {},
   "source": [
    "Допустим, вы работаете в добывающей компании «ГлавРосГосНефть». Нужно решить, где бурить новую скважину.\n",
    "\n",
    "Вам предоставлены пробы нефти в трёх регионах: в каждом 10 000 месторождений, где измерили качество нефти и объём её запасов. Постройте модель машинного обучения, которая поможет определить регион, где добыча принесёт наибольшую прибыль. Проанализируйте возможную прибыль и риски техникой *Bootstrap.*\n",
    "\n",
    "Шаги для выбора локации:\n",
    "\n",
    "- В избранном регионе ищут месторождения, для каждого определяют значения признаков;\n",
    "- Строят модель и оценивают объём запасов;\n",
    "- Выбирают месторождения с самым высокими оценками значений. Количество месторождений зависит от бюджета компании и стоимости разработки одной скважины;\n",
    "- Прибыль равна суммарной прибыли отобранных месторождений."
   ]
  },
  {
   "cell_type": "markdown",
   "metadata": {},
   "source": [
    "## План\n",
    "\n",
    "* Загрузка и подготовка данных\n",
    "* Обучение и проверка модели для каждого региона\n",
    "* Написание функции для расчёта прибыли по выбранным скважинам и предсказаниям модели\n",
    "* Расчет рисков и прибыли для каждого региона\n",
    "* Вывод"
   ]
  },
  {
   "cell_type": "markdown",
   "metadata": {},
   "source": [
    "## Загрузка и подготовка данных"
   ]
  },
  {
   "cell_type": "code",
   "execution_count": 1,
   "metadata": {},
   "outputs": [],
   "source": [
    "import pandas as pd\n",
    "import numpy as np\n",
    "import matplotlib.pyplot as plt \n",
    "from sklearn.model_selection import train_test_split\n",
    "from sklearn.linear_model import LinearRegression\n",
    "from sklearn.preprocessing import StandardScaler\n",
    "from sklearn.metrics import mean_squared_error\n",
    "from numpy.random import RandomState\n",
    "from scipy import stats"
   ]
  },
  {
   "cell_type": "code",
   "execution_count": 2,
   "metadata": {},
   "outputs": [],
   "source": [
    "geo_data_0 = pd.read_csv(\"/datasets/geo_data_0.csv\")\n",
    "geo_data_1 = pd.read_csv(\"/datasets/geo_data_1.csv\")\n",
    "geo_data_2 = pd.read_csv(\"/datasets/geo_data_2.csv\")"
   ]
  },
  {
   "cell_type": "code",
   "execution_count": 3,
   "metadata": {},
   "outputs": [
    {
     "name": "stdout",
     "output_type": "stream",
     "text": [
      "Количество дубликатов 0: 0\n",
      "Количество дубликатов 1: 0\n",
      "Количество дубликатов 2: 0\n"
     ]
    }
   ],
   "source": [
    "print('Количество дубликатов 0:', geo_data_0.duplicated().sum())\n",
    "print('Количество дубликатов 1:', geo_data_1.duplicated().sum())\n",
    "print('Количество дубликатов 2:', geo_data_2.duplicated().sum())"
   ]
  },
  {
   "cell_type": "code",
   "execution_count": 4,
   "metadata": {},
   "outputs": [
    {
     "data": {
      "text/html": [
       "<div>\n",
       "<style scoped>\n",
       "    .dataframe tbody tr th:only-of-type {\n",
       "        vertical-align: middle;\n",
       "    }\n",
       "\n",
       "    .dataframe tbody tr th {\n",
       "        vertical-align: top;\n",
       "    }\n",
       "\n",
       "    .dataframe thead th {\n",
       "        text-align: right;\n",
       "    }\n",
       "</style>\n",
       "<table border=\"1\" class=\"dataframe\">\n",
       "  <thead>\n",
       "    <tr style=\"text-align: right;\">\n",
       "      <th></th>\n",
       "      <th>f0</th>\n",
       "      <th>f1</th>\n",
       "      <th>f2</th>\n",
       "      <th>product</th>\n",
       "    </tr>\n",
       "  </thead>\n",
       "  <tbody>\n",
       "    <tr>\n",
       "      <th>count</th>\n",
       "      <td>100000.000000</td>\n",
       "      <td>100000.000000</td>\n",
       "      <td>100000.000000</td>\n",
       "      <td>100000.000000</td>\n",
       "    </tr>\n",
       "    <tr>\n",
       "      <th>mean</th>\n",
       "      <td>0.500419</td>\n",
       "      <td>0.250143</td>\n",
       "      <td>2.502647</td>\n",
       "      <td>92.500000</td>\n",
       "    </tr>\n",
       "    <tr>\n",
       "      <th>std</th>\n",
       "      <td>0.871832</td>\n",
       "      <td>0.504433</td>\n",
       "      <td>3.248248</td>\n",
       "      <td>44.288691</td>\n",
       "    </tr>\n",
       "    <tr>\n",
       "      <th>min</th>\n",
       "      <td>-1.408605</td>\n",
       "      <td>-0.848218</td>\n",
       "      <td>-12.088328</td>\n",
       "      <td>0.000000</td>\n",
       "    </tr>\n",
       "    <tr>\n",
       "      <th>25%</th>\n",
       "      <td>-0.072580</td>\n",
       "      <td>-0.200881</td>\n",
       "      <td>0.287748</td>\n",
       "      <td>56.497507</td>\n",
       "    </tr>\n",
       "    <tr>\n",
       "      <th>50%</th>\n",
       "      <td>0.502360</td>\n",
       "      <td>0.250252</td>\n",
       "      <td>2.515969</td>\n",
       "      <td>91.849972</td>\n",
       "    </tr>\n",
       "    <tr>\n",
       "      <th>75%</th>\n",
       "      <td>1.073581</td>\n",
       "      <td>0.700646</td>\n",
       "      <td>4.715088</td>\n",
       "      <td>128.564089</td>\n",
       "    </tr>\n",
       "    <tr>\n",
       "      <th>max</th>\n",
       "      <td>2.362331</td>\n",
       "      <td>1.343769</td>\n",
       "      <td>16.003790</td>\n",
       "      <td>185.364347</td>\n",
       "    </tr>\n",
       "  </tbody>\n",
       "</table>\n",
       "</div>"
      ],
      "text/plain": [
       "                  f0             f1             f2        product\n",
       "count  100000.000000  100000.000000  100000.000000  100000.000000\n",
       "mean        0.500419       0.250143       2.502647      92.500000\n",
       "std         0.871832       0.504433       3.248248      44.288691\n",
       "min        -1.408605      -0.848218     -12.088328       0.000000\n",
       "25%        -0.072580      -0.200881       0.287748      56.497507\n",
       "50%         0.502360       0.250252       2.515969      91.849972\n",
       "75%         1.073581       0.700646       4.715088     128.564089\n",
       "max         2.362331       1.343769      16.003790     185.364347"
      ]
     },
     "execution_count": 4,
     "metadata": {},
     "output_type": "execute_result"
    }
   ],
   "source": [
    "geo_data_0.describe()"
   ]
  },
  {
   "cell_type": "code",
   "execution_count": 5,
   "metadata": {},
   "outputs": [
    {
     "data": {
      "text/html": [
       "<div>\n",
       "<style scoped>\n",
       "    .dataframe tbody tr th:only-of-type {\n",
       "        vertical-align: middle;\n",
       "    }\n",
       "\n",
       "    .dataframe tbody tr th {\n",
       "        vertical-align: top;\n",
       "    }\n",
       "\n",
       "    .dataframe thead th {\n",
       "        text-align: right;\n",
       "    }\n",
       "</style>\n",
       "<table border=\"1\" class=\"dataframe\">\n",
       "  <thead>\n",
       "    <tr style=\"text-align: right;\">\n",
       "      <th></th>\n",
       "      <th>f0</th>\n",
       "      <th>f1</th>\n",
       "      <th>f2</th>\n",
       "      <th>product</th>\n",
       "    </tr>\n",
       "  </thead>\n",
       "  <tbody>\n",
       "    <tr>\n",
       "      <th>count</th>\n",
       "      <td>100000.000000</td>\n",
       "      <td>100000.000000</td>\n",
       "      <td>100000.000000</td>\n",
       "      <td>100000.000000</td>\n",
       "    </tr>\n",
       "    <tr>\n",
       "      <th>mean</th>\n",
       "      <td>1.141296</td>\n",
       "      <td>-4.796579</td>\n",
       "      <td>2.494541</td>\n",
       "      <td>68.825000</td>\n",
       "    </tr>\n",
       "    <tr>\n",
       "      <th>std</th>\n",
       "      <td>8.965932</td>\n",
       "      <td>5.119872</td>\n",
       "      <td>1.703572</td>\n",
       "      <td>45.944423</td>\n",
       "    </tr>\n",
       "    <tr>\n",
       "      <th>min</th>\n",
       "      <td>-31.609576</td>\n",
       "      <td>-26.358598</td>\n",
       "      <td>-0.018144</td>\n",
       "      <td>0.000000</td>\n",
       "    </tr>\n",
       "    <tr>\n",
       "      <th>25%</th>\n",
       "      <td>-6.298551</td>\n",
       "      <td>-8.267985</td>\n",
       "      <td>1.000021</td>\n",
       "      <td>26.953261</td>\n",
       "    </tr>\n",
       "    <tr>\n",
       "      <th>50%</th>\n",
       "      <td>1.153055</td>\n",
       "      <td>-4.813172</td>\n",
       "      <td>2.011479</td>\n",
       "      <td>57.085625</td>\n",
       "    </tr>\n",
       "    <tr>\n",
       "      <th>75%</th>\n",
       "      <td>8.621015</td>\n",
       "      <td>-1.332816</td>\n",
       "      <td>3.999904</td>\n",
       "      <td>107.813044</td>\n",
       "    </tr>\n",
       "    <tr>\n",
       "      <th>max</th>\n",
       "      <td>29.421755</td>\n",
       "      <td>18.734063</td>\n",
       "      <td>5.019721</td>\n",
       "      <td>137.945408</td>\n",
       "    </tr>\n",
       "  </tbody>\n",
       "</table>\n",
       "</div>"
      ],
      "text/plain": [
       "                  f0             f1             f2        product\n",
       "count  100000.000000  100000.000000  100000.000000  100000.000000\n",
       "mean        1.141296      -4.796579       2.494541      68.825000\n",
       "std         8.965932       5.119872       1.703572      45.944423\n",
       "min       -31.609576     -26.358598      -0.018144       0.000000\n",
       "25%        -6.298551      -8.267985       1.000021      26.953261\n",
       "50%         1.153055      -4.813172       2.011479      57.085625\n",
       "75%         8.621015      -1.332816       3.999904     107.813044\n",
       "max        29.421755      18.734063       5.019721     137.945408"
      ]
     },
     "execution_count": 5,
     "metadata": {},
     "output_type": "execute_result"
    }
   ],
   "source": [
    "geo_data_1.describe()"
   ]
  },
  {
   "cell_type": "code",
   "execution_count": 6,
   "metadata": {},
   "outputs": [
    {
     "data": {
      "text/html": [
       "<div>\n",
       "<style scoped>\n",
       "    .dataframe tbody tr th:only-of-type {\n",
       "        vertical-align: middle;\n",
       "    }\n",
       "\n",
       "    .dataframe tbody tr th {\n",
       "        vertical-align: top;\n",
       "    }\n",
       "\n",
       "    .dataframe thead th {\n",
       "        text-align: right;\n",
       "    }\n",
       "</style>\n",
       "<table border=\"1\" class=\"dataframe\">\n",
       "  <thead>\n",
       "    <tr style=\"text-align: right;\">\n",
       "      <th></th>\n",
       "      <th>f0</th>\n",
       "      <th>f1</th>\n",
       "      <th>f2</th>\n",
       "      <th>product</th>\n",
       "    </tr>\n",
       "  </thead>\n",
       "  <tbody>\n",
       "    <tr>\n",
       "      <th>count</th>\n",
       "      <td>100000.000000</td>\n",
       "      <td>100000.000000</td>\n",
       "      <td>100000.000000</td>\n",
       "      <td>100000.000000</td>\n",
       "    </tr>\n",
       "    <tr>\n",
       "      <th>mean</th>\n",
       "      <td>0.002023</td>\n",
       "      <td>-0.002081</td>\n",
       "      <td>2.495128</td>\n",
       "      <td>95.000000</td>\n",
       "    </tr>\n",
       "    <tr>\n",
       "      <th>std</th>\n",
       "      <td>1.732045</td>\n",
       "      <td>1.730417</td>\n",
       "      <td>3.473445</td>\n",
       "      <td>44.749921</td>\n",
       "    </tr>\n",
       "    <tr>\n",
       "      <th>min</th>\n",
       "      <td>-8.760004</td>\n",
       "      <td>-7.084020</td>\n",
       "      <td>-11.970335</td>\n",
       "      <td>0.000000</td>\n",
       "    </tr>\n",
       "    <tr>\n",
       "      <th>25%</th>\n",
       "      <td>-1.162288</td>\n",
       "      <td>-1.174820</td>\n",
       "      <td>0.130359</td>\n",
       "      <td>59.450441</td>\n",
       "    </tr>\n",
       "    <tr>\n",
       "      <th>50%</th>\n",
       "      <td>0.009424</td>\n",
       "      <td>-0.009482</td>\n",
       "      <td>2.484236</td>\n",
       "      <td>94.925613</td>\n",
       "    </tr>\n",
       "    <tr>\n",
       "      <th>75%</th>\n",
       "      <td>1.158535</td>\n",
       "      <td>1.163678</td>\n",
       "      <td>4.858794</td>\n",
       "      <td>130.595027</td>\n",
       "    </tr>\n",
       "    <tr>\n",
       "      <th>max</th>\n",
       "      <td>7.238262</td>\n",
       "      <td>7.844801</td>\n",
       "      <td>16.739402</td>\n",
       "      <td>190.029838</td>\n",
       "    </tr>\n",
       "  </tbody>\n",
       "</table>\n",
       "</div>"
      ],
      "text/plain": [
       "                  f0             f1             f2        product\n",
       "count  100000.000000  100000.000000  100000.000000  100000.000000\n",
       "mean        0.002023      -0.002081       2.495128      95.000000\n",
       "std         1.732045       1.730417       3.473445      44.749921\n",
       "min        -8.760004      -7.084020     -11.970335       0.000000\n",
       "25%        -1.162288      -1.174820       0.130359      59.450441\n",
       "50%         0.009424      -0.009482       2.484236      94.925613\n",
       "75%         1.158535       1.163678       4.858794     130.595027\n",
       "max         7.238262       7.844801      16.739402     190.029838"
      ]
     },
     "execution_count": 6,
     "metadata": {},
     "output_type": "execute_result"
    }
   ],
   "source": [
    "geo_data_2.describe()"
   ]
  },
  {
   "cell_type": "code",
   "execution_count": 7,
   "metadata": {},
   "outputs": [],
   "source": [
    "geo_data_0 = geo_data_0.drop(['id'], axis = 1)\n",
    "geo_data_1 = geo_data_1.drop(['id'], axis = 1)\n",
    "geo_data_2 = geo_data_2.drop(['id'], axis = 1)"
   ]
  },
  {
   "cell_type": "code",
   "execution_count": 8,
   "metadata": {},
   "outputs": [
    {
     "data": {
      "text/html": [
       "<div>\n",
       "<style scoped>\n",
       "    .dataframe tbody tr th:only-of-type {\n",
       "        vertical-align: middle;\n",
       "    }\n",
       "\n",
       "    .dataframe tbody tr th {\n",
       "        vertical-align: top;\n",
       "    }\n",
       "\n",
       "    .dataframe thead th {\n",
       "        text-align: right;\n",
       "    }\n",
       "</style>\n",
       "<table border=\"1\" class=\"dataframe\">\n",
       "  <thead>\n",
       "    <tr style=\"text-align: right;\">\n",
       "      <th></th>\n",
       "      <th>f0</th>\n",
       "      <th>f1</th>\n",
       "      <th>f2</th>\n",
       "      <th>product</th>\n",
       "    </tr>\n",
       "  </thead>\n",
       "  <tbody>\n",
       "    <tr>\n",
       "      <th>f0</th>\n",
       "      <td>1.000000</td>\n",
       "      <td>-0.440723</td>\n",
       "      <td>-0.003153</td>\n",
       "      <td>0.143536</td>\n",
       "    </tr>\n",
       "    <tr>\n",
       "      <th>f1</th>\n",
       "      <td>-0.440723</td>\n",
       "      <td>1.000000</td>\n",
       "      <td>0.001724</td>\n",
       "      <td>-0.192356</td>\n",
       "    </tr>\n",
       "    <tr>\n",
       "      <th>f2</th>\n",
       "      <td>-0.003153</td>\n",
       "      <td>0.001724</td>\n",
       "      <td>1.000000</td>\n",
       "      <td>0.483663</td>\n",
       "    </tr>\n",
       "    <tr>\n",
       "      <th>product</th>\n",
       "      <td>0.143536</td>\n",
       "      <td>-0.192356</td>\n",
       "      <td>0.483663</td>\n",
       "      <td>1.000000</td>\n",
       "    </tr>\n",
       "  </tbody>\n",
       "</table>\n",
       "</div>"
      ],
      "text/plain": [
       "               f0        f1        f2   product\n",
       "f0       1.000000 -0.440723 -0.003153  0.143536\n",
       "f1      -0.440723  1.000000  0.001724 -0.192356\n",
       "f2      -0.003153  0.001724  1.000000  0.483663\n",
       "product  0.143536 -0.192356  0.483663  1.000000"
      ]
     },
     "metadata": {},
     "output_type": "display_data"
    },
    {
     "data": {
      "text/html": [
       "<div>\n",
       "<style scoped>\n",
       "    .dataframe tbody tr th:only-of-type {\n",
       "        vertical-align: middle;\n",
       "    }\n",
       "\n",
       "    .dataframe tbody tr th {\n",
       "        vertical-align: top;\n",
       "    }\n",
       "\n",
       "    .dataframe thead th {\n",
       "        text-align: right;\n",
       "    }\n",
       "</style>\n",
       "<table border=\"1\" class=\"dataframe\">\n",
       "  <thead>\n",
       "    <tr style=\"text-align: right;\">\n",
       "      <th></th>\n",
       "      <th>f0</th>\n",
       "      <th>f1</th>\n",
       "      <th>f2</th>\n",
       "      <th>product</th>\n",
       "    </tr>\n",
       "  </thead>\n",
       "  <tbody>\n",
       "    <tr>\n",
       "      <th>f0</th>\n",
       "      <td>1.000000</td>\n",
       "      <td>0.182287</td>\n",
       "      <td>-0.001777</td>\n",
       "      <td>-0.030491</td>\n",
       "    </tr>\n",
       "    <tr>\n",
       "      <th>f1</th>\n",
       "      <td>0.182287</td>\n",
       "      <td>1.000000</td>\n",
       "      <td>-0.002595</td>\n",
       "      <td>-0.010155</td>\n",
       "    </tr>\n",
       "    <tr>\n",
       "      <th>f2</th>\n",
       "      <td>-0.001777</td>\n",
       "      <td>-0.002595</td>\n",
       "      <td>1.000000</td>\n",
       "      <td>0.999397</td>\n",
       "    </tr>\n",
       "    <tr>\n",
       "      <th>product</th>\n",
       "      <td>-0.030491</td>\n",
       "      <td>-0.010155</td>\n",
       "      <td>0.999397</td>\n",
       "      <td>1.000000</td>\n",
       "    </tr>\n",
       "  </tbody>\n",
       "</table>\n",
       "</div>"
      ],
      "text/plain": [
       "               f0        f1        f2   product\n",
       "f0       1.000000  0.182287 -0.001777 -0.030491\n",
       "f1       0.182287  1.000000 -0.002595 -0.010155\n",
       "f2      -0.001777 -0.002595  1.000000  0.999397\n",
       "product -0.030491 -0.010155  0.999397  1.000000"
      ]
     },
     "metadata": {},
     "output_type": "display_data"
    },
    {
     "data": {
      "text/html": [
       "<div>\n",
       "<style scoped>\n",
       "    .dataframe tbody tr th:only-of-type {\n",
       "        vertical-align: middle;\n",
       "    }\n",
       "\n",
       "    .dataframe tbody tr th {\n",
       "        vertical-align: top;\n",
       "    }\n",
       "\n",
       "    .dataframe thead th {\n",
       "        text-align: right;\n",
       "    }\n",
       "</style>\n",
       "<table border=\"1\" class=\"dataframe\">\n",
       "  <thead>\n",
       "    <tr style=\"text-align: right;\">\n",
       "      <th></th>\n",
       "      <th>f0</th>\n",
       "      <th>f1</th>\n",
       "      <th>f2</th>\n",
       "      <th>product</th>\n",
       "    </tr>\n",
       "  </thead>\n",
       "  <tbody>\n",
       "    <tr>\n",
       "      <th>f0</th>\n",
       "      <td>1.000000</td>\n",
       "      <td>0.000528</td>\n",
       "      <td>-0.000448</td>\n",
       "      <td>-0.001987</td>\n",
       "    </tr>\n",
       "    <tr>\n",
       "      <th>f1</th>\n",
       "      <td>0.000528</td>\n",
       "      <td>1.000000</td>\n",
       "      <td>0.000779</td>\n",
       "      <td>-0.001012</td>\n",
       "    </tr>\n",
       "    <tr>\n",
       "      <th>f2</th>\n",
       "      <td>-0.000448</td>\n",
       "      <td>0.000779</td>\n",
       "      <td>1.000000</td>\n",
       "      <td>0.445871</td>\n",
       "    </tr>\n",
       "    <tr>\n",
       "      <th>product</th>\n",
       "      <td>-0.001987</td>\n",
       "      <td>-0.001012</td>\n",
       "      <td>0.445871</td>\n",
       "      <td>1.000000</td>\n",
       "    </tr>\n",
       "  </tbody>\n",
       "</table>\n",
       "</div>"
      ],
      "text/plain": [
       "               f0        f1        f2   product\n",
       "f0       1.000000  0.000528 -0.000448 -0.001987\n",
       "f1       0.000528  1.000000  0.000779 -0.001012\n",
       "f2      -0.000448  0.000779  1.000000  0.445871\n",
       "product -0.001987 -0.001012  0.445871  1.000000"
      ]
     },
     "metadata": {},
     "output_type": "display_data"
    }
   ],
   "source": [
    "#оценка корреляций признаков\n",
    "display(geo_data_0.corr())\n",
    "display(geo_data_1.corr())\n",
    "display(geo_data_2.corr())"
   ]
  },
  {
   "cell_type": "code",
   "execution_count": 17,
   "metadata": {},
   "outputs": [
    {
     "data": {
      "image/png": "[encoded data removed]",
      "text/plain": [
       "<Figure size 360x360 with 1 Axes>"
      ]
     },
     "metadata": {
      "needs_background": "light"
     },
     "output_type": "display_data"
    }
   ],
   "source": [
    "geo_data_0['product'].hist(figsize=(5, 5));"
   ]
  },
  {
   "cell_type": "code",
   "execution_count": 18,
   "metadata": {},
   "outputs": [
    {
     "data": {
      "image/png": "[encoded data removed]",
      "text/plain": [
       "<Figure size 360x360 with 1 Axes>"
      ]
     },
     "metadata": {
      "needs_background": "light"
     },
     "output_type": "display_data"
    }
   ],
   "source": [
    "geo_data_1['product'].hist(figsize=(5, 5));"
   ]
  },
  {
   "cell_type": "code",
   "execution_count": 19,
   "metadata": {},
   "outputs": [
    {
     "data": {
      "image/png": "[encoded data removed]",
      "text/plain": [
       "<Figure size 360x360 with 1 Axes>"
      ]
     },
     "metadata": {
      "needs_background": "light"
     },
     "output_type": "display_data"
    }
   ],
   "source": [
    "geo_data_2['product'].hist(figsize=(5, 5));"
   ]
  },
  {
   "cell_type": "markdown",
   "metadata": {},
   "source": [
    "Вывод:\n",
    "* дубликатов не выявлено\n",
    "* во всех регионах наибольшая корреляция объёма запасов в скважине наблюдается с признаком f2\n",
    "* в регионе 1 связь признака f2 с объёмом запасов в скважине приближен к 1 (0,999), что сильно отличается от остальных регионов\n",
    "* на этом основании проверили распределение в данных в столбце product — объём запасов в скважине. Данные в регионе 1 сильно отличаются, явно присутствуют выбросы. Я не стала избаваляться от них, поскольку нам необходимо сохранять объем данных для дальнейших исследований."
   ]
  },
  {
   "cell_type": "markdown",
   "metadata": {},
   "source": [
    "## Обучение и проверка модели"
   ]
  },
  {
   "cell_type": "code",
   "execution_count": 10,
   "metadata": {},
   "outputs": [
    {
     "name": "stdout",
     "output_type": "stream",
     "text": [
      "(75000,) (25000,)\n",
      "(75000,) (25000,)\n",
      "(75000,) (25000,)\n"
     ]
    }
   ],
   "source": [
    "# Разделим признаки и цели по каждому региону\n",
    "features_geo_0 = geo_data_0.drop(['product'], axis = 1)\n",
    "target_geo_0 = geo_data_0['product']\n",
    "\n",
    "features_geo_1 = geo_data_1.drop(['product'], axis = 1)\n",
    "target_geo_1 = geo_data_1['product']\n",
    "\n",
    "features_geo_2 = geo_data_2.drop(['product'], axis = 1)\n",
    "target_geo_2 = geo_data_2['product']\n",
    "\n",
    "features_train_geo_0, features_valid_geo_0, target_train_geo_0, target_valid_geo_0 = train_test_split(\n",
    "    features_geo_0, target_geo_0, test_size = 0.25, random_state = 19191)\n",
    "\n",
    "features_train_geo_1, features_valid_geo_1, target_train_geo_1, target_valid_geo_1 = train_test_split(\n",
    "    features_geo_1, target_geo_1, test_size = 0.25, random_state = 19191)\n",
    "\n",
    "features_train_geo_2, features_valid_geo_2, target_train_geo_2, target_valid_geo_2 = train_test_split(\n",
    "    features_geo_2, target_geo_2, test_size = 0.25, random_state = 19191)\n",
    "\n",
    "# Проверим размер выборок:\n",
    "print(target_train_geo_0.shape, target_valid_geo_0.shape)\n",
    "print(target_train_geo_1.shape, target_valid_geo_1.shape)\n",
    "print(target_train_geo_2.shape, target_valid_geo_2.shape)"
   ]
  },
  {
   "cell_type": "code",
   "execution_count": 11,
   "metadata": {},
   "outputs": [
    {
     "name": "stdout",
     "output_type": "stream",
     "text": [
      "Средний объем запасов скважины региона N0 92.482 тыс. баррелей\n",
      "RMSE 37.80121847733848 \n",
      "\n",
      "Средний объем запасов скважины региона N1 68.966 тыс. баррелей\n",
      "RMSE 0.8869119924293617 \n",
      "\n",
      "Средний объем запасов скважины региона N2 95.032 тыс. баррелей\n",
      "RMSE 40.00111945346115 \n",
      "\n"
     ]
    }
   ],
   "source": [
    "# Создадим массив с тренировочными и валидными наборами\n",
    "datasets_features_train = [features_train_geo_0, features_train_geo_1, features_train_geo_2]\n",
    "datasets_targets_train = [target_train_geo_0, target_train_geo_1, target_train_geo_2]\n",
    "\n",
    "datasets_features_valid = [features_valid_geo_0, features_valid_geo_1, features_valid_geo_2]\n",
    "datasets_targets_valid = [target_valid_geo_0, target_valid_geo_1, target_valid_geo_2]\n",
    "\n",
    "# Обучим модели и поместим результаты в datasets_predictions\n",
    "datasets_predictions = []\n",
    "\n",
    "for num_geo in range(len(datasets_features_train)):\n",
    "    model = LinearRegression()\n",
    "    model.fit(datasets_features_train[num_geo], datasets_targets_train[num_geo])\n",
    "    predictions = model.predict(datasets_features_valid[num_geo])\n",
    "    datasets_predictions.append(pd.Series(predictions))\n",
    "    print('Средний объем запасов скважины региона N' + str(num_geo + 0),  format(predictions.mean(), '.3f'), 'тыс. баррелей')\n",
    "    print('RMSE', mean_squared_error(datasets_targets_valid[num_geo], predictions) ** 0.5, '\\n')"
   ]
  },
  {
   "cell_type": "markdown",
   "metadata": {},
   "source": [
    "Вывод:\n",
    "* Средний объем запасов в нулевом и втором регионах значительно выше, чем в первом\n",
    "* Однако, благодаря сильной корреляции, получилось достичь наилучший прогноз в модели первого региона. RMSE составила всего лишь 0,89. Предсказания моделей двух других регионов значительно хуже"
   ]
  },
  {
   "cell_type": "markdown",
   "metadata": {},
   "source": [
    "## Подготовка к расчёту прибыли"
   ]
  },
  {
   "cell_type": "code",
   "execution_count": 12,
   "metadata": {},
   "outputs": [],
   "source": [
    "#По условиям задачи : \n",
    "\n",
    "budget = 10 ** 10   #Бюджет на разработку скважин в регионе 10 млрд. рублей\n",
    "all_wells = 500 #При разведке исследуют 500 точек\n",
    "top_wells = 200  # 200 лучших скважин для разработки\n",
    "cost_of_one_barrel = 450   #Доход с одного барреля сырья 450 рублей\n",
    "cost_of_one_product = 450000   #Доход с каждой единицы продукта 450 000 рублей"
   ]
  },
  {
   "cell_type": "code",
   "execution_count": 13,
   "metadata": {},
   "outputs": [
    {
     "name": "stdout",
     "output_type": "stream",
     "text": [
      "Для безубыточной разработки необходимо чтобы одна скважина добывала не менее: 111.111 тыс. баррелей\n"
     ]
    }
   ],
   "source": [
    "min_product  = budget / top_wells /cost_of_one_product\n",
    "print('Для безубыточной разработки необходимо чтобы одна скважина добывала не менее:', format(min_product, '.3f'), 'тыс. баррелей')"
   ]
  },
  {
   "cell_type": "code",
   "execution_count": 14,
   "metadata": {},
   "outputs": [
    {
     "name": "stdout",
     "output_type": "stream",
     "text": [
      "Разница между необходимым объемом добычи нефти и средним запасом сырья в скважине в регионе:\n",
      "N0: -19 тыс. баррелей\n",
      "N1: -42 тыс. баррелей\n",
      "N2: -16 тыс. баррелей\n"
     ]
    }
   ],
   "source": [
    "print('Разница между необходимым объемом добычи нефти и средним запасом сырья в скважине в регионе:')\n",
    "print('N0:', round(geo_data_0['product'].mean() - min_product), 'тыс. баррелей')\n",
    "print('N1:', round(geo_data_1['product'].mean() - min_product), 'тыс. баррелей')\n",
    "print('N2:', round(geo_data_2['product'].mean() - min_product), 'тыс. баррелей')"
   ]
  },
  {
   "cell_type": "markdown",
   "metadata": {},
   "source": [
    "Вывод:\n",
    "* Для безубыточной разработки скважины необходимо запас не менее: 111.111 тыс. баррелей\n",
    "* Среднего запаса сырья в скважинах всех трех регионов недостаточно для их безубыточной разработки\n",
    "* Наибольший убыток, исходя из среднего запаса сырья в скважинах, планируется в регионе 1"
   ]
  },
  {
   "cell_type": "markdown",
   "metadata": {},
   "source": [
    "## Расчёт прибыли и рисков "
   ]
  },
  {
   "cell_type": "code",
   "execution_count": 15,
   "metadata": {},
   "outputs": [
    {
     "name": "stdout",
     "output_type": "stream",
     "text": [
      "Прибыль региона №0 3194536662.5349846\n",
      "Прибыль региона №1 2415086696.681511\n",
      "Прибыль региона №2 2648065404.619133\n"
     ]
    }
   ],
   "source": [
    "def profit(target, predictions, count):\n",
    "    predictions_sorted = predictions.sort_values(ascending=False)\n",
    "    barrels_top_wells = target[predictions_sorted.index][:count]\n",
    "    return (barrels_top_wells.sum() * cost_of_one_product - budget)\n",
    "\n",
    "for i in range(3):\n",
    "    print('Прибыль региона №' +  str(i + 0), profit(datasets_targets_valid[i].reset_index(drop=True), datasets_predictions[i], top_wells))"
   ]
  },
  {
   "cell_type": "code",
   "execution_count": 16,
   "metadata": {},
   "outputs": [
    {
     "name": "stdout",
     "output_type": "stream",
     "text": [
      "95%-й доверительный интервал: (-73753203.25719042 : 997685738.6448472)\n",
      "Средняя прибыль: 483960504.73\n",
      "Риск убытка: 4.3 %\n"
     ]
    },
    {
     "data": {
      "image/png": "[encoded data removed]",
      "text/plain": [
       "<Figure size 432x288 with 1 Axes>"
      ]
     },
     "metadata": {
      "needs_background": "light"
     },
     "output_type": "display_data"
    },
    {
     "name": "stdout",
     "output_type": "stream",
     "text": [
      "95%-й доверительный интервал: (107340712.18193875 : 957949865.4332703)\n",
      "Средняя прибыль: 531264608.01\n",
      "Риск убытка: 0.5 %\n"
     ]
    },
    {
     "data": {
      "image/png": "[encoded data removed]",
      "text/plain": [
       "<Figure size 432x288 with 1 Axes>"
      ]
     },
     "metadata": {
      "needs_background": "light"
     },
     "output_type": "display_data"
    },
    {
     "name": "stdout",
     "output_type": "stream",
     "text": [
      "95%-й доверительный интервал: (-192654820.29462948 : 943654489.5383968)\n",
      "Средняя прибыль: 387003628.90\n",
      "Риск убытка: 9.2 %\n"
     ]
    },
    {
     "data": {
      "image/png": "[encoded data removed]",
      "text/plain": [
       "<Figure size 432x288 with 1 Axes>"
      ]
     },
     "metadata": {
      "needs_background": "light"
     },
     "output_type": "display_data"
    }
   ],
   "source": [
    "# Bootstrap\n",
    "values = [[],[],[]]\n",
    "state = np.random.RandomState(19191)\n",
    "\n",
    "for i in range(3):\n",
    "    for j in range(1000):\n",
    "        target_subsample = datasets_targets_valid[i].reset_index(drop=True).sample(n = all_wells, replace = True, random_state=state)\n",
    "        probs_subsample = datasets_predictions[i][target_subsample.index]\n",
    "        \n",
    "        values[i].append(profit(target_subsample, probs_subsample, top_wells))\n",
    "        \n",
    "    values[i] = pd.Series(values[i])\n",
    "    values[i].hist()\n",
    "    print('95%-й доверительный интервал: (' + str(values[i].quantile(0.025)) + ' : ' + str(values[i].quantile(0.975)) + ')')\n",
    "    print('Средняя прибыль:', format(values[i].mean(), '.2f'))\n",
    "    print('Риск убытка:', (values[i] < 0).mean()* 100, '%')\n",
    "    plt.show()"
   ]
  },
  {
   "cell_type": "markdown",
   "metadata": {},
   "source": [
    "## Вывод:\n",
    "* Данные регионов 0 и2 не будем учитывать, т.к. риск убытка превышает 2.5%.\n",
    "* В первом регионе риск убытков минимальный - 0,5%. Однако, как было отмечено при подготовке данных, его данные не сопоставимы с другими регионами, т.к. признак f2 коррелирует с трагетом почти на 1. Данный признак (f2) во втором регионе требует дополнительной проверки.\n",
    "\n",
    "На основании вышеизложенного, необходимо выбрать первый регион, с вероятностью убытков меньше 2.5%. Средняя прибыль составит 531264608.01 руб."
   ]
  }
 ],
 "metadata": {
  "ExecuteTimeLog": [
   {
    "duration": 1922,
    "start_time": "2022-10-07T10:23:22.212Z"
   },
   {
    "duration": 5,
    "start_time": "2022-10-07T10:23:32.820Z"
   },
   {
    "duration": 2579,
    "start_time": "2022-10-07T10:23:50.663Z"
   },
   {
    "duration": 527,
    "start_time": "2022-10-07T10:24:15.729Z"
   },
   {
    "duration": 496,
    "start_time": "2022-10-07T10:25:51.349Z"
   },
   {
    "duration": 111,
    "start_time": "2022-10-07T10:26:25.847Z"
   },
   {
    "duration": 76,
    "start_time": "2022-10-07T10:26:30.787Z"
   },
   {
    "duration": 63,
    "start_time": "2022-10-07T10:26:42.648Z"
   },
   {
    "duration": 167,
    "start_time": "2022-10-07T10:27:40.786Z"
   },
   {
    "duration": 41,
    "start_time": "2022-10-07T10:27:56.416Z"
   },
   {
    "duration": 45,
    "start_time": "2022-10-07T10:30:23.427Z"
   },
   {
    "duration": 50,
    "start_time": "2022-10-07T10:30:29.604Z"
   },
   {
    "duration": 70,
    "start_time": "2022-10-07T10:31:58.968Z"
   },
   {
    "duration": 84,
    "start_time": "2022-10-07T10:35:08.085Z"
   },
   {
    "duration": 12,
    "start_time": "2022-10-07T10:49:25.917Z"
   },
   {
    "duration": 44,
    "start_time": "2022-10-07T10:49:38.249Z"
   },
   {
    "duration": 22,
    "start_time": "2022-10-07T10:50:37.887Z"
   },
   {
    "duration": 1537,
    "start_time": "2022-10-07T10:50:42.475Z"
   },
   {
    "duration": 107,
    "start_time": "2022-10-07T10:50:44.015Z"
   },
   {
    "duration": 0,
    "start_time": "2022-10-07T10:50:44.124Z"
   },
   {
    "duration": 0,
    "start_time": "2022-10-07T10:50:44.126Z"
   },
   {
    "duration": 0,
    "start_time": "2022-10-07T10:50:44.128Z"
   },
   {
    "duration": 0,
    "start_time": "2022-10-07T10:50:44.130Z"
   },
   {
    "duration": 0,
    "start_time": "2022-10-07T10:50:44.132Z"
   },
   {
    "duration": 0,
    "start_time": "2022-10-07T10:50:44.133Z"
   },
   {
    "duration": 0,
    "start_time": "2022-10-07T10:50:44.135Z"
   },
   {
    "duration": 1559,
    "start_time": "2022-10-07T10:51:09.151Z"
   },
   {
    "duration": 507,
    "start_time": "2022-10-07T10:51:10.713Z"
   },
   {
    "duration": 157,
    "start_time": "2022-10-07T10:51:11.222Z"
   },
   {
    "duration": 64,
    "start_time": "2022-10-07T10:51:11.382Z"
   },
   {
    "duration": 55,
    "start_time": "2022-10-07T10:51:11.450Z"
   },
   {
    "duration": 44,
    "start_time": "2022-10-07T10:51:11.508Z"
   },
   {
    "duration": 18,
    "start_time": "2022-10-07T10:51:11.554Z"
   },
   {
    "duration": 97,
    "start_time": "2022-10-07T10:51:11.575Z"
   },
   {
    "duration": 48,
    "start_time": "2022-10-07T10:51:11.675Z"
   },
   {
    "duration": 5,
    "start_time": "2022-10-07T10:51:25.732Z"
   },
   {
    "duration": 120,
    "start_time": "2022-10-07T10:57:44.116Z"
   },
   {
    "duration": 19,
    "start_time": "2022-10-07T10:58:37.388Z"
   },
   {
    "duration": 12,
    "start_time": "2022-10-07T10:59:18.063Z"
   },
   {
    "duration": 13,
    "start_time": "2022-10-07T11:00:27.348Z"
   },
   {
    "duration": 85,
    "start_time": "2022-10-07T11:01:27.520Z"
   },
   {
    "duration": 177,
    "start_time": "2022-10-07T11:06:41.126Z"
   },
   {
    "duration": 104,
    "start_time": "2022-10-07T11:07:14.178Z"
   },
   {
    "duration": 192,
    "start_time": "2022-10-07T11:07:20.903Z"
   },
   {
    "duration": 168,
    "start_time": "2022-10-07T11:07:25.625Z"
   },
   {
    "duration": 9,
    "start_time": "2022-10-07T11:11:23.261Z"
   },
   {
    "duration": 14,
    "start_time": "2022-10-07T11:11:32.725Z"
   },
   {
    "duration": 9,
    "start_time": "2022-10-07T11:11:44.245Z"
   },
   {
    "duration": 6,
    "start_time": "2022-10-07T11:14:03.547Z"
   },
   {
    "duration": 11,
    "start_time": "2022-10-07T11:21:41.343Z"
   },
   {
    "duration": 63,
    "start_time": "2022-10-07T11:22:10.948Z"
   },
   {
    "duration": 4,
    "start_time": "2022-10-07T11:25:19.629Z"
   },
   {
    "duration": 3,
    "start_time": "2022-10-07T11:25:21.439Z"
   },
   {
    "duration": 4,
    "start_time": "2022-10-07T11:25:25.953Z"
   },
   {
    "duration": 4,
    "start_time": "2022-10-07T11:26:11.922Z"
   },
   {
    "duration": 24,
    "start_time": "2022-10-07T11:26:17.383Z"
   },
   {
    "duration": 57,
    "start_time": "2022-10-07T13:12:15.653Z"
   },
   {
    "duration": 1678,
    "start_time": "2022-10-07T13:12:34.239Z"
   },
   {
    "duration": 2417,
    "start_time": "2022-10-07T13:12:35.919Z"
   },
   {
    "duration": 128,
    "start_time": "2022-10-07T13:12:38.338Z"
   },
   {
    "duration": 54,
    "start_time": "2022-10-07T13:12:38.468Z"
   },
   {
    "duration": 35,
    "start_time": "2022-10-07T13:12:38.524Z"
   },
   {
    "duration": 33,
    "start_time": "2022-10-07T13:12:38.561Z"
   },
   {
    "duration": 37,
    "start_time": "2022-10-07T13:12:38.596Z"
   },
   {
    "duration": 69,
    "start_time": "2022-10-07T13:12:38.635Z"
   },
   {
    "duration": 49,
    "start_time": "2022-10-07T13:12:38.706Z"
   },
   {
    "duration": 65,
    "start_time": "2022-10-07T13:12:38.758Z"
   },
   {
    "duration": 12,
    "start_time": "2022-10-07T13:12:38.825Z"
   },
   {
    "duration": 220,
    "start_time": "2022-10-07T13:12:38.839Z"
   },
   {
    "duration": 1,
    "start_time": "2022-10-07T13:12:39.060Z"
   },
   {
    "duration": 0,
    "start_time": "2022-10-07T13:12:39.062Z"
   },
   {
    "duration": 0,
    "start_time": "2022-10-07T13:12:39.066Z"
   },
   {
    "duration": 0,
    "start_time": "2022-10-07T13:12:39.068Z"
   },
   {
    "duration": 0,
    "start_time": "2022-10-07T13:12:39.069Z"
   },
   {
    "duration": 158,
    "start_time": "2022-10-07T13:14:23.165Z"
   },
   {
    "duration": 68,
    "start_time": "2022-10-07T13:14:38.259Z"
   },
   {
    "duration": 147,
    "start_time": "2022-10-07T13:14:58.381Z"
   },
   {
    "duration": 163,
    "start_time": "2022-10-07T13:15:22.668Z"
   },
   {
    "duration": 284,
    "start_time": "2022-10-07T13:15:31.549Z"
   },
   {
    "duration": 453,
    "start_time": "2022-10-07T13:15:38.469Z"
   },
   {
    "duration": 235,
    "start_time": "2022-10-07T13:15:57.198Z"
   },
   {
    "duration": 1273,
    "start_time": "2022-10-07T13:16:31.312Z"
   },
   {
    "duration": 342,
    "start_time": "2022-10-07T13:16:32.587Z"
   },
   {
    "duration": 117,
    "start_time": "2022-10-07T13:16:32.931Z"
   },
   {
    "duration": 39,
    "start_time": "2022-10-07T13:16:33.051Z"
   },
   {
    "duration": 52,
    "start_time": "2022-10-07T13:16:33.092Z"
   },
   {
    "duration": 31,
    "start_time": "2022-10-07T13:16:33.145Z"
   },
   {
    "duration": 15,
    "start_time": "2022-10-07T13:16:33.178Z"
   },
   {
    "duration": 55,
    "start_time": "2022-10-07T13:16:33.194Z"
   },
   {
    "duration": 37,
    "start_time": "2022-10-07T13:16:33.251Z"
   },
   {
    "duration": 43,
    "start_time": "2022-10-07T13:16:33.290Z"
   },
   {
    "duration": 85,
    "start_time": "2022-10-07T13:16:33.336Z"
   },
   {
    "duration": 185,
    "start_time": "2022-10-07T13:16:33.425Z"
   },
   {
    "duration": 0,
    "start_time": "2022-10-07T13:16:33.611Z"
   },
   {
    "duration": 0,
    "start_time": "2022-10-07T13:16:33.613Z"
   },
   {
    "duration": 0,
    "start_time": "2022-10-07T13:16:33.614Z"
   },
   {
    "duration": 0,
    "start_time": "2022-10-07T13:16:33.621Z"
   },
   {
    "duration": 0,
    "start_time": "2022-10-07T13:16:33.623Z"
   },
   {
    "duration": 399,
    "start_time": "2022-10-07T13:16:55.323Z"
   },
   {
    "duration": 1404,
    "start_time": "2022-10-07T13:16:59.616Z"
   },
   {
    "duration": 380,
    "start_time": "2022-10-07T13:17:01.022Z"
   },
   {
    "duration": 125,
    "start_time": "2022-10-07T13:17:01.403Z"
   },
   {
    "duration": 42,
    "start_time": "2022-10-07T13:17:01.530Z"
   },
   {
    "duration": 66,
    "start_time": "2022-10-07T13:17:01.573Z"
   },
   {
    "duration": 44,
    "start_time": "2022-10-07T13:17:01.642Z"
   },
   {
    "duration": 72,
    "start_time": "2022-10-07T13:17:01.688Z"
   },
   {
    "duration": 93,
    "start_time": "2022-10-07T13:17:01.762Z"
   },
   {
    "duration": 66,
    "start_time": "2022-10-07T13:17:01.857Z"
   },
   {
    "duration": 24,
    "start_time": "2022-10-07T13:17:01.927Z"
   },
   {
    "duration": 80,
    "start_time": "2022-10-07T13:17:01.953Z"
   },
   {
    "duration": 191,
    "start_time": "2022-10-07T13:17:02.037Z"
   },
   {
    "duration": 202,
    "start_time": "2022-10-07T13:17:02.230Z"
   },
   {
    "duration": 20,
    "start_time": "2022-10-07T13:17:02.434Z"
   },
   {
    "duration": 11,
    "start_time": "2022-10-07T13:17:02.456Z"
   },
   {
    "duration": 11,
    "start_time": "2022-10-07T13:17:02.469Z"
   },
   {
    "duration": 110,
    "start_time": "2022-10-07T13:17:02.482Z"
   },
   {
    "duration": 13,
    "start_time": "2022-10-07T13:18:46.650Z"
   },
   {
    "duration": 21,
    "start_time": "2022-10-07T13:19:28.699Z"
   },
   {
    "duration": 22,
    "start_time": "2022-10-07T13:20:24.129Z"
   },
   {
    "duration": 6,
    "start_time": "2022-10-07T13:23:38.539Z"
   },
   {
    "duration": 4,
    "start_time": "2022-10-07T13:23:54.002Z"
   },
   {
    "duration": 9,
    "start_time": "2022-10-07T13:24:50.043Z"
   },
   {
    "duration": 11,
    "start_time": "2022-10-07T13:30:28.357Z"
   },
   {
    "duration": 17,
    "start_time": "2022-10-07T13:30:36.592Z"
   },
   {
    "duration": 3,
    "start_time": "2022-10-07T13:32:29.420Z"
   },
   {
    "duration": 18,
    "start_time": "2022-10-07T13:33:27.196Z"
   },
   {
    "duration": 24,
    "start_time": "2022-10-07T13:34:22.624Z"
   },
   {
    "duration": 17,
    "start_time": "2022-10-07T13:44:07.085Z"
   },
   {
    "duration": 4618,
    "start_time": "2022-10-07T13:44:26.163Z"
   },
   {
    "duration": 15,
    "start_time": "2022-10-07T14:01:44.608Z"
   },
   {
    "duration": 127,
    "start_time": "2022-10-07T14:01:52.108Z"
   },
   {
    "duration": 257,
    "start_time": "2022-10-07T14:09:04.970Z"
   },
   {
    "duration": 153,
    "start_time": "2022-10-07T14:10:43.787Z"
   },
   {
    "duration": 9,
    "start_time": "2022-10-07T14:12:19.650Z"
   },
   {
    "duration": 3,
    "start_time": "2022-10-07T14:12:26.245Z"
   },
   {
    "duration": 4,
    "start_time": "2022-10-07T14:12:29.374Z"
   },
   {
    "duration": 3,
    "start_time": "2022-10-07T14:13:05.569Z"
   },
   {
    "duration": 3,
    "start_time": "2022-10-07T14:13:14.985Z"
   },
   {
    "duration": 5,
    "start_time": "2022-10-07T14:20:08.295Z"
   },
   {
    "duration": 6,
    "start_time": "2022-10-07T14:20:15.601Z"
   },
   {
    "duration": 4,
    "start_time": "2022-10-07T14:20:30.019Z"
   },
   {
    "duration": 9,
    "start_time": "2022-10-07T14:22:00.722Z"
   },
   {
    "duration": 39,
    "start_time": "2022-10-07T14:22:30.450Z"
   },
   {
    "duration": 62,
    "start_time": "2022-10-07T14:22:48.742Z"
   },
   {
    "duration": 14,
    "start_time": "2022-10-07T14:22:56.047Z"
   },
   {
    "duration": 18,
    "start_time": "2022-10-07T14:27:14.959Z"
   },
   {
    "duration": 18,
    "start_time": "2022-10-07T14:30:38.646Z"
   },
   {
    "duration": 1258,
    "start_time": "2022-10-07T14:30:48.253Z"
   },
   {
    "duration": 351,
    "start_time": "2022-10-07T14:30:49.513Z"
   },
   {
    "duration": 134,
    "start_time": "2022-10-07T14:30:49.866Z"
   },
   {
    "duration": 53,
    "start_time": "2022-10-07T14:30:50.002Z"
   },
   {
    "duration": 35,
    "start_time": "2022-10-07T14:30:50.058Z"
   },
   {
    "duration": 47,
    "start_time": "2022-10-07T14:30:50.095Z"
   },
   {
    "duration": 15,
    "start_time": "2022-10-07T14:30:50.144Z"
   },
   {
    "duration": 45,
    "start_time": "2022-10-07T14:30:50.160Z"
   },
   {
    "duration": 43,
    "start_time": "2022-10-07T14:30:50.221Z"
   },
   {
    "duration": 356,
    "start_time": "2022-10-07T14:30:50.266Z"
   },
   {
    "duration": 3,
    "start_time": "2022-10-07T14:30:50.624Z"
   },
   {
    "duration": 103,
    "start_time": "2022-10-07T14:30:50.628Z"
   },
   {
    "duration": 14,
    "start_time": "2022-10-07T14:30:50.732Z"
   },
   {
    "duration": 18,
    "start_time": "2022-10-07T14:30:50.748Z"
   },
   {
    "duration": 76,
    "start_time": "2022-10-07T14:30:50.768Z"
   },
   {
    "duration": 0,
    "start_time": "2022-10-07T14:30:50.846Z"
   },
   {
    "duration": 26,
    "start_time": "2022-10-07T14:31:36.308Z"
   },
   {
    "duration": 18,
    "start_time": "2022-10-07T14:32:37.475Z"
   },
   {
    "duration": 22,
    "start_time": "2022-10-07T14:33:20.187Z"
   },
   {
    "duration": 22,
    "start_time": "2022-10-07T14:33:26.014Z"
   },
   {
    "duration": 166,
    "start_time": "2022-10-07T14:34:23.887Z"
   },
   {
    "duration": 20,
    "start_time": "2022-10-07T14:35:02.727Z"
   },
   {
    "duration": 4786,
    "start_time": "2022-10-07T14:37:28.307Z"
   },
   {
    "duration": 5157,
    "start_time": "2022-10-07T14:39:52.709Z"
   },
   {
    "duration": 4699,
    "start_time": "2022-10-07T14:40:10.282Z"
   },
   {
    "duration": 1303,
    "start_time": "2022-10-08T08:48:27.262Z"
   },
   {
    "duration": 698,
    "start_time": "2022-10-08T08:48:28.567Z"
   },
   {
    "duration": 111,
    "start_time": "2022-10-08T08:48:29.267Z"
   },
   {
    "duration": 44,
    "start_time": "2022-10-08T08:48:29.379Z"
   },
   {
    "duration": 31,
    "start_time": "2022-10-08T08:48:29.425Z"
   },
   {
    "duration": 30,
    "start_time": "2022-10-08T08:48:29.457Z"
   },
   {
    "duration": 27,
    "start_time": "2022-10-08T08:48:29.489Z"
   },
   {
    "duration": 38,
    "start_time": "2022-10-08T08:48:29.518Z"
   },
   {
    "duration": 56,
    "start_time": "2022-10-08T08:48:29.557Z"
   },
   {
    "duration": 197,
    "start_time": "2022-10-08T08:48:29.616Z"
   },
   {
    "duration": 95,
    "start_time": "2022-10-08T08:48:29.815Z"
   },
   {
    "duration": 97,
    "start_time": "2022-10-08T08:48:29.912Z"
   },
   {
    "duration": 5,
    "start_time": "2022-10-08T08:48:30.011Z"
   },
   {
    "duration": 23,
    "start_time": "2022-10-08T08:48:30.017Z"
   },
   {
    "duration": 3929,
    "start_time": "2022-10-08T08:48:30.042Z"
   },
   {
    "duration": 33,
    "start_time": "2022-10-08T09:09:40.165Z"
   },
   {
    "duration": 4,
    "start_time": "2022-10-08T09:12:04.173Z"
   },
   {
    "duration": 7,
    "start_time": "2022-10-08T09:13:55.469Z"
   },
   {
    "duration": 7,
    "start_time": "2022-10-08T09:14:54.375Z"
   },
   {
    "duration": 45,
    "start_time": "2022-10-08T09:16:11.473Z"
   },
   {
    "duration": 10,
    "start_time": "2022-10-08T09:17:38.149Z"
   },
   {
    "duration": 7,
    "start_time": "2022-10-08T09:17:55.711Z"
   },
   {
    "duration": 42,
    "start_time": "2022-10-08T09:18:35.005Z"
   },
   {
    "duration": 7,
    "start_time": "2022-10-08T09:18:41.850Z"
   },
   {
    "duration": 7,
    "start_time": "2022-10-08T09:18:55.187Z"
   },
   {
    "duration": 6,
    "start_time": "2022-10-08T09:19:20.434Z"
   },
   {
    "duration": 7,
    "start_time": "2022-10-08T09:19:52.529Z"
   },
   {
    "duration": 6,
    "start_time": "2022-10-08T09:19:58.302Z"
   },
   {
    "duration": 6,
    "start_time": "2022-10-08T10:36:31.494Z"
   },
   {
    "duration": 4556,
    "start_time": "2022-10-08T10:41:05.496Z"
   },
   {
    "duration": 4074,
    "start_time": "2022-10-08T10:41:12.753Z"
   },
   {
    "duration": 17,
    "start_time": "2022-10-08T10:44:55.737Z"
   },
   {
    "duration": 4251,
    "start_time": "2022-10-08T10:45:00.158Z"
   },
   {
    "duration": 1553,
    "start_time": "2022-10-08T10:47:03.157Z"
   },
   {
    "duration": 43,
    "start_time": "2022-10-08T10:47:11.536Z"
   },
   {
    "duration": 4112,
    "start_time": "2022-10-08T10:47:20.743Z"
   },
   {
    "duration": 4052,
    "start_time": "2022-10-08T10:48:34.831Z"
   },
   {
    "duration": 1236,
    "start_time": "2022-10-08T10:57:25.051Z"
   },
   {
    "duration": 351,
    "start_time": "2022-10-08T10:57:26.289Z"
   },
   {
    "duration": 119,
    "start_time": "2022-10-08T10:57:26.642Z"
   },
   {
    "duration": 49,
    "start_time": "2022-10-08T10:57:26.764Z"
   },
   {
    "duration": 33,
    "start_time": "2022-10-08T10:57:26.815Z"
   },
   {
    "duration": 31,
    "start_time": "2022-10-08T10:57:26.849Z"
   },
   {
    "duration": 32,
    "start_time": "2022-10-08T10:57:26.882Z"
   },
   {
    "duration": 40,
    "start_time": "2022-10-08T10:57:26.916Z"
   },
   {
    "duration": 56,
    "start_time": "2022-10-08T10:57:26.957Z"
   },
   {
    "duration": 295,
    "start_time": "2022-10-08T10:57:27.015Z"
   },
   {
    "duration": 0,
    "start_time": "2022-10-08T10:57:27.311Z"
   },
   {
    "duration": 0,
    "start_time": "2022-10-08T10:57:27.313Z"
   },
   {
    "duration": 0,
    "start_time": "2022-10-08T10:57:27.314Z"
   },
   {
    "duration": 0,
    "start_time": "2022-10-08T10:57:27.315Z"
   },
   {
    "duration": 0,
    "start_time": "2022-10-08T10:57:27.316Z"
   },
   {
    "duration": 1272,
    "start_time": "2022-10-08T10:57:48.889Z"
   },
   {
    "duration": 346,
    "start_time": "2022-10-08T10:57:50.164Z"
   },
   {
    "duration": 118,
    "start_time": "2022-10-08T10:57:50.511Z"
   },
   {
    "duration": 40,
    "start_time": "2022-10-08T10:57:50.630Z"
   },
   {
    "duration": 56,
    "start_time": "2022-10-08T10:57:50.672Z"
   },
   {
    "duration": 31,
    "start_time": "2022-10-08T10:57:50.729Z"
   },
   {
    "duration": 14,
    "start_time": "2022-10-08T10:57:50.762Z"
   },
   {
    "duration": 56,
    "start_time": "2022-10-08T10:57:50.777Z"
   },
   {
    "duration": 36,
    "start_time": "2022-10-08T10:57:50.835Z"
   },
   {
    "duration": 339,
    "start_time": "2022-10-08T10:57:50.873Z"
   },
   {
    "duration": 0,
    "start_time": "2022-10-08T10:57:51.214Z"
   },
   {
    "duration": 1,
    "start_time": "2022-10-08T10:57:51.215Z"
   },
   {
    "duration": 0,
    "start_time": "2022-10-08T10:57:51.217Z"
   },
   {
    "duration": 0,
    "start_time": "2022-10-08T10:57:51.218Z"
   },
   {
    "duration": 0,
    "start_time": "2022-10-08T10:57:51.219Z"
   },
   {
    "duration": 1314,
    "start_time": "2022-10-08T10:58:10.646Z"
   },
   {
    "duration": 329,
    "start_time": "2022-10-08T10:58:11.962Z"
   },
   {
    "duration": 112,
    "start_time": "2022-10-08T10:58:12.292Z"
   },
   {
    "duration": 39,
    "start_time": "2022-10-08T10:58:12.409Z"
   },
   {
    "duration": 31,
    "start_time": "2022-10-08T10:58:12.449Z"
   },
   {
    "duration": 65,
    "start_time": "2022-10-08T10:58:12.481Z"
   },
   {
    "duration": 17,
    "start_time": "2022-10-08T10:58:12.548Z"
   },
   {
    "duration": 66,
    "start_time": "2022-10-08T10:58:12.567Z"
   },
   {
    "duration": 36,
    "start_time": "2022-10-08T10:58:12.635Z"
   },
   {
    "duration": 145,
    "start_time": "2022-10-08T10:58:12.674Z"
   },
   {
    "duration": 88,
    "start_time": "2022-10-08T10:58:12.822Z"
   },
   {
    "duration": 11,
    "start_time": "2022-10-08T10:58:12.912Z"
   },
   {
    "duration": 6,
    "start_time": "2022-10-08T10:58:13.010Z"
   },
   {
    "duration": 18,
    "start_time": "2022-10-08T10:58:13.018Z"
   },
   {
    "duration": 5125,
    "start_time": "2022-10-08T10:58:13.038Z"
   },
   {
    "duration": 1515,
    "start_time": "2022-10-08T10:58:30.313Z"
   },
   {
    "duration": 360,
    "start_time": "2022-10-08T10:58:31.830Z"
   },
   {
    "duration": 148,
    "start_time": "2022-10-08T10:58:32.195Z"
   },
   {
    "duration": 53,
    "start_time": "2022-10-08T10:58:32.345Z"
   },
   {
    "duration": 46,
    "start_time": "2022-10-08T10:58:32.399Z"
   },
   {
    "duration": 38,
    "start_time": "2022-10-08T10:58:32.448Z"
   },
   {
    "duration": 35,
    "start_time": "2022-10-08T10:58:32.487Z"
   },
   {
    "duration": 41,
    "start_time": "2022-10-08T10:58:32.523Z"
   },
   {
    "duration": 53,
    "start_time": "2022-10-08T10:58:32.566Z"
   },
   {
    "duration": 191,
    "start_time": "2022-10-08T10:58:32.620Z"
   },
   {
    "duration": 3,
    "start_time": "2022-10-08T10:58:32.813Z"
   },
   {
    "duration": 94,
    "start_time": "2022-10-08T10:58:32.818Z"
   },
   {
    "duration": 26,
    "start_time": "2022-10-08T10:58:32.913Z"
   },
   {
    "duration": 19,
    "start_time": "2022-10-08T10:58:32.941Z"
   },
   {
    "duration": 133,
    "start_time": "2022-10-08T10:58:32.962Z"
   },
   {
    "duration": 1240,
    "start_time": "2022-10-08T10:59:15.144Z"
   },
   {
    "duration": 391,
    "start_time": "2022-10-08T10:59:16.386Z"
   },
   {
    "duration": 131,
    "start_time": "2022-10-08T10:59:16.779Z"
   },
   {
    "duration": 40,
    "start_time": "2022-10-08T10:59:16.912Z"
   },
   {
    "duration": 35,
    "start_time": "2022-10-08T10:59:16.953Z"
   },
   {
    "duration": 42,
    "start_time": "2022-10-08T10:59:17.009Z"
   },
   {
    "duration": 14,
    "start_time": "2022-10-08T10:59:17.052Z"
   },
   {
    "duration": 65,
    "start_time": "2022-10-08T10:59:17.067Z"
   },
   {
    "duration": 35,
    "start_time": "2022-10-08T10:59:17.134Z"
   },
   {
    "duration": 245,
    "start_time": "2022-10-08T10:59:17.171Z"
   },
   {
    "duration": 4,
    "start_time": "2022-10-08T10:59:17.418Z"
   },
   {
    "duration": 98,
    "start_time": "2022-10-08T10:59:17.424Z"
   },
   {
    "duration": 10,
    "start_time": "2022-10-08T10:59:17.523Z"
   },
   {
    "duration": 27,
    "start_time": "2022-10-08T10:59:17.535Z"
   },
   {
    "duration": 4112,
    "start_time": "2022-10-08T10:59:17.564Z"
   },
   {
    "duration": 4395,
    "start_time": "2022-10-08T11:02:02.369Z"
   },
   {
    "duration": 16,
    "start_time": "2022-10-08T11:09:02.044Z"
   },
   {
    "duration": 128,
    "start_time": "2022-10-08T11:11:57.320Z"
   },
   {
    "duration": 21,
    "start_time": "2022-10-08T11:12:06.112Z"
   },
   {
    "duration": 4138,
    "start_time": "2022-10-08T11:12:33.758Z"
   },
   {
    "duration": 4122,
    "start_time": "2022-10-08T11:12:48.442Z"
   },
   {
    "duration": 23,
    "start_time": "2022-10-08T11:12:57.061Z"
   },
   {
    "duration": 4215,
    "start_time": "2022-10-08T11:13:03.396Z"
   },
   {
    "duration": 548,
    "start_time": "2022-10-08T11:16:12.337Z"
   },
   {
    "duration": 208,
    "start_time": "2022-10-08T11:16:45.440Z"
   },
   {
    "duration": 4,
    "start_time": "2022-10-08T11:21:30.037Z"
   },
   {
    "duration": 11,
    "start_time": "2022-10-08T11:21:38.112Z"
   },
   {
    "duration": 9,
    "start_time": "2022-10-08T11:21:42.547Z"
   },
   {
    "duration": 1300,
    "start_time": "2022-10-08T11:24:44.134Z"
   },
   {
    "duration": 341,
    "start_time": "2022-10-08T11:24:45.436Z"
   },
   {
    "duration": 112,
    "start_time": "2022-10-08T11:24:45.779Z"
   },
   {
    "duration": 50,
    "start_time": "2022-10-08T11:24:45.894Z"
   },
   {
    "duration": 33,
    "start_time": "2022-10-08T11:24:45.945Z"
   },
   {
    "duration": 50,
    "start_time": "2022-10-08T11:24:45.980Z"
   },
   {
    "duration": 13,
    "start_time": "2022-10-08T11:24:46.032Z"
   },
   {
    "duration": 38,
    "start_time": "2022-10-08T11:24:46.047Z"
   },
   {
    "duration": 175,
    "start_time": "2022-10-08T11:24:46.087Z"
   },
   {
    "duration": 49,
    "start_time": "2022-10-08T11:24:46.265Z"
   },
   {
    "duration": 205,
    "start_time": "2022-10-08T11:24:46.315Z"
   },
   {
    "duration": 3,
    "start_time": "2022-10-08T11:24:46.522Z"
   },
   {
    "duration": 6,
    "start_time": "2022-10-08T11:24:46.609Z"
   },
   {
    "duration": 8,
    "start_time": "2022-10-08T11:24:46.616Z"
   },
   {
    "duration": 17,
    "start_time": "2022-10-08T11:24:46.625Z"
   },
   {
    "duration": 4880,
    "start_time": "2022-10-08T11:24:46.644Z"
   },
   {
    "duration": 184,
    "start_time": "2022-10-08T11:24:56.327Z"
   },
   {
    "duration": 156,
    "start_time": "2022-10-08T11:25:36.699Z"
   },
   {
    "duration": 185,
    "start_time": "2022-10-08T11:27:24.346Z"
   },
   {
    "duration": 173,
    "start_time": "2022-10-08T11:28:34.540Z"
   },
   {
    "duration": 9,
    "start_time": "2022-10-08T11:28:44.036Z"
   },
   {
    "duration": 25,
    "start_time": "2022-10-08T11:28:47.546Z"
   },
   {
    "duration": 1278,
    "start_time": "2022-10-08T11:31:04.304Z"
   },
   {
    "duration": 339,
    "start_time": "2022-10-08T11:31:05.584Z"
   },
   {
    "duration": 117,
    "start_time": "2022-10-08T11:31:05.924Z"
   },
   {
    "duration": 38,
    "start_time": "2022-10-08T11:31:06.044Z"
   },
   {
    "duration": 46,
    "start_time": "2022-10-08T11:31:06.083Z"
   },
   {
    "duration": 30,
    "start_time": "2022-10-08T11:31:06.130Z"
   },
   {
    "duration": 14,
    "start_time": "2022-10-08T11:31:06.161Z"
   },
   {
    "duration": 60,
    "start_time": "2022-10-08T11:31:06.177Z"
   },
   {
    "duration": 6,
    "start_time": "2022-10-08T11:31:06.239Z"
   },
   {
    "duration": 78,
    "start_time": "2022-10-08T11:31:06.247Z"
   },
   {
    "duration": 191,
    "start_time": "2022-10-08T11:31:06.327Z"
   },
   {
    "duration": 91,
    "start_time": "2022-10-08T11:31:06.520Z"
   },
   {
    "duration": 104,
    "start_time": "2022-10-08T11:31:06.615Z"
   },
   {
    "duration": 12,
    "start_time": "2022-10-08T11:31:06.720Z"
   },
   {
    "duration": 19,
    "start_time": "2022-10-08T11:31:06.733Z"
   },
   {
    "duration": 4688,
    "start_time": "2022-10-08T11:31:06.754Z"
   },
   {
    "duration": 1279,
    "start_time": "2022-10-08T11:33:31.479Z"
   },
   {
    "duration": 351,
    "start_time": "2022-10-08T11:33:32.760Z"
   },
   {
    "duration": 113,
    "start_time": "2022-10-08T11:33:33.113Z"
   },
   {
    "duration": 40,
    "start_time": "2022-10-08T11:33:33.228Z"
   },
   {
    "duration": 48,
    "start_time": "2022-10-08T11:33:33.270Z"
   },
   {
    "duration": 32,
    "start_time": "2022-10-08T11:33:33.320Z"
   },
   {
    "duration": 14,
    "start_time": "2022-10-08T11:33:33.354Z"
   },
   {
    "duration": 63,
    "start_time": "2022-10-08T11:33:33.370Z"
   },
   {
    "duration": 236,
    "start_time": "2022-10-08T11:33:33.435Z"
   },
   {
    "duration": 47,
    "start_time": "2022-10-08T11:33:33.673Z"
   },
   {
    "duration": 191,
    "start_time": "2022-10-08T11:33:33.722Z"
   },
   {
    "duration": 4,
    "start_time": "2022-10-08T11:33:33.914Z"
   },
   {
    "duration": 4,
    "start_time": "2022-10-08T11:33:34.010Z"
   },
   {
    "duration": 9,
    "start_time": "2022-10-08T11:33:34.017Z"
   },
   {
    "duration": 17,
    "start_time": "2022-10-08T11:33:34.027Z"
   },
   {
    "duration": 4142,
    "start_time": "2022-10-08T11:33:34.045Z"
   },
   {
    "duration": 179,
    "start_time": "2022-10-08T11:34:01.817Z"
   },
   {
    "duration": 123,
    "start_time": "2022-10-08T11:34:20.379Z"
   },
   {
    "duration": 119,
    "start_time": "2022-10-08T11:34:25.576Z"
   },
   {
    "duration": 123,
    "start_time": "2022-10-09T07:13:07.880Z"
   }
  ],
  "kernelspec": {
   "display_name": "Python 3",
   "language": "python",
   "name": "python3"
  },
  "language_info": {
   "codemirror_mode": {
    "name": "ipython",
    "version": 3
   },
   "file_extension": ".py",
   "mimetype": "text/x-python",
   "name": "python",
   "nbconvert_exporter": "python",
   "pygments_lexer": "ipython3",
   "version": "3.8.5"
  },
  "toc": {
   "base_numbering": 1,
   "nav_menu": {},
   "number_sections": true,
   "sideBar": true,
   "skip_h1_title": true,
   "title_cell": "Table of Contents",
   "title_sidebar": "Contents",
   "toc_cell": false,
   "toc_position": {
    "height": "calc(100% - 180px)",
    "left": "10px",
    "top": "150px",
    "width": "379.083px"
   },
   "toc_section_display": true,
   "toc_window_display": false
  }
 },
 "nbformat": 4,
 "nbformat_minor": 2
}
