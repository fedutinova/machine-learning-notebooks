{
 "cells": [
  {
   "cell_type": "markdown",
   "metadata": {
    "pycharm": {
     "name": "#%% md\n"
    }
   },
   "source": [
    "# Проект \"Промышленность\"\n",
    "\n",
    "### Условие задачи\n",
    "\n",
    "Чтобы оптимизировать производственные расходы, металлургический комбинат ООО «Так закаляем сталь» решил уменьшить потребление электроэнергии на этапе обработки стали. Вам предстоит построить модель, которая предскажет температуру стали.\n",
    "\n",
    "### Описание этапа обработки\n",
    "\n",
    "Сталь обрабатывают в металлическом ковше вместимостью около 100 тонн. Чтобы ковш выдерживал высокие температуры, изнутри его облицовывают огнеупорным кирпичом. Расплавленную сталь заливают в ковш и подогревают до нужной температуры графитовыми электродами. Они установлены в крышке ковша. \n",
    "\n",
    "Из сплава выводится сера (десульфурация), добавлением примесей корректируется химический состав и отбираются пробы. Сталь легируют — изменяют её состав — подавая куски сплава из бункера для сыпучих материалов или проволоку через специальный трайб-аппарат (англ. tribe, «масса»).\n",
    "\n",
    "Перед тем как первый раз ввести легирующие добавки, измеряют температуру стали и производят её химический анализ. Потом температуру на несколько минут повышают, добавляют легирующие материалы и продувают сплав инертным газом. Затем его перемешивают и снова проводят измерения. Такой цикл повторяется до достижения целевого химического состава и оптимальной температуры плавки.\n",
    "\n",
    "Тогда расплавленная сталь отправляется на доводку металла или поступает в машину непрерывной разливки. Оттуда готовый продукт выходит в виде заготовок-слябов (англ. *slab*, «плита»).\n",
    "\n",
    "### Описание данных\n",
    "\n",
    "Данные состоят из файлов, полученных из разных источников:\n",
    "\n",
    "- `data_arc.csv` — данные об электродах;\n",
    "- `data_bulk.csv` — данные о подаче сыпучих материалов (объём);\n",
    "- `data_bulk_time.csv` *—* данные о подаче сыпучих материалов (время);\n",
    "- `data_gas.csv` — данные о продувке сплава газом;\n",
    "- `data_temp.csv` — результаты измерения температуры;\n",
    "- `data_wire.csv` — данные о проволочных материалах (объём);\n",
    "- `data_wire_time.csv` — данные о проволочных материалах (время).\n",
    "\n",
    "Во всех файлах столбец `key` содержит номер партии. В файлах может быть несколько строк с одинаковым значением `key`: они соответствуют разным итерациям обработки.\n",
    "\n",
    "### План работы\n",
    "\n",
    "1. Подготовить данные. Изменить типы данных; определить и использовать номера партий, у которых есть замеры по температуре.\n",
    "2. Подготовка признаков. Составление единой таблицы со всеми данными для модели. Выделение целевого признака как последний замер в серии замеров. Разделение на features и target со смешиванием данных.\n",
    "3. Выбор моделей. Обучение регрессионных моделей, например, CatBoostRegressor, LGBMRegressor и т.д.\n",
    "4. Оценка эффективности моделей на тестовой выборке, сравнение с валидационной моделью, основанной на средних показателях температуры"
   ]
  },
  {
   "cell_type": "markdown",
   "metadata": {
    "pycharm": {
     "name": "#%% md\n"
    }
   },
   "source": [
    "Подгрузим необходимые модули для работы."
   ]
  },
  {
   "cell_type": "code",
   "execution_count": 2,
   "metadata": {
    "pycharm": {
     "is_executing": true,
     "name": "#%%\n"
    }
   },
   "outputs": [],
   "source": [
    "import pandas as pd\n",
    "import numpy as np\n",
    "import warnings\n",
    "import matplotlib.pyplot as plt\n",
    "import optuna\n",
    "import pickle\n",
    "from scipy import stats as st\n",
    "from sklearn.model_selection import train_test_split\n",
    "from sklearn.metrics import mean_absolute_error\n",
    "from sklearn.model_selection import cross_val_score\n",
    "from sklearn.model_selection import GridSearchCV\n",
    "from sklearn.linear_model import LinearRegression\n",
    "from sklearn.ensemble import RandomForestRegressor\n",
    "from sklearn.preprocessing import MinMaxScaler \n",
    "from catboost import CatBoostRegressor\n",
    "import lightgbm as lgb\n",
    "from lightgbm import LGBMRegressor\n",
    "from sklearn.dummy import DummyRegressor\n",
    "\n",
    "from sklearn.pipeline import Pipeline\n",
    "from sklearn.preprocessing import StandardScaler, OneHotEncoder\n",
    "from sklearn.compose import make_column_transformer, make_column_selector\n",
    "from sklearn.model_selection import GridSearchCV"
   ]
  },
  {
   "cell_type": "markdown",
   "metadata": {
    "pycharm": {
     "name": "#%% md\n"
    }
   },
   "source": [
    "## 1. Изучение данных"
   ]
  },
  {
   "cell_type": "code",
   "execution_count": 3,
   "metadata": {
    "pycharm": {
     "name": "#%%\n"
    }
   },
   "outputs": [],
   "source": [
    "#Функция для изучения данных в датасете\n",
    "\n",
    "def dataset_info(data):\n",
    "    data.info()\n",
    "    display(data.head(10))\n",
    "    display(data.describe(include='all'))\n",
    "    print('Количество дубликатов:', data.duplicated().sum())\n",
    "    print('Количество уникальных партий:', data['key'].nunique())"
   ]
  },
  {
   "cell_type": "code",
   "execution_count": 4,
   "metadata": {
    "pycharm": {
     "name": "#%%\n"
    }
   },
   "outputs": [],
   "source": [
    "try:\n",
    "    data_arc = pd.read_csv('./data_arc.csv')\n",
    "    data_bulk = pd.read_csv('./data_bulk.csv')\n",
    "    data_bulk_time = pd.read_csv('./data_bulk_time.csv')\n",
    "    data_gas = pd.read_csv('./data_gas.csv')\n",
    "    data_temp = pd.read_csv('./data_temp.csv')\n",
    "    data_wire = pd.read_csv('./data_wire.csv')\n",
    "    data_wire_time = pd.read_csv('./data_wire_time.csv')\n",
    "except:\n",
    "    data_arc = pd.read_csv('/datasets/final_steel/data_arc.csv')\n",
    "    data_bulk = pd.read_csv('/datasets/final_steel/data_bulk.csv')\n",
    "    data_bulk_time = pd.read_csv('/datasets/final_steel/data_bulk_time.csv')\n",
    "    data_gas = pd.read_csv('/datasets/final_steel/data_gas.csv')\n",
    "    data_temp = pd.read_csv('/datasets/final_steel/data_temp.csv')\n",
    "    data_wire = pd.read_csv('/datasets/final_steel/data_wire.csv')\n",
    "    data_wire_time = pd.read_csv('/datasets/final_steel/data_wire_time.csv')"
   ]
  },
  {
   "cell_type": "markdown",
   "metadata": {
    "pycharm": {
     "name": "#%% md\n"
    }
   },
   "source": [
    "### 1.1 Данные об электродах"
   ]
  },
  {
   "cell_type": "code",
   "execution_count": 5,
   "metadata": {
    "pycharm": {
     "name": "#%%\n"
    }
   },
   "outputs": [
    {
     "name": "stdout",
     "output_type": "stream",
     "text": [
      "<class 'pandas.core.frame.DataFrame'>\n",
      "RangeIndex: 14876 entries, 0 to 14875\n",
      "Data columns (total 5 columns):\n",
      " #   Column                Non-Null Count  Dtype  \n",
      "---  ------                --------------  -----  \n",
      " 0   key                   14876 non-null  int64  \n",
      " 1   Начало нагрева дугой  14876 non-null  object \n",
      " 2   Конец нагрева дугой   14876 non-null  object \n",
      " 3   Активная мощность     14876 non-null  float64\n",
      " 4   Реактивная мощность   14876 non-null  float64\n",
      "dtypes: float64(2), int64(1), object(2)\n",
      "memory usage: 581.2+ KB\n"
     ]
    },
    {
     "data": {
      "text/html": [
       "<div>\n",
       "<style scoped>\n",
       "    .dataframe tbody tr th:only-of-type {\n",
       "        vertical-align: middle;\n",
       "    }\n",
       "\n",
       "    .dataframe tbody tr th {\n",
       "        vertical-align: top;\n",
       "    }\n",
       "\n",
       "    .dataframe thead th {\n",
       "        text-align: right;\n",
       "    }\n",
       "</style>\n",
       "<table border=\"1\" class=\"dataframe\">\n",
       "  <thead>\n",
       "    <tr style=\"text-align: right;\">\n",
       "      <th></th>\n",
       "      <th>key</th>\n",
       "      <th>Начало нагрева дугой</th>\n",
       "      <th>Конец нагрева дугой</th>\n",
       "      <th>Активная мощность</th>\n",
       "      <th>Реактивная мощность</th>\n",
       "    </tr>\n",
       "  </thead>\n",
       "  <tbody>\n",
       "    <tr>\n",
       "      <th>0</th>\n",
       "      <td>1</td>\n",
       "      <td>2019-05-03 11:02:14</td>\n",
       "      <td>2019-05-03 11:06:02</td>\n",
       "      <td>0.976059</td>\n",
       "      <td>0.687084</td>\n",
       "    </tr>\n",
       "    <tr>\n",
       "      <th>1</th>\n",
       "      <td>1</td>\n",
       "      <td>2019-05-03 11:07:28</td>\n",
       "      <td>2019-05-03 11:10:33</td>\n",
       "      <td>0.805607</td>\n",
       "      <td>0.520285</td>\n",
       "    </tr>\n",
       "    <tr>\n",
       "      <th>2</th>\n",
       "      <td>1</td>\n",
       "      <td>2019-05-03 11:11:44</td>\n",
       "      <td>2019-05-03 11:14:36</td>\n",
       "      <td>0.744363</td>\n",
       "      <td>0.498805</td>\n",
       "    </tr>\n",
       "    <tr>\n",
       "      <th>3</th>\n",
       "      <td>1</td>\n",
       "      <td>2019-05-03 11:18:14</td>\n",
       "      <td>2019-05-03 11:24:19</td>\n",
       "      <td>1.659363</td>\n",
       "      <td>1.062669</td>\n",
       "    </tr>\n",
       "    <tr>\n",
       "      <th>4</th>\n",
       "      <td>1</td>\n",
       "      <td>2019-05-03 11:26:09</td>\n",
       "      <td>2019-05-03 11:28:37</td>\n",
       "      <td>0.692755</td>\n",
       "      <td>0.414397</td>\n",
       "    </tr>\n",
       "    <tr>\n",
       "      <th>5</th>\n",
       "      <td>2</td>\n",
       "      <td>2019-05-03 11:34:14</td>\n",
       "      <td>2019-05-03 11:36:31</td>\n",
       "      <td>0.438063</td>\n",
       "      <td>0.283043</td>\n",
       "    </tr>\n",
       "    <tr>\n",
       "      <th>6</th>\n",
       "      <td>2</td>\n",
       "      <td>2019-05-03 11:38:50</td>\n",
       "      <td>2019-05-03 11:44:28</td>\n",
       "      <td>1.296415</td>\n",
       "      <td>0.892914</td>\n",
       "    </tr>\n",
       "    <tr>\n",
       "      <th>7</th>\n",
       "      <td>2</td>\n",
       "      <td>2019-05-03 11:46:19</td>\n",
       "      <td>2019-05-03 11:48:25</td>\n",
       "      <td>0.490377</td>\n",
       "      <td>0.305281</td>\n",
       "    </tr>\n",
       "    <tr>\n",
       "      <th>8</th>\n",
       "      <td>2</td>\n",
       "      <td>2019-05-03 11:49:48</td>\n",
       "      <td>2019-05-03 11:53:18</td>\n",
       "      <td>0.827743</td>\n",
       "      <td>0.516874</td>\n",
       "    </tr>\n",
       "    <tr>\n",
       "      <th>9</th>\n",
       "      <td>3</td>\n",
       "      <td>2019-05-03 12:06:54</td>\n",
       "      <td>2019-05-03 12:11:34</td>\n",
       "      <td>1.062053</td>\n",
       "      <td>0.671494</td>\n",
       "    </tr>\n",
       "  </tbody>\n",
       "</table>\n",
       "</div>"
      ],
      "text/plain": [
       "   key Начало нагрева дугой  Конец нагрева дугой  Активная мощность  \\\n",
       "0    1  2019-05-03 11:02:14  2019-05-03 11:06:02           0.976059   \n",
       "1    1  2019-05-03 11:07:28  2019-05-03 11:10:33           0.805607   \n",
       "2    1  2019-05-03 11:11:44  2019-05-03 11:14:36           0.744363   \n",
       "3    1  2019-05-03 11:18:14  2019-05-03 11:24:19           1.659363   \n",
       "4    1  2019-05-03 11:26:09  2019-05-03 11:28:37           0.692755   \n",
       "5    2  2019-05-03 11:34:14  2019-05-03 11:36:31           0.438063   \n",
       "6    2  2019-05-03 11:38:50  2019-05-03 11:44:28           1.296415   \n",
       "7    2  2019-05-03 11:46:19  2019-05-03 11:48:25           0.490377   \n",
       "8    2  2019-05-03 11:49:48  2019-05-03 11:53:18           0.827743   \n",
       "9    3  2019-05-03 12:06:54  2019-05-03 12:11:34           1.062053   \n",
       "\n",
       "   Реактивная мощность  \n",
       "0             0.687084  \n",
       "1             0.520285  \n",
       "2             0.498805  \n",
       "3             1.062669  \n",
       "4             0.414397  \n",
       "5             0.283043  \n",
       "6             0.892914  \n",
       "7             0.305281  \n",
       "8             0.516874  \n",
       "9             0.671494  "
      ]
     },
     "metadata": {},
     "output_type": "display_data"
    },
    {
     "data": {
      "text/html": [
       "<div>\n",
       "<style scoped>\n",
       "    .dataframe tbody tr th:only-of-type {\n",
       "        vertical-align: middle;\n",
       "    }\n",
       "\n",
       "    .dataframe tbody tr th {\n",
       "        vertical-align: top;\n",
       "    }\n",
       "\n",
       "    .dataframe thead th {\n",
       "        text-align: right;\n",
       "    }\n",
       "</style>\n",
       "<table border=\"1\" class=\"dataframe\">\n",
       "  <thead>\n",
       "    <tr style=\"text-align: right;\">\n",
       "      <th></th>\n",
       "      <th>key</th>\n",
       "      <th>Начало нагрева дугой</th>\n",
       "      <th>Конец нагрева дугой</th>\n",
       "      <th>Активная мощность</th>\n",
       "      <th>Реактивная мощность</th>\n",
       "    </tr>\n",
       "  </thead>\n",
       "  <tbody>\n",
       "    <tr>\n",
       "      <th>count</th>\n",
       "      <td>14876.000000</td>\n",
       "      <td>14876</td>\n",
       "      <td>14876</td>\n",
       "      <td>14876.000000</td>\n",
       "      <td>14876.000000</td>\n",
       "    </tr>\n",
       "    <tr>\n",
       "      <th>unique</th>\n",
       "      <td>NaN</td>\n",
       "      <td>14875</td>\n",
       "      <td>14876</td>\n",
       "      <td>NaN</td>\n",
       "      <td>NaN</td>\n",
       "    </tr>\n",
       "    <tr>\n",
       "      <th>top</th>\n",
       "      <td>NaN</td>\n",
       "      <td>2019-06-10 22:02:03</td>\n",
       "      <td>2019-05-03 11:06:02</td>\n",
       "      <td>NaN</td>\n",
       "      <td>NaN</td>\n",
       "    </tr>\n",
       "    <tr>\n",
       "      <th>freq</th>\n",
       "      <td>NaN</td>\n",
       "      <td>2</td>\n",
       "      <td>1</td>\n",
       "      <td>NaN</td>\n",
       "      <td>NaN</td>\n",
       "    </tr>\n",
       "    <tr>\n",
       "      <th>mean</th>\n",
       "      <td>1615.220422</td>\n",
       "      <td>NaN</td>\n",
       "      <td>NaN</td>\n",
       "      <td>0.670441</td>\n",
       "      <td>0.452592</td>\n",
       "    </tr>\n",
       "    <tr>\n",
       "      <th>std</th>\n",
       "      <td>934.571502</td>\n",
       "      <td>NaN</td>\n",
       "      <td>NaN</td>\n",
       "      <td>0.408159</td>\n",
       "      <td>5.878702</td>\n",
       "    </tr>\n",
       "    <tr>\n",
       "      <th>min</th>\n",
       "      <td>1.000000</td>\n",
       "      <td>NaN</td>\n",
       "      <td>NaN</td>\n",
       "      <td>0.030002</td>\n",
       "      <td>-715.504924</td>\n",
       "    </tr>\n",
       "    <tr>\n",
       "      <th>25%</th>\n",
       "      <td>806.000000</td>\n",
       "      <td>NaN</td>\n",
       "      <td>NaN</td>\n",
       "      <td>0.395297</td>\n",
       "      <td>0.290991</td>\n",
       "    </tr>\n",
       "    <tr>\n",
       "      <th>50%</th>\n",
       "      <td>1617.000000</td>\n",
       "      <td>NaN</td>\n",
       "      <td>NaN</td>\n",
       "      <td>0.555517</td>\n",
       "      <td>0.415962</td>\n",
       "    </tr>\n",
       "    <tr>\n",
       "      <th>75%</th>\n",
       "      <td>2429.000000</td>\n",
       "      <td>NaN</td>\n",
       "      <td>NaN</td>\n",
       "      <td>0.857034</td>\n",
       "      <td>0.637371</td>\n",
       "    </tr>\n",
       "    <tr>\n",
       "      <th>max</th>\n",
       "      <td>3241.000000</td>\n",
       "      <td>NaN</td>\n",
       "      <td>NaN</td>\n",
       "      <td>3.731596</td>\n",
       "      <td>2.676388</td>\n",
       "    </tr>\n",
       "  </tbody>\n",
       "</table>\n",
       "</div>"
      ],
      "text/plain": [
       "                 key Начало нагрева дугой  Конец нагрева дугой  \\\n",
       "count   14876.000000                14876                14876   \n",
       "unique           NaN                14875                14876   \n",
       "top              NaN  2019-06-10 22:02:03  2019-05-03 11:06:02   \n",
       "freq             NaN                    2                    1   \n",
       "mean     1615.220422                  NaN                  NaN   \n",
       "std       934.571502                  NaN                  NaN   \n",
       "min         1.000000                  NaN                  NaN   \n",
       "25%       806.000000                  NaN                  NaN   \n",
       "50%      1617.000000                  NaN                  NaN   \n",
       "75%      2429.000000                  NaN                  NaN   \n",
       "max      3241.000000                  NaN                  NaN   \n",
       "\n",
       "        Активная мощность  Реактивная мощность  \n",
       "count        14876.000000         14876.000000  \n",
       "unique                NaN                  NaN  \n",
       "top                   NaN                  NaN  \n",
       "freq                  NaN                  NaN  \n",
       "mean             0.670441             0.452592  \n",
       "std              0.408159             5.878702  \n",
       "min              0.030002          -715.504924  \n",
       "25%              0.395297             0.290991  \n",
       "50%              0.555517             0.415962  \n",
       "75%              0.857034             0.637371  \n",
       "max              3.731596             2.676388  "
      ]
     },
     "metadata": {},
     "output_type": "display_data"
    },
    {
     "name": "stdout",
     "output_type": "stream",
     "text": [
      "Количество дубликатов: 0\n",
      "Количество уникальных партий: 3214\n"
     ]
    }
   ],
   "source": [
    "dataset_info(data_arc)"
   ]
  },
  {
   "cell_type": "markdown",
   "metadata": {
    "pycharm": {
     "name": "#%% md\n"
    }
   },
   "source": [
    "* Имеем 14 876 строк\n",
    "* Количество уникальных партий: 3214\n",
    "* Необходимо изменить тип данных у \"Начало нагрева дугой\" и \"Конец нагрева дугой\" на datetime\n",
    "* Пропусков и дубликатов нет\n",
    "* Есть аномальное значение Реактивной мощности: -715. Возможно ошибка измерения"
   ]
  },
  {
   "cell_type": "code",
   "execution_count": 6,
   "metadata": {
    "pycharm": {
     "name": "#%%\n"
    }
   },
   "outputs": [
    {
     "name": "stdout",
     "output_type": "stream",
     "text": [
      "<class 'pandas.core.frame.DataFrame'>\n",
      "RangeIndex: 14876 entries, 0 to 14875\n",
      "Data columns (total 5 columns):\n",
      " #   Column                Non-Null Count  Dtype         \n",
      "---  ------                --------------  -----         \n",
      " 0   key                   14876 non-null  int64         \n",
      " 1   Начало нагрева дугой  14876 non-null  datetime64[ns]\n",
      " 2   Конец нагрева дугой   14876 non-null  datetime64[ns]\n",
      " 3   Активная мощность     14876 non-null  float64       \n",
      " 4   Реактивная мощность   14876 non-null  float64       \n",
      "dtypes: datetime64[ns](2), float64(2), int64(1)\n",
      "memory usage: 581.2 KB\n"
     ]
    }
   ],
   "source": [
    "data_arc['Начало нагрева дугой'] = pd.to_datetime(data_arc['Начало нагрева дугой'])\n",
    "data_arc['Конец нагрева дугой'] = pd.to_datetime(data_arc['Конец нагрева дугой'])\n",
    "\n",
    "data_arc.info()"
   ]
  },
  {
   "cell_type": "code",
   "execution_count": 7,
   "metadata": {
    "pycharm": {
     "name": "#%%\n"
    }
   },
   "outputs": [
    {
     "data": {
      "text/plain": [
       "<AxesSubplot:>"
      ]
     },
     "execution_count": 7,
     "metadata": {},
     "output_type": "execute_result"
    },
    {
     "data": {
      "image/png": "[encoded data removed]",
      "text/plain": [
       "<Figure size 1600x1000 with 1 Axes>"
      ]
     },
     "metadata": {},
     "output_type": "display_data"
    }
   ],
   "source": [
    "#Посмотрим на распределение активной мощности\n",
    "data_arc['Активная мощность'].hist(bins=30, figsize=(16,10))"
   ]
  },
  {
   "cell_type": "markdown",
   "metadata": {
    "pycharm": {
     "name": "#%% md\n"
    }
   },
   "source": [
    "Нормальное рапредение со сдвигом влево"
   ]
  },
  {
   "cell_type": "code",
   "execution_count": 8,
   "metadata": {
    "pycharm": {
     "name": "#%%\n"
    }
   },
   "outputs": [
    {
     "data": {
      "text/plain": [
       "<AxesSubplot:>"
      ]
     },
     "execution_count": 8,
     "metadata": {},
     "output_type": "execute_result"
    },
    {
     "data": {
      "image/png": "[encoded data removed]",
      "text/plain": [
       "<Figure size 1600x1000 with 1 Axes>"
      ]
     },
     "metadata": {},
     "output_type": "display_data"
    }
   ],
   "source": [
    "data_arc['Реактивная мощность'].hist(bins=30, figsize=(16,10))"
   ]
  },
  {
   "cell_type": "code",
   "execution_count": 9,
   "metadata": {
    "pycharm": {
     "name": "#%%\n"
    }
   },
   "outputs": [],
   "source": [
    "#Избавимся от выбросов меньше нуля\n",
    "data_arc = data_arc[data_arc['Реактивная мощность'] >= 0]"
   ]
  },
  {
   "cell_type": "code",
   "execution_count": 10,
   "metadata": {
    "pycharm": {
     "name": "#%%\n"
    }
   },
   "outputs": [
    {
     "data": {
      "text/plain": [
       "<AxesSubplot:>"
      ]
     },
     "execution_count": 10,
     "metadata": {},
     "output_type": "execute_result"
    },
    {
     "data": {
      "image/png": "[encoded data removed]",
      "text/plain": [
       "<Figure size 1600x1000 with 1 Axes>"
      ]
     },
     "metadata": {},
     "output_type": "display_data"
    }
   ],
   "source": [
    "data_arc['Реактивная мощность'].hist(bins=30, figsize=(16,10))"
   ]
  },
  {
   "cell_type": "markdown",
   "metadata": {
    "pycharm": {
     "name": "#%% md\n"
    }
   },
   "source": [
    "Нормальное рапредение со сдвигом влево"
   ]
  },
  {
   "cell_type": "markdown",
   "metadata": {
    "pycharm": {
     "name": "#%% md\n"
    }
   },
   "source": [
    "### 1.2 Данные о подаче сыпучих материалов (объём)"
   ]
  },
  {
   "cell_type": "code",
   "execution_count": 11,
   "metadata": {
    "pycharm": {
     "name": "#%%\n"
    }
   },
   "outputs": [
    {
     "name": "stdout",
     "output_type": "stream",
     "text": [
      "<class 'pandas.core.frame.DataFrame'>\n",
      "RangeIndex: 3129 entries, 0 to 3128\n",
      "Data columns (total 16 columns):\n",
      " #   Column   Non-Null Count  Dtype  \n",
      "---  ------   --------------  -----  \n",
      " 0   key      3129 non-null   int64  \n",
      " 1   Bulk 1   252 non-null    float64\n",
      " 2   Bulk 2   22 non-null     float64\n",
      " 3   Bulk 3   1298 non-null   float64\n",
      " 4   Bulk 4   1014 non-null   float64\n",
      " 5   Bulk 5   77 non-null     float64\n",
      " 6   Bulk 6   576 non-null    float64\n",
      " 7   Bulk 7   25 non-null     float64\n",
      " 8   Bulk 8   1 non-null      float64\n",
      " 9   Bulk 9   19 non-null     float64\n",
      " 10  Bulk 10  176 non-null    float64\n",
      " 11  Bulk 11  177 non-null    float64\n",
      " 12  Bulk 12  2450 non-null   float64\n",
      " 13  Bulk 13  18 non-null     float64\n",
      " 14  Bulk 14  2806 non-null   float64\n",
      " 15  Bulk 15  2248 non-null   float64\n",
      "dtypes: float64(15), int64(1)\n",
      "memory usage: 391.2 KB\n"
     ]
    },
    {
     "data": {
      "text/html": [
       "<div>\n",
       "<style scoped>\n",
       "    .dataframe tbody tr th:only-of-type {\n",
       "        vertical-align: middle;\n",
       "    }\n",
       "\n",
       "    .dataframe tbody tr th {\n",
       "        vertical-align: top;\n",
       "    }\n",
       "\n",
       "    .dataframe thead th {\n",
       "        text-align: right;\n",
       "    }\n",
       "</style>\n",
       "<table border=\"1\" class=\"dataframe\">\n",
       "  <thead>\n",
       "    <tr style=\"text-align: right;\">\n",
       "      <th></th>\n",
       "      <th>key</th>\n",
       "      <th>Bulk 1</th>\n",
       "      <th>Bulk 2</th>\n",
       "      <th>Bulk 3</th>\n",
       "      <th>Bulk 4</th>\n",
       "      <th>Bulk 5</th>\n",
       "      <th>Bulk 6</th>\n",
       "      <th>Bulk 7</th>\n",
       "      <th>Bulk 8</th>\n",
       "      <th>Bulk 9</th>\n",
       "      <th>Bulk 10</th>\n",
       "      <th>Bulk 11</th>\n",
       "      <th>Bulk 12</th>\n",
       "      <th>Bulk 13</th>\n",
       "      <th>Bulk 14</th>\n",
       "      <th>Bulk 15</th>\n",
       "    </tr>\n",
       "  </thead>\n",
       "  <tbody>\n",
       "    <tr>\n",
       "      <th>0</th>\n",
       "      <td>1</td>\n",
       "      <td>NaN</td>\n",
       "      <td>NaN</td>\n",
       "      <td>NaN</td>\n",
       "      <td>43.0</td>\n",
       "      <td>NaN</td>\n",
       "      <td>NaN</td>\n",
       "      <td>NaN</td>\n",
       "      <td>NaN</td>\n",
       "      <td>NaN</td>\n",
       "      <td>NaN</td>\n",
       "      <td>NaN</td>\n",
       "      <td>206.0</td>\n",
       "      <td>NaN</td>\n",
       "      <td>150.0</td>\n",
       "      <td>154.0</td>\n",
       "    </tr>\n",
       "    <tr>\n",
       "      <th>1</th>\n",
       "      <td>2</td>\n",
       "      <td>NaN</td>\n",
       "      <td>NaN</td>\n",
       "      <td>NaN</td>\n",
       "      <td>73.0</td>\n",
       "      <td>NaN</td>\n",
       "      <td>NaN</td>\n",
       "      <td>NaN</td>\n",
       "      <td>NaN</td>\n",
       "      <td>NaN</td>\n",
       "      <td>NaN</td>\n",
       "      <td>NaN</td>\n",
       "      <td>206.0</td>\n",
       "      <td>NaN</td>\n",
       "      <td>149.0</td>\n",
       "      <td>154.0</td>\n",
       "    </tr>\n",
       "    <tr>\n",
       "      <th>2</th>\n",
       "      <td>3</td>\n",
       "      <td>NaN</td>\n",
       "      <td>NaN</td>\n",
       "      <td>NaN</td>\n",
       "      <td>34.0</td>\n",
       "      <td>NaN</td>\n",
       "      <td>NaN</td>\n",
       "      <td>NaN</td>\n",
       "      <td>NaN</td>\n",
       "      <td>NaN</td>\n",
       "      <td>NaN</td>\n",
       "      <td>NaN</td>\n",
       "      <td>205.0</td>\n",
       "      <td>NaN</td>\n",
       "      <td>152.0</td>\n",
       "      <td>153.0</td>\n",
       "    </tr>\n",
       "    <tr>\n",
       "      <th>3</th>\n",
       "      <td>4</td>\n",
       "      <td>NaN</td>\n",
       "      <td>NaN</td>\n",
       "      <td>NaN</td>\n",
       "      <td>81.0</td>\n",
       "      <td>NaN</td>\n",
       "      <td>NaN</td>\n",
       "      <td>NaN</td>\n",
       "      <td>NaN</td>\n",
       "      <td>NaN</td>\n",
       "      <td>NaN</td>\n",
       "      <td>NaN</td>\n",
       "      <td>207.0</td>\n",
       "      <td>NaN</td>\n",
       "      <td>153.0</td>\n",
       "      <td>154.0</td>\n",
       "    </tr>\n",
       "    <tr>\n",
       "      <th>4</th>\n",
       "      <td>5</td>\n",
       "      <td>NaN</td>\n",
       "      <td>NaN</td>\n",
       "      <td>NaN</td>\n",
       "      <td>78.0</td>\n",
       "      <td>NaN</td>\n",
       "      <td>NaN</td>\n",
       "      <td>NaN</td>\n",
       "      <td>NaN</td>\n",
       "      <td>NaN</td>\n",
       "      <td>NaN</td>\n",
       "      <td>NaN</td>\n",
       "      <td>203.0</td>\n",
       "      <td>NaN</td>\n",
       "      <td>151.0</td>\n",
       "      <td>152.0</td>\n",
       "    </tr>\n",
       "    <tr>\n",
       "      <th>5</th>\n",
       "      <td>6</td>\n",
       "      <td>NaN</td>\n",
       "      <td>NaN</td>\n",
       "      <td>NaN</td>\n",
       "      <td>117.0</td>\n",
       "      <td>NaN</td>\n",
       "      <td>NaN</td>\n",
       "      <td>NaN</td>\n",
       "      <td>NaN</td>\n",
       "      <td>NaN</td>\n",
       "      <td>NaN</td>\n",
       "      <td>NaN</td>\n",
       "      <td>204.0</td>\n",
       "      <td>NaN</td>\n",
       "      <td>201.0</td>\n",
       "      <td>154.0</td>\n",
       "    </tr>\n",
       "    <tr>\n",
       "      <th>6</th>\n",
       "      <td>7</td>\n",
       "      <td>NaN</td>\n",
       "      <td>NaN</td>\n",
       "      <td>NaN</td>\n",
       "      <td>117.0</td>\n",
       "      <td>NaN</td>\n",
       "      <td>NaN</td>\n",
       "      <td>NaN</td>\n",
       "      <td>NaN</td>\n",
       "      <td>NaN</td>\n",
       "      <td>NaN</td>\n",
       "      <td>NaN</td>\n",
       "      <td>204.0</td>\n",
       "      <td>NaN</td>\n",
       "      <td>152.0</td>\n",
       "      <td>154.0</td>\n",
       "    </tr>\n",
       "    <tr>\n",
       "      <th>7</th>\n",
       "      <td>8</td>\n",
       "      <td>NaN</td>\n",
       "      <td>NaN</td>\n",
       "      <td>NaN</td>\n",
       "      <td>99.0</td>\n",
       "      <td>NaN</td>\n",
       "      <td>NaN</td>\n",
       "      <td>NaN</td>\n",
       "      <td>NaN</td>\n",
       "      <td>NaN</td>\n",
       "      <td>NaN</td>\n",
       "      <td>NaN</td>\n",
       "      <td>410.0</td>\n",
       "      <td>NaN</td>\n",
       "      <td>252.0</td>\n",
       "      <td>153.0</td>\n",
       "    </tr>\n",
       "    <tr>\n",
       "      <th>8</th>\n",
       "      <td>9</td>\n",
       "      <td>NaN</td>\n",
       "      <td>NaN</td>\n",
       "      <td>NaN</td>\n",
       "      <td>117.0</td>\n",
       "      <td>NaN</td>\n",
       "      <td>NaN</td>\n",
       "      <td>NaN</td>\n",
       "      <td>NaN</td>\n",
       "      <td>NaN</td>\n",
       "      <td>NaN</td>\n",
       "      <td>NaN</td>\n",
       "      <td>107.0</td>\n",
       "      <td>NaN</td>\n",
       "      <td>99.0</td>\n",
       "      <td>203.0</td>\n",
       "    </tr>\n",
       "    <tr>\n",
       "      <th>9</th>\n",
       "      <td>10</td>\n",
       "      <td>NaN</td>\n",
       "      <td>NaN</td>\n",
       "      <td>NaN</td>\n",
       "      <td>NaN</td>\n",
       "      <td>NaN</td>\n",
       "      <td>NaN</td>\n",
       "      <td>NaN</td>\n",
       "      <td>NaN</td>\n",
       "      <td>NaN</td>\n",
       "      <td>NaN</td>\n",
       "      <td>NaN</td>\n",
       "      <td>203.0</td>\n",
       "      <td>NaN</td>\n",
       "      <td>102.0</td>\n",
       "      <td>204.0</td>\n",
       "    </tr>\n",
       "  </tbody>\n",
       "</table>\n",
       "</div>"
      ],
      "text/plain": [
       "   key  Bulk 1  Bulk 2  Bulk 3  Bulk 4  Bulk 5  Bulk 6  Bulk 7  Bulk 8  \\\n",
       "0    1     NaN     NaN     NaN    43.0     NaN     NaN     NaN     NaN   \n",
       "1    2     NaN     NaN     NaN    73.0     NaN     NaN     NaN     NaN   \n",
       "2    3     NaN     NaN     NaN    34.0     NaN     NaN     NaN     NaN   \n",
       "3    4     NaN     NaN     NaN    81.0     NaN     NaN     NaN     NaN   \n",
       "4    5     NaN     NaN     NaN    78.0     NaN     NaN     NaN     NaN   \n",
       "5    6     NaN     NaN     NaN   117.0     NaN     NaN     NaN     NaN   \n",
       "6    7     NaN     NaN     NaN   117.0     NaN     NaN     NaN     NaN   \n",
       "7    8     NaN     NaN     NaN    99.0     NaN     NaN     NaN     NaN   \n",
       "8    9     NaN     NaN     NaN   117.0     NaN     NaN     NaN     NaN   \n",
       "9   10     NaN     NaN     NaN     NaN     NaN     NaN     NaN     NaN   \n",
       "\n",
       "   Bulk 9  Bulk 10  Bulk 11  Bulk 12  Bulk 13  Bulk 14  Bulk 15  \n",
       "0     NaN      NaN      NaN    206.0      NaN    150.0    154.0  \n",
       "1     NaN      NaN      NaN    206.0      NaN    149.0    154.0  \n",
       "2     NaN      NaN      NaN    205.0      NaN    152.0    153.0  \n",
       "3     NaN      NaN      NaN    207.0      NaN    153.0    154.0  \n",
       "4     NaN      NaN      NaN    203.0      NaN    151.0    152.0  \n",
       "5     NaN      NaN      NaN    204.0      NaN    201.0    154.0  \n",
       "6     NaN      NaN      NaN    204.0      NaN    152.0    154.0  \n",
       "7     NaN      NaN      NaN    410.0      NaN    252.0    153.0  \n",
       "8     NaN      NaN      NaN    107.0      NaN     99.0    203.0  \n",
       "9     NaN      NaN      NaN    203.0      NaN    102.0    204.0  "
      ]
     },
     "metadata": {},
     "output_type": "display_data"
    },
    {
     "data": {
      "text/html": [
       "<div>\n",
       "<style scoped>\n",
       "    .dataframe tbody tr th:only-of-type {\n",
       "        vertical-align: middle;\n",
       "    }\n",
       "\n",
       "    .dataframe tbody tr th {\n",
       "        vertical-align: top;\n",
       "    }\n",
       "\n",
       "    .dataframe thead th {\n",
       "        text-align: right;\n",
       "    }\n",
       "</style>\n",
       "<table border=\"1\" class=\"dataframe\">\n",
       "  <thead>\n",
       "    <tr style=\"text-align: right;\">\n",
       "      <th></th>\n",
       "      <th>key</th>\n",
       "      <th>Bulk 1</th>\n",
       "      <th>Bulk 2</th>\n",
       "      <th>Bulk 3</th>\n",
       "      <th>Bulk 4</th>\n",
       "      <th>Bulk 5</th>\n",
       "      <th>Bulk 6</th>\n",
       "      <th>Bulk 7</th>\n",
       "      <th>Bulk 8</th>\n",
       "      <th>Bulk 9</th>\n",
       "      <th>Bulk 10</th>\n",
       "      <th>Bulk 11</th>\n",
       "      <th>Bulk 12</th>\n",
       "      <th>Bulk 13</th>\n",
       "      <th>Bulk 14</th>\n",
       "      <th>Bulk 15</th>\n",
       "    </tr>\n",
       "  </thead>\n",
       "  <tbody>\n",
       "    <tr>\n",
       "      <th>count</th>\n",
       "      <td>3129.000000</td>\n",
       "      <td>252.000000</td>\n",
       "      <td>22.000000</td>\n",
       "      <td>1298.000000</td>\n",
       "      <td>1014.000000</td>\n",
       "      <td>77.000000</td>\n",
       "      <td>576.000000</td>\n",
       "      <td>25.000000</td>\n",
       "      <td>1.0</td>\n",
       "      <td>19.000000</td>\n",
       "      <td>176.000000</td>\n",
       "      <td>177.000000</td>\n",
       "      <td>2450.000000</td>\n",
       "      <td>18.000000</td>\n",
       "      <td>2806.000000</td>\n",
       "      <td>2248.000000</td>\n",
       "    </tr>\n",
       "    <tr>\n",
       "      <th>mean</th>\n",
       "      <td>1624.383509</td>\n",
       "      <td>39.242063</td>\n",
       "      <td>253.045455</td>\n",
       "      <td>113.879045</td>\n",
       "      <td>104.394477</td>\n",
       "      <td>107.025974</td>\n",
       "      <td>118.925347</td>\n",
       "      <td>305.600000</td>\n",
       "      <td>49.0</td>\n",
       "      <td>76.315789</td>\n",
       "      <td>83.284091</td>\n",
       "      <td>76.819209</td>\n",
       "      <td>260.471020</td>\n",
       "      <td>181.111111</td>\n",
       "      <td>170.284747</td>\n",
       "      <td>160.513345</td>\n",
       "    </tr>\n",
       "    <tr>\n",
       "      <th>std</th>\n",
       "      <td>933.337642</td>\n",
       "      <td>18.277654</td>\n",
       "      <td>21.180578</td>\n",
       "      <td>75.483494</td>\n",
       "      <td>48.184126</td>\n",
       "      <td>81.790646</td>\n",
       "      <td>72.057776</td>\n",
       "      <td>191.022904</td>\n",
       "      <td>NaN</td>\n",
       "      <td>21.720581</td>\n",
       "      <td>26.060347</td>\n",
       "      <td>59.655365</td>\n",
       "      <td>120.649269</td>\n",
       "      <td>46.088009</td>\n",
       "      <td>65.868652</td>\n",
       "      <td>51.765319</td>\n",
       "    </tr>\n",
       "    <tr>\n",
       "      <th>min</th>\n",
       "      <td>1.000000</td>\n",
       "      <td>10.000000</td>\n",
       "      <td>228.000000</td>\n",
       "      <td>6.000000</td>\n",
       "      <td>12.000000</td>\n",
       "      <td>11.000000</td>\n",
       "      <td>17.000000</td>\n",
       "      <td>47.000000</td>\n",
       "      <td>49.0</td>\n",
       "      <td>63.000000</td>\n",
       "      <td>24.000000</td>\n",
       "      <td>8.000000</td>\n",
       "      <td>53.000000</td>\n",
       "      <td>151.000000</td>\n",
       "      <td>16.000000</td>\n",
       "      <td>1.000000</td>\n",
       "    </tr>\n",
       "    <tr>\n",
       "      <th>25%</th>\n",
       "      <td>816.000000</td>\n",
       "      <td>27.000000</td>\n",
       "      <td>242.000000</td>\n",
       "      <td>58.000000</td>\n",
       "      <td>72.000000</td>\n",
       "      <td>70.000000</td>\n",
       "      <td>69.750000</td>\n",
       "      <td>155.000000</td>\n",
       "      <td>49.0</td>\n",
       "      <td>66.000000</td>\n",
       "      <td>64.000000</td>\n",
       "      <td>25.000000</td>\n",
       "      <td>204.000000</td>\n",
       "      <td>153.250000</td>\n",
       "      <td>119.000000</td>\n",
       "      <td>105.000000</td>\n",
       "    </tr>\n",
       "    <tr>\n",
       "      <th>50%</th>\n",
       "      <td>1622.000000</td>\n",
       "      <td>31.000000</td>\n",
       "      <td>251.500000</td>\n",
       "      <td>97.500000</td>\n",
       "      <td>102.000000</td>\n",
       "      <td>86.000000</td>\n",
       "      <td>100.000000</td>\n",
       "      <td>298.000000</td>\n",
       "      <td>49.0</td>\n",
       "      <td>68.000000</td>\n",
       "      <td>86.500000</td>\n",
       "      <td>64.000000</td>\n",
       "      <td>208.000000</td>\n",
       "      <td>155.500000</td>\n",
       "      <td>151.000000</td>\n",
       "      <td>160.000000</td>\n",
       "    </tr>\n",
       "    <tr>\n",
       "      <th>75%</th>\n",
       "      <td>2431.000000</td>\n",
       "      <td>46.000000</td>\n",
       "      <td>257.750000</td>\n",
       "      <td>152.000000</td>\n",
       "      <td>133.000000</td>\n",
       "      <td>132.000000</td>\n",
       "      <td>157.000000</td>\n",
       "      <td>406.000000</td>\n",
       "      <td>49.0</td>\n",
       "      <td>70.500000</td>\n",
       "      <td>102.000000</td>\n",
       "      <td>106.000000</td>\n",
       "      <td>316.000000</td>\n",
       "      <td>203.500000</td>\n",
       "      <td>205.750000</td>\n",
       "      <td>205.000000</td>\n",
       "    </tr>\n",
       "    <tr>\n",
       "      <th>max</th>\n",
       "      <td>3241.000000</td>\n",
       "      <td>185.000000</td>\n",
       "      <td>325.000000</td>\n",
       "      <td>454.000000</td>\n",
       "      <td>281.000000</td>\n",
       "      <td>603.000000</td>\n",
       "      <td>503.000000</td>\n",
       "      <td>772.000000</td>\n",
       "      <td>49.0</td>\n",
       "      <td>147.000000</td>\n",
       "      <td>159.000000</td>\n",
       "      <td>313.000000</td>\n",
       "      <td>1849.000000</td>\n",
       "      <td>305.000000</td>\n",
       "      <td>636.000000</td>\n",
       "      <td>405.000000</td>\n",
       "    </tr>\n",
       "  </tbody>\n",
       "</table>\n",
       "</div>"
      ],
      "text/plain": [
       "               key      Bulk 1      Bulk 2       Bulk 3       Bulk 4  \\\n",
       "count  3129.000000  252.000000   22.000000  1298.000000  1014.000000   \n",
       "mean   1624.383509   39.242063  253.045455   113.879045   104.394477   \n",
       "std     933.337642   18.277654   21.180578    75.483494    48.184126   \n",
       "min       1.000000   10.000000  228.000000     6.000000    12.000000   \n",
       "25%     816.000000   27.000000  242.000000    58.000000    72.000000   \n",
       "50%    1622.000000   31.000000  251.500000    97.500000   102.000000   \n",
       "75%    2431.000000   46.000000  257.750000   152.000000   133.000000   \n",
       "max    3241.000000  185.000000  325.000000   454.000000   281.000000   \n",
       "\n",
       "           Bulk 5      Bulk 6      Bulk 7  Bulk 8      Bulk 9     Bulk 10  \\\n",
       "count   77.000000  576.000000   25.000000     1.0   19.000000  176.000000   \n",
       "mean   107.025974  118.925347  305.600000    49.0   76.315789   83.284091   \n",
       "std     81.790646   72.057776  191.022904     NaN   21.720581   26.060347   \n",
       "min     11.000000   17.000000   47.000000    49.0   63.000000   24.000000   \n",
       "25%     70.000000   69.750000  155.000000    49.0   66.000000   64.000000   \n",
       "50%     86.000000  100.000000  298.000000    49.0   68.000000   86.500000   \n",
       "75%    132.000000  157.000000  406.000000    49.0   70.500000  102.000000   \n",
       "max    603.000000  503.000000  772.000000    49.0  147.000000  159.000000   \n",
       "\n",
       "          Bulk 11      Bulk 12     Bulk 13      Bulk 14      Bulk 15  \n",
       "count  177.000000  2450.000000   18.000000  2806.000000  2248.000000  \n",
       "mean    76.819209   260.471020  181.111111   170.284747   160.513345  \n",
       "std     59.655365   120.649269   46.088009    65.868652    51.765319  \n",
       "min      8.000000    53.000000  151.000000    16.000000     1.000000  \n",
       "25%     25.000000   204.000000  153.250000   119.000000   105.000000  \n",
       "50%     64.000000   208.000000  155.500000   151.000000   160.000000  \n",
       "75%    106.000000   316.000000  203.500000   205.750000   205.000000  \n",
       "max    313.000000  1849.000000  305.000000   636.000000   405.000000  "
      ]
     },
     "metadata": {},
     "output_type": "display_data"
    },
    {
     "name": "stdout",
     "output_type": "stream",
     "text": [
      "Количество дубликатов: 0\n",
      "Количество уникальных партий: 3129\n"
     ]
    }
   ],
   "source": [
    "dataset_info(data_bulk)"
   ]
  },
  {
   "cell_type": "markdown",
   "metadata": {
    "pycharm": {
     "name": "#%% md\n"
    }
   },
   "source": [
    "* Дубликаты отсутствуют.\n",
    "* Есть много пропущенных значений из-за того что для каждой партии добавляют опредленное сочетание сыпучих материалов."
   ]
  },
  {
   "cell_type": "markdown",
   "metadata": {
    "pycharm": {
     "name": "#%% md\n"
    }
   },
   "source": [
    "### 1.3 Данные о подаче сыпучих материалов (время)"
   ]
  },
  {
   "cell_type": "code",
   "execution_count": 12,
   "metadata": {
    "pycharm": {
     "name": "#%%\n"
    }
   },
   "outputs": [
    {
     "name": "stdout",
     "output_type": "stream",
     "text": [
      "<class 'pandas.core.frame.DataFrame'>\n",
      "RangeIndex: 3129 entries, 0 to 3128\n",
      "Data columns (total 16 columns):\n",
      " #   Column   Non-Null Count  Dtype \n",
      "---  ------   --------------  ----- \n",
      " 0   key      3129 non-null   int64 \n",
      " 1   Bulk 1   252 non-null    object\n",
      " 2   Bulk 2   22 non-null     object\n",
      " 3   Bulk 3   1298 non-null   object\n",
      " 4   Bulk 4   1014 non-null   object\n",
      " 5   Bulk 5   77 non-null     object\n",
      " 6   Bulk 6   576 non-null    object\n",
      " 7   Bulk 7   25 non-null     object\n",
      " 8   Bulk 8   1 non-null      object\n",
      " 9   Bulk 9   19 non-null     object\n",
      " 10  Bulk 10  176 non-null    object\n",
      " 11  Bulk 11  177 non-null    object\n",
      " 12  Bulk 12  2450 non-null   object\n",
      " 13  Bulk 13  18 non-null     object\n",
      " 14  Bulk 14  2806 non-null   object\n",
      " 15  Bulk 15  2248 non-null   object\n",
      "dtypes: int64(1), object(15)\n",
      "memory usage: 391.2+ KB\n"
     ]
    },
    {
     "data": {
      "text/html": [
       "<div>\n",
       "<style scoped>\n",
       "    .dataframe tbody tr th:only-of-type {\n",
       "        vertical-align: middle;\n",
       "    }\n",
       "\n",
       "    .dataframe tbody tr th {\n",
       "        vertical-align: top;\n",
       "    }\n",
       "\n",
       "    .dataframe thead th {\n",
       "        text-align: right;\n",
       "    }\n",
       "</style>\n",
       "<table border=\"1\" class=\"dataframe\">\n",
       "  <thead>\n",
       "    <tr style=\"text-align: right;\">\n",
       "      <th></th>\n",
       "      <th>key</th>\n",
       "      <th>Bulk 1</th>\n",
       "      <th>Bulk 2</th>\n",
       "      <th>Bulk 3</th>\n",
       "      <th>Bulk 4</th>\n",
       "      <th>Bulk 5</th>\n",
       "      <th>Bulk 6</th>\n",
       "      <th>Bulk 7</th>\n",
       "      <th>Bulk 8</th>\n",
       "      <th>Bulk 9</th>\n",
       "      <th>Bulk 10</th>\n",
       "      <th>Bulk 11</th>\n",
       "      <th>Bulk 12</th>\n",
       "      <th>Bulk 13</th>\n",
       "      <th>Bulk 14</th>\n",
       "      <th>Bulk 15</th>\n",
       "    </tr>\n",
       "  </thead>\n",
       "  <tbody>\n",
       "    <tr>\n",
       "      <th>0</th>\n",
       "      <td>1</td>\n",
       "      <td>NaN</td>\n",
       "      <td>NaN</td>\n",
       "      <td>NaN</td>\n",
       "      <td>2019-05-03 11:21:30</td>\n",
       "      <td>NaN</td>\n",
       "      <td>NaN</td>\n",
       "      <td>NaN</td>\n",
       "      <td>NaN</td>\n",
       "      <td>NaN</td>\n",
       "      <td>NaN</td>\n",
       "      <td>NaN</td>\n",
       "      <td>2019-05-03 11:03:52</td>\n",
       "      <td>NaN</td>\n",
       "      <td>2019-05-03 11:03:52</td>\n",
       "      <td>2019-05-03 11:03:52</td>\n",
       "    </tr>\n",
       "    <tr>\n",
       "      <th>1</th>\n",
       "      <td>2</td>\n",
       "      <td>NaN</td>\n",
       "      <td>NaN</td>\n",
       "      <td>NaN</td>\n",
       "      <td>2019-05-03 11:46:38</td>\n",
       "      <td>NaN</td>\n",
       "      <td>NaN</td>\n",
       "      <td>NaN</td>\n",
       "      <td>NaN</td>\n",
       "      <td>NaN</td>\n",
       "      <td>NaN</td>\n",
       "      <td>NaN</td>\n",
       "      <td>2019-05-03 11:40:20</td>\n",
       "      <td>NaN</td>\n",
       "      <td>2019-05-03 11:40:20</td>\n",
       "      <td>2019-05-03 11:40:20</td>\n",
       "    </tr>\n",
       "    <tr>\n",
       "      <th>2</th>\n",
       "      <td>3</td>\n",
       "      <td>NaN</td>\n",
       "      <td>NaN</td>\n",
       "      <td>NaN</td>\n",
       "      <td>2019-05-03 12:31:06</td>\n",
       "      <td>NaN</td>\n",
       "      <td>NaN</td>\n",
       "      <td>NaN</td>\n",
       "      <td>NaN</td>\n",
       "      <td>NaN</td>\n",
       "      <td>NaN</td>\n",
       "      <td>NaN</td>\n",
       "      <td>2019-05-03 12:09:40</td>\n",
       "      <td>NaN</td>\n",
       "      <td>2019-05-03 12:09:40</td>\n",
       "      <td>2019-05-03 12:09:40</td>\n",
       "    </tr>\n",
       "    <tr>\n",
       "      <th>3</th>\n",
       "      <td>4</td>\n",
       "      <td>NaN</td>\n",
       "      <td>NaN</td>\n",
       "      <td>NaN</td>\n",
       "      <td>2019-05-03 12:48:43</td>\n",
       "      <td>NaN</td>\n",
       "      <td>NaN</td>\n",
       "      <td>NaN</td>\n",
       "      <td>NaN</td>\n",
       "      <td>NaN</td>\n",
       "      <td>NaN</td>\n",
       "      <td>NaN</td>\n",
       "      <td>2019-05-03 12:41:24</td>\n",
       "      <td>NaN</td>\n",
       "      <td>2019-05-03 12:41:24</td>\n",
       "      <td>2019-05-03 12:41:24</td>\n",
       "    </tr>\n",
       "    <tr>\n",
       "      <th>4</th>\n",
       "      <td>5</td>\n",
       "      <td>NaN</td>\n",
       "      <td>NaN</td>\n",
       "      <td>NaN</td>\n",
       "      <td>2019-05-03 13:18:50</td>\n",
       "      <td>NaN</td>\n",
       "      <td>NaN</td>\n",
       "      <td>NaN</td>\n",
       "      <td>NaN</td>\n",
       "      <td>NaN</td>\n",
       "      <td>NaN</td>\n",
       "      <td>NaN</td>\n",
       "      <td>2019-05-03 13:12:56</td>\n",
       "      <td>NaN</td>\n",
       "      <td>2019-05-03 13:12:56</td>\n",
       "      <td>2019-05-03 13:12:56</td>\n",
       "    </tr>\n",
       "    <tr>\n",
       "      <th>5</th>\n",
       "      <td>6</td>\n",
       "      <td>NaN</td>\n",
       "      <td>NaN</td>\n",
       "      <td>NaN</td>\n",
       "      <td>2019-05-03 13:59:24</td>\n",
       "      <td>NaN</td>\n",
       "      <td>NaN</td>\n",
       "      <td>NaN</td>\n",
       "      <td>NaN</td>\n",
       "      <td>NaN</td>\n",
       "      <td>NaN</td>\n",
       "      <td>NaN</td>\n",
       "      <td>2019-05-03 13:53:27</td>\n",
       "      <td>NaN</td>\n",
       "      <td>2019-05-03 13:53:27</td>\n",
       "      <td>2019-05-03 13:53:27</td>\n",
       "    </tr>\n",
       "    <tr>\n",
       "      <th>6</th>\n",
       "      <td>7</td>\n",
       "      <td>NaN</td>\n",
       "      <td>NaN</td>\n",
       "      <td>NaN</td>\n",
       "      <td>2019-05-03 14:29:14</td>\n",
       "      <td>NaN</td>\n",
       "      <td>NaN</td>\n",
       "      <td>NaN</td>\n",
       "      <td>NaN</td>\n",
       "      <td>NaN</td>\n",
       "      <td>NaN</td>\n",
       "      <td>NaN</td>\n",
       "      <td>2019-05-03 14:22:19</td>\n",
       "      <td>NaN</td>\n",
       "      <td>2019-05-03 14:22:19</td>\n",
       "      <td>2019-05-03 14:22:19</td>\n",
       "    </tr>\n",
       "    <tr>\n",
       "      <th>7</th>\n",
       "      <td>8</td>\n",
       "      <td>NaN</td>\n",
       "      <td>NaN</td>\n",
       "      <td>NaN</td>\n",
       "      <td>2019-05-03 15:04:05</td>\n",
       "      <td>NaN</td>\n",
       "      <td>NaN</td>\n",
       "      <td>NaN</td>\n",
       "      <td>NaN</td>\n",
       "      <td>NaN</td>\n",
       "      <td>NaN</td>\n",
       "      <td>NaN</td>\n",
       "      <td>2019-05-03 14:55:46</td>\n",
       "      <td>NaN</td>\n",
       "      <td>2019-05-03 14:55:46</td>\n",
       "      <td>2019-05-03 14:55:46</td>\n",
       "    </tr>\n",
       "    <tr>\n",
       "      <th>8</th>\n",
       "      <td>9</td>\n",
       "      <td>NaN</td>\n",
       "      <td>NaN</td>\n",
       "      <td>NaN</td>\n",
       "      <td>2019-05-03 15:47:34</td>\n",
       "      <td>NaN</td>\n",
       "      <td>NaN</td>\n",
       "      <td>NaN</td>\n",
       "      <td>NaN</td>\n",
       "      <td>NaN</td>\n",
       "      <td>NaN</td>\n",
       "      <td>NaN</td>\n",
       "      <td>2019-05-03 15:41:00</td>\n",
       "      <td>NaN</td>\n",
       "      <td>2019-05-03 15:41:00</td>\n",
       "      <td>2019-05-03 15:41:00</td>\n",
       "    </tr>\n",
       "    <tr>\n",
       "      <th>9</th>\n",
       "      <td>10</td>\n",
       "      <td>NaN</td>\n",
       "      <td>NaN</td>\n",
       "      <td>NaN</td>\n",
       "      <td>NaN</td>\n",
       "      <td>NaN</td>\n",
       "      <td>NaN</td>\n",
       "      <td>NaN</td>\n",
       "      <td>NaN</td>\n",
       "      <td>NaN</td>\n",
       "      <td>NaN</td>\n",
       "      <td>NaN</td>\n",
       "      <td>2019-05-03 16:18:52</td>\n",
       "      <td>NaN</td>\n",
       "      <td>2019-05-03 16:18:52</td>\n",
       "      <td>2019-05-03 16:18:52</td>\n",
       "    </tr>\n",
       "  </tbody>\n",
       "</table>\n",
       "</div>"
      ],
      "text/plain": [
       "   key Bulk 1 Bulk 2 Bulk 3               Bulk 4 Bulk 5 Bulk 6 Bulk 7 Bulk 8  \\\n",
       "0    1    NaN    NaN    NaN  2019-05-03 11:21:30    NaN    NaN    NaN    NaN   \n",
       "1    2    NaN    NaN    NaN  2019-05-03 11:46:38    NaN    NaN    NaN    NaN   \n",
       "2    3    NaN    NaN    NaN  2019-05-03 12:31:06    NaN    NaN    NaN    NaN   \n",
       "3    4    NaN    NaN    NaN  2019-05-03 12:48:43    NaN    NaN    NaN    NaN   \n",
       "4    5    NaN    NaN    NaN  2019-05-03 13:18:50    NaN    NaN    NaN    NaN   \n",
       "5    6    NaN    NaN    NaN  2019-05-03 13:59:24    NaN    NaN    NaN    NaN   \n",
       "6    7    NaN    NaN    NaN  2019-05-03 14:29:14    NaN    NaN    NaN    NaN   \n",
       "7    8    NaN    NaN    NaN  2019-05-03 15:04:05    NaN    NaN    NaN    NaN   \n",
       "8    9    NaN    NaN    NaN  2019-05-03 15:47:34    NaN    NaN    NaN    NaN   \n",
       "9   10    NaN    NaN    NaN                  NaN    NaN    NaN    NaN    NaN   \n",
       "\n",
       "  Bulk 9 Bulk 10 Bulk 11              Bulk 12 Bulk 13              Bulk 14  \\\n",
       "0    NaN     NaN     NaN  2019-05-03 11:03:52     NaN  2019-05-03 11:03:52   \n",
       "1    NaN     NaN     NaN  2019-05-03 11:40:20     NaN  2019-05-03 11:40:20   \n",
       "2    NaN     NaN     NaN  2019-05-03 12:09:40     NaN  2019-05-03 12:09:40   \n",
       "3    NaN     NaN     NaN  2019-05-03 12:41:24     NaN  2019-05-03 12:41:24   \n",
       "4    NaN     NaN     NaN  2019-05-03 13:12:56     NaN  2019-05-03 13:12:56   \n",
       "5    NaN     NaN     NaN  2019-05-03 13:53:27     NaN  2019-05-03 13:53:27   \n",
       "6    NaN     NaN     NaN  2019-05-03 14:22:19     NaN  2019-05-03 14:22:19   \n",
       "7    NaN     NaN     NaN  2019-05-03 14:55:46     NaN  2019-05-03 14:55:46   \n",
       "8    NaN     NaN     NaN  2019-05-03 15:41:00     NaN  2019-05-03 15:41:00   \n",
       "9    NaN     NaN     NaN  2019-05-03 16:18:52     NaN  2019-05-03 16:18:52   \n",
       "\n",
       "               Bulk 15  \n",
       "0  2019-05-03 11:03:52  \n",
       "1  2019-05-03 11:40:20  \n",
       "2  2019-05-03 12:09:40  \n",
       "3  2019-05-03 12:41:24  \n",
       "4  2019-05-03 13:12:56  \n",
       "5  2019-05-03 13:53:27  \n",
       "6  2019-05-03 14:22:19  \n",
       "7  2019-05-03 14:55:46  \n",
       "8  2019-05-03 15:41:00  \n",
       "9  2019-05-03 16:18:52  "
      ]
     },
     "metadata": {},
     "output_type": "display_data"
    },
    {
     "data": {
      "text/html": [
       "<div>\n",
       "<style scoped>\n",
       "    .dataframe tbody tr th:only-of-type {\n",
       "        vertical-align: middle;\n",
       "    }\n",
       "\n",
       "    .dataframe tbody tr th {\n",
       "        vertical-align: top;\n",
       "    }\n",
       "\n",
       "    .dataframe thead th {\n",
       "        text-align: right;\n",
       "    }\n",
       "</style>\n",
       "<table border=\"1\" class=\"dataframe\">\n",
       "  <thead>\n",
       "    <tr style=\"text-align: right;\">\n",
       "      <th></th>\n",
       "      <th>key</th>\n",
       "      <th>Bulk 1</th>\n",
       "      <th>Bulk 2</th>\n",
       "      <th>Bulk 3</th>\n",
       "      <th>Bulk 4</th>\n",
       "      <th>Bulk 5</th>\n",
       "      <th>Bulk 6</th>\n",
       "      <th>Bulk 7</th>\n",
       "      <th>Bulk 8</th>\n",
       "      <th>Bulk 9</th>\n",
       "      <th>Bulk 10</th>\n",
       "      <th>Bulk 11</th>\n",
       "      <th>Bulk 12</th>\n",
       "      <th>Bulk 13</th>\n",
       "      <th>Bulk 14</th>\n",
       "      <th>Bulk 15</th>\n",
       "    </tr>\n",
       "  </thead>\n",
       "  <tbody>\n",
       "    <tr>\n",
       "      <th>count</th>\n",
       "      <td>3129.000000</td>\n",
       "      <td>252</td>\n",
       "      <td>22</td>\n",
       "      <td>1298</td>\n",
       "      <td>1014</td>\n",
       "      <td>77</td>\n",
       "      <td>576</td>\n",
       "      <td>25</td>\n",
       "      <td>1</td>\n",
       "      <td>19</td>\n",
       "      <td>176</td>\n",
       "      <td>177</td>\n",
       "      <td>2450</td>\n",
       "      <td>18</td>\n",
       "      <td>2806</td>\n",
       "      <td>2248</td>\n",
       "    </tr>\n",
       "    <tr>\n",
       "      <th>unique</th>\n",
       "      <td>NaN</td>\n",
       "      <td>252</td>\n",
       "      <td>22</td>\n",
       "      <td>1298</td>\n",
       "      <td>1014</td>\n",
       "      <td>77</td>\n",
       "      <td>576</td>\n",
       "      <td>25</td>\n",
       "      <td>1</td>\n",
       "      <td>19</td>\n",
       "      <td>176</td>\n",
       "      <td>177</td>\n",
       "      <td>2450</td>\n",
       "      <td>18</td>\n",
       "      <td>2806</td>\n",
       "      <td>2248</td>\n",
       "    </tr>\n",
       "    <tr>\n",
       "      <th>top</th>\n",
       "      <td>NaN</td>\n",
       "      <td>2019-05-03 17:50:19</td>\n",
       "      <td>2019-05-07 08:36:19</td>\n",
       "      <td>2019-05-03 20:13:36</td>\n",
       "      <td>2019-05-03 11:21:30</td>\n",
       "      <td>2019-05-07 08:36:19</td>\n",
       "      <td>2019-05-03 18:52:57</td>\n",
       "      <td>2019-05-07 11:37:42</td>\n",
       "      <td>2019-07-05 17:46:11</td>\n",
       "      <td>2019-05-14 00:04:56</td>\n",
       "      <td>2019-05-06 01:36:24</td>\n",
       "      <td>2019-05-05 16:45:05</td>\n",
       "      <td>2019-05-03 11:03:52</td>\n",
       "      <td>2019-05-05 00:39:35</td>\n",
       "      <td>2019-05-03 11:03:52</td>\n",
       "      <td>2019-05-03 11:03:52</td>\n",
       "    </tr>\n",
       "    <tr>\n",
       "      <th>freq</th>\n",
       "      <td>NaN</td>\n",
       "      <td>1</td>\n",
       "      <td>1</td>\n",
       "      <td>1</td>\n",
       "      <td>1</td>\n",
       "      <td>1</td>\n",
       "      <td>1</td>\n",
       "      <td>1</td>\n",
       "      <td>1</td>\n",
       "      <td>1</td>\n",
       "      <td>1</td>\n",
       "      <td>1</td>\n",
       "      <td>1</td>\n",
       "      <td>1</td>\n",
       "      <td>1</td>\n",
       "      <td>1</td>\n",
       "    </tr>\n",
       "    <tr>\n",
       "      <th>mean</th>\n",
       "      <td>1624.383509</td>\n",
       "      <td>NaN</td>\n",
       "      <td>NaN</td>\n",
       "      <td>NaN</td>\n",
       "      <td>NaN</td>\n",
       "      <td>NaN</td>\n",
       "      <td>NaN</td>\n",
       "      <td>NaN</td>\n",
       "      <td>NaN</td>\n",
       "      <td>NaN</td>\n",
       "      <td>NaN</td>\n",
       "      <td>NaN</td>\n",
       "      <td>NaN</td>\n",
       "      <td>NaN</td>\n",
       "      <td>NaN</td>\n",
       "      <td>NaN</td>\n",
       "    </tr>\n",
       "    <tr>\n",
       "      <th>std</th>\n",
       "      <td>933.337642</td>\n",
       "      <td>NaN</td>\n",
       "      <td>NaN</td>\n",
       "      <td>NaN</td>\n",
       "      <td>NaN</td>\n",
       "      <td>NaN</td>\n",
       "      <td>NaN</td>\n",
       "      <td>NaN</td>\n",
       "      <td>NaN</td>\n",
       "      <td>NaN</td>\n",
       "      <td>NaN</td>\n",
       "      <td>NaN</td>\n",
       "      <td>NaN</td>\n",
       "      <td>NaN</td>\n",
       "      <td>NaN</td>\n",
       "      <td>NaN</td>\n",
       "    </tr>\n",
       "    <tr>\n",
       "      <th>min</th>\n",
       "      <td>1.000000</td>\n",
       "      <td>NaN</td>\n",
       "      <td>NaN</td>\n",
       "      <td>NaN</td>\n",
       "      <td>NaN</td>\n",
       "      <td>NaN</td>\n",
       "      <td>NaN</td>\n",
       "      <td>NaN</td>\n",
       "      <td>NaN</td>\n",
       "      <td>NaN</td>\n",
       "      <td>NaN</td>\n",
       "      <td>NaN</td>\n",
       "      <td>NaN</td>\n",
       "      <td>NaN</td>\n",
       "      <td>NaN</td>\n",
       "      <td>NaN</td>\n",
       "    </tr>\n",
       "    <tr>\n",
       "      <th>25%</th>\n",
       "      <td>816.000000</td>\n",
       "      <td>NaN</td>\n",
       "      <td>NaN</td>\n",
       "      <td>NaN</td>\n",
       "      <td>NaN</td>\n",
       "      <td>NaN</td>\n",
       "      <td>NaN</td>\n",
       "      <td>NaN</td>\n",
       "      <td>NaN</td>\n",
       "      <td>NaN</td>\n",
       "      <td>NaN</td>\n",
       "      <td>NaN</td>\n",
       "      <td>NaN</td>\n",
       "      <td>NaN</td>\n",
       "      <td>NaN</td>\n",
       "      <td>NaN</td>\n",
       "    </tr>\n",
       "    <tr>\n",
       "      <th>50%</th>\n",
       "      <td>1622.000000</td>\n",
       "      <td>NaN</td>\n",
       "      <td>NaN</td>\n",
       "      <td>NaN</td>\n",
       "      <td>NaN</td>\n",
       "      <td>NaN</td>\n",
       "      <td>NaN</td>\n",
       "      <td>NaN</td>\n",
       "      <td>NaN</td>\n",
       "      <td>NaN</td>\n",
       "      <td>NaN</td>\n",
       "      <td>NaN</td>\n",
       "      <td>NaN</td>\n",
       "      <td>NaN</td>\n",
       "      <td>NaN</td>\n",
       "      <td>NaN</td>\n",
       "    </tr>\n",
       "    <tr>\n",
       "      <th>75%</th>\n",
       "      <td>2431.000000</td>\n",
       "      <td>NaN</td>\n",
       "      <td>NaN</td>\n",
       "      <td>NaN</td>\n",
       "      <td>NaN</td>\n",
       "      <td>NaN</td>\n",
       "      <td>NaN</td>\n",
       "      <td>NaN</td>\n",
       "      <td>NaN</td>\n",
       "      <td>NaN</td>\n",
       "      <td>NaN</td>\n",
       "      <td>NaN</td>\n",
       "      <td>NaN</td>\n",
       "      <td>NaN</td>\n",
       "      <td>NaN</td>\n",
       "      <td>NaN</td>\n",
       "    </tr>\n",
       "    <tr>\n",
       "      <th>max</th>\n",
       "      <td>3241.000000</td>\n",
       "      <td>NaN</td>\n",
       "      <td>NaN</td>\n",
       "      <td>NaN</td>\n",
       "      <td>NaN</td>\n",
       "      <td>NaN</td>\n",
       "      <td>NaN</td>\n",
       "      <td>NaN</td>\n",
       "      <td>NaN</td>\n",
       "      <td>NaN</td>\n",
       "      <td>NaN</td>\n",
       "      <td>NaN</td>\n",
       "      <td>NaN</td>\n",
       "      <td>NaN</td>\n",
       "      <td>NaN</td>\n",
       "      <td>NaN</td>\n",
       "    </tr>\n",
       "  </tbody>\n",
       "</table>\n",
       "</div>"
      ],
      "text/plain": [
       "                key               Bulk 1               Bulk 2  \\\n",
       "count   3129.000000                  252                   22   \n",
       "unique          NaN                  252                   22   \n",
       "top             NaN  2019-05-03 17:50:19  2019-05-07 08:36:19   \n",
       "freq            NaN                    1                    1   \n",
       "mean    1624.383509                  NaN                  NaN   \n",
       "std      933.337642                  NaN                  NaN   \n",
       "min        1.000000                  NaN                  NaN   \n",
       "25%      816.000000                  NaN                  NaN   \n",
       "50%     1622.000000                  NaN                  NaN   \n",
       "75%     2431.000000                  NaN                  NaN   \n",
       "max     3241.000000                  NaN                  NaN   \n",
       "\n",
       "                     Bulk 3               Bulk 4               Bulk 5  \\\n",
       "count                  1298                 1014                   77   \n",
       "unique                 1298                 1014                   77   \n",
       "top     2019-05-03 20:13:36  2019-05-03 11:21:30  2019-05-07 08:36:19   \n",
       "freq                      1                    1                    1   \n",
       "mean                    NaN                  NaN                  NaN   \n",
       "std                     NaN                  NaN                  NaN   \n",
       "min                     NaN                  NaN                  NaN   \n",
       "25%                     NaN                  NaN                  NaN   \n",
       "50%                     NaN                  NaN                  NaN   \n",
       "75%                     NaN                  NaN                  NaN   \n",
       "max                     NaN                  NaN                  NaN   \n",
       "\n",
       "                     Bulk 6               Bulk 7               Bulk 8  \\\n",
       "count                   576                   25                    1   \n",
       "unique                  576                   25                    1   \n",
       "top     2019-05-03 18:52:57  2019-05-07 11:37:42  2019-07-05 17:46:11   \n",
       "freq                      1                    1                    1   \n",
       "mean                    NaN                  NaN                  NaN   \n",
       "std                     NaN                  NaN                  NaN   \n",
       "min                     NaN                  NaN                  NaN   \n",
       "25%                     NaN                  NaN                  NaN   \n",
       "50%                     NaN                  NaN                  NaN   \n",
       "75%                     NaN                  NaN                  NaN   \n",
       "max                     NaN                  NaN                  NaN   \n",
       "\n",
       "                     Bulk 9              Bulk 10              Bulk 11  \\\n",
       "count                    19                  176                  177   \n",
       "unique                   19                  176                  177   \n",
       "top     2019-05-14 00:04:56  2019-05-06 01:36:24  2019-05-05 16:45:05   \n",
       "freq                      1                    1                    1   \n",
       "mean                    NaN                  NaN                  NaN   \n",
       "std                     NaN                  NaN                  NaN   \n",
       "min                     NaN                  NaN                  NaN   \n",
       "25%                     NaN                  NaN                  NaN   \n",
       "50%                     NaN                  NaN                  NaN   \n",
       "75%                     NaN                  NaN                  NaN   \n",
       "max                     NaN                  NaN                  NaN   \n",
       "\n",
       "                    Bulk 12              Bulk 13              Bulk 14  \\\n",
       "count                  2450                   18                 2806   \n",
       "unique                 2450                   18                 2806   \n",
       "top     2019-05-03 11:03:52  2019-05-05 00:39:35  2019-05-03 11:03:52   \n",
       "freq                      1                    1                    1   \n",
       "mean                    NaN                  NaN                  NaN   \n",
       "std                     NaN                  NaN                  NaN   \n",
       "min                     NaN                  NaN                  NaN   \n",
       "25%                     NaN                  NaN                  NaN   \n",
       "50%                     NaN                  NaN                  NaN   \n",
       "75%                     NaN                  NaN                  NaN   \n",
       "max                     NaN                  NaN                  NaN   \n",
       "\n",
       "                    Bulk 15  \n",
       "count                  2248  \n",
       "unique                 2248  \n",
       "top     2019-05-03 11:03:52  \n",
       "freq                      1  \n",
       "mean                    NaN  \n",
       "std                     NaN  \n",
       "min                     NaN  \n",
       "25%                     NaN  \n",
       "50%                     NaN  \n",
       "75%                     NaN  \n",
       "max                     NaN  "
      ]
     },
     "metadata": {},
     "output_type": "display_data"
    },
    {
     "name": "stdout",
     "output_type": "stream",
     "text": [
      "Количество дубликатов: 0\n",
      "Количество уникальных партий: 3129\n"
     ]
    }
   ],
   "source": [
    "dataset_info(data_bulk_time)"
   ]
  },
  {
   "cell_type": "markdown",
   "metadata": {
    "pycharm": {
     "name": "#%% md\n"
    }
   },
   "source": [
    "- Много пропусков\n",
    "- Дубликатов нет, Имеются типы данных, которые нужно исправить\n",
    "- В построении будущей модели данный датасет не будет использован, поэтому нет необходимости проводить его предобработку"
   ]
  },
  {
   "cell_type": "markdown",
   "metadata": {
    "pycharm": {
     "name": "#%% md\n"
    }
   },
   "source": [
    "### 1.4 Данные о продувке сплава газом"
   ]
  },
  {
   "cell_type": "code",
   "execution_count": 13,
   "metadata": {
    "pycharm": {
     "name": "#%%\n"
    }
   },
   "outputs": [
    {
     "name": "stdout",
     "output_type": "stream",
     "text": [
      "<class 'pandas.core.frame.DataFrame'>\n",
      "RangeIndex: 3239 entries, 0 to 3238\n",
      "Data columns (total 2 columns):\n",
      " #   Column  Non-Null Count  Dtype  \n",
      "---  ------  --------------  -----  \n",
      " 0   key     3239 non-null   int64  \n",
      " 1   Газ 1   3239 non-null   float64\n",
      "dtypes: float64(1), int64(1)\n",
      "memory usage: 50.7 KB\n"
     ]
    },
    {
     "data": {
      "text/html": [
       "<div>\n",
       "<style scoped>\n",
       "    .dataframe tbody tr th:only-of-type {\n",
       "        vertical-align: middle;\n",
       "    }\n",
       "\n",
       "    .dataframe tbody tr th {\n",
       "        vertical-align: top;\n",
       "    }\n",
       "\n",
       "    .dataframe thead th {\n",
       "        text-align: right;\n",
       "    }\n",
       "</style>\n",
       "<table border=\"1\" class=\"dataframe\">\n",
       "  <thead>\n",
       "    <tr style=\"text-align: right;\">\n",
       "      <th></th>\n",
       "      <th>key</th>\n",
       "      <th>Газ 1</th>\n",
       "    </tr>\n",
       "  </thead>\n",
       "  <tbody>\n",
       "    <tr>\n",
       "      <th>0</th>\n",
       "      <td>1</td>\n",
       "      <td>29.749986</td>\n",
       "    </tr>\n",
       "    <tr>\n",
       "      <th>1</th>\n",
       "      <td>2</td>\n",
       "      <td>12.555561</td>\n",
       "    </tr>\n",
       "    <tr>\n",
       "      <th>2</th>\n",
       "      <td>3</td>\n",
       "      <td>28.554793</td>\n",
       "    </tr>\n",
       "    <tr>\n",
       "      <th>3</th>\n",
       "      <td>4</td>\n",
       "      <td>18.841219</td>\n",
       "    </tr>\n",
       "    <tr>\n",
       "      <th>4</th>\n",
       "      <td>5</td>\n",
       "      <td>5.413692</td>\n",
       "    </tr>\n",
       "    <tr>\n",
       "      <th>5</th>\n",
       "      <td>6</td>\n",
       "      <td>11.273392</td>\n",
       "    </tr>\n",
       "    <tr>\n",
       "      <th>6</th>\n",
       "      <td>7</td>\n",
       "      <td>9.836267</td>\n",
       "    </tr>\n",
       "    <tr>\n",
       "      <th>7</th>\n",
       "      <td>8</td>\n",
       "      <td>15.171553</td>\n",
       "    </tr>\n",
       "    <tr>\n",
       "      <th>8</th>\n",
       "      <td>9</td>\n",
       "      <td>8.216623</td>\n",
       "    </tr>\n",
       "    <tr>\n",
       "      <th>9</th>\n",
       "      <td>10</td>\n",
       "      <td>6.529891</td>\n",
       "    </tr>\n",
       "  </tbody>\n",
       "</table>\n",
       "</div>"
      ],
      "text/plain": [
       "   key      Газ 1\n",
       "0    1  29.749986\n",
       "1    2  12.555561\n",
       "2    3  28.554793\n",
       "3    4  18.841219\n",
       "4    5   5.413692\n",
       "5    6  11.273392\n",
       "6    7   9.836267\n",
       "7    8  15.171553\n",
       "8    9   8.216623\n",
       "9   10   6.529891"
      ]
     },
     "metadata": {},
     "output_type": "display_data"
    },
    {
     "data": {
      "text/html": [
       "<div>\n",
       "<style scoped>\n",
       "    .dataframe tbody tr th:only-of-type {\n",
       "        vertical-align: middle;\n",
       "    }\n",
       "\n",
       "    .dataframe tbody tr th {\n",
       "        vertical-align: top;\n",
       "    }\n",
       "\n",
       "    .dataframe thead th {\n",
       "        text-align: right;\n",
       "    }\n",
       "</style>\n",
       "<table border=\"1\" class=\"dataframe\">\n",
       "  <thead>\n",
       "    <tr style=\"text-align: right;\">\n",
       "      <th></th>\n",
       "      <th>key</th>\n",
       "      <th>Газ 1</th>\n",
       "    </tr>\n",
       "  </thead>\n",
       "  <tbody>\n",
       "    <tr>\n",
       "      <th>count</th>\n",
       "      <td>3239.000000</td>\n",
       "      <td>3239.000000</td>\n",
       "    </tr>\n",
       "    <tr>\n",
       "      <th>mean</th>\n",
       "      <td>1621.861377</td>\n",
       "      <td>11.002062</td>\n",
       "    </tr>\n",
       "    <tr>\n",
       "      <th>std</th>\n",
       "      <td>935.386334</td>\n",
       "      <td>6.220327</td>\n",
       "    </tr>\n",
       "    <tr>\n",
       "      <th>min</th>\n",
       "      <td>1.000000</td>\n",
       "      <td>0.008399</td>\n",
       "    </tr>\n",
       "    <tr>\n",
       "      <th>25%</th>\n",
       "      <td>812.500000</td>\n",
       "      <td>7.043089</td>\n",
       "    </tr>\n",
       "    <tr>\n",
       "      <th>50%</th>\n",
       "      <td>1622.000000</td>\n",
       "      <td>9.836267</td>\n",
       "    </tr>\n",
       "    <tr>\n",
       "      <th>75%</th>\n",
       "      <td>2431.500000</td>\n",
       "      <td>13.769915</td>\n",
       "    </tr>\n",
       "    <tr>\n",
       "      <th>max</th>\n",
       "      <td>3241.000000</td>\n",
       "      <td>77.995040</td>\n",
       "    </tr>\n",
       "  </tbody>\n",
       "</table>\n",
       "</div>"
      ],
      "text/plain": [
       "               key        Газ 1\n",
       "count  3239.000000  3239.000000\n",
       "mean   1621.861377    11.002062\n",
       "std     935.386334     6.220327\n",
       "min       1.000000     0.008399\n",
       "25%     812.500000     7.043089\n",
       "50%    1622.000000     9.836267\n",
       "75%    2431.500000    13.769915\n",
       "max    3241.000000    77.995040"
      ]
     },
     "metadata": {},
     "output_type": "display_data"
    },
    {
     "name": "stdout",
     "output_type": "stream",
     "text": [
      "Количество дубликатов: 0\n",
      "Количество уникальных партий: 3239\n"
     ]
    }
   ],
   "source": [
    "dataset_info(data_gas)"
   ]
  },
  {
   "cell_type": "code",
   "execution_count": 14,
   "metadata": {
    "pycharm": {
     "name": "#%%\n"
    }
   },
   "outputs": [
    {
     "data": {
      "text/plain": [
       "<AxesSubplot:>"
      ]
     },
     "execution_count": 14,
     "metadata": {},
     "output_type": "execute_result"
    },
    {
     "data": {
      "image/png": "[encoded data removed]",
      "text/plain": [
       "<Figure size 1600x1000 with 1 Axes>"
      ]
     },
     "metadata": {},
     "output_type": "display_data"
    }
   ],
   "source": [
    "data_gas['Газ 1'].hist(bins=100, figsize=(16,10))"
   ]
  },
  {
   "cell_type": "markdown",
   "metadata": {
    "pycharm": {
     "name": "#%% md\n"
    }
   },
   "source": [
    "- Распределение нормальное\n",
    "- Дубликатов и пропусков нет"
   ]
  },
  {
   "cell_type": "markdown",
   "metadata": {
    "pycharm": {
     "name": "#%% md\n"
    }
   },
   "source": [
    "### 1.5 Результаты измерения температуры"
   ]
  },
  {
   "cell_type": "code",
   "execution_count": 15,
   "metadata": {
    "pycharm": {
     "name": "#%%\n"
    }
   },
   "outputs": [
    {
     "name": "stdout",
     "output_type": "stream",
     "text": [
      "<class 'pandas.core.frame.DataFrame'>\n",
      "RangeIndex: 15907 entries, 0 to 15906\n",
      "Data columns (total 3 columns):\n",
      " #   Column        Non-Null Count  Dtype  \n",
      "---  ------        --------------  -----  \n",
      " 0   key           15907 non-null  int64  \n",
      " 1   Время замера  15907 non-null  object \n",
      " 2   Температура   13006 non-null  float64\n",
      "dtypes: float64(1), int64(1), object(1)\n",
      "memory usage: 372.9+ KB\n"
     ]
    },
    {
     "data": {
      "text/html": [
       "<div>\n",
       "<style scoped>\n",
       "    .dataframe tbody tr th:only-of-type {\n",
       "        vertical-align: middle;\n",
       "    }\n",
       "\n",
       "    .dataframe tbody tr th {\n",
       "        vertical-align: top;\n",
       "    }\n",
       "\n",
       "    .dataframe thead th {\n",
       "        text-align: right;\n",
       "    }\n",
       "</style>\n",
       "<table border=\"1\" class=\"dataframe\">\n",
       "  <thead>\n",
       "    <tr style=\"text-align: right;\">\n",
       "      <th></th>\n",
       "      <th>key</th>\n",
       "      <th>Время замера</th>\n",
       "      <th>Температура</th>\n",
       "    </tr>\n",
       "  </thead>\n",
       "  <tbody>\n",
       "    <tr>\n",
       "      <th>0</th>\n",
       "      <td>1</td>\n",
       "      <td>2019-05-03 11:16:18</td>\n",
       "      <td>1571.0</td>\n",
       "    </tr>\n",
       "    <tr>\n",
       "      <th>1</th>\n",
       "      <td>1</td>\n",
       "      <td>2019-05-03 11:25:53</td>\n",
       "      <td>1604.0</td>\n",
       "    </tr>\n",
       "    <tr>\n",
       "      <th>2</th>\n",
       "      <td>1</td>\n",
       "      <td>2019-05-03 11:29:11</td>\n",
       "      <td>1618.0</td>\n",
       "    </tr>\n",
       "    <tr>\n",
       "      <th>3</th>\n",
       "      <td>1</td>\n",
       "      <td>2019-05-03 11:30:01</td>\n",
       "      <td>1601.0</td>\n",
       "    </tr>\n",
       "    <tr>\n",
       "      <th>4</th>\n",
       "      <td>1</td>\n",
       "      <td>2019-05-03 11:30:39</td>\n",
       "      <td>1613.0</td>\n",
       "    </tr>\n",
       "    <tr>\n",
       "      <th>5</th>\n",
       "      <td>2</td>\n",
       "      <td>2019-05-03 11:37:27</td>\n",
       "      <td>1581.0</td>\n",
       "    </tr>\n",
       "    <tr>\n",
       "      <th>6</th>\n",
       "      <td>2</td>\n",
       "      <td>2019-05-03 11:38:00</td>\n",
       "      <td>1577.0</td>\n",
       "    </tr>\n",
       "    <tr>\n",
       "      <th>7</th>\n",
       "      <td>2</td>\n",
       "      <td>2019-05-03 11:49:38</td>\n",
       "      <td>1589.0</td>\n",
       "    </tr>\n",
       "    <tr>\n",
       "      <th>8</th>\n",
       "      <td>2</td>\n",
       "      <td>2019-05-03 11:55:50</td>\n",
       "      <td>1604.0</td>\n",
       "    </tr>\n",
       "    <tr>\n",
       "      <th>9</th>\n",
       "      <td>2</td>\n",
       "      <td>2019-05-03 11:58:24</td>\n",
       "      <td>1608.0</td>\n",
       "    </tr>\n",
       "  </tbody>\n",
       "</table>\n",
       "</div>"
      ],
      "text/plain": [
       "   key         Время замера  Температура\n",
       "0    1  2019-05-03 11:16:18       1571.0\n",
       "1    1  2019-05-03 11:25:53       1604.0\n",
       "2    1  2019-05-03 11:29:11       1618.0\n",
       "3    1  2019-05-03 11:30:01       1601.0\n",
       "4    1  2019-05-03 11:30:39       1613.0\n",
       "5    2  2019-05-03 11:37:27       1581.0\n",
       "6    2  2019-05-03 11:38:00       1577.0\n",
       "7    2  2019-05-03 11:49:38       1589.0\n",
       "8    2  2019-05-03 11:55:50       1604.0\n",
       "9    2  2019-05-03 11:58:24       1608.0"
      ]
     },
     "metadata": {},
     "output_type": "display_data"
    },
    {
     "data": {
      "text/html": [
       "<div>\n",
       "<style scoped>\n",
       "    .dataframe tbody tr th:only-of-type {\n",
       "        vertical-align: middle;\n",
       "    }\n",
       "\n",
       "    .dataframe tbody tr th {\n",
       "        vertical-align: top;\n",
       "    }\n",
       "\n",
       "    .dataframe thead th {\n",
       "        text-align: right;\n",
       "    }\n",
       "</style>\n",
       "<table border=\"1\" class=\"dataframe\">\n",
       "  <thead>\n",
       "    <tr style=\"text-align: right;\">\n",
       "      <th></th>\n",
       "      <th>key</th>\n",
       "      <th>Время замера</th>\n",
       "      <th>Температура</th>\n",
       "    </tr>\n",
       "  </thead>\n",
       "  <tbody>\n",
       "    <tr>\n",
       "      <th>count</th>\n",
       "      <td>15907.000000</td>\n",
       "      <td>15907</td>\n",
       "      <td>13006.000000</td>\n",
       "    </tr>\n",
       "    <tr>\n",
       "      <th>unique</th>\n",
       "      <td>NaN</td>\n",
       "      <td>15907</td>\n",
       "      <td>NaN</td>\n",
       "    </tr>\n",
       "    <tr>\n",
       "      <th>top</th>\n",
       "      <td>NaN</td>\n",
       "      <td>2019-05-03 11:16:18</td>\n",
       "      <td>NaN</td>\n",
       "    </tr>\n",
       "    <tr>\n",
       "      <th>freq</th>\n",
       "      <td>NaN</td>\n",
       "      <td>1</td>\n",
       "      <td>NaN</td>\n",
       "    </tr>\n",
       "    <tr>\n",
       "      <th>mean</th>\n",
       "      <td>1607.880870</td>\n",
       "      <td>NaN</td>\n",
       "      <td>1591.840920</td>\n",
       "    </tr>\n",
       "    <tr>\n",
       "      <th>std</th>\n",
       "      <td>942.212073</td>\n",
       "      <td>NaN</td>\n",
       "      <td>21.375851</td>\n",
       "    </tr>\n",
       "    <tr>\n",
       "      <th>min</th>\n",
       "      <td>1.000000</td>\n",
       "      <td>NaN</td>\n",
       "      <td>1191.000000</td>\n",
       "    </tr>\n",
       "    <tr>\n",
       "      <th>25%</th>\n",
       "      <td>790.000000</td>\n",
       "      <td>NaN</td>\n",
       "      <td>1581.000000</td>\n",
       "    </tr>\n",
       "    <tr>\n",
       "      <th>50%</th>\n",
       "      <td>1618.000000</td>\n",
       "      <td>NaN</td>\n",
       "      <td>1591.000000</td>\n",
       "    </tr>\n",
       "    <tr>\n",
       "      <th>75%</th>\n",
       "      <td>2427.000000</td>\n",
       "      <td>NaN</td>\n",
       "      <td>1601.000000</td>\n",
       "    </tr>\n",
       "    <tr>\n",
       "      <th>max</th>\n",
       "      <td>3241.000000</td>\n",
       "      <td>NaN</td>\n",
       "      <td>1705.000000</td>\n",
       "    </tr>\n",
       "  </tbody>\n",
       "</table>\n",
       "</div>"
      ],
      "text/plain": [
       "                 key         Время замера   Температура\n",
       "count   15907.000000                15907  13006.000000\n",
       "unique           NaN                15907           NaN\n",
       "top              NaN  2019-05-03 11:16:18           NaN\n",
       "freq             NaN                    1           NaN\n",
       "mean     1607.880870                  NaN   1591.840920\n",
       "std       942.212073                  NaN     21.375851\n",
       "min         1.000000                  NaN   1191.000000\n",
       "25%       790.000000                  NaN   1581.000000\n",
       "50%      1618.000000                  NaN   1591.000000\n",
       "75%      2427.000000                  NaN   1601.000000\n",
       "max      3241.000000                  NaN   1705.000000"
      ]
     },
     "metadata": {},
     "output_type": "display_data"
    },
    {
     "name": "stdout",
     "output_type": "stream",
     "text": [
      "Количество дубликатов: 0\n",
      "Количество уникальных партий: 3216\n"
     ]
    }
   ],
   "source": [
    "dataset_info(data_temp)"
   ]
  },
  {
   "cell_type": "code",
   "execution_count": 16,
   "metadata": {
    "pycharm": {
     "name": "#%%\n"
    }
   },
   "outputs": [
    {
     "name": "stdout",
     "output_type": "stream",
     "text": [
      "<class 'pandas.core.frame.DataFrame'>\n",
      "RangeIndex: 15907 entries, 0 to 15906\n",
      "Data columns (total 3 columns):\n",
      " #   Column        Non-Null Count  Dtype         \n",
      "---  ------        --------------  -----         \n",
      " 0   key           15907 non-null  int64         \n",
      " 1   Время замера  15907 non-null  datetime64[ns]\n",
      " 2   Температура   13006 non-null  float64       \n",
      "dtypes: datetime64[ns](1), float64(1), int64(1)\n",
      "memory usage: 372.9 KB\n"
     ]
    }
   ],
   "source": [
    "#Изменим тип данных у время замера\n",
    "data_temp['Время замера'] = pd.to_datetime(data_temp['Время замера'])\n",
    "data_temp.info()"
   ]
  },
  {
   "cell_type": "code",
   "execution_count": 17,
   "metadata": {
    "pycharm": {
     "name": "#%%\n"
    }
   },
   "outputs": [
    {
     "data": {
      "text/plain": [
       "<AxesSubplot:>"
      ]
     },
     "execution_count": 17,
     "metadata": {},
     "output_type": "execute_result"
    },
    {
     "data": {
      "image/png": "[encoded data removed]",
      "text/plain": [
       "<Figure size 1600x1000 with 1 Axes>"
      ]
     },
     "metadata": {},
     "output_type": "display_data"
    }
   ],
   "source": [
    "data_temp['Температура'].hist(bins=100, figsize=(16,10))"
   ]
  },
  {
   "cell_type": "code",
   "execution_count": 18,
   "metadata": {
    "pycharm": {
     "name": "#%%\n"
    }
   },
   "outputs": [],
   "source": [
    "data_temp = data_temp.dropna()"
   ]
  },
  {
   "cell_type": "markdown",
   "metadata": {
    "pycharm": {
     "name": "#%% md\n"
    }
   },
   "source": [
    "- В датасете есть пропуски значений температуры. Это целевой признак, поэтому пропущенные значения удалила\n",
    "- Распределение выглядит нормальным, но имеются аномальные выбросы\n",
    "- Исправила тип данных у Время замера на datetime\n",
    "- Дубликатов нет"
   ]
  },
  {
   "cell_type": "markdown",
   "metadata": {
    "pycharm": {
     "name": "#%% md\n"
    }
   },
   "source": [
    "### 1.6 Данные о проволочных материалах (объём)"
   ]
  },
  {
   "cell_type": "code",
   "execution_count": 19,
   "metadata": {
    "pycharm": {
     "name": "#%%\n"
    }
   },
   "outputs": [
    {
     "name": "stdout",
     "output_type": "stream",
     "text": [
      "<class 'pandas.core.frame.DataFrame'>\n",
      "RangeIndex: 3081 entries, 0 to 3080\n",
      "Data columns (total 10 columns):\n",
      " #   Column  Non-Null Count  Dtype  \n",
      "---  ------  --------------  -----  \n",
      " 0   key     3081 non-null   int64  \n",
      " 1   Wire 1  3055 non-null   float64\n",
      " 2   Wire 2  1079 non-null   float64\n",
      " 3   Wire 3  63 non-null     float64\n",
      " 4   Wire 4  14 non-null     float64\n",
      " 5   Wire 5  1 non-null      float64\n",
      " 6   Wire 6  73 non-null     float64\n",
      " 7   Wire 7  11 non-null     float64\n",
      " 8   Wire 8  19 non-null     float64\n",
      " 9   Wire 9  29 non-null     float64\n",
      "dtypes: float64(9), int64(1)\n",
      "memory usage: 240.8 KB\n"
     ]
    },
    {
     "data": {
      "text/html": [
       "<div>\n",
       "<style scoped>\n",
       "    .dataframe tbody tr th:only-of-type {\n",
       "        vertical-align: middle;\n",
       "    }\n",
       "\n",
       "    .dataframe tbody tr th {\n",
       "        vertical-align: top;\n",
       "    }\n",
       "\n",
       "    .dataframe thead th {\n",
       "        text-align: right;\n",
       "    }\n",
       "</style>\n",
       "<table border=\"1\" class=\"dataframe\">\n",
       "  <thead>\n",
       "    <tr style=\"text-align: right;\">\n",
       "      <th></th>\n",
       "      <th>key</th>\n",
       "      <th>Wire 1</th>\n",
       "      <th>Wire 2</th>\n",
       "      <th>Wire 3</th>\n",
       "      <th>Wire 4</th>\n",
       "      <th>Wire 5</th>\n",
       "      <th>Wire 6</th>\n",
       "      <th>Wire 7</th>\n",
       "      <th>Wire 8</th>\n",
       "      <th>Wire 9</th>\n",
       "    </tr>\n",
       "  </thead>\n",
       "  <tbody>\n",
       "    <tr>\n",
       "      <th>0</th>\n",
       "      <td>1</td>\n",
       "      <td>60.059998</td>\n",
       "      <td>NaN</td>\n",
       "      <td>NaN</td>\n",
       "      <td>NaN</td>\n",
       "      <td>NaN</td>\n",
       "      <td>NaN</td>\n",
       "      <td>NaN</td>\n",
       "      <td>NaN</td>\n",
       "      <td>NaN</td>\n",
       "    </tr>\n",
       "    <tr>\n",
       "      <th>1</th>\n",
       "      <td>2</td>\n",
       "      <td>96.052315</td>\n",
       "      <td>NaN</td>\n",
       "      <td>NaN</td>\n",
       "      <td>NaN</td>\n",
       "      <td>NaN</td>\n",
       "      <td>NaN</td>\n",
       "      <td>NaN</td>\n",
       "      <td>NaN</td>\n",
       "      <td>NaN</td>\n",
       "    </tr>\n",
       "    <tr>\n",
       "      <th>2</th>\n",
       "      <td>3</td>\n",
       "      <td>91.160157</td>\n",
       "      <td>NaN</td>\n",
       "      <td>NaN</td>\n",
       "      <td>NaN</td>\n",
       "      <td>NaN</td>\n",
       "      <td>NaN</td>\n",
       "      <td>NaN</td>\n",
       "      <td>NaN</td>\n",
       "      <td>NaN</td>\n",
       "    </tr>\n",
       "    <tr>\n",
       "      <th>3</th>\n",
       "      <td>4</td>\n",
       "      <td>89.063515</td>\n",
       "      <td>NaN</td>\n",
       "      <td>NaN</td>\n",
       "      <td>NaN</td>\n",
       "      <td>NaN</td>\n",
       "      <td>NaN</td>\n",
       "      <td>NaN</td>\n",
       "      <td>NaN</td>\n",
       "      <td>NaN</td>\n",
       "    </tr>\n",
       "    <tr>\n",
       "      <th>4</th>\n",
       "      <td>5</td>\n",
       "      <td>89.238236</td>\n",
       "      <td>9.114560</td>\n",
       "      <td>NaN</td>\n",
       "      <td>NaN</td>\n",
       "      <td>NaN</td>\n",
       "      <td>NaN</td>\n",
       "      <td>NaN</td>\n",
       "      <td>NaN</td>\n",
       "      <td>NaN</td>\n",
       "    </tr>\n",
       "    <tr>\n",
       "      <th>5</th>\n",
       "      <td>6</td>\n",
       "      <td>99.109917</td>\n",
       "      <td>9.114560</td>\n",
       "      <td>NaN</td>\n",
       "      <td>NaN</td>\n",
       "      <td>NaN</td>\n",
       "      <td>NaN</td>\n",
       "      <td>NaN</td>\n",
       "      <td>NaN</td>\n",
       "      <td>NaN</td>\n",
       "    </tr>\n",
       "    <tr>\n",
       "      <th>6</th>\n",
       "      <td>7</td>\n",
       "      <td>98.061600</td>\n",
       "      <td>NaN</td>\n",
       "      <td>NaN</td>\n",
       "      <td>NaN</td>\n",
       "      <td>NaN</td>\n",
       "      <td>NaN</td>\n",
       "      <td>NaN</td>\n",
       "      <td>NaN</td>\n",
       "      <td>NaN</td>\n",
       "    </tr>\n",
       "    <tr>\n",
       "      <th>7</th>\n",
       "      <td>8</td>\n",
       "      <td>155.282394</td>\n",
       "      <td>NaN</td>\n",
       "      <td>NaN</td>\n",
       "      <td>NaN</td>\n",
       "      <td>NaN</td>\n",
       "      <td>NaN</td>\n",
       "      <td>NaN</td>\n",
       "      <td>NaN</td>\n",
       "      <td>NaN</td>\n",
       "    </tr>\n",
       "    <tr>\n",
       "      <th>8</th>\n",
       "      <td>9</td>\n",
       "      <td>113.393279</td>\n",
       "      <td>9.143681</td>\n",
       "      <td>NaN</td>\n",
       "      <td>NaN</td>\n",
       "      <td>NaN</td>\n",
       "      <td>NaN</td>\n",
       "      <td>NaN</td>\n",
       "      <td>NaN</td>\n",
       "      <td>NaN</td>\n",
       "    </tr>\n",
       "    <tr>\n",
       "      <th>9</th>\n",
       "      <td>10</td>\n",
       "      <td>81.244796</td>\n",
       "      <td>12.376000</td>\n",
       "      <td>NaN</td>\n",
       "      <td>NaN</td>\n",
       "      <td>NaN</td>\n",
       "      <td>NaN</td>\n",
       "      <td>NaN</td>\n",
       "      <td>NaN</td>\n",
       "      <td>NaN</td>\n",
       "    </tr>\n",
       "  </tbody>\n",
       "</table>\n",
       "</div>"
      ],
      "text/plain": [
       "   key      Wire 1     Wire 2  Wire 3  Wire 4  Wire 5  Wire 6  Wire 7  Wire 8  \\\n",
       "0    1   60.059998        NaN     NaN     NaN     NaN     NaN     NaN     NaN   \n",
       "1    2   96.052315        NaN     NaN     NaN     NaN     NaN     NaN     NaN   \n",
       "2    3   91.160157        NaN     NaN     NaN     NaN     NaN     NaN     NaN   \n",
       "3    4   89.063515        NaN     NaN     NaN     NaN     NaN     NaN     NaN   \n",
       "4    5   89.238236   9.114560     NaN     NaN     NaN     NaN     NaN     NaN   \n",
       "5    6   99.109917   9.114560     NaN     NaN     NaN     NaN     NaN     NaN   \n",
       "6    7   98.061600        NaN     NaN     NaN     NaN     NaN     NaN     NaN   \n",
       "7    8  155.282394        NaN     NaN     NaN     NaN     NaN     NaN     NaN   \n",
       "8    9  113.393279   9.143681     NaN     NaN     NaN     NaN     NaN     NaN   \n",
       "9   10   81.244796  12.376000     NaN     NaN     NaN     NaN     NaN     NaN   \n",
       "\n",
       "   Wire 9  \n",
       "0     NaN  \n",
       "1     NaN  \n",
       "2     NaN  \n",
       "3     NaN  \n",
       "4     NaN  \n",
       "5     NaN  \n",
       "6     NaN  \n",
       "7     NaN  \n",
       "8     NaN  \n",
       "9     NaN  "
      ]
     },
     "metadata": {},
     "output_type": "display_data"
    },
    {
     "data": {
      "text/html": [
       "<div>\n",
       "<style scoped>\n",
       "    .dataframe tbody tr th:only-of-type {\n",
       "        vertical-align: middle;\n",
       "    }\n",
       "\n",
       "    .dataframe tbody tr th {\n",
       "        vertical-align: top;\n",
       "    }\n",
       "\n",
       "    .dataframe thead th {\n",
       "        text-align: right;\n",
       "    }\n",
       "</style>\n",
       "<table border=\"1\" class=\"dataframe\">\n",
       "  <thead>\n",
       "    <tr style=\"text-align: right;\">\n",
       "      <th></th>\n",
       "      <th>key</th>\n",
       "      <th>Wire 1</th>\n",
       "      <th>Wire 2</th>\n",
       "      <th>Wire 3</th>\n",
       "      <th>Wire 4</th>\n",
       "      <th>Wire 5</th>\n",
       "      <th>Wire 6</th>\n",
       "      <th>Wire 7</th>\n",
       "      <th>Wire 8</th>\n",
       "      <th>Wire 9</th>\n",
       "    </tr>\n",
       "  </thead>\n",
       "  <tbody>\n",
       "    <tr>\n",
       "      <th>count</th>\n",
       "      <td>3081.000000</td>\n",
       "      <td>3055.000000</td>\n",
       "      <td>1079.000000</td>\n",
       "      <td>63.000000</td>\n",
       "      <td>14.000000</td>\n",
       "      <td>1.000</td>\n",
       "      <td>73.000000</td>\n",
       "      <td>11.000000</td>\n",
       "      <td>19.000000</td>\n",
       "      <td>29.000000</td>\n",
       "    </tr>\n",
       "    <tr>\n",
       "      <th>mean</th>\n",
       "      <td>1623.426485</td>\n",
       "      <td>100.895853</td>\n",
       "      <td>50.577323</td>\n",
       "      <td>189.482681</td>\n",
       "      <td>57.442841</td>\n",
       "      <td>15.132</td>\n",
       "      <td>48.016974</td>\n",
       "      <td>10.039007</td>\n",
       "      <td>53.625193</td>\n",
       "      <td>34.155752</td>\n",
       "    </tr>\n",
       "    <tr>\n",
       "      <th>std</th>\n",
       "      <td>932.996726</td>\n",
       "      <td>42.012518</td>\n",
       "      <td>39.320216</td>\n",
       "      <td>99.513444</td>\n",
       "      <td>28.824667</td>\n",
       "      <td>NaN</td>\n",
       "      <td>33.919845</td>\n",
       "      <td>8.610584</td>\n",
       "      <td>16.881728</td>\n",
       "      <td>19.931616</td>\n",
       "    </tr>\n",
       "    <tr>\n",
       "      <th>min</th>\n",
       "      <td>1.000000</td>\n",
       "      <td>1.918800</td>\n",
       "      <td>0.030160</td>\n",
       "      <td>0.144144</td>\n",
       "      <td>24.148801</td>\n",
       "      <td>15.132</td>\n",
       "      <td>0.034320</td>\n",
       "      <td>0.234208</td>\n",
       "      <td>45.076721</td>\n",
       "      <td>4.622800</td>\n",
       "    </tr>\n",
       "    <tr>\n",
       "      <th>25%</th>\n",
       "      <td>823.000000</td>\n",
       "      <td>72.115684</td>\n",
       "      <td>20.193680</td>\n",
       "      <td>95.135044</td>\n",
       "      <td>40.807002</td>\n",
       "      <td>15.132</td>\n",
       "      <td>25.053600</td>\n",
       "      <td>6.762756</td>\n",
       "      <td>46.094879</td>\n",
       "      <td>22.058401</td>\n",
       "    </tr>\n",
       "    <tr>\n",
       "      <th>50%</th>\n",
       "      <td>1619.000000</td>\n",
       "      <td>100.158234</td>\n",
       "      <td>40.142956</td>\n",
       "      <td>235.194977</td>\n",
       "      <td>45.234282</td>\n",
       "      <td>15.132</td>\n",
       "      <td>42.076324</td>\n",
       "      <td>9.017009</td>\n",
       "      <td>46.279999</td>\n",
       "      <td>30.066399</td>\n",
       "    </tr>\n",
       "    <tr>\n",
       "      <th>75%</th>\n",
       "      <td>2434.000000</td>\n",
       "      <td>126.060483</td>\n",
       "      <td>70.227558</td>\n",
       "      <td>276.252014</td>\n",
       "      <td>76.124619</td>\n",
       "      <td>15.132</td>\n",
       "      <td>64.212723</td>\n",
       "      <td>11.886057</td>\n",
       "      <td>48.089603</td>\n",
       "      <td>43.862003</td>\n",
       "    </tr>\n",
       "    <tr>\n",
       "      <th>max</th>\n",
       "      <td>3241.000000</td>\n",
       "      <td>330.314424</td>\n",
       "      <td>282.780152</td>\n",
       "      <td>385.008668</td>\n",
       "      <td>113.231044</td>\n",
       "      <td>15.132</td>\n",
       "      <td>180.454575</td>\n",
       "      <td>32.847674</td>\n",
       "      <td>102.762401</td>\n",
       "      <td>90.053604</td>\n",
       "    </tr>\n",
       "  </tbody>\n",
       "</table>\n",
       "</div>"
      ],
      "text/plain": [
       "               key       Wire 1       Wire 2      Wire 3      Wire 4  Wire 5  \\\n",
       "count  3081.000000  3055.000000  1079.000000   63.000000   14.000000   1.000   \n",
       "mean   1623.426485   100.895853    50.577323  189.482681   57.442841  15.132   \n",
       "std     932.996726    42.012518    39.320216   99.513444   28.824667     NaN   \n",
       "min       1.000000     1.918800     0.030160    0.144144   24.148801  15.132   \n",
       "25%     823.000000    72.115684    20.193680   95.135044   40.807002  15.132   \n",
       "50%    1619.000000   100.158234    40.142956  235.194977   45.234282  15.132   \n",
       "75%    2434.000000   126.060483    70.227558  276.252014   76.124619  15.132   \n",
       "max    3241.000000   330.314424   282.780152  385.008668  113.231044  15.132   \n",
       "\n",
       "           Wire 6     Wire 7      Wire 8     Wire 9  \n",
       "count   73.000000  11.000000   19.000000  29.000000  \n",
       "mean    48.016974  10.039007   53.625193  34.155752  \n",
       "std     33.919845   8.610584   16.881728  19.931616  \n",
       "min      0.034320   0.234208   45.076721   4.622800  \n",
       "25%     25.053600   6.762756   46.094879  22.058401  \n",
       "50%     42.076324   9.017009   46.279999  30.066399  \n",
       "75%     64.212723  11.886057   48.089603  43.862003  \n",
       "max    180.454575  32.847674  102.762401  90.053604  "
      ]
     },
     "metadata": {},
     "output_type": "display_data"
    },
    {
     "name": "stdout",
     "output_type": "stream",
     "text": [
      "Количество дубликатов: 0\n",
      "Количество уникальных партий: 3081\n"
     ]
    }
   ],
   "source": [
    "dataset_info(data_wire)"
   ]
  },
  {
   "cell_type": "markdown",
   "metadata": {
    "pycharm": {
     "name": "#%% md\n"
    }
   },
   "source": [
    "- Дубликатов нет\n",
    "- Есть пустые значения, скорее всего они пустые потому что различные виды проволочных материалов поступали в разных пропорциях в разные промежутки времени"
   ]
  },
  {
   "cell_type": "markdown",
   "metadata": {
    "pycharm": {
     "name": "#%% md\n"
    }
   },
   "source": [
    "### 1.7 Данные о проволочных материалах (время)"
   ]
  },
  {
   "cell_type": "code",
   "execution_count": 20,
   "metadata": {
    "pycharm": {
     "name": "#%%\n"
    }
   },
   "outputs": [
    {
     "name": "stdout",
     "output_type": "stream",
     "text": [
      "<class 'pandas.core.frame.DataFrame'>\n",
      "RangeIndex: 3081 entries, 0 to 3080\n",
      "Data columns (total 10 columns):\n",
      " #   Column  Non-Null Count  Dtype \n",
      "---  ------  --------------  ----- \n",
      " 0   key     3081 non-null   int64 \n",
      " 1   Wire 1  3055 non-null   object\n",
      " 2   Wire 2  1079 non-null   object\n",
      " 3   Wire 3  63 non-null     object\n",
      " 4   Wire 4  14 non-null     object\n",
      " 5   Wire 5  1 non-null      object\n",
      " 6   Wire 6  73 non-null     object\n",
      " 7   Wire 7  11 non-null     object\n",
      " 8   Wire 8  19 non-null     object\n",
      " 9   Wire 9  29 non-null     object\n",
      "dtypes: int64(1), object(9)\n",
      "memory usage: 240.8+ KB\n"
     ]
    },
    {
     "data": {
      "text/html": [
       "<div>\n",
       "<style scoped>\n",
       "    .dataframe tbody tr th:only-of-type {\n",
       "        vertical-align: middle;\n",
       "    }\n",
       "\n",
       "    .dataframe tbody tr th {\n",
       "        vertical-align: top;\n",
       "    }\n",
       "\n",
       "    .dataframe thead th {\n",
       "        text-align: right;\n",
       "    }\n",
       "</style>\n",
       "<table border=\"1\" class=\"dataframe\">\n",
       "  <thead>\n",
       "    <tr style=\"text-align: right;\">\n",
       "      <th></th>\n",
       "      <th>key</th>\n",
       "      <th>Wire 1</th>\n",
       "      <th>Wire 2</th>\n",
       "      <th>Wire 3</th>\n",
       "      <th>Wire 4</th>\n",
       "      <th>Wire 5</th>\n",
       "      <th>Wire 6</th>\n",
       "      <th>Wire 7</th>\n",
       "      <th>Wire 8</th>\n",
       "      <th>Wire 9</th>\n",
       "    </tr>\n",
       "  </thead>\n",
       "  <tbody>\n",
       "    <tr>\n",
       "      <th>0</th>\n",
       "      <td>1</td>\n",
       "      <td>2019-05-03 11:11:41</td>\n",
       "      <td>NaN</td>\n",
       "      <td>NaN</td>\n",
       "      <td>NaN</td>\n",
       "      <td>NaN</td>\n",
       "      <td>NaN</td>\n",
       "      <td>NaN</td>\n",
       "      <td>NaN</td>\n",
       "      <td>NaN</td>\n",
       "    </tr>\n",
       "    <tr>\n",
       "      <th>1</th>\n",
       "      <td>2</td>\n",
       "      <td>2019-05-03 11:46:10</td>\n",
       "      <td>NaN</td>\n",
       "      <td>NaN</td>\n",
       "      <td>NaN</td>\n",
       "      <td>NaN</td>\n",
       "      <td>NaN</td>\n",
       "      <td>NaN</td>\n",
       "      <td>NaN</td>\n",
       "      <td>NaN</td>\n",
       "    </tr>\n",
       "    <tr>\n",
       "      <th>2</th>\n",
       "      <td>3</td>\n",
       "      <td>2019-05-03 12:13:47</td>\n",
       "      <td>NaN</td>\n",
       "      <td>NaN</td>\n",
       "      <td>NaN</td>\n",
       "      <td>NaN</td>\n",
       "      <td>NaN</td>\n",
       "      <td>NaN</td>\n",
       "      <td>NaN</td>\n",
       "      <td>NaN</td>\n",
       "    </tr>\n",
       "    <tr>\n",
       "      <th>3</th>\n",
       "      <td>4</td>\n",
       "      <td>2019-05-03 12:48:05</td>\n",
       "      <td>NaN</td>\n",
       "      <td>NaN</td>\n",
       "      <td>NaN</td>\n",
       "      <td>NaN</td>\n",
       "      <td>NaN</td>\n",
       "      <td>NaN</td>\n",
       "      <td>NaN</td>\n",
       "      <td>NaN</td>\n",
       "    </tr>\n",
       "    <tr>\n",
       "      <th>4</th>\n",
       "      <td>5</td>\n",
       "      <td>2019-05-03 13:18:15</td>\n",
       "      <td>2019-05-03 13:32:06</td>\n",
       "      <td>NaN</td>\n",
       "      <td>NaN</td>\n",
       "      <td>NaN</td>\n",
       "      <td>NaN</td>\n",
       "      <td>NaN</td>\n",
       "      <td>NaN</td>\n",
       "      <td>NaN</td>\n",
       "    </tr>\n",
       "    <tr>\n",
       "      <th>5</th>\n",
       "      <td>6</td>\n",
       "      <td>2019-05-03 13:59:02</td>\n",
       "      <td>2019-05-03 13:59:54</td>\n",
       "      <td>NaN</td>\n",
       "      <td>NaN</td>\n",
       "      <td>NaN</td>\n",
       "      <td>NaN</td>\n",
       "      <td>NaN</td>\n",
       "      <td>NaN</td>\n",
       "      <td>NaN</td>\n",
       "    </tr>\n",
       "    <tr>\n",
       "      <th>6</th>\n",
       "      <td>7</td>\n",
       "      <td>2019-05-03 14:28:46</td>\n",
       "      <td>NaN</td>\n",
       "      <td>NaN</td>\n",
       "      <td>NaN</td>\n",
       "      <td>NaN</td>\n",
       "      <td>NaN</td>\n",
       "      <td>NaN</td>\n",
       "      <td>NaN</td>\n",
       "      <td>NaN</td>\n",
       "    </tr>\n",
       "    <tr>\n",
       "      <th>7</th>\n",
       "      <td>8</td>\n",
       "      <td>2019-05-03 15:03:42</td>\n",
       "      <td>NaN</td>\n",
       "      <td>NaN</td>\n",
       "      <td>NaN</td>\n",
       "      <td>NaN</td>\n",
       "      <td>NaN</td>\n",
       "      <td>NaN</td>\n",
       "      <td>NaN</td>\n",
       "      <td>NaN</td>\n",
       "    </tr>\n",
       "    <tr>\n",
       "      <th>8</th>\n",
       "      <td>9</td>\n",
       "      <td>2019-05-03 15:42:43</td>\n",
       "      <td>2019-05-03 15:58:12</td>\n",
       "      <td>NaN</td>\n",
       "      <td>NaN</td>\n",
       "      <td>NaN</td>\n",
       "      <td>NaN</td>\n",
       "      <td>NaN</td>\n",
       "      <td>NaN</td>\n",
       "      <td>NaN</td>\n",
       "    </tr>\n",
       "    <tr>\n",
       "      <th>9</th>\n",
       "      <td>10</td>\n",
       "      <td>2019-05-03 16:20:25</td>\n",
       "      <td>2019-05-03 16:21:02</td>\n",
       "      <td>NaN</td>\n",
       "      <td>NaN</td>\n",
       "      <td>NaN</td>\n",
       "      <td>NaN</td>\n",
       "      <td>NaN</td>\n",
       "      <td>NaN</td>\n",
       "      <td>NaN</td>\n",
       "    </tr>\n",
       "  </tbody>\n",
       "</table>\n",
       "</div>"
      ],
      "text/plain": [
       "   key               Wire 1               Wire 2 Wire 3 Wire 4 Wire 5 Wire 6  \\\n",
       "0    1  2019-05-03 11:11:41                  NaN    NaN    NaN    NaN    NaN   \n",
       "1    2  2019-05-03 11:46:10                  NaN    NaN    NaN    NaN    NaN   \n",
       "2    3  2019-05-03 12:13:47                  NaN    NaN    NaN    NaN    NaN   \n",
       "3    4  2019-05-03 12:48:05                  NaN    NaN    NaN    NaN    NaN   \n",
       "4    5  2019-05-03 13:18:15  2019-05-03 13:32:06    NaN    NaN    NaN    NaN   \n",
       "5    6  2019-05-03 13:59:02  2019-05-03 13:59:54    NaN    NaN    NaN    NaN   \n",
       "6    7  2019-05-03 14:28:46                  NaN    NaN    NaN    NaN    NaN   \n",
       "7    8  2019-05-03 15:03:42                  NaN    NaN    NaN    NaN    NaN   \n",
       "8    9  2019-05-03 15:42:43  2019-05-03 15:58:12    NaN    NaN    NaN    NaN   \n",
       "9   10  2019-05-03 16:20:25  2019-05-03 16:21:02    NaN    NaN    NaN    NaN   \n",
       "\n",
       "  Wire 7 Wire 8 Wire 9  \n",
       "0    NaN    NaN    NaN  \n",
       "1    NaN    NaN    NaN  \n",
       "2    NaN    NaN    NaN  \n",
       "3    NaN    NaN    NaN  \n",
       "4    NaN    NaN    NaN  \n",
       "5    NaN    NaN    NaN  \n",
       "6    NaN    NaN    NaN  \n",
       "7    NaN    NaN    NaN  \n",
       "8    NaN    NaN    NaN  \n",
       "9    NaN    NaN    NaN  "
      ]
     },
     "metadata": {},
     "output_type": "display_data"
    },
    {
     "data": {
      "text/html": [
       "<div>\n",
       "<style scoped>\n",
       "    .dataframe tbody tr th:only-of-type {\n",
       "        vertical-align: middle;\n",
       "    }\n",
       "\n",
       "    .dataframe tbody tr th {\n",
       "        vertical-align: top;\n",
       "    }\n",
       "\n",
       "    .dataframe thead th {\n",
       "        text-align: right;\n",
       "    }\n",
       "</style>\n",
       "<table border=\"1\" class=\"dataframe\">\n",
       "  <thead>\n",
       "    <tr style=\"text-align: right;\">\n",
       "      <th></th>\n",
       "      <th>key</th>\n",
       "      <th>Wire 1</th>\n",
       "      <th>Wire 2</th>\n",
       "      <th>Wire 3</th>\n",
       "      <th>Wire 4</th>\n",
       "      <th>Wire 5</th>\n",
       "      <th>Wire 6</th>\n",
       "      <th>Wire 7</th>\n",
       "      <th>Wire 8</th>\n",
       "      <th>Wire 9</th>\n",
       "    </tr>\n",
       "  </thead>\n",
       "  <tbody>\n",
       "    <tr>\n",
       "      <th>count</th>\n",
       "      <td>3081.000000</td>\n",
       "      <td>3055</td>\n",
       "      <td>1079</td>\n",
       "      <td>63</td>\n",
       "      <td>14</td>\n",
       "      <td>1</td>\n",
       "      <td>73</td>\n",
       "      <td>11</td>\n",
       "      <td>19</td>\n",
       "      <td>29</td>\n",
       "    </tr>\n",
       "    <tr>\n",
       "      <th>unique</th>\n",
       "      <td>NaN</td>\n",
       "      <td>3055</td>\n",
       "      <td>1079</td>\n",
       "      <td>63</td>\n",
       "      <td>14</td>\n",
       "      <td>1</td>\n",
       "      <td>73</td>\n",
       "      <td>11</td>\n",
       "      <td>19</td>\n",
       "      <td>29</td>\n",
       "    </tr>\n",
       "    <tr>\n",
       "      <th>top</th>\n",
       "      <td>NaN</td>\n",
       "      <td>2019-05-03 11:11:41</td>\n",
       "      <td>2019-05-03 13:32:06</td>\n",
       "      <td>2019-05-04 04:47:53</td>\n",
       "      <td>2019-05-07 08:48:23</td>\n",
       "      <td>2019-08-08 16:01:07</td>\n",
       "      <td>2019-05-07 08:37:20</td>\n",
       "      <td>2019-07-23 12:42:00</td>\n",
       "      <td>2019-05-14 00:03:32</td>\n",
       "      <td>2019-05-04 16:09:11</td>\n",
       "    </tr>\n",
       "    <tr>\n",
       "      <th>freq</th>\n",
       "      <td>NaN</td>\n",
       "      <td>1</td>\n",
       "      <td>1</td>\n",
       "      <td>1</td>\n",
       "      <td>1</td>\n",
       "      <td>1</td>\n",
       "      <td>1</td>\n",
       "      <td>1</td>\n",
       "      <td>1</td>\n",
       "      <td>1</td>\n",
       "    </tr>\n",
       "    <tr>\n",
       "      <th>mean</th>\n",
       "      <td>1623.426485</td>\n",
       "      <td>NaN</td>\n",
       "      <td>NaN</td>\n",
       "      <td>NaN</td>\n",
       "      <td>NaN</td>\n",
       "      <td>NaN</td>\n",
       "      <td>NaN</td>\n",
       "      <td>NaN</td>\n",
       "      <td>NaN</td>\n",
       "      <td>NaN</td>\n",
       "    </tr>\n",
       "    <tr>\n",
       "      <th>std</th>\n",
       "      <td>932.996726</td>\n",
       "      <td>NaN</td>\n",
       "      <td>NaN</td>\n",
       "      <td>NaN</td>\n",
       "      <td>NaN</td>\n",
       "      <td>NaN</td>\n",
       "      <td>NaN</td>\n",
       "      <td>NaN</td>\n",
       "      <td>NaN</td>\n",
       "      <td>NaN</td>\n",
       "    </tr>\n",
       "    <tr>\n",
       "      <th>min</th>\n",
       "      <td>1.000000</td>\n",
       "      <td>NaN</td>\n",
       "      <td>NaN</td>\n",
       "      <td>NaN</td>\n",
       "      <td>NaN</td>\n",
       "      <td>NaN</td>\n",
       "      <td>NaN</td>\n",
       "      <td>NaN</td>\n",
       "      <td>NaN</td>\n",
       "      <td>NaN</td>\n",
       "    </tr>\n",
       "    <tr>\n",
       "      <th>25%</th>\n",
       "      <td>823.000000</td>\n",
       "      <td>NaN</td>\n",
       "      <td>NaN</td>\n",
       "      <td>NaN</td>\n",
       "      <td>NaN</td>\n",
       "      <td>NaN</td>\n",
       "      <td>NaN</td>\n",
       "      <td>NaN</td>\n",
       "      <td>NaN</td>\n",
       "      <td>NaN</td>\n",
       "    </tr>\n",
       "    <tr>\n",
       "      <th>50%</th>\n",
       "      <td>1619.000000</td>\n",
       "      <td>NaN</td>\n",
       "      <td>NaN</td>\n",
       "      <td>NaN</td>\n",
       "      <td>NaN</td>\n",
       "      <td>NaN</td>\n",
       "      <td>NaN</td>\n",
       "      <td>NaN</td>\n",
       "      <td>NaN</td>\n",
       "      <td>NaN</td>\n",
       "    </tr>\n",
       "    <tr>\n",
       "      <th>75%</th>\n",
       "      <td>2434.000000</td>\n",
       "      <td>NaN</td>\n",
       "      <td>NaN</td>\n",
       "      <td>NaN</td>\n",
       "      <td>NaN</td>\n",
       "      <td>NaN</td>\n",
       "      <td>NaN</td>\n",
       "      <td>NaN</td>\n",
       "      <td>NaN</td>\n",
       "      <td>NaN</td>\n",
       "    </tr>\n",
       "    <tr>\n",
       "      <th>max</th>\n",
       "      <td>3241.000000</td>\n",
       "      <td>NaN</td>\n",
       "      <td>NaN</td>\n",
       "      <td>NaN</td>\n",
       "      <td>NaN</td>\n",
       "      <td>NaN</td>\n",
       "      <td>NaN</td>\n",
       "      <td>NaN</td>\n",
       "      <td>NaN</td>\n",
       "      <td>NaN</td>\n",
       "    </tr>\n",
       "  </tbody>\n",
       "</table>\n",
       "</div>"
      ],
      "text/plain": [
       "                key               Wire 1               Wire 2  \\\n",
       "count   3081.000000                 3055                 1079   \n",
       "unique          NaN                 3055                 1079   \n",
       "top             NaN  2019-05-03 11:11:41  2019-05-03 13:32:06   \n",
       "freq            NaN                    1                    1   \n",
       "mean    1623.426485                  NaN                  NaN   \n",
       "std      932.996726                  NaN                  NaN   \n",
       "min        1.000000                  NaN                  NaN   \n",
       "25%      823.000000                  NaN                  NaN   \n",
       "50%     1619.000000                  NaN                  NaN   \n",
       "75%     2434.000000                  NaN                  NaN   \n",
       "max     3241.000000                  NaN                  NaN   \n",
       "\n",
       "                     Wire 3               Wire 4               Wire 5  \\\n",
       "count                    63                   14                    1   \n",
       "unique                   63                   14                    1   \n",
       "top     2019-05-04 04:47:53  2019-05-07 08:48:23  2019-08-08 16:01:07   \n",
       "freq                      1                    1                    1   \n",
       "mean                    NaN                  NaN                  NaN   \n",
       "std                     NaN                  NaN                  NaN   \n",
       "min                     NaN                  NaN                  NaN   \n",
       "25%                     NaN                  NaN                  NaN   \n",
       "50%                     NaN                  NaN                  NaN   \n",
       "75%                     NaN                  NaN                  NaN   \n",
       "max                     NaN                  NaN                  NaN   \n",
       "\n",
       "                     Wire 6               Wire 7               Wire 8  \\\n",
       "count                    73                   11                   19   \n",
       "unique                   73                   11                   19   \n",
       "top     2019-05-07 08:37:20  2019-07-23 12:42:00  2019-05-14 00:03:32   \n",
       "freq                      1                    1                    1   \n",
       "mean                    NaN                  NaN                  NaN   \n",
       "std                     NaN                  NaN                  NaN   \n",
       "min                     NaN                  NaN                  NaN   \n",
       "25%                     NaN                  NaN                  NaN   \n",
       "50%                     NaN                  NaN                  NaN   \n",
       "75%                     NaN                  NaN                  NaN   \n",
       "max                     NaN                  NaN                  NaN   \n",
       "\n",
       "                     Wire 9  \n",
       "count                    29  \n",
       "unique                   29  \n",
       "top     2019-05-04 16:09:11  \n",
       "freq                      1  \n",
       "mean                    NaN  \n",
       "std                     NaN  \n",
       "min                     NaN  \n",
       "25%                     NaN  \n",
       "50%                     NaN  \n",
       "75%                     NaN  \n",
       "max                     NaN  "
      ]
     },
     "metadata": {},
     "output_type": "display_data"
    },
    {
     "name": "stdout",
     "output_type": "stream",
     "text": [
      "Количество дубликатов: 0\n",
      "Количество уникальных партий: 3081\n"
     ]
    }
   ],
   "source": [
    "dataset_info(data_wire_time)"
   ]
  },
  {
   "cell_type": "code",
   "execution_count": null,
   "metadata": {
    "pycharm": {
     "name": "#%%\n"
    }
   },
   "outputs": [],
   "source": [
    "- Дубликатов нет\n",
    "- Есть пропуски\n",
    "- Типы данных не буду менять: данный датасет не буду использовать в простроении модели"
   ]
  },
  {
   "cell_type": "markdown",
   "metadata": {
    "pycharm": {
     "name": "#%% md\n"
    }
   },
   "source": [
    "### Выводы по пункту 1\n",
    "\n",
    "- Загрузила и изучила данные\n",
    "- Избавилась от некоторых аномальных значений.\n",
    "- Изменилаи типы данных на Datetime\n",
    "- Проверила данные на пропуски и дубликаты.\n",
    "\n",
    "Данные требуют предобработки и группировки по признаку key. Данные активной и реактивной мощности распределены нормально со смещением влево, данные о температуре распределены нормально без смещения."
   ]
  },
  {
   "cell_type": "markdown",
   "metadata": {
    "pycharm": {
     "name": "#%% md\n"
    }
   },
   "source": [
    "##  2. Предобработка данных"
   ]
  },
  {
   "cell_type": "markdown",
   "metadata": {
    "pycharm": {
     "name": "#%% md\n"
    }
   },
   "source": [
    "Найдем партии, в которых было как минимум 2 измерения температуры"
   ]
  },
  {
   "cell_type": "code",
   "execution_count": 21,
   "metadata": {
    "pycharm": {
     "name": "#%%\n"
    }
   },
   "outputs": [
    {
     "data": {
      "text/plain": [
       "0           1\n",
       "1           1\n",
       "2           1\n",
       "3           1\n",
       "4           1\n",
       "         ... \n",
       "13001    3237\n",
       "13002    3238\n",
       "13003    3239\n",
       "13004    3240\n",
       "13005    3241\n",
       "Name: key, Length: 13006, dtype: int64"
      ]
     },
     "execution_count": 21,
     "metadata": {},
     "output_type": "execute_result"
    }
   ],
   "source": [
    "data_temp = data_temp.dropna(subset=['Температура']).reset_index(drop=True)\n",
    "good_key = data_temp['key']\n",
    "good_key"
   ]
  },
  {
   "cell_type": "code",
   "execution_count": 22,
   "metadata": {
    "pycharm": {
     "name": "#%%\n"
    }
   },
   "outputs": [
    {
     "data": {
      "text/plain": [
       "1           1\n",
       "6           2\n",
       "12          3\n",
       "17          4\n",
       "20          5\n",
       "         ... \n",
       "12251    2495\n",
       "12254    2496\n",
       "12258    2497\n",
       "12260    2498\n",
       "12265    2499\n",
       "Name: key, Length: 2475, dtype: int64"
      ]
     },
     "execution_count": 22,
     "metadata": {},
     "output_type": "execute_result"
    }
   ],
   "source": [
    "good_key = good_key[good_key.duplicated()].drop_duplicates()\n",
    "good_key"
   ]
  },
  {
   "cell_type": "markdown",
   "metadata": {
    "pycharm": {
     "name": "#%% md\n"
    }
   },
   "source": [
    "Выберем партии, которые соотвествуют условию"
   ]
  },
  {
   "cell_type": "code",
   "execution_count": 23,
   "metadata": {
    "pycharm": {
     "name": "#%%\n"
    }
   },
   "outputs": [],
   "source": [
    "data_temp = data_temp.query('key in @good_key')\n",
    "data_arc = data_arc.query('key in @good_key')\n",
    "data_bulk = data_bulk.query('key in @good_key')\n",
    "data_wire = data_wire.query('key in @good_key')"
   ]
  },
  {
   "cell_type": "code",
   "execution_count": 24,
   "metadata": {
    "pycharm": {
     "name": "#%%\n"
    }
   },
   "outputs": [
    {
     "data": {
      "text/html": [
       "<div>\n",
       "<style scoped>\n",
       "    .dataframe tbody tr th:only-of-type {\n",
       "        vertical-align: middle;\n",
       "    }\n",
       "\n",
       "    .dataframe tbody tr th {\n",
       "        vertical-align: top;\n",
       "    }\n",
       "\n",
       "    .dataframe thead th {\n",
       "        text-align: right;\n",
       "    }\n",
       "</style>\n",
       "<table border=\"1\" class=\"dataframe\">\n",
       "  <thead>\n",
       "    <tr style=\"text-align: right;\">\n",
       "      <th></th>\n",
       "      <th>key</th>\n",
       "      <th>first_temp</th>\n",
       "      <th>last_temp</th>\n",
       "    </tr>\n",
       "  </thead>\n",
       "  <tbody>\n",
       "    <tr>\n",
       "      <th>0</th>\n",
       "      <td>1</td>\n",
       "      <td>1571</td>\n",
       "      <td>1613</td>\n",
       "    </tr>\n",
       "    <tr>\n",
       "      <th>1</th>\n",
       "      <td>2</td>\n",
       "      <td>1581</td>\n",
       "      <td>1602</td>\n",
       "    </tr>\n",
       "    <tr>\n",
       "      <th>2</th>\n",
       "      <td>3</td>\n",
       "      <td>1596</td>\n",
       "      <td>1599</td>\n",
       "    </tr>\n",
       "    <tr>\n",
       "      <th>3</th>\n",
       "      <td>4</td>\n",
       "      <td>1601</td>\n",
       "      <td>1625</td>\n",
       "    </tr>\n",
       "    <tr>\n",
       "      <th>4</th>\n",
       "      <td>5</td>\n",
       "      <td>1576</td>\n",
       "      <td>1602</td>\n",
       "    </tr>\n",
       "    <tr>\n",
       "      <th>...</th>\n",
       "      <td>...</td>\n",
       "      <td>...</td>\n",
       "      <td>...</td>\n",
       "    </tr>\n",
       "    <tr>\n",
       "      <th>2470</th>\n",
       "      <td>2495</td>\n",
       "      <td>1570</td>\n",
       "      <td>1591</td>\n",
       "    </tr>\n",
       "    <tr>\n",
       "      <th>2471</th>\n",
       "      <td>2496</td>\n",
       "      <td>1554</td>\n",
       "      <td>1591</td>\n",
       "    </tr>\n",
       "    <tr>\n",
       "      <th>2472</th>\n",
       "      <td>2497</td>\n",
       "      <td>1571</td>\n",
       "      <td>1589</td>\n",
       "    </tr>\n",
       "    <tr>\n",
       "      <th>2473</th>\n",
       "      <td>2498</td>\n",
       "      <td>1591</td>\n",
       "      <td>1594</td>\n",
       "    </tr>\n",
       "    <tr>\n",
       "      <th>2474</th>\n",
       "      <td>2499</td>\n",
       "      <td>1569</td>\n",
       "      <td>1603</td>\n",
       "    </tr>\n",
       "  </tbody>\n",
       "</table>\n",
       "<p>2475 rows × 3 columns</p>\n",
       "</div>"
      ],
      "text/plain": [
       "       key  first_temp  last_temp\n",
       "0        1        1571       1613\n",
       "1        2        1581       1602\n",
       "2        3        1596       1599\n",
       "3        4        1601       1625\n",
       "4        5        1576       1602\n",
       "...    ...         ...        ...\n",
       "2470  2495        1570       1591\n",
       "2471  2496        1554       1591\n",
       "2472  2497        1571       1589\n",
       "2473  2498        1591       1594\n",
       "2474  2499        1569       1603\n",
       "\n",
       "[2475 rows x 3 columns]"
      ]
     },
     "execution_count": 24,
     "metadata": {},
     "output_type": "execute_result"
    }
   ],
   "source": [
    "#Сгруппируем данные по партии по первым и последним значениям температуры, последние значения необходимо будет предсказывать.\n",
    "data_temp = data_temp.groupby(by = 'key').agg(['first', 'last']).reset_index()\n",
    "data_temp.columns = ['key', 'start_time', 'end_time', 'first_temp', 'last_temp']\n",
    "data_temp = data_temp[['key', 'first_temp', 'last_temp']]\n",
    "data_temp['first_temp'] = pd.to_numeric(data_temp['first_temp'], downcast='integer')\n",
    "data_temp['last_temp'] = pd.to_numeric(data_temp['last_temp'], downcast='integer')\n",
    "data_temp"
   ]
  },
  {
   "cell_type": "code",
   "execution_count": 29,
   "metadata": {
    "pycharm": {
     "name": "#%%\n"
    }
   },
   "outputs": [
    {
     "data": {
      "text/html": [
       "<div>\n",
       "<style scoped>\n",
       "    .dataframe tbody tr th:only-of-type {\n",
       "        vertical-align: middle;\n",
       "    }\n",
       "\n",
       "    .dataframe tbody tr th {\n",
       "        vertical-align: top;\n",
       "    }\n",
       "\n",
       "    .dataframe thead th {\n",
       "        text-align: right;\n",
       "    }\n",
       "</style>\n",
       "<table border=\"1\" class=\"dataframe\">\n",
       "  <thead>\n",
       "    <tr style=\"text-align: right;\">\n",
       "      <th></th>\n",
       "      <th>key</th>\n",
       "      <th>Активная мощность</th>\n",
       "      <th>Реактивная мощность</th>\n",
       "    </tr>\n",
       "  </thead>\n",
       "  <tbody>\n",
       "    <tr>\n",
       "      <th>0</th>\n",
       "      <td>1</td>\n",
       "      <td>4.878147</td>\n",
       "      <td>3.183241</td>\n",
       "    </tr>\n",
       "    <tr>\n",
       "      <th>1</th>\n",
       "      <td>2</td>\n",
       "      <td>3.052598</td>\n",
       "      <td>1.998112</td>\n",
       "    </tr>\n",
       "    <tr>\n",
       "      <th>2</th>\n",
       "      <td>3</td>\n",
       "      <td>2.525882</td>\n",
       "      <td>1.599076</td>\n",
       "    </tr>\n",
       "    <tr>\n",
       "      <th>3</th>\n",
       "      <td>4</td>\n",
       "      <td>3.209250</td>\n",
       "      <td>2.060298</td>\n",
       "    </tr>\n",
       "    <tr>\n",
       "      <th>4</th>\n",
       "      <td>5</td>\n",
       "      <td>3.347173</td>\n",
       "      <td>2.252643</td>\n",
       "    </tr>\n",
       "    <tr>\n",
       "      <th>...</th>\n",
       "      <td>...</td>\n",
       "      <td>...</td>\n",
       "      <td>...</td>\n",
       "    </tr>\n",
       "    <tr>\n",
       "      <th>2470</th>\n",
       "      <td>2495</td>\n",
       "      <td>3.210690</td>\n",
       "      <td>2.360777</td>\n",
       "    </tr>\n",
       "    <tr>\n",
       "      <th>2471</th>\n",
       "      <td>2496</td>\n",
       "      <td>4.203064</td>\n",
       "      <td>2.810185</td>\n",
       "    </tr>\n",
       "    <tr>\n",
       "      <th>2472</th>\n",
       "      <td>2497</td>\n",
       "      <td>2.212379</td>\n",
       "      <td>1.851269</td>\n",
       "    </tr>\n",
       "    <tr>\n",
       "      <th>2473</th>\n",
       "      <td>2498</td>\n",
       "      <td>3.408725</td>\n",
       "      <td>2.355428</td>\n",
       "    </tr>\n",
       "    <tr>\n",
       "      <th>2474</th>\n",
       "      <td>2499</td>\n",
       "      <td>4.098431</td>\n",
       "      <td>2.777865</td>\n",
       "    </tr>\n",
       "  </tbody>\n",
       "</table>\n",
       "<p>2475 rows × 3 columns</p>\n",
       "</div>"
      ],
      "text/plain": [
       "       key  Активная мощность  Реактивная мощность\n",
       "0        1           4.878147             3.183241\n",
       "1        2           3.052598             1.998112\n",
       "2        3           2.525882             1.599076\n",
       "3        4           3.209250             2.060298\n",
       "4        5           3.347173             2.252643\n",
       "...    ...                ...                  ...\n",
       "2470  2495           3.210690             2.360777\n",
       "2471  2496           4.203064             2.810185\n",
       "2472  2497           2.212379             1.851269\n",
       "2473  2498           3.408725             2.355428\n",
       "2474  2499           4.098431             2.777865\n",
       "\n",
       "[2475 rows x 3 columns]"
      ]
     },
     "execution_count": 29,
     "metadata": {},
     "output_type": "execute_result"
    }
   ],
   "source": [
    "# сгруппируем данные по партиям\n",
    "data_arc = data_arc.groupby(by = 'key', as_index = False).sum()\n",
    "data_arc"
   ]
  },
  {
   "cell_type": "code",
   "execution_count": 30,
   "metadata": {
    "pycharm": {
     "name": "#%%\n"
    }
   },
   "outputs": [],
   "source": [
    "# заполним пропуски нулями\n",
    "data_bulk = data_bulk.fillna(0)\n",
    "data_wire = data_wire.fillna(0)\n",
    "data_gas = data_gas.fillna(0)"
   ]
  },
  {
   "cell_type": "code",
   "execution_count": 31,
   "metadata": {
    "pycharm": {
     "name": "#%%\n"
    }
   },
   "outputs": [],
   "source": [
    "# объединим обработанные датасеты по ключу key\n",
    "data = (data_temp.merge(data_arc, how = 'inner', on = 'key')\n",
    "                 .merge(data_wire, how = 'inner', on = 'key')\n",
    "                 .merge(data_bulk, how = 'inner', on = 'key')\n",
    "                 .merge(data_gas, how = 'inner', on = 'key')\n",
    "       )\n",
    "\n",
    "# переименуем столбцы для корректной работы lgbm\n",
    "data = data.rename(columns={'Активная мощность': 'active_power',\n",
    "                            'Реактивная мощность': 'reactive_power',\n",
    "                            'Полная мощность':'full_power',\n",
    "                            'Работа': 'work',\n",
    "                            'Газ 1': 'gas_1'})\n",
    "\n",
    "# уберем колонку-индентификатор key, которую мы использовали\n",
    "# для объединения датасетов\n",
    "data = data.drop(['key'], axis = 1)"
   ]
  },
  {
   "cell_type": "markdown",
   "metadata": {
    "pycharm": {
     "name": "#%% md\n"
    }
   },
   "source": [
    "Определим корреляцию данных"
   ]
  },
  {
   "cell_type": "code",
   "execution_count": 32,
   "metadata": {
    "pycharm": {
     "name": "#%%\n"
    }
   },
   "outputs": [
    {
     "data": {
      "text/html": [
       "<div>\n",
       "<style scoped>\n",
       "    .dataframe tbody tr th:only-of-type {\n",
       "        vertical-align: middle;\n",
       "    }\n",
       "\n",
       "    .dataframe tbody tr th {\n",
       "        vertical-align: top;\n",
       "    }\n",
       "\n",
       "    .dataframe thead th {\n",
       "        text-align: right;\n",
       "    }\n",
       "</style>\n",
       "<table border=\"1\" class=\"dataframe\">\n",
       "  <thead>\n",
       "    <tr style=\"text-align: right;\">\n",
       "      <th></th>\n",
       "      <th>first_temp</th>\n",
       "      <th>last_temp</th>\n",
       "      <th>active_power</th>\n",
       "      <th>reactive_power</th>\n",
       "      <th>Wire 1</th>\n",
       "      <th>Wire 2</th>\n",
       "      <th>Wire 3</th>\n",
       "      <th>Wire 4</th>\n",
       "      <th>Wire 5</th>\n",
       "      <th>Wire 6</th>\n",
       "      <th>...</th>\n",
       "      <th>Bulk 7</th>\n",
       "      <th>Bulk 8</th>\n",
       "      <th>Bulk 9</th>\n",
       "      <th>Bulk 10</th>\n",
       "      <th>Bulk 11</th>\n",
       "      <th>Bulk 12</th>\n",
       "      <th>Bulk 13</th>\n",
       "      <th>Bulk 14</th>\n",
       "      <th>Bulk 15</th>\n",
       "      <th>gas_1</th>\n",
       "    </tr>\n",
       "  </thead>\n",
       "  <tbody>\n",
       "    <tr>\n",
       "      <th>first_temp</th>\n",
       "      <td>1.000000</td>\n",
       "      <td>0.252443</td>\n",
       "      <td>-0.347621</td>\n",
       "      <td>-0.325661</td>\n",
       "      <td>0.209444</td>\n",
       "      <td>-0.086089</td>\n",
       "      <td>-0.000178</td>\n",
       "      <td>0.064991</td>\n",
       "      <td>NaN</td>\n",
       "      <td>0.019884</td>\n",
       "      <td>...</td>\n",
       "      <td>0.074729</td>\n",
       "      <td>-0.009320</td>\n",
       "      <td>-0.026216</td>\n",
       "      <td>0.035408</td>\n",
       "      <td>-0.087791</td>\n",
       "      <td>-0.058495</td>\n",
       "      <td>0.018606</td>\n",
       "      <td>-0.131024</td>\n",
       "      <td>-0.040349</td>\n",
       "      <td>0.037341</td>\n",
       "    </tr>\n",
       "    <tr>\n",
       "      <th>last_temp</th>\n",
       "      <td>0.252443</td>\n",
       "      <td>1.000000</td>\n",
       "      <td>0.290434</td>\n",
       "      <td>0.240980</td>\n",
       "      <td>0.317575</td>\n",
       "      <td>-0.206672</td>\n",
       "      <td>-0.047537</td>\n",
       "      <td>-0.159719</td>\n",
       "      <td>NaN</td>\n",
       "      <td>-0.084034</td>\n",
       "      <td>...</td>\n",
       "      <td>-0.107275</td>\n",
       "      <td>-0.026587</td>\n",
       "      <td>-0.016075</td>\n",
       "      <td>0.061350</td>\n",
       "      <td>-0.114753</td>\n",
       "      <td>0.267424</td>\n",
       "      <td>-0.010920</td>\n",
       "      <td>0.114617</td>\n",
       "      <td>0.266414</td>\n",
       "      <td>0.059160</td>\n",
       "    </tr>\n",
       "    <tr>\n",
       "      <th>active_power</th>\n",
       "      <td>-0.347621</td>\n",
       "      <td>0.290434</td>\n",
       "      <td>1.000000</td>\n",
       "      <td>0.958486</td>\n",
       "      <td>0.051016</td>\n",
       "      <td>0.054665</td>\n",
       "      <td>0.035638</td>\n",
       "      <td>0.047639</td>\n",
       "      <td>NaN</td>\n",
       "      <td>0.053341</td>\n",
       "      <td>...</td>\n",
       "      <td>0.074424</td>\n",
       "      <td>-0.011401</td>\n",
       "      <td>0.023735</td>\n",
       "      <td>0.004783</td>\n",
       "      <td>0.071186</td>\n",
       "      <td>0.478083</td>\n",
       "      <td>0.122453</td>\n",
       "      <td>0.465205</td>\n",
       "      <td>0.334372</td>\n",
       "      <td>0.373767</td>\n",
       "    </tr>\n",
       "    <tr>\n",
       "      <th>reactive_power</th>\n",
       "      <td>-0.325661</td>\n",
       "      <td>0.240980</td>\n",
       "      <td>0.958486</td>\n",
       "      <td>1.000000</td>\n",
       "      <td>0.016931</td>\n",
       "      <td>0.052309</td>\n",
       "      <td>0.030751</td>\n",
       "      <td>0.075687</td>\n",
       "      <td>NaN</td>\n",
       "      <td>0.055222</td>\n",
       "      <td>...</td>\n",
       "      <td>0.100975</td>\n",
       "      <td>-0.008350</td>\n",
       "      <td>0.011113</td>\n",
       "      <td>-0.002496</td>\n",
       "      <td>0.075986</td>\n",
       "      <td>0.457266</td>\n",
       "      <td>0.116738</td>\n",
       "      <td>0.430002</td>\n",
       "      <td>0.297246</td>\n",
       "      <td>0.356824</td>\n",
       "    </tr>\n",
       "    <tr>\n",
       "      <th>Wire 1</th>\n",
       "      <td>0.209444</td>\n",
       "      <td>0.317575</td>\n",
       "      <td>0.051016</td>\n",
       "      <td>0.016931</td>\n",
       "      <td>1.000000</td>\n",
       "      <td>-0.068301</td>\n",
       "      <td>0.038075</td>\n",
       "      <td>-0.142005</td>\n",
       "      <td>NaN</td>\n",
       "      <td>-0.128036</td>\n",
       "      <td>...</td>\n",
       "      <td>-0.143267</td>\n",
       "      <td>0.034650</td>\n",
       "      <td>0.022596</td>\n",
       "      <td>0.062713</td>\n",
       "      <td>-0.117755</td>\n",
       "      <td>0.170167</td>\n",
       "      <td>0.039439</td>\n",
       "      <td>-0.053835</td>\n",
       "      <td>0.118437</td>\n",
       "      <td>0.117313</td>\n",
       "    </tr>\n",
       "    <tr>\n",
       "      <th>Wire 2</th>\n",
       "      <td>-0.086089</td>\n",
       "      <td>-0.206672</td>\n",
       "      <td>0.054665</td>\n",
       "      <td>0.052309</td>\n",
       "      <td>-0.068301</td>\n",
       "      <td>1.000000</td>\n",
       "      <td>0.094073</td>\n",
       "      <td>-0.033758</td>\n",
       "      <td>NaN</td>\n",
       "      <td>-0.058700</td>\n",
       "      <td>...</td>\n",
       "      <td>-0.000631</td>\n",
       "      <td>0.018912</td>\n",
       "      <td>0.066733</td>\n",
       "      <td>-0.103758</td>\n",
       "      <td>0.062067</td>\n",
       "      <td>-0.098263</td>\n",
       "      <td>-0.001390</td>\n",
       "      <td>0.036309</td>\n",
       "      <td>-0.096415</td>\n",
       "      <td>0.104248</td>\n",
       "    </tr>\n",
       "    <tr>\n",
       "      <th>Wire 3</th>\n",
       "      <td>-0.000178</td>\n",
       "      <td>-0.047537</td>\n",
       "      <td>0.035638</td>\n",
       "      <td>0.030751</td>\n",
       "      <td>0.038075</td>\n",
       "      <td>0.094073</td>\n",
       "      <td>1.000000</td>\n",
       "      <td>0.169810</td>\n",
       "      <td>NaN</td>\n",
       "      <td>0.183456</td>\n",
       "      <td>...</td>\n",
       "      <td>0.156626</td>\n",
       "      <td>-0.002400</td>\n",
       "      <td>-0.008282</td>\n",
       "      <td>-0.027977</td>\n",
       "      <td>-0.021829</td>\n",
       "      <td>-0.120469</td>\n",
       "      <td>-0.008685</td>\n",
       "      <td>-0.008859</td>\n",
       "      <td>-0.118076</td>\n",
       "      <td>0.103382</td>\n",
       "    </tr>\n",
       "    <tr>\n",
       "      <th>Wire 4</th>\n",
       "      <td>0.064991</td>\n",
       "      <td>-0.159719</td>\n",
       "      <td>0.047639</td>\n",
       "      <td>0.075687</td>\n",
       "      <td>-0.142005</td>\n",
       "      <td>-0.033758</td>\n",
       "      <td>0.169810</td>\n",
       "      <td>1.000000</td>\n",
       "      <td>NaN</td>\n",
       "      <td>0.445960</td>\n",
       "      <td>...</td>\n",
       "      <td>0.740572</td>\n",
       "      <td>-0.001336</td>\n",
       "      <td>-0.004609</td>\n",
       "      <td>-0.015571</td>\n",
       "      <td>-0.012153</td>\n",
       "      <td>-0.085535</td>\n",
       "      <td>-0.004833</td>\n",
       "      <td>-0.121828</td>\n",
       "      <td>-0.091352</td>\n",
       "      <td>0.145413</td>\n",
       "    </tr>\n",
       "    <tr>\n",
       "      <th>Wire 5</th>\n",
       "      <td>NaN</td>\n",
       "      <td>NaN</td>\n",
       "      <td>NaN</td>\n",
       "      <td>NaN</td>\n",
       "      <td>NaN</td>\n",
       "      <td>NaN</td>\n",
       "      <td>NaN</td>\n",
       "      <td>NaN</td>\n",
       "      <td>NaN</td>\n",
       "      <td>NaN</td>\n",
       "      <td>...</td>\n",
       "      <td>NaN</td>\n",
       "      <td>NaN</td>\n",
       "      <td>NaN</td>\n",
       "      <td>NaN</td>\n",
       "      <td>NaN</td>\n",
       "      <td>NaN</td>\n",
       "      <td>NaN</td>\n",
       "      <td>NaN</td>\n",
       "      <td>NaN</td>\n",
       "      <td>NaN</td>\n",
       "    </tr>\n",
       "    <tr>\n",
       "      <th>Wire 6</th>\n",
       "      <td>0.019884</td>\n",
       "      <td>-0.084034</td>\n",
       "      <td>0.053341</td>\n",
       "      <td>0.055222</td>\n",
       "      <td>-0.128036</td>\n",
       "      <td>-0.058700</td>\n",
       "      <td>0.183456</td>\n",
       "      <td>0.445960</td>\n",
       "      <td>NaN</td>\n",
       "      <td>1.000000</td>\n",
       "      <td>...</td>\n",
       "      <td>0.456101</td>\n",
       "      <td>-0.002334</td>\n",
       "      <td>-0.008055</td>\n",
       "      <td>-0.017800</td>\n",
       "      <td>0.008701</td>\n",
       "      <td>-0.042731</td>\n",
       "      <td>-0.008447</td>\n",
       "      <td>-0.052387</td>\n",
       "      <td>-0.032421</td>\n",
       "      <td>0.108089</td>\n",
       "    </tr>\n",
       "    <tr>\n",
       "      <th>Wire 7</th>\n",
       "      <td>0.044771</td>\n",
       "      <td>-0.137262</td>\n",
       "      <td>0.019648</td>\n",
       "      <td>0.036900</td>\n",
       "      <td>-0.067509</td>\n",
       "      <td>-0.016201</td>\n",
       "      <td>0.100392</td>\n",
       "      <td>0.602964</td>\n",
       "      <td>NaN</td>\n",
       "      <td>0.302742</td>\n",
       "      <td>...</td>\n",
       "      <td>0.372250</td>\n",
       "      <td>-0.000641</td>\n",
       "      <td>-0.002212</td>\n",
       "      <td>-0.007472</td>\n",
       "      <td>-0.005832</td>\n",
       "      <td>-0.041048</td>\n",
       "      <td>-0.002320</td>\n",
       "      <td>-0.058465</td>\n",
       "      <td>-0.043840</td>\n",
       "      <td>0.078953</td>\n",
       "    </tr>\n",
       "    <tr>\n",
       "      <th>Wire 8</th>\n",
       "      <td>-0.023261</td>\n",
       "      <td>-0.010767</td>\n",
       "      <td>0.029493</td>\n",
       "      <td>0.016595</td>\n",
       "      <td>0.017234</td>\n",
       "      <td>0.069272</td>\n",
       "      <td>-0.008189</td>\n",
       "      <td>-0.004558</td>\n",
       "      <td>NaN</td>\n",
       "      <td>-0.007965</td>\n",
       "      <td>...</td>\n",
       "      <td>-0.004623</td>\n",
       "      <td>0.321040</td>\n",
       "      <td>0.974969</td>\n",
       "      <td>-0.017087</td>\n",
       "      <td>-0.013338</td>\n",
       "      <td>-0.055774</td>\n",
       "      <td>-0.005304</td>\n",
       "      <td>0.043656</td>\n",
       "      <td>-0.089947</td>\n",
       "      <td>0.118068</td>\n",
       "    </tr>\n",
       "    <tr>\n",
       "      <th>Wire 9</th>\n",
       "      <td>0.004310</td>\n",
       "      <td>-0.027488</td>\n",
       "      <td>-0.016158</td>\n",
       "      <td>-0.012125</td>\n",
       "      <td>0.021074</td>\n",
       "      <td>0.213150</td>\n",
       "      <td>-0.010625</td>\n",
       "      <td>-0.005914</td>\n",
       "      <td>NaN</td>\n",
       "      <td>-0.010334</td>\n",
       "      <td>...</td>\n",
       "      <td>-0.005998</td>\n",
       "      <td>-0.001902</td>\n",
       "      <td>-0.006563</td>\n",
       "      <td>-0.022170</td>\n",
       "      <td>-0.017305</td>\n",
       "      <td>-0.042218</td>\n",
       "      <td>-0.006882</td>\n",
       "      <td>0.018576</td>\n",
       "      <td>-0.036960</td>\n",
       "      <td>0.014070</td>\n",
       "    </tr>\n",
       "    <tr>\n",
       "      <th>Bulk 1</th>\n",
       "      <td>0.072331</td>\n",
       "      <td>-0.075206</td>\n",
       "      <td>0.084594</td>\n",
       "      <td>0.108948</td>\n",
       "      <td>0.013682</td>\n",
       "      <td>-0.009229</td>\n",
       "      <td>0.020271</td>\n",
       "      <td>0.146301</td>\n",
       "      <td>NaN</td>\n",
       "      <td>0.148561</td>\n",
       "      <td>...</td>\n",
       "      <td>0.237213</td>\n",
       "      <td>-0.005725</td>\n",
       "      <td>-0.019756</td>\n",
       "      <td>-0.023187</td>\n",
       "      <td>-0.037892</td>\n",
       "      <td>0.325771</td>\n",
       "      <td>-0.010279</td>\n",
       "      <td>0.207718</td>\n",
       "      <td>-0.000800</td>\n",
       "      <td>0.234141</td>\n",
       "    </tr>\n",
       "    <tr>\n",
       "      <th>Bulk 2</th>\n",
       "      <td>0.119802</td>\n",
       "      <td>-0.082454</td>\n",
       "      <td>0.031090</td>\n",
       "      <td>0.052011</td>\n",
       "      <td>-0.169477</td>\n",
       "      <td>-0.039058</td>\n",
       "      <td>0.223202</td>\n",
       "      <td>0.699342</td>\n",
       "      <td>NaN</td>\n",
       "      <td>0.558889</td>\n",
       "      <td>...</td>\n",
       "      <td>0.679356</td>\n",
       "      <td>-0.001545</td>\n",
       "      <td>-0.005333</td>\n",
       "      <td>-0.018015</td>\n",
       "      <td>0.001479</td>\n",
       "      <td>-0.098962</td>\n",
       "      <td>-0.005592</td>\n",
       "      <td>-0.140952</td>\n",
       "      <td>-0.105693</td>\n",
       "      <td>0.217415</td>\n",
       "    </tr>\n",
       "    <tr>\n",
       "      <th>Bulk 3</th>\n",
       "      <td>-0.104394</td>\n",
       "      <td>-0.035977</td>\n",
       "      <td>0.112751</td>\n",
       "      <td>0.069320</td>\n",
       "      <td>0.039637</td>\n",
       "      <td>0.095723</td>\n",
       "      <td>0.005780</td>\n",
       "      <td>-0.040526</td>\n",
       "      <td>NaN</td>\n",
       "      <td>0.007113</td>\n",
       "      <td>...</td>\n",
       "      <td>-0.033480</td>\n",
       "      <td>0.020824</td>\n",
       "      <td>0.011337</td>\n",
       "      <td>-0.085186</td>\n",
       "      <td>-0.007445</td>\n",
       "      <td>0.018371</td>\n",
       "      <td>-0.013389</td>\n",
       "      <td>0.010772</td>\n",
       "      <td>-0.012860</td>\n",
       "      <td>0.059628</td>\n",
       "    </tr>\n",
       "    <tr>\n",
       "      <th>Bulk 4</th>\n",
       "      <td>0.144775</td>\n",
       "      <td>0.187970</td>\n",
       "      <td>-0.031047</td>\n",
       "      <td>-0.032370</td>\n",
       "      <td>0.297591</td>\n",
       "      <td>-0.268142</td>\n",
       "      <td>-0.039219</td>\n",
       "      <td>0.034421</td>\n",
       "      <td>NaN</td>\n",
       "      <td>-0.011417</td>\n",
       "      <td>...</td>\n",
       "      <td>0.045893</td>\n",
       "      <td>-0.013187</td>\n",
       "      <td>-0.002940</td>\n",
       "      <td>-0.084746</td>\n",
       "      <td>-0.119529</td>\n",
       "      <td>0.105791</td>\n",
       "      <td>0.003209</td>\n",
       "      <td>-0.090602</td>\n",
       "      <td>0.101514</td>\n",
       "      <td>0.017578</td>\n",
       "    </tr>\n",
       "    <tr>\n",
       "      <th>Bulk 5</th>\n",
       "      <td>0.068389</td>\n",
       "      <td>-0.028355</td>\n",
       "      <td>0.006517</td>\n",
       "      <td>0.018979</td>\n",
       "      <td>-0.013493</td>\n",
       "      <td>-0.013794</td>\n",
       "      <td>0.070916</td>\n",
       "      <td>0.262763</td>\n",
       "      <td>NaN</td>\n",
       "      <td>0.204819</td>\n",
       "      <td>...</td>\n",
       "      <td>0.288338</td>\n",
       "      <td>-0.002443</td>\n",
       "      <td>-0.008431</td>\n",
       "      <td>-0.028480</td>\n",
       "      <td>-0.015840</td>\n",
       "      <td>-0.072758</td>\n",
       "      <td>-0.008841</td>\n",
       "      <td>-0.065890</td>\n",
       "      <td>-0.067190</td>\n",
       "      <td>0.086902</td>\n",
       "    </tr>\n",
       "    <tr>\n",
       "      <th>Bulk 6</th>\n",
       "      <td>-0.096951</td>\n",
       "      <td>-0.181816</td>\n",
       "      <td>0.153150</td>\n",
       "      <td>0.143985</td>\n",
       "      <td>-0.235793</td>\n",
       "      <td>0.204627</td>\n",
       "      <td>-0.046518</td>\n",
       "      <td>-0.025915</td>\n",
       "      <td>NaN</td>\n",
       "      <td>-0.020223</td>\n",
       "      <td>...</td>\n",
       "      <td>-0.025099</td>\n",
       "      <td>-0.008334</td>\n",
       "      <td>-0.028762</td>\n",
       "      <td>-0.097157</td>\n",
       "      <td>0.196733</td>\n",
       "      <td>-0.112902</td>\n",
       "      <td>0.042632</td>\n",
       "      <td>0.177490</td>\n",
       "      <td>-0.109316</td>\n",
       "      <td>0.139625</td>\n",
       "    </tr>\n",
       "    <tr>\n",
       "      <th>Bulk 7</th>\n",
       "      <td>0.074729</td>\n",
       "      <td>-0.107275</td>\n",
       "      <td>0.074424</td>\n",
       "      <td>0.100975</td>\n",
       "      <td>-0.143267</td>\n",
       "      <td>-0.000631</td>\n",
       "      <td>0.156626</td>\n",
       "      <td>0.740572</td>\n",
       "      <td>NaN</td>\n",
       "      <td>0.456101</td>\n",
       "      <td>...</td>\n",
       "      <td>1.000000</td>\n",
       "      <td>-0.001355</td>\n",
       "      <td>-0.004675</td>\n",
       "      <td>-0.015793</td>\n",
       "      <td>-0.004910</td>\n",
       "      <td>-0.017742</td>\n",
       "      <td>-0.004902</td>\n",
       "      <td>-0.076388</td>\n",
       "      <td>-0.090099</td>\n",
       "      <td>0.198311</td>\n",
       "    </tr>\n",
       "    <tr>\n",
       "      <th>Bulk 8</th>\n",
       "      <td>-0.009320</td>\n",
       "      <td>-0.026587</td>\n",
       "      <td>-0.011401</td>\n",
       "      <td>-0.008350</td>\n",
       "      <td>0.034650</td>\n",
       "      <td>0.018912</td>\n",
       "      <td>-0.002400</td>\n",
       "      <td>-0.001336</td>\n",
       "      <td>NaN</td>\n",
       "      <td>-0.002334</td>\n",
       "      <td>...</td>\n",
       "      <td>-0.001355</td>\n",
       "      <td>1.000000</td>\n",
       "      <td>0.488391</td>\n",
       "      <td>-0.005007</td>\n",
       "      <td>-0.003909</td>\n",
       "      <td>-0.027508</td>\n",
       "      <td>-0.001554</td>\n",
       "      <td>-0.039180</td>\n",
       "      <td>-0.029379</td>\n",
       "      <td>0.004128</td>\n",
       "    </tr>\n",
       "    <tr>\n",
       "      <th>Bulk 9</th>\n",
       "      <td>-0.026216</td>\n",
       "      <td>-0.016075</td>\n",
       "      <td>0.023735</td>\n",
       "      <td>0.011113</td>\n",
       "      <td>0.022596</td>\n",
       "      <td>0.066733</td>\n",
       "      <td>-0.008282</td>\n",
       "      <td>-0.004609</td>\n",
       "      <td>NaN</td>\n",
       "      <td>-0.008055</td>\n",
       "      <td>...</td>\n",
       "      <td>-0.004675</td>\n",
       "      <td>0.488391</td>\n",
       "      <td>1.000000</td>\n",
       "      <td>-0.017281</td>\n",
       "      <td>-0.013488</td>\n",
       "      <td>-0.057706</td>\n",
       "      <td>-0.005364</td>\n",
       "      <td>0.038846</td>\n",
       "      <td>-0.093507</td>\n",
       "      <td>0.116577</td>\n",
       "    </tr>\n",
       "    <tr>\n",
       "      <th>Bulk 10</th>\n",
       "      <td>0.035408</td>\n",
       "      <td>0.061350</td>\n",
       "      <td>0.004783</td>\n",
       "      <td>-0.002496</td>\n",
       "      <td>0.062713</td>\n",
       "      <td>-0.103758</td>\n",
       "      <td>-0.027977</td>\n",
       "      <td>-0.015571</td>\n",
       "      <td>NaN</td>\n",
       "      <td>-0.017800</td>\n",
       "      <td>...</td>\n",
       "      <td>-0.015793</td>\n",
       "      <td>-0.005007</td>\n",
       "      <td>-0.017281</td>\n",
       "      <td>1.000000</td>\n",
       "      <td>-0.045564</td>\n",
       "      <td>0.027909</td>\n",
       "      <td>-0.018121</td>\n",
       "      <td>-0.045537</td>\n",
       "      <td>0.052262</td>\n",
       "      <td>-0.008508</td>\n",
       "    </tr>\n",
       "    <tr>\n",
       "      <th>Bulk 11</th>\n",
       "      <td>-0.087791</td>\n",
       "      <td>-0.114753</td>\n",
       "      <td>0.071186</td>\n",
       "      <td>0.075986</td>\n",
       "      <td>-0.117755</td>\n",
       "      <td>0.062067</td>\n",
       "      <td>-0.021829</td>\n",
       "      <td>-0.012153</td>\n",
       "      <td>NaN</td>\n",
       "      <td>0.008701</td>\n",
       "      <td>...</td>\n",
       "      <td>-0.004910</td>\n",
       "      <td>-0.003909</td>\n",
       "      <td>-0.013488</td>\n",
       "      <td>-0.045564</td>\n",
       "      <td>1.000000</td>\n",
       "      <td>-0.040168</td>\n",
       "      <td>-0.010248</td>\n",
       "      <td>0.078115</td>\n",
       "      <td>-0.048246</td>\n",
       "      <td>0.042027</td>\n",
       "    </tr>\n",
       "    <tr>\n",
       "      <th>Bulk 12</th>\n",
       "      <td>-0.058495</td>\n",
       "      <td>0.267424</td>\n",
       "      <td>0.478083</td>\n",
       "      <td>0.457266</td>\n",
       "      <td>0.170167</td>\n",
       "      <td>-0.098263</td>\n",
       "      <td>-0.120469</td>\n",
       "      <td>-0.085535</td>\n",
       "      <td>NaN</td>\n",
       "      <td>-0.042731</td>\n",
       "      <td>...</td>\n",
       "      <td>-0.017742</td>\n",
       "      <td>-0.027508</td>\n",
       "      <td>-0.057706</td>\n",
       "      <td>0.027909</td>\n",
       "      <td>-0.040168</td>\n",
       "      <td>1.000000</td>\n",
       "      <td>0.054205</td>\n",
       "      <td>0.481541</td>\n",
       "      <td>0.614479</td>\n",
       "      <td>0.217332</td>\n",
       "    </tr>\n",
       "    <tr>\n",
       "      <th>Bulk 13</th>\n",
       "      <td>0.018606</td>\n",
       "      <td>-0.010920</td>\n",
       "      <td>0.122453</td>\n",
       "      <td>0.116738</td>\n",
       "      <td>0.039439</td>\n",
       "      <td>-0.001390</td>\n",
       "      <td>-0.008685</td>\n",
       "      <td>-0.004833</td>\n",
       "      <td>NaN</td>\n",
       "      <td>-0.008447</td>\n",
       "      <td>...</td>\n",
       "      <td>-0.004902</td>\n",
       "      <td>-0.001554</td>\n",
       "      <td>-0.005364</td>\n",
       "      <td>-0.018121</td>\n",
       "      <td>-0.010248</td>\n",
       "      <td>0.054205</td>\n",
       "      <td>1.000000</td>\n",
       "      <td>-0.075578</td>\n",
       "      <td>0.018559</td>\n",
       "      <td>0.049056</td>\n",
       "    </tr>\n",
       "    <tr>\n",
       "      <th>Bulk 14</th>\n",
       "      <td>-0.131024</td>\n",
       "      <td>0.114617</td>\n",
       "      <td>0.465205</td>\n",
       "      <td>0.430002</td>\n",
       "      <td>-0.053835</td>\n",
       "      <td>0.036309</td>\n",
       "      <td>-0.008859</td>\n",
       "      <td>-0.121828</td>\n",
       "      <td>NaN</td>\n",
       "      <td>-0.052387</td>\n",
       "      <td>...</td>\n",
       "      <td>-0.076388</td>\n",
       "      <td>-0.039180</td>\n",
       "      <td>0.038846</td>\n",
       "      <td>-0.045537</td>\n",
       "      <td>0.078115</td>\n",
       "      <td>0.481541</td>\n",
       "      <td>-0.075578</td>\n",
       "      <td>1.000000</td>\n",
       "      <td>0.265354</td>\n",
       "      <td>0.268889</td>\n",
       "    </tr>\n",
       "    <tr>\n",
       "      <th>Bulk 15</th>\n",
       "      <td>-0.040349</td>\n",
       "      <td>0.266414</td>\n",
       "      <td>0.334372</td>\n",
       "      <td>0.297246</td>\n",
       "      <td>0.118437</td>\n",
       "      <td>-0.096415</td>\n",
       "      <td>-0.118076</td>\n",
       "      <td>-0.091352</td>\n",
       "      <td>NaN</td>\n",
       "      <td>-0.032421</td>\n",
       "      <td>...</td>\n",
       "      <td>-0.090099</td>\n",
       "      <td>-0.029379</td>\n",
       "      <td>-0.093507</td>\n",
       "      <td>0.052262</td>\n",
       "      <td>-0.048246</td>\n",
       "      <td>0.614479</td>\n",
       "      <td>0.018559</td>\n",
       "      <td>0.265354</td>\n",
       "      <td>1.000000</td>\n",
       "      <td>0.043624</td>\n",
       "    </tr>\n",
       "    <tr>\n",
       "      <th>gas_1</th>\n",
       "      <td>0.037341</td>\n",
       "      <td>0.059160</td>\n",
       "      <td>0.373767</td>\n",
       "      <td>0.356824</td>\n",
       "      <td>0.117313</td>\n",
       "      <td>0.104248</td>\n",
       "      <td>0.103382</td>\n",
       "      <td>0.145413</td>\n",
       "      <td>NaN</td>\n",
       "      <td>0.108089</td>\n",
       "      <td>...</td>\n",
       "      <td>0.198311</td>\n",
       "      <td>0.004128</td>\n",
       "      <td>0.116577</td>\n",
       "      <td>-0.008508</td>\n",
       "      <td>0.042027</td>\n",
       "      <td>0.217332</td>\n",
       "      <td>0.049056</td>\n",
       "      <td>0.268889</td>\n",
       "      <td>0.043624</td>\n",
       "      <td>1.000000</td>\n",
       "    </tr>\n",
       "  </tbody>\n",
       "</table>\n",
       "<p>29 rows × 29 columns</p>\n",
       "</div>"
      ],
      "text/plain": [
       "                first_temp  last_temp  active_power  reactive_power    Wire 1  \\\n",
       "first_temp        1.000000   0.252443     -0.347621       -0.325661  0.209444   \n",
       "last_temp         0.252443   1.000000      0.290434        0.240980  0.317575   \n",
       "active_power     -0.347621   0.290434      1.000000        0.958486  0.051016   \n",
       "reactive_power   -0.325661   0.240980      0.958486        1.000000  0.016931   \n",
       "Wire 1            0.209444   0.317575      0.051016        0.016931  1.000000   \n",
       "Wire 2           -0.086089  -0.206672      0.054665        0.052309 -0.068301   \n",
       "Wire 3           -0.000178  -0.047537      0.035638        0.030751  0.038075   \n",
       "Wire 4            0.064991  -0.159719      0.047639        0.075687 -0.142005   \n",
       "Wire 5                 NaN        NaN           NaN             NaN       NaN   \n",
       "Wire 6            0.019884  -0.084034      0.053341        0.055222 -0.128036   \n",
       "Wire 7            0.044771  -0.137262      0.019648        0.036900 -0.067509   \n",
       "Wire 8           -0.023261  -0.010767      0.029493        0.016595  0.017234   \n",
       "Wire 9            0.004310  -0.027488     -0.016158       -0.012125  0.021074   \n",
       "Bulk 1            0.072331  -0.075206      0.084594        0.108948  0.013682   \n",
       "Bulk 2            0.119802  -0.082454      0.031090        0.052011 -0.169477   \n",
       "Bulk 3           -0.104394  -0.035977      0.112751        0.069320  0.039637   \n",
       "Bulk 4            0.144775   0.187970     -0.031047       -0.032370  0.297591   \n",
       "Bulk 5            0.068389  -0.028355      0.006517        0.018979 -0.013493   \n",
       "Bulk 6           -0.096951  -0.181816      0.153150        0.143985 -0.235793   \n",
       "Bulk 7            0.074729  -0.107275      0.074424        0.100975 -0.143267   \n",
       "Bulk 8           -0.009320  -0.026587     -0.011401       -0.008350  0.034650   \n",
       "Bulk 9           -0.026216  -0.016075      0.023735        0.011113  0.022596   \n",
       "Bulk 10           0.035408   0.061350      0.004783       -0.002496  0.062713   \n",
       "Bulk 11          -0.087791  -0.114753      0.071186        0.075986 -0.117755   \n",
       "Bulk 12          -0.058495   0.267424      0.478083        0.457266  0.170167   \n",
       "Bulk 13           0.018606  -0.010920      0.122453        0.116738  0.039439   \n",
       "Bulk 14          -0.131024   0.114617      0.465205        0.430002 -0.053835   \n",
       "Bulk 15          -0.040349   0.266414      0.334372        0.297246  0.118437   \n",
       "gas_1             0.037341   0.059160      0.373767        0.356824  0.117313   \n",
       "\n",
       "                  Wire 2    Wire 3    Wire 4  Wire 5    Wire 6  ...    Bulk 7  \\\n",
       "first_temp     -0.086089 -0.000178  0.064991     NaN  0.019884  ...  0.074729   \n",
       "last_temp      -0.206672 -0.047537 -0.159719     NaN -0.084034  ... -0.107275   \n",
       "active_power    0.054665  0.035638  0.047639     NaN  0.053341  ...  0.074424   \n",
       "reactive_power  0.052309  0.030751  0.075687     NaN  0.055222  ...  0.100975   \n",
       "Wire 1         -0.068301  0.038075 -0.142005     NaN -0.128036  ... -0.143267   \n",
       "Wire 2          1.000000  0.094073 -0.033758     NaN -0.058700  ... -0.000631   \n",
       "Wire 3          0.094073  1.000000  0.169810     NaN  0.183456  ...  0.156626   \n",
       "Wire 4         -0.033758  0.169810  1.000000     NaN  0.445960  ...  0.740572   \n",
       "Wire 5               NaN       NaN       NaN     NaN       NaN  ...       NaN   \n",
       "Wire 6         -0.058700  0.183456  0.445960     NaN  1.000000  ...  0.456101   \n",
       "Wire 7         -0.016201  0.100392  0.602964     NaN  0.302742  ...  0.372250   \n",
       "Wire 8          0.069272 -0.008189 -0.004558     NaN -0.007965  ... -0.004623   \n",
       "Wire 9          0.213150 -0.010625 -0.005914     NaN -0.010334  ... -0.005998   \n",
       "Bulk 1         -0.009229  0.020271  0.146301     NaN  0.148561  ...  0.237213   \n",
       "Bulk 2         -0.039058  0.223202  0.699342     NaN  0.558889  ...  0.679356   \n",
       "Bulk 3          0.095723  0.005780 -0.040526     NaN  0.007113  ... -0.033480   \n",
       "Bulk 4         -0.268142 -0.039219  0.034421     NaN -0.011417  ...  0.045893   \n",
       "Bulk 5         -0.013794  0.070916  0.262763     NaN  0.204819  ...  0.288338   \n",
       "Bulk 6          0.204627 -0.046518 -0.025915     NaN -0.020223  ... -0.025099   \n",
       "Bulk 7         -0.000631  0.156626  0.740572     NaN  0.456101  ...  1.000000   \n",
       "Bulk 8          0.018912 -0.002400 -0.001336     NaN -0.002334  ... -0.001355   \n",
       "Bulk 9          0.066733 -0.008282 -0.004609     NaN -0.008055  ... -0.004675   \n",
       "Bulk 10        -0.103758 -0.027977 -0.015571     NaN -0.017800  ... -0.015793   \n",
       "Bulk 11         0.062067 -0.021829 -0.012153     NaN  0.008701  ... -0.004910   \n",
       "Bulk 12        -0.098263 -0.120469 -0.085535     NaN -0.042731  ... -0.017742   \n",
       "Bulk 13        -0.001390 -0.008685 -0.004833     NaN -0.008447  ... -0.004902   \n",
       "Bulk 14         0.036309 -0.008859 -0.121828     NaN -0.052387  ... -0.076388   \n",
       "Bulk 15        -0.096415 -0.118076 -0.091352     NaN -0.032421  ... -0.090099   \n",
       "gas_1           0.104248  0.103382  0.145413     NaN  0.108089  ...  0.198311   \n",
       "\n",
       "                  Bulk 8    Bulk 9   Bulk 10   Bulk 11   Bulk 12   Bulk 13  \\\n",
       "first_temp     -0.009320 -0.026216  0.035408 -0.087791 -0.058495  0.018606   \n",
       "last_temp      -0.026587 -0.016075  0.061350 -0.114753  0.267424 -0.010920   \n",
       "active_power   -0.011401  0.023735  0.004783  0.071186  0.478083  0.122453   \n",
       "reactive_power -0.008350  0.011113 -0.002496  0.075986  0.457266  0.116738   \n",
       "Wire 1          0.034650  0.022596  0.062713 -0.117755  0.170167  0.039439   \n",
       "Wire 2          0.018912  0.066733 -0.103758  0.062067 -0.098263 -0.001390   \n",
       "Wire 3         -0.002400 -0.008282 -0.027977 -0.021829 -0.120469 -0.008685   \n",
       "Wire 4         -0.001336 -0.004609 -0.015571 -0.012153 -0.085535 -0.004833   \n",
       "Wire 5               NaN       NaN       NaN       NaN       NaN       NaN   \n",
       "Wire 6         -0.002334 -0.008055 -0.017800  0.008701 -0.042731 -0.008447   \n",
       "Wire 7         -0.000641 -0.002212 -0.007472 -0.005832 -0.041048 -0.002320   \n",
       "Wire 8          0.321040  0.974969 -0.017087 -0.013338 -0.055774 -0.005304   \n",
       "Wire 9         -0.001902 -0.006563 -0.022170 -0.017305 -0.042218 -0.006882   \n",
       "Bulk 1         -0.005725 -0.019756 -0.023187 -0.037892  0.325771 -0.010279   \n",
       "Bulk 2         -0.001545 -0.005333 -0.018015  0.001479 -0.098962 -0.005592   \n",
       "Bulk 3          0.020824  0.011337 -0.085186 -0.007445  0.018371 -0.013389   \n",
       "Bulk 4         -0.013187 -0.002940 -0.084746 -0.119529  0.105791  0.003209   \n",
       "Bulk 5         -0.002443 -0.008431 -0.028480 -0.015840 -0.072758 -0.008841   \n",
       "Bulk 6         -0.008334 -0.028762 -0.097157  0.196733 -0.112902  0.042632   \n",
       "Bulk 7         -0.001355 -0.004675 -0.015793 -0.004910 -0.017742 -0.004902   \n",
       "Bulk 8          1.000000  0.488391 -0.005007 -0.003909 -0.027508 -0.001554   \n",
       "Bulk 9          0.488391  1.000000 -0.017281 -0.013488 -0.057706 -0.005364   \n",
       "Bulk 10        -0.005007 -0.017281  1.000000 -0.045564  0.027909 -0.018121   \n",
       "Bulk 11        -0.003909 -0.013488 -0.045564  1.000000 -0.040168 -0.010248   \n",
       "Bulk 12        -0.027508 -0.057706  0.027909 -0.040168  1.000000  0.054205   \n",
       "Bulk 13        -0.001554 -0.005364 -0.018121 -0.010248  0.054205  1.000000   \n",
       "Bulk 14        -0.039180  0.038846 -0.045537  0.078115  0.481541 -0.075578   \n",
       "Bulk 15        -0.029379 -0.093507  0.052262 -0.048246  0.614479  0.018559   \n",
       "gas_1           0.004128  0.116577 -0.008508  0.042027  0.217332  0.049056   \n",
       "\n",
       "                 Bulk 14   Bulk 15     gas_1  \n",
       "first_temp     -0.131024 -0.040349  0.037341  \n",
       "last_temp       0.114617  0.266414  0.059160  \n",
       "active_power    0.465205  0.334372  0.373767  \n",
       "reactive_power  0.430002  0.297246  0.356824  \n",
       "Wire 1         -0.053835  0.118437  0.117313  \n",
       "Wire 2          0.036309 -0.096415  0.104248  \n",
       "Wire 3         -0.008859 -0.118076  0.103382  \n",
       "Wire 4         -0.121828 -0.091352  0.145413  \n",
       "Wire 5               NaN       NaN       NaN  \n",
       "Wire 6         -0.052387 -0.032421  0.108089  \n",
       "Wire 7         -0.058465 -0.043840  0.078953  \n",
       "Wire 8          0.043656 -0.089947  0.118068  \n",
       "Wire 9          0.018576 -0.036960  0.014070  \n",
       "Bulk 1          0.207718 -0.000800  0.234141  \n",
       "Bulk 2         -0.140952 -0.105693  0.217415  \n",
       "Bulk 3          0.010772 -0.012860  0.059628  \n",
       "Bulk 4         -0.090602  0.101514  0.017578  \n",
       "Bulk 5         -0.065890 -0.067190  0.086902  \n",
       "Bulk 6          0.177490 -0.109316  0.139625  \n",
       "Bulk 7         -0.076388 -0.090099  0.198311  \n",
       "Bulk 8         -0.039180 -0.029379  0.004128  \n",
       "Bulk 9          0.038846 -0.093507  0.116577  \n",
       "Bulk 10        -0.045537  0.052262 -0.008508  \n",
       "Bulk 11         0.078115 -0.048246  0.042027  \n",
       "Bulk 12         0.481541  0.614479  0.217332  \n",
       "Bulk 13        -0.075578  0.018559  0.049056  \n",
       "Bulk 14         1.000000  0.265354  0.268889  \n",
       "Bulk 15         0.265354  1.000000  0.043624  \n",
       "gas_1           0.268889  0.043624  1.000000  \n",
       "\n",
       "[29 rows x 29 columns]"
      ]
     },
     "execution_count": 32,
     "metadata": {},
     "output_type": "execute_result"
    }
   ],
   "source": [
    "data.corr()"
   ]
  },
  {
   "cell_type": "code",
   "execution_count": 33,
   "metadata": {
    "pycharm": {
     "name": "#%%\n"
    }
   },
   "outputs": [
    {
     "data": {
      "text/plain": [
       "first_temp        0.252443\n",
       "last_temp         1.000000\n",
       "active_power      0.290434\n",
       "reactive_power    0.240980\n",
       "Wire 1            0.317575\n",
       "Wire 2           -0.206672\n",
       "Wire 3           -0.047537\n",
       "Wire 4           -0.159719\n",
       "Wire 5                 NaN\n",
       "Wire 6           -0.084034\n",
       "Wire 7           -0.137262\n",
       "Wire 8           -0.010767\n",
       "Wire 9           -0.027488\n",
       "Bulk 1           -0.075206\n",
       "Bulk 2           -0.082454\n",
       "Bulk 3           -0.035977\n",
       "Bulk 4            0.187970\n",
       "Bulk 5           -0.028355\n",
       "Bulk 6           -0.181816\n",
       "Bulk 7           -0.107275\n",
       "Bulk 8           -0.026587\n",
       "Bulk 9           -0.016075\n",
       "Bulk 10           0.061350\n",
       "Bulk 11          -0.114753\n",
       "Bulk 12           0.267424\n",
       "Bulk 13          -0.010920\n",
       "Bulk 14           0.114617\n",
       "Bulk 15           0.266414\n",
       "gas_1             0.059160\n",
       "Name: last_temp, dtype: float64"
      ]
     },
     "execution_count": 33,
     "metadata": {},
     "output_type": "execute_result"
    }
   ],
   "source": [
    "#корреляция по целевому признаку\n",
    "data.corr()['last_temp'] "
   ]
  },
  {
   "cell_type": "markdown",
   "metadata": {
    "pycharm": {
     "name": "#%% md\n"
    }
   },
   "source": [
    "Выберем данные, у которых корреляция с целевым признаком больше 0.2"
   ]
  },
  {
   "cell_type": "code",
   "execution_count": 34,
   "metadata": {
    "pycharm": {
     "name": "#%%\n"
    }
   },
   "outputs": [
    {
     "data": {
      "text/plain": [
       "first_temp         True\n",
       "last_temp          True\n",
       "active_power       True\n",
       "reactive_power     True\n",
       "Wire 1             True\n",
       "Wire 2             True\n",
       "Wire 3            False\n",
       "Wire 4            False\n",
       "Wire 5            False\n",
       "Wire 6            False\n",
       "Wire 7            False\n",
       "Wire 8            False\n",
       "Wire 9            False\n",
       "Bulk 1            False\n",
       "Bulk 2            False\n",
       "Bulk 3            False\n",
       "Bulk 4            False\n",
       "Bulk 5            False\n",
       "Bulk 6            False\n",
       "Bulk 7            False\n",
       "Bulk 8            False\n",
       "Bulk 9            False\n",
       "Bulk 10           False\n",
       "Bulk 11           False\n",
       "Bulk 12            True\n",
       "Bulk 13           False\n",
       "Bulk 14           False\n",
       "Bulk 15            True\n",
       "gas_1             False\n",
       "Name: last_temp, dtype: bool"
      ]
     },
     "execution_count": 34,
     "metadata": {},
     "output_type": "execute_result"
    }
   ],
   "source": [
    "data.corr()['last_temp'].abs() >= 0.2"
   ]
  },
  {
   "cell_type": "code",
   "execution_count": 35,
   "metadata": {
    "pycharm": {
     "name": "#%%\n"
    }
   },
   "outputs": [],
   "source": [
    "data = data[['first_temp', 'last_temp', 'active_power', 'Wire 1', 'Wire 2', 'Bulk 12', 'Bulk 15']]"
   ]
  },
  {
   "cell_type": "markdown",
   "metadata": {
    "pycharm": {
     "name": "#%% md\n"
    }
   },
   "source": [
    "Данные reactive_power не вошли, т.к. присутсвует корреляция с active_power. А активная мощность сильнее коррелирует с целевым признаком"
   ]
  },
  {
   "cell_type": "code",
   "execution_count": 36,
   "metadata": {
    "pycharm": {
     "name": "#%%\n"
    }
   },
   "outputs": [
    {
     "data": {
      "text/html": [
       "<div>\n",
       "<style scoped>\n",
       "    .dataframe tbody tr th:only-of-type {\n",
       "        vertical-align: middle;\n",
       "    }\n",
       "\n",
       "    .dataframe tbody tr th {\n",
       "        vertical-align: top;\n",
       "    }\n",
       "\n",
       "    .dataframe thead th {\n",
       "        text-align: right;\n",
       "    }\n",
       "</style>\n",
       "<table border=\"1\" class=\"dataframe\">\n",
       "  <thead>\n",
       "    <tr style=\"text-align: right;\">\n",
       "      <th></th>\n",
       "      <th>first_temp</th>\n",
       "      <th>last_temp</th>\n",
       "      <th>active_power</th>\n",
       "      <th>Wire 1</th>\n",
       "      <th>Wire 2</th>\n",
       "      <th>Bulk 12</th>\n",
       "      <th>Bulk 15</th>\n",
       "    </tr>\n",
       "  </thead>\n",
       "  <tbody>\n",
       "    <tr>\n",
       "      <th>first_temp</th>\n",
       "      <td>1.000000</td>\n",
       "      <td>0.252443</td>\n",
       "      <td>-0.347621</td>\n",
       "      <td>0.209444</td>\n",
       "      <td>-0.086089</td>\n",
       "      <td>-0.058495</td>\n",
       "      <td>-0.040349</td>\n",
       "    </tr>\n",
       "    <tr>\n",
       "      <th>last_temp</th>\n",
       "      <td>0.252443</td>\n",
       "      <td>1.000000</td>\n",
       "      <td>0.290434</td>\n",
       "      <td>0.317575</td>\n",
       "      <td>-0.206672</td>\n",
       "      <td>0.267424</td>\n",
       "      <td>0.266414</td>\n",
       "    </tr>\n",
       "    <tr>\n",
       "      <th>active_power</th>\n",
       "      <td>-0.347621</td>\n",
       "      <td>0.290434</td>\n",
       "      <td>1.000000</td>\n",
       "      <td>0.051016</td>\n",
       "      <td>0.054665</td>\n",
       "      <td>0.478083</td>\n",
       "      <td>0.334372</td>\n",
       "    </tr>\n",
       "    <tr>\n",
       "      <th>Wire 1</th>\n",
       "      <td>0.209444</td>\n",
       "      <td>0.317575</td>\n",
       "      <td>0.051016</td>\n",
       "      <td>1.000000</td>\n",
       "      <td>-0.068301</td>\n",
       "      <td>0.170167</td>\n",
       "      <td>0.118437</td>\n",
       "    </tr>\n",
       "    <tr>\n",
       "      <th>Wire 2</th>\n",
       "      <td>-0.086089</td>\n",
       "      <td>-0.206672</td>\n",
       "      <td>0.054665</td>\n",
       "      <td>-0.068301</td>\n",
       "      <td>1.000000</td>\n",
       "      <td>-0.098263</td>\n",
       "      <td>-0.096415</td>\n",
       "    </tr>\n",
       "    <tr>\n",
       "      <th>Bulk 12</th>\n",
       "      <td>-0.058495</td>\n",
       "      <td>0.267424</td>\n",
       "      <td>0.478083</td>\n",
       "      <td>0.170167</td>\n",
       "      <td>-0.098263</td>\n",
       "      <td>1.000000</td>\n",
       "      <td>0.614479</td>\n",
       "    </tr>\n",
       "    <tr>\n",
       "      <th>Bulk 15</th>\n",
       "      <td>-0.040349</td>\n",
       "      <td>0.266414</td>\n",
       "      <td>0.334372</td>\n",
       "      <td>0.118437</td>\n",
       "      <td>-0.096415</td>\n",
       "      <td>0.614479</td>\n",
       "      <td>1.000000</td>\n",
       "    </tr>\n",
       "  </tbody>\n",
       "</table>\n",
       "</div>"
      ],
      "text/plain": [
       "              first_temp  last_temp  active_power    Wire 1    Wire 2  \\\n",
       "first_temp      1.000000   0.252443     -0.347621  0.209444 -0.086089   \n",
       "last_temp       0.252443   1.000000      0.290434  0.317575 -0.206672   \n",
       "active_power   -0.347621   0.290434      1.000000  0.051016  0.054665   \n",
       "Wire 1          0.209444   0.317575      0.051016  1.000000 -0.068301   \n",
       "Wire 2         -0.086089  -0.206672      0.054665 -0.068301  1.000000   \n",
       "Bulk 12        -0.058495   0.267424      0.478083  0.170167 -0.098263   \n",
       "Bulk 15        -0.040349   0.266414      0.334372  0.118437 -0.096415   \n",
       "\n",
       "               Bulk 12   Bulk 15  \n",
       "first_temp   -0.058495 -0.040349  \n",
       "last_temp     0.267424  0.266414  \n",
       "active_power  0.478083  0.334372  \n",
       "Wire 1        0.170167  0.118437  \n",
       "Wire 2       -0.098263 -0.096415  \n",
       "Bulk 12       1.000000  0.614479  \n",
       "Bulk 15       0.614479  1.000000  "
      ]
     },
     "execution_count": 36,
     "metadata": {},
     "output_type": "execute_result"
    }
   ],
   "source": [
    "data.corr()"
   ]
  },
  {
   "cell_type": "markdown",
   "metadata": {
    "pycharm": {
     "name": "#%% md\n"
    }
   },
   "source": [
    "## 3. ОБУЧЕНИЕ МОДЕЛЕЙ"
   ]
  },
  {
   "cell_type": "code",
   "execution_count": 37,
   "metadata": {
    "pycharm": {
     "name": "#%%\n"
    }
   },
   "outputs": [
    {
     "name": "stdout",
     "output_type": "stream",
     "text": [
      "(1746, 6) (583, 6)\n",
      "(1746,) (583,)\n"
     ]
    }
   ],
   "source": [
    "random_state = 160123\n",
    "\n",
    "features = data.drop('last_temp', axis=1)\n",
    "target = data['last_temp']\n",
    "\n",
    "features_train, features_test, target_train, target_test = train_test_split(\n",
    "    features, target, test_size=0.25, random_state=random_state)\n",
    "\n",
    "cv_counts = 5\n",
    "print(features_train.shape, features_test.shape)\n",
    "print(target_train.shape, target_test.shape)"
   ]
  },
  {
   "cell_type": "code",
   "execution_count": 38,
   "metadata": {
    "pycharm": {
     "name": "#%%\n"
    }
   },
   "outputs": [],
   "source": [
    "#Масштабируем количественные признаки\n",
    "scaler = StandardScaler()\n",
    "scaler.fit(features_train)\n",
    "\n",
    "# масштабируем обучающую выборку\n",
    "features_train_scaler= scaler.transform(features_train)\n",
    "\n",
    "# масштабируем тестовую выборку\n",
    "features_test_scaler = scaler.transform(features_test)"
   ]
  },
  {
   "cell_type": "markdown",
   "metadata": {
    "pycharm": {
     "name": "#%% md\n"
    }
   },
   "source": [
    "### CatBoostRegressor"
   ]
  },
  {
   "cell_type": "code",
   "execution_count": 39,
   "metadata": {
    "pycharm": {
     "name": "#%%\n"
    }
   },
   "outputs": [
    {
     "name": "stdout",
     "output_type": "stream",
     "text": [
      "# Train for mean_absolute_error\n",
      "\n",
      "Mean MAE from CV of CatBoostRegressor = 6.383296571295162\n"
     ]
    }
   ],
   "source": [
    "regressor = CatBoostRegressor(verbose=False, random_state=random_state)\n",
    "print('# Train for mean_absolute_error')\n",
    "print()\n",
    "cv_MAE_CBR = (cross_val_score(regressor, \n",
    "                             features_train, \n",
    "                             target_train, \n",
    "                             cv=cv_counts, \n",
    "                             scoring='neg_mean_absolute_error').mean() * -1)\n",
    "print('Mean MAE from CV of CatBoostRegressor =', cv_MAE_CBR)"
   ]
  },
  {
   "cell_type": "code",
   "execution_count": 40,
   "metadata": {
    "pycharm": {
     "name": "#%%\n"
    }
   },
   "outputs": [
    {
     "data": {
      "text/plain": [
       "{'nan_mode': 'Min',\n",
       " 'eval_metric': 'RMSE',\n",
       " 'iterations': 1000,\n",
       " 'sampling_frequency': 'PerTree',\n",
       " 'leaf_estimation_method': 'Newton',\n",
       " 'grow_policy': 'SymmetricTree',\n",
       " 'penalties_coefficient': 1,\n",
       " 'boosting_type': 'Plain',\n",
       " 'model_shrink_mode': 'Constant',\n",
       " 'feature_border_type': 'GreedyLogSum',\n",
       " 'bayesian_matrix_reg': 0.10000000149011612,\n",
       " 'eval_fraction': 0,\n",
       " 'force_unit_auto_pair_weights': False,\n",
       " 'l2_leaf_reg': 3,\n",
       " 'random_strength': 1,\n",
       " 'rsm': 1,\n",
       " 'boost_from_average': True,\n",
       " 'model_size_reg': 0.5,\n",
       " 'pool_metainfo_options': {'tags': {}},\n",
       " 'subsample': 0.800000011920929,\n",
       " 'use_best_model': False,\n",
       " 'random_seed': 160123,\n",
       " 'depth': 6,\n",
       " 'posterior_sampling': False,\n",
       " 'border_count': 254,\n",
       " 'classes_count': 0,\n",
       " 'auto_class_weights': 'None',\n",
       " 'sparse_features_conflict_fraction': 0,\n",
       " 'leaf_estimation_backtracking': 'AnyImprovement',\n",
       " 'best_model_min_trees': 1,\n",
       " 'model_shrink_rate': 0,\n",
       " 'min_data_in_leaf': 1,\n",
       " 'loss_function': 'RMSE',\n",
       " 'learning_rate': 0.04471199959516525,\n",
       " 'score_function': 'Cosine',\n",
       " 'task_type': 'CPU',\n",
       " 'leaf_estimation_iterations': 1,\n",
       " 'bootstrap_type': 'MVS',\n",
       " 'max_leaves': 64}"
      ]
     },
     "execution_count": 40,
     "metadata": {},
     "output_type": "execute_result"
    }
   ],
   "source": [
    "best_params_CBR = CatBoostRegressor(verbose=False, \n",
    "                                    random_state=random_state).fit(features_train, \n",
    "                                        target_train).get_all_params()\n",
    "best_params_CBR"
   ]
  },
  {
   "cell_type": "markdown",
   "metadata": {
    "pycharm": {
     "name": "#%% md\n"
    }
   },
   "source": [
    "### LightGBM"
   ]
  },
  {
   "cell_type": "code",
   "execution_count": 41,
   "metadata": {
    "pycharm": {
     "name": "#%%\n"
    }
   },
   "outputs": [
    {
     "name": "stdout",
     "output_type": "stream",
     "text": [
      "Best parameters:\n",
      "\n",
      "{'learning_rate': 0.05, 'num_leaves': 11, 'random_state': 160123}\n",
      "\n",
      "Scores:\n",
      "\n",
      "6.960876 for {'learning_rate': 0.01, 'num_leaves': 10, 'random_state': 160123}\n",
      "6.940898 for {'learning_rate': 0.01, 'num_leaves': 11, 'random_state': 160123}\n",
      "6.923528 for {'learning_rate': 0.01, 'num_leaves': 12, 'random_state': 160123}\n",
      "6.907227 for {'learning_rate': 0.01, 'num_leaves': 13, 'random_state': 160123}\n",
      "6.889841 for {'learning_rate': 0.01, 'num_leaves': 14, 'random_state': 160123}\n",
      "6.872182 for {'learning_rate': 0.01, 'num_leaves': 15, 'random_state': 160123}\n",
      "6.859334 for {'learning_rate': 0.01, 'num_leaves': 16, 'random_state': 160123}\n",
      "6.847332 for {'learning_rate': 0.01, 'num_leaves': 17, 'random_state': 160123}\n",
      "6.835749 for {'learning_rate': 0.01, 'num_leaves': 18, 'random_state': 160123}\n",
      "6.819416 for {'learning_rate': 0.01, 'num_leaves': 19, 'random_state': 160123}\n",
      "6.810034 for {'learning_rate': 0.01, 'num_leaves': 20, 'random_state': 160123}\n",
      "6.792251 for {'learning_rate': 0.01, 'num_leaves': 21, 'random_state': 160123}\n",
      "6.784580 for {'learning_rate': 0.01, 'num_leaves': 22, 'random_state': 160123}\n",
      "6.781612 for {'learning_rate': 0.01, 'num_leaves': 23, 'random_state': 160123}\n",
      "6.771979 for {'learning_rate': 0.01, 'num_leaves': 24, 'random_state': 160123}\n",
      "6.767633 for {'learning_rate': 0.01, 'num_leaves': 25, 'random_state': 160123}\n",
      "6.759452 for {'learning_rate': 0.01, 'num_leaves': 26, 'random_state': 160123}\n",
      "6.750908 for {'learning_rate': 0.01, 'num_leaves': 27, 'random_state': 160123}\n",
      "6.751089 for {'learning_rate': 0.01, 'num_leaves': 28, 'random_state': 160123}\n",
      "6.746987 for {'learning_rate': 0.01, 'num_leaves': 29, 'random_state': 160123}\n",
      "6.747934 for {'learning_rate': 0.01, 'num_leaves': 30, 'random_state': 160123}\n",
      "6.567844 for {'learning_rate': 0.02, 'num_leaves': 10, 'random_state': 160123}\n",
      "6.547921 for {'learning_rate': 0.02, 'num_leaves': 11, 'random_state': 160123}\n",
      "6.537306 for {'learning_rate': 0.02, 'num_leaves': 12, 'random_state': 160123}\n",
      "6.531520 for {'learning_rate': 0.02, 'num_leaves': 13, 'random_state': 160123}\n",
      "6.511736 for {'learning_rate': 0.02, 'num_leaves': 14, 'random_state': 160123}\n",
      "6.495410 for {'learning_rate': 0.02, 'num_leaves': 15, 'random_state': 160123}\n",
      "6.484332 for {'learning_rate': 0.02, 'num_leaves': 16, 'random_state': 160123}\n",
      "6.488536 for {'learning_rate': 0.02, 'num_leaves': 17, 'random_state': 160123}\n",
      "6.474101 for {'learning_rate': 0.02, 'num_leaves': 18, 'random_state': 160123}\n",
      "6.470770 for {'learning_rate': 0.02, 'num_leaves': 19, 'random_state': 160123}\n",
      "6.469360 for {'learning_rate': 0.02, 'num_leaves': 20, 'random_state': 160123}\n",
      "6.458851 for {'learning_rate': 0.02, 'num_leaves': 21, 'random_state': 160123}\n",
      "6.455980 for {'learning_rate': 0.02, 'num_leaves': 22, 'random_state': 160123}\n",
      "6.466252 for {'learning_rate': 0.02, 'num_leaves': 23, 'random_state': 160123}\n",
      "6.470754 for {'learning_rate': 0.02, 'num_leaves': 24, 'random_state': 160123}\n",
      "6.462323 for {'learning_rate': 0.02, 'num_leaves': 25, 'random_state': 160123}\n",
      "6.466436 for {'learning_rate': 0.02, 'num_leaves': 26, 'random_state': 160123}\n",
      "6.452885 for {'learning_rate': 0.02, 'num_leaves': 27, 'random_state': 160123}\n",
      "6.450868 for {'learning_rate': 0.02, 'num_leaves': 28, 'random_state': 160123}\n",
      "6.452034 for {'learning_rate': 0.02, 'num_leaves': 29, 'random_state': 160123}\n",
      "6.447109 for {'learning_rate': 0.02, 'num_leaves': 30, 'random_state': 160123}\n",
      "6.404415 for {'learning_rate': 0.03, 'num_leaves': 10, 'random_state': 160123}\n",
      "6.395575 for {'learning_rate': 0.03, 'num_leaves': 11, 'random_state': 160123}\n",
      "6.395326 for {'learning_rate': 0.03, 'num_leaves': 12, 'random_state': 160123}\n",
      "6.397657 for {'learning_rate': 0.03, 'num_leaves': 13, 'random_state': 160123}\n",
      "6.387000 for {'learning_rate': 0.03, 'num_leaves': 14, 'random_state': 160123}\n",
      "6.393225 for {'learning_rate': 0.03, 'num_leaves': 15, 'random_state': 160123}\n",
      "6.381692 for {'learning_rate': 0.03, 'num_leaves': 16, 'random_state': 160123}\n",
      "6.385514 for {'learning_rate': 0.03, 'num_leaves': 17, 'random_state': 160123}\n",
      "6.391431 for {'learning_rate': 0.03, 'num_leaves': 18, 'random_state': 160123}\n",
      "6.386979 for {'learning_rate': 0.03, 'num_leaves': 19, 'random_state': 160123}\n",
      "6.381470 for {'learning_rate': 0.03, 'num_leaves': 20, 'random_state': 160123}\n",
      "6.401840 for {'learning_rate': 0.03, 'num_leaves': 21, 'random_state': 160123}\n",
      "6.400534 for {'learning_rate': 0.03, 'num_leaves': 22, 'random_state': 160123}\n",
      "6.403852 for {'learning_rate': 0.03, 'num_leaves': 23, 'random_state': 160123}\n",
      "6.402364 for {'learning_rate': 0.03, 'num_leaves': 24, 'random_state': 160123}\n",
      "6.405459 for {'learning_rate': 0.03, 'num_leaves': 25, 'random_state': 160123}\n",
      "6.373333 for {'learning_rate': 0.03, 'num_leaves': 26, 'random_state': 160123}\n",
      "6.411117 for {'learning_rate': 0.03, 'num_leaves': 27, 'random_state': 160123}\n",
      "6.414926 for {'learning_rate': 0.03, 'num_leaves': 28, 'random_state': 160123}\n",
      "6.420499 for {'learning_rate': 0.03, 'num_leaves': 29, 'random_state': 160123}\n",
      "6.419311 for {'learning_rate': 0.03, 'num_leaves': 30, 'random_state': 160123}\n",
      "6.370091 for {'learning_rate': 0.04, 'num_leaves': 10, 'random_state': 160123}\n",
      "6.357284 for {'learning_rate': 0.04, 'num_leaves': 11, 'random_state': 160123}\n",
      "6.351534 for {'learning_rate': 0.04, 'num_leaves': 12, 'random_state': 160123}\n",
      "6.361808 for {'learning_rate': 0.04, 'num_leaves': 13, 'random_state': 160123}\n",
      "6.354581 for {'learning_rate': 0.04, 'num_leaves': 14, 'random_state': 160123}\n",
      "6.361146 for {'learning_rate': 0.04, 'num_leaves': 15, 'random_state': 160123}\n",
      "6.350531 for {'learning_rate': 0.04, 'num_leaves': 16, 'random_state': 160123}\n",
      "6.378701 for {'learning_rate': 0.04, 'num_leaves': 17, 'random_state': 160123}\n",
      "6.364183 for {'learning_rate': 0.04, 'num_leaves': 18, 'random_state': 160123}\n",
      "6.375168 for {'learning_rate': 0.04, 'num_leaves': 19, 'random_state': 160123}\n",
      "6.401873 for {'learning_rate': 0.04, 'num_leaves': 20, 'random_state': 160123}\n",
      "6.389663 for {'learning_rate': 0.04, 'num_leaves': 21, 'random_state': 160123}\n",
      "6.395044 for {'learning_rate': 0.04, 'num_leaves': 22, 'random_state': 160123}\n",
      "6.417639 for {'learning_rate': 0.04, 'num_leaves': 23, 'random_state': 160123}\n",
      "6.400292 for {'learning_rate': 0.04, 'num_leaves': 24, 'random_state': 160123}\n",
      "6.419824 for {'learning_rate': 0.04, 'num_leaves': 25, 'random_state': 160123}\n",
      "6.406292 for {'learning_rate': 0.04, 'num_leaves': 26, 'random_state': 160123}\n",
      "6.419810 for {'learning_rate': 0.04, 'num_leaves': 27, 'random_state': 160123}\n",
      "6.404800 for {'learning_rate': 0.04, 'num_leaves': 28, 'random_state': 160123}\n",
      "6.396390 for {'learning_rate': 0.04, 'num_leaves': 29, 'random_state': 160123}\n",
      "6.421113 for {'learning_rate': 0.04, 'num_leaves': 30, 'random_state': 160123}\n",
      "6.347317 for {'learning_rate': 0.05, 'num_leaves': 10, 'random_state': 160123}\n",
      "6.332188 for {'learning_rate': 0.05, 'num_leaves': 11, 'random_state': 160123}\n",
      "6.335778 for {'learning_rate': 0.05, 'num_leaves': 12, 'random_state': 160123}\n",
      "6.350481 for {'learning_rate': 0.05, 'num_leaves': 13, 'random_state': 160123}\n",
      "6.370275 for {'learning_rate': 0.05, 'num_leaves': 14, 'random_state': 160123}\n",
      "6.366409 for {'learning_rate': 0.05, 'num_leaves': 15, 'random_state': 160123}\n",
      "6.355498 for {'learning_rate': 0.05, 'num_leaves': 16, 'random_state': 160123}\n",
      "6.369836 for {'learning_rate': 0.05, 'num_leaves': 17, 'random_state': 160123}\n",
      "6.390144 for {'learning_rate': 0.05, 'num_leaves': 18, 'random_state': 160123}\n",
      "6.407182 for {'learning_rate': 0.05, 'num_leaves': 19, 'random_state': 160123}\n",
      "6.412568 for {'learning_rate': 0.05, 'num_leaves': 20, 'random_state': 160123}\n",
      "6.392984 for {'learning_rate': 0.05, 'num_leaves': 21, 'random_state': 160123}\n",
      "6.433986 for {'learning_rate': 0.05, 'num_leaves': 22, 'random_state': 160123}\n",
      "6.444201 for {'learning_rate': 0.05, 'num_leaves': 23, 'random_state': 160123}\n",
      "6.419298 for {'learning_rate': 0.05, 'num_leaves': 24, 'random_state': 160123}\n",
      "6.447270 for {'learning_rate': 0.05, 'num_leaves': 25, 'random_state': 160123}\n",
      "6.424343 for {'learning_rate': 0.05, 'num_leaves': 26, 'random_state': 160123}\n",
      "6.428336 for {'learning_rate': 0.05, 'num_leaves': 27, 'random_state': 160123}\n",
      "6.411718 for {'learning_rate': 0.05, 'num_leaves': 28, 'random_state': 160123}\n",
      "6.437061 for {'learning_rate': 0.05, 'num_leaves': 29, 'random_state': 160123}\n",
      "6.439432 for {'learning_rate': 0.05, 'num_leaves': 30, 'random_state': 160123}\n",
      "6.345517 for {'learning_rate': 0.06, 'num_leaves': 10, 'random_state': 160123}\n",
      "6.344544 for {'learning_rate': 0.06, 'num_leaves': 11, 'random_state': 160123}\n",
      "6.358890 for {'learning_rate': 0.06, 'num_leaves': 12, 'random_state': 160123}\n",
      "6.382876 for {'learning_rate': 0.06, 'num_leaves': 13, 'random_state': 160123}\n",
      "6.343363 for {'learning_rate': 0.06, 'num_leaves': 14, 'random_state': 160123}\n",
      "6.384801 for {'learning_rate': 0.06, 'num_leaves': 15, 'random_state': 160123}\n",
      "6.378733 for {'learning_rate': 0.06, 'num_leaves': 16, 'random_state': 160123}\n",
      "6.397746 for {'learning_rate': 0.06, 'num_leaves': 17, 'random_state': 160123}\n",
      "6.411537 for {'learning_rate': 0.06, 'num_leaves': 18, 'random_state': 160123}\n",
      "6.403067 for {'learning_rate': 0.06, 'num_leaves': 19, 'random_state': 160123}\n",
      "6.413632 for {'learning_rate': 0.06, 'num_leaves': 20, 'random_state': 160123}\n",
      "6.402761 for {'learning_rate': 0.06, 'num_leaves': 21, 'random_state': 160123}\n",
      "6.436522 for {'learning_rate': 0.06, 'num_leaves': 22, 'random_state': 160123}\n",
      "6.441791 for {'learning_rate': 0.06, 'num_leaves': 23, 'random_state': 160123}\n",
      "6.480329 for {'learning_rate': 0.06, 'num_leaves': 24, 'random_state': 160123}\n",
      "6.458183 for {'learning_rate': 0.06, 'num_leaves': 25, 'random_state': 160123}\n",
      "6.455608 for {'learning_rate': 0.06, 'num_leaves': 26, 'random_state': 160123}\n",
      "6.492536 for {'learning_rate': 0.06, 'num_leaves': 27, 'random_state': 160123}\n",
      "6.459225 for {'learning_rate': 0.06, 'num_leaves': 28, 'random_state': 160123}\n",
      "6.490506 for {'learning_rate': 0.06, 'num_leaves': 29, 'random_state': 160123}\n",
      "6.454956 for {'learning_rate': 0.06, 'num_leaves': 30, 'random_state': 160123}\n",
      "6.353267 for {'learning_rate': 0.07, 'num_leaves': 10, 'random_state': 160123}\n",
      "6.350875 for {'learning_rate': 0.07, 'num_leaves': 11, 'random_state': 160123}\n",
      "6.368968 for {'learning_rate': 0.07, 'num_leaves': 12, 'random_state': 160123}\n",
      "6.394752 for {'learning_rate': 0.07, 'num_leaves': 13, 'random_state': 160123}\n",
      "6.371954 for {'learning_rate': 0.07, 'num_leaves': 14, 'random_state': 160123}\n",
      "6.396489 for {'learning_rate': 0.07, 'num_leaves': 15, 'random_state': 160123}\n",
      "6.403599 for {'learning_rate': 0.07, 'num_leaves': 16, 'random_state': 160123}\n",
      "6.409601 for {'learning_rate': 0.07, 'num_leaves': 17, 'random_state': 160123}\n",
      "6.406747 for {'learning_rate': 0.07, 'num_leaves': 18, 'random_state': 160123}\n",
      "6.398181 for {'learning_rate': 0.07, 'num_leaves': 19, 'random_state': 160123}\n",
      "6.444158 for {'learning_rate': 0.07, 'num_leaves': 20, 'random_state': 160123}\n",
      "6.414622 for {'learning_rate': 0.07, 'num_leaves': 21, 'random_state': 160123}\n",
      "6.464207 for {'learning_rate': 0.07, 'num_leaves': 22, 'random_state': 160123}\n",
      "6.437411 for {'learning_rate': 0.07, 'num_leaves': 23, 'random_state': 160123}\n",
      "6.464479 for {'learning_rate': 0.07, 'num_leaves': 24, 'random_state': 160123}\n",
      "6.512365 for {'learning_rate': 0.07, 'num_leaves': 25, 'random_state': 160123}\n",
      "6.465638 for {'learning_rate': 0.07, 'num_leaves': 26, 'random_state': 160123}\n",
      "6.490574 for {'learning_rate': 0.07, 'num_leaves': 27, 'random_state': 160123}\n",
      "6.511388 for {'learning_rate': 0.07, 'num_leaves': 28, 'random_state': 160123}\n",
      "6.510095 for {'learning_rate': 0.07, 'num_leaves': 29, 'random_state': 160123}\n",
      "6.523227 for {'learning_rate': 0.07, 'num_leaves': 30, 'random_state': 160123}\n",
      "6.359119 for {'learning_rate': 0.08, 'num_leaves': 10, 'random_state': 160123}\n",
      "6.361402 for {'learning_rate': 0.08, 'num_leaves': 11, 'random_state': 160123}\n",
      "6.390881 for {'learning_rate': 0.08, 'num_leaves': 12, 'random_state': 160123}\n",
      "6.404304 for {'learning_rate': 0.08, 'num_leaves': 13, 'random_state': 160123}\n",
      "6.400340 for {'learning_rate': 0.08, 'num_leaves': 14, 'random_state': 160123}\n",
      "6.457376 for {'learning_rate': 0.08, 'num_leaves': 15, 'random_state': 160123}\n",
      "6.442071 for {'learning_rate': 0.08, 'num_leaves': 16, 'random_state': 160123}\n",
      "6.456790 for {'learning_rate': 0.08, 'num_leaves': 17, 'random_state': 160123}\n",
      "6.447792 for {'learning_rate': 0.08, 'num_leaves': 18, 'random_state': 160123}\n",
      "6.474681 for {'learning_rate': 0.08, 'num_leaves': 19, 'random_state': 160123}\n",
      "6.463483 for {'learning_rate': 0.08, 'num_leaves': 20, 'random_state': 160123}\n",
      "6.508039 for {'learning_rate': 0.08, 'num_leaves': 21, 'random_state': 160123}\n",
      "6.513927 for {'learning_rate': 0.08, 'num_leaves': 22, 'random_state': 160123}\n",
      "6.510596 for {'learning_rate': 0.08, 'num_leaves': 23, 'random_state': 160123}\n",
      "6.537323 for {'learning_rate': 0.08, 'num_leaves': 24, 'random_state': 160123}\n",
      "6.524946 for {'learning_rate': 0.08, 'num_leaves': 25, 'random_state': 160123}\n",
      "6.529761 for {'learning_rate': 0.08, 'num_leaves': 26, 'random_state': 160123}\n",
      "6.518543 for {'learning_rate': 0.08, 'num_leaves': 27, 'random_state': 160123}\n",
      "6.527090 for {'learning_rate': 0.08, 'num_leaves': 28, 'random_state': 160123}\n",
      "6.532966 for {'learning_rate': 0.08, 'num_leaves': 29, 'random_state': 160123}\n",
      "6.569007 for {'learning_rate': 0.08, 'num_leaves': 30, 'random_state': 160123}\n",
      "6.377275 for {'learning_rate': 0.09, 'num_leaves': 10, 'random_state': 160123}\n",
      "6.346109 for {'learning_rate': 0.09, 'num_leaves': 11, 'random_state': 160123}\n",
      "6.385486 for {'learning_rate': 0.09, 'num_leaves': 12, 'random_state': 160123}\n",
      "6.400115 for {'learning_rate': 0.09, 'num_leaves': 13, 'random_state': 160123}\n",
      "6.446288 for {'learning_rate': 0.09, 'num_leaves': 14, 'random_state': 160123}\n",
      "6.458638 for {'learning_rate': 0.09, 'num_leaves': 15, 'random_state': 160123}\n",
      "6.450719 for {'learning_rate': 0.09, 'num_leaves': 16, 'random_state': 160123}\n",
      "6.475314 for {'learning_rate': 0.09, 'num_leaves': 17, 'random_state': 160123}\n",
      "6.443232 for {'learning_rate': 0.09, 'num_leaves': 18, 'random_state': 160123}\n",
      "6.477296 for {'learning_rate': 0.09, 'num_leaves': 19, 'random_state': 160123}\n",
      "6.471934 for {'learning_rate': 0.09, 'num_leaves': 20, 'random_state': 160123}\n",
      "6.500735 for {'learning_rate': 0.09, 'num_leaves': 21, 'random_state': 160123}\n",
      "6.536327 for {'learning_rate': 0.09, 'num_leaves': 22, 'random_state': 160123}\n",
      "6.523292 for {'learning_rate': 0.09, 'num_leaves': 23, 'random_state': 160123}\n",
      "6.546492 for {'learning_rate': 0.09, 'num_leaves': 24, 'random_state': 160123}\n",
      "6.550840 for {'learning_rate': 0.09, 'num_leaves': 25, 'random_state': 160123}\n",
      "6.576384 for {'learning_rate': 0.09, 'num_leaves': 26, 'random_state': 160123}\n",
      "6.557935 for {'learning_rate': 0.09, 'num_leaves': 27, 'random_state': 160123}\n",
      "6.561895 for {'learning_rate': 0.09, 'num_leaves': 28, 'random_state': 160123}\n",
      "6.583688 for {'learning_rate': 0.09, 'num_leaves': 29, 'random_state': 160123}\n",
      "6.573788 for {'learning_rate': 0.09, 'num_leaves': 30, 'random_state': 160123}\n",
      "6.379605 for {'learning_rate': 0.1, 'num_leaves': 10, 'random_state': 160123}\n",
      "6.380164 for {'learning_rate': 0.1, 'num_leaves': 11, 'random_state': 160123}\n",
      "6.436313 for {'learning_rate': 0.1, 'num_leaves': 12, 'random_state': 160123}\n",
      "6.431673 for {'learning_rate': 0.1, 'num_leaves': 13, 'random_state': 160123}\n",
      "6.425525 for {'learning_rate': 0.1, 'num_leaves': 14, 'random_state': 160123}\n",
      "6.499511 for {'learning_rate': 0.1, 'num_leaves': 15, 'random_state': 160123}\n",
      "6.471264 for {'learning_rate': 0.1, 'num_leaves': 16, 'random_state': 160123}\n",
      "6.509650 for {'learning_rate': 0.1, 'num_leaves': 17, 'random_state': 160123}\n",
      "6.494068 for {'learning_rate': 0.1, 'num_leaves': 18, 'random_state': 160123}\n",
      "6.538772 for {'learning_rate': 0.1, 'num_leaves': 19, 'random_state': 160123}\n",
      "6.496503 for {'learning_rate': 0.1, 'num_leaves': 20, 'random_state': 160123}\n",
      "6.501753 for {'learning_rate': 0.1, 'num_leaves': 21, 'random_state': 160123}\n",
      "6.557961 for {'learning_rate': 0.1, 'num_leaves': 22, 'random_state': 160123}\n",
      "6.590539 for {'learning_rate': 0.1, 'num_leaves': 23, 'random_state': 160123}\n",
      "6.594629 for {'learning_rate': 0.1, 'num_leaves': 24, 'random_state': 160123}\n",
      "6.547955 for {'learning_rate': 0.1, 'num_leaves': 25, 'random_state': 160123}\n",
      "6.597792 for {'learning_rate': 0.1, 'num_leaves': 26, 'random_state': 160123}\n",
      "6.574206 for {'learning_rate': 0.1, 'num_leaves': 27, 'random_state': 160123}\n",
      "6.586178 for {'learning_rate': 0.1, 'num_leaves': 28, 'random_state': 160123}\n",
      "6.582588 for {'learning_rate': 0.1, 'num_leaves': 29, 'random_state': 160123}\n",
      "6.638655 for {'learning_rate': 0.1, 'num_leaves': 30, 'random_state': 160123}\n",
      "\n"
     ]
    }
   ],
   "source": [
    "regressor = LGBMRegressor() \n",
    "hyperparams = [{'num_leaves':[x for x in range(10,31)], \n",
    "                'learning_rate':[x/100 for x in range(1, 11)],\n",
    "                'random_state':[random_state]}]\n",
    "\n",
    "clf = GridSearchCV(regressor, hyperparams, scoring='neg_mean_absolute_error', cv=cv_counts)\n",
    "clf.fit(features_train, target_train)\n",
    "print(\"Best parameters:\")\n",
    "print()\n",
    "best_params_LGBMR = clf.best_params_\n",
    "print(clf.best_params_)\n",
    "print()\n",
    "print(\"Scores:\")\n",
    "print()\n",
    "means = clf.cv_results_['mean_test_score']\n",
    "stds = clf.cv_results_['std_test_score']\n",
    "for mean, std, params in zip(means, stds, clf.cv_results_['params']):\n",
    "    print(\"%0.6f for %r\"% ((mean*-1), params))\n",
    "print()\n",
    "\n",
    "cv_MAE_LGBMR = (max(means)*-1)"
   ]
  },
  {
   "cell_type": "markdown",
   "metadata": {
    "pycharm": {
     "name": "#%% md\n"
    }
   },
   "source": [
    "### Линейная регрессия"
   ]
  },
  {
   "cell_type": "code",
   "execution_count": 42,
   "metadata": {
    "pycharm": {
     "name": "#%%\n"
    }
   },
   "outputs": [
    {
     "name": "stdout",
     "output_type": "stream",
     "text": [
      "# Train for mean_absolute_error\n",
      "\n",
      "MAE LinearRegression = 6.690360562280254\n"
     ]
    }
   ],
   "source": [
    "regressor = LinearRegression()\n",
    "print('# Train for mean_absolute_error')\n",
    "print()\n",
    "cv_MAE_LR = (cross_val_score(regressor, \n",
    "                             features_train_scaler, \n",
    "                             target_train, \n",
    "                             cv=cv_counts, \n",
    "                             scoring='neg_mean_absolute_error').mean() * -1)\n",
    "print('MAE LinearRegression =', cv_MAE_LR)"
   ]
  },
  {
   "cell_type": "code",
   "execution_count": 46,
   "metadata": {
    "pycharm": {
     "name": "#%%\n"
    }
   },
   "outputs": [
    {
     "data": {
      "text/html": [
       "<div>\n",
       "<style scoped>\n",
       "    .dataframe tbody tr th:only-of-type {\n",
       "        vertical-align: middle;\n",
       "    }\n",
       "\n",
       "    .dataframe tbody tr th {\n",
       "        vertical-align: top;\n",
       "    }\n",
       "\n",
       "    .dataframe thead th {\n",
       "        text-align: right;\n",
       "    }\n",
       "</style>\n",
       "<table border=\"1\" class=\"dataframe\">\n",
       "  <thead>\n",
       "    <tr style=\"text-align: right;\">\n",
       "      <th></th>\n",
       "      <th>MAE на CV</th>\n",
       "      <th>MAE &lt; 6.8</th>\n",
       "    </tr>\n",
       "  </thead>\n",
       "  <tbody>\n",
       "    <tr>\n",
       "      <th>LinearRegression</th>\n",
       "      <td>6.690361</td>\n",
       "      <td>True</td>\n",
       "    </tr>\n",
       "    <tr>\n",
       "      <th>CatBoostRegressor</th>\n",
       "      <td>6.383297</td>\n",
       "      <td>True</td>\n",
       "    </tr>\n",
       "    <tr>\n",
       "      <th>LGBMRegressor</th>\n",
       "      <td>6.332188</td>\n",
       "      <td>True</td>\n",
       "    </tr>\n",
       "  </tbody>\n",
       "</table>\n",
       "</div>"
      ],
      "text/plain": [
       "                   MAE на CV  MAE < 6.8\n",
       "LinearRegression    6.690361       True\n",
       "CatBoostRegressor   6.383297       True\n",
       "LGBMRegressor       6.332188       True"
      ]
     },
     "execution_count": 46,
     "metadata": {},
     "output_type": "execute_result"
    }
   ],
   "source": [
    "index = ['LinearRegression',\n",
    "         'CatBoostRegressor',\n",
    "         'LGBMRegressor']\n",
    "data = {'MAE на CV':[cv_MAE_LR,\n",
    "                     cv_MAE_CBR,\n",
    "                     cv_MAE_LGBMR]}\n",
    "\n",
    "scores_data = pd.DataFrame(data=data, index=index)\n",
    "scores_data['MAE < 6.8'] = scores_data['MAE на CV'] < 6.8\n",
    "scores_data"
   ]
  },
  {
   "cell_type": "markdown",
   "metadata": {
    "pycharm": {
     "name": "#%% md\n"
    }
   },
   "source": [
    "#### Вывод:\n",
    "\n",
    "Были обучены 3 модели: LinearRegression, CatBoostRegressor и LGBMRegressor. Наилучший результат: 6.33 на кроссвалидации показала модель LGBMRegressor, используем эту модель на тестовой выборке. Также с задачей MAE < 6.8 справились модели CatBoostRegressor и LinearRegression с результатом 6.38 и 6.69 соответсвенно. "
   ]
  },
  {
   "cell_type": "markdown",
   "metadata": {
    "pycharm": {
     "name": "#%% md\n"
    }
   },
   "source": [
    "#  3.Тестирование модели"
   ]
  },
  {
   "cell_type": "code",
   "execution_count": 47,
   "metadata": {
    "pycharm": {
     "name": "#%%\n"
    }
   },
   "outputs": [
    {
     "name": "stdout",
     "output_type": "stream",
     "text": [
      "MAE on test of LGBMRegressor = 6.21285024397494\n"
     ]
    }
   ],
   "source": [
    "model = LGBMRegressor()\n",
    "model.set_params(**best_params_LGBMR)\n",
    "model.fit(features_train, target_train)\n",
    "target_predict = model.predict(features_test)\n",
    "test_MAE_LGBMR = mean_absolute_error(target_predict, target_test)\n",
    "print('MAE on test of LGBMRegressor =', test_MAE_LGBMR)"
   ]
  },
  {
   "cell_type": "code",
   "execution_count": 45,
   "metadata": {
    "pycharm": {
     "name": "#%%\n"
    }
   },
   "outputs": [
    {
     "name": "stdout",
     "output_type": "stream",
     "text": [
      "MAE константной модели 7.988414587422567\n"
     ]
    }
   ],
   "source": [
    "# Проверка модели на адекватность\n",
    "# Создадим константную модель с помошью DummyRegressor\n",
    "model = DummyRegressor(strategy='mean')\n",
    "\n",
    "\n",
    "model.fit(features_train, target_train)\n",
    "predictions = model.predict(features_test)\n",
    "\n",
    "MAE_DR = mean_absolute_error(target_test, predictions)\n",
    "\n",
    "print('MAE константной модели', MAE_DR)"
   ]
  },
  {
   "cell_type": "markdown",
   "metadata": {
    "pycharm": {
     "name": "#%% md\n"
    }
   },
   "source": [
    "#### Вывод\n",
    "На тестовой модели LGBMRegressor показал МАЕ 6.21, что меньше целевого показателя 6.8. В качестве проверки на адекватность была выбрала модель DummyRegressor. MAE константной модели 7.99, следовательно модель LGBMRegressor адекватна."
   ]
  },
  {
   "cell_type": "markdown",
   "metadata": {
    "pycharm": {
     "name": "#%% md\n"
    }
   },
   "source": [
    "## Итоговый вывод\n",
    "\n",
    "В ходе работы над проектом было выполнено:\n",
    "\n",
    "* Подготовлены данные. Изменены типы данных; определены и использованы номера партий, у которых есть замеры по температуре.\n",
    "* Подготовлены признаки. Составлена единая таблица со всеми данными для модели. Выделен целевой признак как последний замер температуры. Разделены на features и target\n",
    "* Выбраны модели. Использованы и обучены регрессионные модели LinearRegression, CatBoostRegressor, LGBMRegressor.\n",
    "* Оценена эффективность моделей на тестовой выборке.\n",
    "* Была произведена проверка на адекватностью моделью DummyRegressor\n",
    "\n",
    "Лучшей моделью по метрике MAE = 6.21 стал LGBMRegressor, пройдена проверка на адекватность. Этот результат показывает, что в прогнозе температуры модель в среднем ошибается на 6 градусов. "
   ]
  },
  {
   "cell_type": "markdown",
   "metadata": {},
   "source": [
    "## Отчет"
   ]
  },
  {
   "cell_type": "markdown",
   "metadata": {},
   "source": [
    "Чтобы оптимизировать производственные расходы, металлургический комбинат ООО «Так закаляем сталь» решила уменьшить потребление электроэнергии на этапе обработки стали.\n",
    "\n",
    "Задачей проекта было построение модели, которая предскажет температуру стали с погрешностью не более 6.8 градусов.\n",
    "\n",
    "Все пункты плана были выполнены.\n",
    "\n",
    
    "В нашем распоряжении было 7 датасетов с информацией об электродах, подаче сыпучих материалов (объем и время), данные о проволочных материалах (объем и время), данные о продувке сплава газом и результаты измерения температуры.\n",
    "\n",
    "Определили корреляцию данных и выбрали признаки, у которых корреляция с целевым составила более 0.2: 'first_temp', 'active_power', 'Wire 1', 'Wire 2', 'Bulk 12', 'Bulk 15'. Данные были изучены, выявленные пропуски были заполнены нулями. Данные, содержащие информацию о дате и времени, были приведены к соответствующему типу. В качестве целевого признака было выбрано последнее измерение температуры стали. Следовательно, были исключены партии, в которых было только одно измерение температуры. Данные были сгруппированы по признаку key(партия).\n",
    "\n",
    "По результатам обучения, наилучший результат: 6.33 на кроссвалидации и 6.21 на тестовой выборке, показала модель LGBMRegressor. Гиперпараметры модели: \n",
    "* learning_rate: 0.05, \n",
    "* num_leaves: 11, \n",
    "* random_state: 160123\n",
    "\n",
    "В качестве проверки на адекватность была выбрала модель DummyRegressor. MAE константной модели 7.99, следовательно модель LGBMRegressor адекватна."
   ]
  }
 ],
 "metadata": {
  "ExecuteTimeLog": [
   {
    "duration": 1137,
    "start_time": "2023-01-24T10:42:53.936Z"
   },
   {
    "duration": 3,
    "start_time": "2023-01-24T10:42:55.135Z"
   },
   {
    "duration": 147,
    "start_time": "2023-01-24T10:42:55.418Z"
   },
   {
    "duration": 73,
    "start_time": "2023-01-24T10:47:47.029Z"
   },
   {
    "duration": 62,
    "start_time": "2023-01-24T17:44:26.055Z"
   },
   {
    "duration": 1250,
    "start_time": "2023-01-24T17:44:35.759Z"
   },
   {
    "duration": 4,
    "start_time": "2023-01-24T17:44:39.018Z"
   },
   {
    "duration": 50,
    "start_time": "2023-01-24T17:44:41.146Z"
   },
   {
    "duration": 168,
    "start_time": "2023-01-24T17:44:48.538Z"
   },
   {
    "duration": 234,
    "start_time": "2023-01-24T17:59:42.304Z"
   },
   {
    "duration": 1034,
    "start_time": "2023-01-24T18:06:32.339Z"
   },
   {
    "duration": 3,
    "start_time": "2023-01-24T18:06:33.375Z"
   },
   {
    "duration": 529,
    "start_time": "2023-01-24T18:06:33.379Z"
   },
   {
    "duration": 63,
    "start_time": "2023-01-24T18:06:33.910Z"
   },
   {
    "duration": 16,
    "start_time": "2023-01-24T18:06:33.975Z"
   },
   {
    "duration": 212,
    "start_time": "2023-01-24T18:06:33.992Z"
   },
   {
    "duration": 218,
    "start_time": "2023-01-24T18:06:34.205Z"
   },
   {
    "duration": 5,
    "start_time": "2023-01-24T18:06:34.425Z"
   },
   {
    "duration": 196,
    "start_time": "2023-01-24T18:06:34.443Z"
   },
   {
    "duration": 101,
    "start_time": "2023-01-24T18:06:34.643Z"
   },
   {
    "duration": 69,
    "start_time": "2023-01-24T18:06:34.746Z"
   },
   {
    "duration": 38,
    "start_time": "2023-01-24T18:06:34.817Z"
   },
   {
    "duration": 265,
    "start_time": "2023-01-24T18:06:34.856Z"
   },
   {
    "duration": 49,
    "start_time": "2023-01-24T18:06:35.123Z"
   },
   {
    "duration": 12,
    "start_time": "2023-01-24T18:06:35.173Z"
   },
   {
    "duration": 250,
    "start_time": "2023-01-24T18:06:35.186Z"
   },
   {
    "duration": 9,
    "start_time": "2023-01-24T18:06:35.438Z"
   },
   {
    "duration": 59,
    "start_time": "2023-01-24T18:06:35.448Z"
   },
   {
    "duration": 57,
    "start_time": "2023-01-24T18:06:35.509Z"
   },
   {
    "duration": 3,
    "start_time": "2023-01-28T14:30:14.670Z"
   },
   {
    "duration": 837,
    "start_time": "2023-01-28T14:30:14.675Z"
   },
   {
    "duration": 0,
    "start_time": "2023-01-28T14:30:15.514Z"
   },
   {
    "duration": 0,
    "start_time": "2023-01-28T14:30:15.516Z"
   },
   {
    "duration": 0,
    "start_time": "2023-01-28T14:30:15.518Z"
   },
   {
    "duration": 0,
    "start_time": "2023-01-28T14:30:15.520Z"
   },
   {
    "duration": 0,
    "start_time": "2023-01-28T14:30:15.521Z"
   },
   {
    "duration": 0,
    "start_time": "2023-01-28T14:30:15.522Z"
   },
   {
    "duration": 0,
    "start_time": "2023-01-28T14:30:15.541Z"
   },
   {
    "duration": 0,
    "start_time": "2023-01-28T14:30:15.543Z"
   },
   {
    "duration": 0,
    "start_time": "2023-01-28T14:30:15.544Z"
   },
   {
    "duration": 0,
    "start_time": "2023-01-28T14:30:15.545Z"
   },
   {
    "duration": 0,
    "start_time": "2023-01-28T14:30:15.547Z"
   },
   {
    "duration": 0,
    "start_time": "2023-01-28T14:30:15.549Z"
   },
   {
    "duration": 0,
    "start_time": "2023-01-28T14:30:15.550Z"
   },
   {
    "duration": 0,
    "start_time": "2023-01-28T14:30:15.551Z"
   },
   {
    "duration": 0,
    "start_time": "2023-01-28T14:30:15.553Z"
   },
   {
    "duration": 0,
    "start_time": "2023-01-28T14:30:15.554Z"
   },
   {
    "duration": 0,
    "start_time": "2023-01-28T14:30:15.556Z"
   },
   {
    "duration": 0,
    "start_time": "2023-01-28T14:30:15.557Z"
   },
   {
    "duration": 0,
    "start_time": "2023-01-28T14:30:15.559Z"
   },
   {
    "duration": 4267,
    "start_time": "2023-01-28T14:30:25.167Z"
   },
   {
    "duration": 3,
    "start_time": "2023-01-28T14:30:36.727Z"
   },
   {
    "duration": 1442,
    "start_time": "2023-01-28T14:30:36.733Z"
   },
   {
    "duration": 12,
    "start_time": "2023-01-28T14:30:38.179Z"
   },
   {
    "duration": 247,
    "start_time": "2023-01-28T14:30:38.193Z"
   },
   {
    "duration": 104,
    "start_time": "2023-01-28T14:30:38.444Z"
   },
   {
    "duration": 26,
    "start_time": "2023-01-28T14:30:38.560Z"
   },
   {
    "duration": 318,
    "start_time": "2023-01-28T14:30:38.589Z"
   },
   {
    "duration": 362,
    "start_time": "2023-01-28T14:30:38.909Z"
   },
   {
    "duration": 6,
    "start_time": "2023-01-28T14:30:39.274Z"
   },
   {
    "duration": 318,
    "start_time": "2023-01-28T14:30:39.282Z"
   },
   {
    "duration": 108,
    "start_time": "2023-01-28T14:30:39.602Z"
   },
   {
    "duration": 93,
    "start_time": "2023-01-28T14:30:39.712Z"
   },
   {
    "duration": 52,
    "start_time": "2023-01-28T14:30:39.807Z"
   },
   {
    "duration": 324,
    "start_time": "2023-01-28T14:30:39.862Z"
   },
   {
    "duration": 80,
    "start_time": "2023-01-28T14:30:40.188Z"
   },
   {
    "duration": 20,
    "start_time": "2023-01-28T14:30:40.270Z"
   },
   {
    "duration": 302,
    "start_time": "2023-01-28T14:30:40.292Z"
   },
   {
    "duration": 7,
    "start_time": "2023-01-28T14:30:40.596Z"
   },
   {
    "duration": 75,
    "start_time": "2023-01-28T14:30:40.605Z"
   },
   {
    "duration": 78,
    "start_time": "2023-01-28T14:30:40.682Z"
   },
   {
    "duration": 14,
    "start_time": "2023-01-28T14:30:40.762Z"
   },
   {
    "duration": 7,
    "start_time": "2023-01-28T14:30:54.451Z"
   },
   {
    "duration": 18,
    "start_time": "2023-01-28T14:30:57.368Z"
   },
   {
    "duration": 29,
    "start_time": "2023-01-28T14:31:01.495Z"
   },
   {
    "duration": 4,
    "start_time": "2023-01-28T14:31:12.879Z"
   },
   {
    "duration": 312,
    "start_time": "2023-01-28T14:31:13.281Z"
   },
   {
    "duration": 105,
    "start_time": "2023-01-28T14:31:36.990Z"
   },
   {
    "duration": 7,
    "start_time": "2023-01-28T14:31:58.521Z"
   },
   {
    "duration": 7,
    "start_time": "2023-01-28T14:31:59.116Z"
   },
   {
    "duration": 29,
    "start_time": "2023-01-28T14:32:02.594Z"
   },
   {
    "duration": 22,
    "start_time": "2023-01-28T14:32:07.703Z"
   },
   {
    "duration": 14,
    "start_time": "2023-01-28T14:32:10.631Z"
   },
   {
    "duration": 16,
    "start_time": "2023-01-28T14:32:15.027Z"
   },
   {
    "duration": 3,
    "start_time": "2023-01-28T14:34:41.523Z"
   },
   {
    "duration": 27,
    "start_time": "2023-01-28T14:34:42.466Z"
   },
   {
    "duration": 35,
    "start_time": "2023-01-28T14:37:25.525Z"
   },
   {
    "duration": 3,
    "start_time": "2023-01-29T20:00:34.276Z"
   },
   {
    "duration": 922,
    "start_time": "2023-01-29T20:00:34.281Z"
   },
   {
    "duration": 0,
    "start_time": "2023-01-29T20:00:35.205Z"
   },
   {
    "duration": 0,
    "start_time": "2023-01-29T20:00:35.206Z"
   },
   {
    "duration": 0,
    "start_time": "2023-01-29T20:00:35.207Z"
   },
   {
    "duration": 0,
    "start_time": "2023-01-29T20:00:35.209Z"
   },
   {
    "duration": 0,
    "start_time": "2023-01-29T20:00:35.210Z"
   },
   {
    "duration": 0,
    "start_time": "2023-01-29T20:00:35.211Z"
   },
   {
    "duration": 0,
    "start_time": "2023-01-29T20:00:35.212Z"
   },
   {
    "duration": 0,
    "start_time": "2023-01-29T20:00:35.213Z"
   },
   {
    "duration": 0,
    "start_time": "2023-01-29T20:00:35.214Z"
   },
   {
    "duration": 1,
    "start_time": "2023-01-29T20:00:35.215Z"
   },
   {
    "duration": 0,
    "start_time": "2023-01-29T20:00:35.237Z"
   },
   {
    "duration": 0,
    "start_time": "2023-01-29T20:00:35.239Z"
   },
   {
    "duration": 0,
    "start_time": "2023-01-29T20:00:35.241Z"
   },
   {
    "duration": 0,
    "start_time": "2023-01-29T20:00:35.242Z"
   },
   {
    "duration": 0,
    "start_time": "2023-01-29T20:00:35.244Z"
   },
   {
    "duration": 0,
    "start_time": "2023-01-29T20:00:35.246Z"
   },
   {
    "duration": 0,
    "start_time": "2023-01-29T20:00:35.247Z"
   },
   {
    "duration": 0,
    "start_time": "2023-01-29T20:00:35.250Z"
   },
   {
    "duration": 0,
    "start_time": "2023-01-29T20:00:35.251Z"
   },
   {
    "duration": 0,
    "start_time": "2023-01-29T20:00:35.252Z"
   },
   {
    "duration": 0,
    "start_time": "2023-01-29T20:00:35.253Z"
   },
   {
    "duration": 0,
    "start_time": "2023-01-29T20:00:35.255Z"
   },
   {
    "duration": 0,
    "start_time": "2023-01-29T20:00:35.256Z"
   },
   {
    "duration": 0,
    "start_time": "2023-01-29T20:00:35.257Z"
   },
   {
    "duration": 0,
    "start_time": "2023-01-29T20:00:35.258Z"
   },
   {
    "duration": 0,
    "start_time": "2023-01-29T20:00:35.259Z"
   },
   {
    "duration": 0,
    "start_time": "2023-01-29T20:00:35.260Z"
   },
   {
    "duration": 0,
    "start_time": "2023-01-29T20:00:35.261Z"
   },
   {
    "duration": 0,
    "start_time": "2023-01-29T20:00:35.263Z"
   },
   {
    "duration": 3724,
    "start_time": "2023-01-29T20:00:43.704Z"
   },
   {
    "duration": 1200,
    "start_time": "2023-01-29T20:00:48.291Z"
   },
   {
    "duration": 6,
    "start_time": "2023-01-29T20:00:49.492Z"
   },
   {
    "duration": 657,
    "start_time": "2023-01-29T20:00:49.500Z"
   },
   {
    "duration": 72,
    "start_time": "2023-01-29T20:00:50.160Z"
   },
   {
    "duration": 30,
    "start_time": "2023-01-29T20:00:50.233Z"
   },
   {
    "duration": 241,
    "start_time": "2023-01-29T20:00:50.265Z"
   },
   {
    "duration": 235,
    "start_time": "2023-01-29T20:00:50.508Z"
   },
   {
    "duration": 5,
    "start_time": "2023-01-29T20:00:50.745Z"
   },
   {
    "duration": 214,
    "start_time": "2023-01-29T20:00:50.752Z"
   },
   {
    "duration": 80,
    "start_time": "2023-01-29T20:00:51.230Z"
   },
   {
    "duration": 75,
    "start_time": "2023-01-29T20:00:51.714Z"
   },
   {
    "duration": 32,
    "start_time": "2023-01-29T20:00:52.282Z"
   },
   {
    "duration": 404,
    "start_time": "2023-01-29T20:00:52.316Z"
   },
   {
    "duration": 54,
    "start_time": "2023-01-29T20:00:52.722Z"
   },
   {
    "duration": 14,
    "start_time": "2023-01-29T20:00:52.778Z"
   },
   {
    "duration": 309,
    "start_time": "2023-01-29T20:00:52.794Z"
   },
   {
    "duration": 6,
    "start_time": "2023-01-29T20:00:53.105Z"
   },
   {
    "duration": 70,
    "start_time": "2023-01-29T20:00:53.113Z"
   },
   {
    "duration": 75,
    "start_time": "2023-01-29T20:00:53.185Z"
   },
   {
    "duration": 9,
    "start_time": "2023-01-29T20:00:54.331Z"
   },
   {
    "duration": 7,
    "start_time": "2023-01-29T20:00:54.769Z"
   },
   {
    "duration": 16,
    "start_time": "2023-01-29T20:00:55.384Z"
   },
   {
    "duration": 20,
    "start_time": "2023-01-29T20:00:55.633Z"
   },
   {
    "duration": 2,
    "start_time": "2023-01-29T20:00:56.268Z"
   },
   {
    "duration": 3,
    "start_time": "2023-01-29T20:00:56.524Z"
   },
   {
    "duration": 3,
    "start_time": "2023-01-29T20:00:58.282Z"
   },
   {
    "duration": 3,
    "start_time": "2023-01-29T20:00:58.449Z"
   },
   {
    "duration": 17,
    "start_time": "2023-01-29T20:00:58.617Z"
   },
   {
    "duration": 5,
    "start_time": "2023-01-29T20:00:58.784Z"
   },
   {
    "duration": 23,
    "start_time": "2023-01-29T20:00:58.952Z"
   },
   {
    "duration": 33,
    "start_time": "2023-01-29T20:01:06.748Z"
   },
   {
    "duration": 39,
    "start_time": "2023-01-29T20:01:45.059Z"
   },
   {
    "duration": 12,
    "start_time": "2023-01-29T20:01:48.786Z"
   },
   {
    "duration": 12,
    "start_time": "2023-01-29T20:01:50.011Z"
   },
   {
    "duration": 4,
    "start_time": "2023-01-29T20:01:53.229Z"
   },
   {
    "duration": 14,
    "start_time": "2023-01-29T20:01:54.120Z"
   },
   {
    "duration": 74,
    "start_time": "2023-01-29T20:02:18.169Z"
   },
   {
    "duration": 14,
    "start_time": "2023-01-29T20:02:23.399Z"
   },
   {
    "duration": 12,
    "start_time": "2023-01-29T20:02:27.259Z"
   },
   {
    "duration": 12,
    "start_time": "2023-01-29T20:02:34.204Z"
   },
   {
    "duration": 9,
    "start_time": "2023-01-29T20:03:22.127Z"
   },
   {
    "duration": 12,
    "start_time": "2023-01-29T20:03:22.706Z"
   },
   {
    "duration": 11774,
    "start_time": "2023-01-29T20:03:29.521Z"
   },
   {
    "duration": 2518,
    "start_time": "2023-01-29T20:03:43.494Z"
   }
  ],
  "kernelspec": {
   "display_name": "Python 3",
   "language": "python",
   "name": "python3"
  },
  "language_info": {
   "codemirror_mode": {
    "name": "ipython",
    "version": 3
   },
   "file_extension": ".py",
   "mimetype": "text/x-python",
   "name": "python",
   "nbconvert_exporter": "python",
   "pygments_lexer": "ipython3",
   "version": "3.8.5"
  },
  "toc": {
   "base_numbering": 1,
   "nav_menu": {},
   "number_sections": true,
   "sideBar": true,
   "skip_h1_title": true,
   "title_cell": "Table of Contents",
   "title_sidebar": "Contents",
   "toc_cell": false,
   "toc_position": {},
   "toc_section_display": true,
   "toc_window_display": false
  }
 },
 "nbformat": 4,
 "nbformat_minor": 2
}
